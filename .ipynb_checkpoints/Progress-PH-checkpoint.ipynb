{
 "metadata": {
  "name": "",
  "signature": "sha256:16bed7830a022334bb93cb5e522dfb5d727d09cd9eb2d0b8c04615e8f80bfe49"
 },
 "nbformat": 3,
 "nbformat_minor": 0,
 "worksheets": [
  {
   "cells": [
    {
     "cell_type": "markdown",
     "metadata": {},
     "source": [
      "##At first, we tried to use reviews from yelp to provide customized search result for yelp"
     ]
    },
    {
     "cell_type": "code",
     "collapsed": false,
     "input": [
      "# -*- coding: utf-8 -*-\n",
      "\"\"\"\n",
      "Yelp API v2.0 code sample.\n",
      "\n",
      "This program demonstrates the capability of the Yelp API version 2.0\n",
      "by using the Search API to query for businesses by a search term and location,\n",
      "and the Business API to query additional information about the top result\n",
      "from the search query.\n",
      "\n",
      "Please refer to http://www.yelp.com/developers/documentation for the API documentation.\n",
      "\n",
      "This program requires the Python oauth2 library, which you can install via:\n",
      "`pip install -r requirements.txt`.\n",
      "\n",
      "Sample usage of the program:\n",
      "`python sample.py --term=\"bars\" --location=\"San Francisco, CA\"`\n",
      "\"\"\"\n",
      "import argparse\n",
      "import json\n",
      "import pprint\n",
      "import sys\n",
      "import urllib\n",
      "import urllib2\n",
      "\n",
      "import oauth2\n",
      "\n",
      "\n",
      "API_HOST = 'api.yelp.com'\n",
      "DEFAULT_TERM = 'dinner'\n",
      "DEFAULT_LOCATION = 'San Francisco, CA'\n",
      "SEARCH_LIMIT = 20\n",
      "SEARCH_PATH = '/v2/search/'\n",
      "BUSINESS_PATH = '/v2/business/'\n",
      "\n",
      "# OAuth credential placeholders that must be filled in by users.\n",
      "CONSUMER_KEY = 'K625KwhY6nRcnjhWC0pt9w'\n",
      "CONSUMER_SECRET = 'Cw3nMWhos4Kb9Vt7FvD3Ltv_SHY'\n",
      "TOKEN = 'YrjZ0Foyzup9jE5w7ZI1JIi6J8oKTSxK'\n",
      "TOKEN_SECRET = 'QNF5ac6HNiYVFmHWuxwC1QdoTtw'\n",
      "\n",
      "\n",
      "def request(host, path, url_params=None):\n",
      "    \"\"\"Prepares OAuth authentication and sends the request to the API.\n",
      "\n",
      "    Args:\n",
      "        host (str): The domain host of the API.\n",
      "        path (str): The path of the API after the domain.\n",
      "        url_params (dict): An optional set of query parameters in the request.\n",
      "\n",
      "    Returns:\n",
      "        dict: The JSON response from the request.\n",
      "\n",
      "    Raises:\n",
      "        urllib2.HTTPError: An error occurs from the HTTP request.\n",
      "    \"\"\"\n",
      "    url_params = url_params or {}\n",
      "    url = 'http://{0}{1}?'.format(host, path)\n",
      "\n",
      "    consumer = oauth2.Consumer(CONSUMER_KEY, CONSUMER_SECRET)\n",
      "    oauth_request = oauth2.Request(method=\"GET\", url=url, parameters=url_params)\n",
      "\n",
      "    oauth_request.update(\n",
      "        {\n",
      "            'oauth_nonce': oauth2.generate_nonce(),\n",
      "            'oauth_timestamp': oauth2.generate_timestamp(),\n",
      "            'oauth_token': TOKEN,\n",
      "            'oauth_consumer_key': CONSUMER_KEY\n",
      "        }\n",
      "    )\n",
      "    token = oauth2.Token(TOKEN, TOKEN_SECRET)\n",
      "    oauth_request.sign_request(oauth2.SignatureMethod_HMAC_SHA1(), consumer, token)\n",
      "    signed_url = oauth_request.to_url()\n",
      "    \n",
      "    print 'Querying {0} ...'.format(url)\n",
      "\n",
      "    conn = urllib2.urlopen(signed_url, None)\n",
      "    try:\n",
      "        response = json.loads(conn.read())\n",
      "    finally:\n",
      "        conn.close()\n",
      "\n",
      "    return response\n",
      "\n",
      "def search(term, location):\n",
      "    \"\"\"Query the Search API by a search term and location.\n",
      "\n",
      "    Args:\n",
      "        term (str): The search term passed to the API.\n",
      "        location (str): The search location passed to the API.\n",
      "\n",
      "    Returns:\n",
      "        dict: The JSON response from the request.\n",
      "    \"\"\"\n",
      "    \n",
      "    url_params = {\n",
      "        'term': term.replace(' ', '+'),\n",
      "        'location': location.replace(' ', '+'),\n",
      "        'limit': SEARCH_LIMIT,\n",
      "        'sort':1,\n",
      "        'category_filter':'dimsum'\n",
      "    }\n",
      "    return request(API_HOST, SEARCH_PATH, url_params=url_params)\n",
      "\n",
      "def get_business(business_id):\n",
      "    \"\"\"Query the Business API by a business ID.\n",
      "\n",
      "    Args:\n",
      "        business_id (str): The ID of the business to query.\n",
      "\n",
      "    Returns:\n",
      "        dict: The JSON response from the request.\n",
      "    \"\"\"\n",
      "    business_path = BUSINESS_PATH + business_id\n",
      "\n",
      "    return request(API_HOST, business_path)"
     ],
     "language": "python",
     "metadata": {},
     "outputs": [],
     "prompt_number": 2
    },
    {
     "cell_type": "code",
     "collapsed": false,
     "input": [
      "\n",
      "test = search('chinese food', '02138')"
     ],
     "language": "python",
     "metadata": {},
     "outputs": [
      {
       "output_type": "stream",
       "stream": "stdout",
       "text": [
        "Querying http://api.yelp.com/v2/search/? ...\n"
       ]
      }
     ],
     "prompt_number": 36
    },
    {
     "cell_type": "code",
     "collapsed": false,
     "input": [
      "for i in test['businesses']:\n",
      "    print i['id']"
     ],
     "language": "python",
     "metadata": {},
     "outputs": [
      {
       "output_type": "stream",
       "stream": "stdout",
       "text": [
        "shangri-la-belmont\n",
        "dim-sum-chef-boston\n",
        "lucky-dragon-arlington-2\n"
       ]
      }
     ],
     "prompt_number": 38
    },
    {
     "cell_type": "code",
     "collapsed": false,
     "input": [
      "get_business('shangri-la-belmont')['reviews']"
     ],
     "language": "python",
     "metadata": {},
     "outputs": [
      {
       "output_type": "stream",
       "stream": "stdout",
       "text": [
        "Querying http://api.yelp.com/v2/business/shangri-la-belmont? ...\n"
       ]
      },
      {
       "metadata": {},
       "output_type": "pyout",
       "prompt_number": 40,
       "text": [
        "[{u'excerpt': u'You were our once-a-week and every Christmas Day tradition.\\n\\nWhen we go back to Boston for two nights, we visit you each night.\\n\\nWe miss you. We miss you so...',\n",
        "  u'id': u'G9xrVxMVmurU_fTHhwewfw',\n",
        "  u'rating': 5,\n",
        "  u'rating_image_large_url': u'http://s3-media3.fl.yelpcdn.com/assets/2/www/img/22affc4e6c38/ico/stars/v1/stars_large_5.png',\n",
        "  u'rating_image_small_url': u'http://s3-media1.fl.yelpcdn.com/assets/2/www/img/c7623205d5cd/ico/stars/v1/stars_small_5.png',\n",
        "  u'rating_image_url': u'http://s3-media1.fl.yelpcdn.com/assets/2/www/img/f1def11e4e79/ico/stars/v1/stars_5.png',\n",
        "  u'time_created': 1409769524,\n",
        "  u'user': {u'id': u'O5ocU1PTV3vInyKbdbIyWg',\n",
        "   u'image_url': u'http://s3-media2.fl.yelpcdn.com/photo/WHqu4cT8ap-J8nM7sZ9GiQ/ms.jpg',\n",
        "   u'name': u'GJ N.'}}]"
       ]
      }
     ],
     "prompt_number": 40
    },
    {
     "cell_type": "markdown",
     "metadata": {},
     "source": [
      "##We switched to predict the box office of movies\n",
      "We can only get the first customer review from yelp API. It would be very hard to make predictions with such little information. So, we switched to predict the box office of movies"
     ]
    },
    {
     "cell_type": "markdown",
     "metadata": {},
     "source": [
      "###Test Rotten Tomatoes API\n",
      "In this part, we tried to load data from the Rotten Tomatoes API."
     ]
    },
    {
     "cell_type": "code",
     "collapsed": false,
     "input": [
      "import argparse\n",
      "import json\n",
      "import pprint\n",
      "import sys\n",
      "import urllib\n",
      "import urllib2\n",
      "import time\n",
      "import datetime\n",
      "import pandas as pd"
     ],
     "language": "python",
     "metadata": {},
     "outputs": [],
     "prompt_number": 1
    },
    {
     "cell_type": "code",
     "collapsed": false,
     "input": [
      "api_key = 'm7jmrcna938zje4rqefde4n7'\n",
      "\n",
      "url = 'http://api.rottentomatoes.com/api/public/v1.0/lists/movies.json?apikey=m7jmrcna938zje4rqefde4n7'\n",
      "data = urllib2.urlopen(url).read()"
     ],
     "language": "python",
     "metadata": {},
     "outputs": [],
     "prompt_number": 4
    },
    {
     "cell_type": "code",
     "collapsed": false,
     "input": [
      "dataDict = json.loads(data)"
     ],
     "language": "python",
     "metadata": {},
     "outputs": [],
     "prompt_number": 5
    },
    {
     "cell_type": "code",
     "collapsed": false,
     "input": [
      "dataDict"
     ],
     "language": "python",
     "metadata": {},
     "outputs": [
      {
       "metadata": {},
       "output_type": "pyout",
       "prompt_number": 6,
       "text": [
        "{u'links': {u'box_office': u'http://api.rottentomatoes.com/api/public/v1.0/lists/movies/box_office.json',\n",
        "  u'in_theaters': u'http://api.rottentomatoes.com/api/public/v1.0/lists/movies/in_theaters.json',\n",
        "  u'opening': u'http://api.rottentomatoes.com/api/public/v1.0/lists/movies/opening.json',\n",
        "  u'upcoming': u'http://api.rottentomatoes.com/api/public/v1.0/lists/movies/upcoming.json'}}"
       ]
      }
     ],
     "prompt_number": 6
    },
    {
     "cell_type": "code",
     "collapsed": false,
     "input": [
      "url = 'http://api.rottentomatoes.com/api/public/v1.0/movies/771108600.json?apikey=m7jmrcna938zje4rqefde4n7'\n",
      "data1 = json.loads(urllib2.urlopen(url).read())"
     ],
     "language": "python",
     "metadata": {},
     "outputs": [],
     "prompt_number": 7
    },
    {
     "cell_type": "code",
     "collapsed": false,
     "input": [
      "data1"
     ],
     "language": "python",
     "metadata": {},
     "outputs": [
      {
       "metadata": {},
       "output_type": "pyout",
       "prompt_number": 8,
       "text": [
        "{u'abridged_cast': [{u'characters': [u'Anka'],\n",
        "   u'id': u'770694608',\n",
        "   u'name': u'Dagmar Veskrnova'},\n",
        "  {u'characters': [u'Slama'], u'id': u'770778108', u'name': u'Ilja Prachar'},\n",
        "  {u'characters': [u'Manager'], u'id': u'770804971', u'name': u'Vit Olmer'},\n",
        "  {u'characters': [u'Rendl'], u'id': u'770695196', u'name': u'Josef Abrham'},\n",
        "  {u'characters': [u'Murasko'],\n",
        "   u'id': u'770778110',\n",
        "   u'name': u'Karel Augusta'}],\n",
        " u'genres': [u'Drama'],\n",
        " u'id': 771108600,\n",
        " u'links': {u'alternate': u'http://www.rottentomatoes.com/m/holka_na_zabiti/',\n",
        "  u'cast': u'http://api.rottentomatoes.com/api/public/v1.0/movies/771108600/cast.json',\n",
        "  u'reviews': u'http://api.rottentomatoes.com/api/public/v1.0/movies/771108600/reviews.json',\n",
        "  u'self': u'http://api.rottentomatoes.com/api/public/v1.0/movies/771108600.json',\n",
        "  u'similar': u'http://api.rottentomatoes.com/api/public/v1.0/movies/771108600/similar.json'},\n",
        " u'mpaa_rating': u'Unrated',\n",
        " u'posters': {u'detailed': u'http://d3biamo577v4eu.cloudfront.net/static/images/redesign/poster_default_thumb.gif',\n",
        "  u'original': u'http://d3biamo577v4eu.cloudfront.net/static/images/redesign/poster_default_thumb.gif',\n",
        "  u'profile': u'http://d3biamo577v4eu.cloudfront.net/static/images/redesign/poster_default_thumb.gif',\n",
        "  u'thumbnail': u'http://d3biamo577v4eu.cloudfront.net/static/images/redesign/poster_default_thumb.gif'},\n",
        " u'ratings': {u'audience_score': 0, u'critics_score': -1},\n",
        " u'release_dates': {},\n",
        " u'runtime': 97,\n",
        " u'synopsis': u'',\n",
        " u'title': u'Holka Na Zabiti',\n",
        " u'year': 1976}"
       ]
      }
     ],
     "prompt_number": 8
    },
    {
     "cell_type": "markdown",
     "metadata": {},
     "source": [
      "###Rotten Tomatoes API does not support search movies by year.\n",
      "We tried to query all possible movie IDs. However, it is not practical as most possible Hash codes of the movies are not valid movie IDs. The number of API calls needed to try all possible movie IDs exceeds far the API call limits."
     ]
    },
    {
     "cell_type": "code",
     "collapsed": false,
     "input": [
      "#Create the Movie table with rotten tomato data\n",
      "api_key = '.json?apikey=m7jmrcna938zje4rqefde4n7'\n",
      "moviesearch = 'http://api.rottentomatoes.com/api/public/v1.0/movies/'\n",
      "\n",
      "MovieList = list()\n",
      "\n",
      "for i in xrange(770600000, 771400000):\n",
      "    try:\n",
      "        url = api_key +str(i)+ moviesearch\n",
      "        data = urllib2.urlopen(url).read()\n",
      "        MovieList.append(json.loads(data))\n",
      "    except:\n",
      "        #print i"
     ],
     "language": "python",
     "metadata": {},
     "outputs": [
      {
       "ename": "IndentationError",
       "evalue": "expected an indented block (<ipython-input-10-c03940c84f75>, line 13)",
       "output_type": "pyerr",
       "traceback": [
        "\u001b[0;36m  File \u001b[0;32m\"<ipython-input-10-c03940c84f75>\"\u001b[0;36m, line \u001b[0;32m13\u001b[0m\n\u001b[0;31m    #print i\u001b[0m\n\u001b[0m            ^\u001b[0m\n\u001b[0;31mIndentationError\u001b[0m\u001b[0;31m:\u001b[0m expected an indented block\n"
       ]
      }
     ],
     "prompt_number": 10
    },
    {
     "cell_type": "code",
     "collapsed": false,
     "input": [
      "api_key = '.json?apikey=m7jmrcna938zje4rqefde4n7'\n",
      "moviesearch = 'http://api.rottentomatoes.com/api/public/v1.0/movies/'\n",
      "\n",
      "MovieList = list()\n",
      "i = 770700052\n",
      "url = moviesearch + str(i)+ api_key\n",
      "data = urllib2.urlopen(url).read()\n",
      "MovieList.append(json.loads(data))"
     ],
     "language": "python",
     "metadata": {},
     "outputs": []
    },
    {
     "cell_type": "code",
     "collapsed": false,
     "input": [
      "import time"
     ],
     "language": "python",
     "metadata": {},
     "outputs": []
    },
    {
     "cell_type": "code",
     "collapsed": false,
     "input": [
      "#Create the Movie table with rotten tomato data\n",
      "#Test all possible movie ID in a range\n",
      "api_key = '.json?apikey=m7jmrcna938zje4rqefde4n7'\n",
      "moviesearch = 'http://api.rottentomatoes.com/api/public/v1.0/movies/'\n",
      "\n",
      "MovieList = list()\n",
      "for i in xrange(770700000, 770700100):\n",
      "    time.sleep(0.5)\n",
      "    try:\n",
      "        url = moviesearch + str(i)+ api_key\n",
      "        data = urllib2.urlopen(url).read()\n",
      "        MovieList.append(json.loads(data))\n",
      "    except:\n",
      "        print i"
     ],
     "language": "python",
     "metadata": {},
     "outputs": [
      {
       "output_type": "stream",
       "stream": "stdout",
       "text": [
        "770700002\n",
        "770700006"
       ]
      },
      {
       "output_type": "stream",
       "stream": "stdout",
       "text": [
        "\n",
        "770700007"
       ]
      },
      {
       "output_type": "stream",
       "stream": "stdout",
       "text": [
        "\n",
        "770700008"
       ]
      },
      {
       "output_type": "stream",
       "stream": "stdout",
       "text": [
        "\n",
        "770700011"
       ]
      },
      {
       "output_type": "stream",
       "stream": "stdout",
       "text": [
        "\n",
        "770700012"
       ]
      },
      {
       "output_type": "stream",
       "stream": "stdout",
       "text": [
        "\n",
        "770700013"
       ]
      },
      {
       "output_type": "stream",
       "stream": "stdout",
       "text": [
        "\n",
        "770700014"
       ]
      },
      {
       "output_type": "stream",
       "stream": "stdout",
       "text": [
        "\n",
        "770700015"
       ]
      },
      {
       "output_type": "stream",
       "stream": "stdout",
       "text": [
        "\n",
        "770700016"
       ]
      },
      {
       "output_type": "stream",
       "stream": "stdout",
       "text": [
        "\n",
        "770700017"
       ]
      },
      {
       "output_type": "stream",
       "stream": "stdout",
       "text": [
        "\n",
        "770700018"
       ]
      },
      {
       "output_type": "stream",
       "stream": "stdout",
       "text": [
        "\n",
        "770700023"
       ]
      },
      {
       "output_type": "stream",
       "stream": "stdout",
       "text": [
        "\n",
        "770700025"
       ]
      },
      {
       "output_type": "stream",
       "stream": "stdout",
       "text": [
        "\n",
        "770700026"
       ]
      },
      {
       "output_type": "stream",
       "stream": "stdout",
       "text": [
        "\n",
        "770700029"
       ]
      },
      {
       "output_type": "stream",
       "stream": "stdout",
       "text": [
        "\n",
        "770700030"
       ]
      },
      {
       "output_type": "stream",
       "stream": "stdout",
       "text": [
        "\n",
        "770700032"
       ]
      },
      {
       "output_type": "stream",
       "stream": "stdout",
       "text": [
        "\n",
        "770700033"
       ]
      },
      {
       "output_type": "stream",
       "stream": "stdout",
       "text": [
        "\n",
        "770700035"
       ]
      },
      {
       "output_type": "stream",
       "stream": "stdout",
       "text": [
        "\n",
        "770700037"
       ]
      },
      {
       "output_type": "stream",
       "stream": "stdout",
       "text": [
        "\n",
        "770700038"
       ]
      },
      {
       "output_type": "stream",
       "stream": "stdout",
       "text": [
        "\n",
        "770700039"
       ]
      },
      {
       "output_type": "stream",
       "stream": "stdout",
       "text": [
        "\n",
        "770700040"
       ]
      },
      {
       "output_type": "stream",
       "stream": "stdout",
       "text": [
        "\n",
        "770700045"
       ]
      },
      {
       "output_type": "stream",
       "stream": "stdout",
       "text": [
        "\n",
        "770700046"
       ]
      },
      {
       "output_type": "stream",
       "stream": "stdout",
       "text": [
        "\n",
        "770700047"
       ]
      },
      {
       "output_type": "stream",
       "stream": "stdout",
       "text": [
        "\n",
        "770700049"
       ]
      },
      {
       "output_type": "stream",
       "stream": "stdout",
       "text": [
        "\n",
        "770700052"
       ]
      },
      {
       "output_type": "stream",
       "stream": "stdout",
       "text": [
        "\n",
        "770700054"
       ]
      },
      {
       "output_type": "stream",
       "stream": "stdout",
       "text": [
        "\n",
        "770700057"
       ]
      },
      {
       "output_type": "stream",
       "stream": "stdout",
       "text": [
        "\n",
        "770700058"
       ]
      },
      {
       "output_type": "stream",
       "stream": "stdout",
       "text": [
        "\n",
        "770700059"
       ]
      },
      {
       "output_type": "stream",
       "stream": "stdout",
       "text": [
        "\n",
        "770700064"
       ]
      },
      {
       "output_type": "stream",
       "stream": "stdout",
       "text": [
        "\n",
        "770700065"
       ]
      },
      {
       "output_type": "stream",
       "stream": "stdout",
       "text": [
        "\n",
        "770700068"
       ]
      },
      {
       "output_type": "stream",
       "stream": "stdout",
       "text": [
        "\n",
        "770700069"
       ]
      },
      {
       "output_type": "stream",
       "stream": "stdout",
       "text": [
        "\n",
        "770700071"
       ]
      },
      {
       "output_type": "stream",
       "stream": "stdout",
       "text": [
        "\n",
        "770700072"
       ]
      },
      {
       "output_type": "stream",
       "stream": "stdout",
       "text": [
        "\n",
        "770700073"
       ]
      },
      {
       "output_type": "stream",
       "stream": "stdout",
       "text": [
        "\n",
        "770700075"
       ]
      },
      {
       "output_type": "stream",
       "stream": "stdout",
       "text": [
        "\n",
        "770700076"
       ]
      },
      {
       "output_type": "stream",
       "stream": "stdout",
       "text": [
        "\n",
        "770700078"
       ]
      },
      {
       "output_type": "stream",
       "stream": "stdout",
       "text": [
        "\n",
        "770700081"
       ]
      },
      {
       "output_type": "stream",
       "stream": "stdout",
       "text": [
        "\n",
        "770700084"
       ]
      },
      {
       "output_type": "stream",
       "stream": "stdout",
       "text": [
        "\n",
        "770700085"
       ]
      },
      {
       "output_type": "stream",
       "stream": "stdout",
       "text": [
        "\n",
        "770700086"
       ]
      },
      {
       "output_type": "stream",
       "stream": "stdout",
       "text": [
        "\n",
        "770700088"
       ]
      },
      {
       "output_type": "stream",
       "stream": "stdout",
       "text": [
        "\n",
        "770700089"
       ]
      },
      {
       "output_type": "stream",
       "stream": "stdout",
       "text": [
        "\n",
        "770700092"
       ]
      },
      {
       "output_type": "stream",
       "stream": "stdout",
       "text": [
        "\n",
        "770700093"
       ]
      },
      {
       "output_type": "stream",
       "stream": "stdout",
       "text": [
        "\n",
        "770700094"
       ]
      },
      {
       "output_type": "stream",
       "stream": "stdout",
       "text": [
        "\n",
        "770700095"
       ]
      },
      {
       "output_type": "stream",
       "stream": "stdout",
       "text": [
        "\n"
       ]
      }
     ],
     "prompt_number": 68
    },
    {
     "cell_type": "markdown",
     "metadata": {},
     "source": [
      "###We decided to get movie names from TMDb.\n",
      "To get movies IDs of Rotten Tomatoes, we first queried movies by year in TMDb API. Then, we searched the movie names in Rotten Tomatoes to get movie IDs and the information related to each movie."
     ]
    },
    {
     "cell_type": "markdown",
     "metadata": {},
     "source": [
      "###Test TMDb API"
     ]
    },
    {
     "cell_type": "code",
     "collapsed": false,
     "input": [
      "#Test of getting movie names from TMDb\n",
      "API_key = 'd2189e753db5381d70ac0d51e45b19cc'\n",
      "url='http://api.themoviedb.org/3/discover/movie?language=en&page=1&sort_by=revenue.desc&primary_release_date.gte=1990-1-2&primary_release_date.lte=1990-2-1&api_key=d2189e753db5381d70ac0d51e45b19cc'\n",
      "data = urllib2.urlopen(url).read()"
     ],
     "language": "python",
     "metadata": {},
     "outputs": [],
     "prompt_number": 16
    },
    {
     "cell_type": "code",
     "collapsed": false,
     "input": [
      "data = json.loads(data)"
     ],
     "language": "python",
     "metadata": {},
     "outputs": [],
     "prompt_number": 17
    },
    {
     "cell_type": "code",
     "collapsed": false,
     "input": [
      "results = data['results']"
     ],
     "language": "python",
     "metadata": {},
     "outputs": [],
     "prompt_number": 18
    },
    {
     "cell_type": "code",
     "collapsed": false,
     "input": [
      "results"
     ],
     "language": "python",
     "metadata": {},
     "outputs": [
      {
       "metadata": {},
       "output_type": "pyout",
       "prompt_number": 19,
       "text": [
        "[{u'adult': False,\n",
        "  u'backdrop_path': u'/yUgmWnxcPYoonOQfrax5CfIYvDU.jpg',\n",
        "  u'id': 9362,\n",
        "  u'original_title': u'Tremors',\n",
        "  u'popularity': 0.442482617515942,\n",
        "  u'poster_path': u'/uaTHEpgS3tMPK5XY3f17RIrM07v.jpg',\n",
        "  u'release_date': u'1990-01-19',\n",
        "  u'title': u'Tremors',\n",
        "  u'vote_average': 6.4,\n",
        "  u'vote_count': 161},\n",
        " {u'adult': False,\n",
        "  u'backdrop_path': u'/dYmixsaPYrhM6Qxj9eQh87TFJdQ.jpg',\n",
        "  u'id': 22585,\n",
        "  u'original_title': u'Ski Patrol',\n",
        "  u'popularity': 1.09260673955982e-05,\n",
        "  u'poster_path': u'/xKrAqPLhhwCGG7ocjWuG2rpkBQa.jpg',\n",
        "  u'release_date': u'1990-01-12',\n",
        "  u'title': u'Ski Patrol',\n",
        "  u'vote_average': 7.8,\n",
        "  u'vote_count': 2},\n",
        " {u'adult': False,\n",
        "  u'backdrop_path': None,\n",
        "  u'id': 60778,\n",
        "  u'original_title': u'Downtown',\n",
        "  u'popularity': 0.0101879281281952,\n",
        "  u'poster_path': u'/68UiblfLyzb53eNQG03EYzJ9OCB.jpg',\n",
        "  u'release_date': u'1990-01-12',\n",
        "  u'title': u'Downtown',\n",
        "  u'vote_average': 0.0,\n",
        "  u'vote_count': 0},\n",
        " {u'adult': False,\n",
        "  u'backdrop_path': u'/2wPqy1Ay4WhKyPFNy9xQ1cetvgM.jpg',\n",
        "  u'id': 15736,\n",
        "  u'original_title': u'Der Todesking',\n",
        "  u'popularity': 0.000417493631814745,\n",
        "  u'poster_path': u'/bWdaljFL6xbpwj2YWtIRAhyAOy6.jpg',\n",
        "  u'release_date': u'1990-01-25',\n",
        "  u'title': u'Der Todesking',\n",
        "  u'vote_average': 0.0,\n",
        "  u'vote_count': 0},\n",
        " {u'adult': False,\n",
        "  u'backdrop_path': u'/2TD25Yv0lxpmi86IrHwBLfB20HS.jpg',\n",
        "  u'id': 30582,\n",
        "  u'original_title': u'GWAR: Live from Antarctica',\n",
        "  u'popularity': 7.60756220352085e-21,\n",
        "  u'poster_path': u'/a9PewZFw6zP9tiHfmvVvwsLE5YM.jpg',\n",
        "  u'release_date': u'1990-01-20',\n",
        "  u'title': u'GWAR: Live from Antarctica',\n",
        "  u'vote_average': 0.0,\n",
        "  u'vote_count': 0},\n",
        " {u'adult': False,\n",
        "  u'backdrop_path': u'/b4lMjWWhX5cbHDPpuNCvMPCvmBb.jpg',\n",
        "  u'id': 48747,\n",
        "  u'original_title': u'Jekyll & Hyde',\n",
        "  u'popularity': 0.000136071120357046,\n",
        "  u'poster_path': u'/jt6UM3tTKwFjcLKxXtkJtcsAwCP.jpg',\n",
        "  u'release_date': u'1990-01-06',\n",
        "  u'title': u'Jekyll & Hyde',\n",
        "  u'vote_average': 6.0,\n",
        "  u'vote_count': 1},\n",
        " {u'adult': False,\n",
        "  u'backdrop_path': None,\n",
        "  u'id': 51127,\n",
        "  u'original_title': u'Drug Wars: The Camarena Story',\n",
        "  u'popularity': 0.0615594096591446,\n",
        "  u'poster_path': u'/k9BnI6YvCHSyVg4SlD7qF3fO8mN.jpg',\n",
        "  u'release_date': u'1990-01-07',\n",
        "  u'title': u'Drug Wars: The Camarena Story',\n",
        "  u'vote_average': 6.5,\n",
        "  u'vote_count': 1},\n",
        " {u'adult': False,\n",
        "  u'backdrop_path': None,\n",
        "  u'id': 41816,\n",
        "  u'original_title': u'Everybody Wins',\n",
        "  u'popularity': 0.000257372001243071,\n",
        "  u'poster_path': u'/uBeOeJYjIGNVOxqjnT9TE4EdrdS.jpg',\n",
        "  u'release_date': u'1990-01-19',\n",
        "  u'title': u'Everybody Wins',\n",
        "  u'vote_average': 0.0,\n",
        "  u'vote_count': 0},\n",
        " {u'adult': False,\n",
        "  u'backdrop_path': None,\n",
        "  u'id': 41943,\n",
        "  u'original_title': u'The Plot Against Harry',\n",
        "  u'popularity': 1.11890941839411e-17,\n",
        "  u'poster_path': u'/zmFeDXfkNU3Ly1nqiXFJwwmbDsX.jpg',\n",
        "  u'release_date': u'1990-01-12',\n",
        "  u'title': u'The Plot Against Harry',\n",
        "  u'vote_average': 0.0,\n",
        "  u'vote_count': 0},\n",
        " {u'adult': False,\n",
        "  u'backdrop_path': None,\n",
        "  u'id': 67730,\n",
        "  u'original_title': u'Living Doll',\n",
        "  u'popularity': 1.04616923503903e-06,\n",
        "  u'poster_path': u'/95Sf0olQNQdQRmOi7tdcnmr5qPL.jpg',\n",
        "  u'release_date': u'1990-02-01',\n",
        "  u'title': u'Living Doll',\n",
        "  u'vote_average': 0.0,\n",
        "  u'vote_count': 0},\n",
        " {u'adult': False,\n",
        "  u'backdrop_path': u'/fJ0kQacETZEZ4dCIjmUFuOkuqGL.jpg',\n",
        "  u'id': 94470,\n",
        "  u'original_title': u'Tom et Lola',\n",
        "  u'popularity': 0.0239886600667415,\n",
        "  u'poster_path': u'/yn93KRwhQHJjwnTI84gIMEzj1cv.jpg',\n",
        "  u'release_date': u'1990-01-17',\n",
        "  u'title': u'Tom and Lola',\n",
        "  u'vote_average': 0.0,\n",
        "  u'vote_count': 0},\n",
        " {u'adult': False,\n",
        "  u'backdrop_path': None,\n",
        "  u'id': 108877,\n",
        "  u'original_title': u'Darkroom',\n",
        "  u'popularity': 7.87563111921776e-22,\n",
        "  u'poster_path': u'/sQ875B8ykRx0PingNtlFx5RbmFU.jpg',\n",
        "  u'release_date': u'1990-02-01',\n",
        "  u'title': u'Darkroom',\n",
        "  u'vote_average': 0.0,\n",
        "  u'vote_count': 0},\n",
        " {u'adult': False,\n",
        "  u'backdrop_path': None,\n",
        "  u'id': 160819,\n",
        "  u'original_title': u'El \\xfaltimo tranv\\xeda',\n",
        "  u'popularity': 5.35933877410259e-17,\n",
        "  u'poster_path': u'/kfdYHXpvFOQA7R2RALGgLKUZOyf.jpg',\n",
        "  u'release_date': u'1990-01-20',\n",
        "  u'title': u'El \\xfaltimo tranv\\xeda',\n",
        "  u'vote_average': 8.0,\n",
        "  u'vote_count': 1},\n",
        " {u'adult': False,\n",
        "  u'backdrop_path': None,\n",
        "  u'id': 158557,\n",
        "  u'original_title': u'Das Rattennest',\n",
        "  u'popularity': 1.6103407355225e-05,\n",
        "  u'poster_path': u'/alXlcktkU5r6Ql30qJxxcjoLoWz.jpg',\n",
        "  u'release_date': u'1990-01-23',\n",
        "  u'title': u\"A Father's Revenge\",\n",
        "  u'vote_average': 0.0,\n",
        "  u'vote_count': 0},\n",
        " {u'adult': False,\n",
        "  u'backdrop_path': u'/hSj3WlITP0vGm8DgPX4OAfgNjGC.jpg',\n",
        "  u'id': 239067,\n",
        "  u'original_title': u'Vita coi figli',\n",
        "  u'popularity': 0.158016178825722,\n",
        "  u'poster_path': u'/z9hpl478IWMdf35ZnayCqkDX69L.jpg',\n",
        "  u'release_date': u'1990-02-01',\n",
        "  u'title': u'Vita coi figli',\n",
        "  u'vote_average': 0.0,\n",
        "  u'vote_count': 0},\n",
        " {u'adult': False,\n",
        "  u'backdrop_path': None,\n",
        "  u'id': 119849,\n",
        "  u'original_title': u'Ninja Empire',\n",
        "  u'popularity': 4.8489583354886e-15,\n",
        "  u'poster_path': u'/mQwy72xJN3Ug41T7IEKBphIEltx.jpg',\n",
        "  u'release_date': u'1990-01-02',\n",
        "  u'title': u'Ninja Empire',\n",
        "  u'vote_average': 0.0,\n",
        "  u'vote_count': 0},\n",
        " {u'adult': False,\n",
        "  u'backdrop_path': u'/hOUVThyVe4BWvejAQj5YS6Xk708.jpg',\n",
        "  u'id': 166908,\n",
        "  u'original_title': u'Die Piefke-Saga - Teil 1: Der Skandal',\n",
        "  u'popularity': 2.77510197515742e-28,\n",
        "  u'poster_path': u'/uvv7iW4kNGHvtz6Pt1Q4M4Bygf6.jpg',\n",
        "  u'release_date': u'1990-01-31',\n",
        "  u'title': u'Die Piefke-Saga - Teil 1: Der Skandal',\n",
        "  u'vote_average': 9.0,\n",
        "  u'vote_count': 1},\n",
        " {u'adult': False,\n",
        "  u'backdrop_path': None,\n",
        "  u'id': 248133,\n",
        "  u'original_title': u'Ievas parad\\u012bzes d\\u0101rzs',\n",
        "  u'popularity': 5.01942714836541e-31,\n",
        "  u'poster_path': u'/xlYZIte9UGgrP5loG1ToAtFyx4w.jpg',\n",
        "  u'release_date': u'1990-01-04',\n",
        "  u'title': u'Ievas parad\\u012bzes d\\u0101rzs',\n",
        "  u'vote_average': 0.0,\n",
        "  u'vote_count': 0},\n",
        " {u'adult': False,\n",
        "  u'backdrop_path': None,\n",
        "  u'id': 278943,\n",
        "  u'original_title': u'The Great American Sex Scandal',\n",
        "  u'popularity': 1.29824413758604e-29,\n",
        "  u'poster_path': None,\n",
        "  u'release_date': u'1990-01-14',\n",
        "  u'title': u'The Great American Sex Scandal',\n",
        "  u'vote_average': 0.0,\n",
        "  u'vote_count': 0},\n",
        " {u'adult': False,\n",
        "  u'backdrop_path': None,\n",
        "  u'id': 284090,\n",
        "  u'original_title': u'Huang jin yu',\n",
        "  u'popularity': 3.0624500774588e-30,\n",
        "  u'poster_path': None,\n",
        "  u'release_date': u'1990-01-02',\n",
        "  u'title': u'Golden Shower',\n",
        "  u'vote_average': 0.0,\n",
        "  u'vote_count': 0}]"
       ]
      }
     ],
     "prompt_number": 19
    },
    {
     "cell_type": "code",
     "collapsed": false,
     "input": [
      "names = [i['title'] for i in results]"
     ],
     "language": "python",
     "metadata": {},
     "outputs": [],
     "prompt_number": 19
    },
    {
     "cell_type": "code",
     "collapsed": false,
     "input": [
      "url = \"http://api.rottentomatoes.com/api/public/v1.0/movies.json?apikey=m7jmrcna938zje4rqefde4n7&page_limit=2&q=Gravity\"\n",
      "data = urllib2.urlopen(url).read()\n",
      "json.loads(data)['movies'][1]['id']"
     ],
     "language": "python",
     "metadata": {},
     "outputs": [
      {
       "metadata": {},
       "output_type": "pyout",
       "prompt_number": 20,
       "text": [
        "u'770721075'"
       ]
      }
     ],
     "prompt_number": 20
    },
    {
     "cell_type": "code",
     "collapsed": false,
     "input": [
      "api_key = 'apikey=m7jmrcna938zje4rqefde4n7&page_limit=2&q='\n",
      "moviesearch = 'http://api.rottentomatoes.com/api/public/v1.0/movies.json?'\n",
      "MovieList = list()\n",
      "for i in names:\n",
      "    time.sleep(0.5)\n",
      "    name = i.replace(' ', '+')\n",
      "    name = name.replace('&', 'and')\n",
      "    url = moviesearch + api_key + name\n",
      "    data = urllib2.urlopen(url).read()\n",
      "    MovieList.append(json.loads(data)['movies'][0]['id'])"
     ],
     "language": "python",
     "metadata": {},
     "outputs": [],
     "prompt_number": 196
    },
    {
     "cell_type": "code",
     "collapsed": false,
     "input": [
      "url = \"http://api.rottentomatoes.com/api/public/v1.0/movies/770804147.json?apikey=m7jmrcna938zje4rqefde4n7\"\n",
      "data = urllib2.urlopen(url).read()\n",
      "json.loads(data)\n",
      "\n"
     ],
     "language": "python",
     "metadata": {},
     "outputs": [
      {
       "metadata": {},
       "output_type": "pyout",
       "prompt_number": 94,
       "text": [
        "{u'abridged_cast': [{u'characters': [u'Eli'],\n",
        "   u'id': u'162661439',\n",
        "   u'name': u'Denzel Washington'},\n",
        "  {u'characters': [u'Carnegie'], u'id': u'162652649', u'name': u'Gary Oldman'},\n",
        "  {u'characters': [u'Solara'], u'id': u'364629418', u'name': u'Mila Kunis'},\n",
        "  {u'characters': [u'Redridge'],\n",
        "   u'id': u'432539848',\n",
        "   u'name': u'Ray Stevenson'},\n",
        "  {u'characters': [u'Claudia'],\n",
        "   u'id': u'162657735',\n",
        "   u'name': u'Jennifer Beals'}],\n",
        " u'abridged_directors': [{u'name': u'Albert Hughes'},\n",
        "  {u'name': u'Allen Hughes'}],\n",
        " u'alternate_ids': {u'imdb': u'1037705'},\n",
        " u'critics_consensus': u'',\n",
        " u'genres': [u'Action & Adventure'],\n",
        " u'id': 770804147,\n",
        " u'links': {u'alternate': u'http://www.rottentomatoes.com/m/the_book_of_eli/',\n",
        "  u'cast': u'http://api.rottentomatoes.com/api/public/v1.0/movies/770804147/cast.json',\n",
        "  u'reviews': u'http://api.rottentomatoes.com/api/public/v1.0/movies/770804147/reviews.json',\n",
        "  u'self': u'http://api.rottentomatoes.com/api/public/v1.0/movies/770804147.json',\n",
        "  u'similar': u'http://api.rottentomatoes.com/api/public/v1.0/movies/770804147/similar.json'},\n",
        " u'mpaa_rating': u'R',\n",
        " u'posters': {u'detailed': u'http://content9.flixster.com/movie/11/16/67/11166719_tmb.jpg',\n",
        "  u'original': u'http://content9.flixster.com/movie/11/16/67/11166719_tmb.jpg',\n",
        "  u'profile': u'http://content9.flixster.com/movie/11/16/67/11166719_tmb.jpg',\n",
        "  u'thumbnail': u'http://content9.flixster.com/movie/11/16/67/11166719_tmb.jpg'},\n",
        " u'ratings': {u'audience_rating': u'Upright',\n",
        "  u'audience_score': 64,\n",
        "  u'critics_rating': u'Rotten',\n",
        "  u'critics_score': 48},\n",
        " u'release_dates': {u'dvd': u'2010-06-15', u'theater': u'2010-01-15'},\n",
        " u'runtime': 118,\n",
        " u'studio': u'Warner Bros. Pictures',\n",
        " u'synopsis': u'In a post-apocalyptic America where the once-picturesque countryside has become a desolate and violent wasteland, one man (Denzel Washington) fights to protect that sacred tome that could hold the key to the survival of the human race in this futuristic thriller from filmmaking duo Albert and Allen Hughes (From Hell and Dead Presidents). Gary Oldman, Mila Kunis, and Ray Stevenson co-star in the Warner Bros. production. ~ Jason Buchanan, Rovi',\n",
        " u'title': u'The Book of Eli',\n",
        " u'year': 2010}"
       ]
      }
     ],
     "prompt_number": 94
    },
    {
     "cell_type": "code",
     "collapsed": false,
     "input": [
      "api_key = 'm7jmrcna938zje4rqefde4n7'\n",
      "moviesearch = 'http://api.rottentomatoes.com/api/public/v1.0/movies.json&page_limit=1?apikey='\n",
      "query = '&page_limit=2&q='\n",
      "movieinfo = 'http://api.rottentomatoes.com/api/public/v1.0/movies/'\n",
      "movieinfo_key = '.json?apikey=' + api_key\n",
      "idx = 770816444\n",
      "url = movieinfo + str(idx) + movieinfo_key\n",
      "info = json.loads(urllib2.urlopen(url).read())\n",
      "info"
     ],
     "language": "python",
     "metadata": {},
     "outputs": []
    },
    {
     "cell_type": "markdown",
     "metadata": {},
     "source": [
      "#The following is the final version of data retrieval"
     ]
    },
    {
     "cell_type": "code",
     "collapsed": false,
     "input": [
      "import argparse\n",
      "import json\n",
      "import pprint\n",
      "import sys\n",
      "import urllib\n",
      "import urllib2\n",
      "import time\n",
      "import datetime\n",
      "import pandas as pd"
     ],
     "language": "python",
     "metadata": {},
     "outputs": [],
     "prompt_number": 1
    },
    {
     "cell_type": "code",
     "collapsed": false,
     "input": [
      "#Get movie names from TMDb\n",
      "API_key = 'd2189e753db5381d70ac0d51e45b19cc'\n",
      "def getUrl(startyear, startmonth, endyear, endmonth, page):\n",
      "    domain = 'http://api.themoviedb.org/3/discover/movie?language=en&page='+str(page)+'&sort_by=revenue.desc&primary_release_date.gte='\n",
      "    url = domain +str(startyear) + '-'+str(startmonth)+'-02&primary_release_date.lte='+str(endyear) + '-'+str(endmonth)+'-01&api_key='+API_key\n",
      "    return url\n",
      "\n",
      "names = []\n",
      "years = []\n",
      "for year in xrange(1990, 2014):\n",
      "    print year\n",
      "    for month in xrange(1, 13):\n",
      "        for page in xrange(1,4):\n",
      "            time.sleep(0.35)\n",
      "            if (month == 12):\n",
      "                url = getUrl(year, month, year+1, 1, page)\n",
      "            else:\n",
      "                url = getUrl(year, month, year, month+1, page)\n",
      "            data = json.loads(urllib2.urlopen(url).read())\n",
      "            results = data['results']\n",
      "            for i in results:\n",
      "                names.append(i['title'])\n",
      "                years.append((i['release_date']).split('-')[0])\n",
      "\n"
     ],
     "language": "python",
     "metadata": {},
     "outputs": [
      {
       "output_type": "stream",
       "stream": "stdout",
       "text": [
        "1990\n",
        "1991"
       ]
      },
      {
       "output_type": "stream",
       "stream": "stdout",
       "text": [
        "\n",
        "1992"
       ]
      },
      {
       "output_type": "stream",
       "stream": "stdout",
       "text": [
        "\n",
        "1993"
       ]
      },
      {
       "output_type": "stream",
       "stream": "stdout",
       "text": [
        "\n",
        "1994"
       ]
      },
      {
       "output_type": "stream",
       "stream": "stdout",
       "text": [
        "\n",
        "1995"
       ]
      },
      {
       "output_type": "stream",
       "stream": "stdout",
       "text": [
        "\n",
        "1996"
       ]
      },
      {
       "output_type": "stream",
       "stream": "stdout",
       "text": [
        "\n",
        "1997"
       ]
      },
      {
       "output_type": "stream",
       "stream": "stdout",
       "text": [
        "\n",
        "1998"
       ]
      },
      {
       "output_type": "stream",
       "stream": "stdout",
       "text": [
        "\n",
        "1999"
       ]
      },
      {
       "output_type": "stream",
       "stream": "stdout",
       "text": [
        "\n",
        "2000"
       ]
      },
      {
       "output_type": "stream",
       "stream": "stdout",
       "text": [
        "\n",
        "2001"
       ]
      },
      {
       "output_type": "stream",
       "stream": "stdout",
       "text": [
        "\n",
        "2002"
       ]
      },
      {
       "output_type": "stream",
       "stream": "stdout",
       "text": [
        "\n",
        "2003"
       ]
      },
      {
       "output_type": "stream",
       "stream": "stdout",
       "text": [
        "\n",
        "2004"
       ]
      },
      {
       "output_type": "stream",
       "stream": "stdout",
       "text": [
        "\n",
        "2005"
       ]
      },
      {
       "output_type": "stream",
       "stream": "stdout",
       "text": [
        "\n",
        "2006"
       ]
      },
      {
       "output_type": "stream",
       "stream": "stdout",
       "text": [
        "\n",
        "2007"
       ]
      },
      {
       "output_type": "stream",
       "stream": "stdout",
       "text": [
        "\n",
        "2008"
       ]
      },
      {
       "output_type": "stream",
       "stream": "stdout",
       "text": [
        "\n",
        "2009"
       ]
      },
      {
       "output_type": "stream",
       "stream": "stdout",
       "text": [
        "\n",
        "2010"
       ]
      },
      {
       "output_type": "stream",
       "stream": "stdout",
       "text": [
        "\n",
        "2011"
       ]
      },
      {
       "output_type": "stream",
       "stream": "stdout",
       "text": [
        "\n",
        "2012"
       ]
      },
      {
       "output_type": "stream",
       "stream": "stdout",
       "text": [
        "\n",
        "2013"
       ]
      },
      {
       "output_type": "stream",
       "stream": "stdout",
       "text": [
        "\n"
       ]
      }
     ],
     "prompt_number": 2
    },
    {
     "cell_type": "code",
     "collapsed": false,
     "input": [
      "#Store the information to a csv file for future use\n",
      "Movies = pd.DataFrame({'Name':names, 'Year':years})\n",
      "Movies = Movies.drop_duplicates()\n",
      "Movies.to_csv('Movies.csv', encoding='utf-8', index=False)"
     ],
     "language": "python",
     "metadata": {},
     "outputs": [],
     "prompt_number": 3
    },
    {
     "cell_type": "code",
     "collapsed": false,
     "input": [
      "#Scrape box office from boxofficemojo.com\n",
      "df = pd.DataFrame(columns=('Name', 'Year', 'BoxOffice'))\n",
      "\n",
      "for i in range(5): #range(movieData.shape[0]): #range(len(movieData[\"Name\"])):\n",
      "    if i%25 ==0:\n",
      "        print i\n",
      "    \n",
      "    name = movieData[\"Name\"][i]\n",
      "    year = movieData[\"Name\"][i]\n",
      "    \n",
      "    name = name.replace(\" \", \"+\")\n",
      "    name = name.replace(\"&\", \"and\")\n",
      "    url = \"http://boxofficemojo.com/search/?q=\" + name\n",
      "    try:\n",
      "        f = urllib.urlopen(url)\n",
      "    except:\n",
      "        pass\n",
      "    data = f.read()\n",
      "    ind0 = data.find(\"Movie Matches:\")\n",
      "    data = data[ind0:]\n",
      "    ind1 = data.find(\"/movies/?id=\")\n",
      "    data = data[ind1:]\n",
      "    ind2 = data.find('\">')\n",
      "    if data[12:ind2] != \"\":\n",
      "        url1 = \"http://boxofficemojo.com/movies/?id=\" + data[12:ind2] + \"&adjust_yr=2014&p=.htm\"\n",
      "        try:\n",
      "            f1 = urllib.urlopen(url1)\n",
      "        except:\n",
      "            pass\n",
      "        data = f1.read()\n",
      "        ind4 = data.find(\"Domestic Total Adj. Gross: \")\n",
      "        ind5 = data.find(\"</b>\", ind4)\n",
      "        boxOffice= data[ind4+31:ind5]\n",
      "        boxOffice = boxOffice.replace(\",\",\"\")\n",
      "        ind6 = data.find(\">Release Date:\")\n",
      "        ind7 = data.find(\"</a></nobr></b>\", ind6)\n",
      "        year = data[ind7-4:ind7]\n",
      "        try:\n",
      "            df.loc[i] = [movieData[\"Name\"][i], movieData[\"Year\"][i], int(boxOffice)]\n",
      "        except:\n",
      "            pass"
     ],
     "language": "python",
     "metadata": {},
     "outputs": [
      {
       "output_type": "stream",
       "stream": "stdout",
       "text": [
        "0\n"
       ]
      }
     ],
     "prompt_number": 9
    },
    {
     "cell_type": "code",
     "collapsed": false,
     "input": [
      "df"
     ],
     "language": "python",
     "metadata": {},
     "outputs": [
      {
       "html": [
        "<div style=\"max-height:1000px;max-width:1500px;overflow:auto;\">\n",
        "<table border=\"1\" class=\"dataframe\">\n",
        "  <thead>\n",
        "    <tr style=\"text-align: right;\">\n",
        "      <th></th>\n",
        "      <th>Name</th>\n",
        "      <th>Year</th>\n",
        "      <th>BoxOffice</th>\n",
        "    </tr>\n",
        "  </thead>\n",
        "  <tbody>\n",
        "    <tr>\n",
        "      <th>0</th>\n",
        "      <td>    Tremors</td>\n",
        "      <td> 1990</td>\n",
        "      <td> 31994500</td>\n",
        "    </tr>\n",
        "    <tr>\n",
        "      <th>1</th>\n",
        "      <td> Ski Patrol</td>\n",
        "      <td> 1990</td>\n",
        "      <td> 16382000</td>\n",
        "    </tr>\n",
        "    <tr>\n",
        "      <th>2</th>\n",
        "      <td>   Downtown</td>\n",
        "      <td> 1990</td>\n",
        "      <td>     5000</td>\n",
        "    </tr>\n",
        "  </tbody>\n",
        "</table>\n",
        "</div>"
       ],
       "metadata": {},
       "output_type": "pyout",
       "prompt_number": 10,
       "text": [
        "         Name  Year BoxOffice\n",
        "0     Tremors  1990  31994500\n",
        "1  Ski Patrol  1990  16382000\n",
        "2    Downtown  1990      5000"
       ]
      }
     ],
     "prompt_number": 10
    },
    {
     "cell_type": "code",
     "collapsed": false,
     "input": [
      "df.to_csv(\"MovieBoxOffice.csv\", encoding = 'utf-8', index = False)\n",
      "Movies = pd.read_csv('MovieBoxOffice.csv', encoding='utf-8')"
     ],
     "language": "python",
     "metadata": {},
     "outputs": [],
     "prompt_number": 4
    },
    {
     "cell_type": "code",
     "collapsed": false,
     "input": [
      "#Create the Movie table with rotten tomato data\n",
      "api_key = 'm7jmrcna938zje4rqefde4n7'\n",
      "moviesearch = 'http://api.rottentomatoes.com/api/public/v1.0/movies.json&page_limit=1?apikey='\n",
      "movieinfo = 'http://api.rottentomatoes.com/api/public/v1.0/movies/'\n",
      "movieinfo_key = '.json?apikey=' + api_key\n",
      "query = '&page_limit=2&q='\n",
      "movie_id =[]\n",
      "name = []\n",
      "cast = []\n",
      "release = []\n",
      "director = []\n",
      "genre = []\n",
      "critic_rating = []\n",
      "audience_rating = []\n",
      "review = []\n",
      "weblink = []\n",
      "\n",
      "\n",
      "for i in xrange(0, len(Movies['Name'])):\n",
      "    time.sleep(0.5)\n",
      "    newname = Movies['Name'][i].replace(' ', '+')\n",
      "    newname = newname.replace('&', 'and')\n",
      "    url = moviesearch + api_key + query + newname\n",
      "    data = json.loads(urllib2.urlopen(url).read())\n",
      "    to_add = -1\n",
      "    if (data['total'] >= 1):\n",
      "        if (data['movies'][0]['release_dates'] and ('theater' in data['movies'][0]['release_dates']) and\n",
      "            abs(int(data['movies'][0]['release_dates']['theater'].split('-')[0]) - int(Movies['Year'][i])) < 2):\n",
      "            movie_id.append(data['movies'][0]['id'])\n",
      "            to_add = 0\n",
      "        elif (data['total'] > 1):\n",
      "            if(data['movies'][1]['release_dates'] and ('theater' in data['movies'][1]['release_dates']) and\n",
      "               abs(int(data['movies'][1]['release_dates']['theater'].split('-')[0]) - int(Movies['Year'][i])) < 2):\n",
      "                movie_id.append(data['movies'][1]['id'])\n",
      "                to_add = 1\n",
      "        if (to_add != -1):\n",
      "            idx = movie_id[-1]\n",
      "            url = movieinfo + str(idx) + movieinfo_key\n",
      "            info = json.loads(urllib2.urlopen(url).read())\n",
      "            name.append(info['title'])\n",
      "            cast.append(info['abridged_cast'])\n",
      "            release.append(info['release_dates']['theater'])\n",
      "            director.append(info['abridged_directors'])\n",
      "            genre.append(info['genres'])\n",
      "            critic_rating.append(info['ratings']['critics_score'])\n",
      "            audience_rating.append(info['ratings']['audience_score'])\n",
      "            review.append(info['links']['reviews'])\n",
      "            weblink.append(info['links']['alternate'])\n",
      "            \n",
      "            "
     ],
     "language": "python",
     "metadata": {},
     "outputs": []
    },
    {
     "cell_type": "code",
     "collapsed": false,
     "input": [
      "MovieTable = pd.DataFrame({'ID':movie_id, 'Movie':name, 'Cast':cast, 'Release':release, 'Director':director, 'Genre':genre,\n",
      "             'Critic_rating':critic_rating, 'Audience_rating':audience_rating, 'Review':review, 'weblink':weblink})"
     ],
     "language": "python",
     "metadata": {},
     "outputs": []
    },
    {
     "cell_type": "markdown",
     "metadata": {},
     "source": [
      "#New Data Retrieval from TMDb"
     ]
    },
    {
     "cell_type": "code",
     "collapsed": false,
     "input": [
      "import argparse\n",
      "import json\n",
      "import pprint\n",
      "import sys\n",
      "import urllib\n",
      "import urllib2\n",
      "import time\n",
      "import datetime\n",
      "import pandas as pd"
     ],
     "language": "python",
     "metadata": {},
     "outputs": [],
     "prompt_number": 1
    },
    {
     "cell_type": "code",
     "collapsed": false,
     "input": [
      "#Get movie names from TMDb\n",
      "API_key = 'd2189e753db5381d70ac0d51e45b19cc'\n",
      "def getUrl(startyear, startmonth, endyear, endmonth, page):\n",
      "    domain = 'http://api.themoviedb.org/3/discover/movie?language=en&page='+str(page)+'&sort_by=revenue.desc&primary_release_date.gte='\n",
      "    url = domain +str(startyear) + '-'+str(startmonth)+'-02&primary_release_date.lte='+str(endyear) + '-'+str(endmonth)+'-01&api_key='+API_key\n",
      "    return url\n",
      "\n",
      "names = []\n",
      "years = []\n",
      "for year in xrange(1990, 2014):\n",
      "    print year\n",
      "    for month in xrange(1, 13):\n",
      "        for page in xrange(1,4):\n",
      "            time.sleep(0.35)\n",
      "            if (month == 12):\n",
      "                url = getUrl(year, month, year+1, 1, page)\n",
      "            else:\n",
      "                url = getUrl(year, month, year, month+1, page)\n",
      "            data = json.loads(urllib2.urlopen(url).read())\n",
      "            results = data['results']\n",
      "            for i in results:\n",
      "                names.append(i['title'])\n",
      "                years.append((i['release_date']).split('-')[0])\n",
      "\n",
      "\n"
     ],
     "language": "python",
     "metadata": {},
     "outputs": []
    },
    {
     "cell_type": "code",
     "collapsed": false,
     "input": [
      "#Store the information to a csv file for future use\n",
      "Movies = pd.DataFrame({'Name':names, 'Year':years})\n",
      "Movies = Movies.drop_duplicates()\n",
      "Movies.to_csv('Movies.csv', encoding='utf-8', index=False)"
     ],
     "language": "python",
     "metadata": {},
     "outputs": []
    },
    {
     "cell_type": "code",
     "collapsed": false,
     "input": [
      "#Create the Movie table with rotten tomato data\n",
      "Movies = pd.read_csv('Movies.csv', encoding='utf-8')\n",
      "\n",
      "api_key = 'm7jmrcna938zje4rqefde4n7'\n",
      "moviesearch = 'http://api.rottentomatoes.com/api/public/v1.0/movies.json&page_limit=1?apikey='\n",
      "movieinfo = 'http://api.rottentomatoes.com/api/public/v1.0/movies/'\n",
      "movieinfo_key = '.json?apikey=' + api_key\n",
      "query = '&page_limit=2&q='\n",
      "movie_id =[]\n",
      "imdb_id = []\n",
      "name = []\n",
      "cast = []\n",
      "release = []\n",
      "director = []\n",
      "genre = []\n",
      "critic_rating = []\n",
      "audience_rating = []\n",
      "review = []\n",
      "weblink = []\n",
      "\n",
      "for i in xrange(len(Movies['Name'])):\n",
      "    time.sleep(0.5)\n",
      "    if (i%500 == 0):\n",
      "        print i\n",
      "    newname = Movies['Name'][i].replace(' ', '+')\n",
      "    newname = newname.replace('&', 'and')\n",
      "    url = moviesearch + api_key + query + newname\n",
      "    try:\n",
      "        data = json.loads(urllib2.urlopen(url).read())\n",
      "    except:\n",
      "        pass\n",
      "    to_add = -1\n",
      "    if (data['total'] >= 1):\n",
      "        temp_id = 0\n",
      "        if (data['movies'][0]['release_dates'] and ('theater' in data['movies'][0]['release_dates']) and\n",
      "            abs(int(data['movies'][0]['release_dates']['theater'].split('-')[0]) - int(Movies['Year'][i])) < 2):\n",
      "            temp_id = data['movies'][0]['id']\n",
      "            to_add = 0\n",
      "        elif (data['total'] > 1):\n",
      "            if(data['movies'][1]['release_dates'] and ('theater' in data['movies'][1]['release_dates']) and\n",
      "               abs(int(data['movies'][1]['release_dates']['theater'].split('-')[0]) - int(Movies['Year'][i])) < 2):\n",
      "               temp_id = data['movies'][1]['id']\n",
      "               to_add = 1\n",
      "        if (to_add != -1):\n",
      "            idx = temp_id\n",
      "            url = movieinfo + str(idx) + movieinfo_key\n",
      "            info = json.loads(urllib2.urlopen(url).read())\n",
      "            try:\n",
      "                temp_imdb_id = info['alternate_ids']['imdb']\n",
      "                temp_name = info['title']\n",
      "                temp_cast = info['abridged_cast']\n",
      "                temp_release = info['release_dates']['theater']\n",
      "                temp_director = info['abridged_directors']\n",
      "                temp_genre = info['genres']\n",
      "                temp_critic = info['ratings']['critics_score']\n",
      "                temp_andience = info['ratings']['audience_score']\n",
      "                temp_review = info['links']['reviews']\n",
      "                temp_weblink = info['links']['alternate']\n",
      "                movie_id.append(temp_id)\n",
      "                imdb_id.append(info['alternate_ids']['imdb'])\n",
      "                name.append(info['title'])\n",
      "                cast.append(info['abridged_cast'])\n",
      "                release.append(info['release_dates']['theater'])\n",
      "                director.append(info['abridged_directors'])\n",
      "                genre.append(info['genres'])\n",
      "                critic_rating.append(info['ratings']['critics_score'])\n",
      "                audience_rating.append(info['ratings']['audience_score'])\n",
      "                review.append(info['links']['reviews'])\n",
      "                weblink.append(info['links']['alternate'])\n",
      "            except:\n",
      "                pass\n",
      "            "
     ],
     "language": "python",
     "metadata": {},
     "outputs": [
      {
       "output_type": "stream",
       "stream": "stdout",
       "text": [
        "0\n",
        "10"
       ]
      },
      {
       "output_type": "stream",
       "stream": "stdout",
       "text": [
        "\n",
        "20"
       ]
      },
      {
       "output_type": "stream",
       "stream": "stdout",
       "text": [
        "\n",
        "30"
       ]
      },
      {
       "output_type": "stream",
       "stream": "stdout",
       "text": [
        "\n"
       ]
      },
      {
       "ename": "KeyboardInterrupt",
       "evalue": "",
       "output_type": "pyerr",
       "traceback": [
        "\u001b[0;31m---------------------------------------------------------------------------\u001b[0m\n\u001b[0;31mKeyboardInterrupt\u001b[0m                         Traceback (most recent call last)",
        "\u001b[0;32m<ipython-input-2-b66cb6757581>\u001b[0m in \u001b[0;36m<module>\u001b[0;34m()\u001b[0m\n\u001b[1;32m     20\u001b[0m \u001b[0;34m\u001b[0m\u001b[0m\n\u001b[1;32m     21\u001b[0m \u001b[0;32mfor\u001b[0m \u001b[0mi\u001b[0m \u001b[0;32min\u001b[0m \u001b[0mxrange\u001b[0m\u001b[0;34m(\u001b[0m\u001b[0mlen\u001b[0m\u001b[0;34m(\u001b[0m\u001b[0mMovies\u001b[0m\u001b[0;34m[\u001b[0m\u001b[0;34m'Name'\u001b[0m\u001b[0;34m]\u001b[0m\u001b[0;34m)\u001b[0m\u001b[0;34m)\u001b[0m\u001b[0;34m:\u001b[0m\u001b[0;34m\u001b[0m\u001b[0m\n\u001b[0;32m---> 22\u001b[0;31m     \u001b[0mtime\u001b[0m\u001b[0;34m.\u001b[0m\u001b[0msleep\u001b[0m\u001b[0;34m(\u001b[0m\u001b[0;36m0.5\u001b[0m\u001b[0;34m)\u001b[0m\u001b[0;34m\u001b[0m\u001b[0m\n\u001b[0m\u001b[1;32m     23\u001b[0m     \u001b[0;32mif\u001b[0m \u001b[0;34m(\u001b[0m\u001b[0mi\u001b[0m\u001b[0;34m%\u001b[0m\u001b[0;36m10\u001b[0m \u001b[0;34m==\u001b[0m \u001b[0;36m0\u001b[0m\u001b[0;34m)\u001b[0m\u001b[0;34m:\u001b[0m\u001b[0;34m\u001b[0m\u001b[0m\n\u001b[1;32m     24\u001b[0m         \u001b[0;32mprint\u001b[0m \u001b[0mi\u001b[0m\u001b[0;34m\u001b[0m\u001b[0m\n",
        "\u001b[0;31mKeyboardInterrupt\u001b[0m: "
       ]
      }
     ],
     "prompt_number": 2
    },
    {
     "cell_type": "code",
     "collapsed": false,
     "input": [
      "MovieTable = pd.DataFrame({'ID':movie_id, 'imdb':imdb_id, 'Movie':name, 'Cast':cast, 'Release':release, 'Director':director, 'Genre':genre,\n",
      "             'Critic_rating':critic_rating, 'Audience_rating':audience_rating, 'Review':review, 'weblink':weblink})"
     ],
     "language": "python",
     "metadata": {},
     "outputs": []
    },
    {
     "cell_type": "code",
     "collapsed": false,
     "input": [
      "MovieTable.to_csv(\"MovieTable.csv\", encoding = 'utf-8', index = False)\n",
      "MovieTable.to_pickle('MovieTable.pkl')"
     ],
     "language": "python",
     "metadata": {},
     "outputs": []
    },
    {
     "cell_type": "markdown",
     "metadata": {},
     "source": [
      "##Concatenate Data from TMDb"
     ]
    },
    {
     "cell_type": "code",
     "collapsed": false,
     "input": [
      "MovieTable1 = pd.read_pickle('MovieTable1.pkl')\n",
      "MovieTable2 = pd.read_pickle('MovieTable2.pkl')\n",
      "MovieTable3 = pd.read_pickle('MovieTable3.pkl')\n",
      "MovieTable4 = pd.read_pickle('MovieTable4.pkl')"
     ],
     "language": "python",
     "metadata": {},
     "outputs": [],
     "prompt_number": 153
    },
    {
     "cell_type": "code",
     "collapsed": false,
     "input": [
      "MovieTable = pd.concat([MovieTable1, MovieTable2, MovieTable3, MovieTable4], axis=0)\n",
      "MovieTable.reset_index(inplace=True, drop=True)"
     ],
     "language": "python",
     "metadata": {},
     "outputs": [],
     "prompt_number": 154
    },
    {
     "cell_type": "code",
     "collapsed": false,
     "input": [
      "MovieTable = MovieTable.drop_duplicates(subset=['ID'])\n",
      "MovieTable.reset_index(inplace=True, drop=True)\n",
      "MovieTable.to_csv(\"MovieTable.csv\", encoding = 'utf-8', index = False)\n",
      "MovieTable.to_pickle('MovieTable.pkl')"
     ],
     "language": "python",
     "metadata": {},
     "outputs": [],
     "prompt_number": 4
    },
    {
     "cell_type": "markdown",
     "metadata": {},
     "source": [
      "##Data Wrangling"
     ]
    },
    {
     "cell_type": "markdown",
     "metadata": {},
     "source": [
      "#### create ActorTable from MovieTable and delete movies without rating"
     ]
    },
    {
     "cell_type": "code",
     "collapsed": false,
     "input": [
      "MovieTable = pd.read_pickle('MovieTableBoxOffice.pkl')\n",
      "MovieTable = MovieTable.drop_duplicates(subset=['ID'])"
     ],
     "language": "python",
     "metadata": {},
     "outputs": [],
     "prompt_number": 43
    },
    {
     "cell_type": "code",
     "collapsed": false,
     "input": [
      "#delete movies without rating\n",
      "MovieTable = MovieTable[MovieTable.Critic_rating != -1]\n",
      "MovieTable.reset_index(inplace=True, drop=True)"
     ],
     "language": "python",
     "metadata": {},
     "outputs": [],
     "prompt_number": 44
    },
    {
     "cell_type": "code",
     "collapsed": false,
     "input": [
      "MovieTable.head()"
     ],
     "language": "python",
     "metadata": {},
     "outputs": [
      {
       "html": [
        "<div style=\"max-height:1000px;max-width:1500px;overflow:auto;\">\n",
        "<table border=\"1\" class=\"dataframe\">\n",
        "  <thead>\n",
        "    <tr style=\"text-align: right;\">\n",
        "      <th></th>\n",
        "      <th>Audience_rating</th>\n",
        "      <th>Cast</th>\n",
        "      <th>Critic_rating</th>\n",
        "      <th>Director</th>\n",
        "      <th>Genre</th>\n",
        "      <th>ID</th>\n",
        "      <th>Movie</th>\n",
        "      <th>Release</th>\n",
        "      <th>Review</th>\n",
        "      <th>imdb</th>\n",
        "      <th>weblink</th>\n",
        "      <th>BoxOffice</th>\n",
        "    </tr>\n",
        "  </thead>\n",
        "  <tbody>\n",
        "    <tr>\n",
        "      <th>0</th>\n",
        "      <td> 33</td>\n",
        "      <td> [{u'name': u'Kate Hodge', u'characters': [u'Mi...</td>\n",
        "      <td>  19</td>\n",
        "      <td>       [{u'name': u'Jeff Burr'}]</td>\n",
        "      <td>                                          [Horror]</td>\n",
        "      <td>  56788266</td>\n",
        "      <td> Leatherface: The Texas Chainsaw Massacre III</td>\n",
        "      <td> 1990-01-12</td>\n",
        "      <td> http://api.rottentomatoes.com/api/public/v1.0/...</td>\n",
        "      <td> 0099994</td>\n",
        "      <td> http://www.rottentomatoes.com/m/leatherface_th...</td>\n",
        "      <td>  1115025</td>\n",
        "    </tr>\n",
        "    <tr>\n",
        "      <th>1</th>\n",
        "      <td> 77</td>\n",
        "      <td> [{u'name': u'Michel Piccoli', u'characters': [...</td>\n",
        "      <td> 100</td>\n",
        "      <td>     [{u'name': u'Louis Malle'}]</td>\n",
        "      <td>               [Art House &amp; International, Comedy]</td>\n",
        "      <td> 335718171</td>\n",
        "      <td>                     May Fools (Milou En Mai)</td>\n",
        "      <td> 1989-01-01</td>\n",
        "      <td> http://api.rottentomatoes.com/api/public/v1.0/...</td>\n",
        "      <td> 0097884</td>\n",
        "      <td>        http://www.rottentomatoes.com/m/may_fools/</td>\n",
        "      <td>  1576702</td>\n",
        "    </tr>\n",
        "    <tr>\n",
        "      <th>2</th>\n",
        "      <td> 52</td>\n",
        "      <td> [{u'name': u'Rutger Hauer', u'characters': [u'...</td>\n",
        "      <td>  58</td>\n",
        "      <td>   [{u'name': u'Phillip Noyce'}]</td>\n",
        "      <td>                              [Action &amp; Adventure]</td>\n",
        "      <td>     14463</td>\n",
        "      <td>                                   Blind Fury</td>\n",
        "      <td> 1990-03-16</td>\n",
        "      <td> http://api.rottentomatoes.com/api/public/v1.0/...</td>\n",
        "      <td> 0096945</td>\n",
        "      <td>       http://www.rottentomatoes.com/m/blind_fury/</td>\n",
        "      <td>  2692037</td>\n",
        "    </tr>\n",
        "    <tr>\n",
        "      <th>3</th>\n",
        "      <td> 78</td>\n",
        "      <td> [{u'name': u'Arnold Schwarzenegger', u'charact...</td>\n",
        "      <td>  84</td>\n",
        "      <td>  [{u'name': u'Paul Verhoeven'}]</td>\n",
        "      <td> [Action &amp; Adventure, Mystery &amp; Suspense, Scien...</td>\n",
        "      <td>     16681</td>\n",
        "      <td>                                 Total Recall</td>\n",
        "      <td> 1990-06-01</td>\n",
        "      <td> http://api.rottentomatoes.com/api/public/v1.0/...</td>\n",
        "      <td> 0100802</td>\n",
        "      <td>     http://www.rottentomatoes.com/m/total_recall/</td>\n",
        "      <td>  8038759</td>\n",
        "    </tr>\n",
        "    <tr>\n",
        "      <th>4</th>\n",
        "      <td> 78</td>\n",
        "      <td> [{u'name': u'Lea Thomson', u'id': u'771516342'...</td>\n",
        "      <td>  73</td>\n",
        "      <td> [{u'name': u'Robert Zemeckis'}]</td>\n",
        "      <td> [Action &amp; Adventure, Science Fiction &amp; Fantasy...</td>\n",
        "      <td>     23534</td>\n",
        "      <td>                  Back to the Future Part III</td>\n",
        "      <td> 1990-05-25</td>\n",
        "      <td> http://api.rottentomatoes.com/api/public/v1.0/...</td>\n",
        "      <td> 0099088</td>\n",
        "      <td> http://www.rottentomatoes.com/m/back_to_the_fu...</td>\n",
        "      <td> 23703060</td>\n",
        "    </tr>\n",
        "  </tbody>\n",
        "</table>\n",
        "</div>"
       ],
       "metadata": {},
       "output_type": "pyout",
       "prompt_number": 45,
       "text": [
        "   Audience_rating                                               Cast  \\\n",
        "0               33  [{u'name': u'Kate Hodge', u'characters': [u'Mi...   \n",
        "1               77  [{u'name': u'Michel Piccoli', u'characters': [...   \n",
        "2               52  [{u'name': u'Rutger Hauer', u'characters': [u'...   \n",
        "3               78  [{u'name': u'Arnold Schwarzenegger', u'charact...   \n",
        "4               78  [{u'name': u'Lea Thomson', u'id': u'771516342'...   \n",
        "\n",
        "   Critic_rating                         Director  \\\n",
        "0             19        [{u'name': u'Jeff Burr'}]   \n",
        "1            100      [{u'name': u'Louis Malle'}]   \n",
        "2             58    [{u'name': u'Phillip Noyce'}]   \n",
        "3             84   [{u'name': u'Paul Verhoeven'}]   \n",
        "4             73  [{u'name': u'Robert Zemeckis'}]   \n",
        "\n",
        "                                               Genre         ID  \\\n",
        "0                                           [Horror]   56788266   \n",
        "1                [Art House & International, Comedy]  335718171   \n",
        "2                               [Action & Adventure]      14463   \n",
        "3  [Action & Adventure, Mystery & Suspense, Scien...      16681   \n",
        "4  [Action & Adventure, Science Fiction & Fantasy...      23534   \n",
        "\n",
        "                                          Movie     Release  \\\n",
        "0  Leatherface: The Texas Chainsaw Massacre III  1990-01-12   \n",
        "1                      May Fools (Milou En Mai)  1989-01-01   \n",
        "2                                    Blind Fury  1990-03-16   \n",
        "3                                  Total Recall  1990-06-01   \n",
        "4                   Back to the Future Part III  1990-05-25   \n",
        "\n",
        "                                              Review     imdb  \\\n",
        "0  http://api.rottentomatoes.com/api/public/v1.0/...  0099994   \n",
        "1  http://api.rottentomatoes.com/api/public/v1.0/...  0097884   \n",
        "2  http://api.rottentomatoes.com/api/public/v1.0/...  0096945   \n",
        "3  http://api.rottentomatoes.com/api/public/v1.0/...  0100802   \n",
        "4  http://api.rottentomatoes.com/api/public/v1.0/...  0099088   \n",
        "\n",
        "                                             weblink  BoxOffice  \n",
        "0  http://www.rottentomatoes.com/m/leatherface_th...    1115025  \n",
        "1         http://www.rottentomatoes.com/m/may_fools/    1576702  \n",
        "2        http://www.rottentomatoes.com/m/blind_fury/    2692037  \n",
        "3      http://www.rottentomatoes.com/m/total_recall/    8038759  \n",
        "4  http://www.rottentomatoes.com/m/back_to_the_fu...   23703060  "
       ]
      }
     ],
     "prompt_number": 45
    },
    {
     "cell_type": "code",
     "collapsed": false,
     "input": [
      "name = dict()\n",
      "movie = dict()\n",
      "critic_rating = dict()\n",
      "audience_rating = dict()\n",
      "genre = dict()\n",
      "boxoffice = dict()\n",
      "for i in range(len(MovieTable)):\n",
      "    for actor in MovieTable['Cast'][i]:\n",
      "        if actor['id'] in movie:\n",
      "            movie[actor['id']].append(MovieTable['ID'][i])\n",
      "            critic_rating[actor['id']].append(MovieTable.Critic_rating[i])\n",
      "            audience_rating[actor['id']].append(MovieTable.Audience_rating[i])\n",
      "            genre[actor['id']].append(MovieTable.Genre[i])\n",
      "            boxoffice[actor['id']].append(MovieTable.BoxOffice[i])\n",
      "        else:\n",
      "            name[actor['id']] = actor['name']\n",
      "            movie[actor['id']] = [MovieTable['ID'][i]]\n",
      "            critic_rating[actor['id']] = [MovieTable.Critic_rating[i]]\n",
      "            audience_rating[actor['id']] = [MovieTable.Audience_rating[i]]\n",
      "            genre[actor['id']] = [MovieTable.Genre[i]]\n",
      "            boxoffice[actor['id']]= [MovieTable.BoxOffice[i]]\n",
      "            "
     ],
     "language": "python",
     "metadata": {},
     "outputs": [],
     "prompt_number": 46
    },
    {
     "cell_type": "code",
     "collapsed": false,
     "input": [
      "ActorTable = pd.DataFrame([name, movie, critic_rating, audience_rating, genre, boxoffice]).transpose()\n",
      "ActorTable.reset_index(inplace=True)\n",
      "ActorTable.columns = ['ID', 'Name', 'Movie', 'Critic_rating', 'Audience_rating', 'Genre', 'Boxoffice']"
     ],
     "language": "python",
     "metadata": {},
     "outputs": [],
     "prompt_number": 47
    },
    {
     "cell_type": "code",
     "collapsed": false,
     "input": [
      "ActorTable.head()"
     ],
     "language": "python",
     "metadata": {},
     "outputs": [
      {
       "html": [
        "<div style=\"max-height:1000px;max-width:1500px;overflow:auto;\">\n",
        "<table border=\"1\" class=\"dataframe\">\n",
        "  <thead>\n",
        "    <tr style=\"text-align: right;\">\n",
        "      <th></th>\n",
        "      <th>ID</th>\n",
        "      <th>Name</th>\n",
        "      <th>Movie</th>\n",
        "      <th>Critic_rating</th>\n",
        "      <th>Audience_rating</th>\n",
        "      <th>Genre</th>\n",
        "      <th>Boxoffice</th>\n",
        "    </tr>\n",
        "  </thead>\n",
        "  <tbody>\n",
        "    <tr>\n",
        "      <th>0</th>\n",
        "      <td> 162652152</td>\n",
        "      <td>      Ewan McGregor</td>\n",
        "      <td> [16743, 14467, 13066, 14160, 15049, 12917, 136...</td>\n",
        "      <td> [89, 23, 56, 79, 55, 76, 62, 77, 80, 40, 27, 1...</td>\n",
        "      <td> [94, 48, 81, 75, 38, 88, 50, 89, 65, 64, 71, 3...</td>\n",
        "      <td> [[Drama, Comedy], [Drama, Horror, Mystery &amp; Su...</td>\n",
        "      <td> [16501785, 1154237, 1053788, 4595000, 12297, 1...</td>\n",
        "    </tr>\n",
        "    <tr>\n",
        "      <th>1</th>\n",
        "      <td> 162652153</td>\n",
        "      <td> Hayden Christensen</td>\n",
        "      <td>       [10701, 9, 770671663, 671922339, 770803979]</td>\n",
        "      <td>                              [91, 80, 23, 16, 28]</td>\n",
        "      <td>                              [79, 65, 54, 44, 62]</td>\n",
        "      <td> [[Drama], [Action &amp; Adventure, Science Fiction...</td>\n",
        "      <td> [2207975, 380262555, 14377198, 80170146, 57744...</td>\n",
        "    </tr>\n",
        "    <tr>\n",
        "      <th>2</th>\n",
        "      <td> 162652154</td>\n",
        "      <td>    Natalie Portman</td>\n",
        "      <td> [17094, 13143, 10366, 12635, 12850, 12870, 9, ...</td>\n",
        "      <td> [72, 78, 79, 64, 86, 68, 80, 73, 47, 37, 35, 8...</td>\n",
        "      <td> [95, 81, 75, 56, 88, 81, 65, 90, 61, 55, 37, 8...</td>\n",
        "      <td> [[Drama, Action &amp; Adventure, Mystery &amp; Suspens...</td>\n",
        "      <td> [19251002, 10597759, 101217900, 18653615, 2678...</td>\n",
        "    </tr>\n",
        "    <tr>\n",
        "      <th>3</th>\n",
        "      <td> 162652155</td>\n",
        "      <td>      Ian McDiarmid</td>\n",
        "      <td>                                               [9]</td>\n",
        "      <td>                                              [80]</td>\n",
        "      <td>                                              [65]</td>\n",
        "      <td> [[Action &amp; Adventure, Science Fiction &amp; Fantasy]]</td>\n",
        "      <td>                                       [380262555]</td>\n",
        "    </tr>\n",
        "    <tr>\n",
        "      <th>4</th>\n",
        "      <td> 162652156</td>\n",
        "      <td>  Samuel L. Jackson</td>\n",
        "      <td> [13863, 15057, 15786, 14170, 98812198, 13322, ...</td>\n",
        "      <td> [94, 68, 51, 83, 67, 67, 30, 80, 86, 73, 56, 3...</td>\n",
        "      <td> [96, 37, 83, 83, 86, 71, 68, 90, 85, 92, 38, 5...</td>\n",
        "      <td> [[Drama], [Drama, Action &amp; Adventure, Mystery ...</td>\n",
        "      <td> [44204134, 14942422, 100003359, 142356, 108706...</td>\n",
        "    </tr>\n",
        "  </tbody>\n",
        "</table>\n",
        "</div>"
       ],
       "metadata": {},
       "output_type": "pyout",
       "prompt_number": 48,
       "text": [
        "          ID                Name  \\\n",
        "0  162652152       Ewan McGregor   \n",
        "1  162652153  Hayden Christensen   \n",
        "2  162652154     Natalie Portman   \n",
        "3  162652155       Ian McDiarmid   \n",
        "4  162652156   Samuel L. Jackson   \n",
        "\n",
        "                                               Movie  \\\n",
        "0  [16743, 14467, 13066, 14160, 15049, 12917, 136...   \n",
        "1        [10701, 9, 770671663, 671922339, 770803979]   \n",
        "2  [17094, 13143, 10366, 12635, 12850, 12870, 9, ...   \n",
        "3                                                [9]   \n",
        "4  [13863, 15057, 15786, 14170, 98812198, 13322, ...   \n",
        "\n",
        "                                       Critic_rating  \\\n",
        "0  [89, 23, 56, 79, 55, 76, 62, 77, 80, 40, 27, 1...   \n",
        "1                               [91, 80, 23, 16, 28]   \n",
        "2  [72, 78, 79, 64, 86, 68, 80, 73, 47, 37, 35, 8...   \n",
        "3                                               [80]   \n",
        "4  [94, 68, 51, 83, 67, 67, 30, 80, 86, 73, 56, 3...   \n",
        "\n",
        "                                     Audience_rating  \\\n",
        "0  [94, 48, 81, 75, 38, 88, 50, 89, 65, 64, 71, 3...   \n",
        "1                               [79, 65, 54, 44, 62]   \n",
        "2  [95, 81, 75, 56, 88, 81, 65, 90, 61, 55, 37, 8...   \n",
        "3                                               [65]   \n",
        "4  [96, 37, 83, 83, 86, 71, 68, 90, 85, 92, 38, 5...   \n",
        "\n",
        "                                               Genre  \\\n",
        "0  [[Drama, Comedy], [Drama, Horror, Mystery & Su...   \n",
        "1  [[Drama], [Action & Adventure, Science Fiction...   \n",
        "2  [[Drama, Action & Adventure, Mystery & Suspens...   \n",
        "3  [[Action & Adventure, Science Fiction & Fantasy]]   \n",
        "4  [[Drama], [Drama, Action & Adventure, Mystery ...   \n",
        "\n",
        "                                           Boxoffice  \n",
        "0  [16501785, 1154237, 1053788, 4595000, 12297, 1...  \n",
        "1  [2207975, 380262555, 14377198, 80170146, 57744...  \n",
        "2  [19251002, 10597759, 101217900, 18653615, 2678...  \n",
        "3                                        [380262555]  \n",
        "4  [44204134, 14942422, 100003359, 142356, 108706...  "
       ]
      }
     ],
     "prompt_number": 48
    },
    {
     "cell_type": "code",
     "collapsed": false,
     "input": [
      "ActorTable.to_pickle('ActorTable.pkl')"
     ],
     "language": "python",
     "metadata": {},
     "outputs": [],
     "prompt_number": 49
    },
    {
     "cell_type": "markdown",
     "metadata": {},
     "source": [
      "#### delete actors that perform less than 6 times"
     ]
    },
    {
     "cell_type": "code",
     "collapsed": false,
     "input": [
      "todelete = []\n",
      "for i in xrange(len(ActorTable)):\n",
      "    if (len(ActorTable['Movie'][i]) < 6):\n",
      "        todelete.append((ActorTable['ID'][i], ActorTable['Movie'][i]))"
     ],
     "language": "python",
     "metadata": {},
     "outputs": [],
     "prompt_number": 50
    },
    {
     "cell_type": "code",
     "collapsed": false,
     "input": [
      "actorsdelete = []\n",
      "for i in todelete:\n",
      "    actorsdelete.append(i[0])"
     ],
     "language": "python",
     "metadata": {},
     "outputs": [],
     "prompt_number": 51
    },
    {
     "cell_type": "code",
     "collapsed": false,
     "input": [
      "NewMovieTable = MovieTable[:]\n",
      "for pair in todelete:\n",
      "    for movie in pair[1]:\n",
      "        cast = NewMovieTable[NewMovieTable['ID']==movie]['Cast'].iloc[0]\n",
      "        mark = -1\n",
      "        for i in range(len(cast)):\n",
      "            if cast[i]['id'] == pair[0]:\n",
      "                mark = i\n",
      "        del cast[mark]\n"
     ],
     "language": "python",
     "metadata": {},
     "outputs": [],
     "prompt_number": 52
    },
    {
     "cell_type": "code",
     "collapsed": false,
     "input": [
      "NewActorTable = pd.DataFrame()\n",
      "for i in xrange(len(ActorTable)):\n",
      "    if not (ActorTable.iloc[i]['ID'] in actorsdelete):\n",
      "        NewActorTable = pd.concat([pd.DataFrame(ActorTable.iloc[i]).transpose(), NewActorTable])"
     ],
     "language": "python",
     "metadata": {},
     "outputs": [],
     "prompt_number": 53
    },
    {
     "cell_type": "code",
     "collapsed": false,
     "input": [
      "NewActorTable.reset_index(inplace=True, drop = True)"
     ],
     "language": "python",
     "metadata": {},
     "outputs": [],
     "prompt_number": 54
    },
    {
     "cell_type": "code",
     "collapsed": false,
     "input": [
      "NewMovieTable.to_pickle('NewMovieTable.pkl')\n",
      "NewActorTable.to_pickle('NewActorTable.pkl')"
     ],
     "language": "python",
     "metadata": {},
     "outputs": [],
     "prompt_number": 55
    },
    {
     "cell_type": "markdown",
     "metadata": {},
     "source": [
      "#### check the consistency of NewMovieTable and NewActorTable"
     ]
    },
    {
     "cell_type": "code",
     "collapsed": false,
     "input": [
      "NewMovieTable = pd.read_pickle('NewMovieTable.pkl')\n",
      "NewActorTable = pd.read_pickle('NewActorTable.pkl')\n",
      "test = 0\n",
      "for i in xrange(len(NewActorTable)):\n",
      "    test = len(NewActorTable['Movie'][i]) + test\n",
      "test1 = 0\n",
      "for i in xrange(len(NewMovieTable)):\n",
      "    test1 = test1 + len(NewMovieTable['Cast'][i])\n",
      "print test==test1"
     ],
     "language": "python",
     "metadata": {},
     "outputs": [
      {
       "output_type": "stream",
       "stream": "stdout",
       "text": [
        "True\n"
       ]
      }
     ],
     "prompt_number": 58
    },
    {
     "cell_type": "code",
     "collapsed": false,
     "input": [
      "actors = []\n",
      "for i in xrange(len(NewMovieTable)):\n",
      "    for j in NewMovieTable['Cast'][i]:\n",
      "        actors.append(j['id'])"
     ],
     "language": "python",
     "metadata": {},
     "outputs": [],
     "prompt_number": 59
    },
    {
     "cell_type": "code",
     "collapsed": false,
     "input": [
      "len(pd.Series(actors).unique()) - len(NewActorTable)"
     ],
     "language": "python",
     "metadata": {},
     "outputs": [
      {
       "metadata": {},
       "output_type": "pyout",
       "prompt_number": 60,
       "text": [
        "0"
       ]
      }
     ],
     "prompt_number": 60
    },
    {
     "cell_type": "code",
     "collapsed": false,
     "input": [
      "movies = []\n",
      "for i in xrange(len(NewActorTable)):\n",
      "    for j in NewActorTable['Movie'][i]:\n",
      "        movies.append(j)"
     ],
     "language": "python",
     "metadata": {},
     "outputs": [],
     "prompt_number": 61
    },
    {
     "cell_type": "code",
     "collapsed": false,
     "input": [
      "test = 0\n",
      "for i in xrange(len(NewMovieTable)):\n",
      "    if len(NewMovieTable['Cast'][i])>0:\n",
      "        test = test +1\n",
      "len(pd.Series(movies).unique()) - test"
     ],
     "language": "python",
     "metadata": {},
     "outputs": [
      {
       "metadata": {},
       "output_type": "pyout",
       "prompt_number": 62,
       "text": [
        "0"
       ]
      }
     ],
     "prompt_number": 62
    },
    {
     "cell_type": "markdown",
     "metadata": {},
     "source": [
      "##Get \\# of followers and \\# of tweets from Twitter"
     ]
    },
    {
     "cell_type": "code",
     "collapsed": false,
     "input": [
      "import oauth2 as oauth\n",
      "import time\n",
      "\n",
      "MovieTable = pd.read_pickle('NewMovieTable.pkl')\n",
      "ActorTable = pd.read_pickle('NewActorTable.pkl')\n",
      "def oauth_req(url, key, secret, http_method=\"GET\", post_body=None, http_headers=None):\n",
      "    consumer = oauth.Consumer(key=CONSUMER_KEY, secret=CONSUMER_SECRET)\n",
      "    token = oauth.Token(key=key, secret=secret)\n",
      "    client = oauth.Client(consumer, token)\n",
      "    resp, content = client.request(url, method=http_method, body=urllib.urlencode({'q': post_body}))\n",
      "    return content\n",
      "CONSUMER_KEY = 'L96guHuxCIRxz0quUVCNkHYL7'\n",
      "CONSUMER_SECRET = 'kSHrrjByp6OyjQM0pFcYTlGE3olASilkIhkBbAuGebZPXGnBVB'\n",
      "access_token = '806213791-laNuZaMYzd54k9teiqQ8uOgBlP3XO8qxUBF1ebST'\n",
      "access_secret = 'rU1dp7KTreCXl02mckYVceX8iJmywcG9F95TBYOCzioYW'"
     ],
     "language": "python",
     "metadata": {},
     "outputs": [],
     "prompt_number": 191
    },
    {
     "cell_type": "code",
     "collapsed": false,
     "input": [
      "def get_url(name):\n",
      "    return 'https://api.twitter.com/1.1/users/search.json?q='+name"
     ],
     "language": "python",
     "metadata": {},
     "outputs": [],
     "prompt_number": 192
    },
    {
     "cell_type": "code",
     "collapsed": false,
     "input": [
      "oauth_req('https://api.twitter.com/1.1/users/search.json',\n",
      "          access_token, access_secret, post_body='twitter')"
     ],
     "language": "python",
     "metadata": {},
     "outputs": [
      {
       "metadata": {},
       "output_type": "pyout",
       "prompt_number": 193,
       "text": [
        "''"
       ]
      }
     ],
     "prompt_number": 193
    },
    {
     "cell_type": "code",
     "collapsed": false,
     "input": [
      "urllib.urlencode({'status': 'twitter api'})"
     ],
     "language": "python",
     "metadata": {},
     "outputs": [
      {
       "metadata": {},
       "output_type": "pyout",
       "prompt_number": 185,
       "text": [
        "'status=twitter+api'"
       ]
      }
     ],
     "prompt_number": 185
    },
    {
     "cell_type": "code",
     "collapsed": false,
     "input": [
      "tweets = dict()\n",
      "follower = dict()\n",
      "for i in xrange(5):\n",
      "    time.sleep(6)\n",
      "    newurl = get_url(ActorTable['Name'][i].replace(\" \", \"\")).encode('ascii', 'ignore')\n",
      "    result = json.loads(oauth_req(newurl,access_token, access_secret))\n",
      "    follower[ActorTable['ID'][i]] = result[0]['followers_count']\n",
      "    tweets[ActorTable['ID'][i]] = result[0]['statuses_count']\n",
      "    "
     ],
     "language": "python",
     "metadata": {},
     "outputs": [
      {
       "ename": "IndexError",
       "evalue": "list index out of range",
       "output_type": "pyerr",
       "traceback": [
        "\u001b[0;31m---------------------------------------------------------------------------\u001b[0m\n\u001b[0;31mIndexError\u001b[0m                                Traceback (most recent call last)",
        "\u001b[0;32m<ipython-input-170-b66dd843704f>\u001b[0m in \u001b[0;36m<module>\u001b[0;34m()\u001b[0m\n\u001b[1;32m      5\u001b[0m     \u001b[0mnewurl\u001b[0m \u001b[0;34m=\u001b[0m \u001b[0mget_url\u001b[0m\u001b[0;34m(\u001b[0m\u001b[0mActorTable\u001b[0m\u001b[0;34m[\u001b[0m\u001b[0;34m'Name'\u001b[0m\u001b[0;34m]\u001b[0m\u001b[0;34m[\u001b[0m\u001b[0mi\u001b[0m\u001b[0;34m]\u001b[0m\u001b[0;34m.\u001b[0m\u001b[0mreplace\u001b[0m\u001b[0;34m(\u001b[0m\u001b[0;34m\" \"\u001b[0m\u001b[0;34m,\u001b[0m \u001b[0;34m\"\"\u001b[0m\u001b[0;34m)\u001b[0m\u001b[0;34m)\u001b[0m\u001b[0;34m.\u001b[0m\u001b[0mencode\u001b[0m\u001b[0;34m(\u001b[0m\u001b[0;34m'ascii'\u001b[0m\u001b[0;34m,\u001b[0m \u001b[0;34m'ignore'\u001b[0m\u001b[0;34m)\u001b[0m\u001b[0;34m\u001b[0m\u001b[0m\n\u001b[1;32m      6\u001b[0m     \u001b[0mresult\u001b[0m \u001b[0;34m=\u001b[0m \u001b[0mjson\u001b[0m\u001b[0;34m.\u001b[0m\u001b[0mloads\u001b[0m\u001b[0;34m(\u001b[0m\u001b[0moauth_req\u001b[0m\u001b[0;34m(\u001b[0m\u001b[0mnewurl\u001b[0m\u001b[0;34m,\u001b[0m\u001b[0maccess_token\u001b[0m\u001b[0;34m,\u001b[0m \u001b[0maccess_secret\u001b[0m\u001b[0;34m)\u001b[0m\u001b[0;34m)\u001b[0m\u001b[0;34m\u001b[0m\u001b[0m\n\u001b[0;32m----> 7\u001b[0;31m     \u001b[0mfollower\u001b[0m\u001b[0;34m[\u001b[0m\u001b[0mActorTable\u001b[0m\u001b[0;34m[\u001b[0m\u001b[0;34m'ID'\u001b[0m\u001b[0;34m]\u001b[0m\u001b[0;34m[\u001b[0m\u001b[0mi\u001b[0m\u001b[0;34m]\u001b[0m\u001b[0;34m]\u001b[0m \u001b[0;34m=\u001b[0m \u001b[0mresult\u001b[0m\u001b[0;34m[\u001b[0m\u001b[0;36m0\u001b[0m\u001b[0;34m]\u001b[0m\u001b[0;34m[\u001b[0m\u001b[0;34m'followers_count'\u001b[0m\u001b[0;34m]\u001b[0m\u001b[0;34m\u001b[0m\u001b[0m\n\u001b[0m\u001b[1;32m      8\u001b[0m     \u001b[0mtweets\u001b[0m\u001b[0;34m[\u001b[0m\u001b[0mActorTable\u001b[0m\u001b[0;34m[\u001b[0m\u001b[0;34m'ID'\u001b[0m\u001b[0;34m]\u001b[0m\u001b[0;34m[\u001b[0m\u001b[0mi\u001b[0m\u001b[0;34m]\u001b[0m\u001b[0;34m]\u001b[0m \u001b[0;34m=\u001b[0m \u001b[0mresult\u001b[0m\u001b[0;34m[\u001b[0m\u001b[0;36m0\u001b[0m\u001b[0;34m]\u001b[0m\u001b[0;34m[\u001b[0m\u001b[0;34m'statuses_count'\u001b[0m\u001b[0;34m]\u001b[0m\u001b[0;34m\u001b[0m\u001b[0m\n\u001b[1;32m      9\u001b[0m \u001b[0;34m\u001b[0m\u001b[0m\n",
        "\u001b[0;31mIndexError\u001b[0m: list index out of range"
       ]
      }
     ],
     "prompt_number": 170
    },
    {
     "cell_type": "markdown",
     "metadata": {},
     "source": [
      "####The first method we tried does not work. We bump into issues in authentication. We switched to another package."
     ]
    },
    {
     "cell_type": "code",
     "collapsed": false,
     "input": [],
     "language": "python",
     "metadata": {},
     "outputs": [],
     "prompt_number": 363
    },
    {
     "cell_type": "code",
     "collapsed": false,
     "input": [],
     "language": "python",
     "metadata": {},
     "outputs": [],
     "prompt_number": 117
    },
    {
     "cell_type": "code",
     "collapsed": false,
     "input": [],
     "language": "python",
     "metadata": {},
     "outputs": [],
     "prompt_number": 118
    },
    {
     "cell_type": "code",
     "collapsed": false,
     "input": [],
     "language": "python",
     "metadata": {},
     "outputs": [],
     "prompt_number": 119
    },
    {
     "cell_type": "markdown",
     "metadata": {},
     "source": [
      "###Create DirectorTable from MovieTable"
     ]
    },
    {
     "cell_type": "code",
     "collapsed": false,
     "input": [
      "MovieTable = pd.read_pickle('NewMovieTable.pkl')\n",
      "movie = dict()\n",
      "critic_rating = dict()\n",
      "audience_rating = dict()\n",
      "genre = dict()\n",
      "boxoffice = dict()\n",
      "for i in xrange(len(MovieTable)):\n",
      "    for director in MovieTable.Director[i]:\n",
      "        name = director['name']\n",
      "        if name in movie:\n",
      "            movie[name].append(MovieTable.ID[i])\n",
      "            critic_rating[name].append(MovieTable.Critic_rating[i])\n",
      "            audience_rating[name].append(MovieTable.Audience_rating[i])\n",
      "            genre[name].append(MovieTable.Genre[i])\n",
      "            boxoffice[name].append(MovieTable.BoxOffice[i])\n",
      "        else:\n",
      "            movie[name] = [MovieTable.ID[i]]\n",
      "            critic_rating[name] = [MovieTable.Critic_rating[i]]\n",
      "            audience_rating[name] = [MovieTable.Audience_rating[i]]\n",
      "            genre[name] = [MovieTable.Genre[i]]\n",
      "            boxoffice[name]= [MovieTable.BoxOffice[i]]"
     ],
     "language": "python",
     "metadata": {},
     "outputs": [],
     "prompt_number": 63
    },
    {
     "cell_type": "code",
     "collapsed": false,
     "input": [
      "DirectorTable = pd.DataFrame([movie, critic_rating, audience_rating, genre, boxoffice]).transpose()\n",
      "DirectorTable.reset_index(inplace=True)\n",
      "DirectorTable.columns = ['Name', 'Movie', 'Critic_rating', 'Audience_rating', 'Genre', 'Boxoffice']"
     ],
     "language": "python",
     "metadata": {},
     "outputs": [],
     "prompt_number": 64
    },
    {
     "cell_type": "code",
     "collapsed": false,
     "input": [
      "DirectorTable.head()"
     ],
     "language": "python",
     "metadata": {},
     "outputs": [
      {
       "html": [
        "<div style=\"max-height:1000px;max-width:1500px;overflow:auto;\">\n",
        "<table border=\"1\" class=\"dataframe\">\n",
        "  <thead>\n",
        "    <tr style=\"text-align: right;\">\n",
        "      <th></th>\n",
        "      <th>Name</th>\n",
        "      <th>Movie</th>\n",
        "      <th>Critic_rating</th>\n",
        "      <th>Audience_rating</th>\n",
        "      <th>Genre</th>\n",
        "      <th>Boxoffice</th>\n",
        "    </tr>\n",
        "  </thead>\n",
        "  <tbody>\n",
        "    <tr>\n",
        "      <th>0</th>\n",
        "      <td> ?mile Gaudreault</td>\n",
        "      <td>                           [14090]</td>\n",
        "      <td>       [33]</td>\n",
        "      <td>         [66]</td>\n",
        "      <td>      [[Drama, Art House &amp; International, Comedy]]</td>\n",
        "      <td>                      [6239558]</td>\n",
        "    </tr>\n",
        "    <tr>\n",
        "      <th>1</th>\n",
        "      <td>       Aaron Katz</td>\n",
        "      <td>                       [770674188]</td>\n",
        "      <td>       [88]</td>\n",
        "      <td>         [63]</td>\n",
        "      <td>              [[Art House &amp; International, Drama]]</td>\n",
        "      <td>                        [15425]</td>\n",
        "    </tr>\n",
        "    <tr>\n",
        "      <th>2</th>\n",
        "      <td>     Aaron Norris</td>\n",
        "      <td>             [14138, 24492, 12828]</td>\n",
        "      <td> [0, 13, 0]</td>\n",
        "      <td> [40, 45, 36]</td>\n",
        "      <td> [[Action &amp; Adventure], [Action &amp; Adventure], [...</td>\n",
        "      <td>    [6154944, 4654288, 5093707]</td>\n",
        "    </tr>\n",
        "    <tr>\n",
        "      <th>3</th>\n",
        "      <td>       Aaron Rose</td>\n",
        "      <td>                       [770781990]</td>\n",
        "      <td>       [64]</td>\n",
        "      <td>         [69]</td>\n",
        "      <td> [[Documentary, Musical &amp; Performing Arts, Spec...</td>\n",
        "      <td>                        [56386]</td>\n",
        "    </tr>\n",
        "    <tr>\n",
        "      <th>4</th>\n",
        "      <td>    Aaron Seltzer</td>\n",
        "      <td> [770680135, 770768860, 771201458]</td>\n",
        "      <td>  [2, 1, 5]</td>\n",
        "      <td> [25, 19, 29]</td>\n",
        "      <td>                    [[Comedy], [Comedy], [Comedy]]</td>\n",
        "      <td> [38233676, 14190901, 36658108]</td>\n",
        "    </tr>\n",
        "  </tbody>\n",
        "</table>\n",
        "</div>"
       ],
       "metadata": {},
       "output_type": "pyout",
       "prompt_number": 65,
       "text": [
        "               Name                              Movie Critic_rating  \\\n",
        "0  ?mile Gaudreault                            [14090]          [33]   \n",
        "1        Aaron Katz                        [770674188]          [88]   \n",
        "2      Aaron Norris              [14138, 24492, 12828]    [0, 13, 0]   \n",
        "3        Aaron Rose                        [770781990]          [64]   \n",
        "4     Aaron Seltzer  [770680135, 770768860, 771201458]     [2, 1, 5]   \n",
        "\n",
        "  Audience_rating                                              Genre  \\\n",
        "0            [66]       [[Drama, Art House & International, Comedy]]   \n",
        "1            [63]               [[Art House & International, Drama]]   \n",
        "2    [40, 45, 36]  [[Action & Adventure], [Action & Adventure], [...   \n",
        "3            [69]  [[Documentary, Musical & Performing Arts, Spec...   \n",
        "4    [25, 19, 29]                     [[Comedy], [Comedy], [Comedy]]   \n",
        "\n",
        "                        Boxoffice  \n",
        "0                       [6239558]  \n",
        "1                         [15425]  \n",
        "2     [6154944, 4654288, 5093707]  \n",
        "3                         [56386]  \n",
        "4  [38233676, 14190901, 36658108]  "
       ]
      }
     ],
     "prompt_number": 65
    },
    {
     "cell_type": "code",
     "collapsed": false,
     "input": [
      "len(DirectorTable)"
     ],
     "language": "python",
     "metadata": {},
     "outputs": [
      {
       "metadata": {},
       "output_type": "pyout",
       "prompt_number": 66,
       "text": [
        "2344"
       ]
      }
     ],
     "prompt_number": 66
    },
    {
     "cell_type": "markdown",
     "metadata": {},
     "source": [
      "####remove directors with one movie. delete movies with no directors or no cast"
     ]
    },
    {
     "cell_type": "code",
     "collapsed": false,
     "input": [
      "todelete = []\n",
      "for i in xrange(len(DirectorTable)):\n",
      "    if (len(DirectorTable['Movie'][i]) < 2):\n",
      "        todelete.append((DirectorTable['Name'][i], DirectorTable['Movie'][i]))"
     ],
     "language": "python",
     "metadata": {},
     "outputs": [],
     "prompt_number": 67
    },
    {
     "cell_type": "code",
     "collapsed": false,
     "input": [
      "directorsdelete = []\n",
      "for i in todelete:\n",
      "    directorsdelete.append(i[0])"
     ],
     "language": "python",
     "metadata": {},
     "outputs": [],
     "prompt_number": 68
    },
    {
     "cell_type": "code",
     "collapsed": false,
     "input": [
      "NewMovieTable = MovieTable\n",
      "for pair in todelete:\n",
      "    for movie in pair[1]:\n",
      "        directors = NewMovieTable[NewMovieTable['ID']==movie]['Director'].iloc[0]\n",
      "        mark = -1\n",
      "        for i in range(len(directors)):\n",
      "            if directors[i]['name'] == pair[0]:\n",
      "                mark = i\n",
      "        del directors[mark]"
     ],
     "language": "python",
     "metadata": {},
     "outputs": [],
     "prompt_number": 69
    },
    {
     "cell_type": "code",
     "collapsed": false,
     "input": [
      "NewDirectorTable = pd.DataFrame()\n",
      "for i in xrange(len(DirectorTable)):\n",
      "    if not (DirectorTable.iloc[i]['Name'] in directorsdelete):\n",
      "        NewDirectorTable = pd.concat([pd.DataFrame(DirectorTable.iloc[i]).transpose(), NewDirectorTable])"
     ],
     "language": "python",
     "metadata": {},
     "outputs": [],
     "prompt_number": 70
    },
    {
     "cell_type": "code",
     "collapsed": false,
     "input": [
      "NewDirectorTable.reset_index(inplace=True, drop=True)"
     ],
     "language": "python",
     "metadata": {},
     "outputs": [],
     "prompt_number": 71
    },
    {
     "cell_type": "code",
     "collapsed": false,
     "input": [
      "#delete movies with no directors\n",
      "deleterow = []\n",
      "\n",
      "for i in xrange(len(NewMovieTable)):\n",
      "    if len(NewMovieTable.Director[i])==0 or len(NewMovieTable.Cast[i])==0:\n",
      "        deleterow.append(False)\n",
      "    else:\n",
      "        deleterow.append(True)\n",
      "NewMovieTable = NewMovieTable[pd.Series(deleterow)]\n",
      "NewMovieTable.reset_index(inplace=True, drop=True)"
     ],
     "language": "python",
     "metadata": {},
     "outputs": [],
     "prompt_number": 72
    },
    {
     "cell_type": "markdown",
     "metadata": {},
     "source": [
      "#### Delete movies without directors in ActorTable"
     ]
    },
    {
     "cell_type": "code",
     "collapsed": false,
     "input": [
      "NewActorTable = pd.read_pickle('NewActorTable.pkl')"
     ],
     "language": "python",
     "metadata": {},
     "outputs": [],
     "prompt_number": 73
    },
    {
     "cell_type": "code",
     "collapsed": false,
     "input": [
      "for movies in NewActorTable.Movie:\n",
      "    todelete = []\n",
      "    for i in range(len(movies)):\n",
      "        if movies[i] not in NewMovieTable.ID.values:\n",
      "            todelete.append(movies[i])\n",
      "    for i in todelete:\n",
      "        movies.remove(i)"
     ],
     "language": "python",
     "metadata": {},
     "outputs": [],
     "prompt_number": 74
    },
    {
     "cell_type": "code",
     "collapsed": false,
     "input": [
      "#No actors have 0 valid movies\n",
      "count = 0\n",
      "for i in range(len(NewActorTable)):\n",
      "    if len(NewActorTable.Movie[i])==0:\n",
      "        count = count + 1\n",
      "count"
     ],
     "language": "python",
     "metadata": {},
     "outputs": [
      {
       "metadata": {},
       "output_type": "pyout",
       "prompt_number": 75,
       "text": [
        "0"
       ]
      }
     ],
     "prompt_number": 75
    },
    {
     "cell_type": "code",
     "collapsed": false,
     "input": [
      "NewActorTable.head()"
     ],
     "language": "python",
     "metadata": {},
     "outputs": [
      {
       "html": [
        "<div style=\"max-height:1000px;max-width:1500px;overflow:auto;\">\n",
        "<table border=\"1\" class=\"dataframe\">\n",
        "  <thead>\n",
        "    <tr style=\"text-align: right;\">\n",
        "      <th></th>\n",
        "      <th>ID</th>\n",
        "      <th>Name</th>\n",
        "      <th>Movie</th>\n",
        "      <th>Critic_rating</th>\n",
        "      <th>Audience_rating</th>\n",
        "      <th>Genre</th>\n",
        "      <th>Boxoffice</th>\n",
        "    </tr>\n",
        "  </thead>\n",
        "  <tbody>\n",
        "    <tr>\n",
        "      <th>0</th>\n",
        "      <td> 771513497</td>\n",
        "      <td>            Madeline Stowe</td>\n",
        "      <td>               [14256, 13792, 15508, 16619, 12912]</td>\n",
        "      <td>                       [75, 40, 9, 88, 60, 22, 63]</td>\n",
        "      <td>                      [48, 37, 41, 88, 80, 46, 84]</td>\n",
        "      <td> [[Drama, Action &amp; Adventure, Mystery &amp; Suspens...</td>\n",
        "      <td> [26357000, 3038499, 15240435, 57141459, 395621...</td>\n",
        "    </tr>\n",
        "    <tr>\n",
        "      <th>1</th>\n",
        "      <td> 771495090</td>\n",
        "      <td>             Alison Janney</td>\n",
        "      <td> [13634, 10726, 12878, 11671, 9377, 460339382, ...</td>\n",
        "      <td>      [84, 36, 88, 81, 99, 91, 94, 76, 34, 36, 85]</td>\n",
        "      <td>      [83, 36, 93, 85, 86, 85, 88, 89, 32, 21, 84]</td>\n",
        "      <td> [[Drama], [Drama, Action &amp; Adventure, Romance,...</td>\n",
        "      <td> [7837632, 74329966, 130058047, 41675994, 33971...</td>\n",
        "    </tr>\n",
        "    <tr>\n",
        "      <th>2</th>\n",
        "      <td> 771410621</td>\n",
        "      <td>        Chloe Grace Moretz</td>\n",
        "      <td> [770801801, 770786150, 770805260, 771041418, 7...</td>\n",
        "      <td>                  [86, 76, 88, 33, 94, 37, 29, 49]</td>\n",
        "      <td>                  [84, 81, 76, 27, 78, 46, 59, 45]</td>\n",
        "      <td> [[Drama, Romance, Comedy], [Drama, Action &amp; Ad...</td>\n",
        "      <td> [32391374, 48043505, 12134420, 45282, 73820094...</td>\n",
        "    </tr>\n",
        "    <tr>\n",
        "      <th>3</th>\n",
        "      <td> 771395445</td>\n",
        "      <td>              Jim Caviezel</td>\n",
        "      <td>           [15744, 10754, 10119, 10118, 771269520]</td>\n",
        "      <td>          [79, 70, 40, 73, 49, 13, 37, 29, 37, 48]</td>\n",
        "      <td>          [80, 81, 78, 88, 80, 37, 45, 49, 44, 56]</td>\n",
        "      <td> [[Drama, Action &amp; Adventure], [Drama, Action &amp;...</td>\n",
        "      <td> [36385763, 44983704, 33508922, 54234062, 37078...</td>\n",
        "    </tr>\n",
        "    <tr>\n",
        "      <th>4</th>\n",
        "      <td> 770893686</td>\n",
        "      <td> Dwayne \"The Rock\" Johnson</td>\n",
        "      <td> [11549, 10616, 10644, 8839, 178779288, 2878651...</td>\n",
        "      <td> [41, 71, 25, 19, 36, 42, 28, 51, 43, 21, 43, 7...</td>\n",
        "      <td> [38, 67, 60, 34, 41, 81, 70, 67, 44, 40, 49, 8...</td>\n",
        "      <td> [[Action &amp; Adventure, Horror, Science Fiction ...</td>\n",
        "      <td> [90341670, 47592825, 45860039, 28031250, 27538...</td>\n",
        "    </tr>\n",
        "  </tbody>\n",
        "</table>\n",
        "</div>"
       ],
       "metadata": {},
       "output_type": "pyout",
       "prompt_number": 76,
       "text": [
        "          ID                       Name  \\\n",
        "0  771513497             Madeline Stowe   \n",
        "1  771495090              Alison Janney   \n",
        "2  771410621         Chloe Grace Moretz   \n",
        "3  771395445               Jim Caviezel   \n",
        "4  770893686  Dwayne \"The Rock\" Johnson   \n",
        "\n",
        "                                               Movie  \\\n",
        "0                [14256, 13792, 15508, 16619, 12912]   \n",
        "1  [13634, 10726, 12878, 11671, 9377, 460339382, ...   \n",
        "2  [770801801, 770786150, 770805260, 771041418, 7...   \n",
        "3            [15744, 10754, 10119, 10118, 771269520]   \n",
        "4  [11549, 10616, 10644, 8839, 178779288, 2878651...   \n",
        "\n",
        "                                       Critic_rating  \\\n",
        "0                        [75, 40, 9, 88, 60, 22, 63]   \n",
        "1       [84, 36, 88, 81, 99, 91, 94, 76, 34, 36, 85]   \n",
        "2                   [86, 76, 88, 33, 94, 37, 29, 49]   \n",
        "3           [79, 70, 40, 73, 49, 13, 37, 29, 37, 48]   \n",
        "4  [41, 71, 25, 19, 36, 42, 28, 51, 43, 21, 43, 7...   \n",
        "\n",
        "                                     Audience_rating  \\\n",
        "0                       [48, 37, 41, 88, 80, 46, 84]   \n",
        "1       [83, 36, 93, 85, 86, 85, 88, 89, 32, 21, 84]   \n",
        "2                   [84, 81, 76, 27, 78, 46, 59, 45]   \n",
        "3           [80, 81, 78, 88, 80, 37, 45, 49, 44, 56]   \n",
        "4  [38, 67, 60, 34, 41, 81, 70, 67, 44, 40, 49, 8...   \n",
        "\n",
        "                                               Genre  \\\n",
        "0  [[Drama, Action & Adventure, Mystery & Suspens...   \n",
        "1  [[Drama], [Drama, Action & Adventure, Romance,...   \n",
        "2  [[Drama, Romance, Comedy], [Drama, Action & Ad...   \n",
        "3  [[Drama, Action & Adventure], [Drama, Action &...   \n",
        "4  [[Action & Adventure, Horror, Science Fiction ...   \n",
        "\n",
        "                                           Boxoffice  \n",
        "0  [26357000, 3038499, 15240435, 57141459, 395621...  \n",
        "1  [7837632, 74329966, 130058047, 41675994, 33971...  \n",
        "2  [32391374, 48043505, 12134420, 45282, 73820094...  \n",
        "3  [36385763, 44983704, 33508922, 54234062, 37078...  \n",
        "4  [90341670, 47592825, 45860039, 28031250, 27538...  "
       ]
      }
     ],
     "prompt_number": 76
    },
    {
     "cell_type": "code",
     "collapsed": false,
     "input": [
      "for movies in NewDirectorTable.Movie:\n",
      "    todelete = []\n",
      "    for i in range(len(movies)):\n",
      "        if movies[i] not in NewMovieTable.ID.values:\n",
      "            todelete.append(movies[i])\n",
      "    for i in todelete:\n",
      "        movies.remove(i)"
     ],
     "language": "python",
     "metadata": {},
     "outputs": [],
     "prompt_number": 77
    },
    {
     "cell_type": "code",
     "collapsed": false,
     "input": [
      "todelete = []\n",
      "for i in range(len(NewDirectorTable)):\n",
      "    if len(NewDirectorTable.Movie[i])==0:\n",
      "        todelete.append(False)\n",
      "    else:\n",
      "        todelete.append(True)\n",
      "NewDirectorTable = NewDirectorTable[pd.Series(todelete)]"
     ],
     "language": "python",
     "metadata": {},
     "outputs": [],
     "prompt_number": 78
    },
    {
     "cell_type": "code",
     "collapsed": false,
     "input": [
      "print '# movies: '+ str(len(NewMovieTable))\n",
      "print '# actors: '+ str(len(NewActorTable))\n",
      "print '# directors: '+ str(len(NewDirectorTable))"
     ],
     "language": "python",
     "metadata": {},
     "outputs": [
      {
       "output_type": "stream",
       "stream": "stdout",
       "text": [
        "# movies: 1919\n",
        "# actors: 653\n",
        "# directors: 670\n"
       ]
      }
     ],
     "prompt_number": 80
    },
    {
     "cell_type": "code",
     "collapsed": false,
     "input": [
      "NewMovieTable.to_pickle('MovieTable_clean.pkl')\n",
      "NewDirectorTable.to_pickle('DirectorTable_clean.pkl')\n",
      "NewActorTable.to_pickle('ActorTable_clean.pkl')"
     ],
     "language": "python",
     "metadata": {},
     "outputs": [],
     "prompt_number": 81
    },
    {
     "cell_type": "markdown",
     "metadata": {},
     "source": [
      "#### Test the consistency of three tables"
     ]
    },
    {
     "cell_type": "code",
     "collapsed": false,
     "input": [
      "MovieTable = pd.read_pickle('MovieTable_clean.pkl')\n",
      "DirectorTable = pd.read_pickle('DirectorTable_clean.pkl')\n",
      "ActorTable = pd.read_pickle('ActorTable_clean.pkl')"
     ],
     "language": "python",
     "metadata": {},
     "outputs": [],
     "prompt_number": 17
    },
    {
     "cell_type": "code",
     "collapsed": false,
     "input": [
      "#check if the movie IDs are consistent\n",
      "def check_movie(MovieTable, DirectorTable, ActorTable):\n",
      "    movies1 = MovieTable.ID[:]\n",
      "    movies1 = movies1.unique()\n",
      "    movies2 = []\n",
      "    for movies in DirectorTable.Movie:\n",
      "        for movie in movies:\n",
      "            movies2.append(movie)\n",
      "    movies2 = pd.Series(movies2).unique()\n",
      "    movies3 = []\n",
      "    for movies in ActorTable.Movie:\n",
      "        for movie in movies:\n",
      "            movies3.append(movie)\n",
      "    movies3 = pd.Series(movies3).unique()\n",
      "    movies1.sort()\n",
      "    movies2.sort()\n",
      "    movies3.sort()\n",
      "    print (movies1 == movies2).all()\n",
      "    print (movies1 == movies3).all()\n",
      "check_movie(MovieTable, DirectorTable, ActorTable)"
     ],
     "language": "python",
     "metadata": {},
     "outputs": [
      {
       "output_type": "stream",
       "stream": "stdout",
       "text": [
        "True\n",
        "True\n"
       ]
      }
     ],
     "prompt_number": 18
    },
    {
     "cell_type": "code",
     "collapsed": false,
     "input": [
      "#check if Director names are consistent\n",
      "def check_dir(MovieTable, DirectorTable):\n",
      "    directors1 = DirectorTable.Name[:]\n",
      "    directors1 = directors1.unique()\n",
      "    directors2 = []\n",
      "    for directors in MovieTable.Director:\n",
      "        for director in directors:\n",
      "            directors2.append(director['name'])\n",
      "    directors2 = pd.Series(directors2).unique()\n",
      "    directors1.sort()\n",
      "    directors2.sort()\n",
      "    print (directors1 == directors2).all()\n",
      "check_dir(MovieTable, DirectorTable)"
     ],
     "language": "python",
     "metadata": {},
     "outputs": [
      {
       "output_type": "stream",
       "stream": "stdout",
       "text": [
        "True\n"
       ]
      }
     ],
     "prompt_number": 19
    },
    {
     "cell_type": "code",
     "collapsed": false,
     "input": [
      "#check if Actor names are consistent\n",
      "def check_actor(MovieTable, ActorTable):\n",
      "    actors1 = ActorTable.ID[:]\n",
      "    actors1 = actors1.unique()\n",
      "    actors2 = []\n",
      "    for actors in MovieTable.Cast:\n",
      "        for actor in actors:\n",
      "            actors2.append(actor['id'])\n",
      "    actors2 = pd.Series(actors2).unique()\n",
      "    actors1.sort()\n",
      "    actors2.sort()\n",
      "    print (actors1 == actors2).all()\n",
      "check_actor(MovieTable, ActorTable)"
     ],
     "language": "python",
     "metadata": {},
     "outputs": [
      {
       "output_type": "stream",
       "stream": "stdout",
       "text": [
        "True\n"
       ]
      }
     ],
     "prompt_number": 20
    },
    {
     "cell_type": "code",
     "collapsed": false,
     "input": [
      "#check if movie-actor pair number is consistent\n",
      "count1 = 0\n",
      "count2 = 0\n",
      "for i in MovieTable.Cast:\n",
      "    count1 = count1 + len(i)\n",
      "for i in ActorTable.Movie:\n",
      "    count2 = count2 + len(i)\n",
      "print count1 == count2"
     ],
     "language": "python",
     "metadata": {},
     "outputs": [
      {
       "output_type": "stream",
       "stream": "stdout",
       "text": [
        "True\n"
       ]
      }
     ],
     "prompt_number": 86
    },
    {
     "cell_type": "code",
     "collapsed": false,
     "input": [
      "#all genres in the database\n",
      "genre = []\n",
      "for i in MovieTable['Genre']:\n",
      "    for j in i:\n",
      "        genre.append(j)\n",
      "genre = pd.Series(genre).unique()\n",
      "genre"
     ],
     "language": "python",
     "metadata": {},
     "outputs": [
      {
       "metadata": {},
       "output_type": "pyout",
       "prompt_number": 87,
       "text": [
        "array([u'Action & Adventure', u'Mystery & Suspense',\n",
        "       u'Science Fiction & Fantasy', u'Comedy', u'Drama', u'Romance',\n",
        "       u'Western', u'Horror', u'Kids & Family', u'Cult Movies',\n",
        "       u'Art House & International', u'Special Interest', u'Classics',\n",
        "       u'Musical & Performing Arts', u'Documentary', u'Television',\n",
        "       u'Gay & Lesbian', u'Sports & Fitness', u'Animation',\n",
        "       u'Faith & Spirituality'], dtype=object)"
       ]
      }
     ],
     "prompt_number": 87
    },
    {
     "cell_type": "code",
     "collapsed": false,
     "input": [
      "NewMovieTable.sort(['BoxOffice'], ascending=[False]).head()"
     ],
     "language": "python",
     "metadata": {},
     "outputs": [
      {
       "html": [
        "<div style=\"max-height:1000px;max-width:1500px;overflow:auto;\">\n",
        "<table border=\"1\" class=\"dataframe\">\n",
        "  <thead>\n",
        "    <tr style=\"text-align: right;\">\n",
        "      <th></th>\n",
        "      <th>Audience_rating</th>\n",
        "      <th>Cast</th>\n",
        "      <th>Critic_rating</th>\n",
        "      <th>Director</th>\n",
        "      <th>Genre</th>\n",
        "      <th>ID</th>\n",
        "      <th>Movie</th>\n",
        "      <th>Release</th>\n",
        "      <th>Review</th>\n",
        "      <th>imdb</th>\n",
        "      <th>weblink</th>\n",
        "      <th>BoxOffice</th>\n",
        "    </tr>\n",
        "  </thead>\n",
        "  <tbody>\n",
        "    <tr>\n",
        "      <th>1524</th>\n",
        "      <td> 82</td>\n",
        "      <td> [{u'name': u'Zoe Saldana', u'characters': [u'N...</td>\n",
        "      <td> 83</td>\n",
        "      <td>     [{u'name': u'James Cameron'}]</td>\n",
        "      <td> [Action &amp; Adventure, Mystery &amp; Suspense, Scien...</td>\n",
        "      <td> 665118753</td>\n",
        "      <td>                Avatar</td>\n",
        "      <td> 2009-12-18</td>\n",
        "      <td> http://api.rottentomatoes.com/api/public/v1.0/...</td>\n",
        "      <td> 0499549</td>\n",
        "      <td>           http://www.rottentomatoes.com/m/avatar/</td>\n",
        "      <td> 760507625</td>\n",
        "    </tr>\n",
        "    <tr>\n",
        "      <th>1767</th>\n",
        "      <td> 91</td>\n",
        "      <td> [{u'name': u'Robert Downey Jr.', u'characters'...</td>\n",
        "      <td> 92</td>\n",
        "      <td>       [{u'name': u'Joss Whedon'}]</td>\n",
        "      <td>   [Action &amp; Adventure, Science Fiction &amp; Fantasy]</td>\n",
        "      <td> 770740154</td>\n",
        "      <td> Marvel's The Avengers</td>\n",
        "      <td> 2012-05-04</td>\n",
        "      <td> http://api.rottentomatoes.com/api/public/v1.0/...</td>\n",
        "      <td> 0848228</td>\n",
        "      <td> http://www.rottentomatoes.com/m/marvels_the_av...</td>\n",
        "      <td> 623357910</td>\n",
        "    </tr>\n",
        "    <tr>\n",
        "      <th>283 </th>\n",
        "      <td> 69</td>\n",
        "      <td> [{u'name': u'Leonardo DiCaprio', u'characters'...</td>\n",
        "      <td> 88</td>\n",
        "      <td>     [{u'name': u'James Cameron'}]</td>\n",
        "      <td>                                  [Drama, Romance]</td>\n",
        "      <td>     22494</td>\n",
        "      <td>               Titanic</td>\n",
        "      <td> 1997-12-19</td>\n",
        "      <td> http://api.rottentomatoes.com/api/public/v1.0/...</td>\n",
        "      <td> 0120338</td>\n",
        "      <td>          http://www.rottentomatoes.com/m/titanic/</td>\n",
        "      <td> 600779824</td>\n",
        "    </tr>\n",
        "    <tr>\n",
        "      <th>1370</th>\n",
        "      <td> 94</td>\n",
        "      <td> [{u'name': u'Christian Bale', u'characters': [...</td>\n",
        "      <td> 94</td>\n",
        "      <td> [{u'name': u'Christopher Nolan'}]</td>\n",
        "      <td> [Drama, Action &amp; Adventure, Science Fiction &amp; ...</td>\n",
        "      <td> 769959054</td>\n",
        "      <td>       The Dark Knight</td>\n",
        "      <td> 2008-07-18</td>\n",
        "      <td> http://api.rottentomatoes.com/api/public/v1.0/...</td>\n",
        "      <td> 0468569</td>\n",
        "      <td>  http://www.rottentomatoes.com/m/the_dark_knight/</td>\n",
        "      <td> 533345358</td>\n",
        "    </tr>\n",
        "    <tr>\n",
        "      <th>1778</th>\n",
        "      <td> 90</td>\n",
        "      <td> [{u'name': u'Christian Bale', u'characters': [...</td>\n",
        "      <td> 88</td>\n",
        "      <td> [{u'name': u'Christopher Nolan'}]</td>\n",
        "      <td>   [Drama, Action &amp; Adventure, Mystery &amp; Suspense]</td>\n",
        "      <td> 771041731</td>\n",
        "      <td> The Dark Knight Rises</td>\n",
        "      <td> 2012-07-20</td>\n",
        "      <td> http://api.rottentomatoes.com/api/public/v1.0/...</td>\n",
        "      <td> 1345836</td>\n",
        "      <td> http://www.rottentomatoes.com/m/the_dark_knigh...</td>\n",
        "      <td> 448139099</td>\n",
        "    </tr>\n",
        "  </tbody>\n",
        "</table>\n",
        "</div>"
       ],
       "metadata": {},
       "output_type": "pyout",
       "prompt_number": 91,
       "text": [
        "      Audience_rating                                               Cast  \\\n",
        "1524               82  [{u'name': u'Zoe Saldana', u'characters': [u'N...   \n",
        "1767               91  [{u'name': u'Robert Downey Jr.', u'characters'...   \n",
        "283                69  [{u'name': u'Leonardo DiCaprio', u'characters'...   \n",
        "1370               94  [{u'name': u'Christian Bale', u'characters': [...   \n",
        "1778               90  [{u'name': u'Christian Bale', u'characters': [...   \n",
        "\n",
        "      Critic_rating                           Director  \\\n",
        "1524             83      [{u'name': u'James Cameron'}]   \n",
        "1767             92        [{u'name': u'Joss Whedon'}]   \n",
        "283              88      [{u'name': u'James Cameron'}]   \n",
        "1370             94  [{u'name': u'Christopher Nolan'}]   \n",
        "1778             88  [{u'name': u'Christopher Nolan'}]   \n",
        "\n",
        "                                                  Genre         ID  \\\n",
        "1524  [Action & Adventure, Mystery & Suspense, Scien...  665118753   \n",
        "1767    [Action & Adventure, Science Fiction & Fantasy]  770740154   \n",
        "283                                    [Drama, Romance]      22494   \n",
        "1370  [Drama, Action & Adventure, Science Fiction & ...  769959054   \n",
        "1778    [Drama, Action & Adventure, Mystery & Suspense]  771041731   \n",
        "\n",
        "                      Movie     Release  \\\n",
        "1524                 Avatar  2009-12-18   \n",
        "1767  Marvel's The Avengers  2012-05-04   \n",
        "283                 Titanic  1997-12-19   \n",
        "1370        The Dark Knight  2008-07-18   \n",
        "1778  The Dark Knight Rises  2012-07-20   \n",
        "\n",
        "                                                 Review     imdb  \\\n",
        "1524  http://api.rottentomatoes.com/api/public/v1.0/...  0499549   \n",
        "1767  http://api.rottentomatoes.com/api/public/v1.0/...  0848228   \n",
        "283   http://api.rottentomatoes.com/api/public/v1.0/...  0120338   \n",
        "1370  http://api.rottentomatoes.com/api/public/v1.0/...  0468569   \n",
        "1778  http://api.rottentomatoes.com/api/public/v1.0/...  1345836   \n",
        "\n",
        "                                                weblink  BoxOffice  \n",
        "1524            http://www.rottentomatoes.com/m/avatar/  760507625  \n",
        "1767  http://www.rottentomatoes.com/m/marvels_the_av...  623357910  \n",
        "283            http://www.rottentomatoes.com/m/titanic/  600779824  \n",
        "1370   http://www.rottentomatoes.com/m/the_dark_knight/  533345358  \n",
        "1778  http://www.rottentomatoes.com/m/the_dark_knigh...  448139099  "
       ]
      }
     ],
     "prompt_number": 91
    },
    {
     "cell_type": "markdown",
     "metadata": {},
     "source": [
      "### Get # of followers from Twitter"
     ]
    },
    {
     "cell_type": "code",
     "collapsed": false,
     "input": [
      "from TwitterAPI import TwitterAPI\n",
      "CONSUMER_KEY = 'L96guHuxCIRxz0quUVCNkHYL7'\n",
      "CONSUMER_SECRET = 'kSHrrjByp6OyjQM0pFcYTlGE3olASilkIhkBbAuGebZPXGnBVB'\n",
      "access_token = '806213791-laNuZaMYzd54k9teiqQ8uOgBlP3XO8qxUBF1ebST'\n",
      "access_secret = 'rU1dp7KTreCXl02mckYVceX8iJmywcG9F95TBYOCzioYW'\n",
      "api = TwitterAPI(CONSUMER_KEY, CONSUMER_SECRET, access_token, access_secret)"
     ],
     "language": "python",
     "metadata": {},
     "outputs": [],
     "prompt_number": 92
    },
    {
     "cell_type": "code",
     "collapsed": false,
     "input": [
      "CONSUMER_KEY2 = 'ZanES4cy8hufvy2yjTLFG8tbO'\n",
      "CONSUMER_SECRET2 = 'uSbXql55opsnhzGyUlRngp72ZrjjTDNrtkXRHJZ2nTmJJCQ5Mi'\n",
      "access_token2 = '2268307190-H2eYVAJ3QrrMyuV9nc4ri44pCyZsol0ricXdniU'\n",
      "access_secret2 = 'I7doox0PWs22EUMIqFPnk7SqMDFydethoOOR83Wif954f'\n",
      "api2 = TwitterAPI(CONSUMER_KEY2, CONSUMER_SECRET2, access_token2, access_secret2)"
     ],
     "language": "python",
     "metadata": {},
     "outputs": [],
     "prompt_number": 93
    },
    {
     "cell_type": "code",
     "collapsed": false,
     "input": [
      "ActorTable = pd.read_pickle('ActorTable_clean.pkl')\n",
      "MovieTable = pd.read_pickle('MovieTable_clean.pkl')\n",
      "tweets = dict()\n",
      "follower = dict()\n",
      "for i in xrange(len(ActorTable)):\n",
      "    time.sleep(3)\n",
      "    if i%60==0:\n",
      "        print i\n",
      "    name = ActorTable['Name'][i].encode('ascii', 'ignore')\n",
      "    result = 0\n",
      "    if i%2==0:\n",
      "        result = api.request('users/search', {'q':name, 'page':'1', 'count':'1'}).json()\n",
      "    else:\n",
      "        result = api2.request('users/search', {'q':name, 'page':'1', 'count':'1'}).json()\n",
      "    try:\n",
      "        follower[ActorTable['ID'][i]] = result[0]['followers_count']\n",
      "        tweets[ActorTable['ID'][i]] = result[0]['statuses_count']\n",
      "    except:\n",
      "        print name"
     ],
     "language": "python",
     "metadata": {},
     "outputs": [
      {
       "output_type": "stream",
       "stream": "stdout",
       "text": [
        "0\n",
        "Stellan Skarsgaard"
       ]
      },
      {
       "output_type": "stream",
       "stream": "stdout",
       "text": [
        "\n",
        "60"
       ]
      },
      {
       "output_type": "stream",
       "stream": "stdout",
       "text": [
        "\n",
        "120"
       ]
      },
      {
       "output_type": "stream",
       "stream": "stdout",
       "text": [
        "\n",
        "Deborah Kara Unger"
       ]
      },
      {
       "output_type": "stream",
       "stream": "stdout",
       "text": [
        "\n",
        "180"
       ]
      },
      {
       "output_type": "stream",
       "stream": "stdout",
       "text": [
        "\n",
        "240"
       ]
      },
      {
       "output_type": "stream",
       "stream": "stdout",
       "text": [
        "\n",
        "300"
       ]
      },
      {
       "output_type": "stream",
       "stream": "stdout",
       "text": [
        "\n",
        "360"
       ]
      },
      {
       "output_type": "stream",
       "stream": "stdout",
       "text": [
        "\n",
        "420"
       ]
      },
      {
       "output_type": "stream",
       "stream": "stdout",
       "text": [
        "\n",
        "David Strathairn"
       ]
      },
      {
       "output_type": "stream",
       "stream": "stdout",
       "text": [
        "\n",
        "480"
       ]
      },
      {
       "output_type": "stream",
       "stream": "stdout",
       "text": [
        "\n",
        "540"
       ]
      },
      {
       "output_type": "stream",
       "stream": "stdout",
       "text": [
        "\n",
        "600"
       ]
      },
      {
       "output_type": "stream",
       "stream": "stdout",
       "text": [
        "\n"
       ]
      }
     ],
     "prompt_number": 97
    },
    {
     "cell_type": "code",
     "collapsed": false,
     "input": [
      "Tweets = pd.DataFrame(tweets.items())\n",
      "Tweets.columns = ['ID', 'Tweet']\n",
      "Follower = pd.DataFrame(follower.items())\n",
      "Follower.columns = ['ID', 'Follower']\n",
      "TwitterData = pd.merge(Tweets, Follower, on='ID')"
     ],
     "language": "python",
     "metadata": {},
     "outputs": [],
     "prompt_number": 98
    },
    {
     "cell_type": "code",
     "collapsed": false,
     "input": [
      "ActorTable = pd.read_pickle('NewActorTable.pkl')\n",
      "MovieTable = pd.read_pickle('NewMovieTable.pkl')\n",
      "NewActorTable = pd.merge(ActorTable, TwitterData, on='ID')\n",
      "NewActorTable.head()"
     ],
     "language": "python",
     "metadata": {},
     "outputs": [
      {
       "html": [
        "<div style=\"max-height:1000px;max-width:1500px;overflow:auto;\">\n",
        "<table border=\"1\" class=\"dataframe\">\n",
        "  <thead>\n",
        "    <tr style=\"text-align: right;\">\n",
        "      <th></th>\n",
        "      <th>ID</th>\n",
        "      <th>Name</th>\n",
        "      <th>Movie</th>\n",
        "      <th>Critic_rating</th>\n",
        "      <th>Audience_rating</th>\n",
        "      <th>Genre</th>\n",
        "      <th>Boxoffice</th>\n",
        "      <th>Tweet</th>\n",
        "      <th>Follower</th>\n",
        "    </tr>\n",
        "  </thead>\n",
        "  <tbody>\n",
        "    <tr>\n",
        "      <th>0</th>\n",
        "      <td> 771513497</td>\n",
        "      <td>            Madeline Stowe</td>\n",
        "      <td> [14256, 15265, 13792, 15508, 13071, 16619, 12912]</td>\n",
        "      <td>                       [75, 40, 9, 88, 60, 22, 63]</td>\n",
        "      <td>                      [48, 37, 41, 88, 80, 46, 84]</td>\n",
        "      <td> [[Drama, Action &amp; Adventure, Mystery &amp; Suspens...</td>\n",
        "      <td> [26357000, 3038499, 15240435, 57141459, 395621...</td>\n",
        "      <td>  1588</td>\n",
        "      <td>    2845</td>\n",
        "    </tr>\n",
        "    <tr>\n",
        "      <th>1</th>\n",
        "      <td> 771495090</td>\n",
        "      <td>             Alison Janney</td>\n",
        "      <td> [13634, 10726, 12878, 11671, 9377, 460339382, ...</td>\n",
        "      <td>      [84, 36, 88, 81, 99, 91, 94, 76, 34, 36, 85]</td>\n",
        "      <td>      [83, 36, 93, 85, 86, 85, 88, 89, 32, 21, 84]</td>\n",
        "      <td> [[Drama], [Drama, Action &amp; Adventure, Romance,...</td>\n",
        "      <td> [7837632, 74329966, 130058047, 41675994, 33971...</td>\n",
        "      <td>   370</td>\n",
        "      <td>   76263</td>\n",
        "    </tr>\n",
        "    <tr>\n",
        "      <th>2</th>\n",
        "      <td> 771410621</td>\n",
        "      <td>        Chloe Grace Moretz</td>\n",
        "      <td> [770801801, 770786150, 770805260, 771246592, 7...</td>\n",
        "      <td>                  [86, 76, 88, 33, 94, 37, 29, 49]</td>\n",
        "      <td>                  [84, 81, 76, 27, 78, 46, 59, 45]</td>\n",
        "      <td> [[Drama, Romance, Comedy], [Drama, Action &amp; Ad...</td>\n",
        "      <td> [32391374, 48043505, 12134420, 45282, 73820094...</td>\n",
        "      <td> 18272</td>\n",
        "      <td> 1326244</td>\n",
        "    </tr>\n",
        "    <tr>\n",
        "      <th>3</th>\n",
        "      <td> 771395445</td>\n",
        "      <td>              Jim Caviezel</td>\n",
        "      <td> [15744, 10754, 10119, 10118, 12891, 15192, 114...</td>\n",
        "      <td>          [79, 70, 40, 73, 49, 13, 37, 29, 37, 48]</td>\n",
        "      <td>          [80, 81, 78, 88, 80, 37, 45, 49, 44, 56]</td>\n",
        "      <td> [[Drama, Action &amp; Adventure], [Drama, Action &amp;...</td>\n",
        "      <td> [36385763, 44983704, 33508922, 54234062, 37078...</td>\n",
        "      <td>     2</td>\n",
        "      <td>   17733</td>\n",
        "    </tr>\n",
        "    <tr>\n",
        "      <th>4</th>\n",
        "      <td> 770893686</td>\n",
        "      <td> Dwayne \"The Rock\" Johnson</td>\n",
        "      <td> [11549, 10616, 10644, 8839, 178779288, 2878651...</td>\n",
        "      <td> [41, 71, 25, 19, 36, 42, 28, 51, 43, 21, 43, 7...</td>\n",
        "      <td> [38, 67, 60, 34, 41, 81, 70, 67, 44, 40, 49, 8...</td>\n",
        "      <td> [[Action &amp; Adventure, Horror, Science Fiction ...</td>\n",
        "      <td> [90341670, 47592825, 45860039, 28031250, 27538...</td>\n",
        "      <td>  8637</td>\n",
        "      <td> 7895563</td>\n",
        "    </tr>\n",
        "  </tbody>\n",
        "</table>\n",
        "</div>"
       ],
       "metadata": {},
       "output_type": "pyout",
       "prompt_number": 100,
       "text": [
        "          ID                       Name  \\\n",
        "0  771513497             Madeline Stowe   \n",
        "1  771495090              Alison Janney   \n",
        "2  771410621         Chloe Grace Moretz   \n",
        "3  771395445               Jim Caviezel   \n",
        "4  770893686  Dwayne \"The Rock\" Johnson   \n",
        "\n",
        "                                               Movie  \\\n",
        "0  [14256, 15265, 13792, 15508, 13071, 16619, 12912]   \n",
        "1  [13634, 10726, 12878, 11671, 9377, 460339382, ...   \n",
        "2  [770801801, 770786150, 770805260, 771246592, 7...   \n",
        "3  [15744, 10754, 10119, 10118, 12891, 15192, 114...   \n",
        "4  [11549, 10616, 10644, 8839, 178779288, 2878651...   \n",
        "\n",
        "                                       Critic_rating  \\\n",
        "0                        [75, 40, 9, 88, 60, 22, 63]   \n",
        "1       [84, 36, 88, 81, 99, 91, 94, 76, 34, 36, 85]   \n",
        "2                   [86, 76, 88, 33, 94, 37, 29, 49]   \n",
        "3           [79, 70, 40, 73, 49, 13, 37, 29, 37, 48]   \n",
        "4  [41, 71, 25, 19, 36, 42, 28, 51, 43, 21, 43, 7...   \n",
        "\n",
        "                                     Audience_rating  \\\n",
        "0                       [48, 37, 41, 88, 80, 46, 84]   \n",
        "1       [83, 36, 93, 85, 86, 85, 88, 89, 32, 21, 84]   \n",
        "2                   [84, 81, 76, 27, 78, 46, 59, 45]   \n",
        "3           [80, 81, 78, 88, 80, 37, 45, 49, 44, 56]   \n",
        "4  [38, 67, 60, 34, 41, 81, 70, 67, 44, 40, 49, 8...   \n",
        "\n",
        "                                               Genre  \\\n",
        "0  [[Drama, Action & Adventure, Mystery & Suspens...   \n",
        "1  [[Drama], [Drama, Action & Adventure, Romance,...   \n",
        "2  [[Drama, Romance, Comedy], [Drama, Action & Ad...   \n",
        "3  [[Drama, Action & Adventure], [Drama, Action &...   \n",
        "4  [[Action & Adventure, Horror, Science Fiction ...   \n",
        "\n",
        "                                           Boxoffice  Tweet  Follower  \n",
        "0  [26357000, 3038499, 15240435, 57141459, 395621...   1588      2845  \n",
        "1  [7837632, 74329966, 130058047, 41675994, 33971...    370     76263  \n",
        "2  [32391374, 48043505, 12134420, 45282, 73820094...  18272   1326244  \n",
        "3  [36385763, 44983704, 33508922, 54234062, 37078...      2     17733  \n",
        "4  [90341670, 47592825, 45860039, 28031250, 27538...   8637   7895563  "
       ]
      }
     ],
     "prompt_number": 100
    },
    {
     "cell_type": "code",
     "collapsed": false,
     "input": [
      "NewActorTable.to_pickle('ActorTable_Twitter.pkl')"
     ],
     "language": "python",
     "metadata": {},
     "outputs": [],
     "prompt_number": 102
    },
    {
     "cell_type": "code",
     "collapsed": false,
     "input": [
      "ActorTable_Twitter = pd.read_pickle('ActorTable_Twitter.pkl')\n",
      "ActorTable_clean = pd.read_pickle('ActorTable_clean.pkl')\n",
      "#The ActorTable_Twitter should be created with ActorTable_clean. However, it is created\n",
      "#with NewActorTable. Clean up ActorTable_Twitter\n",
      "ActorTable_Twitter = pd.merge(ActorTable_clean, ActorTable_Twitter[['ID', 'Tweet', 'Follower']])\n",
      "ActorTable_Twitter.reset_index(inplace=True, drop=True)\n",
      "ActorTable_Twitter.head()"
     ],
     "language": "python",
     "metadata": {},
     "outputs": [
      {
       "html": [
        "<div style=\"max-height:1000px;max-width:1500px;overflow:auto;\">\n",
        "<table border=\"1\" class=\"dataframe\">\n",
        "  <thead>\n",
        "    <tr style=\"text-align: right;\">\n",
        "      <th></th>\n",
        "      <th>ID</th>\n",
        "      <th>Name</th>\n",
        "      <th>Movie</th>\n",
        "      <th>Critic_rating</th>\n",
        "      <th>Audience_rating</th>\n",
        "      <th>Genre</th>\n",
        "      <th>Boxoffice</th>\n",
        "      <th>Tweet</th>\n",
        "      <th>Follower</th>\n",
        "    </tr>\n",
        "  </thead>\n",
        "  <tbody>\n",
        "    <tr>\n",
        "      <th>0</th>\n",
        "      <td> 771513497</td>\n",
        "      <td>            Madeline Stowe</td>\n",
        "      <td>               [14256, 13792, 15508, 16619, 12912]</td>\n",
        "      <td>                       [75, 40, 9, 88, 60, 22, 63]</td>\n",
        "      <td>                      [48, 37, 41, 88, 80, 46, 84]</td>\n",
        "      <td> [[Drama, Action &amp; Adventure, Mystery &amp; Suspens...</td>\n",
        "      <td> [26357000, 3038499, 15240435, 57141459, 395621...</td>\n",
        "      <td>  1588</td>\n",
        "      <td>    2845</td>\n",
        "    </tr>\n",
        "    <tr>\n",
        "      <th>1</th>\n",
        "      <td> 771495090</td>\n",
        "      <td>             Alison Janney</td>\n",
        "      <td> [13634, 10726, 12878, 11671, 9377, 460339382, ...</td>\n",
        "      <td>      [84, 36, 88, 81, 99, 91, 94, 76, 34, 36, 85]</td>\n",
        "      <td>      [83, 36, 93, 85, 86, 85, 88, 89, 32, 21, 84]</td>\n",
        "      <td> [[Drama], [Drama, Action &amp; Adventure, Romance,...</td>\n",
        "      <td> [7837632, 74329966, 130058047, 41675994, 33971...</td>\n",
        "      <td>   370</td>\n",
        "      <td>   76263</td>\n",
        "    </tr>\n",
        "    <tr>\n",
        "      <th>2</th>\n",
        "      <td> 771410621</td>\n",
        "      <td>        Chloe Grace Moretz</td>\n",
        "      <td> [770801801, 770786150, 770805260, 771041418, 7...</td>\n",
        "      <td>                  [86, 76, 88, 33, 94, 37, 29, 49]</td>\n",
        "      <td>                  [84, 81, 76, 27, 78, 46, 59, 45]</td>\n",
        "      <td> [[Drama, Romance, Comedy], [Drama, Action &amp; Ad...</td>\n",
        "      <td> [32391374, 48043505, 12134420, 45282, 73820094...</td>\n",
        "      <td> 18272</td>\n",
        "      <td> 1326244</td>\n",
        "    </tr>\n",
        "    <tr>\n",
        "      <th>3</th>\n",
        "      <td> 771395445</td>\n",
        "      <td>              Jim Caviezel</td>\n",
        "      <td>           [15744, 10754, 10119, 10118, 771269520]</td>\n",
        "      <td>          [79, 70, 40, 73, 49, 13, 37, 29, 37, 48]</td>\n",
        "      <td>          [80, 81, 78, 88, 80, 37, 45, 49, 44, 56]</td>\n",
        "      <td> [[Drama, Action &amp; Adventure], [Drama, Action &amp;...</td>\n",
        "      <td> [36385763, 44983704, 33508922, 54234062, 37078...</td>\n",
        "      <td>     2</td>\n",
        "      <td>   17733</td>\n",
        "    </tr>\n",
        "    <tr>\n",
        "      <th>4</th>\n",
        "      <td> 770893686</td>\n",
        "      <td> Dwayne \"The Rock\" Johnson</td>\n",
        "      <td> [11549, 10616, 10644, 8839, 178779288, 2878651...</td>\n",
        "      <td> [41, 71, 25, 19, 36, 42, 28, 51, 43, 21, 43, 7...</td>\n",
        "      <td> [38, 67, 60, 34, 41, 81, 70, 67, 44, 40, 49, 8...</td>\n",
        "      <td> [[Action &amp; Adventure, Horror, Science Fiction ...</td>\n",
        "      <td> [90341670, 47592825, 45860039, 28031250, 27538...</td>\n",
        "      <td>  8637</td>\n",
        "      <td> 7895563</td>\n",
        "    </tr>\n",
        "  </tbody>\n",
        "</table>\n",
        "</div>"
       ],
       "metadata": {},
       "output_type": "pyout",
       "prompt_number": 21,
       "text": [
        "          ID                       Name  \\\n",
        "0  771513497             Madeline Stowe   \n",
        "1  771495090              Alison Janney   \n",
        "2  771410621         Chloe Grace Moretz   \n",
        "3  771395445               Jim Caviezel   \n",
        "4  770893686  Dwayne \"The Rock\" Johnson   \n",
        "\n",
        "                                               Movie  \\\n",
        "0                [14256, 13792, 15508, 16619, 12912]   \n",
        "1  [13634, 10726, 12878, 11671, 9377, 460339382, ...   \n",
        "2  [770801801, 770786150, 770805260, 771041418, 7...   \n",
        "3            [15744, 10754, 10119, 10118, 771269520]   \n",
        "4  [11549, 10616, 10644, 8839, 178779288, 2878651...   \n",
        "\n",
        "                                       Critic_rating  \\\n",
        "0                        [75, 40, 9, 88, 60, 22, 63]   \n",
        "1       [84, 36, 88, 81, 99, 91, 94, 76, 34, 36, 85]   \n",
        "2                   [86, 76, 88, 33, 94, 37, 29, 49]   \n",
        "3           [79, 70, 40, 73, 49, 13, 37, 29, 37, 48]   \n",
        "4  [41, 71, 25, 19, 36, 42, 28, 51, 43, 21, 43, 7...   \n",
        "\n",
        "                                     Audience_rating  \\\n",
        "0                       [48, 37, 41, 88, 80, 46, 84]   \n",
        "1       [83, 36, 93, 85, 86, 85, 88, 89, 32, 21, 84]   \n",
        "2                   [84, 81, 76, 27, 78, 46, 59, 45]   \n",
        "3           [80, 81, 78, 88, 80, 37, 45, 49, 44, 56]   \n",
        "4  [38, 67, 60, 34, 41, 81, 70, 67, 44, 40, 49, 8...   \n",
        "\n",
        "                                               Genre  \\\n",
        "0  [[Drama, Action & Adventure, Mystery & Suspens...   \n",
        "1  [[Drama], [Drama, Action & Adventure, Romance,...   \n",
        "2  [[Drama, Romance, Comedy], [Drama, Action & Ad...   \n",
        "3  [[Drama, Action & Adventure], [Drama, Action &...   \n",
        "4  [[Action & Adventure, Horror, Science Fiction ...   \n",
        "\n",
        "                                           Boxoffice  Tweet  Follower  \n",
        "0  [26357000, 3038499, 15240435, 57141459, 395621...   1588      2845  \n",
        "1  [7837632, 74329966, 130058047, 41675994, 33971...    370     76263  \n",
        "2  [32391374, 48043505, 12134420, 45282, 73820094...  18272   1326244  \n",
        "3  [36385763, 44983704, 33508922, 54234062, 37078...      2     17733  \n",
        "4  [90341670, 47592825, 45860039, 28031250, 27538...   8637   7895563  "
       ]
      }
     ],
     "prompt_number": 21
    },
    {
     "cell_type": "code",
     "collapsed": false,
     "input": [
      "ActorTable[ActorTable.Name == \"Stellan Skarsgard\"]"
     ],
     "language": "python",
     "metadata": {},
     "outputs": [
      {
       "html": [
        "<div style=\"max-height:1000px;max-width:1500px;overflow:auto;\">\n",
        "<table border=\"1\" class=\"dataframe\">\n",
        "  <thead>\n",
        "    <tr style=\"text-align: right;\">\n",
        "      <th></th>\n",
        "      <th>ID</th>\n",
        "      <th>Name</th>\n",
        "      <th>Movie</th>\n",
        "      <th>Critic_rating</th>\n",
        "      <th>Audience_rating</th>\n",
        "      <th>Genre</th>\n",
        "      <th>Boxoffice</th>\n",
        "    </tr>\n",
        "  </thead>\n",
        "  <tbody>\n",
        "    <tr>\n",
        "      <th>104</th>\n",
        "      <td> 162684205</td>\n",
        "      <td> Stellan Skarsgard</td>\n",
        "      <td> [13433, 13378, 770686512, 13326, 770783549, 77...</td>\n",
        "      <td> [87, 68, 66, 21, 20, 11, 48, 85, 77, 86, 66, 65]</td>\n",
        "      <td> [92, 80, 38, 40, 26, 27, 40, 72, 76, 86, 69, 79]</td>\n",
        "      <td> [[Drama, Romance, Art House &amp; International], ...</td>\n",
        "      <td> [4040691, 41609593, 33842, 17951431, 181600, 4...</td>\n",
        "    </tr>\n",
        "  </tbody>\n",
        "</table>\n",
        "</div>"
       ],
       "metadata": {},
       "output_type": "pyout",
       "prompt_number": 22,
       "text": [
        "            ID               Name  \\\n",
        "104  162684205  Stellan Skarsgard   \n",
        "\n",
        "                                                 Movie  \\\n",
        "104  [13433, 13378, 770686512, 13326, 770783549, 77...   \n",
        "\n",
        "                                        Critic_rating  \\\n",
        "104  [87, 68, 66, 21, 20, 11, 48, 85, 77, 86, 66, 65]   \n",
        "\n",
        "                                      Audience_rating  \\\n",
        "104  [92, 80, 38, 40, 26, 27, 40, 72, 76, 86, 69, 79]   \n",
        "\n",
        "                                                 Genre  \\\n",
        "104  [[Drama, Romance, Art House & International], ...   \n",
        "\n",
        "                                             Boxoffice  \n",
        "104  [4040691, 41609593, 33842, 17951431, 181600, 4...  "
       ]
      }
     ],
     "prompt_number": 22
    },
    {
     "cell_type": "code",
     "collapsed": false,
     "input": [
      "ActorTable[ActorTable.Name == \"Stellan Skarsgaard\"]"
     ],
     "language": "python",
     "metadata": {},
     "outputs": [
      {
       "html": [
        "<div style=\"max-height:1000px;max-width:1500px;overflow:auto;\">\n",
        "<table border=\"1\" class=\"dataframe\">\n",
        "  <thead>\n",
        "    <tr style=\"text-align: right;\">\n",
        "      <th></th>\n",
        "      <th>ID</th>\n",
        "      <th>Name</th>\n",
        "      <th>Movie</th>\n",
        "      <th>Critic_rating</th>\n",
        "      <th>Audience_rating</th>\n",
        "      <th>Genre</th>\n",
        "      <th>Boxoffice</th>\n",
        "    </tr>\n",
        "  </thead>\n",
        "  <tbody>\n",
        "    <tr>\n",
        "      <th>14</th>\n",
        "      <td> 749015743</td>\n",
        "      <td> Stellan Skarsgaard</td>\n",
        "      <td> [13433, 12887, 13122, 13378, 190815398, 358174...</td>\n",
        "      <td> [87, 97, 75, 68, 21, 20, 54, 45, 54, 37, 65]</td>\n",
        "      <td> [92, 94, 79, 80, 40, 26, 72, 72, 66, 57, 79]</td>\n",
        "      <td> [[Drama, Romance, Art House &amp; International], ...</td>\n",
        "      <td> [4040691, 138339411, 44175394, 41609593, 17951...</td>\n",
        "    </tr>\n",
        "  </tbody>\n",
        "</table>\n",
        "</div>"
       ],
       "metadata": {},
       "output_type": "pyout",
       "prompt_number": 23,
       "text": [
        "           ID                Name  \\\n",
        "14  749015743  Stellan Skarsgaard   \n",
        "\n",
        "                                                Movie  \\\n",
        "14  [13433, 12887, 13122, 13378, 190815398, 358174...   \n",
        "\n",
        "                                   Critic_rating  \\\n",
        "14  [87, 97, 75, 68, 21, 20, 54, 45, 54, 37, 65]   \n",
        "\n",
        "                                 Audience_rating  \\\n",
        "14  [92, 94, 79, 80, 40, 26, 72, 72, 66, 57, 79]   \n",
        "\n",
        "                                                Genre  \\\n",
        "14  [[Drama, Romance, Art House & International], ...   \n",
        "\n",
        "                                            Boxoffice  \n",
        "14  [4040691, 138339411, 44175394, 41609593, 17951...  "
       ]
      }
     ],
     "prompt_number": 23
    },
    {
     "cell_type": "code",
     "collapsed": false,
     "input": [
      "import argparse\n",
      "import json\n",
      "import pprint\n",
      "import sys\n",
      "import urllib\n",
      "import urllib2\n",
      "import time\n",
      "import datetime\n",
      "import pandas as pd"
     ],
     "language": "python",
     "metadata": {},
     "outputs": [],
     "prompt_number": 24
    },
    {
     "cell_type": "code",
     "collapsed": false,
     "input": [
      "ActorTable = pd.read_pickle('ActorTable_clean.pkl')\n",
      "print ActorTable.shape\n",
      "MovieTable = pd.read_pickle('MovieTable_clean.pkl')\n",
      "print MovieTable.shape"
     ],
     "language": "python",
     "metadata": {},
     "outputs": [
      {
       "output_type": "stream",
       "stream": "stdout",
       "text": [
        "(653, 7)\n",
        "(1919, 12)"
       ]
      },
      {
       "output_type": "stream",
       "stream": "stdout",
       "text": [
        "\n"
       ]
      }
     ],
     "prompt_number": 25
    },
    {
     "cell_type": "code",
     "collapsed": false,
     "input": [
      "#check if movie-actor pair number is consistent\n",
      "count1 = 0\n",
      "count2 = 0\n",
      "count3 = 0\n",
      "for i in MovieTable.Cast:\n",
      "    count1 = count1 + len(i)\n",
      "for i in ActorTable.Movie:\n",
      "    count2 = count2 + len(i)\n",
      "print count1 == count2\n",
      "print count1\n",
      "print count2\n",
      "\n",
      "for i in ActorTable_Twitter.Movie:\n",
      "    count3 = count3 + len(i)\n",
      "print count3"
     ],
     "language": "python",
     "metadata": {},
     "outputs": [
      {
       "output_type": "stream",
       "stream": "stdout",
       "text": [
        "True\n",
        "5414\n",
        "5414\n",
        "5391\n"
       ]
      }
     ],
     "prompt_number": 26
    },
    {
     "cell_type": "markdown",
     "metadata": {},
     "source": [
      "Stellan Skarsgaard -- aard -- ard\n",
      "\n",
      "Some movies has only 0-1 cast"
     ]
    },
    {
     "cell_type": "code",
     "collapsed": false,
     "input": [
      "MovieTable[MovieTable.ID == \"770680865\"]"
     ],
     "language": "python",
     "metadata": {},
     "outputs": [
      {
       "html": [
        "<div style=\"max-height:1000px;max-width:1500px;overflow:auto;\">\n",
        "<table border=\"1\" class=\"dataframe\">\n",
        "  <thead>\n",
        "    <tr style=\"text-align: right;\">\n",
        "      <th></th>\n",
        "      <th>Audience_rating</th>\n",
        "      <th>Cast</th>\n",
        "      <th>Critic_rating</th>\n",
        "      <th>Director</th>\n",
        "      <th>Genre</th>\n",
        "      <th>ID</th>\n",
        "      <th>Movie</th>\n",
        "      <th>Release</th>\n",
        "      <th>Review</th>\n",
        "      <th>imdb</th>\n",
        "      <th>weblink</th>\n",
        "      <th>BoxOffice</th>\n",
        "    </tr>\n",
        "  </thead>\n",
        "  <tbody>\n",
        "    <tr>\n",
        "      <th>1363</th>\n",
        "      <td> 66</td>\n",
        "      <td> [{u'name': u'Stellan Skarsgaard', u'id': u'749...</td>\n",
        "      <td> 54</td>\n",
        "      <td> [{u'name': u'Phyllida Lloyd'}]</td>\n",
        "      <td> [Romance, Musical &amp; Performing Arts, Comedy]</td>\n",
        "      <td> 770680865</td>\n",
        "      <td> Mamma Mia!</td>\n",
        "      <td> 2008-06-30</td>\n",
        "      <td> http://api.rottentomatoes.com/api/public/v1.0/...</td>\n",
        "      <td> 0795421</td>\n",
        "      <td> http://www.rottentomatoes.com/m/mamma_mia/</td>\n",
        "      <td> 144130063</td>\n",
        "    </tr>\n",
        "  </tbody>\n",
        "</table>\n",
        "</div>"
       ],
       "metadata": {},
       "output_type": "pyout",
       "prompt_number": 27,
       "text": [
        "      Audience_rating                                               Cast  \\\n",
        "1363               66  [{u'name': u'Stellan Skarsgaard', u'id': u'749...   \n",
        "\n",
        "      Critic_rating                        Director  \\\n",
        "1363             54  [{u'name': u'Phyllida Lloyd'}]   \n",
        "\n",
        "                                             Genre         ID       Movie  \\\n",
        "1363  [Romance, Musical & Performing Arts, Comedy]  770680865  Mamma Mia!   \n",
        "\n",
        "         Release                                             Review     imdb  \\\n",
        "1363  2008-06-30  http://api.rottentomatoes.com/api/public/v1.0/...  0795421   \n",
        "\n",
        "                                         weblink  BoxOffice  \n",
        "1363  http://www.rottentomatoes.com/m/mamma_mia/  144130063  "
       ]
      }
     ],
     "prompt_number": 27
    },
    {
     "cell_type": "code",
     "collapsed": false,
     "input": [
      "for RemovedName in [\"Stellan Skarsgaard\", \"David Strathairn\", \"Deborah Kara Unger\"]:\n",
      "    # RemovedName = \"Stellan Skarsgaard\" #\"David Strathairn\" #\"Stellan Skarsgaard\"\n",
      "\n",
      "    #for movies in NewDirectorTable.Movie:\n",
      "    #    todelete = []\n",
      "    #    for i in range(len(movies)):\n",
      "    #        if movies[i] not in NewMovieTable.ID.values:\n",
      "    #            todelete.append(movies[i])\n",
      "    #    for i in todelete:\n",
      "    #        movies.remove(i)\n",
      "\n",
      "    row = ActorTable[ActorTable.Name == RemovedName]\n",
      "    print row.Movie.values[0]\n",
      "    for movie_id in row.Movie.values[0]:\n",
      "        todelete = -0.1\n",
      "        #print movie_id\n",
      "        cast_list = MovieTable[MovieTable.ID == movie_id].Cast\n",
      "        print cast_list.values[0]\n",
      "        for i in xrange(len(cast_list.values[0])):\n",
      "            #print cast_list.values[0][i][\"name\"]\n",
      "            if cast_list.values[0][i][\"name\"] == RemovedName:\n",
      "                todelete = i\n",
      "        del cast_list.values[0][todelete]\n",
      "        #print todelete\n",
      "        print cast_list.values[0]"
     ],
     "language": "python",
     "metadata": {},
     "outputs": [
      {
       "output_type": "stream",
       "stream": "stdout",
       "text": [
        "[u'13433', u'12887', u'13122', u'13378', u'190815398', u'358174817', u'770680865', u'770676132']\n",
        "[{u'name': u'Stellan Skarsgaard', u'id': u'749015743'}, {u'name': u'Emily Watson', u'characters': [u'Bess McNeill'], u'id': u'162654016'}, {u'name': u'Stellan Skarsgard', u'characters': [u'Jan'], u'id': u'162684205'}]\n",
        "[{u'name': u'Emily Watson', u'characters': [u'Bess McNeill'], u'id': u'162654016'}, {u'name': u'Stellan Skarsgard', u'characters': [u'Jan'], u'id': u'162684205'}]\n",
        "[{u'name': u'Stellan Skarsgaard', u'id': u'749015743'}, {u'name': u'Robin Williams', u'characters': [u'Sean McGuire'], u'id': u'162652387'}, {u'name': u'Minnie Driver', u'characters': [u'Skylar'], u'id': u'162656409'}]\n",
        "[{u'name': u'Robin Williams', u'characters': [u'Sean McGuire'], u'id': u'162652387'}, {u'name': u'Minnie Driver', u'characters': [u'Skylar'], u'id': u'162656409'}]\n",
        "[{u'name': u'Stellan Skarsgaard', u'id': u'749015743'}, {u'name': u'Morgan Freeman', u'characters': [u'Theodore Joadson'], u'id': u'162652224'}, {u'name': u'Anthony Hopkins', u'characters': [u'John Quincy Adams'], u'id': u'162653967'}]\n",
        "[{u'name': u'Morgan Freeman', u'characters': [u'Theodore Joadson'], u'id': u'162652224'}, {u'name': u'Anthony Hopkins', u'characters': [u'John Quincy Adams'], u'id': u'162653967'}]\n",
        "[{u'name': u'Stellan Skarsgaard', u'id': u'749015743'}, {u'name': u'Robert De Niro', u'characters': [u'Sam'], u'id': u'162655521'}, {u'name': u'Jean Reno', u'characters': [u'Vincent'], u'id': u'162653166'}, {u'name': u'Natascha McElhone', u'characters': [u'Deirdre'], u'id': u'162652438'}, {u'name': u'Stellan Skarsgard', u'characters': [u'Gregor'], u'id': u'162684205'}]\n",
        "[{u'name': u'Robert De Niro', u'characters': [u'Sam'], u'id': u'162655521'}, {u'name': u'Jean Reno', u'characters': [u'Vincent'], u'id': u'162653166'}, {u'name': u'Natascha McElhone', u'characters': [u'Deirdre'], u'id': u'162652438'}, {u'name': u'Stellan Skarsgard', u'characters': [u'Gregor'], u'id': u'162684205'}]\n",
        "[{u'name': u'Stellan Skarsgaard', u'id': u'749015743'}, {u'name': u'Johnny Depp', u'characters': [u'Jack Sparrow'], u'id': u'162652817'}, {u'name': u'Orlando Bloom', u'characters': [u'Will Turner'], u'id': u'162652240'}, {u'name': u'Keira Knightley', u'characters': [u'Elizabeth Swann'], u'id': u'162654560'}]\n",
        "[{u'name': u'Johnny Depp', u'characters': [u'Jack Sparrow'], u'id': u'162652817'}, {u'name': u'Orlando Bloom', u'characters': [u'Will Turner'], u'id': u'162652240'}, {u'name': u'Keira Knightley', u'characters': [u'Elizabeth Swann'], u'id': u'162654560'}]\n",
        "[{u'name': u'Stellan Skarsgaard', u'id': u'749015743'}, {u'name': u'Johnny Depp', u'characters': [u'Captain Jack Sparrow'], u'id': u'162652817'}, {u'name': u'Geoffrey Rush', u'characters': [u'Captain Barbossa'], u'id': u'162659119'}, {u'name': u'Orlando Bloom', u'characters': [u'Will Turner'], u'id': u'162652240'}, {u'name': u'Keira Knightley', u'characters': [u'Elizabeth Swann'], u'id': u'162654560'}]\n",
        "[{u'name': u'Johnny Depp', u'characters': [u'Captain Jack Sparrow'], u'id': u'162652817'}, {u'name': u'Geoffrey Rush', u'characters': [u'Captain Barbossa'], u'id': u'162659119'}, {u'name': u'Orlando Bloom', u'characters': [u'Will Turner'], u'id': u'162652240'}, {u'name': u'Keira Knightley', u'characters': [u'Elizabeth Swann'], u'id': u'162654560'}]\n",
        "[{u'name': u'Stellan Skarsgaard', u'id': u'749015743'}, {u'name': u'Meryl Streep', u'characters': [u'Donna'], u'id': u'162654900'}, {u'name': u'Pierce Brosnan', u'characters': [u'Sam Carmichael'], u'id': u'162663451'}, {u'name': u'Amanda Seyfried', u'characters': [u'Sophie'], u'id': u'364614826'}, {u'name': u'Colin Firth', u'characters': [u'Harry Bright'], u'id': u'162654659'}]\n",
        "[{u'name': u'Meryl Streep', u'characters': [u'Donna'], u'id': u'162654900'}, {u'name': u'Pierce Brosnan', u'characters': [u'Sam Carmichael'], u'id': u'162663451'}, {u'name': u'Amanda Seyfried', u'characters': [u'Sophie'], u'id': u'364614826'}, {u'name': u'Colin Firth', u'characters': [u'Harry Bright'], u'id': u'162654659'}]\n",
        "[{u'name': u'Stellan Skarsgaard', u'id': u'749015743'}, {u'name': u'Tom Hanks', u'characters': [u'Robert Langdon'], u'id': u'162655641'}, {u'name': u'Ewan McGregor', u'characters': [u'Camerlengo'], u'id': u'162652152'}]\n",
        "[{u'name': u'Tom Hanks', u'characters': [u'Robert Langdon'], u'id': u'162655641'}, {u'name': u'Ewan McGregor', u'characters': [u'Camerlengo'], u'id': u'162652152'}]\n",
        "[u'12956', u'770768799', u'14784', u'8572', u'348369754', u'632318478', u'647674465', u'358189806', u'770795411', u'770682079']\n",
        "[{u'name': u'Russell Crowe', u'characters': [u'Bud White'], u'id': u'162652569'}, {u'name': u'Kevin Spacey', u'characters': [u'Jack Vincennes'], u'id': u'162657625'}, {u'name': u'Guy Pearce', u'characters': [u'Ed Exley'], u'id': u'162660324'}, {u'name': u'James Cromwell', u'characters': [u'Dudley Smith'], u'id': u'162652553'}, {u'name': u'David Strathairn', u'characters': [u'Pierce Patchett'], u'id': u'162654527'}]\n",
        "[{u'name': u'Russell Crowe', u'characters': [u'Bud White'], u'id': u'162652569'}, {u'name': u'Kevin Spacey', u'characters': [u'Jack Vincennes'], u'id': u'162657625'}, {u'name': u'Guy Pearce', u'characters': [u'Ed Exley'], u'id': u'162660324'}, {u'name': u'James Cromwell', u'characters': [u'Dudley Smith'], u'id': u'162652553'}]\n",
        "[{u'name': u'David Strathairn', u'id': u'162654527'}]\n",
        "[]\n",
        "[{u'name': u'Ashley Judd', u'characters': [u'Jessica Shepard'], u'id': u'162662542'}, {u'name': u'Samuel L. Jackson', u'characters': [u'John Mills'], u'id': u'162652156'}, {u'name': u'Andy Garcia', u'characters': [u'Mike Delmarco'], u'id': u'162672896'}, {u'name': u'David Strathairn', u'characters': [u'Dr. Melvin Frank'], u'id': u'162654527'}]\n",
        "[{u'name': u'Ashley Judd', u'characters': [u'Jessica Shepard'], u'id': u'162662542'}, {u'name': u'Samuel L. Jackson', u'characters': [u'John Mills'], u'id': u'162652156'}, {u'name': u'Andy Garcia', u'characters': [u'Mike Delmarco'], u'id': u'162672896'}]\n",
        "[{u'name': u'David Strathairn', u'characters': [u'Edward R. Murrow'], u'id': u'162654527'}, {u'name': u'Patricia Clarkson', u'characters': [u'Shirley Wershba'], u'id': u'162654530'}, {u'name': u'George Clooney', u'characters': [u'Fred Friendly'], u'id': u'162654528'}, {u'name': u'Jeff Daniels', u'characters': [u'Sig Mickelson'], u'id': u'162654392'}, {u'name': u'Robert Downey Jr.', u'characters': [u'Joe Wershba'], u'id': u'162654529'}]\n",
        "[{u'name': u'Patricia Clarkson', u'characters': [u'Shirley Wershba'], u'id': u'162654530'}, {u'name': u'George Clooney', u'characters': [u'Fred Friendly'], u'id': u'162654528'}, {u'name': u'Jeff Daniels', u'characters': [u'Sig Mickelson'], u'id': u'162654392'}, {u'name': u'Robert Downey Jr.', u'characters': [u'Joe Wershba'], u'id': u'162654529'}]\n",
        "[{u'name': u'Matthew McConaughey', u'characters': [u'Jack Lengyel'], u'id': u'162652350'}, {u'name': u'David Strathairn', u'characters': [u'President Dedmon'], u'id': u'162654527'}, {u'name': u'Ian McShane', u'characters': [u'Paul Griffen'], u'id': u'326396263'}]\n",
        "[{u'name': u'Matthew McConaughey', u'characters': [u'Jack Lengyel'], u'id': u'162652350'}, {u'name': u'Ian McShane', u'characters': [u'Paul Griffen'], u'id': u'326396263'}]\n",
        "[{u'name': u'Ryan Gosling', u'characters': [u'Willy Beachum'], u'id': u'162654751'}, {u'name': u'David Strathairn', u'characters': [u'Joe Lobruto'], u'id': u'162654527'}, {u'name': u'Rosamund Pike', u'characters': [u'Nikki Gardner'], u'id': u'162654705'}]\n",
        "[{u'name': u'Ryan Gosling', u'characters': [u'Willy Beachum'], u'id': u'162654751'}, {u'name': u'Rosamund Pike', u'characters': [u'Nikki Gardner'], u'id': u'162654705'}]\n",
        "[{u'name': u'Natalie Portman', u'characters': [u'Leslie'], u'id': u'162652154'}, {u'name': u'Jude Law', u'characters': [u'Jeremy'], u'id': u'162659420'}, {u'name': u'David Strathairn', u'characters': [u'Arnie'], u'id': u'162654527'}, {u'name': u'Rachel Weisz', u'characters': [u'Sue Lynne'], u'id': u'162653682'}]\n",
        "[{u'name': u'Natalie Portman', u'characters': [u'Leslie'], u'id': u'162652154'}, {u'name': u'Jude Law', u'characters': [u'Jeremy'], u'id': u'162659420'}, {u'name': u'Rachel Weisz', u'characters': [u'Sue Lynne'], u'id': u'162653682'}]\n",
        "[{u'name': u'Matt Damon', u'characters': [u'Jason Bourne'], u'id': u'162653499'}, {u'name': u'David Strathairn', u'characters': [u'Noah Vosen'], u'id': u'162654527'}, {u'name': u'Scott Glenn', u'characters': [u'Ezra Kramer'], u'id': u'162670425'}]\n",
        "[{u'name': u'Matt Damon', u'characters': [u'Jason Bourne'], u'id': u'162653499'}, {u'name': u'Scott Glenn', u'characters': [u'Ezra Kramer'], u'id': u'162670425'}]\n",
        "[{u'name': u'James Franco', u'characters': [u'Allen Ginsberg'], u'id': u'162653202'}, {u'name': u'David Strathairn', u'characters': [u'Ralph McIntosh'], u'id': u'162654527'}, {u'name': u'Bob Balaban', u'characters': [u'Judge Clayton Horn'], u'id': u'162674438'}, {u'name': u'Jeff Daniels', u'characters': [u'Professor David Kirk'], u'id': u'162654392'}]\n",
        "[{u'name': u'James Franco', u'characters': [u'Allen Ginsberg'], u'id': u'162653202'}, {u'name': u'Bob Balaban', u'characters': [u'Judge Clayton Horn'], u'id': u'162674438'}, {u'name': u'Jeff Daniels', u'characters': [u'Professor David Kirk'], u'id': u'162654392'}]\n",
        "[{u'name': u'Daniel Day-Lewis', u'characters': [u'Abraham Lincoln'], u'id': u'162660044'}, {u'name': u'David Strathairn', u'characters': [u'William Seward'], u'id': u'162654527'}, {u'name': u'Tommy Lee Jones', u'characters': [u'Thaddeus Stevens'], u'id': u'162666788'}, {u'name': u'Joseph Gordon-Levitt', u'characters': [u'Robert Lincoln'], u'id': u'162666960'}]\n",
        "[{u'name': u'Daniel Day-Lewis', u'characters': [u'Abraham Lincoln'], u'id': u'162660044'}, {u'name': u'Tommy Lee Jones', u'characters': [u'Thaddeus Stevens'], u'id': u'162666788'}, {u'name': u'Joseph Gordon-Levitt', u'characters': [u'Robert Lincoln'], u'id': u'162666960'}]\n",
        "[u'13475', u'13539', u'770686512', u'14674', u'150164942']\n",
        "[{u'name': u'Mel Gibson', u'characters': [u'Porter'], u'id': u'162655785'}, {u'name': u'Maria Bello', u'characters': [u'Rosie'], u'id': u'162654542'}, {u'name': u'Deborah Kara Unger', u'characters': [u'Lynn'], u'id': u'162670678'}]\n",
        "[{u'name': u'Mel Gibson', u'characters': [u'Porter'], u'id': u'162655785'}, {u'name': u'Maria Bello', u'characters': [u'Rosie'], u'id': u'162654542'}]\n",
        "[{u'name': u'Denzel Washington', u'characters': [u'Rubin Carter'], u'id': u'162661439'}, {u'name': u'Deborah Kara Unger', u'characters': [u'Lisa Peters'], u'id': u'162670678'}, {u'name': u'Liev Schreiber', u'characters': [u'Sam Chaiton'], u'id': u'162653994'}]\n",
        "[{u'name': u'Denzel Washington', u'characters': [u'Rubin Carter'], u'id': u'162661439'}, {u'name': u'Liev Schreiber', u'characters': [u'Sam Chaiton'], u'id': u'162653994'}]\n",
        "[{u'name': u'Stellan Skarsgard', u'characters': [u'Alec'], u'id': u'162684205'}, {u'name': u'Deborah Kara Unger', u'characters': [u'Katherine'], u'id': u'162670678'}]\n",
        "[{u'name': u'Stellan Skarsgard', u'characters': [u'Alec'], u'id': u'162684205'}]\n",
        "[{u'name': u'Thomas Jane', u'characters': [u'Andre Stander'], u'id': u'162688276'}, {u'name': u'Deborah Kara Unger', u'characters': [u'Bekkie Stander'], u'id': u'162670678'}]\n",
        "[{u'name': u'Thomas Jane', u'characters': [u'Andre Stander'], u'id': u'162688276'}]\n",
        "[{u'name': u'Radha Mitchell', u'characters': [u'Rose Da Silva'], u'id': u'162688762'}, {u'name': u'Sean Bean', u'characters': [u'Christopher Da Silva'], u'id': u'162652874'}, {u'name': u'Deborah Kara Unger', u'characters': [u'Dahlia Gillespie'], u'id': u'162670678'}]\n",
        "[{u'name': u'Radha Mitchell', u'characters': [u'Rose Da Silva'], u'id': u'162688762'}, {u'name': u'Sean Bean', u'characters': [u'Christopher Da Silva'], u'id': u'162652874'}]\n"
       ]
      }
     ],
     "prompt_number": 28
    },
    {
     "cell_type": "code",
     "collapsed": false,
     "input": [
      "MovieTable[MovieTable.ID == \"770680865\"]"
     ],
     "language": "python",
     "metadata": {},
     "outputs": [
      {
       "html": [
        "<div style=\"max-height:1000px;max-width:1500px;overflow:auto;\">\n",
        "<table border=\"1\" class=\"dataframe\">\n",
        "  <thead>\n",
        "    <tr style=\"text-align: right;\">\n",
        "      <th></th>\n",
        "      <th>Audience_rating</th>\n",
        "      <th>Cast</th>\n",
        "      <th>Critic_rating</th>\n",
        "      <th>Director</th>\n",
        "      <th>Genre</th>\n",
        "      <th>ID</th>\n",
        "      <th>Movie</th>\n",
        "      <th>Release</th>\n",
        "      <th>Review</th>\n",
        "      <th>imdb</th>\n",
        "      <th>weblink</th>\n",
        "      <th>BoxOffice</th>\n",
        "    </tr>\n",
        "  </thead>\n",
        "  <tbody>\n",
        "    <tr>\n",
        "      <th>1363</th>\n",
        "      <td> 66</td>\n",
        "      <td> [{u'name': u'Meryl Streep', u'characters': [u'...</td>\n",
        "      <td> 54</td>\n",
        "      <td> [{u'name': u'Phyllida Lloyd'}]</td>\n",
        "      <td> [Romance, Musical &amp; Performing Arts, Comedy]</td>\n",
        "      <td> 770680865</td>\n",
        "      <td> Mamma Mia!</td>\n",
        "      <td> 2008-06-30</td>\n",
        "      <td> http://api.rottentomatoes.com/api/public/v1.0/...</td>\n",
        "      <td> 0795421</td>\n",
        "      <td> http://www.rottentomatoes.com/m/mamma_mia/</td>\n",
        "      <td> 144130063</td>\n",
        "    </tr>\n",
        "  </tbody>\n",
        "</table>\n",
        "</div>"
       ],
       "metadata": {},
       "output_type": "pyout",
       "prompt_number": 29,
       "text": [
        "      Audience_rating                                               Cast  \\\n",
        "1363               66  [{u'name': u'Meryl Streep', u'characters': [u'...   \n",
        "\n",
        "      Critic_rating                        Director  \\\n",
        "1363             54  [{u'name': u'Phyllida Lloyd'}]   \n",
        "\n",
        "                                             Genre         ID       Movie  \\\n",
        "1363  [Romance, Musical & Performing Arts, Comedy]  770680865  Mamma Mia!   \n",
        "\n",
        "         Release                                             Review     imdb  \\\n",
        "1363  2008-06-30  http://api.rottentomatoes.com/api/public/v1.0/...  0795421   \n",
        "\n",
        "                                         weblink  BoxOffice  \n",
        "1363  http://www.rottentomatoes.com/m/mamma_mia/  144130063  "
       ]
      }
     ],
     "prompt_number": 29
    },
    {
     "cell_type": "code",
     "collapsed": false,
     "input": [
      "#check if movie-actor pair number is consistent\n",
      "count1 = 0\n",
      "count2 = 0\n",
      "for i in MovieTable.Cast:\n",
      "    count1 = count1 + len(i)\n",
      "    if len(i)==0:\n",
      "        print 'alert!'\n",
      "for i in ActorTable_Twitter.Movie:\n",
      "    count2 = count2 + len(i)\n",
      "print count1 == count2\n",
      "print count1\n",
      "print count2"
     ],
     "language": "python",
     "metadata": {},
     "outputs": [
      {
       "output_type": "stream",
       "stream": "stdout",
       "text": [
        "alert!\n",
        "True\n",
        "5391\n",
        "5391\n"
       ]
      }
     ],
     "prompt_number": 30
    },
    {
     "cell_type": "code",
     "collapsed": false,
     "input": [
      "#delete movies with no cast\n",
      "deleterow = []\n",
      "\n",
      "for i in xrange(len(MovieTable)):\n",
      "    if len(MovieTable.Cast[i])==0:\n",
      "        deleterow.append(False)\n",
      "    else:\n",
      "        deleterow.append(True)\n",
      "MovieTable = MovieTable[pd.Series(deleterow)]\n",
      "MovieTable.reset_index(inplace=True, drop=True)"
     ],
     "language": "python",
     "metadata": {},
     "outputs": [],
     "prompt_number": 31
    },
    {
     "cell_type": "code",
     "collapsed": false,
     "input": [
      "DirectorTable = pd.read_pickle('DirectorTable_clean.pkl')\n",
      "#update director table\n",
      "for movies in DirectorTable.Movie:\n",
      "    todelete = []\n",
      "    for i in range(len(movies)):\n",
      "        if movies[i] not in MovieTable.ID.values:\n",
      "            todelete.append(movies[i])\n",
      "    for i in todelete:\n",
      "        movies.remove(i)"
     ],
     "language": "python",
     "metadata": {},
     "outputs": [],
     "prompt_number": 32
    },
    {
     "cell_type": "code",
     "collapsed": false,
     "input": [
      "check_movie(MovieTable, DirectorTable, ActorTable_Twitter)\n",
      "check_actor(MovieTable, ActorTable_Twitter)\n",
      "check_dir(MovieTable, DirectorTable)"
     ],
     "language": "python",
     "metadata": {},
     "outputs": [
      {
       "output_type": "stream",
       "stream": "stdout",
       "text": [
        "True\n",
        "True\n",
        "True\n",
        "True\n"
       ]
      }
     ],
     "prompt_number": 33
    },
    {
     "cell_type": "code",
     "collapsed": false,
     "input": [
      "MovieTable.to_pickle('MovieTable_Twitter_clean.pkl')\n",
      "ActorTable_Twitter.to_pickle('ActorTable_Twitter_clean.pkl')\n",
      "DirectorTable.to_pickle('DirectorTable_Twitter_clean.pkl')"
     ],
     "language": "python",
     "metadata": {},
     "outputs": [],
     "prompt_number": 34
    },
    {
     "cell_type": "code",
     "collapsed": false,
     "input": [],
     "language": "python",
     "metadata": {},
     "outputs": [],
     "prompt_number": 74
    },
    {
     "cell_type": "code",
     "collapsed": false,
     "input": [
      "MovieTable=pd.read_pickle('MovieTable_Twitter_clean.pkl')\n",
      "count = 0\n",
      "for i in MovieTable.Cast:\n",
      "    \n",
      "    if len(i)<3:\n",
      "        count = count + 1\n",
      "print count"
     ],
     "language": "python",
     "metadata": {},
     "outputs": [
      {
       "output_type": "stream",
       "stream": "stdout",
       "text": [
        "780\n"
       ]
      }
     ],
     "prompt_number": 2
    },
    {
     "cell_type": "code",
     "collapsed": false,
     "input": [
      "MovieTable.shape"
     ],
     "language": "python",
     "metadata": {},
     "outputs": [
      {
       "metadata": {},
       "output_type": "pyout",
       "prompt_number": 4,
       "text": [
        "(1918, 12)"
       ]
      }
     ],
     "prompt_number": 4
    },
    {
     "cell_type": "code",
     "collapsed": false,
     "input": [],
     "language": "python",
     "metadata": {},
     "outputs": []
    },
    {
     "cell_type": "code",
     "collapsed": false,
     "input": [],
     "language": "python",
     "metadata": {},
     "outputs": []
    },
    {
     "cell_type": "code",
     "collapsed": false,
     "input": [],
     "language": "python",
     "metadata": {},
     "outputs": []
    },
    {
     "cell_type": "code",
     "collapsed": false,
     "input": [],
     "language": "python",
     "metadata": {},
     "outputs": []
    }
   ],
   "metadata": {}
  }
 ]
}