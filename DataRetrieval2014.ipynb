{
 "metadata": {
  "name": "",
  "signature": "sha256:468a53cac5cd3752ef63bfdd35e438073f40964e11e59b7f7bf76e4c012dd68f"
 },
 "nbformat": 3,
 "nbformat_minor": 0,
 "worksheets": [
  {
   "cells": [
    {
     "cell_type": "markdown",
     "metadata": {},
     "source": [
      "#New Data Retrieval from TMDb"
     ]
    },
    {
     "cell_type": "code",
     "collapsed": false,
     "input": [
      "import argparse\n",
      "import json\n",
      "import pprint\n",
      "import sys\n",
      "import urllib\n",
      "import urllib2\n",
      "import time\n",
      "import datetime\n",
      "import pandas as pd"
     ],
     "language": "python",
     "metadata": {},
     "outputs": [],
     "prompt_number": 1
    },
    {
     "cell_type": "code",
     "collapsed": false,
     "input": [
      "#Get movie names from TMDb\n",
      "API_key = 'd2189e753db5381d70ac0d51e45b19cc'\n",
      "def getUrl(startyear, startmonth, endyear, endmonth, page):\n",
      "    domain = 'http://api.themoviedb.org/3/discover/movie?language=en&page='+str(page)+'&sort_by=revenue.desc&primary_release_date.gte='\n",
      "    url = domain +str(startyear) + '-'+str(startmonth)+'-02&primary_release_date.lte='+str(endyear) + '-'+str(endmonth)+'-01&api_key='+API_key\n",
      "    return url\n",
      "\n",
      "names = []\n",
      "years = []\n",
      "for year in xrange(2014, 2015):\n",
      "    print year\n",
      "    for month in xrange(1, 8):\n",
      "        print month\n",
      "        for page in xrange(1,4):\n",
      "            time.sleep(0.35)\n",
      "            if (month == 12):\n",
      "                url = getUrl(year, month, year+1, 1, page)\n",
      "            else:\n",
      "                url = getUrl(year, month, year, month+1, page)\n",
      "            data = json.loads(urllib2.urlopen(url).read())\n",
      "            results = data['results']\n",
      "            for i in results:\n",
      "                names.append(i['title'])\n",
      "                years.append((i['release_date']).split('-')[0])\n",
      "\n",
      "\n"
     ],
     "language": "python",
     "metadata": {},
     "outputs": [
      {
       "output_type": "stream",
       "stream": "stdout",
       "text": [
        "2014\n",
        "1\n",
        "2"
       ]
      },
      {
       "output_type": "stream",
       "stream": "stdout",
       "text": [
        "\n",
        "3"
       ]
      },
      {
       "output_type": "stream",
       "stream": "stdout",
       "text": [
        "\n",
        "4"
       ]
      },
      {
       "output_type": "stream",
       "stream": "stdout",
       "text": [
        "\n",
        "5"
       ]
      },
      {
       "output_type": "stream",
       "stream": "stdout",
       "text": [
        "\n",
        "6"
       ]
      },
      {
       "output_type": "stream",
       "stream": "stdout",
       "text": [
        "\n",
        "7"
       ]
      },
      {
       "output_type": "stream",
       "stream": "stdout",
       "text": [
        "\n"
       ]
      }
     ],
     "prompt_number": 5
    },
    {
     "cell_type": "code",
     "collapsed": false,
     "input": [
      "#Store the information to a csv file for future use\n",
      "Movies = pd.DataFrame({'Name':names, 'Year':years})\n",
      "Movies = Movies.drop_duplicates()\n",
      "Movies.to_csv('Movies2014.csv', encoding='utf-8', index=False)"
     ],
     "language": "python",
     "metadata": {},
     "outputs": [],
     "prompt_number": 6
    },
    {
     "cell_type": "code",
     "collapsed": false,
     "input": [
      "print Movies.shape"
     ],
     "language": "python",
     "metadata": {},
     "outputs": [
      {
       "output_type": "stream",
       "stream": "stdout",
       "text": [
        "(391, 2)\n"
       ]
      }
     ],
     "prompt_number": 7
    },
    {
     "cell_type": "markdown",
     "metadata": {},
     "source": [
      "#### get data from Rotten Tomato"
     ]
    },
    {
     "cell_type": "code",
     "collapsed": false,
     "input": [
      "#Create the Movie table with rotten tomato data\n",
      "Movies = pd.read_csv('Movies2014.csv', encoding='utf-8')\n",
      "\n",
      "api_key = 'm7jmrcna938zje4rqefde4n7'\n",
      "moviesearch = 'http://api.rottentomatoes.com/api/public/v1.0/movies.json&page_limit=1?apikey='\n",
      "movieinfo = 'http://api.rottentomatoes.com/api/public/v1.0/movies/'\n",
      "movieinfo_key = '.json?apikey=' + api_key\n",
      "query = '&page_limit=2&q='\n",
      "movie_id =[]\n",
      "imdb_id = []\n",
      "name = []\n",
      "cast = []\n",
      "release = []\n",
      "director = []\n",
      "genre = []\n",
      "critic_rating = []\n",
      "audience_rating = []\n",
      "review = []\n",
      "weblink = []\n",
      "\n",
      "for i in xrange(len(Movies['Name'])):\n",
      "    time.sleep(0.5)\n",
      "    if (i%100 == 0):\n",
      "        print i\n",
      "    newname = Movies['Name'][i].replace(' ', '+')\n",
      "    newname = newname.replace('&', 'and')\n",
      "    url = moviesearch + api_key + query + newname\n",
      "    try:\n",
      "        data = json.loads(urllib2.urlopen(url).read())\n",
      "    except:\n",
      "        pass\n",
      "    to_add = -1\n",
      "    if (data['total'] >= 1):\n",
      "        temp_id = 0\n",
      "        if (data['movies'][0]['release_dates'] and ('theater' in data['movies'][0]['release_dates']) and\n",
      "            abs(int(data['movies'][0]['release_dates']['theater'].split('-')[0]) - int(Movies['Year'][i])) < 2):\n",
      "            temp_id = data['movies'][0]['id']\n",
      "            to_add = 0\n",
      "        elif (data['total'] > 1):\n",
      "            if(data['movies'][1]['release_dates'] and ('theater' in data['movies'][1]['release_dates']) and\n",
      "               abs(int(data['movies'][1]['release_dates']['theater'].split('-')[0]) - int(Movies['Year'][i])) < 2):\n",
      "               temp_id = data['movies'][1]['id']\n",
      "               to_add = 1\n",
      "        if (to_add != -1):\n",
      "            idx = temp_id\n",
      "            url = movieinfo + str(idx) + movieinfo_key\n",
      "            info = json.loads(urllib2.urlopen(url).read())\n",
      "            try:\n",
      "                temp_imdb_id = info['alternate_ids']['imdb']\n",
      "                temp_name = info['title']\n",
      "                temp_cast = info['abridged_cast']\n",
      "                temp_release = info['release_dates']['theater']\n",
      "                temp_director = info['abridged_directors']\n",
      "                temp_genre = info['genres']\n",
      "                temp_critic = info['ratings']['critics_score']\n",
      "                temp_andience = info['ratings']['audience_score']\n",
      "                temp_review = info['links']['reviews']\n",
      "                temp_weblink = info['links']['alternate']\n",
      "                movie_id.append(temp_id)\n",
      "                imdb_id.append(info['alternate_ids']['imdb'])\n",
      "                name.append(info['title'])\n",
      "                cast.append(info['abridged_cast'])\n",
      "                release.append(info['release_dates']['theater'])\n",
      "                director.append(info['abridged_directors'])\n",
      "                genre.append(info['genres'])\n",
      "                critic_rating.append(info['ratings']['critics_score'])\n",
      "                audience_rating.append(info['ratings']['audience_score'])\n",
      "                review.append(info['links']['reviews'])\n",
      "                weblink.append(info['links']['alternate'])\n",
      "            except:\n",
      "                pass\n",
      "            "
     ],
     "language": "python",
     "metadata": {},
     "outputs": [
      {
       "output_type": "stream",
       "stream": "stdout",
       "text": [
        "0\n",
        "100"
       ]
      },
      {
       "output_type": "stream",
       "stream": "stdout",
       "text": [
        "\n",
        "200"
       ]
      },
      {
       "output_type": "stream",
       "stream": "stdout",
       "text": [
        "\n",
        "300"
       ]
      },
      {
       "output_type": "stream",
       "stream": "stdout",
       "text": [
        "\n"
       ]
      }
     ],
     "prompt_number": 8
    },
    {
     "cell_type": "code",
     "collapsed": false,
     "input": [
      "MovieTable = pd.DataFrame({'ID':movie_id, 'imdb':imdb_id, 'Movie':name, 'Cast':cast, 'Release':release, 'Director':director, 'Genre':genre,\n",
      "             'Critic_rating':critic_rating, 'Audience_rating':audience_rating, 'Review':review, 'weblink':weblink})"
     ],
     "language": "python",
     "metadata": {},
     "outputs": [],
     "prompt_number": 9
    },
    {
     "cell_type": "code",
     "collapsed": false,
     "input": [
      "MovieTable.to_csv(\"MovieTable2014.csv\", encoding = 'utf-8', index = False)\n",
      "MovieTable.to_pickle('MovieTable2014.pkl')"
     ],
     "language": "python",
     "metadata": {},
     "outputs": [],
     "prompt_number": 10
    },
    {
     "cell_type": "markdown",
     "metadata": {},
     "source": [
      "##Concatenate Data from TMDb"
     ]
    },
    {
     "cell_type": "code",
     "collapsed": false,
     "input": [
      "MovieTable = pd.read_pickle('MovieTable2014.pkl')"
     ],
     "language": "python",
     "metadata": {},
     "outputs": [],
     "prompt_number": 11
    },
    {
     "cell_type": "code",
     "collapsed": false,
     "input": [
      "MovieTable = MovieTable.drop_duplicates(subset=['ID'])\n",
      "MovieTable.reset_index(inplace=True, drop=True)\n",
      "MovieTable.to_csv(\"MovieTable2014.csv\", encoding = 'utf-8', index = False)\n",
      "MovieTable.to_pickle('MovieTable2014.pkl')"
     ],
     "language": "python",
     "metadata": {},
     "outputs": [],
     "prompt_number": 12
    },
    {
     "cell_type": "code",
     "collapsed": false,
     "input": [
      "# Done PH"
     ],
     "language": "python",
     "metadata": {},
     "outputs": [],
     "prompt_number": 13
    },
    {
     "cell_type": "markdown",
     "metadata": {},
     "source": [
      "##Data Wrangling"
     ]
    },
    {
     "cell_type": "markdown",
     "metadata": {},
     "source": [
      "#### create ActorTable from MovieTable and delete movies without rating"
     ]
    },
    {
     "cell_type": "code",
     "collapsed": false,
     "input": [
      "MovieTable = pd.read_pickle('MovieTableBoxOffice2014.pkl')\n",
      "MovieTable = MovieTable.drop_duplicates(subset=['ID'])"
     ],
     "language": "python",
     "metadata": {},
     "outputs": [],
     "prompt_number": 29
    },
    {
     "cell_type": "code",
     "collapsed": false,
     "input": [
      "#delete movies without rating\n",
      "MovieTable = MovieTable[MovieTable.Critic_rating != -1]\n",
      "MovieTable.reset_index(inplace=True, drop=True)"
     ],
     "language": "python",
     "metadata": {},
     "outputs": [],
     "prompt_number": 30
    },
    {
     "cell_type": "code",
     "collapsed": false,
     "input": [
      "MovieTable.head()\n",
      "MovieTable.to_pickle('MovieTable2014.pkl')"
     ],
     "language": "python",
     "metadata": {},
     "outputs": [],
     "prompt_number": 31
    },
    {
     "cell_type": "code",
     "collapsed": false,
     "input": [
      "MovieTable.shape"
     ],
     "language": "python",
     "metadata": {},
     "outputs": [
      {
       "metadata": {},
       "output_type": "pyout",
       "prompt_number": 32,
       "text": [
        "(65, 12)"
       ]
      }
     ],
     "prompt_number": 32
    },
    {
     "cell_type": "code",
     "collapsed": false,
     "input": [
      "name = dict()\n",
      "movie = dict()\n",
      "critic_rating = dict()\n",
      "audience_rating = dict()\n",
      "genre = dict()\n",
      "boxoffice = dict()\n",
      "for i in range(len(MovieTable)):\n",
      "    for actor in MovieTable['Cast'][i]:\n",
      "        if actor['id'] in movie:\n",
      "            movie[actor['id']].append(MovieTable['ID'][i])\n",
      "            critic_rating[actor['id']].append(MovieTable.Critic_rating[i])\n",
      "            audience_rating[actor['id']].append(MovieTable.Audience_rating[i])\n",
      "            genre[actor['id']].append(MovieTable.Genre[i])\n",
      "            boxoffice[actor['id']].append(MovieTable.BoxOffice[i])\n",
      "        else:\n",
      "            name[actor['id']] = actor['name']\n",
      "            movie[actor['id']] = [MovieTable['ID'][i]]\n",
      "            critic_rating[actor['id']] = [MovieTable.Critic_rating[i]]\n",
      "            audience_rating[actor['id']] = [MovieTable.Audience_rating[i]]\n",
      "            genre[actor['id']] = [MovieTable.Genre[i]]\n",
      "            boxoffice[actor['id']]= [MovieTable.BoxOffice[i]]\n",
      "            "
     ],
     "language": "python",
     "metadata": {},
     "outputs": [],
     "prompt_number": 33
    },
    {
     "cell_type": "code",
     "collapsed": false,
     "input": [
      "ActorTable = pd.DataFrame([name, movie, critic_rating, audience_rating, genre, boxoffice]).transpose()\n",
      "ActorTable.reset_index(inplace=True)\n",
      "ActorTable.columns = ['ID', 'Name', 'Movie', 'Critic_rating', 'Audience_rating', 'Genre', 'Boxoffice']"
     ],
     "language": "python",
     "metadata": {},
     "outputs": [],
     "prompt_number": 34
    },
    {
     "cell_type": "code",
     "collapsed": false,
     "input": [
      "ActorTable.head()"
     ],
     "language": "python",
     "metadata": {},
     "outputs": [
      {
       "html": [
        "<div style=\"max-height:1000px;max-width:1500px;overflow:auto;\">\n",
        "<table border=\"1\" class=\"dataframe\">\n",
        "  <thead>\n",
        "    <tr style=\"text-align: right;\">\n",
        "      <th></th>\n",
        "      <th>ID</th>\n",
        "      <th>Name</th>\n",
        "      <th>Movie</th>\n",
        "      <th>Critic_rating</th>\n",
        "      <th>Audience_rating</th>\n",
        "      <th>Genre</th>\n",
        "      <th>Boxoffice</th>\n",
        "    </tr>\n",
        "  </thead>\n",
        "  <tbody>\n",
        "    <tr>\n",
        "      <th>0</th>\n",
        "      <td> 162652156</td>\n",
        "      <td> Samuel L. Jackson</td>\n",
        "      <td> [770803774, 771312513]</td>\n",
        "      <td> [48, 89]</td>\n",
        "      <td> [52, 92]</td>\n",
        "      <td> [[Action &amp; Adventure, Science Fiction &amp; Fantas...</td>\n",
        "      <td> [58607007, 259322890]</td>\n",
        "    </tr>\n",
        "    <tr>\n",
        "      <th>1</th>\n",
        "      <td> 162652185</td>\n",
        "      <td>      Will Ferrell</td>\n",
        "      <td>            [771305753]</td>\n",
        "      <td>     [96]</td>\n",
        "      <td>     [87]</td>\n",
        "      <td> [[Action &amp; Adventure, Animation, Kids &amp; Family...</td>\n",
        "      <td>           [257716507]</td>\n",
        "    </tr>\n",
        "    <tr>\n",
        "      <th>2</th>\n",
        "      <td> 162652224</td>\n",
        "      <td>    Morgan Freeman</td>\n",
        "      <td>            [771360863]</td>\n",
        "      <td>     [66]</td>\n",
        "      <td>     [47]</td>\n",
        "      <td>                            [[Action &amp; Adventure]]</td>\n",
        "      <td>           [125480625]</td>\n",
        "    </tr>\n",
        "    <tr>\n",
        "      <th>3</th>\n",
        "      <td> 162652241</td>\n",
        "      <td>         Eva Green</td>\n",
        "      <td>            [771249085]</td>\n",
        "      <td>     [42]</td>\n",
        "      <td>     [54]</td>\n",
        "      <td>                     [[Drama, Action &amp; Adventure]]</td>\n",
        "      <td>           [106580051]</td>\n",
        "    </tr>\n",
        "    <tr>\n",
        "      <th>4</th>\n",
        "      <td> 162652242</td>\n",
        "      <td>       Liam Neeson</td>\n",
        "      <td> [771304322, 771350283]</td>\n",
        "      <td> [60, 33]</td>\n",
        "      <td> [65, 41]</td>\n",
        "      <td> [[Mystery &amp; Suspense, Action &amp; Adventure], [We...</td>\n",
        "      <td>  [91104080, 42615685]</td>\n",
        "    </tr>\n",
        "  </tbody>\n",
        "</table>\n",
        "</div>"
       ],
       "metadata": {},
       "output_type": "pyout",
       "prompt_number": 35,
       "text": [
        "          ID               Name                   Movie Critic_rating  \\\n",
        "0  162652156  Samuel L. Jackson  [770803774, 771312513]      [48, 89]   \n",
        "1  162652185       Will Ferrell             [771305753]          [96]   \n",
        "2  162652224     Morgan Freeman             [771360863]          [66]   \n",
        "3  162652241          Eva Green             [771249085]          [42]   \n",
        "4  162652242        Liam Neeson  [771304322, 771350283]      [60, 33]   \n",
        "\n",
        "  Audience_rating                                              Genre  \\\n",
        "0        [52, 92]  [[Action & Adventure, Science Fiction & Fantas...   \n",
        "1            [87]  [[Action & Adventure, Animation, Kids & Family...   \n",
        "2            [47]                             [[Action & Adventure]]   \n",
        "3            [54]                      [[Drama, Action & Adventure]]   \n",
        "4        [65, 41]  [[Mystery & Suspense, Action & Adventure], [We...   \n",
        "\n",
        "               Boxoffice  \n",
        "0  [58607007, 259322890]  \n",
        "1            [257716507]  \n",
        "2            [125480625]  \n",
        "3            [106580051]  \n",
        "4   [91104080, 42615685]  "
       ]
      }
     ],
     "prompt_number": 35
    },
    {
     "cell_type": "code",
     "collapsed": false,
     "input": [
      "ActorTable.to_pickle('ActorTable2014.pkl')"
     ],
     "language": "python",
     "metadata": {},
     "outputs": [],
     "prompt_number": 36
    },
    {
     "cell_type": "markdown",
     "metadata": {},
     "source": [
      "###Create DirectorTable from MovieTable"
     ]
    },
    {
     "cell_type": "code",
     "collapsed": false,
     "input": [
      "MovieTable = pd.read_pickle('MovieTable2014.pkl')\n",
      "movie = dict()\n",
      "critic_rating = dict()\n",
      "audience_rating = dict()\n",
      "genre = dict()\n",
      "boxoffice = dict()\n",
      "for i in xrange(len(MovieTable)):\n",
      "    for director in MovieTable.Director[i]:\n",
      "        name = director['name']\n",
      "        if name in movie:\n",
      "            movie[name].append(MovieTable.ID[i])\n",
      "            critic_rating[name].append(MovieTable.Critic_rating[i])\n",
      "            audience_rating[name].append(MovieTable.Audience_rating[i])\n",
      "            genre[name].append(MovieTable.Genre[i])\n",
      "            boxoffice[name].append(MovieTable.BoxOffice[i])\n",
      "        else:\n",
      "            movie[name] = [MovieTable.ID[i]]\n",
      "            critic_rating[name] = [MovieTable.Critic_rating[i]]\n",
      "            audience_rating[name] = [MovieTable.Audience_rating[i]]\n",
      "            genre[name] = [MovieTable.Genre[i]]\n",
      "            boxoffice[name]= [MovieTable.BoxOffice[i]]"
     ],
     "language": "python",
     "metadata": {},
     "outputs": [],
     "prompt_number": 37
    },
    {
     "cell_type": "code",
     "collapsed": false,
     "input": [
      "DirectorTable = pd.DataFrame([movie, critic_rating, audience_rating, genre, boxoffice]).transpose()\n",
      "DirectorTable.reset_index(inplace=True)\n",
      "DirectorTable.columns = ['Name', 'Movie', 'Critic_rating', 'Audience_rating', 'Genre', 'Boxoffice']"
     ],
     "language": "python",
     "metadata": {},
     "outputs": [],
     "prompt_number": 38
    },
    {
     "cell_type": "code",
     "collapsed": false,
     "input": [
      "DirectorTable.head()"
     ],
     "language": "python",
     "metadata": {},
     "outputs": [
      {
       "html": [
        "<div style=\"max-height:1000px;max-width:1500px;overflow:auto;\">\n",
        "<table border=\"1\" class=\"dataframe\">\n",
        "  <thead>\n",
        "    <tr style=\"text-align: right;\">\n",
        "      <th></th>\n",
        "      <th>Name</th>\n",
        "      <th>Movie</th>\n",
        "      <th>Critic_rating</th>\n",
        "      <th>Audience_rating</th>\n",
        "      <th>Genre</th>\n",
        "      <th>Boxoffice</th>\n",
        "    </tr>\n",
        "  </thead>\n",
        "  <tbody>\n",
        "    <tr>\n",
        "      <th>0</th>\n",
        "      <td>       Aaron Fernandez</td>\n",
        "      <td> [771366327]</td>\n",
        "      <td> [83]</td>\n",
        "      <td> [38]</td>\n",
        "      <td>                                         [[Drama]]</td>\n",
        "      <td>      [4609]</td>\n",
        "    </tr>\n",
        "    <tr>\n",
        "      <th>1</th>\n",
        "      <td> Aaron Fernandez Lesur</td>\n",
        "      <td> [771366327]</td>\n",
        "      <td> [83]</td>\n",
        "      <td> [38]</td>\n",
        "      <td>                                         [[Drama]]</td>\n",
        "      <td>      [4609]</td>\n",
        "    </tr>\n",
        "    <tr>\n",
        "      <th>2</th>\n",
        "      <td>   Alastair Fothergill</td>\n",
        "      <td> [771318848]</td>\n",
        "      <td> [89]</td>\n",
        "      <td> [79]</td>\n",
        "      <td>                                 [[Kids &amp; Family]]</td>\n",
        "      <td>  [17769442]</td>\n",
        "    </tr>\n",
        "    <tr>\n",
        "      <th>3</th>\n",
        "      <td>         Anthony Russo</td>\n",
        "      <td> [771312513]</td>\n",
        "      <td> [89]</td>\n",
        "      <td> [92]</td>\n",
        "      <td> [[Action &amp; Adventure, Science Fiction &amp; Fantasy]]</td>\n",
        "      <td> [259322890]</td>\n",
        "    </tr>\n",
        "    <tr>\n",
        "      <th>4</th>\n",
        "      <td>          Biyi Bandele</td>\n",
        "      <td> [771362050]</td>\n",
        "      <td> [51]</td>\n",
        "      <td> [34]</td>\n",
        "      <td>                                         [[Drama]]</td>\n",
        "      <td>     [44268]</td>\n",
        "    </tr>\n",
        "  </tbody>\n",
        "</table>\n",
        "</div>"
       ],
       "metadata": {},
       "output_type": "pyout",
       "prompt_number": 39,
       "text": [
        "                    Name        Movie Critic_rating Audience_rating  \\\n",
        "0        Aaron Fernandez  [771366327]          [83]            [38]   \n",
        "1  Aaron Fernandez Lesur  [771366327]          [83]            [38]   \n",
        "2    Alastair Fothergill  [771318848]          [89]            [79]   \n",
        "3          Anthony Russo  [771312513]          [89]            [92]   \n",
        "4           Biyi Bandele  [771362050]          [51]            [34]   \n",
        "\n",
        "                                               Genre    Boxoffice  \n",
        "0                                          [[Drama]]       [4609]  \n",
        "1                                          [[Drama]]       [4609]  \n",
        "2                                  [[Kids & Family]]   [17769442]  \n",
        "3  [[Action & Adventure, Science Fiction & Fantasy]]  [259322890]  \n",
        "4                                          [[Drama]]      [44268]  "
       ]
      }
     ],
     "prompt_number": 39
    },
    {
     "cell_type": "code",
     "collapsed": false,
     "input": [
      "print len(DirectorTable)\n",
      "DirectorTable.to_pickle('DirectorTable2014.pkl')"
     ],
     "language": "python",
     "metadata": {},
     "outputs": [
      {
       "output_type": "stream",
       "stream": "stdout",
       "text": [
        "76\n"
       ]
      }
     ],
     "prompt_number": 63
    },
    {
     "cell_type": "markdown",
     "metadata": {},
     "source": [
      "### Get # of followers from Twitter"
     ]
    },
    {
     "cell_type": "code",
     "collapsed": false,
     "input": [
      "from TwitterAPI import TwitterAPI\n",
      "CONSUMER_KEY = 'L96guHuxCIRxz0quUVCNkHYL7'\n",
      "CONSUMER_SECRET = 'kSHrrjByp6OyjQM0pFcYTlGE3olASilkIhkBbAuGebZPXGnBVB'\n",
      "access_token = '806213791-laNuZaMYzd54k9teiqQ8uOgBlP3XO8qxUBF1ebST'\n",
      "access_secret = 'rU1dp7KTreCXl02mckYVceX8iJmywcG9F95TBYOCzioYW'\n",
      "api = TwitterAPI(CONSUMER_KEY, CONSUMER_SECRET, access_token, access_secret)"
     ],
     "language": "python",
     "metadata": {},
     "outputs": [],
     "prompt_number": 42
    },
    {
     "cell_type": "code",
     "collapsed": false,
     "input": [
      "CONSUMER_KEY2 = 'ZanES4cy8hufvy2yjTLFG8tbO'\n",
      "CONSUMER_SECRET2 = 'uSbXql55opsnhzGyUlRngp72ZrjjTDNrtkXRHJZ2nTmJJCQ5Mi'\n",
      "access_token2 = '2268307190-H2eYVAJ3QrrMyuV9nc4ri44pCyZsol0ricXdniU'\n",
      "access_secret2 = 'I7doox0PWs22EUMIqFPnk7SqMDFydethoOOR83Wif954f'\n",
      "api2 = TwitterAPI(CONSUMER_KEY2, CONSUMER_SECRET2, access_token2, access_secret2)"
     ],
     "language": "python",
     "metadata": {},
     "outputs": [],
     "prompt_number": 43
    },
    {
     "cell_type": "code",
     "collapsed": false,
     "input": [
      "ActorTable = pd.read_pickle('ActorTable2014.pkl')\n",
      "MovieTable = pd.read_pickle('MovieTable2014.pkl')\n",
      "tweets = dict()\n",
      "follower = dict()\n",
      "for i in xrange(len(ActorTable)):\n",
      "    time.sleep(3)\n",
      "    if i%60==0:\n",
      "        print i\n",
      "    name = ActorTable['Name'][i].encode('ascii', 'ignore')\n",
      "    result = 0\n",
      "    if i%2==0:\n",
      "        result = api.request('users/search', {'q':name, 'page':'1', 'count':'1'}).json()\n",
      "    else:\n",
      "        result = api2.request('users/search', {'q':name, 'page':'1', 'count':'1'}).json()\n",
      "    try:\n",
      "        follower[ActorTable['ID'][i]] = result[0]['followers_count']\n",
      "        tweets[ActorTable['ID'][i]] = result[0]['statuses_count']\n",
      "    except:\n",
      "        print name"
     ],
     "language": "python",
     "metadata": {},
     "outputs": [
      {
       "output_type": "stream",
       "stream": "stdout",
       "text": [
        "0\n",
        "60"
       ]
      },
      {
       "output_type": "stream",
       "stream": "stdout",
       "text": [
        "\n",
        "120"
       ]
      },
      {
       "output_type": "stream",
       "stream": "stdout",
       "text": [
        "\n",
        "Adewale Akinnuoye-Agbaje"
       ]
      },
      {
       "output_type": "stream",
       "stream": "stdout",
       "text": [
        "\n",
        "180"
       ]
      },
      {
       "output_type": "stream",
       "stream": "stdout",
       "text": [
        "\n",
        "240"
       ]
      },
      {
       "output_type": "stream",
       "stream": "stdout",
       "text": [
        "\n",
        "Armondo Cosio"
       ]
      },
      {
       "output_type": "stream",
       "stream": "stdout",
       "text": [
        "\n",
        "Reese C. Hartwig"
       ]
      },
      {
       "output_type": "stream",
       "stream": "stdout",
       "text": [
        "\n",
        "Ella Linnea Wahlestedt"
       ]
      },
      {
       "output_type": "stream",
       "stream": "stdout",
       "text": [
        "\n",
        "Duffy Levant"
       ]
      },
      {
       "output_type": "stream",
       "stream": "stdout",
       "text": [
        "\n",
        "Eliseo Lara Martinez"
       ]
      },
      {
       "output_type": "stream",
       "stream": "stdout",
       "text": [
        "\n",
        "Rebeca Villacorte"
       ]
      },
      {
       "output_type": "stream",
       "stream": "stdout",
       "text": [
        "\n",
        "Danny Cheng, M.D."
       ]
      },
      {
       "output_type": "stream",
       "stream": "stdout",
       "text": [
        "\n",
        "Arash Kohanteb, M.D."
       ]
      },
      {
       "output_type": "stream",
       "stream": "stdout",
       "text": [
        "\n",
        "William \"Billy\" Mallon, M.D."
       ]
      },
      {
       "output_type": "stream",
       "stream": "stdout",
       "text": [
        "\n"
       ]
      }
     ],
     "prompt_number": 45
    },
    {
     "cell_type": "code",
     "collapsed": false,
     "input": [
      "Tweets = pd.DataFrame(tweets.items())\n",
      "Tweets.columns = ['ID', 'Tweet']\n",
      "Follower = pd.DataFrame(follower.items())\n",
      "Follower.columns = ['ID', 'Follower']\n",
      "TwitterData = pd.merge(Tweets, Follower, on='ID')"
     ],
     "language": "python",
     "metadata": {},
     "outputs": [],
     "prompt_number": 46
    },
    {
     "cell_type": "code",
     "collapsed": false,
     "input": [
      "ActorTable = pd.read_pickle('ActorTable2014.pkl')\n",
      "MovieTable = pd.read_pickle('MovieTable2014.pkl')\n",
      "NewActorTable = pd.merge(ActorTable, TwitterData, on='ID')\n",
      "NewActorTable.head()"
     ],
     "language": "python",
     "metadata": {},
     "outputs": [
      {
       "html": [
        "<div style=\"max-height:1000px;max-width:1500px;overflow:auto;\">\n",
        "<table border=\"1\" class=\"dataframe\">\n",
        "  <thead>\n",
        "    <tr style=\"text-align: right;\">\n",
        "      <th></th>\n",
        "      <th>ID</th>\n",
        "      <th>Name</th>\n",
        "      <th>Movie</th>\n",
        "      <th>Critic_rating</th>\n",
        "      <th>Audience_rating</th>\n",
        "      <th>Genre</th>\n",
        "      <th>Boxoffice</th>\n",
        "      <th>Tweet</th>\n",
        "      <th>Follower</th>\n",
        "    </tr>\n",
        "  </thead>\n",
        "  <tbody>\n",
        "    <tr>\n",
        "      <th>0</th>\n",
        "      <td> 162652156</td>\n",
        "      <td> Samuel L. Jackson</td>\n",
        "      <td> [770803774, 771312513]</td>\n",
        "      <td> [48, 89]</td>\n",
        "      <td> [52, 92]</td>\n",
        "      <td> [[Action &amp; Adventure, Science Fiction &amp; Fantas...</td>\n",
        "      <td> [58607007, 259322890]</td>\n",
        "      <td>  2120</td>\n",
        "      <td> 4339177</td>\n",
        "    </tr>\n",
        "    <tr>\n",
        "      <th>1</th>\n",
        "      <td> 162652185</td>\n",
        "      <td>      Will Ferrell</td>\n",
        "      <td>            [771305753]</td>\n",
        "      <td>     [96]</td>\n",
        "      <td>     [87]</td>\n",
        "      <td> [[Action &amp; Adventure, Animation, Kids &amp; Family...</td>\n",
        "      <td>           [257716507]</td>\n",
        "      <td>  4094</td>\n",
        "      <td>  410696</td>\n",
        "    </tr>\n",
        "    <tr>\n",
        "      <th>2</th>\n",
        "      <td> 162652224</td>\n",
        "      <td>    Morgan Freeman</td>\n",
        "      <td>            [771360863]</td>\n",
        "      <td>     [66]</td>\n",
        "      <td>     [47]</td>\n",
        "      <td>                            [[Action &amp; Adventure]]</td>\n",
        "      <td>           [125480625]</td>\n",
        "      <td> 46415</td>\n",
        "      <td>  363525</td>\n",
        "    </tr>\n",
        "    <tr>\n",
        "      <th>3</th>\n",
        "      <td> 162652241</td>\n",
        "      <td>         Eva Green</td>\n",
        "      <td>            [771249085]</td>\n",
        "      <td>     [42]</td>\n",
        "      <td>     [54]</td>\n",
        "      <td>                     [[Drama, Action &amp; Adventure]]</td>\n",
        "      <td>           [106580051]</td>\n",
        "      <td>     3</td>\n",
        "      <td>   27469</td>\n",
        "    </tr>\n",
        "    <tr>\n",
        "      <th>4</th>\n",
        "      <td> 162652242</td>\n",
        "      <td>       Liam Neeson</td>\n",
        "      <td> [771304322, 771350283]</td>\n",
        "      <td> [60, 33]</td>\n",
        "      <td> [65, 41]</td>\n",
        "      <td> [[Mystery &amp; Suspense, Action &amp; Adventure], [We...</td>\n",
        "      <td>  [91104080, 42615685]</td>\n",
        "      <td>   404</td>\n",
        "      <td>   21447</td>\n",
        "    </tr>\n",
        "  </tbody>\n",
        "</table>\n",
        "</div>"
       ],
       "metadata": {},
       "output_type": "pyout",
       "prompt_number": 47,
       "text": [
        "          ID               Name                   Movie Critic_rating  \\\n",
        "0  162652156  Samuel L. Jackson  [770803774, 771312513]      [48, 89]   \n",
        "1  162652185       Will Ferrell             [771305753]          [96]   \n",
        "2  162652224     Morgan Freeman             [771360863]          [66]   \n",
        "3  162652241          Eva Green             [771249085]          [42]   \n",
        "4  162652242        Liam Neeson  [771304322, 771350283]      [60, 33]   \n",
        "\n",
        "  Audience_rating                                              Genre  \\\n",
        "0        [52, 92]  [[Action & Adventure, Science Fiction & Fantas...   \n",
        "1            [87]  [[Action & Adventure, Animation, Kids & Family...   \n",
        "2            [47]                             [[Action & Adventure]]   \n",
        "3            [54]                      [[Drama, Action & Adventure]]   \n",
        "4        [65, 41]  [[Mystery & Suspense, Action & Adventure], [We...   \n",
        "\n",
        "               Boxoffice  Tweet  Follower  \n",
        "0  [58607007, 259322890]   2120   4339177  \n",
        "1            [257716507]   4094    410696  \n",
        "2            [125480625]  46415    363525  \n",
        "3            [106580051]      3     27469  \n",
        "4   [91104080, 42615685]    404     21447  "
       ]
      }
     ],
     "prompt_number": 47
    },
    {
     "cell_type": "code",
     "collapsed": false,
     "input": [
      "NewActorTable.to_pickle('ActorTable_Twitter2014.pkl')"
     ],
     "language": "python",
     "metadata": {},
     "outputs": [],
     "prompt_number": 48
    },
    {
     "cell_type": "code",
     "collapsed": false,
     "input": [
      "NewActorTable.shape"
     ],
     "language": "python",
     "metadata": {},
     "outputs": [
      {
       "metadata": {},
       "output_type": "pyout",
       "prompt_number": 51,
       "text": [
        "(289, 9)"
       ]
      }
     ],
     "prompt_number": 51
    },
    {
     "cell_type": "code",
     "collapsed": false,
     "input": [
      "ActorTable.shape"
     ],
     "language": "python",
     "metadata": {},
     "outputs": [
      {
       "metadata": {},
       "output_type": "pyout",
       "prompt_number": 52,
       "text": [
        "(299, 7)"
       ]
      }
     ],
     "prompt_number": 52
    },
    {
     "cell_type": "code",
     "collapsed": false,
     "input": [
      "ActorTable[ActorTable.Name == \"Adewale Akinnuoye-Agbaje\"]"
     ],
     "language": "python",
     "metadata": {},
     "outputs": [
      {
       "html": [
        "<div style=\"max-height:1000px;max-width:1500px;overflow:auto;\">\n",
        "<table border=\"1\" class=\"dataframe\">\n",
        "  <thead>\n",
        "    <tr style=\"text-align: right;\">\n",
        "      <th></th>\n",
        "      <th>ID</th>\n",
        "      <th>Name</th>\n",
        "      <th>Movie</th>\n",
        "      <th>Critic_rating</th>\n",
        "      <th>Audience_rating</th>\n",
        "      <th>Genre</th>\n",
        "      <th>Boxoffice</th>\n",
        "    </tr>\n",
        "  </thead>\n",
        "  <tbody>\n",
        "    <tr>\n",
        "      <th>150</th>\n",
        "      <td> 405589153</td>\n",
        "      <td> Adewale Akinnuoye-Agbaje</td>\n",
        "      <td> [771242147]</td>\n",
        "      <td> [29]</td>\n",
        "      <td> [36]</td>\n",
        "      <td> [[Drama, Action &amp; Adventure, Mystery &amp; Suspense]]</td>\n",
        "      <td> [23219748]</td>\n",
        "    </tr>\n",
        "  </tbody>\n",
        "</table>\n",
        "</div>"
       ],
       "metadata": {},
       "output_type": "pyout",
       "prompt_number": 50,
       "text": [
        "            ID                      Name        Movie Critic_rating  \\\n",
        "150  405589153  Adewale Akinnuoye-Agbaje  [771242147]          [29]   \n",
        "\n",
        "    Audience_rating                                              Genre  \\\n",
        "150            [36]  [[Drama, Action & Adventure, Mystery & Suspense]]   \n",
        "\n",
        "      Boxoffice  \n",
        "150  [23219748]  "
       ]
      }
     ],
     "prompt_number": 50
    },
    {
     "cell_type": "code",
     "collapsed": false,
     "input": [
      "for RemovedName in [\"Adewale Akinnuoye-Agbaje\", \"Armondo Cosio\", \"Reese C. Hartwig\",  \"Ella Linnea Wahlestedt\", \"Duffy Levant\",\n",
      "                    \"Eliseo Lara Martinez\", \"Rebeca Villacorte\", \"Danny Cheng, M.D.\", \"Arash Kohanteb, M.D.\", \n",
      "                    'William \"Billy\" Mallon, M.D.']:\n",
      "\n",
      "    row = ActorTable[ActorTable.Name == RemovedName]\n",
      "    print row.Movie.values[0]\n",
      "    for movie_id in row.Movie.values[0]:\n",
      "        todelete = -0.1\n",
      "        #print movie_id\n",
      "        cast_list = MovieTable[MovieTable.ID == movie_id].Cast\n",
      "        print cast_list.values[0]\n",
      "        for i in xrange(len(cast_list.values[0])):\n",
      "            #print cast_list.values[0][i][\"name\"]\n",
      "            if cast_list.values[0][i][\"name\"] == RemovedName:\n",
      "                todelete = i\n",
      "        del cast_list.values[0][todelete]\n",
      "        #print todelete\n",
      "        print cast_list.values[0]"
     ],
     "language": "python",
     "metadata": {},
     "outputs": [
      {
       "output_type": "stream",
       "stream": "stdout",
       "text": [
        "[u'771242147']\n",
        "[{u'name': u'Emily Browning', u'characters': [u'Cassia'], u'id': u'381421024'}, {u'name': u'Kit Harington', u'characters': [u'Milo'], u'id': u'771384803'}, {u'name': u'Carrie-Anne Moss', u'characters': [u'Aurelia'], u'id': u'162669130'}, {u'name': u'Adewale Akinnuoye-Agbaje', u'characters': [u'Atticus'], u'id': u'405589153'}, {u'name': u'Jessica Lucas', u'characters': [u'Ariadne'], u'id': u'770689629'}]\n",
        "[{u'name': u'Emily Browning', u'characters': [u'Cassia'], u'id': u'381421024'}, {u'name': u'Kit Harington', u'characters': [u'Milo'], u'id': u'771384803'}, {u'name': u'Carrie-Anne Moss', u'characters': [u'Aurelia'], u'id': u'162669130'}, {u'name': u'Jessica Lucas', u'characters': [u'Ariadne'], u'id': u'770689629'}]\n",
        "[u'771375186']\n",
        "[{u'name': u'Gabriel Iglesias', u'id': u'770761504'}, {u'name': u'Jacqueline Obradors', u'characters': [u'Esther P. Mendez'], u'id': u'162665815'}, {u'name': u'Gina Brillon', u'characters': [u'Carmen'], u'id': u'771498538'}, {u'name': u'Alfred Robles', u'characters': [u'Pervert #1'], u'id': u'771498539'}, {u'name': u'Armondo Cosio', u'characters': [u'Host'], u'id': u'771316179'}]\n",
        "[{u'name': u'Gabriel Iglesias', u'id': u'770761504'}, {u'name': u'Jacqueline Obradors', u'characters': [u'Esther P. Mendez'], u'id': u'162665815'}, {u'name': u'Gina Brillon', u'characters': [u'Carmen'], u'id': u'771498538'}, {u'name': u'Alfred Robles', u'characters': [u'Pervert #1'], u'id': u'771498539'}]\n",
        "[u'771356653']\n",
        "[{u'name': u'Brian Bradley', u'id': u'770771664'}, {u'name': u'Teo Halm', u'characters': [u'Alex'], u'id': u'771452922'}, {u'name': u'Astro', u'characters': [u'Tuck'], u'id': u'770769927'}, {u'name': u'Ella Linnea Wahlestedt', u'characters': [u'Emma'], u'id': u'771483962'}, {u'name': u'Reese C. Hartwig', u'characters': [u'Munch'], u'id': u'771452923'}]\n",
        "[{u'name': u'Brian Bradley', u'id': u'770771664'}, {u'name': u'Teo Halm', u'characters': [u'Alex'], u'id': u'771452922'}, {u'name': u'Astro', u'characters': [u'Tuck'], u'id': u'770769927'}, {u'name': u'Ella Linnea Wahlestedt', u'characters': [u'Emma'], u'id': u'771483962'}]\n",
        "[u'771356653']\n",
        "[{u'name': u'Brian Bradley', u'id': u'770771664'}, {u'name': u'Teo Halm', u'characters': [u'Alex'], u'id': u'771452922'}, {u'name': u'Astro', u'characters': [u'Tuck'], u'id': u'770769927'}, {u'name': u'Ella Linnea Wahlestedt', u'characters': [u'Emma'], u'id': u'771483962'}]\n",
        "[{u'name': u'Brian Bradley', u'id': u'770771664'}, {u'name': u'Teo Halm', u'characters': [u'Alex'], u'id': u'771452922'}, {u'name': u'Astro', u'characters': [u'Tuck'], u'id': u'770769927'}]\n",
        "[u'771362199']\n",
        "[{u'name': u'Mary Ellen Mark', u'id': u'771099366'}, {u'name': u'Phil Donahue', u'id': u'770674630'}, {u'name': u'Duffy Levant', u'id': u'771485051'}, {u'name': u'Joe Matthews', u'id': u'771361728'}, {u'name': u'Michael Strauss', u'id': u'771082869'}]\n",
        "[{u'name': u'Mary Ellen Mark', u'id': u'771099366'}, {u'name': u'Phil Donahue', u'id': u'770674630'}, {u'name': u'Joe Matthews', u'id': u'771361728'}, {u'name': u'Michael Strauss', u'id': u'771082869'}]\n",
        "[u'771366327']\n",
        "[{u'name': u'Kristyan Ferrer', u'characters': [u'Sebastian'], u'id': u'770830717'}, {u'name': u'Adriana Paz', u'characters': [u'Miranda'], u'id': u'770839342'}, {u'name': u'Eliseo Lara Martinez', u'characters': [u'Jacinto'], u'id': u'771493255'}, {u'name': u'Bartolo Campos', u'characters': [u'Severino'], u'id': u'771493256'}, {u'name': u'Rebeca Villacorte', u'characters': [u'Lucha'], u'id': u'771493257'}]\n",
        "[{u'name': u'Kristyan Ferrer', u'characters': [u'Sebastian'], u'id': u'770830717'}, {u'name': u'Adriana Paz', u'characters': [u'Miranda'], u'id': u'770839342'}, {u'name': u'Bartolo Campos', u'characters': [u'Severino'], u'id': u'771493256'}, {u'name': u'Rebeca Villacorte', u'characters': [u'Lucha'], u'id': u'771493257'}]\n",
        "[u'771366327']\n",
        "[{u'name': u'Kristyan Ferrer', u'characters': [u'Sebastian'], u'id': u'770830717'}, {u'name': u'Adriana Paz', u'characters': [u'Miranda'], u'id': u'770839342'}, {u'name': u'Bartolo Campos', u'characters': [u'Severino'], u'id': u'771493256'}, {u'name': u'Rebeca Villacorte', u'characters': [u'Lucha'], u'id': u'771493257'}]\n",
        "[{u'name': u'Kristyan Ferrer', u'characters': [u'Sebastian'], u'id': u'770830717'}, {u'name': u'Adriana Paz', u'characters': [u'Miranda'], u'id': u'770839342'}, {u'name': u'Bartolo Campos', u'characters': [u'Severino'], u'id': u'771493256'}]\n",
        "[u'771357553']\n",
        "[{u'name': u'Ryan McGarry', u'id': u'771447829'}, {u'name': u'Andrew Eads, M.D.', u'id': u'771495816'}, {u'name': u'Danny Cheng, M.D.', u'id': u'771495818'}, {u'name': u'Arash Kohanteb, M.D.', u'id': u'771495819'}, {u'name': u'William \"Billy\" Mallon, M.D.', u'id': u'771495820'}]\n",
        "[{u'name': u'Ryan McGarry', u'id': u'771447829'}, {u'name': u'Andrew Eads, M.D.', u'id': u'771495816'}, {u'name': u'Arash Kohanteb, M.D.', u'id': u'771495819'}, {u'name': u'William \"Billy\" Mallon, M.D.', u'id': u'771495820'}]\n",
        "[u'771357553']\n",
        "[{u'name': u'Ryan McGarry', u'id': u'771447829'}, {u'name': u'Andrew Eads, M.D.', u'id': u'771495816'}, {u'name': u'Arash Kohanteb, M.D.', u'id': u'771495819'}, {u'name': u'William \"Billy\" Mallon, M.D.', u'id': u'771495820'}]\n",
        "[{u'name': u'Ryan McGarry', u'id': u'771447829'}, {u'name': u'Andrew Eads, M.D.', u'id': u'771495816'}, {u'name': u'William \"Billy\" Mallon, M.D.', u'id': u'771495820'}]\n",
        "[u'771357553']\n",
        "[{u'name': u'Ryan McGarry', u'id': u'771447829'}, {u'name': u'Andrew Eads, M.D.', u'id': u'771495816'}, {u'name': u'William \"Billy\" Mallon, M.D.', u'id': u'771495820'}]\n",
        "[{u'name': u'Ryan McGarry', u'id': u'771447829'}, {u'name': u'Andrew Eads, M.D.', u'id': u'771495816'}]\n"
       ]
      }
     ],
     "prompt_number": 53
    },
    {
     "cell_type": "code",
     "collapsed": false,
     "input": [
      "MovieTable[MovieTable.ID == \"771362199\"]"
     ],
     "language": "python",
     "metadata": {},
     "outputs": [
      {
       "html": [
        "<div style=\"max-height:1000px;max-width:1500px;overflow:auto;\">\n",
        "<table border=\"1\" class=\"dataframe\">\n",
        "  <thead>\n",
        "    <tr style=\"text-align: right;\">\n",
        "      <th></th>\n",
        "      <th>Audience_rating</th>\n",
        "      <th>Cast</th>\n",
        "      <th>Critic_rating</th>\n",
        "      <th>Director</th>\n",
        "      <th>Genre</th>\n",
        "      <th>ID</th>\n",
        "      <th>Movie</th>\n",
        "      <th>Release</th>\n",
        "      <th>Review</th>\n",
        "      <th>imdb</th>\n",
        "      <th>weblink</th>\n",
        "      <th>BoxOffice</th>\n",
        "    </tr>\n",
        "  </thead>\n",
        "  <tbody>\n",
        "    <tr>\n",
        "      <th>21</th>\n",
        "      <td> 88</td>\n",
        "      <td> [{u'name': u'Mary Ellen Mark', u'id': u'771099...</td>\n",
        "      <td> 94</td>\n",
        "      <td> [{u'name': u'Charlie Siskel'}, {u'name': u'Joh...</td>\n",
        "      <td> [Documentary, Special Interest]</td>\n",
        "      <td> 771362199</td>\n",
        "      <td> Finding Vivian Maier</td>\n",
        "      <td> 2014-03-21</td>\n",
        "      <td> http://api.rottentomatoes.com/api/public/v1.0/...</td>\n",
        "      <td> 2714900</td>\n",
        "      <td> http://www.rottentomatoes.com/m/finding_vivian...</td>\n",
        "      <td> 1503616</td>\n",
        "    </tr>\n",
        "  </tbody>\n",
        "</table>\n",
        "</div>"
       ],
       "metadata": {},
       "output_type": "pyout",
       "prompt_number": 56,
       "text": [
        "    Audience_rating                                               Cast  \\\n",
        "21               88  [{u'name': u'Mary Ellen Mark', u'id': u'771099...   \n",
        "\n",
        "    Critic_rating                                           Director  \\\n",
        "21             94  [{u'name': u'Charlie Siskel'}, {u'name': u'Joh...   \n",
        "\n",
        "                              Genre         ID                 Movie  \\\n",
        "21  [Documentary, Special Interest]  771362199  Finding Vivian Maier   \n",
        "\n",
        "       Release                                             Review     imdb  \\\n",
        "21  2014-03-21  http://api.rottentomatoes.com/api/public/v1.0/...  2714900   \n",
        "\n",
        "                                              weblink  BoxOffice  \n",
        "21  http://www.rottentomatoes.com/m/finding_vivian...    1503616  "
       ]
      }
     ],
     "prompt_number": 56
    },
    {
     "cell_type": "code",
     "collapsed": false,
     "input": [
      "ActorTable.head()"
     ],
     "language": "python",
     "metadata": {},
     "outputs": [
      {
       "html": [
        "<div style=\"max-height:1000px;max-width:1500px;overflow:auto;\">\n",
        "<table border=\"1\" class=\"dataframe\">\n",
        "  <thead>\n",
        "    <tr style=\"text-align: right;\">\n",
        "      <th></th>\n",
        "      <th>ID</th>\n",
        "      <th>Name</th>\n",
        "      <th>Movie</th>\n",
        "      <th>Critic_rating</th>\n",
        "      <th>Audience_rating</th>\n",
        "      <th>Genre</th>\n",
        "      <th>Boxoffice</th>\n",
        "    </tr>\n",
        "  </thead>\n",
        "  <tbody>\n",
        "    <tr>\n",
        "      <th>0</th>\n",
        "      <td> 162652156</td>\n",
        "      <td> Samuel L. Jackson</td>\n",
        "      <td> [770803774, 771312513]</td>\n",
        "      <td> [48, 89]</td>\n",
        "      <td> [52, 92]</td>\n",
        "      <td> [[Action &amp; Adventure, Science Fiction &amp; Fantas...</td>\n",
        "      <td> [58607007, 259322890]</td>\n",
        "    </tr>\n",
        "    <tr>\n",
        "      <th>1</th>\n",
        "      <td> 162652185</td>\n",
        "      <td>      Will Ferrell</td>\n",
        "      <td>            [771305753]</td>\n",
        "      <td>     [96]</td>\n",
        "      <td>     [87]</td>\n",
        "      <td> [[Action &amp; Adventure, Animation, Kids &amp; Family...</td>\n",
        "      <td>           [257716507]</td>\n",
        "    </tr>\n",
        "    <tr>\n",
        "      <th>2</th>\n",
        "      <td> 162652224</td>\n",
        "      <td>    Morgan Freeman</td>\n",
        "      <td>            [771360863]</td>\n",
        "      <td>     [66]</td>\n",
        "      <td>     [47]</td>\n",
        "      <td>                            [[Action &amp; Adventure]]</td>\n",
        "      <td>           [125480625]</td>\n",
        "    </tr>\n",
        "    <tr>\n",
        "      <th>3</th>\n",
        "      <td> 162652241</td>\n",
        "      <td>         Eva Green</td>\n",
        "      <td>            [771249085]</td>\n",
        "      <td>     [42]</td>\n",
        "      <td>     [54]</td>\n",
        "      <td>                     [[Drama, Action &amp; Adventure]]</td>\n",
        "      <td>           [106580051]</td>\n",
        "    </tr>\n",
        "    <tr>\n",
        "      <th>4</th>\n",
        "      <td> 162652242</td>\n",
        "      <td>       Liam Neeson</td>\n",
        "      <td> [771304322, 771350283]</td>\n",
        "      <td> [60, 33]</td>\n",
        "      <td> [65, 41]</td>\n",
        "      <td> [[Mystery &amp; Suspense, Action &amp; Adventure], [We...</td>\n",
        "      <td>  [91104080, 42615685]</td>\n",
        "    </tr>\n",
        "  </tbody>\n",
        "</table>\n",
        "</div>"
       ],
       "metadata": {},
       "output_type": "pyout",
       "prompt_number": 58,
       "text": [
        "          ID               Name                   Movie Critic_rating  \\\n",
        "0  162652156  Samuel L. Jackson  [770803774, 771312513]      [48, 89]   \n",
        "1  162652185       Will Ferrell             [771305753]          [96]   \n",
        "2  162652224     Morgan Freeman             [771360863]          [66]   \n",
        "3  162652241          Eva Green             [771249085]          [42]   \n",
        "4  162652242        Liam Neeson  [771304322, 771350283]      [60, 33]   \n",
        "\n",
        "  Audience_rating                                              Genre  \\\n",
        "0        [52, 92]  [[Action & Adventure, Science Fiction & Fantas...   \n",
        "1            [87]  [[Action & Adventure, Animation, Kids & Family...   \n",
        "2            [47]                             [[Action & Adventure]]   \n",
        "3            [54]                      [[Drama, Action & Adventure]]   \n",
        "4        [65, 41]  [[Mystery & Suspense, Action & Adventure], [We...   \n",
        "\n",
        "               Boxoffice  \n",
        "0  [58607007, 259322890]  \n",
        "1            [257716507]  \n",
        "2            [125480625]  \n",
        "3            [106580051]  \n",
        "4   [91104080, 42615685]  "
       ]
      }
     ],
     "prompt_number": 58
    },
    {
     "cell_type": "code",
     "collapsed": false,
     "input": [
      "#check if movie-actor pair number is consistent\n",
      "count1 = 0\n",
      "count2 = 0\n",
      "ActorTable_Twitter = pd.read_pickle('ActorTable_Twitter2014.pkl')\n",
      "for i in MovieTable.Cast:\n",
      "    count1 = count1 + len(i)\n",
      "    if len(i)==0:\n",
      "        print 'alert!'\n",
      "for i in ActorTable_Twitter.Movie:\n",
      "    count2 = count2 + len(i)\n",
      "print count1 == count2\n",
      "print count1\n",
      "print count2"
     ],
     "language": "python",
     "metadata": {},
     "outputs": [
      {
       "output_type": "stream",
       "stream": "stdout",
       "text": [
        "True\n",
        "309\n",
        "309\n"
       ]
      }
     ],
     "prompt_number": 59
    },
    {
     "cell_type": "code",
     "collapsed": false,
     "input": [
      "DirectorTable = pd.read_pickle('DirectorTable2014.pkl')\n",
      "#update director table\n",
      "for movies in DirectorTable.Movie:\n",
      "    todelete = []\n",
      "    for i in range(len(movies)):\n",
      "        if movies[i] not in MovieTable.ID.values:\n",
      "            todelete.append(movies[i])\n",
      "    for i in todelete:\n",
      "        movies.remove(i)\n",
      "        print i"
     ],
     "language": "python",
     "metadata": {},
     "outputs": [],
     "prompt_number": 65
    },
    {
     "cell_type": "code",
     "collapsed": false,
     "input": [
      "MovieTable.to_pickle('MovieTable_Twitter2014.pkl')\n",
      "ActorTable_Twitter.to_pickle('ActorTable_Twitter2014.pkl')\n",
      "DirectorTable.to_pickle('DirectorTable_Twitter2014.pkl')"
     ],
     "language": "python",
     "metadata": {},
     "outputs": [],
     "prompt_number": 66
    },
    {
     "cell_type": "markdown",
     "metadata": {},
     "source": [
      "### Get Critics info from rotten tomato"
     ]
    },
    {
     "cell_type": "code",
     "collapsed": false,
     "input": [
      "import argparse\n",
      "import json\n",
      "import pprint\n",
      "import sys\n",
      "import urllib\n",
      "import urllib2\n",
      "import time\n",
      "import datetime\n",
      "import pandas as pd"
     ],
     "language": "python",
     "metadata": {},
     "outputs": [],
     "prompt_number": 20
    },
    {
     "cell_type": "code",
     "collapsed": false,
     "input": [
      "MovieTable = pd.read_pickle('MovieTable_Twitter2014.pkl')"
     ],
     "language": "python",
     "metadata": {},
     "outputs": [],
     "prompt_number": 67
    },
    {
     "cell_type": "code",
     "collapsed": false,
     "input": [
      "\n",
      "json.loads(urllib2.urlopen('http://api.rottentomatoes.com/api/public/v1.0/movies/12903/reviews.json?apikey=m7jmrcna938zje4rqefde4n7').read())['reviews'][0]"
     ],
     "language": "python",
     "metadata": {},
     "outputs": [
      {
       "metadata": {},
       "output_type": "pyout",
       "prompt_number": 68,
       "text": [
        "{u'critic': u'Stanley Kauffmann',\n",
        " u'date': u'2014-01-07',\n",
        " u'freshness': u'fresh',\n",
        " u'links': {u'review': u'http://www.newrepublic.com/article/115104/new-spielberg-and-others'},\n",
        " u'publication': u'The New Republic',\n",
        " u'quote': u\"For this film Spielberg has done the best directing of his career. Much of his previous work has been clever and some of it better than that, but Schindler's List is masterly.\"}"
       ]
      }
     ],
     "prompt_number": 68
    },
    {
     "cell_type": "code",
     "collapsed": false,
     "input": [
      "#get critic reviews from rotten\n",
      "api_key = '?apikey=m7jmrcna938zje4rqefde4n7'\n",
      "\n",
      "movie_id =[]\n",
      "name=[]\n",
      "fresh=[]\n",
      "genre=[]\n",
      "boxoffice=[]\n",
      "publication = []\n",
      "\n",
      "\n",
      "for i in xrange(len(MovieTable)):\n",
      "    time.sleep(0.5)\n",
      "    if (i%100 == 0):\n",
      "        print i\n",
      "    url = MovieTable.Review[i]+api_key\n",
      "    data = json.loads(urllib2.urlopen(url).read())\n",
      "    for review in data['reviews']:\n",
      "        if (review['critic'] != ''):\n",
      "            movie_id.append(MovieTable.ID[i])\n",
      "            name.append(review['critic'])\n",
      "            genre.append(MovieTable.Genre[i])\n",
      "            boxoffice.append(MovieTable.BoxOffice[i])\n",
      "            publication.append(review['publication'])\n",
      "            if review['freshness']=='fresh':\n",
      "                fresh.append(1)\n",
      "            else:\n",
      "                fresh.append(0)"
     ],
     "language": "python",
     "metadata": {},
     "outputs": [
      {
       "output_type": "stream",
       "stream": "stdout",
       "text": [
        "0\n"
       ]
      }
     ],
     "prompt_number": 69
    },
    {
     "cell_type": "code",
     "collapsed": false,
     "input": [
      "CriticRaw = pd.DataFrame([movie_id, name, fresh, genre, boxoffice, publication]).transpose()\n",
      "CriticRaw.to_pickle('CriticRaw2014.pkl')"
     ],
     "language": "python",
     "metadata": {},
     "outputs": [],
     "prompt_number": 70
    },
    {
     "cell_type": "code",
     "collapsed": false,
     "input": [
      "CriticRaw.head()"
     ],
     "language": "python",
     "metadata": {},
     "outputs": [
      {
       "html": [
        "<div style=\"max-height:1000px;max-width:1500px;overflow:auto;\">\n",
        "<table border=\"1\" class=\"dataframe\">\n",
        "  <thead>\n",
        "    <tr style=\"text-align: right;\">\n",
        "      <th></th>\n",
        "      <th>0</th>\n",
        "      <th>1</th>\n",
        "      <th>2</th>\n",
        "      <th>3</th>\n",
        "      <th>4</th>\n",
        "      <th>5</th>\n",
        "    </tr>\n",
        "  </thead>\n",
        "  <tbody>\n",
        "    <tr>\n",
        "      <th>0</th>\n",
        "      <td> 771320491</td>\n",
        "      <td>   David Denby</td>\n",
        "      <td> 0</td>\n",
        "      <td> [Action &amp; Adventure, Comedy]</td>\n",
        "      <td> 134141530</td>\n",
        "      <td>              New Yorker</td>\n",
        "    </tr>\n",
        "    <tr>\n",
        "      <th>1</th>\n",
        "      <td> 771320491</td>\n",
        "      <td>  Ashley Clark</td>\n",
        "      <td> 0</td>\n",
        "      <td> [Action &amp; Adventure, Comedy]</td>\n",
        "      <td> 134141530</td>\n",
        "      <td>                Time Out</td>\n",
        "    </tr>\n",
        "    <tr>\n",
        "      <th>2</th>\n",
        "      <td> 771320491</td>\n",
        "      <td>  Mick LaSalle</td>\n",
        "      <td> 1</td>\n",
        "      <td> [Action &amp; Adventure, Comedy]</td>\n",
        "      <td> 134141530</td>\n",
        "      <td> San Francisco Chronicle</td>\n",
        "    </tr>\n",
        "    <tr>\n",
        "      <th>3</th>\n",
        "      <td> 771320491</td>\n",
        "      <td> Wesley Morris</td>\n",
        "      <td> 0</td>\n",
        "      <td> [Action &amp; Adventure, Comedy]</td>\n",
        "      <td> 134141530</td>\n",
        "      <td>               Grantland</td>\n",
        "    </tr>\n",
        "    <tr>\n",
        "      <th>4</th>\n",
        "      <td> 771320491</td>\n",
        "      <td>     Ben Sachs</td>\n",
        "      <td> 0</td>\n",
        "      <td> [Action &amp; Adventure, Comedy]</td>\n",
        "      <td> 134141530</td>\n",
        "      <td>          Chicago Reader</td>\n",
        "    </tr>\n",
        "  </tbody>\n",
        "</table>\n",
        "</div>"
       ],
       "metadata": {},
       "output_type": "pyout",
       "prompt_number": 71,
       "text": [
        "           0              1  2                             3          4  \\\n",
        "0  771320491    David Denby  0  [Action & Adventure, Comedy]  134141530   \n",
        "1  771320491   Ashley Clark  0  [Action & Adventure, Comedy]  134141530   \n",
        "2  771320491   Mick LaSalle  1  [Action & Adventure, Comedy]  134141530   \n",
        "3  771320491  Wesley Morris  0  [Action & Adventure, Comedy]  134141530   \n",
        "4  771320491      Ben Sachs  0  [Action & Adventure, Comedy]  134141530   \n",
        "\n",
        "                         5  \n",
        "0               New Yorker  \n",
        "1                 Time Out  \n",
        "2  San Francisco Chronicle  \n",
        "3                Grantland  \n",
        "4           Chicago Reader  "
       ]
      }
     ],
     "prompt_number": 71
    },
    {
     "cell_type": "code",
     "collapsed": false,
     "input": [
      "movie = dict()\n",
      "movie[('a', 'b')] = 1\n",
      "('a', 'b') in movie"
     ],
     "language": "python",
     "metadata": {},
     "outputs": [
      {
       "metadata": {},
       "output_type": "pyout",
       "prompt_number": 72,
       "text": [
        "True"
       ]
      }
     ],
     "prompt_number": 72
    },
    {
     "cell_type": "code",
     "collapsed": false,
     "input": [
      "CriticRaw = pd.read_pickle('CriticRaw2014.pkl')\n",
      "CriticRaw.columns = ['Movie', 'Critic', 'Rate', 'Genre', 'BoxOffice', 'Publication']\n",
      "movie = dict()\n",
      "rate = dict()\n",
      "genre = dict()\n",
      "boxoffice = dict()\n",
      "for i in xrange(len(CriticRaw)):\n",
      "    key = (CriticRaw.Critic[i], CriticRaw.Publication[i])\n",
      "    if key in movie:\n",
      "        movie[key].append(CriticRaw.Movie[i])\n",
      "        rate[key].append(CriticRaw.Rate[i])\n",
      "        genre[key].append(CriticRaw.Genre[i])\n",
      "        boxoffice[key].append(CriticRaw.BoxOffice[i])\n",
      "    else:\n",
      "        movie[key]=[CriticRaw.Movie[i]]\n",
      "        rate[key]=[CriticRaw.Rate[i]]\n",
      "        genre[key]=[CriticRaw.Genre[i]]\n",
      "        boxoffice[key]=[CriticRaw.BoxOffice[i]]"
     ],
     "language": "python",
     "metadata": {},
     "outputs": [],
     "prompt_number": 73
    },
    {
     "cell_type": "code",
     "collapsed": false,
     "input": [
      "CriticTable = pd.DataFrame([movie, rate, genre, boxoffice]).transpose()\n",
      "CriticTable.reset_index(inplace=True)\n",
      "CriticTable.columns=['Critic', 'Movie', 'Rate', 'Genre', 'BoxOffice']\n",
      "CriticTable.head()"
     ],
     "language": "python",
     "metadata": {},
     "outputs": [
      {
       "html": [
        "<div style=\"max-height:1000px;max-width:1500px;overflow:auto;\">\n",
        "<table border=\"1\" class=\"dataframe\">\n",
        "  <thead>\n",
        "    <tr style=\"text-align: right;\">\n",
        "      <th></th>\n",
        "      <th>Critic</th>\n",
        "      <th>Movie</th>\n",
        "      <th>Rate</th>\n",
        "      <th>Genre</th>\n",
        "      <th>BoxOffice</th>\n",
        "    </tr>\n",
        "  </thead>\n",
        "  <tbody>\n",
        "    <tr>\n",
        "      <th>0</th>\n",
        "      <td>                   (A.A. Dowd, AV Club)</td>\n",
        "      <td>                            [771364044, 771305170]</td>\n",
        "      <td>                   [0, 1]</td>\n",
        "      <td>                     [[Horror], [Drama, Classics]]</td>\n",
        "      <td>                             [32453345, 101160529]</td>\n",
        "    </tr>\n",
        "    <tr>\n",
        "      <th>1</th>\n",
        "      <td>           (A.O. Scott, New York Times)</td>\n",
        "      <td> [771349768, 771323761, 771311994, 771356814, 7...</td>\n",
        "      <td>    [1, 1, 1, 0, 1, 0, 1]</td>\n",
        "      <td> [[Action &amp; Adventure, Science Fiction &amp; Fantas...</td>\n",
        "      <td> [18821279, 48637684, 43577636, 28831145, 23389...</td>\n",
        "    </tr>\n",
        "    <tr>\n",
        "      <th>2</th>\n",
        "      <td>            (Adam Graham, Detroit News)</td>\n",
        "      <td> [771320491, 771357153, 771323761, 771318848, 7...</td>\n",
        "      <td> [0, 0, 1, 1, 0, 0, 1, 0]</td>\n",
        "      <td> [[Action &amp; Adventure, Comedy], [Drama, Comedy]...</td>\n",
        "      <td> [134141530, 3054075, 48637684, 17769442, 45889...</td>\n",
        "    </tr>\n",
        "    <tr>\n",
        "      <th>3</th>\n",
        "      <td> (Adam Markovitz, Entertainment Weekly)</td>\n",
        "      <td>                            [771355185, 771318848]</td>\n",
        "      <td>                   [0, 1]</td>\n",
        "      <td>                        [[Drama], [Kids &amp; Family]]</td>\n",
        "      <td>                              [91386097, 17769442]</td>\n",
        "    </tr>\n",
        "    <tr>\n",
        "      <th>4</th>\n",
        "      <td>          (Adam Nayman, Globe and Mail)</td>\n",
        "      <td> [771314857, 771305170, 771249085, 771362199, 7...</td>\n",
        "      <td>       [0, 0, 0, 1, 1, 1]</td>\n",
        "      <td> [[Drama, Action &amp; Adventure, Mystery &amp; Suspens...</td>\n",
        "      <td> [50549107, 101160529, 106580051, 1503616, 2593...</td>\n",
        "    </tr>\n",
        "  </tbody>\n",
        "</table>\n",
        "</div>"
       ],
       "metadata": {},
       "output_type": "pyout",
       "prompt_number": 74,
       "text": [
        "                                   Critic  \\\n",
        "0                    (A.A. Dowd, AV Club)   \n",
        "1            (A.O. Scott, New York Times)   \n",
        "2             (Adam Graham, Detroit News)   \n",
        "3  (Adam Markovitz, Entertainment Weekly)   \n",
        "4           (Adam Nayman, Globe and Mail)   \n",
        "\n",
        "                                               Movie  \\\n",
        "0                             [771364044, 771305170]   \n",
        "1  [771349768, 771323761, 771311994, 771356814, 7...   \n",
        "2  [771320491, 771357153, 771323761, 771318848, 7...   \n",
        "3                             [771355185, 771318848]   \n",
        "4  [771314857, 771305170, 771249085, 771362199, 7...   \n",
        "\n",
        "                       Rate  \\\n",
        "0                    [0, 1]   \n",
        "1     [1, 1, 1, 0, 1, 0, 1]   \n",
        "2  [0, 0, 1, 1, 0, 0, 1, 0]   \n",
        "3                    [0, 1]   \n",
        "4        [0, 0, 0, 1, 1, 1]   \n",
        "\n",
        "                                               Genre  \\\n",
        "0                      [[Horror], [Drama, Classics]]   \n",
        "1  [[Action & Adventure, Science Fiction & Fantas...   \n",
        "2  [[Action & Adventure, Comedy], [Drama, Comedy]...   \n",
        "3                         [[Drama], [Kids & Family]]   \n",
        "4  [[Drama, Action & Adventure, Mystery & Suspens...   \n",
        "\n",
        "                                           BoxOffice  \n",
        "0                              [32453345, 101160529]  \n",
        "1  [18821279, 48637684, 43577636, 28831145, 23389...  \n",
        "2  [134141530, 3054075, 48637684, 17769442, 45889...  \n",
        "3                               [91386097, 17769442]  \n",
        "4  [50549107, 101160529, 106580051, 1503616, 2593...  "
       ]
      }
     ],
     "prompt_number": 74
    },
    {
     "cell_type": "code",
     "collapsed": false,
     "input": [
      "CriticTable.to_pickle('CriticTable2014.pkl')"
     ],
     "language": "python",
     "metadata": {},
     "outputs": [],
     "prompt_number": 75
    },
    {
     "cell_type": "code",
     "collapsed": false,
     "input": [
      "CriticTable = pd.read_pickle('CriticTable2014.pkl')\n",
      "critic = []\n",
      "genre = []\n",
      "rate = []\n",
      "for i in xrange(len(CriticTable)):\n",
      "    tgenre = dict()\n",
      "    critic.append(CriticTable.Critic[i])\n",
      "    for j in range(len(CriticTable.Movie[i])):\n",
      "        for g in CriticTable.Genre[i][j]:\n",
      "            if g in tgenre:\n",
      "                tgenre[g].append(CriticTable.Rate[i][j])\n",
      "            else:\n",
      "                tgenre[g] = [CriticTable.Rate[i][j]]\n",
      "    genre.append(tgenre.keys())\n",
      "    rate.append(map(lambda x: np.mean(np.asarray(x)),tgenre.values()))"
     ],
     "language": "python",
     "metadata": {},
     "outputs": [],
     "prompt_number": 76
    },
    {
     "cell_type": "code",
     "collapsed": false,
     "input": [
      "CriticGenreTable = pd.DataFrame([critic, genre, rate]).transpose()\n",
      "CriticGenreTable.columns=['Critic', 'Genre', 'Rate']\n",
      "CriticGenreTable.head()\n",
      "CriticGenreTable.to_pickle('CriticGenreTable2014.pkl')"
     ],
     "language": "python",
     "metadata": {},
     "outputs": [],
     "prompt_number": 77
    },
    {
     "cell_type": "code",
     "collapsed": false,
     "input": [],
     "language": "python",
     "metadata": {},
     "outputs": []
    }
   ],
   "metadata": {}
  }
 ]
}