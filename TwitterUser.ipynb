{
 "metadata": {
  "name": "",
  "signature": "sha256:9233d6c492684ed33ff714bb0b14e22191ec5fe5a7960fbdae5ee8ab598f8659"
 },
 "nbformat": 3,
 "nbformat_minor": 0,
 "worksheets": [
  {
   "cells": [
    {
     "cell_type": "code",
     "collapsed": false,
     "input": [
      "import oauth2 as oauth\n",
      "import time\n",
      "import json\n",
      "#home_timeline = oauth_req( 'https://api.twitter.com/1.1/statuses/home_timeline.json', 'abcdefg', 'hijklmnop' )"
     ],
     "language": "python",
     "metadata": {},
     "outputs": [],
     "prompt_number": 24
    },
    {
     "cell_type": "code",
     "collapsed": false,
     "input": [
      "CONSUMER_KEY = \"ZanES4cy8hufvy2yjTLFG8tbO\"\n",
      "CONSUMER_SECRET = \"uSbXql55opsnhzGyUlRngp72ZrjjTDNrtkXRHJZ2nTmJJCQ5Mi\"\n",
      "key = \"2268307190-H2eYVAJ3QrrMyuV9nc4ri44pCyZsol0ricXdniU\"\n",
      "secret = \"I7doox0PWs22EUMIqFPnk7SqMDFydethoOOR83Wif954f\""
     ],
     "language": "python",
     "metadata": {},
     "outputs": [],
     "prompt_number": 31
    },
    {
     "cell_type": "code",
     "collapsed": false,
     "input": [
      "def oauth_req(url, key, secret, http_method=\"GET\", post_body=None, http_headers=None):\n",
      "    consumer = oauth.Consumer(key=CONSUMER_KEY, secret=CONSUMER_SECRET)\n",
      "    token = oauth.Token(key=key, secret=secret)\n",
      "    client = oauth.Client(consumer, token)\n",
      "    resp, content = client.request( url, method=http_method, body=post_body, headers=http_headers)\n",
      "    return content"
     ],
     "language": "python",
     "metadata": {},
     "outputs": [],
     "prompt_number": 32
    },
    {
     "cell_type": "code",
     "collapsed": false,
     "input": [
      "home_timeline = oauth_req( 'https://api.twitter.com/1.1/users/search.json?q=Twitter%20API&page=1&count=3', key, secret )"
     ],
     "language": "python",
     "metadata": {},
     "outputs": [],
     "prompt_number": 36
    },
    {
     "cell_type": "code",
     "collapsed": false,
     "input": [
      "type(home_timeline)"
     ],
     "language": "python",
     "metadata": {},
     "outputs": [
      {
       "metadata": {},
       "output_type": "pyout",
       "prompt_number": 37,
       "text": [
        "str"
       ]
      }
     ],
     "prompt_number": 37
    },
    {
     "cell_type": "code",
     "collapsed": false,
     "input": [
      "json.loads(home_timeline)"
     ],
     "language": "python",
     "metadata": {},
     "outputs": [
      {
       "metadata": {},
       "output_type": "pyout",
       "prompt_number": 38,
       "text": [
        "{u'errors': [{u'code': 32, u'message': u'Could not authenticate you'}]}"
       ]
      }
     ],
     "prompt_number": 38
    },
    {
     "cell_type": "code",
     "collapsed": false,
     "input": [],
     "language": "python",
     "metadata": {},
     "outputs": []
    }
   ],
   "metadata": {}
  }
 ]
}