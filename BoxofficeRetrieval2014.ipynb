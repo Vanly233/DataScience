{
 "metadata": {
  "name": "",
  "signature": "sha256:fa15c5ee622e3038bb4cdadf5605b399065bc6f1543d7989acfabcb955b59300"
 },
 "nbformat": 3,
 "nbformat_minor": 0,
 "worksheets": [
  {
   "cells": [
    {
     "cell_type": "code",
     "collapsed": false,
     "input": [
      "import argparse\n",
      "import json\n",
      "import pprint\n",
      "import sys\n",
      "import urllib\n",
      "import urllib2\n",
      "import time\n",
      "import datetime\n",
      "import pandas as pd"
     ],
     "language": "python",
     "metadata": {},
     "outputs": [],
     "prompt_number": 1
    },
    {
     "cell_type": "code",
     "collapsed": false,
     "input": [
      "MovieTable = pd.read_pickle('MovieTable2014.pkl')"
     ],
     "language": "python",
     "metadata": {},
     "outputs": [],
     "prompt_number": 2
    },
    {
     "cell_type": "code",
     "collapsed": false,
     "input": [
      "print MovieTable.shape[0]\n",
      "final_list = []"
     ],
     "language": "python",
     "metadata": {},
     "outputs": [
      {
       "output_type": "stream",
       "stream": "stdout",
       "text": [
        "99\n"
       ]
      }
     ],
     "prompt_number": 4
    },
    {
     "cell_type": "code",
     "collapsed": false,
     "input": [],
     "language": "python",
     "metadata": {},
     "outputs": []
    },
    {
     "cell_type": "code",
     "collapsed": false,
     "input": [
      "count = 0\n",
      "gross_list = []\n",
      "for i in xrange(0,MovieTable.shape[0]):\n",
      "    gross_data = -1\n",
      "    time.sleep(0.05)\n",
      "    if i%100 == 0:\n",
      "        print \"Finished:\", i, \"----------------------\"\n",
      "    imdb_id = str(MovieTable[\"imdb\"][i])\n",
      "    year = int(MovieTable[\"Release\"][i][0:4])\n",
      "    # http://www.imdb.com/title/tt0110357/business\n",
      "    url = \"http://www.imdb.com/title/tt\" + imdb_id + \"/business\"\n",
      "    try:\n",
      "        f = urllib.urlopen(url)\n",
      "    except:\n",
      "        print \"Error!\", imdb_id\n",
      "        pass\n",
      "    data = f.read()\n",
      "    ind2 = data.find(\"Gross\")\n",
      "    if ind2 != -1:\n",
      "        count = count + 1\n",
      "        #data = data[ind1:]\n",
      "        ind2 = data.find(\"Gross\")\n",
      "        # >2013<\n",
      "        year1 = year + 1\n",
      "        str_year1 = \">\" + str(year1) + \"<\"\n",
      "        str_year = \">\" + str(year) + \"<\"\n",
      "        ind_year1 = data.find(str_year1, ind2)\n",
      "        ind_year = data.find(str_year, ind2)\n",
      "        if ind_year1 == -1:\n",
      "            data2 = data[ind2:ind_year+5]\n",
      "        elif ind_year == -1:\n",
      "            data2 = data[ind2:ind_year1+5]\n",
      "        elif ind_year1 < ind_year:\n",
      "            data2 = data[ind2:ind_year1+5]\n",
      "        elif ind_year < ind_year1:\n",
      "            data2 = data[ind2:ind_year+5]\n",
      "        else:\n",
      "            print \"no way\", imdb_id\n",
      "        #print data2\n",
      "        ind4 = data2.rfind(\"(USA)\")\n",
      "        ind3 = data2.rfind(\"$\")\n",
      "        if ind4 == -1 or ind3 == -1:\n",
      "            pass #gross_data = -1\n",
      "        else:\n",
      "            data3 = data2[ind3+1:ind4-1]\n",
      "            try:\n",
      "                gross_data = int(data3.replace(\",\", \"\"))\n",
      "            except:\n",
      "                print str(MovieTable[\"Movie\"][i])\n",
      "    else:\n",
      "        print \"no office data\", imdb_id\n",
      "        pass\n",
      "    gross_list.append(gross_data)\n",
      "print float(count)/float(MovieTable.shape[0])"
     ],
     "language": "python",
     "metadata": {},
     "outputs": [
      {
       "output_type": "stream",
       "stream": "stdout",
       "text": [
        "Finished: 0 ----------------------\n",
        "no office data"
       ]
      },
      {
       "output_type": "stream",
       "stream": "stdout",
       "text": [
        " 2693664\n",
        "no office data"
       ]
      },
      {
       "output_type": "stream",
       "stream": "stdout",
       "text": [
        " 3477064\n",
        "no office data"
       ]
      },
      {
       "output_type": "stream",
       "stream": "stdout",
       "text": [
        " 2106529\n",
        "no office data"
       ]
      },
      {
       "output_type": "stream",
       "stream": "stdout",
       "text": [
        " 1235199\n",
        "no office data"
       ]
      },
      {
       "output_type": "stream",
       "stream": "stdout",
       "text": [
        " 2381319\n",
        "no office data"
       ]
      },
      {
       "output_type": "stream",
       "stream": "stdout",
       "text": [
        " 3511442\n",
        "no office data"
       ]
      },
      {
       "output_type": "stream",
       "stream": "stdout",
       "text": [
        " 3508830\n",
        "no office data"
       ]
      },
      {
       "output_type": "stream",
       "stream": "stdout",
       "text": [
        " 2962860\n",
        "no office data"
       ]
      },
      {
       "output_type": "stream",
       "stream": "stdout",
       "text": [
        " 3365690\n",
        "no office data"
       ]
      },
      {
       "output_type": "stream",
       "stream": "stdout",
       "text": [
        " 2290757\n",
        "no office data"
       ]
      },
      {
       "output_type": "stream",
       "stream": "stdout",
       "text": [
        " 3265262\n",
        "no office data"
       ]
      },
      {
       "output_type": "stream",
       "stream": "stdout",
       "text": [
        " 2548208\n",
        "no office data"
       ]
      },
      {
       "output_type": "stream",
       "stream": "stdout",
       "text": [
        " 2829014\n",
        "no office data"
       ]
      },
      {
       "output_type": "stream",
       "stream": "stdout",
       "text": [
        " 2310109\n",
        "no office data"
       ]
      },
      {
       "output_type": "stream",
       "stream": "stdout",
       "text": [
        " 1702437\n",
        "no office data"
       ]
      },
      {
       "output_type": "stream",
       "stream": "stdout",
       "text": [
        " 2101570\n",
        "no office data"
       ]
      },
      {
       "output_type": "stream",
       "stream": "stdout",
       "text": [
        " 3707612\n",
        "no office data"
       ]
      },
      {
       "output_type": "stream",
       "stream": "stdout",
       "text": [
        " 1294970\n",
        "no office data"
       ]
      },
      {
       "output_type": "stream",
       "stream": "stdout",
       "text": [
        " 2556874\n",
        "no office data"
       ]
      },
      {
       "output_type": "stream",
       "stream": "stdout",
       "text": [
        " 3358998\n",
        "no office data"
       ]
      },
      {
       "output_type": "stream",
       "stream": "stdout",
       "text": [
        " 2310157\n",
        "no office data"
       ]
      },
      {
       "output_type": "stream",
       "stream": "stdout",
       "text": [
        " 3230082\n",
        "no office data"
       ]
      },
      {
       "output_type": "stream",
       "stream": "stdout",
       "text": [
        " 2855026\n",
        "no office data"
       ]
      },
      {
       "output_type": "stream",
       "stream": "stdout",
       "text": [
        " 1629715\n",
        "no office data"
       ]
      },
      {
       "output_type": "stream",
       "stream": "stdout",
       "text": [
        " 3272018\n",
        "no office data"
       ]
      },
      {
       "output_type": "stream",
       "stream": "stdout",
       "text": [
        " 0325324\n",
        "no office data"
       ]
      },
      {
       "output_type": "stream",
       "stream": "stdout",
       "text": [
        " 3421036\n",
        "0.727272727273"
       ]
      },
      {
       "output_type": "stream",
       "stream": "stdout",
       "text": [
        "\n"
       ]
      }
     ],
     "prompt_number": 7
    },
    {
     "cell_type": "code",
     "collapsed": false,
     "input": [
      "print \"done\""
     ],
     "language": "python",
     "metadata": {},
     "outputs": [
      {
       "output_type": "stream",
       "stream": "stdout",
       "text": [
        "done\n"
       ]
      }
     ],
     "prompt_number": 18
    },
    {
     "cell_type": "code",
     "collapsed": false,
     "input": [
      "gross_list"
     ],
     "language": "python",
     "metadata": {},
     "outputs": [
      {
       "metadata": {},
       "output_type": "pyout",
       "prompt_number": 8,
       "text": [
        "[134141530,\n",
        " 32453345,\n",
        " 19059018,\n",
        " 50549107,\n",
        " 230221,\n",
        " 15818967,\n",
        " 18821279,\n",
        " 3054075,\n",
        " 68680,\n",
        " -1,\n",
        " 257716507,\n",
        " 58607007,\n",
        " 91104080,\n",
        " 77951843,\n",
        " -1,\n",
        " 23219748,\n",
        " 59666589,\n",
        " 48637684,\n",
        " -1,\n",
        " -1,\n",
        " -1,\n",
        " -1,\n",
        " -1,\n",
        " -1,\n",
        " -1,\n",
        " -1,\n",
        " 101160529,\n",
        " 106580051,\n",
        " 150947895,\n",
        " 111392580,\n",
        " 43577636,\n",
        " 15986272,\n",
        " -1,\n",
        " 1503616,\n",
        " 200371,\n",
        " 72273,\n",
        " 60753735,\n",
        " 7435,\n",
        " 22353,\n",
        " -1,\n",
        " 259322890,\n",
        " 91386097,\n",
        " 131020633,\n",
        " 28831145,\n",
        " 122293,\n",
        " 17769442,\n",
        " -1,\n",
        " 50257,\n",
        " 247159,\n",
        " -1,\n",
        " -1,\n",
        " -1,\n",
        " -1,\n",
        " 43089,\n",
        " 240366802,\n",
        " 233893992,\n",
        " 202644001,\n",
        " 200616740,\n",
        " 45889191,\n",
        " 63051,\n",
        " -1,\n",
        " -1,\n",
        " -1,\n",
        " 606053,\n",
        " 39751,\n",
        " 42615685,\n",
        " -1,\n",
        " -1,\n",
        " 44268,\n",
        " -1,\n",
        " -1,\n",
        " 175859659,\n",
        " 99992247,\n",
        " 245435927,\n",
        " 188441614,\n",
        " 201214,\n",
        " 65028687,\n",
        " 27013,\n",
        " -1,\n",
        " -1,\n",
        " 262407,\n",
        " 190229,\n",
        " 4609,\n",
        " -1,\n",
        " 330004000,\n",
        " 207604640,\n",
        " 125480625,\n",
        " 72385417,\n",
        " 68547000,\n",
        " 14897580,\n",
        " 38753987,\n",
        " 23016519,\n",
        " -1,\n",
        " 10323802,\n",
        " 877,\n",
        " 2370158,\n",
        " -1,\n",
        " 12759,\n",
        " 33880665]"
       ]
      }
     ],
     "prompt_number": 8
    },
    {
     "cell_type": "code",
     "collapsed": false,
     "input": [
      "MovieTable[\"BoxOffice\"] = gross_list"
     ],
     "language": "python",
     "metadata": {},
     "outputs": [],
     "prompt_number": 9
    },
    {
     "cell_type": "code",
     "collapsed": false,
     "input": [
      "MovieTable.tail()"
     ],
     "language": "python",
     "metadata": {},
     "outputs": [
      {
       "html": [
        "<div style=\"max-height:1000px;max-width:1500px;overflow:auto;\">\n",
        "<table border=\"1\" class=\"dataframe\">\n",
        "  <thead>\n",
        "    <tr style=\"text-align: right;\">\n",
        "      <th></th>\n",
        "      <th>Audience_rating</th>\n",
        "      <th>Cast</th>\n",
        "      <th>Critic_rating</th>\n",
        "      <th>Director</th>\n",
        "      <th>Genre</th>\n",
        "      <th>ID</th>\n",
        "      <th>Movie</th>\n",
        "      <th>Release</th>\n",
        "      <th>Review</th>\n",
        "      <th>imdb</th>\n",
        "      <th>weblink</th>\n",
        "      <th>BoxOffice</th>\n",
        "    </tr>\n",
        "  </thead>\n",
        "  <tbody>\n",
        "    <tr>\n",
        "      <th>94</th>\n",
        "      <td>  23</td>\n",
        "      <td> [{u'name': u'Henry Ian Cusick', u'characters':...</td>\n",
        "      <td> -1</td>\n",
        "      <td>     [{u'name': u'Larry Brand'}]</td>\n",
        "      <td>                         [Drama]</td>\n",
        "      <td> 771374317</td>\n",
        "      <td>  The Girl on The Train</td>\n",
        "      <td> 2014-07-03</td>\n",
        "      <td> http://api.rottentomatoes.com/api/public/v1.0/...</td>\n",
        "      <td> 2387589</td>\n",
        "      <td> http://www.rottentomatoes.com/m/the_girl_on_th...</td>\n",
        "      <td>      877</td>\n",
        "    </tr>\n",
        "    <tr>\n",
        "      <th>95</th>\n",
        "      <td>  81</td>\n",
        "      <td> [{u'name': u'Gabriel Iglesias', u'id': u'77076...</td>\n",
        "      <td> 54</td>\n",
        "      <td> [{u'name': u'Manny Rodriguez'}]</td>\n",
        "      <td>      [Comedy, Special Interest]</td>\n",
        "      <td> 771375186</td>\n",
        "      <td>       The Fluffy Movie</td>\n",
        "      <td> 2014-07-25</td>\n",
        "      <td> http://api.rottentomatoes.com/api/public/v1.0/...</td>\n",
        "      <td> 3532608</td>\n",
        "      <td> http://www.rottentomatoes.com/m/the_fluffy_movie/</td>\n",
        "      <td>  2370158</td>\n",
        "    </tr>\n",
        "    <tr>\n",
        "      <th>96</th>\n",
        "      <td> 100</td>\n",
        "      <td> [{u'name': u'Jai', u'id': u'771392665'}, {u'na...</td>\n",
        "      <td> -1</td>\n",
        "      <td>          [{u'name': u'Aneesh'}]</td>\n",
        "      <td>                       [Romance]</td>\n",
        "      <td> 771380379</td>\n",
        "      <td> Thirumanam Enum Nikkah</td>\n",
        "      <td> 2014-05-15</td>\n",
        "      <td> http://api.rottentomatoes.com/api/public/v1.0/...</td>\n",
        "      <td> 3421036</td>\n",
        "      <td> http://www.rottentomatoes.com/m/thirumanam_enu...</td>\n",
        "      <td>       -1</td>\n",
        "    </tr>\n",
        "    <tr>\n",
        "      <th>97</th>\n",
        "      <td>  36</td>\n",
        "      <td> [{u'name': u'Sean Astin', u'characters': [u'Na...</td>\n",
        "      <td> 18</td>\n",
        "      <td>    [{u'name': u'Jeremy Snead'}]</td>\n",
        "      <td> [Documentary, Special Interest]</td>\n",
        "      <td> 771380521</td>\n",
        "      <td> Video Games: The Movie</td>\n",
        "      <td> 2014-07-18</td>\n",
        "      <td> http://api.rottentomatoes.com/api/public/v1.0/...</td>\n",
        "      <td> 3214002</td>\n",
        "      <td> http://www.rottentomatoes.com/m/video_games_th...</td>\n",
        "      <td>    12759</td>\n",
        "    </tr>\n",
        "    <tr>\n",
        "      <th>98</th>\n",
        "      <td>  34</td>\n",
        "      <td> [{u'name': u'Jason Segel', u'characters': [u'J...</td>\n",
        "      <td> 18</td>\n",
        "      <td>     [{u'name': u'Jake Kasdan'}]</td>\n",
        "      <td>                        [Comedy]</td>\n",
        "      <td> 771355227</td>\n",
        "      <td>               Sex Tape</td>\n",
        "      <td> 2014-07-18</td>\n",
        "      <td> http://api.rottentomatoes.com/api/public/v1.0/...</td>\n",
        "      <td> 1956620</td>\n",
        "      <td>    http://www.rottentomatoes.com/m/sex_tape_2014/</td>\n",
        "      <td> 33880665</td>\n",
        "    </tr>\n",
        "  </tbody>\n",
        "</table>\n",
        "</div>"
       ],
       "metadata": {},
       "output_type": "pyout",
       "prompt_number": 10,
       "text": [
        "    Audience_rating                                               Cast  \\\n",
        "94               23  [{u'name': u'Henry Ian Cusick', u'characters':...   \n",
        "95               81  [{u'name': u'Gabriel Iglesias', u'id': u'77076...   \n",
        "96              100  [{u'name': u'Jai', u'id': u'771392665'}, {u'na...   \n",
        "97               36  [{u'name': u'Sean Astin', u'characters': [u'Na...   \n",
        "98               34  [{u'name': u'Jason Segel', u'characters': [u'J...   \n",
        "\n",
        "    Critic_rating                         Director  \\\n",
        "94             -1      [{u'name': u'Larry Brand'}]   \n",
        "95             54  [{u'name': u'Manny Rodriguez'}]   \n",
        "96             -1           [{u'name': u'Aneesh'}]   \n",
        "97             18     [{u'name': u'Jeremy Snead'}]   \n",
        "98             18      [{u'name': u'Jake Kasdan'}]   \n",
        "\n",
        "                              Genre         ID                   Movie  \\\n",
        "94                          [Drama]  771374317   The Girl on The Train   \n",
        "95       [Comedy, Special Interest]  771375186        The Fluffy Movie   \n",
        "96                        [Romance]  771380379  Thirumanam Enum Nikkah   \n",
        "97  [Documentary, Special Interest]  771380521  Video Games: The Movie   \n",
        "98                         [Comedy]  771355227                Sex Tape   \n",
        "\n",
        "       Release                                             Review     imdb  \\\n",
        "94  2014-07-03  http://api.rottentomatoes.com/api/public/v1.0/...  2387589   \n",
        "95  2014-07-25  http://api.rottentomatoes.com/api/public/v1.0/...  3532608   \n",
        "96  2014-05-15  http://api.rottentomatoes.com/api/public/v1.0/...  3421036   \n",
        "97  2014-07-18  http://api.rottentomatoes.com/api/public/v1.0/...  3214002   \n",
        "98  2014-07-18  http://api.rottentomatoes.com/api/public/v1.0/...  1956620   \n",
        "\n",
        "                                              weblink  BoxOffice  \n",
        "94  http://www.rottentomatoes.com/m/the_girl_on_th...        877  \n",
        "95  http://www.rottentomatoes.com/m/the_fluffy_movie/    2370158  \n",
        "96  http://www.rottentomatoes.com/m/thirumanam_enu...         -1  \n",
        "97  http://www.rottentomatoes.com/m/video_games_th...      12759  \n",
        "98     http://www.rottentomatoes.com/m/sex_tape_2014/   33880665  "
       ]
      }
     ],
     "prompt_number": 10
    },
    {
     "cell_type": "code",
     "collapsed": false,
     "input": [
      "index_list = []\n",
      "for i in xrange(len(gross_list)):\n",
      "    if gross_list[i] != -1:\n",
      "        index_list.append(i)"
     ],
     "language": "python",
     "metadata": {},
     "outputs": [],
     "prompt_number": 11
    },
    {
     "cell_type": "code",
     "collapsed": false,
     "input": [
      "newMovieTable = MovieTable.iloc[index_list]"
     ],
     "language": "python",
     "metadata": {},
     "outputs": [],
     "prompt_number": 12
    },
    {
     "cell_type": "code",
     "collapsed": false,
     "input": [
      "newMovieTable.head()"
     ],
     "language": "python",
     "metadata": {},
     "outputs": [
      {
       "html": [
        "<div style=\"max-height:1000px;max-width:1500px;overflow:auto;\">\n",
        "<table border=\"1\" class=\"dataframe\">\n",
        "  <thead>\n",
        "    <tr style=\"text-align: right;\">\n",
        "      <th></th>\n",
        "      <th>Audience_rating</th>\n",
        "      <th>Cast</th>\n",
        "      <th>Critic_rating</th>\n",
        "      <th>Director</th>\n",
        "      <th>Genre</th>\n",
        "      <th>ID</th>\n",
        "      <th>Movie</th>\n",
        "      <th>Release</th>\n",
        "      <th>Review</th>\n",
        "      <th>imdb</th>\n",
        "      <th>weblink</th>\n",
        "      <th>BoxOffice</th>\n",
        "    </tr>\n",
        "  </thead>\n",
        "  <tbody>\n",
        "    <tr>\n",
        "      <th>0</th>\n",
        "      <td> 60</td>\n",
        "      <td> [{u'name': u'Ice Cube', u'characters': [u'Jame...</td>\n",
        "      <td> 17</td>\n",
        "      <td>                         [{u'name': u'Tim Story'}]</td>\n",
        "      <td>                      [Action &amp; Adventure, Comedy]</td>\n",
        "      <td> 771320491</td>\n",
        "      <td>                           Ride Along</td>\n",
        "      <td> 2014-01-17</td>\n",
        "      <td> http://api.rottentomatoes.com/api/public/v1.0/...</td>\n",
        "      <td> 1408253</td>\n",
        "      <td>  http://www.rottentomatoes.com/m/ride_along_2014/</td>\n",
        "      <td> 134141530</td>\n",
        "    </tr>\n",
        "    <tr>\n",
        "      <th>1</th>\n",
        "      <td> 36</td>\n",
        "      <td> [{u'name': u'Eddie Fernandez', u'id': u'770716...</td>\n",
        "      <td> 38</td>\n",
        "      <td>                [{u'name': u'Christopher Landon'}]</td>\n",
        "      <td>                                          [Horror]</td>\n",
        "      <td> 771364044</td>\n",
        "      <td> Paranormal Activity: The Marked Ones</td>\n",
        "      <td> 2014-01-03</td>\n",
        "      <td> http://api.rottentomatoes.com/api/public/v1.0/...</td>\n",
        "      <td> 2473682</td>\n",
        "      <td> http://www.rottentomatoes.com/m/paranormal_act...</td>\n",
        "      <td>  32453345</td>\n",
        "    </tr>\n",
        "    <tr>\n",
        "      <th>2</th>\n",
        "      <td> 39</td>\n",
        "      <td> [{u'name': u'Aaron Eckhart', u'characters': [u...</td>\n",
        "      <td>  3</td>\n",
        "      <td>                    [{u'name': u'Stuart Beattie'}]</td>\n",
        "      <td> [Horror, Mystery &amp; Suspense, Science Fiction &amp;...</td>\n",
        "      <td> 771257268</td>\n",
        "      <td>                      I, Frankenstein</td>\n",
        "      <td> 2014-01-24</td>\n",
        "      <td> http://api.rottentomatoes.com/api/public/v1.0/...</td>\n",
        "      <td> 1418377</td>\n",
        "      <td>   http://www.rottentomatoes.com/m/i_frankenstein/</td>\n",
        "      <td>  19059018</td>\n",
        "    </tr>\n",
        "    <tr>\n",
        "      <th>3</th>\n",
        "      <td> 54</td>\n",
        "      <td> [{u'name': u'Chris Pine', u'characters': [u'Ja...</td>\n",
        "      <td> 56</td>\n",
        "      <td>                   [{u'name': u'Kenneth Branagh'}]</td>\n",
        "      <td>   [Drama, Action &amp; Adventure, Mystery &amp; Suspense]</td>\n",
        "      <td> 771314857</td>\n",
        "      <td>            Jack Ryan: Shadow Recruit</td>\n",
        "      <td> 2014-01-17</td>\n",
        "      <td> http://api.rottentomatoes.com/api/public/v1.0/...</td>\n",
        "      <td> 1205537</td>\n",
        "      <td> http://www.rottentomatoes.com/m/jack_ryan_shad...</td>\n",
        "      <td>  50549107</td>\n",
        "    </tr>\n",
        "    <tr>\n",
        "      <th>4</th>\n",
        "      <td> 61</td>\n",
        "      <td> [{u'name': u'Kajal Aggarwal', u'id': u'7708469...</td>\n",
        "      <td> -1</td>\n",
        "      <td> [{u'name': u'R.T. Neason'}, {u'name': u'R T Ne...</td>\n",
        "      <td>                      [Action &amp; Adventure, Comedy]</td>\n",
        "      <td> 771372079</td>\n",
        "      <td>                                Jilla</td>\n",
        "      <td> 2014-01-09</td>\n",
        "      <td> http://api.rottentomatoes.com/api/public/v1.0/...</td>\n",
        "      <td> 2678948</td>\n",
        "      <td>            http://www.rottentomatoes.com/m/jilla/</td>\n",
        "      <td>    230221</td>\n",
        "    </tr>\n",
        "  </tbody>\n",
        "</table>\n",
        "</div>"
       ],
       "metadata": {},
       "output_type": "pyout",
       "prompt_number": 13,
       "text": [
        "   Audience_rating                                               Cast  \\\n",
        "0               60  [{u'name': u'Ice Cube', u'characters': [u'Jame...   \n",
        "1               36  [{u'name': u'Eddie Fernandez', u'id': u'770716...   \n",
        "2               39  [{u'name': u'Aaron Eckhart', u'characters': [u...   \n",
        "3               54  [{u'name': u'Chris Pine', u'characters': [u'Ja...   \n",
        "4               61  [{u'name': u'Kajal Aggarwal', u'id': u'7708469...   \n",
        "\n",
        "   Critic_rating                                           Director  \\\n",
        "0             17                          [{u'name': u'Tim Story'}]   \n",
        "1             38                 [{u'name': u'Christopher Landon'}]   \n",
        "2              3                     [{u'name': u'Stuart Beattie'}]   \n",
        "3             56                    [{u'name': u'Kenneth Branagh'}]   \n",
        "4             -1  [{u'name': u'R.T. Neason'}, {u'name': u'R T Ne...   \n",
        "\n",
        "                                               Genre         ID  \\\n",
        "0                       [Action & Adventure, Comedy]  771320491   \n",
        "1                                           [Horror]  771364044   \n",
        "2  [Horror, Mystery & Suspense, Science Fiction &...  771257268   \n",
        "3    [Drama, Action & Adventure, Mystery & Suspense]  771314857   \n",
        "4                       [Action & Adventure, Comedy]  771372079   \n",
        "\n",
        "                                  Movie     Release  \\\n",
        "0                            Ride Along  2014-01-17   \n",
        "1  Paranormal Activity: The Marked Ones  2014-01-03   \n",
        "2                       I, Frankenstein  2014-01-24   \n",
        "3             Jack Ryan: Shadow Recruit  2014-01-17   \n",
        "4                                 Jilla  2014-01-09   \n",
        "\n",
        "                                              Review     imdb  \\\n",
        "0  http://api.rottentomatoes.com/api/public/v1.0/...  1408253   \n",
        "1  http://api.rottentomatoes.com/api/public/v1.0/...  2473682   \n",
        "2  http://api.rottentomatoes.com/api/public/v1.0/...  1418377   \n",
        "3  http://api.rottentomatoes.com/api/public/v1.0/...  1205537   \n",
        "4  http://api.rottentomatoes.com/api/public/v1.0/...  2678948   \n",
        "\n",
        "                                             weblink  BoxOffice  \n",
        "0   http://www.rottentomatoes.com/m/ride_along_2014/  134141530  \n",
        "1  http://www.rottentomatoes.com/m/paranormal_act...   32453345  \n",
        "2    http://www.rottentomatoes.com/m/i_frankenstein/   19059018  \n",
        "3  http://www.rottentomatoes.com/m/jack_ryan_shad...   50549107  \n",
        "4             http://www.rottentomatoes.com/m/jilla/     230221  "
       ]
      }
     ],
     "prompt_number": 13
    },
    {
     "cell_type": "code",
     "collapsed": false,
     "input": [
      "newMovieTable.to_pickle('MovieTableBoxOffice2014.pkl')"
     ],
     "language": "python",
     "metadata": {},
     "outputs": [],
     "prompt_number": 14
    },
    {
     "cell_type": "code",
     "collapsed": false,
     "input": [
      "newMovieTable.to_csv('MovieTableBoxOffice2014.csv')"
     ],
     "language": "python",
     "metadata": {},
     "outputs": [],
     "prompt_number": 15
    },
    {
     "cell_type": "code",
     "collapsed": false,
     "input": [],
     "language": "python",
     "metadata": {},
     "outputs": [],
     "prompt_number": 15
    },
    {
     "cell_type": "code",
     "collapsed": false,
     "input": [
      "# done PH"
     ],
     "language": "python",
     "metadata": {},
     "outputs": [],
     "prompt_number": 16
    },
    {
     "cell_type": "code",
     "collapsed": false,
     "input": [],
     "language": "python",
     "metadata": {},
     "outputs": []
    }
   ],
   "metadata": {}
  }
 ]
}