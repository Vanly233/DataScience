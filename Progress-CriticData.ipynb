{
 "metadata": {
  "name": "",
  "signature": "sha256:16bed7830a022334bb93cb5e522dfb5d727d09cd9eb2d0b8c04615e8f80bfe49"
 },
 "nbformat": 3,
 "nbformat_minor": 0,
 "worksheets": [
  {
   "cells": [
    {
     "cell_type": "markdown",
     "metadata": {},
     "source": [
      "### Get Critics info from rotten tomato"
     ]
    },
    {
     "cell_type": "code",
     "collapsed": false,
     "input": [
      "import argparse\n",
      "import json\n",
      "import pprint\n",
      "import sys\n",
      "import urllib\n",
      "import urllib2\n",
      "import time\n",
      "import datetime\n",
      "import pandas as pd\n",
      "import numpy as np"
     ],
     "language": "python",
     "metadata": {},
     "outputs": [],
     "prompt_number": 2
    },
    {
     "cell_type": "code",
     "collapsed": false,
     "input": [
      "MovieTable = pd.read_pickle('MovieTable_Twitter_clean.pkl')"
     ],
     "language": "python",
     "metadata": {},
     "outputs": [],
     "prompt_number": 15
    },
    {
     "cell_type": "code",
     "collapsed": false,
     "input": [
      "test = MovieTable.Review[MovieTable.ID=='12903'][91] + '?apikey=m7jmrcna938zje4rqefde4n7'\n",
      "test"
     ],
     "language": "python",
     "metadata": {},
     "outputs": [
      {
       "metadata": {},
       "output_type": "pyout",
       "prompt_number": 40,
       "text": [
        "u'http://api.rottentomatoes.com/api/public/v1.0/movies/12903/reviews.json?apikey=m7jmrcna938zje4rqefde4n7'"
       ]
      }
     ],
     "prompt_number": 40
    },
    {
     "cell_type": "code",
     "collapsed": false,
     "input": [
      "\n",
      "json.loads(urllib2.urlopen('http://api.rottentomatoes.com/api/public/v1.0/movies/12903/reviews.json?apikey=m7jmrcna938zje4rqefde4n7').read())['reviews'][0]"
     ],
     "language": "python",
     "metadata": {},
     "outputs": [
      {
       "metadata": {},
       "output_type": "pyout",
       "prompt_number": 43,
       "text": [
        "{u'critic': u'Stanley Kauffmann',\n",
        " u'date': u'2014-01-07',\n",
        " u'freshness': u'fresh',\n",
        " u'links': {u'review': u'http://www.newrepublic.com/article/115104/new-spielberg-and-others'},\n",
        " u'publication': u'The New Republic',\n",
        " u'quote': u\"For this film Spielberg has done the best directing of his career. Much of his previous work has been clever and some of it better than that, but Schindler's List is masterly.\"}"
       ]
      }
     ],
     "prompt_number": 43
    },
    {
     "cell_type": "code",
     "collapsed": false,
     "input": [
      "#get critic reviews from rotten\n",
      "api_key = '?apikey=m7jmrcna938zje4rqefde4n7'\n",
      "\n",
      "movie_id =[]\n",
      "name=[]\n",
      "fresh=[]\n",
      "genre=[]\n",
      "boxoffice=[]\n",
      "publication = []\n",
      "\n",
      "\n",
      "for i in xrange(len(MovieTable)):\n",
      "    time.sleep(0.5)\n",
      "    if (i%100 == 0):\n",
      "        print i\n",
      "    url = MovieTable.Review[i]+api_key\n",
      "    data = json.loads(urllib2.urlopen(url).read())\n",
      "    for review in data['reviews']:\n",
      "        if (review['critic'] != ''):\n",
      "            movie_id.append(MovieTable.ID[i])\n",
      "            name.append(review['critic'])\n",
      "            genre.append(MovieTable.Genre[i])\n",
      "            boxoffice.append(MovieTable.BoxOffice[i])\n",
      "            publication.append(review['publication'])\n",
      "            if review['freshness']=='fresh':\n",
      "                fresh.append(1)\n",
      "            else:\n",
      "                fresh.append(0)"
     ],
     "language": "python",
     "metadata": {},
     "outputs": [
      {
       "output_type": "stream",
       "stream": "stdout",
       "text": [
        "0\n",
        "100"
       ]
      },
      {
       "output_type": "stream",
       "stream": "stdout",
       "text": [
        "\n",
        "200"
       ]
      },
      {
       "output_type": "stream",
       "stream": "stdout",
       "text": [
        "\n",
        "300"
       ]
      },
      {
       "output_type": "stream",
       "stream": "stdout",
       "text": [
        "\n",
        "400"
       ]
      },
      {
       "output_type": "stream",
       "stream": "stdout",
       "text": [
        "\n",
        "500"
       ]
      },
      {
       "output_type": "stream",
       "stream": "stdout",
       "text": [
        "\n",
        "600"
       ]
      },
      {
       "output_type": "stream",
       "stream": "stdout",
       "text": [
        "\n",
        "700"
       ]
      },
      {
       "output_type": "stream",
       "stream": "stdout",
       "text": [
        "\n",
        "800"
       ]
      },
      {
       "output_type": "stream",
       "stream": "stdout",
       "text": [
        "\n",
        "900"
       ]
      },
      {
       "output_type": "stream",
       "stream": "stdout",
       "text": [
        "\n",
        "1000"
       ]
      },
      {
       "output_type": "stream",
       "stream": "stdout",
       "text": [
        "\n",
        "1100"
       ]
      },
      {
       "output_type": "stream",
       "stream": "stdout",
       "text": [
        "\n",
        "1200"
       ]
      },
      {
       "output_type": "stream",
       "stream": "stdout",
       "text": [
        "\n",
        "1300"
       ]
      },
      {
       "output_type": "stream",
       "stream": "stdout",
       "text": [
        "\n",
        "1400"
       ]
      },
      {
       "output_type": "stream",
       "stream": "stdout",
       "text": [
        "\n",
        "1500"
       ]
      },
      {
       "output_type": "stream",
       "stream": "stdout",
       "text": [
        "\n",
        "1600"
       ]
      },
      {
       "output_type": "stream",
       "stream": "stdout",
       "text": [
        "\n",
        "1700"
       ]
      },
      {
       "output_type": "stream",
       "stream": "stdout",
       "text": [
        "\n",
        "1800"
       ]
      },
      {
       "output_type": "stream",
       "stream": "stdout",
       "text": [
        "\n",
        "1900"
       ]
      },
      {
       "output_type": "stream",
       "stream": "stdout",
       "text": [
        "\n"
       ]
      }
     ],
     "prompt_number": 4
    },
    {
     "cell_type": "code",
     "collapsed": false,
     "input": [
      "CriticRaw = pd.DataFrame([movie_id, name, fresh, genre, boxoffice, publication]).transpose()\n",
      "CriticRaw.to_pickle('CriticRaw.pkl')"
     ],
     "language": "python",
     "metadata": {},
     "outputs": [],
     "prompt_number": 5
    },
    {
     "cell_type": "code",
     "collapsed": false,
     "input": [
      "CriticRaw.head()"
     ],
     "language": "python",
     "metadata": {},
     "outputs": [
      {
       "html": [
        "<div style=\"max-height:1000px;max-width:1500px;overflow:auto;\">\n",
        "<table border=\"1\" class=\"dataframe\">\n",
        "  <thead>\n",
        "    <tr style=\"text-align: right;\">\n",
        "      <th></th>\n",
        "      <th>Movie</th>\n",
        "      <th>Critic</th>\n",
        "      <th>Rate</th>\n",
        "      <th>Genre</th>\n",
        "      <th>BoxOffice</th>\n",
        "      <th>Publication</th>\n",
        "    </tr>\n",
        "  </thead>\n",
        "  <tbody>\n",
        "    <tr>\n",
        "      <th>0</th>\n",
        "      <td> 16681</td>\n",
        "      <td>   Bill Goodykoontz</td>\n",
        "      <td> 1</td>\n",
        "      <td> [Action &amp; Adventure, Mystery &amp; Suspense, Scien...</td>\n",
        "      <td> 8038759</td>\n",
        "      <td>     Arizona Republic</td>\n",
        "    </tr>\n",
        "    <tr>\n",
        "      <th>1</th>\n",
        "      <td> 16681</td>\n",
        "      <td>    Owen Gleiberman</td>\n",
        "      <td> 1</td>\n",
        "      <td> [Action &amp; Adventure, Mystery &amp; Suspense, Scien...</td>\n",
        "      <td> 8038759</td>\n",
        "      <td> Entertainment Weekly</td>\n",
        "    </tr>\n",
        "    <tr>\n",
        "      <th>2</th>\n",
        "      <td> 16681</td>\n",
        "      <td> Jonathan Rosenbaum</td>\n",
        "      <td> 1</td>\n",
        "      <td> [Action &amp; Adventure, Mystery &amp; Suspense, Scien...</td>\n",
        "      <td> 8038759</td>\n",
        "      <td>       Chicago Reader</td>\n",
        "    </tr>\n",
        "    <tr>\n",
        "      <th>3</th>\n",
        "      <td> 16681</td>\n",
        "      <td>       Geoff Andrew</td>\n",
        "      <td> 1</td>\n",
        "      <td> [Action &amp; Adventure, Mystery &amp; Suspense, Scien...</td>\n",
        "      <td> 8038759</td>\n",
        "      <td>             Time Out</td>\n",
        "    </tr>\n",
        "    <tr>\n",
        "      <th>4</th>\n",
        "      <td> 16681</td>\n",
        "      <td>       Janet Maslin</td>\n",
        "      <td> 1</td>\n",
        "      <td> [Action &amp; Adventure, Mystery &amp; Suspense, Scien...</td>\n",
        "      <td> 8038759</td>\n",
        "      <td>       New York Times</td>\n",
        "    </tr>\n",
        "  </tbody>\n",
        "</table>\n",
        "</div>"
       ],
       "metadata": {},
       "output_type": "pyout",
       "prompt_number": 69,
       "text": [
        "   Movie              Critic Rate  \\\n",
        "0  16681    Bill Goodykoontz    1   \n",
        "1  16681     Owen Gleiberman    1   \n",
        "2  16681  Jonathan Rosenbaum    1   \n",
        "3  16681        Geoff Andrew    1   \n",
        "4  16681        Janet Maslin    1   \n",
        "\n",
        "                                               Genre BoxOffice  \\\n",
        "0  [Action & Adventure, Mystery & Suspense, Scien...   8038759   \n",
        "1  [Action & Adventure, Mystery & Suspense, Scien...   8038759   \n",
        "2  [Action & Adventure, Mystery & Suspense, Scien...   8038759   \n",
        "3  [Action & Adventure, Mystery & Suspense, Scien...   8038759   \n",
        "4  [Action & Adventure, Mystery & Suspense, Scien...   8038759   \n",
        "\n",
        "            Publication  \n",
        "0      Arizona Republic  \n",
        "1  Entertainment Weekly  \n",
        "2        Chicago Reader  \n",
        "3              Time Out  \n",
        "4        New York Times  "
       ]
      }
     ],
     "prompt_number": 69
    },
    {
     "cell_type": "code",
     "collapsed": false,
     "input": [
      "movie = dict()\n",
      "movie[('a', 'b')] = 1\n",
      "('a', 'b') in movie"
     ],
     "language": "python",
     "metadata": {},
     "outputs": [
      {
       "metadata": {},
       "output_type": "pyout",
       "prompt_number": 70,
       "text": [
        "True"
       ]
      }
     ],
     "prompt_number": 70
    },
    {
     "cell_type": "code",
     "collapsed": false,
     "input": [
      "CriticRaw = pd.read_pickle('CriticRaw.pkl')\n",
      "CriticRaw.columns = ['Movie', 'Critic', 'Rate', 'Genre', 'BoxOffice', 'Publication']\n",
      "movie = dict()\n",
      "rate = dict()\n",
      "genre = dict()\n",
      "boxoffice = dict()\n",
      "for i in xrange(len(CriticRaw)):\n",
      "    key = (CriticRaw.Critic[i], CriticRaw.Publication[i])\n",
      "    if key in movie:\n",
      "        movie[key].append(CriticRaw.Movie[i])\n",
      "        rate[key].append(CriticRaw.Rate[i])\n",
      "        genre[key].append(CriticRaw.Genre[i])\n",
      "        boxoffice[key].append(CriticRaw.BoxOffice[i])\n",
      "    else:\n",
      "        movie[key]=[CriticRaw.Movie[i]]\n",
      "        rate[key]=[CriticRaw.Rate[i]]\n",
      "        genre[key]=[CriticRaw.Genre[i]]\n",
      "        boxoffice[key]=[CriticRaw.BoxOffice[i]]"
     ],
     "language": "python",
     "metadata": {},
     "outputs": [],
     "prompt_number": 3
    },
    {
     "cell_type": "code",
     "collapsed": false,
     "input": [
      "CriticTable = pd.DataFrame([movie, rate, genre, boxoffice]).transpose()\n",
      "CriticTable.reset_index(inplace=True)\n",
      "CriticTable.columns=['Critic', 'Movie', 'Rate', 'Genre', 'BoxOffice']\n",
      "CriticTable.head()"
     ],
     "language": "python",
     "metadata": {},
     "outputs": [
      {
       "html": [
        "<div style=\"max-height:1000px;max-width:1500px;overflow:auto;\">\n",
        "<table border=\"1\" class=\"dataframe\">\n",
        "  <thead>\n",
        "    <tr style=\"text-align: right;\">\n",
        "      <th></th>\n",
        "      <th>Critic</th>\n",
        "      <th>Movie</th>\n",
        "      <th>Rate</th>\n",
        "      <th>Genre</th>\n",
        "      <th>BoxOffice</th>\n",
        "    </tr>\n",
        "  </thead>\n",
        "  <tbody>\n",
        "    <tr>\n",
        "      <th>0</th>\n",
        "      <td>           (A.A. Dowd, AV Club)</td>\n",
        "      <td> [771190753, 771303874, 771307887, 771246669, 7...</td>\n",
        "      <td>                          [1, 1, 0, 0, 0, 1, 0, 0]</td>\n",
        "      <td> [[Science Fiction &amp; Fantasy], [Drama, Horror, ...</td>\n",
        "      <td> [228778661, 84293, 20551, 33592415, 68558662, ...</td>\n",
        "    </tr>\n",
        "    <tr>\n",
        "      <th>1</th>\n",
        "      <td> (A.A. Dowd, Time Out New York)</td>\n",
        "      <td>                                       [770810465]</td>\n",
        "      <td>                                               [0]</td>\n",
        "      <td>                                 [[Drama, Comedy]]</td>\n",
        "      <td>                                        [18438149]</td>\n",
        "    </tr>\n",
        "    <tr>\n",
        "      <th>2</th>\n",
        "      <td>    (A.O. Scott, At the Movies)</td>\n",
        "      <td> [770798724, 770783550, 770790933, 770780587, 7...</td>\n",
        "      <td> [0, 0, 1, 0, 0, 0, 1, 1, 0, 0, 0, 1, 1, 1, 1, ...</td>\n",
        "      <td> [[Drama, Art House &amp; International, Mystery &amp; ...</td>\n",
        "      <td> [10091671, 7913976, 83813460, 38105077, 338600...</td>\n",
        "    </tr>\n",
        "    <tr>\n",
        "      <th>3</th>\n",
        "      <td>   (A.O. Scott, New York Times)</td>\n",
        "      <td> [16820, 13003, 98721872, 11837, 10748, 13037, ...</td>\n",
        "      <td> [0, 1, 1, 0, 1, 1, 1, 0, 1, 1, 0, 1, 1, 1, 0, ...</td>\n",
        "      <td> [[Mystery &amp; Suspense, Drama], [Drama], [Kids &amp;...</td>\n",
        "      <td> [41954997, 4859475, 69688384, 12372410, 569323...</td>\n",
        "    </tr>\n",
        "    <tr>\n",
        "      <th>4</th>\n",
        "      <td>    (Aaron Hillis, L.A. Weekly)</td>\n",
        "      <td>                                       [770771661]</td>\n",
        "      <td>                                               [0]</td>\n",
        "      <td>        [[Drama, Kids &amp; Family, Sports &amp; Fitness]]</td>\n",
        "      <td>                                         [1089445]</td>\n",
        "    </tr>\n",
        "  </tbody>\n",
        "</table>\n",
        "</div>"
       ],
       "metadata": {},
       "output_type": "pyout",
       "prompt_number": 4,
       "text": [
        "                           Critic  \\\n",
        "0            (A.A. Dowd, AV Club)   \n",
        "1  (A.A. Dowd, Time Out New York)   \n",
        "2     (A.O. Scott, At the Movies)   \n",
        "3    (A.O. Scott, New York Times)   \n",
        "4     (Aaron Hillis, L.A. Weekly)   \n",
        "\n",
        "                                               Movie  \\\n",
        "0  [771190753, 771303874, 771307887, 771246669, 7...   \n",
        "1                                        [770810465]   \n",
        "2  [770798724, 770783550, 770790933, 770780587, 7...   \n",
        "3  [16820, 13003, 98721872, 11837, 10748, 13037, ...   \n",
        "4                                        [770771661]   \n",
        "\n",
        "                                                Rate  \\\n",
        "0                           [1, 1, 0, 0, 0, 1, 0, 0]   \n",
        "1                                                [0]   \n",
        "2  [0, 0, 1, 0, 0, 0, 1, 1, 0, 0, 0, 1, 1, 1, 1, ...   \n",
        "3  [0, 1, 1, 0, 1, 1, 1, 0, 1, 1, 0, 1, 1, 1, 0, ...   \n",
        "4                                                [0]   \n",
        "\n",
        "                                               Genre  \\\n",
        "0  [[Science Fiction & Fantasy], [Drama, Horror, ...   \n",
        "1                                  [[Drama, Comedy]]   \n",
        "2  [[Drama, Art House & International, Mystery & ...   \n",
        "3  [[Mystery & Suspense, Drama], [Drama], [Kids &...   \n",
        "4         [[Drama, Kids & Family, Sports & Fitness]]   \n",
        "\n",
        "                                           BoxOffice  \n",
        "0  [228778661, 84293, 20551, 33592415, 68558662, ...  \n",
        "1                                         [18438149]  \n",
        "2  [10091671, 7913976, 83813460, 38105077, 338600...  \n",
        "3  [41954997, 4859475, 69688384, 12372410, 569323...  \n",
        "4                                          [1089445]  "
       ]
      }
     ],
     "prompt_number": 4
    },
    {
     "cell_type": "code",
     "collapsed": false,
     "input": [
      "CriticTable.to_pickle('CriticTable.pkl')"
     ],
     "language": "python",
     "metadata": {},
     "outputs": [],
     "prompt_number": 5
    },
    {
     "cell_type": "code",
     "collapsed": false,
     "input": [
      "test = dict()\n",
      "test['a'] = [1,2]\n",
      "test['b'] = [2,3]\n",
      "map(lambda x: np.mean(np.asarray(x)),test.values())"
     ],
     "language": "python",
     "metadata": {},
     "outputs": [
      {
       "metadata": {},
       "output_type": "pyout",
       "prompt_number": 6,
       "text": [
        "[1.5, 2.5]"
       ]
      }
     ],
     "prompt_number": 6
    },
    {
     "cell_type": "code",
     "collapsed": false,
     "input": [
      "CriticTable = pd.read_pickle('CriticTable.pkl')\n",
      "critic = []\n",
      "genre = []\n",
      "rate = []\n",
      "for i in xrange(len(CriticTable)):\n",
      "    tgenre = dict()\n",
      "    critic.append(CriticTable.Critic[i])\n",
      "    for j in range(len(CriticTable.Movie[i])):\n",
      "        for g in CriticTable.Genre[i][j]:\n",
      "            if g in tgenre:\n",
      "                tgenre[g].append(CriticTable.Rate[i][j])\n",
      "            else:\n",
      "                tgenre[g] = [CriticTable.Rate[i][j]]\n",
      "    genre.append(tgenre.keys())\n",
      "    rate.append(map(lambda x: np.mean(np.asarray(x)),tgenre.values()))"
     ],
     "language": "python",
     "metadata": {},
     "outputs": [],
     "prompt_number": 7
    },
    {
     "cell_type": "code",
     "collapsed": false,
     "input": [
      "CriticGenreTable = pd.DataFrame([critic, genre, rate]).transpose()\n",
      "CriticGenreTable.columns=['Critic', 'Genre', 'Rate']\n",
      "CriticGenreTable.head()\n",
      "CriticGenreTable.to_pickle('CriticGenreTable.pkl')"
     ],
     "language": "python",
     "metadata": {},
     "outputs": [],
     "prompt_number": 8
    },
    {
     "cell_type": "markdown",
     "metadata": {},
     "source": [
      "###Create Genre Table"
     ]
    },
    {
     "cell_type": "code",
     "collapsed": false,
     "input": [],
     "language": "python",
     "metadata": {},
     "outputs": []
    },
    {
     "cell_type": "code",
     "collapsed": false,
     "input": [],
     "language": "python",
     "metadata": {},
     "outputs": []
    },
    {
     "cell_type": "markdown",
     "metadata": {},
     "source": [
      "### Further Data Wrangling for analysis"
     ]
    },
    {
     "cell_type": "code",
     "collapsed": false,
     "input": [],
     "language": "python",
     "metadata": {},
     "outputs": []
    },
    {
     "cell_type": "code",
     "collapsed": false,
     "input": [],
     "language": "python",
     "metadata": {},
     "outputs": []
    }
   ],
   "metadata": {}
  }
 ]
}