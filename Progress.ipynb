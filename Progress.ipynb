{
 "metadata": {
  "name": "",
  "signature": "sha256:b802d311e818844ce3b17229c82b475fa8a4c12743aed9726465295f3a35586a"
 },
 "nbformat": 3,
 "nbformat_minor": 0,
 "worksheets": [
  {
   "cells": [
    {
     "cell_type": "markdown",
     "metadata": {},
     "source": [
      "##At first, we tried to use reviews from yelp to provide customized search result for yelp"
     ]
    },
    {
     "cell_type": "code",
     "collapsed": false,
     "input": [
      "# -*- coding: utf-8 -*-\n",
      "\"\"\"\n",
      "Yelp API v2.0 code sample.\n",
      "\n",
      "This program demonstrates the capability of the Yelp API version 2.0\n",
      "by using the Search API to query for businesses by a search term and location,\n",
      "and the Business API to query additional information about the top result\n",
      "from the search query.\n",
      "\n",
      "Please refer to http://www.yelp.com/developers/documentation for the API documentation.\n",
      "\n",
      "This program requires the Python oauth2 library, which you can install via:\n",
      "`pip install -r requirements.txt`.\n",
      "\n",
      "Sample usage of the program:\n",
      "`python sample.py --term=\"bars\" --location=\"San Francisco, CA\"`\n",
      "\"\"\"\n",
      "import argparse\n",
      "import json\n",
      "import pprint\n",
      "import sys\n",
      "import urllib\n",
      "import urllib2\n",
      "\n",
      "import oauth2\n",
      "\n",
      "\n",
      "API_HOST = 'api.yelp.com'\n",
      "DEFAULT_TERM = 'dinner'\n",
      "DEFAULT_LOCATION = 'San Francisco, CA'\n",
      "SEARCH_LIMIT = 20\n",
      "SEARCH_PATH = '/v2/search/'\n",
      "BUSINESS_PATH = '/v2/business/'\n",
      "\n",
      "# OAuth credential placeholders that must be filled in by users.\n",
      "CONSUMER_KEY = 'K625KwhY6nRcnjhWC0pt9w'\n",
      "CONSUMER_SECRET = 'Cw3nMWhos4Kb9Vt7FvD3Ltv_SHY'\n",
      "TOKEN = 'YrjZ0Foyzup9jE5w7ZI1JIi6J8oKTSxK'\n",
      "TOKEN_SECRET = 'QNF5ac6HNiYVFmHWuxwC1QdoTtw'\n",
      "\n",
      "\n",
      "def request(host, path, url_params=None):\n",
      "    \"\"\"Prepares OAuth authentication and sends the request to the API.\n",
      "\n",
      "    Args:\n",
      "        host (str): The domain host of the API.\n",
      "        path (str): The path of the API after the domain.\n",
      "        url_params (dict): An optional set of query parameters in the request.\n",
      "\n",
      "    Returns:\n",
      "        dict: The JSON response from the request.\n",
      "\n",
      "    Raises:\n",
      "        urllib2.HTTPError: An error occurs from the HTTP request.\n",
      "    \"\"\"\n",
      "    url_params = url_params or {}\n",
      "    url = 'http://{0}{1}?'.format(host, path)\n",
      "\n",
      "    consumer = oauth2.Consumer(CONSUMER_KEY, CONSUMER_SECRET)\n",
      "    oauth_request = oauth2.Request(method=\"GET\", url=url, parameters=url_params)\n",
      "\n",
      "    oauth_request.update(\n",
      "        {\n",
      "            'oauth_nonce': oauth2.generate_nonce(),\n",
      "            'oauth_timestamp': oauth2.generate_timestamp(),\n",
      "            'oauth_token': TOKEN,\n",
      "            'oauth_consumer_key': CONSUMER_KEY\n",
      "        }\n",
      "    )\n",
      "    token = oauth2.Token(TOKEN, TOKEN_SECRET)\n",
      "    oauth_request.sign_request(oauth2.SignatureMethod_HMAC_SHA1(), consumer, token)\n",
      "    signed_url = oauth_request.to_url()\n",
      "    \n",
      "    print 'Querying {0} ...'.format(url)\n",
      "\n",
      "    conn = urllib2.urlopen(signed_url, None)\n",
      "    try:\n",
      "        response = json.loads(conn.read())\n",
      "    finally:\n",
      "        conn.close()\n",
      "\n",
      "    return response\n",
      "\n",
      "def search(term, location):\n",
      "    \"\"\"Query the Search API by a search term and location.\n",
      "\n",
      "    Args:\n",
      "        term (str): The search term passed to the API.\n",
      "        location (str): The search location passed to the API.\n",
      "\n",
      "    Returns:\n",
      "        dict: The JSON response from the request.\n",
      "    \"\"\"\n",
      "    \n",
      "    url_params = {\n",
      "        'term': term.replace(' ', '+'),\n",
      "        'location': location.replace(' ', '+'),\n",
      "        'limit': SEARCH_LIMIT,\n",
      "        'sort':1,\n",
      "        'category_filter':'dimsum'\n",
      "    }\n",
      "    return request(API_HOST, SEARCH_PATH, url_params=url_params)\n",
      "\n",
      "def get_business(business_id):\n",
      "    \"\"\"Query the Business API by a business ID.\n",
      "\n",
      "    Args:\n",
      "        business_id (str): The ID of the business to query.\n",
      "\n",
      "    Returns:\n",
      "        dict: The JSON response from the request.\n",
      "    \"\"\"\n",
      "    business_path = BUSINESS_PATH + business_id\n",
      "\n",
      "    return request(API_HOST, business_path)"
     ],
     "language": "python",
     "metadata": {},
     "outputs": [],
     "prompt_number": 2
    },
    {
     "cell_type": "code",
     "collapsed": false,
     "input": [
      "\n",
      "test = search('chinese food', '02138')"
     ],
     "language": "python",
     "metadata": {},
     "outputs": [
      {
       "output_type": "stream",
       "stream": "stdout",
       "text": [
        "Querying http://api.yelp.com/v2/search/? ...\n"
       ]
      }
     ],
     "prompt_number": 36
    },
    {
     "cell_type": "code",
     "collapsed": false,
     "input": [
      "for i in test['businesses']:\n",
      "    print i['id']"
     ],
     "language": "python",
     "metadata": {},
     "outputs": [
      {
       "output_type": "stream",
       "stream": "stdout",
       "text": [
        "shangri-la-belmont\n",
        "dim-sum-chef-boston\n",
        "lucky-dragon-arlington-2\n"
       ]
      }
     ],
     "prompt_number": 38
    },
    {
     "cell_type": "code",
     "collapsed": false,
     "input": [
      "get_business('shangri-la-belmont')['reviews']"
     ],
     "language": "python",
     "metadata": {},
     "outputs": [
      {
       "output_type": "stream",
       "stream": "stdout",
       "text": [
        "Querying http://api.yelp.com/v2/business/shangri-la-belmont? ...\n"
       ]
      },
      {
       "metadata": {},
       "output_type": "pyout",
       "prompt_number": 40,
       "text": [
        "[{u'excerpt': u'You were our once-a-week and every Christmas Day tradition.\\n\\nWhen we go back to Boston for two nights, we visit you each night.\\n\\nWe miss you. We miss you so...',\n",
        "  u'id': u'G9xrVxMVmurU_fTHhwewfw',\n",
        "  u'rating': 5,\n",
        "  u'rating_image_large_url': u'http://s3-media3.fl.yelpcdn.com/assets/2/www/img/22affc4e6c38/ico/stars/v1/stars_large_5.png',\n",
        "  u'rating_image_small_url': u'http://s3-media1.fl.yelpcdn.com/assets/2/www/img/c7623205d5cd/ico/stars/v1/stars_small_5.png',\n",
        "  u'rating_image_url': u'http://s3-media1.fl.yelpcdn.com/assets/2/www/img/f1def11e4e79/ico/stars/v1/stars_5.png',\n",
        "  u'time_created': 1409769524,\n",
        "  u'user': {u'id': u'O5ocU1PTV3vInyKbdbIyWg',\n",
        "   u'image_url': u'http://s3-media2.fl.yelpcdn.com/photo/WHqu4cT8ap-J8nM7sZ9GiQ/ms.jpg',\n",
        "   u'name': u'GJ N.'}}]"
       ]
      }
     ],
     "prompt_number": 40
    },
    {
     "cell_type": "markdown",
     "metadata": {},
     "source": [
      "##We switched to predict the box office of movies\n",
      "We can only get the first customer review from yelp API. It would be very hard to make predictions with such little information. So, we switched to predict the box office of movies"
     ]
    },
    {
     "cell_type": "markdown",
     "metadata": {},
     "source": [
      "###Test Rotten Tomatoes API\n",
      "In this part, we tried to load data from the Rotten Tomatoes API."
     ]
    },
    {
     "cell_type": "code",
     "collapsed": false,
     "input": [
      "import argparse\n",
      "import json\n",
      "import pprint\n",
      "import sys\n",
      "import urllib\n",
      "import urllib2\n",
      "import time\n",
      "import datetime\n",
      "import pandas as pd"
     ],
     "language": "python",
     "metadata": {},
     "outputs": [],
     "prompt_number": 1
    },
    {
     "cell_type": "code",
     "collapsed": false,
     "input": [
      "api_key = 'm7jmrcna938zje4rqefde4n7'\n",
      "\n",
      "url = 'http://api.rottentomatoes.com/api/public/v1.0/lists/movies.json?apikey=m7jmrcna938zje4rqefde4n7'\n",
      "data = urllib2.urlopen(url).read()"
     ],
     "language": "python",
     "metadata": {},
     "outputs": [],
     "prompt_number": 4
    },
    {
     "cell_type": "code",
     "collapsed": false,
     "input": [
      "dataDict = json.loads(data)"
     ],
     "language": "python",
     "metadata": {},
     "outputs": [],
     "prompt_number": 5
    },
    {
     "cell_type": "code",
     "collapsed": false,
     "input": [
      "dataDict"
     ],
     "language": "python",
     "metadata": {},
     "outputs": [
      {
       "metadata": {},
       "output_type": "pyout",
       "prompt_number": 6,
       "text": [
        "{u'links': {u'box_office': u'http://api.rottentomatoes.com/api/public/v1.0/lists/movies/box_office.json',\n",
        "  u'in_theaters': u'http://api.rottentomatoes.com/api/public/v1.0/lists/movies/in_theaters.json',\n",
        "  u'opening': u'http://api.rottentomatoes.com/api/public/v1.0/lists/movies/opening.json',\n",
        "  u'upcoming': u'http://api.rottentomatoes.com/api/public/v1.0/lists/movies/upcoming.json'}}"
       ]
      }
     ],
     "prompt_number": 6
    },
    {
     "cell_type": "code",
     "collapsed": false,
     "input": [
      "url = 'http://api.rottentomatoes.com/api/public/v1.0/movies/771108600.json?apikey=m7jmrcna938zje4rqefde4n7'\n",
      "data1 = json.loads(urllib2.urlopen(url).read())"
     ],
     "language": "python",
     "metadata": {},
     "outputs": [],
     "prompt_number": 7
    },
    {
     "cell_type": "code",
     "collapsed": false,
     "input": [
      "data1"
     ],
     "language": "python",
     "metadata": {},
     "outputs": [
      {
       "metadata": {},
       "output_type": "pyout",
       "prompt_number": 8,
       "text": [
        "{u'abridged_cast': [{u'characters': [u'Anka'],\n",
        "   u'id': u'770694608',\n",
        "   u'name': u'Dagmar Veskrnova'},\n",
        "  {u'characters': [u'Slama'], u'id': u'770778108', u'name': u'Ilja Prachar'},\n",
        "  {u'characters': [u'Manager'], u'id': u'770804971', u'name': u'Vit Olmer'},\n",
        "  {u'characters': [u'Rendl'], u'id': u'770695196', u'name': u'Josef Abrham'},\n",
        "  {u'characters': [u'Murasko'],\n",
        "   u'id': u'770778110',\n",
        "   u'name': u'Karel Augusta'}],\n",
        " u'genres': [u'Drama'],\n",
        " u'id': 771108600,\n",
        " u'links': {u'alternate': u'http://www.rottentomatoes.com/m/holka_na_zabiti/',\n",
        "  u'cast': u'http://api.rottentomatoes.com/api/public/v1.0/movies/771108600/cast.json',\n",
        "  u'reviews': u'http://api.rottentomatoes.com/api/public/v1.0/movies/771108600/reviews.json',\n",
        "  u'self': u'http://api.rottentomatoes.com/api/public/v1.0/movies/771108600.json',\n",
        "  u'similar': u'http://api.rottentomatoes.com/api/public/v1.0/movies/771108600/similar.json'},\n",
        " u'mpaa_rating': u'Unrated',\n",
        " u'posters': {u'detailed': u'http://d3biamo577v4eu.cloudfront.net/static/images/redesign/poster_default_thumb.gif',\n",
        "  u'original': u'http://d3biamo577v4eu.cloudfront.net/static/images/redesign/poster_default_thumb.gif',\n",
        "  u'profile': u'http://d3biamo577v4eu.cloudfront.net/static/images/redesign/poster_default_thumb.gif',\n",
        "  u'thumbnail': u'http://d3biamo577v4eu.cloudfront.net/static/images/redesign/poster_default_thumb.gif'},\n",
        " u'ratings': {u'audience_score': 0, u'critics_score': -1},\n",
        " u'release_dates': {},\n",
        " u'runtime': 97,\n",
        " u'synopsis': u'',\n",
        " u'title': u'Holka Na Zabiti',\n",
        " u'year': 1976}"
       ]
      }
     ],
     "prompt_number": 8
    },
    {
     "cell_type": "markdown",
     "metadata": {},
     "source": [
      "###Rotten Tomatoes API does not support search movies by year.\n",
      "We tried to query all possible movie IDs. However, it is not practical as most possible Hash codes of the movies are not valid movie IDs. The number of API calls needed to try all possible movie IDs exceeds far the API call limits."
     ]
    },
    {
     "cell_type": "code",
     "collapsed": false,
     "input": [
      "#Create the Movie table with rotten tomato data\n",
      "api_key = '.json?apikey=m7jmrcna938zje4rqefde4n7'\n",
      "moviesearch = 'http://api.rottentomatoes.com/api/public/v1.0/movies/'\n",
      "\n",
      "MovieList = list()\n",
      "\n",
      "for i in xrange(770600000, 771400000):\n",
      "    try:\n",
      "        url = api_key +str(i)+ moviesearch\n",
      "        data = urllib2.urlopen(url).read()\n",
      "        MovieList.append(json.loads(data))\n",
      "    except:\n",
      "        #print i"
     ],
     "language": "python",
     "metadata": {},
     "outputs": [
      {
       "ename": "IndentationError",
       "evalue": "expected an indented block (<ipython-input-10-c03940c84f75>, line 13)",
       "output_type": "pyerr",
       "traceback": [
        "\u001b[0;36m  File \u001b[0;32m\"<ipython-input-10-c03940c84f75>\"\u001b[0;36m, line \u001b[0;32m13\u001b[0m\n\u001b[0;31m    #print i\u001b[0m\n\u001b[0m            ^\u001b[0m\n\u001b[0;31mIndentationError\u001b[0m\u001b[0;31m:\u001b[0m expected an indented block\n"
       ]
      }
     ],
     "prompt_number": 10
    },
    {
     "cell_type": "code",
     "collapsed": false,
     "input": [
      "api_key = '.json?apikey=m7jmrcna938zje4rqefde4n7'\n",
      "moviesearch = 'http://api.rottentomatoes.com/api/public/v1.0/movies/'\n",
      "\n",
      "MovieList = list()\n",
      "i = 770700052\n",
      "url = moviesearch + str(i)+ api_key\n",
      "data = urllib2.urlopen(url).read()\n",
      "MovieList.append(json.loads(data))"
     ],
     "language": "python",
     "metadata": {},
     "outputs": []
    },
    {
     "cell_type": "code",
     "collapsed": false,
     "input": [
      "import time"
     ],
     "language": "python",
     "metadata": {},
     "outputs": []
    },
    {
     "cell_type": "code",
     "collapsed": false,
     "input": [
      "#Create the Movie table with rotten tomato data\n",
      "#Test all possible movie ID in a range\n",
      "api_key = '.json?apikey=m7jmrcna938zje4rqefde4n7'\n",
      "moviesearch = 'http://api.rottentomatoes.com/api/public/v1.0/movies/'\n",
      "\n",
      "MovieList = list()\n",
      "for i in xrange(770700000, 770700100):\n",
      "    time.sleep(0.5)\n",
      "    try:\n",
      "        url = moviesearch + str(i)+ api_key\n",
      "        data = urllib2.urlopen(url).read()\n",
      "        MovieList.append(json.loads(data))\n",
      "    except:\n",
      "        print i"
     ],
     "language": "python",
     "metadata": {},
     "outputs": [
      {
       "output_type": "stream",
       "stream": "stdout",
       "text": [
        "770700002\n",
        "770700006"
       ]
      },
      {
       "output_type": "stream",
       "stream": "stdout",
       "text": [
        "\n",
        "770700007"
       ]
      },
      {
       "output_type": "stream",
       "stream": "stdout",
       "text": [
        "\n",
        "770700008"
       ]
      },
      {
       "output_type": "stream",
       "stream": "stdout",
       "text": [
        "\n",
        "770700011"
       ]
      },
      {
       "output_type": "stream",
       "stream": "stdout",
       "text": [
        "\n",
        "770700012"
       ]
      },
      {
       "output_type": "stream",
       "stream": "stdout",
       "text": [
        "\n",
        "770700013"
       ]
      },
      {
       "output_type": "stream",
       "stream": "stdout",
       "text": [
        "\n",
        "770700014"
       ]
      },
      {
       "output_type": "stream",
       "stream": "stdout",
       "text": [
        "\n",
        "770700015"
       ]
      },
      {
       "output_type": "stream",
       "stream": "stdout",
       "text": [
        "\n",
        "770700016"
       ]
      },
      {
       "output_type": "stream",
       "stream": "stdout",
       "text": [
        "\n",
        "770700017"
       ]
      },
      {
       "output_type": "stream",
       "stream": "stdout",
       "text": [
        "\n",
        "770700018"
       ]
      },
      {
       "output_type": "stream",
       "stream": "stdout",
       "text": [
        "\n",
        "770700023"
       ]
      },
      {
       "output_type": "stream",
       "stream": "stdout",
       "text": [
        "\n",
        "770700025"
       ]
      },
      {
       "output_type": "stream",
       "stream": "stdout",
       "text": [
        "\n",
        "770700026"
       ]
      },
      {
       "output_type": "stream",
       "stream": "stdout",
       "text": [
        "\n",
        "770700029"
       ]
      },
      {
       "output_type": "stream",
       "stream": "stdout",
       "text": [
        "\n",
        "770700030"
       ]
      },
      {
       "output_type": "stream",
       "stream": "stdout",
       "text": [
        "\n",
        "770700032"
       ]
      },
      {
       "output_type": "stream",
       "stream": "stdout",
       "text": [
        "\n",
        "770700033"
       ]
      },
      {
       "output_type": "stream",
       "stream": "stdout",
       "text": [
        "\n",
        "770700035"
       ]
      },
      {
       "output_type": "stream",
       "stream": "stdout",
       "text": [
        "\n",
        "770700037"
       ]
      },
      {
       "output_type": "stream",
       "stream": "stdout",
       "text": [
        "\n",
        "770700038"
       ]
      },
      {
       "output_type": "stream",
       "stream": "stdout",
       "text": [
        "\n",
        "770700039"
       ]
      },
      {
       "output_type": "stream",
       "stream": "stdout",
       "text": [
        "\n",
        "770700040"
       ]
      },
      {
       "output_type": "stream",
       "stream": "stdout",
       "text": [
        "\n",
        "770700045"
       ]
      },
      {
       "output_type": "stream",
       "stream": "stdout",
       "text": [
        "\n",
        "770700046"
       ]
      },
      {
       "output_type": "stream",
       "stream": "stdout",
       "text": [
        "\n",
        "770700047"
       ]
      },
      {
       "output_type": "stream",
       "stream": "stdout",
       "text": [
        "\n",
        "770700049"
       ]
      },
      {
       "output_type": "stream",
       "stream": "stdout",
       "text": [
        "\n",
        "770700052"
       ]
      },
      {
       "output_type": "stream",
       "stream": "stdout",
       "text": [
        "\n",
        "770700054"
       ]
      },
      {
       "output_type": "stream",
       "stream": "stdout",
       "text": [
        "\n",
        "770700057"
       ]
      },
      {
       "output_type": "stream",
       "stream": "stdout",
       "text": [
        "\n",
        "770700058"
       ]
      },
      {
       "output_type": "stream",
       "stream": "stdout",
       "text": [
        "\n",
        "770700059"
       ]
      },
      {
       "output_type": "stream",
       "stream": "stdout",
       "text": [
        "\n",
        "770700064"
       ]
      },
      {
       "output_type": "stream",
       "stream": "stdout",
       "text": [
        "\n",
        "770700065"
       ]
      },
      {
       "output_type": "stream",
       "stream": "stdout",
       "text": [
        "\n",
        "770700068"
       ]
      },
      {
       "output_type": "stream",
       "stream": "stdout",
       "text": [
        "\n",
        "770700069"
       ]
      },
      {
       "output_type": "stream",
       "stream": "stdout",
       "text": [
        "\n",
        "770700071"
       ]
      },
      {
       "output_type": "stream",
       "stream": "stdout",
       "text": [
        "\n",
        "770700072"
       ]
      },
      {
       "output_type": "stream",
       "stream": "stdout",
       "text": [
        "\n",
        "770700073"
       ]
      },
      {
       "output_type": "stream",
       "stream": "stdout",
       "text": [
        "\n",
        "770700075"
       ]
      },
      {
       "output_type": "stream",
       "stream": "stdout",
       "text": [
        "\n",
        "770700076"
       ]
      },
      {
       "output_type": "stream",
       "stream": "stdout",
       "text": [
        "\n",
        "770700078"
       ]
      },
      {
       "output_type": "stream",
       "stream": "stdout",
       "text": [
        "\n",
        "770700081"
       ]
      },
      {
       "output_type": "stream",
       "stream": "stdout",
       "text": [
        "\n",
        "770700084"
       ]
      },
      {
       "output_type": "stream",
       "stream": "stdout",
       "text": [
        "\n",
        "770700085"
       ]
      },
      {
       "output_type": "stream",
       "stream": "stdout",
       "text": [
        "\n",
        "770700086"
       ]
      },
      {
       "output_type": "stream",
       "stream": "stdout",
       "text": [
        "\n",
        "770700088"
       ]
      },
      {
       "output_type": "stream",
       "stream": "stdout",
       "text": [
        "\n",
        "770700089"
       ]
      },
      {
       "output_type": "stream",
       "stream": "stdout",
       "text": [
        "\n",
        "770700092"
       ]
      },
      {
       "output_type": "stream",
       "stream": "stdout",
       "text": [
        "\n",
        "770700093"
       ]
      },
      {
       "output_type": "stream",
       "stream": "stdout",
       "text": [
        "\n",
        "770700094"
       ]
      },
      {
       "output_type": "stream",
       "stream": "stdout",
       "text": [
        "\n",
        "770700095"
       ]
      },
      {
       "output_type": "stream",
       "stream": "stdout",
       "text": [
        "\n"
       ]
      }
     ],
     "prompt_number": 68
    },
    {
     "cell_type": "markdown",
     "metadata": {},
     "source": [
      "###We decided to get movie names from TMDb.\n",
      "To get movies IDs of Rotten Tomatoes, we first queried movies by year in TMDb API. Then, we searched the movie names in Rotten Tomatoes to get movie IDs and the information related to each movie."
     ]
    },
    {
     "cell_type": "markdown",
     "metadata": {},
     "source": [
      "###Test TMDb API"
     ]
    },
    {
     "cell_type": "code",
     "collapsed": false,
     "input": [
      "#Test of getting movie names from TMDb\n",
      "API_key = 'd2189e753db5381d70ac0d51e45b19cc'\n",
      "url='http://api.themoviedb.org/3/discover/movie?language=en&page=1&sort_by=revenue.desc&primary_release_date.gte=1990-1-2&primary_release_date.lte=1990-2-1&api_key=d2189e753db5381d70ac0d51e45b19cc'\n",
      "data = urllib2.urlopen(url).read()"
     ],
     "language": "python",
     "metadata": {},
     "outputs": [],
     "prompt_number": 16
    },
    {
     "cell_type": "code",
     "collapsed": false,
     "input": [
      "data = json.loads(data)"
     ],
     "language": "python",
     "metadata": {},
     "outputs": [],
     "prompt_number": 17
    },
    {
     "cell_type": "code",
     "collapsed": false,
     "input": [
      "results = data['results']"
     ],
     "language": "python",
     "metadata": {},
     "outputs": [],
     "prompt_number": 18
    },
    {
     "cell_type": "code",
     "collapsed": false,
     "input": [
      "results"
     ],
     "language": "python",
     "metadata": {},
     "outputs": [
      {
       "metadata": {},
       "output_type": "pyout",
       "prompt_number": 19,
       "text": [
        "[{u'adult': False,\n",
        "  u'backdrop_path': u'/yUgmWnxcPYoonOQfrax5CfIYvDU.jpg',\n",
        "  u'id': 9362,\n",
        "  u'original_title': u'Tremors',\n",
        "  u'popularity': 0.442482617515942,\n",
        "  u'poster_path': u'/uaTHEpgS3tMPK5XY3f17RIrM07v.jpg',\n",
        "  u'release_date': u'1990-01-19',\n",
        "  u'title': u'Tremors',\n",
        "  u'vote_average': 6.4,\n",
        "  u'vote_count': 161},\n",
        " {u'adult': False,\n",
        "  u'backdrop_path': u'/dYmixsaPYrhM6Qxj9eQh87TFJdQ.jpg',\n",
        "  u'id': 22585,\n",
        "  u'original_title': u'Ski Patrol',\n",
        "  u'popularity': 1.09260673955982e-05,\n",
        "  u'poster_path': u'/xKrAqPLhhwCGG7ocjWuG2rpkBQa.jpg',\n",
        "  u'release_date': u'1990-01-12',\n",
        "  u'title': u'Ski Patrol',\n",
        "  u'vote_average': 7.8,\n",
        "  u'vote_count': 2},\n",
        " {u'adult': False,\n",
        "  u'backdrop_path': None,\n",
        "  u'id': 60778,\n",
        "  u'original_title': u'Downtown',\n",
        "  u'popularity': 0.0101879281281952,\n",
        "  u'poster_path': u'/68UiblfLyzb53eNQG03EYzJ9OCB.jpg',\n",
        "  u'release_date': u'1990-01-12',\n",
        "  u'title': u'Downtown',\n",
        "  u'vote_average': 0.0,\n",
        "  u'vote_count': 0},\n",
        " {u'adult': False,\n",
        "  u'backdrop_path': u'/2wPqy1Ay4WhKyPFNy9xQ1cetvgM.jpg',\n",
        "  u'id': 15736,\n",
        "  u'original_title': u'Der Todesking',\n",
        "  u'popularity': 0.000417493631814745,\n",
        "  u'poster_path': u'/bWdaljFL6xbpwj2YWtIRAhyAOy6.jpg',\n",
        "  u'release_date': u'1990-01-25',\n",
        "  u'title': u'Der Todesking',\n",
        "  u'vote_average': 0.0,\n",
        "  u'vote_count': 0},\n",
        " {u'adult': False,\n",
        "  u'backdrop_path': u'/2TD25Yv0lxpmi86IrHwBLfB20HS.jpg',\n",
        "  u'id': 30582,\n",
        "  u'original_title': u'GWAR: Live from Antarctica',\n",
        "  u'popularity': 7.60756220352085e-21,\n",
        "  u'poster_path': u'/a9PewZFw6zP9tiHfmvVvwsLE5YM.jpg',\n",
        "  u'release_date': u'1990-01-20',\n",
        "  u'title': u'GWAR: Live from Antarctica',\n",
        "  u'vote_average': 0.0,\n",
        "  u'vote_count': 0},\n",
        " {u'adult': False,\n",
        "  u'backdrop_path': u'/b4lMjWWhX5cbHDPpuNCvMPCvmBb.jpg',\n",
        "  u'id': 48747,\n",
        "  u'original_title': u'Jekyll & Hyde',\n",
        "  u'popularity': 0.000136071120357046,\n",
        "  u'poster_path': u'/jt6UM3tTKwFjcLKxXtkJtcsAwCP.jpg',\n",
        "  u'release_date': u'1990-01-06',\n",
        "  u'title': u'Jekyll & Hyde',\n",
        "  u'vote_average': 6.0,\n",
        "  u'vote_count': 1},\n",
        " {u'adult': False,\n",
        "  u'backdrop_path': None,\n",
        "  u'id': 51127,\n",
        "  u'original_title': u'Drug Wars: The Camarena Story',\n",
        "  u'popularity': 0.0615594096591446,\n",
        "  u'poster_path': u'/k9BnI6YvCHSyVg4SlD7qF3fO8mN.jpg',\n",
        "  u'release_date': u'1990-01-07',\n",
        "  u'title': u'Drug Wars: The Camarena Story',\n",
        "  u'vote_average': 6.5,\n",
        "  u'vote_count': 1},\n",
        " {u'adult': False,\n",
        "  u'backdrop_path': None,\n",
        "  u'id': 41816,\n",
        "  u'original_title': u'Everybody Wins',\n",
        "  u'popularity': 0.000257372001243071,\n",
        "  u'poster_path': u'/uBeOeJYjIGNVOxqjnT9TE4EdrdS.jpg',\n",
        "  u'release_date': u'1990-01-19',\n",
        "  u'title': u'Everybody Wins',\n",
        "  u'vote_average': 0.0,\n",
        "  u'vote_count': 0},\n",
        " {u'adult': False,\n",
        "  u'backdrop_path': None,\n",
        "  u'id': 41943,\n",
        "  u'original_title': u'The Plot Against Harry',\n",
        "  u'popularity': 1.11890941839411e-17,\n",
        "  u'poster_path': u'/zmFeDXfkNU3Ly1nqiXFJwwmbDsX.jpg',\n",
        "  u'release_date': u'1990-01-12',\n",
        "  u'title': u'The Plot Against Harry',\n",
        "  u'vote_average': 0.0,\n",
        "  u'vote_count': 0},\n",
        " {u'adult': False,\n",
        "  u'backdrop_path': None,\n",
        "  u'id': 67730,\n",
        "  u'original_title': u'Living Doll',\n",
        "  u'popularity': 1.04616923503903e-06,\n",
        "  u'poster_path': u'/95Sf0olQNQdQRmOi7tdcnmr5qPL.jpg',\n",
        "  u'release_date': u'1990-02-01',\n",
        "  u'title': u'Living Doll',\n",
        "  u'vote_average': 0.0,\n",
        "  u'vote_count': 0},\n",
        " {u'adult': False,\n",
        "  u'backdrop_path': u'/fJ0kQacETZEZ4dCIjmUFuOkuqGL.jpg',\n",
        "  u'id': 94470,\n",
        "  u'original_title': u'Tom et Lola',\n",
        "  u'popularity': 0.0239886600667415,\n",
        "  u'poster_path': u'/yn93KRwhQHJjwnTI84gIMEzj1cv.jpg',\n",
        "  u'release_date': u'1990-01-17',\n",
        "  u'title': u'Tom and Lola',\n",
        "  u'vote_average': 0.0,\n",
        "  u'vote_count': 0},\n",
        " {u'adult': False,\n",
        "  u'backdrop_path': None,\n",
        "  u'id': 108877,\n",
        "  u'original_title': u'Darkroom',\n",
        "  u'popularity': 7.87563111921776e-22,\n",
        "  u'poster_path': u'/sQ875B8ykRx0PingNtlFx5RbmFU.jpg',\n",
        "  u'release_date': u'1990-02-01',\n",
        "  u'title': u'Darkroom',\n",
        "  u'vote_average': 0.0,\n",
        "  u'vote_count': 0},\n",
        " {u'adult': False,\n",
        "  u'backdrop_path': None,\n",
        "  u'id': 160819,\n",
        "  u'original_title': u'El \\xfaltimo tranv\\xeda',\n",
        "  u'popularity': 5.35933877410259e-17,\n",
        "  u'poster_path': u'/kfdYHXpvFOQA7R2RALGgLKUZOyf.jpg',\n",
        "  u'release_date': u'1990-01-20',\n",
        "  u'title': u'El \\xfaltimo tranv\\xeda',\n",
        "  u'vote_average': 8.0,\n",
        "  u'vote_count': 1},\n",
        " {u'adult': False,\n",
        "  u'backdrop_path': None,\n",
        "  u'id': 158557,\n",
        "  u'original_title': u'Das Rattennest',\n",
        "  u'popularity': 1.6103407355225e-05,\n",
        "  u'poster_path': u'/alXlcktkU5r6Ql30qJxxcjoLoWz.jpg',\n",
        "  u'release_date': u'1990-01-23',\n",
        "  u'title': u\"A Father's Revenge\",\n",
        "  u'vote_average': 0.0,\n",
        "  u'vote_count': 0},\n",
        " {u'adult': False,\n",
        "  u'backdrop_path': u'/hSj3WlITP0vGm8DgPX4OAfgNjGC.jpg',\n",
        "  u'id': 239067,\n",
        "  u'original_title': u'Vita coi figli',\n",
        "  u'popularity': 0.158016178825722,\n",
        "  u'poster_path': u'/z9hpl478IWMdf35ZnayCqkDX69L.jpg',\n",
        "  u'release_date': u'1990-02-01',\n",
        "  u'title': u'Vita coi figli',\n",
        "  u'vote_average': 0.0,\n",
        "  u'vote_count': 0},\n",
        " {u'adult': False,\n",
        "  u'backdrop_path': None,\n",
        "  u'id': 119849,\n",
        "  u'original_title': u'Ninja Empire',\n",
        "  u'popularity': 4.8489583354886e-15,\n",
        "  u'poster_path': u'/mQwy72xJN3Ug41T7IEKBphIEltx.jpg',\n",
        "  u'release_date': u'1990-01-02',\n",
        "  u'title': u'Ninja Empire',\n",
        "  u'vote_average': 0.0,\n",
        "  u'vote_count': 0},\n",
        " {u'adult': False,\n",
        "  u'backdrop_path': u'/hOUVThyVe4BWvejAQj5YS6Xk708.jpg',\n",
        "  u'id': 166908,\n",
        "  u'original_title': u'Die Piefke-Saga - Teil 1: Der Skandal',\n",
        "  u'popularity': 2.77510197515742e-28,\n",
        "  u'poster_path': u'/uvv7iW4kNGHvtz6Pt1Q4M4Bygf6.jpg',\n",
        "  u'release_date': u'1990-01-31',\n",
        "  u'title': u'Die Piefke-Saga - Teil 1: Der Skandal',\n",
        "  u'vote_average': 9.0,\n",
        "  u'vote_count': 1},\n",
        " {u'adult': False,\n",
        "  u'backdrop_path': None,\n",
        "  u'id': 248133,\n",
        "  u'original_title': u'Ievas parad\\u012bzes d\\u0101rzs',\n",
        "  u'popularity': 5.01942714836541e-31,\n",
        "  u'poster_path': u'/xlYZIte9UGgrP5loG1ToAtFyx4w.jpg',\n",
        "  u'release_date': u'1990-01-04',\n",
        "  u'title': u'Ievas parad\\u012bzes d\\u0101rzs',\n",
        "  u'vote_average': 0.0,\n",
        "  u'vote_count': 0},\n",
        " {u'adult': False,\n",
        "  u'backdrop_path': None,\n",
        "  u'id': 278943,\n",
        "  u'original_title': u'The Great American Sex Scandal',\n",
        "  u'popularity': 1.29824413758604e-29,\n",
        "  u'poster_path': None,\n",
        "  u'release_date': u'1990-01-14',\n",
        "  u'title': u'The Great American Sex Scandal',\n",
        "  u'vote_average': 0.0,\n",
        "  u'vote_count': 0},\n",
        " {u'adult': False,\n",
        "  u'backdrop_path': None,\n",
        "  u'id': 284090,\n",
        "  u'original_title': u'Huang jin yu',\n",
        "  u'popularity': 3.0624500774588e-30,\n",
        "  u'poster_path': None,\n",
        "  u'release_date': u'1990-01-02',\n",
        "  u'title': u'Golden Shower',\n",
        "  u'vote_average': 0.0,\n",
        "  u'vote_count': 0}]"
       ]
      }
     ],
     "prompt_number": 19
    },
    {
     "cell_type": "code",
     "collapsed": false,
     "input": [
      "names = [i['title'] for i in results]"
     ],
     "language": "python",
     "metadata": {},
     "outputs": [],
     "prompt_number": 19
    },
    {
     "cell_type": "code",
     "collapsed": false,
     "input": [
      "url = \"http://api.rottentomatoes.com/api/public/v1.0/movies.json?apikey=m7jmrcna938zje4rqefde4n7&page_limit=2&q=Gravity\"\n",
      "data = urllib2.urlopen(url).read()\n",
      "json.loads(data)['movies'][1]['id']"
     ],
     "language": "python",
     "metadata": {},
     "outputs": [
      {
       "metadata": {},
       "output_type": "pyout",
       "prompt_number": 20,
       "text": [
        "u'770721075'"
       ]
      }
     ],
     "prompt_number": 20
    },
    {
     "cell_type": "code",
     "collapsed": false,
     "input": [
      "api_key = 'apikey=m7jmrcna938zje4rqefde4n7&page_limit=2&q='\n",
      "moviesearch = 'http://api.rottentomatoes.com/api/public/v1.0/movies.json?'\n",
      "MovieList = list()\n",
      "for i in names:\n",
      "    time.sleep(0.5)\n",
      "    name = i.replace(' ', '+')\n",
      "    name = name.replace('&', 'and')\n",
      "    url = moviesearch + api_key + name\n",
      "    data = urllib2.urlopen(url).read()\n",
      "    MovieList.append(json.loads(data)['movies'][0]['id'])"
     ],
     "language": "python",
     "metadata": {},
     "outputs": [],
     "prompt_number": 196
    },
    {
     "cell_type": "code",
     "collapsed": false,
     "input": [
      "url = \"http://api.rottentomatoes.com/api/public/v1.0/movies/770804147.json?apikey=m7jmrcna938zje4rqefde4n7\"\n",
      "data = urllib2.urlopen(url).read()\n",
      "json.loads(data)\n",
      "\n"
     ],
     "language": "python",
     "metadata": {},
     "outputs": [
      {
       "metadata": {},
       "output_type": "pyout",
       "prompt_number": 94,
       "text": [
        "{u'abridged_cast': [{u'characters': [u'Eli'],\n",
        "   u'id': u'162661439',\n",
        "   u'name': u'Denzel Washington'},\n",
        "  {u'characters': [u'Carnegie'], u'id': u'162652649', u'name': u'Gary Oldman'},\n",
        "  {u'characters': [u'Solara'], u'id': u'364629418', u'name': u'Mila Kunis'},\n",
        "  {u'characters': [u'Redridge'],\n",
        "   u'id': u'432539848',\n",
        "   u'name': u'Ray Stevenson'},\n",
        "  {u'characters': [u'Claudia'],\n",
        "   u'id': u'162657735',\n",
        "   u'name': u'Jennifer Beals'}],\n",
        " u'abridged_directors': [{u'name': u'Albert Hughes'},\n",
        "  {u'name': u'Allen Hughes'}],\n",
        " u'alternate_ids': {u'imdb': u'1037705'},\n",
        " u'critics_consensus': u'',\n",
        " u'genres': [u'Action & Adventure'],\n",
        " u'id': 770804147,\n",
        " u'links': {u'alternate': u'http://www.rottentomatoes.com/m/the_book_of_eli/',\n",
        "  u'cast': u'http://api.rottentomatoes.com/api/public/v1.0/movies/770804147/cast.json',\n",
        "  u'reviews': u'http://api.rottentomatoes.com/api/public/v1.0/movies/770804147/reviews.json',\n",
        "  u'self': u'http://api.rottentomatoes.com/api/public/v1.0/movies/770804147.json',\n",
        "  u'similar': u'http://api.rottentomatoes.com/api/public/v1.0/movies/770804147/similar.json'},\n",
        " u'mpaa_rating': u'R',\n",
        " u'posters': {u'detailed': u'http://content9.flixster.com/movie/11/16/67/11166719_tmb.jpg',\n",
        "  u'original': u'http://content9.flixster.com/movie/11/16/67/11166719_tmb.jpg',\n",
        "  u'profile': u'http://content9.flixster.com/movie/11/16/67/11166719_tmb.jpg',\n",
        "  u'thumbnail': u'http://content9.flixster.com/movie/11/16/67/11166719_tmb.jpg'},\n",
        " u'ratings': {u'audience_rating': u'Upright',\n",
        "  u'audience_score': 64,\n",
        "  u'critics_rating': u'Rotten',\n",
        "  u'critics_score': 48},\n",
        " u'release_dates': {u'dvd': u'2010-06-15', u'theater': u'2010-01-15'},\n",
        " u'runtime': 118,\n",
        " u'studio': u'Warner Bros. Pictures',\n",
        " u'synopsis': u'In a post-apocalyptic America where the once-picturesque countryside has become a desolate and violent wasteland, one man (Denzel Washington) fights to protect that sacred tome that could hold the key to the survival of the human race in this futuristic thriller from filmmaking duo Albert and Allen Hughes (From Hell and Dead Presidents). Gary Oldman, Mila Kunis, and Ray Stevenson co-star in the Warner Bros. production. ~ Jason Buchanan, Rovi',\n",
        " u'title': u'The Book of Eli',\n",
        " u'year': 2010}"
       ]
      }
     ],
     "prompt_number": 94
    },
    {
     "cell_type": "code",
     "collapsed": false,
     "input": [
      "api_key = 'm7jmrcna938zje4rqefde4n7'\n",
      "moviesearch = 'http://api.rottentomatoes.com/api/public/v1.0/movies.json&page_limit=1?apikey='\n",
      "query = '&page_limit=2&q='\n",
      "movieinfo = 'http://api.rottentomatoes.com/api/public/v1.0/movies/'\n",
      "movieinfo_key = '.json?apikey=' + api_key\n",
      "idx = 770816444\n",
      "url = movieinfo + str(idx) + movieinfo_key\n",
      "info = json.loads(urllib2.urlopen(url).read())\n",
      "info"
     ],
     "language": "python",
     "metadata": {},
     "outputs": []
    },
    {
     "cell_type": "markdown",
     "metadata": {},
     "source": [
      "#The following is the final version of data retrieval"
     ]
    },
    {
     "cell_type": "code",
     "collapsed": false,
     "input": [
      "import argparse\n",
      "import json\n",
      "import pprint\n",
      "import sys\n",
      "import urllib\n",
      "import urllib2\n",
      "import time\n",
      "import datetime\n",
      "import pandas as pd"
     ],
     "language": "python",
     "metadata": {},
     "outputs": [],
     "prompt_number": 2
    },
    {
     "cell_type": "code",
     "collapsed": false,
     "input": [
      "#Get movie names from TMDb\n",
      "API_key = 'd2189e753db5381d70ac0d51e45b19cc'\n",
      "def getUrl(startyear, startmonth, endyear, endmonth, page):\n",
      "    domain = 'http://api.themoviedb.org/3/discover/movie?language=en&page='+str(page)+'&sort_by=revenue.desc&primary_release_date.gte='\n",
      "    url = domain +str(startyear) + '-'+str(startmonth)+'-02&primary_release_date.lte='+str(endyear) + '-'+str(endmonth)+'-01&api_key='+API_key\n",
      "    return url\n",
      "\n",
      "names = []\n",
      "years = []\n",
      "for year in xrange(1990, 2014):\n",
      "    print year\n",
      "    for month in xrange(1, 13):\n",
      "        for page in xrange(1,4):\n",
      "            time.sleep(0.35)\n",
      "            if (month == 12):\n",
      "                url = getUrl(year, month, year+1, 1, page)\n",
      "            else:\n",
      "                url = getUrl(year, month, year, month+1, page)\n",
      "            data = json.loads(urllib2.urlopen(url).read())\n",
      "            results = data['results']\n",
      "            for i in results:\n",
      "                names.append(i['title'])\n",
      "                years.append((i['release_date']).split('-')[0])\n",
      "\n"
     ],
     "language": "python",
     "metadata": {},
     "outputs": [
      {
       "output_type": "stream",
       "stream": "stdout",
       "text": [
        "1990\n",
        "1991"
       ]
      },
      {
       "output_type": "stream",
       "stream": "stdout",
       "text": [
        "\n",
        "1992"
       ]
      },
      {
       "output_type": "stream",
       "stream": "stdout",
       "text": [
        "\n",
        "1993"
       ]
      },
      {
       "output_type": "stream",
       "stream": "stdout",
       "text": [
        "\n",
        "1994"
       ]
      },
      {
       "output_type": "stream",
       "stream": "stdout",
       "text": [
        "\n",
        "1995"
       ]
      },
      {
       "output_type": "stream",
       "stream": "stdout",
       "text": [
        "\n",
        "1996"
       ]
      },
      {
       "output_type": "stream",
       "stream": "stdout",
       "text": [
        "\n",
        "1997"
       ]
      },
      {
       "output_type": "stream",
       "stream": "stdout",
       "text": [
        "\n",
        "1998"
       ]
      },
      {
       "output_type": "stream",
       "stream": "stdout",
       "text": [
        "\n",
        "1999"
       ]
      },
      {
       "output_type": "stream",
       "stream": "stdout",
       "text": [
        "\n",
        "2000"
       ]
      },
      {
       "output_type": "stream",
       "stream": "stdout",
       "text": [
        "\n",
        "2001"
       ]
      },
      {
       "output_type": "stream",
       "stream": "stdout",
       "text": [
        "\n",
        "2002"
       ]
      },
      {
       "output_type": "stream",
       "stream": "stdout",
       "text": [
        "\n",
        "2003"
       ]
      },
      {
       "output_type": "stream",
       "stream": "stdout",
       "text": [
        "\n",
        "2004"
       ]
      },
      {
       "output_type": "stream",
       "stream": "stdout",
       "text": [
        "\n",
        "2005"
       ]
      },
      {
       "output_type": "stream",
       "stream": "stdout",
       "text": [
        "\n",
        "2006"
       ]
      },
      {
       "output_type": "stream",
       "stream": "stdout",
       "text": [
        "\n",
        "2007"
       ]
      },
      {
       "output_type": "stream",
       "stream": "stdout",
       "text": [
        "\n",
        "2008"
       ]
      },
      {
       "output_type": "stream",
       "stream": "stdout",
       "text": [
        "\n",
        "2009"
       ]
      },
      {
       "output_type": "stream",
       "stream": "stdout",
       "text": [
        "\n",
        "2010"
       ]
      },
      {
       "output_type": "stream",
       "stream": "stdout",
       "text": [
        "\n",
        "2011"
       ]
      },
      {
       "output_type": "stream",
       "stream": "stdout",
       "text": [
        "\n",
        "2012"
       ]
      },
      {
       "output_type": "stream",
       "stream": "stdout",
       "text": [
        "\n",
        "2013"
       ]
      },
      {
       "output_type": "stream",
       "stream": "stdout",
       "text": [
        "\n"
       ]
      }
     ],
     "prompt_number": 2
    },
    {
     "cell_type": "code",
     "collapsed": false,
     "input": [
      "#Store the information to a csv file for future use\n",
      "Movies = pd.DataFrame({'Name':names, 'Year':years})\n",
      "Movies = Movies.drop_duplicates()\n",
      "Movies.to_csv('Movies.csv', encoding='utf-8', index=False)"
     ],
     "language": "python",
     "metadata": {},
     "outputs": [],
     "prompt_number": 3
    },
    {
     "cell_type": "code",
     "collapsed": false,
     "input": [
      "#Scrape box office from boxofficemojo.com\n",
      "df = pd.DataFrame(columns=('Name', 'Year', 'BoxOffice'))\n",
      "\n",
      "for i in range(5): #range(movieData.shape[0]): #range(len(movieData[\"Name\"])):\n",
      "    if i%25 ==0:\n",
      "        print i\n",
      "    \n",
      "    name = movieData[\"Name\"][i]\n",
      "    year = movieData[\"Name\"][i]\n",
      "    \n",
      "    name = name.replace(\" \", \"+\")\n",
      "    name = name.replace(\"&\", \"and\")\n",
      "    url = \"http://boxofficemojo.com/search/?q=\" + name\n",
      "    try:\n",
      "        f = urllib.urlopen(url)\n",
      "    except:\n",
      "        pass\n",
      "    data = f.read()\n",
      "    ind0 = data.find(\"Movie Matches:\")\n",
      "    data = data[ind0:]\n",
      "    ind1 = data.find(\"/movies/?id=\")\n",
      "    data = data[ind1:]\n",
      "    ind2 = data.find('\">')\n",
      "    if data[12:ind2] != \"\":\n",
      "        url1 = \"http://boxofficemojo.com/movies/?id=\" + data[12:ind2] + \"&adjust_yr=2014&p=.htm\"\n",
      "        try:\n",
      "            f1 = urllib.urlopen(url1)\n",
      "        except:\n",
      "            pass\n",
      "        data = f1.read()\n",
      "        ind4 = data.find(\"Domestic Total Adj. Gross: \")\n",
      "        ind5 = data.find(\"</b>\", ind4)\n",
      "        boxOffice= data[ind4+31:ind5]\n",
      "        boxOffice = boxOffice.replace(\",\",\"\")\n",
      "        ind6 = data.find(\">Release Date:\")\n",
      "        ind7 = data.find(\"</a></nobr></b>\", ind6)\n",
      "        year = data[ind7-4:ind7]\n",
      "        try:\n",
      "            df.loc[i] = [movieData[\"Name\"][i], movieData[\"Year\"][i], int(boxOffice)]\n",
      "        except:\n",
      "            pass"
     ],
     "language": "python",
     "metadata": {},
     "outputs": [
      {
       "output_type": "stream",
       "stream": "stdout",
       "text": [
        "0\n"
       ]
      }
     ],
     "prompt_number": 9
    },
    {
     "cell_type": "code",
     "collapsed": false,
     "input": [
      "df"
     ],
     "language": "python",
     "metadata": {},
     "outputs": [
      {
       "html": [
        "<div style=\"max-height:1000px;max-width:1500px;overflow:auto;\">\n",
        "<table border=\"1\" class=\"dataframe\">\n",
        "  <thead>\n",
        "    <tr style=\"text-align: right;\">\n",
        "      <th></th>\n",
        "      <th>Name</th>\n",
        "      <th>Year</th>\n",
        "      <th>BoxOffice</th>\n",
        "    </tr>\n",
        "  </thead>\n",
        "  <tbody>\n",
        "    <tr>\n",
        "      <th>0</th>\n",
        "      <td>    Tremors</td>\n",
        "      <td> 1990</td>\n",
        "      <td> 31994500</td>\n",
        "    </tr>\n",
        "    <tr>\n",
        "      <th>1</th>\n",
        "      <td> Ski Patrol</td>\n",
        "      <td> 1990</td>\n",
        "      <td> 16382000</td>\n",
        "    </tr>\n",
        "    <tr>\n",
        "      <th>2</th>\n",
        "      <td>   Downtown</td>\n",
        "      <td> 1990</td>\n",
        "      <td>     5000</td>\n",
        "    </tr>\n",
        "  </tbody>\n",
        "</table>\n",
        "</div>"
       ],
       "metadata": {},
       "output_type": "pyout",
       "prompt_number": 10,
       "text": [
        "         Name  Year BoxOffice\n",
        "0     Tremors  1990  31994500\n",
        "1  Ski Patrol  1990  16382000\n",
        "2    Downtown  1990      5000"
       ]
      }
     ],
     "prompt_number": 10
    },
    {
     "cell_type": "code",
     "collapsed": false,
     "input": [
      "df.to_csv(\"MovieBoxOffice.csv\", encoding = 'utf-8', index = False)\n",
      "Movies = pd.read_csv('MovieBoxOffice.csv', encoding='utf-8')"
     ],
     "language": "python",
     "metadata": {},
     "outputs": [],
     "prompt_number": 4
    },
    {
     "cell_type": "code",
     "collapsed": false,
     "input": [
      "#Create the Movie table with rotten tomato data\n",
      "api_key = 'm7jmrcna938zje4rqefde4n7'\n",
      "moviesearch = 'http://api.rottentomatoes.com/api/public/v1.0/movies.json&page_limit=1?apikey='\n",
      "movieinfo = 'http://api.rottentomatoes.com/api/public/v1.0/movies/'\n",
      "movieinfo_key = '.json?apikey=' + api_key\n",
      "query = '&page_limit=2&q='\n",
      "movie_id =[]\n",
      "name = []\n",
      "cast = []\n",
      "release = []\n",
      "director = []\n",
      "genre = []\n",
      "critic_rating = []\n",
      "audience_rating = []\n",
      "review = []\n",
      "weblink = []\n",
      "\n",
      "\n",
      "for i in xrange(0, len(Movies['Name'])):\n",
      "    time.sleep(0.5)\n",
      "    newname = Movies['Name'][i].replace(' ', '+')\n",
      "    newname = newname.replace('&', 'and')\n",
      "    url = moviesearch + api_key + query + newname\n",
      "    data = json.loads(urllib2.urlopen(url).read())\n",
      "    to_add = -1\n",
      "    if (data['total'] >= 1):\n",
      "        if (data['movies'][0]['release_dates'] and ('theater' in data['movies'][0]['release_dates']) and\n",
      "            abs(int(data['movies'][0]['release_dates']['theater'].split('-')[0]) - int(Movies['Year'][i])) < 2):\n",
      "            movie_id.append(data['movies'][0]['id'])\n",
      "            to_add = 0\n",
      "        elif (data['total'] > 1):\n",
      "            if(data['movies'][1]['release_dates'] and ('theater' in data['movies'][1]['release_dates']) and\n",
      "               abs(int(data['movies'][1]['release_dates']['theater'].split('-')[0]) - int(Movies['Year'][i])) < 2):\n",
      "                movie_id.append(data['movies'][1]['id'])\n",
      "                to_add = 1\n",
      "        if (to_add != -1):\n",
      "            idx = movie_id[-1]\n",
      "            url = movieinfo + str(idx) + movieinfo_key\n",
      "            info = json.loads(urllib2.urlopen(url).read())\n",
      "            name.append(info['title'])\n",
      "            cast.append(info['abridged_cast'])\n",
      "            release.append(info['release_dates']['theater'])\n",
      "            director.append(info['abridged_directors'])\n",
      "            genre.append(info['genres'])\n",
      "            critic_rating.append(info['ratings']['critics_score'])\n",
      "            audience_rating.append(info['ratings']['audience_score'])\n",
      "            review.append(info['links']['reviews'])\n",
      "            weblink.append(info['links']['alternate'])\n",
      "            \n",
      "            "
     ],
     "language": "python",
     "metadata": {},
     "outputs": []
    },
    {
     "cell_type": "code",
     "collapsed": false,
     "input": [
      "MovieTable = pd.DataFrame({'ID':movie_id, 'Movie':name, 'Cast':cast, 'Release':release, 'Director':director, 'Genre':genre,\n",
      "             'Critic_rating':critic_rating, 'Audience_rating':audience_rating, 'Review':review, 'weblink':weblink})"
     ],
     "language": "python",
     "metadata": {},
     "outputs": []
    },
    {
     "cell_type": "markdown",
     "metadata": {},
     "source": [
      "#New Data Retrieval from TMDb"
     ]
    },
    {
     "cell_type": "code",
     "collapsed": false,
     "input": [
      "import argparse\n",
      "import json\n",
      "import pprint\n",
      "import sys\n",
      "import urllib\n",
      "import urllib2\n",
      "import time\n",
      "import datetime\n",
      "import pandas as pd"
     ],
     "language": "python",
     "metadata": {},
     "outputs": [],
     "prompt_number": 1
    },
    {
     "cell_type": "code",
     "collapsed": false,
     "input": [
      "#Get movie names from TMDb\n",
      "API_key = 'd2189e753db5381d70ac0d51e45b19cc'\n",
      "def getUrl(startyear, startmonth, endyear, endmonth, page):\n",
      "    domain = 'http://api.themoviedb.org/3/discover/movie?language=en&page='+str(page)+'&sort_by=revenue.desc&primary_release_date.gte='\n",
      "    url = domain +str(startyear) + '-'+str(startmonth)+'-02&primary_release_date.lte='+str(endyear) + '-'+str(endmonth)+'-01&api_key='+API_key\n",
      "    return url\n",
      "\n",
      "names = []\n",
      "years = []\n",
      "for year in xrange(1990, 2014):\n",
      "    print year\n",
      "    for month in xrange(1, 13):\n",
      "        for page in xrange(1,4):\n",
      "            time.sleep(0.35)\n",
      "            if (month == 12):\n",
      "                url = getUrl(year, month, year+1, 1, page)\n",
      "            else:\n",
      "                url = getUrl(year, month, year, month+1, page)\n",
      "            data = json.loads(urllib2.urlopen(url).read())\n",
      "            results = data['results']\n",
      "            for i in results:\n",
      "                names.append(i['title'])\n",
      "                years.append((i['release_date']).split('-')[0])\n",
      "\n",
      "\n"
     ],
     "language": "python",
     "metadata": {},
     "outputs": []
    },
    {
     "cell_type": "code",
     "collapsed": false,
     "input": [
      "#Store the information to a csv file for future use\n",
      "Movies = pd.DataFrame({'Name':names, 'Year':years})\n",
      "Movies = Movies.drop_duplicates()\n",
      "Movies.to_csv('Movies.csv', encoding='utf-8', index=False)"
     ],
     "language": "python",
     "metadata": {},
     "outputs": []
    },
    {
     "cell_type": "code",
     "collapsed": false,
     "input": [
      "#Create the Movie table with rotten tomato data\n",
      "Movies = pd.read_csv('Movies.csv', encoding='utf-8')\n",
      "\n",
      "api_key = 'm7jmrcna938zje4rqefde4n7'\n",
      "moviesearch = 'http://api.rottentomatoes.com/api/public/v1.0/movies.json&page_limit=1?apikey='\n",
      "movieinfo = 'http://api.rottentomatoes.com/api/public/v1.0/movies/'\n",
      "movieinfo_key = '.json?apikey=' + api_key\n",
      "query = '&page_limit=2&q='\n",
      "movie_id =[]\n",
      "imdb_id = []\n",
      "name = []\n",
      "cast = []\n",
      "release = []\n",
      "director = []\n",
      "genre = []\n",
      "critic_rating = []\n",
      "audience_rating = []\n",
      "review = []\n",
      "weblink = []\n",
      "\n",
      "for i in xrange(len(Movies['Name'])):\n",
      "    time.sleep(0.5)\n",
      "    if (i%500 == 0):\n",
      "        print i\n",
      "    newname = Movies['Name'][i].replace(' ', '+')\n",
      "    newname = newname.replace('&', 'and')\n",
      "    url = moviesearch + api_key + query + newname\n",
      "    try:\n",
      "        data = json.loads(urllib2.urlopen(url).read())\n",
      "    except:\n",
      "        pass\n",
      "    to_add = -1\n",
      "    if (data['total'] >= 1):\n",
      "        temp_id = 0\n",
      "        if (data['movies'][0]['release_dates'] and ('theater' in data['movies'][0]['release_dates']) and\n",
      "            abs(int(data['movies'][0]['release_dates']['theater'].split('-')[0]) - int(Movies['Year'][i])) < 2):\n",
      "            temp_id = data['movies'][0]['id']\n",
      "            to_add = 0\n",
      "        elif (data['total'] > 1):\n",
      "            if(data['movies'][1]['release_dates'] and ('theater' in data['movies'][1]['release_dates']) and\n",
      "               abs(int(data['movies'][1]['release_dates']['theater'].split('-')[0]) - int(Movies['Year'][i])) < 2):\n",
      "               temp_id = data['movies'][1]['id']\n",
      "               to_add = 1\n",
      "        if (to_add != -1):\n",
      "            idx = temp_id\n",
      "            url = movieinfo + str(idx) + movieinfo_key\n",
      "            info = json.loads(urllib2.urlopen(url).read())\n",
      "            try:\n",
      "                temp_imdb_id = info['alternate_ids']['imdb']\n",
      "                temp_name = info['title']\n",
      "                temp_cast = info['abridged_cast']\n",
      "                temp_release = info['release_dates']['theater']\n",
      "                temp_director = info['abridged_directors']\n",
      "                temp_genre = info['genres']\n",
      "                temp_critic = info['ratings']['critics_score']\n",
      "                temp_andience = info['ratings']['audience_score']\n",
      "                temp_review = info['links']['reviews']\n",
      "                temp_weblink = info['links']['alternate']\n",
      "                movie_id.append(temp_id)\n",
      "                imdb_id.append(info['alternate_ids']['imdb'])\n",
      "                name.append(info['title'])\n",
      "                cast.append(info['abridged_cast'])\n",
      "                release.append(info['release_dates']['theater'])\n",
      "                director.append(info['abridged_directors'])\n",
      "                genre.append(info['genres'])\n",
      "                critic_rating.append(info['ratings']['critics_score'])\n",
      "                audience_rating.append(info['ratings']['audience_score'])\n",
      "                review.append(info['links']['reviews'])\n",
      "                weblink.append(info['links']['alternate'])\n",
      "            except:\n",
      "                pass\n",
      "            "
     ],
     "language": "python",
     "metadata": {},
     "outputs": [
      {
       "output_type": "stream",
       "stream": "stdout",
       "text": [
        "0\n",
        "10"
       ]
      },
      {
       "output_type": "stream",
       "stream": "stdout",
       "text": [
        "\n",
        "20"
       ]
      },
      {
       "output_type": "stream",
       "stream": "stdout",
       "text": [
        "\n",
        "30"
       ]
      },
      {
       "output_type": "stream",
       "stream": "stdout",
       "text": [
        "\n"
       ]
      },
      {
       "ename": "KeyboardInterrupt",
       "evalue": "",
       "output_type": "pyerr",
       "traceback": [
        "\u001b[0;31m---------------------------------------------------------------------------\u001b[0m\n\u001b[0;31mKeyboardInterrupt\u001b[0m                         Traceback (most recent call last)",
        "\u001b[0;32m<ipython-input-2-b66cb6757581>\u001b[0m in \u001b[0;36m<module>\u001b[0;34m()\u001b[0m\n\u001b[1;32m     20\u001b[0m \u001b[0;34m\u001b[0m\u001b[0m\n\u001b[1;32m     21\u001b[0m \u001b[0;32mfor\u001b[0m \u001b[0mi\u001b[0m \u001b[0;32min\u001b[0m \u001b[0mxrange\u001b[0m\u001b[0;34m(\u001b[0m\u001b[0mlen\u001b[0m\u001b[0;34m(\u001b[0m\u001b[0mMovies\u001b[0m\u001b[0;34m[\u001b[0m\u001b[0;34m'Name'\u001b[0m\u001b[0;34m]\u001b[0m\u001b[0;34m)\u001b[0m\u001b[0;34m)\u001b[0m\u001b[0;34m:\u001b[0m\u001b[0;34m\u001b[0m\u001b[0m\n\u001b[0;32m---> 22\u001b[0;31m     \u001b[0mtime\u001b[0m\u001b[0;34m.\u001b[0m\u001b[0msleep\u001b[0m\u001b[0;34m(\u001b[0m\u001b[0;36m0.5\u001b[0m\u001b[0;34m)\u001b[0m\u001b[0;34m\u001b[0m\u001b[0m\n\u001b[0m\u001b[1;32m     23\u001b[0m     \u001b[0;32mif\u001b[0m \u001b[0;34m(\u001b[0m\u001b[0mi\u001b[0m\u001b[0;34m%\u001b[0m\u001b[0;36m10\u001b[0m \u001b[0;34m==\u001b[0m \u001b[0;36m0\u001b[0m\u001b[0;34m)\u001b[0m\u001b[0;34m:\u001b[0m\u001b[0;34m\u001b[0m\u001b[0m\n\u001b[1;32m     24\u001b[0m         \u001b[0;32mprint\u001b[0m \u001b[0mi\u001b[0m\u001b[0;34m\u001b[0m\u001b[0m\n",
        "\u001b[0;31mKeyboardInterrupt\u001b[0m: "
       ]
      }
     ],
     "prompt_number": 2
    },
    {
     "cell_type": "code",
     "collapsed": false,
     "input": [
      "MovieTable = pd.DataFrame({'ID':movie_id, 'imdb':imdb_id, 'Movie':name, 'Cast':cast, 'Release':release, 'Director':director, 'Genre':genre,\n",
      "             'Critic_rating':critic_rating, 'Audience_rating':audience_rating, 'Review':review, 'weblink':weblink})"
     ],
     "language": "python",
     "metadata": {},
     "outputs": []
    },
    {
     "cell_type": "code",
     "collapsed": false,
     "input": [
      "MovieTable.to_csv(\"MovieTable.csv\", encoding = 'utf-8', index = False)\n",
      "MovieTable.to_pickle('MovieTable.pkl')"
     ],
     "language": "python",
     "metadata": {},
     "outputs": []
    },
    {
     "cell_type": "markdown",
     "metadata": {},
     "source": [
      "##Concatenate Data from TMDb"
     ]
    },
    {
     "cell_type": "code",
     "collapsed": false,
     "input": [
      "MovieTable1 = pd.read_pickle('MovieTable1.pkl')\n",
      "MovieTable2 = pd.read_pickle('MovieTable2.pkl')\n",
      "MovieTable3 = pd.read_pickle('MovieTable3.pkl')\n",
      "MovieTable4 = pd.read_pickle('MovieTable4.pkl')"
     ],
     "language": "python",
     "metadata": {},
     "outputs": [],
     "prompt_number": 153
    },
    {
     "cell_type": "code",
     "collapsed": false,
     "input": [
      "MovieTable = pd.concat([MovieTable1, MovieTable2, MovieTable3, MovieTable4], axis=0)\n",
      "MovieTable.reset_index(inplace=True, drop=True)"
     ],
     "language": "python",
     "metadata": {},
     "outputs": [],
     "prompt_number": 154
    },
    {
     "cell_type": "code",
     "collapsed": false,
     "input": [
      "MovieTable = MovieTable.drop_duplicates(subset=['ID'])\n",
      "MovieTable.reset_index(inplace=True, drop=True)\n",
      "MovieTable.to_csv(\"MovieTable.csv\", encoding = 'utf-8', index = False)\n",
      "MovieTable.to_pickle('MovieTable.pkl')"
     ],
     "language": "python",
     "metadata": {},
     "outputs": [],
     "prompt_number": 4
    },
    {
     "cell_type": "markdown",
     "metadata": {},
     "source": [
      "##Data Wrangling"
     ]
    },
    {
     "cell_type": "markdown",
     "metadata": {},
     "source": [
      "#### create ActorTable from MovieTable and delete movies without rating"
     ]
    },
    {
     "cell_type": "code",
     "collapsed": false,
     "input": [
      "MovieTable = pd.read_pickle('MovieTable.pkl')"
     ],
     "language": "python",
     "metadata": {},
     "outputs": [],
     "prompt_number": 323
    },
    {
     "cell_type": "code",
     "collapsed": false,
     "input": [
      "MovieTable.head()"
     ],
     "language": "python",
     "metadata": {},
     "outputs": [
      {
       "html": [
        "<div style=\"max-height:1000px;max-width:1500px;overflow:auto;\">\n",
        "<table border=\"1\" class=\"dataframe\">\n",
        "  <thead>\n",
        "    <tr style=\"text-align: right;\">\n",
        "      <th></th>\n",
        "      <th>Audience_rating</th>\n",
        "      <th>Cast</th>\n",
        "      <th>Critic_rating</th>\n",
        "      <th>Director</th>\n",
        "      <th>Genre</th>\n",
        "      <th>ID</th>\n",
        "      <th>Movie</th>\n",
        "      <th>Release</th>\n",
        "      <th>Review</th>\n",
        "      <th>imdb</th>\n",
        "      <th>weblink</th>\n",
        "    </tr>\n",
        "  </thead>\n",
        "  <tbody>\n",
        "    <tr>\n",
        "      <th>0</th>\n",
        "      <td> 74</td>\n",
        "      <td> [{u'name': u'Rhonda Le Beck', u'id': u'7715879...</td>\n",
        "      <td> 84</td>\n",
        "      <td>                     [{u'name': u'Ron Underwood'}]</td>\n",
        "      <td>                                [Horror, Comedy]</td>\n",
        "      <td>     10408</td>\n",
        "      <td>                        Tremors</td>\n",
        "      <td> 1990-01-19</td>\n",
        "      <td> http://api.rottentomatoes.com/api/public/v1.0/...</td>\n",
        "      <td> 0100814</td>\n",
        "      <td>          http://www.rottentomatoes.com/m/tremors/</td>\n",
        "    </tr>\n",
        "    <tr>\n",
        "      <th>1</th>\n",
        "      <td> 55</td>\n",
        "      <td> [{u'name': u'Martin Mull', u'characters': [u'M...</td>\n",
        "      <td> -1</td>\n",
        "      <td> [{u'name': u'Richard Correll'}, {u'name': u'Ri...</td>\n",
        "      <td>                    [Action &amp; Adventure, Comedy]</td>\n",
        "      <td> 493165792</td>\n",
        "      <td>                     Ski Patrol</td>\n",
        "      <td> 1990-01-12</td>\n",
        "      <td> http://api.rottentomatoes.com/api/public/v1.0/...</td>\n",
        "      <td> 0100631</td>\n",
        "      <td>       http://www.rottentomatoes.com/m/ski_patrol/</td>\n",
        "    </tr>\n",
        "    <tr>\n",
        "      <th>2</th>\n",
        "      <td> 30</td>\n",
        "      <td> [{u'name': u'Forest Whitaker', u'characters': ...</td>\n",
        "      <td> -1</td>\n",
        "      <td>                  [{u'name': u'Richard Benjamin'}]</td>\n",
        "      <td>             [Drama, Mystery &amp; Suspense, Comedy]</td>\n",
        "      <td>     15885</td>\n",
        "      <td>                       Downtown</td>\n",
        "      <td> 1990-01-12</td>\n",
        "      <td> http://api.rottentomatoes.com/api/public/v1.0/...</td>\n",
        "      <td> 0099460</td>\n",
        "      <td>         http://www.rottentomatoes.com/m/downtown/</td>\n",
        "    </tr>\n",
        "    <tr>\n",
        "      <th>3</th>\n",
        "      <td> 72</td>\n",
        "      <td> [{u'name': u'Susanne Betz', u'id': u'770673557...</td>\n",
        "      <td> -1</td>\n",
        "      <td>                   [{u'name': u'Jorg Buttgereit'}]</td>\n",
        "      <td>      [Drama, Horror, Art House &amp; International]</td>\n",
        "      <td> 770671763</td>\n",
        "      <td> Der Todesking (The Death King)</td>\n",
        "      <td> 1990-01-25</td>\n",
        "      <td> http://api.rottentomatoes.com/api/public/v1.0/...</td>\n",
        "      <td> 0098486</td>\n",
        "      <td> http://www.rottentomatoes.com/m/der-todesking-...</td>\n",
        "    </tr>\n",
        "    <tr>\n",
        "      <th>4</th>\n",
        "      <td> 50</td>\n",
        "      <td> [{u'name': u'Michael Caine', u'characters': [u...</td>\n",
        "      <td> -1</td>\n",
        "      <td>                      [{u'name': u'David Wickes'}]</td>\n",
        "      <td> [Drama, Television, Horror, Mystery &amp; Suspense]</td>\n",
        "      <td> 770676816</td>\n",
        "      <td>                  Jekyll &amp; Hyde</td>\n",
        "      <td> 1990-01-21</td>\n",
        "      <td> http://api.rottentomatoes.com/api/public/v1.0/...</td>\n",
        "      <td> 0099875</td>\n",
        "      <td>  http://www.rottentomatoes.com/m/jekyll-hyde1990/</td>\n",
        "    </tr>\n",
        "  </tbody>\n",
        "</table>\n",
        "</div>"
       ],
       "metadata": {},
       "output_type": "pyout",
       "prompt_number": 324,
       "text": [
        "   Audience_rating                                               Cast  \\\n",
        "0               74  [{u'name': u'Rhonda Le Beck', u'id': u'7715879...   \n",
        "1               55  [{u'name': u'Martin Mull', u'characters': [u'M...   \n",
        "2               30  [{u'name': u'Forest Whitaker', u'characters': ...   \n",
        "3               72  [{u'name': u'Susanne Betz', u'id': u'770673557...   \n",
        "4               50  [{u'name': u'Michael Caine', u'characters': [u...   \n",
        "\n",
        "   Critic_rating                                           Director  \\\n",
        "0             84                      [{u'name': u'Ron Underwood'}]   \n",
        "1             -1  [{u'name': u'Richard Correll'}, {u'name': u'Ri...   \n",
        "2             -1                   [{u'name': u'Richard Benjamin'}]   \n",
        "3             -1                    [{u'name': u'Jorg Buttgereit'}]   \n",
        "4             -1                       [{u'name': u'David Wickes'}]   \n",
        "\n",
        "                                             Genre         ID  \\\n",
        "0                                 [Horror, Comedy]      10408   \n",
        "1                     [Action & Adventure, Comedy]  493165792   \n",
        "2              [Drama, Mystery & Suspense, Comedy]      15885   \n",
        "3       [Drama, Horror, Art House & International]  770671763   \n",
        "4  [Drama, Television, Horror, Mystery & Suspense]  770676816   \n",
        "\n",
        "                            Movie     Release  \\\n",
        "0                         Tremors  1990-01-19   \n",
        "1                      Ski Patrol  1990-01-12   \n",
        "2                        Downtown  1990-01-12   \n",
        "3  Der Todesking (The Death King)  1990-01-25   \n",
        "4                   Jekyll & Hyde  1990-01-21   \n",
        "\n",
        "                                              Review     imdb  \\\n",
        "0  http://api.rottentomatoes.com/api/public/v1.0/...  0100814   \n",
        "1  http://api.rottentomatoes.com/api/public/v1.0/...  0100631   \n",
        "2  http://api.rottentomatoes.com/api/public/v1.0/...  0099460   \n",
        "3  http://api.rottentomatoes.com/api/public/v1.0/...  0098486   \n",
        "4  http://api.rottentomatoes.com/api/public/v1.0/...  0099875   \n",
        "\n",
        "                                             weblink  \n",
        "0           http://www.rottentomatoes.com/m/tremors/  \n",
        "1        http://www.rottentomatoes.com/m/ski_patrol/  \n",
        "2          http://www.rottentomatoes.com/m/downtown/  \n",
        "3  http://www.rottentomatoes.com/m/der-todesking-...  \n",
        "4   http://www.rottentomatoes.com/m/jekyll-hyde1990/  "
       ]
      }
     ],
     "prompt_number": 324
    },
    {
     "cell_type": "code",
     "collapsed": false,
     "input": [
      "#delete movies without rating\n",
      "MovieTable = MovieTable[MovieTable.Critic_rating != -1]\n",
      "MovieTable.reset_index(inplace=True, drop=True)"
     ],
     "language": "python",
     "metadata": {},
     "outputs": [],
     "prompt_number": 325
    },
    {
     "cell_type": "code",
     "collapsed": false,
     "input": [
      "name = dict()\n",
      "movie = dict()\n",
      "critic_rating = dict()\n",
      "audience_rating = dict()\n",
      "genre = dict()\n",
      "boxoffice = dict()\n",
      "for i in range(len(MovieTable)):\n",
      "    for actor in MovieTable['Cast'][i]:\n",
      "        if actor['id'] in movie:\n",
      "            movie[actor['id']].append(MovieTable['ID'][i])\n",
      "            critic_rating[actor['id']].append(MovieTable.Critic_rating[i])\n",
      "            audience_rating[actor['id']].append(MovieTable.Audience_rating[i])\n",
      "            genre[actor['id']].append(MovieTable.Genre[i])\n",
      "            boxoffice[actor['id']].append(0)\n",
      "        else:\n",
      "            name[actor['id']] = actor['name']\n",
      "            movie[actor['id']] = [MovieTable['ID'][i]]\n",
      "            critic_rating[actor['id']] = [MovieTable.Critic_rating[i]]\n",
      "            audience_rating[actor['id']] = [MovieTable.Audience_rating[i]]\n",
      "            genre[actor['id']] = [MovieTable.Genre[i]]\n",
      "            boxoffice[actor['id']]= [0]\n",
      "            "
     ],
     "language": "python",
     "metadata": {},
     "outputs": [],
     "prompt_number": 326
    },
    {
     "cell_type": "code",
     "collapsed": false,
     "input": [
      "ActorTable = pd.DataFrame([name, movie, critic_rating, audience_rating, genre, boxoffice]).transpose()\n",
      "ActorTable.reset_index(inplace=True)\n",
      "ActorTable.columns = ['ID', 'Name', 'Movie', 'Critic_rating', 'Audience_rating', 'Genre', 'Boxoffice']"
     ],
     "language": "python",
     "metadata": {},
     "outputs": [],
     "prompt_number": 327
    },
    {
     "cell_type": "code",
     "collapsed": false,
     "input": [
      "ActorTable.head()"
     ],
     "language": "python",
     "metadata": {},
     "outputs": [
      {
       "html": [
        "<div style=\"max-height:1000px;max-width:1500px;overflow:auto;\">\n",
        "<table border=\"1\" class=\"dataframe\">\n",
        "  <thead>\n",
        "    <tr style=\"text-align: right;\">\n",
        "      <th></th>\n",
        "      <th>ID</th>\n",
        "      <th>Name</th>\n",
        "      <th>Movie</th>\n",
        "      <th>Critic_rating</th>\n",
        "      <th>Audience_rating</th>\n",
        "      <th>Genre</th>\n",
        "      <th>Boxoffice</th>\n",
        "    </tr>\n",
        "  </thead>\n",
        "  <tbody>\n",
        "    <tr>\n",
        "      <th>0</th>\n",
        "      <td> 162652152</td>\n",
        "      <td>      Ewan McGregor</td>\n",
        "      <td> [16743, 14467, 13066, 14160, 15049, 12917, 136...</td>\n",
        "      <td> [89, 23, 56, 79, 55, 76, 62, 77, 80, 40, 27, 1...</td>\n",
        "      <td> [94, 48, 81, 75, 38, 88, 50, 89, 65, 64, 71, 3...</td>\n",
        "      <td> [[Drama, Comedy], [Drama, Horror, Mystery &amp; Su...</td>\n",
        "      <td> [0, 0, 0, 0, 0, 0, 0, 0, 0, 0, 0, 0, 0, 0, 0, ...</td>\n",
        "    </tr>\n",
        "    <tr>\n",
        "      <th>1</th>\n",
        "      <td> 162652153</td>\n",
        "      <td> Hayden Christensen</td>\n",
        "      <td>       [10701, 9, 770671663, 671922339, 770803979]</td>\n",
        "      <td>                              [91, 80, 23, 16, 28]</td>\n",
        "      <td>                              [79, 65, 54, 44, 62]</td>\n",
        "      <td> [[Drama], [Action &amp; Adventure, Science Fiction...</td>\n",
        "      <td>                                   [0, 0, 0, 0, 0]</td>\n",
        "    </tr>\n",
        "    <tr>\n",
        "      <th>2</th>\n",
        "      <td> 162652154</td>\n",
        "      <td>    Natalie Portman</td>\n",
        "      <td> [17094, 13143, 10366, 12635, 12850, 12870, 9, ...</td>\n",
        "      <td> [72, 78, 79, 64, 86, 68, 80, 73, 47, 37, 35, 8...</td>\n",
        "      <td> [95, 81, 75, 56, 88, 81, 65, 90, 61, 55, 37, 8...</td>\n",
        "      <td> [[Drama, Action &amp; Adventure, Mystery &amp; Suspens...</td>\n",
        "      <td>  [0, 0, 0, 0, 0, 0, 0, 0, 0, 0, 0, 0, 0, 0, 0, 0]</td>\n",
        "    </tr>\n",
        "    <tr>\n",
        "      <th>3</th>\n",
        "      <td> 162652155</td>\n",
        "      <td>      Ian McDiarmid</td>\n",
        "      <td>                                               [9]</td>\n",
        "      <td>                                              [80]</td>\n",
        "      <td>                                              [65]</td>\n",
        "      <td> [[Action &amp; Adventure, Science Fiction &amp; Fantasy]]</td>\n",
        "      <td>                                               [0]</td>\n",
        "    </tr>\n",
        "    <tr>\n",
        "      <th>4</th>\n",
        "      <td> 162652156</td>\n",
        "      <td>  Samuel L. Jackson</td>\n",
        "      <td> [15054, 11458, 12692, 17045, 13863, 15057, 157...</td>\n",
        "      <td> [43, 13, 21, 85, 94, 68, 51, 83, 67, 67, 30, 8...</td>\n",
        "      <td> [43, 50, 32, 93, 96, 37, 83, 83, 86, 71, 68, 9...</td>\n",
        "      <td> [[Drama, Action &amp; Adventure, Mystery &amp; Suspens...</td>\n",
        "      <td> [0, 0, 0, 0, 0, 0, 0, 0, 0, 0, 0, 0, 0, 0, 0, ...</td>\n",
        "    </tr>\n",
        "  </tbody>\n",
        "</table>\n",
        "</div>"
       ],
       "metadata": {},
       "output_type": "pyout",
       "prompt_number": 328,
       "text": [
        "          ID                Name  \\\n",
        "0  162652152       Ewan McGregor   \n",
        "1  162652153  Hayden Christensen   \n",
        "2  162652154     Natalie Portman   \n",
        "3  162652155       Ian McDiarmid   \n",
        "4  162652156   Samuel L. Jackson   \n",
        "\n",
        "                                               Movie  \\\n",
        "0  [16743, 14467, 13066, 14160, 15049, 12917, 136...   \n",
        "1        [10701, 9, 770671663, 671922339, 770803979]   \n",
        "2  [17094, 13143, 10366, 12635, 12850, 12870, 9, ...   \n",
        "3                                                [9]   \n",
        "4  [15054, 11458, 12692, 17045, 13863, 15057, 157...   \n",
        "\n",
        "                                       Critic_rating  \\\n",
        "0  [89, 23, 56, 79, 55, 76, 62, 77, 80, 40, 27, 1...   \n",
        "1                               [91, 80, 23, 16, 28]   \n",
        "2  [72, 78, 79, 64, 86, 68, 80, 73, 47, 37, 35, 8...   \n",
        "3                                               [80]   \n",
        "4  [43, 13, 21, 85, 94, 68, 51, 83, 67, 67, 30, 8...   \n",
        "\n",
        "                                     Audience_rating  \\\n",
        "0  [94, 48, 81, 75, 38, 88, 50, 89, 65, 64, 71, 3...   \n",
        "1                               [79, 65, 54, 44, 62]   \n",
        "2  [95, 81, 75, 56, 88, 81, 65, 90, 61, 55, 37, 8...   \n",
        "3                                               [65]   \n",
        "4  [43, 50, 32, 93, 96, 37, 83, 83, 86, 71, 68, 9...   \n",
        "\n",
        "                                               Genre  \\\n",
        "0  [[Drama, Comedy], [Drama, Horror, Mystery & Su...   \n",
        "1  [[Drama], [Action & Adventure, Science Fiction...   \n",
        "2  [[Drama, Action & Adventure, Mystery & Suspens...   \n",
        "3  [[Action & Adventure, Science Fiction & Fantasy]]   \n",
        "4  [[Drama, Action & Adventure, Mystery & Suspens...   \n",
        "\n",
        "                                           Boxoffice  \n",
        "0  [0, 0, 0, 0, 0, 0, 0, 0, 0, 0, 0, 0, 0, 0, 0, ...  \n",
        "1                                    [0, 0, 0, 0, 0]  \n",
        "2   [0, 0, 0, 0, 0, 0, 0, 0, 0, 0, 0, 0, 0, 0, 0, 0]  \n",
        "3                                                [0]  \n",
        "4  [0, 0, 0, 0, 0, 0, 0, 0, 0, 0, 0, 0, 0, 0, 0, ...  "
       ]
      }
     ],
     "prompt_number": 328
    },
    {
     "cell_type": "code",
     "collapsed": false,
     "input": [
      "ActorTable.to_pickle('ActorTable.pkl')"
     ],
     "language": "python",
     "metadata": {},
     "outputs": [],
     "prompt_number": 329
    },
    {
     "cell_type": "markdown",
     "metadata": {},
     "source": [
      "#### delete actors that perform less than 6 times"
     ]
    },
    {
     "cell_type": "code",
     "collapsed": false,
     "input": [
      "todelete = []\n",
      "for i in xrange(len(ActorTable)):\n",
      "    if (len(ActorTable['Movie'][i]) < 6):\n",
      "        todelete.append((ActorTable['ID'][i], ActorTable['Movie'][i]))"
     ],
     "language": "python",
     "metadata": {},
     "outputs": [],
     "prompt_number": 330
    },
    {
     "cell_type": "code",
     "collapsed": false,
     "input": [
      "actorsdelete = []\n",
      "for i in todelete:\n",
      "    actorsdelete.append(i[0])"
     ],
     "language": "python",
     "metadata": {},
     "outputs": [],
     "prompt_number": 331
    },
    {
     "cell_type": "code",
     "collapsed": false,
     "input": [
      "NewMovieTable = MovieTable\n",
      "for pair in todelete:\n",
      "    for movie in pair[1]:\n",
      "        cast = NewMovieTable[NewMovieTable['ID']==movie]['Cast'].iloc[0]\n",
      "        mark = -1\n",
      "        for i in range(len(cast)):\n",
      "            if cast[i]['id'] == pair[0]:\n",
      "                mark = i\n",
      "        del cast[mark]\n"
     ],
     "language": "python",
     "metadata": {},
     "outputs": [],
     "prompt_number": 332
    },
    {
     "cell_type": "code",
     "collapsed": false,
     "input": [
      "NewActorTable = pd.DataFrame()\n",
      "for i in xrange(len(ActorTable)):\n",
      "    if not (ActorTable.iloc[i]['ID'] in actorsdelete):\n",
      "        NewActorTable = pd.concat([pd.DataFrame(ActorTable.iloc[i]).transpose(), NewActorTable])"
     ],
     "language": "python",
     "metadata": {},
     "outputs": [],
     "prompt_number": 333
    },
    {
     "cell_type": "code",
     "collapsed": false,
     "input": [
      "NewActorTable.reset_index(inplace=True, drop = True)"
     ],
     "language": "python",
     "metadata": {},
     "outputs": [],
     "prompt_number": 334
    },
    {
     "cell_type": "code",
     "collapsed": false,
     "input": [
      "NewMovieTable.to_pickle('NewMovieTable.pkl')\n",
      "NewActorTable.to_pickle('NewActorTable.pkl')"
     ],
     "language": "python",
     "metadata": {},
     "outputs": [],
     "prompt_number": 335
    },
    {
     "cell_type": "markdown",
     "metadata": {},
     "source": [
      "#### check the consistency of NewMovieTable and NewActorTable"
     ]
    },
    {
     "cell_type": "code",
     "collapsed": false,
     "input": [
      "NewMovieTable = pd.read_pickle('NewMovieTable.pkl')\n",
      "NewActorTable = pd.read_pickle('NewActorTable.pkl')\n",
      "test = 0\n",
      "for i in xrange(len(NewActorTable)):\n",
      "    test = len(NewActorTable['Movie'][i]) + test\n",
      "test1 = 0\n",
      "for i in xrange(len(NewMovieTable)):\n",
      "    test1 = test1 + len(NewMovieTable['Cast'][i])\n",
      "print test==test1"
     ],
     "language": "python",
     "metadata": {},
     "outputs": [
      {
       "output_type": "stream",
       "stream": "stdout",
       "text": [
        "True\n"
       ]
      }
     ],
     "prompt_number": 336
    },
    {
     "cell_type": "code",
     "collapsed": false,
     "input": [
      "actors = []\n",
      "for i in xrange(len(NewMovieTable)):\n",
      "    for j in NewMovieTable['Cast'][i]:\n",
      "        actors.append(j['id'])"
     ],
     "language": "python",
     "metadata": {},
     "outputs": [],
     "prompt_number": 337
    },
    {
     "cell_type": "code",
     "collapsed": false,
     "input": [
      "len(pd.Series(actors).unique()) - len(NewActorTable)"
     ],
     "language": "python",
     "metadata": {},
     "outputs": [
      {
       "metadata": {},
       "output_type": "pyout",
       "prompt_number": 338,
       "text": [
        "0"
       ]
      }
     ],
     "prompt_number": 338
    },
    {
     "cell_type": "code",
     "collapsed": false,
     "input": [
      "movies = []\n",
      "for i in xrange(len(NewActorTable)):\n",
      "    for j in NewActorTable['Movie'][i]:\n",
      "        movies.append(j)"
     ],
     "language": "python",
     "metadata": {},
     "outputs": [],
     "prompt_number": 339
    },
    {
     "cell_type": "code",
     "collapsed": false,
     "input": [
      "test = 0\n",
      "for i in xrange(len(NewMovieTable)):\n",
      "    if len(NewMovieTable['Cast'][i])>0:\n",
      "        test = test +1\n",
      "len(pd.Series(movies).unique()) - test"
     ],
     "language": "python",
     "metadata": {},
     "outputs": [
      {
       "metadata": {},
       "output_type": "pyout",
       "prompt_number": 340,
       "text": [
        "0"
       ]
      }
     ],
     "prompt_number": 340
    },
    {
     "cell_type": "markdown",
     "metadata": {},
     "source": [
      "##Get \\# of followers and \\# of tweets from Twitter"
     ]
    },
    {
     "cell_type": "code",
     "collapsed": false,
     "input": [
      "import oauth2 as oauth\n",
      "import time\n",
      "\n",
      "MovieTable = pd.read_pickle('NewMovieTable.pkl')\n",
      "ActorTable = pd.read_pickle('NewActorTable.pkl')\n",
      "def oauth_req(url, key, secret, http_method=\"GET\", post_body=None, http_headers=None):\n",
      "    consumer = oauth.Consumer(key=CONSUMER_KEY, secret=CONSUMER_SECRET)\n",
      "    token = oauth.Token(key=key, secret=secret)\n",
      "    client = oauth.Client(consumer, token)\n",
      "    resp, content = client.request(url, method=http_method, body=urllib.urlencode({'q': post_body}))\n",
      "    return content\n",
      "CONSUMER_KEY = 'L96guHuxCIRxz0quUVCNkHYL7'\n",
      "CONSUMER_SECRET = 'kSHrrjByp6OyjQM0pFcYTlGE3olASilkIhkBbAuGebZPXGnBVB'\n",
      "access_token = '806213791-laNuZaMYzd54k9teiqQ8uOgBlP3XO8qxUBF1ebST'\n",
      "access_secret = 'rU1dp7KTreCXl02mckYVceX8iJmywcG9F95TBYOCzioYW'"
     ],
     "language": "python",
     "metadata": {},
     "outputs": [],
     "prompt_number": 191
    },
    {
     "cell_type": "code",
     "collapsed": false,
     "input": [
      "def get_url(name):\n",
      "    return 'https://api.twitter.com/1.1/users/search.json?q='+name"
     ],
     "language": "python",
     "metadata": {},
     "outputs": [],
     "prompt_number": 192
    },
    {
     "cell_type": "code",
     "collapsed": false,
     "input": [
      "oauth_req('https://api.twitter.com/1.1/users/search.json',\n",
      "          access_token, access_secret, post_body='twitter')"
     ],
     "language": "python",
     "metadata": {},
     "outputs": [
      {
       "metadata": {},
       "output_type": "pyout",
       "prompt_number": 193,
       "text": [
        "''"
       ]
      }
     ],
     "prompt_number": 193
    },
    {
     "cell_type": "code",
     "collapsed": false,
     "input": [
      "urllib.urlencode({'status': 'twitter api'})"
     ],
     "language": "python",
     "metadata": {},
     "outputs": [
      {
       "metadata": {},
       "output_type": "pyout",
       "prompt_number": 185,
       "text": [
        "'status=twitter+api'"
       ]
      }
     ],
     "prompt_number": 185
    },
    {
     "cell_type": "code",
     "collapsed": false,
     "input": [
      "tweets = dict()\n",
      "follower = dict()\n",
      "for i in xrange(5):\n",
      "    time.sleep(6)\n",
      "    newurl = get_url(ActorTable['Name'][i].replace(\" \", \"\")).encode('ascii', 'ignore')\n",
      "    result = json.loads(oauth_req(newurl,access_token, access_secret))\n",
      "    follower[ActorTable['ID'][i]] = result[0]['followers_count']\n",
      "    tweets[ActorTable['ID'][i]] = result[0]['statuses_count']\n",
      "    "
     ],
     "language": "python",
     "metadata": {},
     "outputs": [
      {
       "ename": "IndexError",
       "evalue": "list index out of range",
       "output_type": "pyerr",
       "traceback": [
        "\u001b[0;31m---------------------------------------------------------------------------\u001b[0m\n\u001b[0;31mIndexError\u001b[0m                                Traceback (most recent call last)",
        "\u001b[0;32m<ipython-input-170-b66dd843704f>\u001b[0m in \u001b[0;36m<module>\u001b[0;34m()\u001b[0m\n\u001b[1;32m      5\u001b[0m     \u001b[0mnewurl\u001b[0m \u001b[0;34m=\u001b[0m \u001b[0mget_url\u001b[0m\u001b[0;34m(\u001b[0m\u001b[0mActorTable\u001b[0m\u001b[0;34m[\u001b[0m\u001b[0;34m'Name'\u001b[0m\u001b[0;34m]\u001b[0m\u001b[0;34m[\u001b[0m\u001b[0mi\u001b[0m\u001b[0;34m]\u001b[0m\u001b[0;34m.\u001b[0m\u001b[0mreplace\u001b[0m\u001b[0;34m(\u001b[0m\u001b[0;34m\" \"\u001b[0m\u001b[0;34m,\u001b[0m \u001b[0;34m\"\"\u001b[0m\u001b[0;34m)\u001b[0m\u001b[0;34m)\u001b[0m\u001b[0;34m.\u001b[0m\u001b[0mencode\u001b[0m\u001b[0;34m(\u001b[0m\u001b[0;34m'ascii'\u001b[0m\u001b[0;34m,\u001b[0m \u001b[0;34m'ignore'\u001b[0m\u001b[0;34m)\u001b[0m\u001b[0;34m\u001b[0m\u001b[0m\n\u001b[1;32m      6\u001b[0m     \u001b[0mresult\u001b[0m \u001b[0;34m=\u001b[0m \u001b[0mjson\u001b[0m\u001b[0;34m.\u001b[0m\u001b[0mloads\u001b[0m\u001b[0;34m(\u001b[0m\u001b[0moauth_req\u001b[0m\u001b[0;34m(\u001b[0m\u001b[0mnewurl\u001b[0m\u001b[0;34m,\u001b[0m\u001b[0maccess_token\u001b[0m\u001b[0;34m,\u001b[0m \u001b[0maccess_secret\u001b[0m\u001b[0;34m)\u001b[0m\u001b[0;34m)\u001b[0m\u001b[0;34m\u001b[0m\u001b[0m\n\u001b[0;32m----> 7\u001b[0;31m     \u001b[0mfollower\u001b[0m\u001b[0;34m[\u001b[0m\u001b[0mActorTable\u001b[0m\u001b[0;34m[\u001b[0m\u001b[0;34m'ID'\u001b[0m\u001b[0;34m]\u001b[0m\u001b[0;34m[\u001b[0m\u001b[0mi\u001b[0m\u001b[0;34m]\u001b[0m\u001b[0;34m]\u001b[0m \u001b[0;34m=\u001b[0m \u001b[0mresult\u001b[0m\u001b[0;34m[\u001b[0m\u001b[0;36m0\u001b[0m\u001b[0;34m]\u001b[0m\u001b[0;34m[\u001b[0m\u001b[0;34m'followers_count'\u001b[0m\u001b[0;34m]\u001b[0m\u001b[0;34m\u001b[0m\u001b[0m\n\u001b[0m\u001b[1;32m      8\u001b[0m     \u001b[0mtweets\u001b[0m\u001b[0;34m[\u001b[0m\u001b[0mActorTable\u001b[0m\u001b[0;34m[\u001b[0m\u001b[0;34m'ID'\u001b[0m\u001b[0;34m]\u001b[0m\u001b[0;34m[\u001b[0m\u001b[0mi\u001b[0m\u001b[0;34m]\u001b[0m\u001b[0;34m]\u001b[0m \u001b[0;34m=\u001b[0m \u001b[0mresult\u001b[0m\u001b[0;34m[\u001b[0m\u001b[0;36m0\u001b[0m\u001b[0;34m]\u001b[0m\u001b[0;34m[\u001b[0m\u001b[0;34m'statuses_count'\u001b[0m\u001b[0;34m]\u001b[0m\u001b[0;34m\u001b[0m\u001b[0m\n\u001b[1;32m      9\u001b[0m \u001b[0;34m\u001b[0m\u001b[0m\n",
        "\u001b[0;31mIndexError\u001b[0m: list index out of range"
       ]
      }
     ],
     "prompt_number": 170
    },
    {
     "cell_type": "markdown",
     "metadata": {},
     "source": [
      "####The first method we tried does not work. We bump into issues in authentication. We switched to another package."
     ]
    },
    {
     "cell_type": "code",
     "collapsed": false,
     "input": [
      "from TwitterAPI import TwitterAPI\n",
      "CONSUMER_KEY = 'L96guHuxCIRxz0quUVCNkHYL7'\n",
      "CONSUMER_SECRET = 'kSHrrjByp6OyjQM0pFcYTlGE3olASilkIhkBbAuGebZPXGnBVB'\n",
      "access_token = '806213791-laNuZaMYzd54k9teiqQ8uOgBlP3XO8qxUBF1ebST'\n",
      "access_secret = 'rU1dp7KTreCXl02mckYVceX8iJmywcG9F95TBYOCzioYW'\n",
      "api = TwitterAPI(CONSUMER_KEY, CONSUMER_SECRET, access_token, access_secret)"
     ],
     "language": "python",
     "metadata": {},
     "outputs": [],
     "prompt_number": 116
    },
    {
     "cell_type": "code",
     "collapsed": false,
     "input": [
      "ActorTable = pd.read_pickle('NewActorTable.pkl')\n",
      "MovieTable = pd.read_pickle('NewMovieTable.pkl')\n",
      "tweets = dict()\n",
      "follower = dict()\n",
      "for i in xrange(300):\n",
      "    time.sleep(5)\n",
      "    name = ActorTable['Name'][i].encode('ascii', 'ignore')\n",
      "    result = api.request('users/search', {'q':name, 'page':'1', 'count':'1'}).json()\n",
      "    try:\n",
      "        follower[ActorTable['ID'][i]] = result[0]['followers_count']\n",
      "        tweets[ActorTable['ID'][i]] = result[0]['statuses_count']\n",
      "    except:\n",
      "        print name"
     ],
     "language": "python",
     "metadata": {},
     "outputs": [],
     "prompt_number": 117
    },
    {
     "cell_type": "code",
     "collapsed": false,
     "input": [
      "Tweets = pd.DataFrame(tweets.items())\n",
      "Tweets.columns = ['ID', 'Tweet']\n",
      "Follower = pd.DataFrame(follower.items())\n",
      "Follower.columns = ['ID', 'Follower']"
     ],
     "language": "python",
     "metadata": {},
     "outputs": [],
     "prompt_number": 118
    },
    {
     "cell_type": "code",
     "collapsed": false,
     "input": [
      "ActorTable = pd.read_pickle('NewActorTable.pkl')\n",
      "MovieTable = pd.read_pickle('NewMovieTable.pkl')\n",
      "TwitterData = pd.merge(Tweets, Follower, on='ID')\n",
      "NewActorTable = pd.merge(ActorTable, TwitterData, on='ID')"
     ],
     "language": "python",
     "metadata": {},
     "outputs": [],
     "prompt_number": 119
    },
    {
     "cell_type": "markdown",
     "metadata": {},
     "source": [
      "###Create DirectorTable from MovieTable"
     ]
    },
    {
     "cell_type": "code",
     "collapsed": false,
     "input": [
      "MovieTable = pd.read_pickle('NewMovieTable.pkl')\n",
      "movie = dict()\n",
      "critic_rating = dict()\n",
      "audience_rating = dict()\n",
      "genre = dict()\n",
      "boxoffice = dict()\n",
      "for i in xrange(len(MovieTable)):\n",
      "    for director in MovieTable.Director[i]:\n",
      "        name = director['name']\n",
      "        if name in movie:\n",
      "            movie[name].append(MovieTable.ID[i])\n",
      "            critic_rating[name].append(MovieTable.Critic_rating[i])\n",
      "            audience_rating[name].append(MovieTable.Audience_rating[i])\n",
      "            genre[name].append(MovieTable.Genre[i])\n",
      "            boxoffice[name].append(0)\n",
      "        else:\n",
      "            movie[name] = [MovieTable.ID[i]]\n",
      "            critic_rating[name] = [MovieTable.Critic_rating[i]]\n",
      "            audience_rating[name] = [MovieTable.Audience_rating[i]]\n",
      "            genre[name] = [MovieTable.Genre[i]]\n",
      "            boxoffice[name]= [0]"
     ],
     "language": "python",
     "metadata": {},
     "outputs": [],
     "prompt_number": 341
    },
    {
     "cell_type": "code",
     "collapsed": false,
     "input": [
      "DirectorTable = pd.DataFrame([movie, critic_rating, audience_rating, genre, boxoffice]).transpose()\n",
      "DirectorTable.reset_index(inplace=True)\n",
      "DirectorTable.columns = ['Name', 'Movie', 'Critic_rating', 'Audience_rating', 'Genre', 'Boxoffice']"
     ],
     "language": "python",
     "metadata": {},
     "outputs": [],
     "prompt_number": 342
    },
    {
     "cell_type": "code",
     "collapsed": false,
     "input": [
      "DirectorTable.head()"
     ],
     "language": "python",
     "metadata": {},
     "outputs": [
      {
       "html": [
        "<div style=\"max-height:1000px;max-width:1500px;overflow:auto;\">\n",
        "<table border=\"1\" class=\"dataframe\">\n",
        "  <thead>\n",
        "    <tr style=\"text-align: right;\">\n",
        "      <th></th>\n",
        "      <th>Name</th>\n",
        "      <th>Movie</th>\n",
        "      <th>Critic_rating</th>\n",
        "      <th>Audience_rating</th>\n",
        "      <th>Genre</th>\n",
        "      <th>Boxoffice</th>\n",
        "    </tr>\n",
        "  </thead>\n",
        "  <tbody>\n",
        "    <tr>\n",
        "      <th>0</th>\n",
        "      <td> ?mile Gaudreault</td>\n",
        "      <td>               [14090]</td>\n",
        "      <td>       [33]</td>\n",
        "      <td>         [66]</td>\n",
        "      <td>      [[Drama, Art House &amp; International, Comedy]]</td>\n",
        "      <td>       [0]</td>\n",
        "    </tr>\n",
        "    <tr>\n",
        "      <th>1</th>\n",
        "      <td>       Aaron Katz</td>\n",
        "      <td>           [770674188]</td>\n",
        "      <td>       [88]</td>\n",
        "      <td>         [63]</td>\n",
        "      <td>              [[Art House &amp; International, Drama]]</td>\n",
        "      <td>       [0]</td>\n",
        "    </tr>\n",
        "    <tr>\n",
        "      <th>2</th>\n",
        "      <td>   Aaron Lubarsky</td>\n",
        "      <td>               [19033]</td>\n",
        "      <td>       [80]</td>\n",
        "      <td>         [86]</td>\n",
        "      <td>     [[Documentary, Television, Special Interest]]</td>\n",
        "      <td>       [0]</td>\n",
        "    </tr>\n",
        "    <tr>\n",
        "      <th>3</th>\n",
        "      <td>     Aaron Norris</td>\n",
        "      <td> [14138, 24492, 12828]</td>\n",
        "      <td> [0, 13, 0]</td>\n",
        "      <td> [40, 45, 36]</td>\n",
        "      <td> [[Action &amp; Adventure], [Action &amp; Adventure], [...</td>\n",
        "      <td> [0, 0, 0]</td>\n",
        "    </tr>\n",
        "    <tr>\n",
        "      <th>4</th>\n",
        "      <td>       Aaron Rose</td>\n",
        "      <td>           [770781990]</td>\n",
        "      <td>       [64]</td>\n",
        "      <td>         [69]</td>\n",
        "      <td> [[Documentary, Musical &amp; Performing Arts, Spec...</td>\n",
        "      <td>       [0]</td>\n",
        "    </tr>\n",
        "  </tbody>\n",
        "</table>\n",
        "</div>"
       ],
       "metadata": {},
       "output_type": "pyout",
       "prompt_number": 343,
       "text": [
        "               Name                  Movie Critic_rating Audience_rating  \\\n",
        "0  ?mile Gaudreault                [14090]          [33]            [66]   \n",
        "1        Aaron Katz            [770674188]          [88]            [63]   \n",
        "2    Aaron Lubarsky                [19033]          [80]            [86]   \n",
        "3      Aaron Norris  [14138, 24492, 12828]    [0, 13, 0]    [40, 45, 36]   \n",
        "4        Aaron Rose            [770781990]          [64]            [69]   \n",
        "\n",
        "                                               Genre  Boxoffice  \n",
        "0       [[Drama, Art House & International, Comedy]]        [0]  \n",
        "1               [[Art House & International, Drama]]        [0]  \n",
        "2      [[Documentary, Television, Special Interest]]        [0]  \n",
        "3  [[Action & Adventure], [Action & Adventure], [...  [0, 0, 0]  \n",
        "4  [[Documentary, Musical & Performing Arts, Spec...        [0]  "
       ]
      }
     ],
     "prompt_number": 343
    },
    {
     "cell_type": "code",
     "collapsed": false,
     "input": [
      "len(DirectorTable)"
     ],
     "language": "python",
     "metadata": {},
     "outputs": [
      {
       "metadata": {},
       "output_type": "pyout",
       "prompt_number": 344,
       "text": [
        "3039"
       ]
      }
     ],
     "prompt_number": 344
    },
    {
     "cell_type": "markdown",
     "metadata": {},
     "source": [
      "####remove directors with one movie. delete movies with no directors or no cast"
     ]
    },
    {
     "cell_type": "code",
     "collapsed": false,
     "input": [
      "todelete = []\n",
      "for i in xrange(len(DirectorTable)):\n",
      "    if (len(DirectorTable['Movie'][i]) < 2):\n",
      "        todelete.append((DirectorTable['Name'][i], DirectorTable['Movie'][i]))"
     ],
     "language": "python",
     "metadata": {},
     "outputs": [],
     "prompt_number": 345
    },
    {
     "cell_type": "code",
     "collapsed": false,
     "input": [
      "directorsdelete = []\n",
      "for i in todelete:\n",
      "    directorsdelete.append(i[0])"
     ],
     "language": "python",
     "metadata": {},
     "outputs": [],
     "prompt_number": 346
    },
    {
     "cell_type": "code",
     "collapsed": false,
     "input": [
      "NewMovieTable = MovieTable\n",
      "for pair in todelete:\n",
      "    for movie in pair[1]:\n",
      "        directors = NewMovieTable[NewMovieTable['ID']==movie]['Director'].iloc[0]\n",
      "        mark = -1\n",
      "        for i in range(len(directors)):\n",
      "            if directors[i]['name'] == pair[0]:\n",
      "                mark = i\n",
      "        del directors[mark]"
     ],
     "language": "python",
     "metadata": {},
     "outputs": [],
     "prompt_number": 347
    },
    {
     "cell_type": "code",
     "collapsed": false,
     "input": [
      "NewDirectorTable = pd.DataFrame()\n",
      "for i in xrange(len(DirectorTable)):\n",
      "    if not (DirectorTable.iloc[i]['Name'] in directorsdelete):\n",
      "        NewDirectorTable = pd.concat([pd.DataFrame(DirectorTable.iloc[i]).transpose(), NewDirectorTable])"
     ],
     "language": "python",
     "metadata": {},
     "outputs": [],
     "prompt_number": 348
    },
    {
     "cell_type": "code",
     "collapsed": false,
     "input": [
      "NewDirectorTable.reset_index(inplace=True, drop=True)"
     ],
     "language": "python",
     "metadata": {},
     "outputs": [],
     "prompt_number": 349
    },
    {
     "cell_type": "code",
     "collapsed": false,
     "input": [
      "#delete movies with no directors\n",
      "deleterow = []\n",
      "\n",
      "for i in xrange(len(NewMovieTable)):\n",
      "    if len(NewMovieTable.Director[i])==0 or len(NewMovieTable.Cast[i])==0:\n",
      "        deleterow.append(False)\n",
      "    else:\n",
      "        deleterow.append(True)\n",
      "NewMovieTable = NewMovieTable[pd.Series(deleterow)]\n",
      "NewMovieTable.reset_index(inplace=True, drop=True)"
     ],
     "language": "python",
     "metadata": {},
     "outputs": [],
     "prompt_number": 350
    },
    {
     "cell_type": "markdown",
     "metadata": {},
     "source": [
      "#### Delete movies without directors in ActorTable"
     ]
    },
    {
     "cell_type": "code",
     "collapsed": false,
     "input": [
      "NewActorTable = pd.read_pickle('NewActorTable.pkl')"
     ],
     "language": "python",
     "metadata": {},
     "outputs": [],
     "prompt_number": 351
    },
    {
     "cell_type": "code",
     "collapsed": false,
     "input": [
      "for movies in NewActorTable.Movie:\n",
      "    todelete = []\n",
      "    for i in range(len(movies)):\n",
      "        if movies[i] not in NewMovieTable.ID.values:\n",
      "            todelete.append(movies[i])\n",
      "    for i in todelete:\n",
      "        movies.remove(i)"
     ],
     "language": "python",
     "metadata": {},
     "outputs": [],
     "prompt_number": 352
    },
    {
     "cell_type": "code",
     "collapsed": false,
     "input": [
      "#No actors have 0 valid movies\n",
      "count = 0\n",
      "for i in range(len(NewActorTable)):\n",
      "    if len(NewActorTable.Movie[i])==0:\n",
      "        count = count + 1\n",
      "count"
     ],
     "language": "python",
     "metadata": {},
     "outputs": [
      {
       "metadata": {},
       "output_type": "pyout",
       "prompt_number": 353,
       "text": [
        "0"
       ]
      }
     ],
     "prompt_number": 353
    },
    {
     "cell_type": "code",
     "collapsed": false,
     "input": [
      "NewActorTable.head()"
     ],
     "language": "python",
     "metadata": {},
     "outputs": [
      {
       "html": [
        "<div style=\"max-height:1000px;max-width:1500px;overflow:auto;\">\n",
        "<table border=\"1\" class=\"dataframe\">\n",
        "  <thead>\n",
        "    <tr style=\"text-align: right;\">\n",
        "      <th></th>\n",
        "      <th>ID</th>\n",
        "      <th>Name</th>\n",
        "      <th>Movie</th>\n",
        "      <th>Critic_rating</th>\n",
        "      <th>Audience_rating</th>\n",
        "      <th>Genre</th>\n",
        "      <th>Boxoffice</th>\n",
        "    </tr>\n",
        "  </thead>\n",
        "  <tbody>\n",
        "    <tr>\n",
        "      <th>0</th>\n",
        "      <td> 771513497</td>\n",
        "      <td>      Madeline Stowe</td>\n",
        "      <td> [14256, 14752, 98828080, 15050, 13792, 15508, ...</td>\n",
        "      <td>  [65, 75, 94, 94, 62, 40, 9, 88, 60, 22, 63]</td>\n",
        "      <td> [38, 48, 88, 89, 44, 37, 41, 88, 80, 46, 84]</td>\n",
        "      <td> [[Drama, Mystery &amp; Suspense, Comedy], [Drama, ...</td>\n",
        "      <td> [0, 0, 0, 0, 0, 0, 0, 0, 0, 0, 0]</td>\n",
        "    </tr>\n",
        "    <tr>\n",
        "      <th>1</th>\n",
        "      <td> 771503825</td>\n",
        "      <td> Marie-Louise Parker</td>\n",
        "      <td> [10104, 11883, 11315, 13381, 13744, 12501, 13084]</td>\n",
        "      <td>                 [73, 53, 80, 96, 73, 43, 69]</td>\n",
        "      <td>                 [91, 43, 69, 83, 69, 53, 74]</td>\n",
        "      <td> [[Drama, Comedy], [Drama, Romance, Comedy], [D...</td>\n",
        "      <td>             [0, 0, 0, 0, 0, 0, 0]</td>\n",
        "    </tr>\n",
        "    <tr>\n",
        "      <th>2</th>\n",
        "      <td> 771495090</td>\n",
        "      <td>       Alison Janney</td>\n",
        "      <td> [13634, 10726, 12878, 11671, 9377, 460339382, ...</td>\n",
        "      <td> [84, 36, 88, 81, 99, 91, 94, 76, 34, 36, 85]</td>\n",
        "      <td> [83, 36, 93, 85, 86, 85, 88, 89, 32, 21, 84]</td>\n",
        "      <td> [[Drama], [Drama, Action &amp; Adventure, Romance,...</td>\n",
        "      <td> [0, 0, 0, 0, 0, 0, 0, 0, 0, 0, 0]</td>\n",
        "    </tr>\n",
        "    <tr>\n",
        "      <th>3</th>\n",
        "      <td> 771410621</td>\n",
        "      <td>  Chloe Grace Moretz</td>\n",
        "      <td> [770801801, 770786150, 770805260, 771041418, 7...</td>\n",
        "      <td>        [86, 76, 88, 33, 94, 37, 29, 49, 100]</td>\n",
        "      <td>         [84, 81, 76, 27, 78, 46, 59, 45, 89]</td>\n",
        "      <td> [[Drama, Romance, Comedy], [Drama, Action &amp; Ad...</td>\n",
        "      <td>       [0, 0, 0, 0, 0, 0, 0, 0, 0]</td>\n",
        "    </tr>\n",
        "    <tr>\n",
        "      <th>4</th>\n",
        "      <td> 771395445</td>\n",
        "      <td>        Jim Caviezel</td>\n",
        "      <td> [15744, 10754, 10119, 10118, 15192, 11426, 771...</td>\n",
        "      <td> [79, 70, 40, 73, 49, 13, 37, 29, 37, 43, 48]</td>\n",
        "      <td> [80, 81, 78, 88, 80, 37, 45, 49, 44, 30, 56]</td>\n",
        "      <td> [[Drama, Action &amp; Adventure], [Drama, Action &amp;...</td>\n",
        "      <td> [0, 0, 0, 0, 0, 0, 0, 0, 0, 0, 0]</td>\n",
        "    </tr>\n",
        "  </tbody>\n",
        "</table>\n",
        "</div>"
       ],
       "metadata": {},
       "output_type": "pyout",
       "prompt_number": 354,
       "text": [
        "          ID                 Name  \\\n",
        "0  771513497       Madeline Stowe   \n",
        "1  771503825  Marie-Louise Parker   \n",
        "2  771495090        Alison Janney   \n",
        "3  771410621   Chloe Grace Moretz   \n",
        "4  771395445         Jim Caviezel   \n",
        "\n",
        "                                               Movie  \\\n",
        "0  [14256, 14752, 98828080, 15050, 13792, 15508, ...   \n",
        "1  [10104, 11883, 11315, 13381, 13744, 12501, 13084]   \n",
        "2  [13634, 10726, 12878, 11671, 9377, 460339382, ...   \n",
        "3  [770801801, 770786150, 770805260, 771041418, 7...   \n",
        "4  [15744, 10754, 10119, 10118, 15192, 11426, 771...   \n",
        "\n",
        "                                  Critic_rating  \\\n",
        "0   [65, 75, 94, 94, 62, 40, 9, 88, 60, 22, 63]   \n",
        "1                  [73, 53, 80, 96, 73, 43, 69]   \n",
        "2  [84, 36, 88, 81, 99, 91, 94, 76, 34, 36, 85]   \n",
        "3         [86, 76, 88, 33, 94, 37, 29, 49, 100]   \n",
        "4  [79, 70, 40, 73, 49, 13, 37, 29, 37, 43, 48]   \n",
        "\n",
        "                                Audience_rating  \\\n",
        "0  [38, 48, 88, 89, 44, 37, 41, 88, 80, 46, 84]   \n",
        "1                  [91, 43, 69, 83, 69, 53, 74]   \n",
        "2  [83, 36, 93, 85, 86, 85, 88, 89, 32, 21, 84]   \n",
        "3          [84, 81, 76, 27, 78, 46, 59, 45, 89]   \n",
        "4  [80, 81, 78, 88, 80, 37, 45, 49, 44, 30, 56]   \n",
        "\n",
        "                                               Genre  \\\n",
        "0  [[Drama, Mystery & Suspense, Comedy], [Drama, ...   \n",
        "1  [[Drama, Comedy], [Drama, Romance, Comedy], [D...   \n",
        "2  [[Drama], [Drama, Action & Adventure, Romance,...   \n",
        "3  [[Drama, Romance, Comedy], [Drama, Action & Ad...   \n",
        "4  [[Drama, Action & Adventure], [Drama, Action &...   \n",
        "\n",
        "                           Boxoffice  \n",
        "0  [0, 0, 0, 0, 0, 0, 0, 0, 0, 0, 0]  \n",
        "1              [0, 0, 0, 0, 0, 0, 0]  \n",
        "2  [0, 0, 0, 0, 0, 0, 0, 0, 0, 0, 0]  \n",
        "3        [0, 0, 0, 0, 0, 0, 0, 0, 0]  \n",
        "4  [0, 0, 0, 0, 0, 0, 0, 0, 0, 0, 0]  "
       ]
      }
     ],
     "prompt_number": 354
    },
    {
     "cell_type": "code",
     "collapsed": false,
     "input": [
      "for movies in NewDirectorTable.Movie:\n",
      "    todelete = []\n",
      "    for i in range(len(movies)):\n",
      "        if movies[i] not in NewMovieTable.ID.values:\n",
      "            todelete.append(movies[i])\n",
      "    for i in todelete:\n",
      "        movies.remove(i)"
     ],
     "language": "python",
     "metadata": {},
     "outputs": [],
     "prompt_number": 355
    },
    {
     "cell_type": "code",
     "collapsed": false,
     "input": [
      "todelete = []\n",
      "for i in range(len(NewDirectorTable)):\n",
      "    if len(NewDirectorTable.Movie[i])==0:\n",
      "        todelete.append(False)\n",
      "    else:\n",
      "        todelete.append(True)\n",
      "NewDirectorTable = NewDirectorTable[pd.Series(todelete)]"
     ],
     "language": "python",
     "metadata": {},
     "outputs": [],
     "prompt_number": 356
    },
    {
     "cell_type": "code",
     "collapsed": false,
     "input": [
      "NewMovieTable.to_pickle('MovieTable_clean.pkl')\n",
      "NewDirectorTable.to_pickle('DirectorTable_clean.pkl')\n",
      "NewActorTable.to_pickle('ActorTable_clean.pkl')"
     ],
     "language": "python",
     "metadata": {},
     "outputs": [],
     "prompt_number": 357
    },
    {
     "cell_type": "markdown",
     "metadata": {},
     "source": [
      "#### Test the consistency of three tables"
     ]
    },
    {
     "cell_type": "code",
     "collapsed": false,
     "input": [
      "MovieTable = pd.read_pickle('MovieTable_clean.pkl')\n",
      "DirectorTable = pd.read_pickle('DirectorTable_clean.pkl')\n",
      "ActorTable = pd.read_pickle('ActorTable_clean.pkl')"
     ],
     "language": "python",
     "metadata": {},
     "outputs": [],
     "prompt_number": 358
    },
    {
     "cell_type": "code",
     "collapsed": false,
     "input": [
      "#check if the movie IDs are consistent\n",
      "movies1 = MovieTable.ID[:]\n",
      "movies1 = movies1.unique()\n",
      "movies2 = []\n",
      "for movies in DirectorTable.Movie:\n",
      "    for movie in movies:\n",
      "        movies2.append(movie)\n",
      "movies2 = pd.Series(movies2).unique()\n",
      "movies3 = []\n",
      "for movies in ActorTable.Movie:\n",
      "    for movie in movies:\n",
      "        movies3.append(movie)\n",
      "movies3 = pd.Series(movies3).unique()\n",
      "movies1.sort()\n",
      "movies2.sort()\n",
      "movies3.sort()\n",
      "print (movies1 == movies2).all()\n",
      "print (movies1 == movies3).all()"
     ],
     "language": "python",
     "metadata": {},
     "outputs": [
      {
       "output_type": "stream",
       "stream": "stdout",
       "text": [
        "True\n",
        "True\n"
       ]
      }
     ],
     "prompt_number": 359
    },
    {
     "cell_type": "code",
     "collapsed": false,
     "input": [
      "#check if Director names are consistent\n",
      "directors1 = DirectorTable.Name[:]\n",
      "directors1 = directors1.unique()\n",
      "directors2 = []\n",
      "for directors in MovieTable.Director:\n",
      "    for director in directors:\n",
      "        directors2.append(director['name'])\n",
      "directors2 = pd.Series(directors2).unique()\n",
      "directors1.sort()\n",
      "directors2.sort()\n",
      "print (directors1 == directors2).all()"
     ],
     "language": "python",
     "metadata": {},
     "outputs": [
      {
       "output_type": "stream",
       "stream": "stdout",
       "text": [
        "True\n"
       ]
      }
     ],
     "prompt_number": 360
    },
    {
     "cell_type": "code",
     "collapsed": false,
     "input": [
      "#check if Director names are consistent\n",
      "actors1 = ActorTable.ID[:]\n",
      "actors1 = actors1.unique()\n",
      "actors2 = []\n",
      "for actors in MovieTable.Cast:\n",
      "    for actor in actors:\n",
      "        actors2.append(actor['id'])\n",
      "actors2 = pd.Series(actors2).unique()\n",
      "actors1.sort()\n",
      "actors2.sort()\n",
      "print (actors1 == actors2).all()"
     ],
     "language": "python",
     "metadata": {},
     "outputs": [
      {
       "output_type": "stream",
       "stream": "stdout",
       "text": [
        "True\n"
       ]
      }
     ],
     "prompt_number": 361
    },
    {
     "cell_type": "code",
     "collapsed": false,
     "input": [
      "#check if movie-actor pair number is consistent\n",
      "count1 = 0\n",
      "count2 = 0\n",
      "for i in MovieTable.Cast:\n",
      "    count1 = count1 + len(i)\n",
      "for i in ActorTable.Movie:\n",
      "    count2 = count2 + len(i)\n",
      "print count1 == count2"
     ],
     "language": "python",
     "metadata": {},
     "outputs": [
      {
       "output_type": "stream",
       "stream": "stdout",
       "text": [
        "True\n"
       ]
      }
     ],
     "prompt_number": 362
    },
    {
     "cell_type": "code",
     "collapsed": false,
     "input": [
      "#all genres in the database\n",
      "genre = []\n",
      "for i in MovieTable['Genre']:\n",
      "    for j in i:\n",
      "        genre.append(j)\n",
      "genre = pd.Series(genre).unique()\n",
      "genre"
     ],
     "language": "python",
     "metadata": {},
     "outputs": [
      {
       "metadata": {},
       "output_type": "pyout",
       "prompt_number": 137,
       "text": [
        "array([u'Horror', u'Comedy', u'Mystery & Suspense', u'Drama',\n",
        "       u'Art House & International', u'Action & Adventure',\n",
        "       u'Science Fiction & Fantasy', u'Romance', u'Documentary',\n",
        "       u'Gay & Lesbian', u'Special Interest', u'Musical & Performing Arts',\n",
        "       u'Cult Movies', u'Kids & Family', u'Western', u'Animation',\n",
        "       u'Television', u'Faith & Spirituality', u'Classics',\n",
        "       u'Sports & Fitness', u'Anime & Manga'], dtype=object)"
       ]
      }
     ],
     "prompt_number": 137
    },
    {
     "cell_type": "code",
     "collapsed": false,
     "input": [],
     "language": "python",
     "metadata": {},
     "outputs": []
    }
   ],
   "metadata": {}
  }
 ]
}