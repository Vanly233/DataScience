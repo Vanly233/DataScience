{
 "metadata": {
  "name": "",
  "signature": "sha256:a1bb318897708ac2e15a56ace6a96c73fc9a2da187522d2e686c3da6c3d3c314"
 },
 "nbformat": 3,
 "nbformat_minor": 0,
 "worksheets": [
  {
   "cells": [
    {
     "cell_type": "markdown",
     "metadata": {},
     "source": [
      "##At first, we tried to use reviews from yelp to provide customized search result for yelp"
     ]
    },
    {
     "cell_type": "code",
     "collapsed": false,
     "input": [
      "# -*- coding: utf-8 -*-\n",
      "\"\"\"\n",
      "Yelp API v2.0 code sample.\n",
      "\n",
      "This program demonstrates the capability of the Yelp API version 2.0\n",
      "by using the Search API to query for businesses by a search term and location,\n",
      "and the Business API to query additional information about the top result\n",
      "from the search query.\n",
      "\n",
      "Please refer to http://www.yelp.com/developers/documentation for the API documentation.\n",
      "\n",
      "This program requires the Python oauth2 library, which you can install via:\n",
      "`pip install -r requirements.txt`.\n",
      "\n",
      "Sample usage of the program:\n",
      "`python sample.py --term=\"bars\" --location=\"San Francisco, CA\"`\n",
      "\"\"\"\n",
      "import argparse\n",
      "import json\n",
      "import pprint\n",
      "import sys\n",
      "import urllib\n",
      "import urllib2\n",
      "\n",
      "import oauth2\n",
      "\n",
      "\n",
      "API_HOST = 'api.yelp.com'\n",
      "DEFAULT_TERM = 'dinner'\n",
      "DEFAULT_LOCATION = 'San Francisco, CA'\n",
      "SEARCH_LIMIT = 20\n",
      "SEARCH_PATH = '/v2/search/'\n",
      "BUSINESS_PATH = '/v2/business/'\n",
      "\n",
      "# OAuth credential placeholders that must be filled in by users.\n",
      "CONSUMER_KEY = 'K625KwhY6nRcnjhWC0pt9w'\n",
      "CONSUMER_SECRET = 'Cw3nMWhos4Kb9Vt7FvD3Ltv_SHY'\n",
      "TOKEN = 'YrjZ0Foyzup9jE5w7ZI1JIi6J8oKTSxK'\n",
      "TOKEN_SECRET = 'QNF5ac6HNiYVFmHWuxwC1QdoTtw'\n",
      "\n",
      "\n",
      "def request(host, path, url_params=None):\n",
      "    \"\"\"Prepares OAuth authentication and sends the request to the API.\n",
      "\n",
      "    Args:\n",
      "        host (str): The domain host of the API.\n",
      "        path (str): The path of the API after the domain.\n",
      "        url_params (dict): An optional set of query parameters in the request.\n",
      "\n",
      "    Returns:\n",
      "        dict: The JSON response from the request.\n",
      "\n",
      "    Raises:\n",
      "        urllib2.HTTPError: An error occurs from the HTTP request.\n",
      "    \"\"\"\n",
      "    url_params = url_params or {}\n",
      "    url = 'http://{0}{1}?'.format(host, path)\n",
      "\n",
      "    consumer = oauth2.Consumer(CONSUMER_KEY, CONSUMER_SECRET)\n",
      "    oauth_request = oauth2.Request(method=\"GET\", url=url, parameters=url_params)\n",
      "\n",
      "    oauth_request.update(\n",
      "        {\n",
      "            'oauth_nonce': oauth2.generate_nonce(),\n",
      "            'oauth_timestamp': oauth2.generate_timestamp(),\n",
      "            'oauth_token': TOKEN,\n",
      "            'oauth_consumer_key': CONSUMER_KEY\n",
      "        }\n",
      "    )\n",
      "    token = oauth2.Token(TOKEN, TOKEN_SECRET)\n",
      "    oauth_request.sign_request(oauth2.SignatureMethod_HMAC_SHA1(), consumer, token)\n",
      "    signed_url = oauth_request.to_url()\n",
      "    \n",
      "    print 'Querying {0} ...'.format(url)\n",
      "\n",
      "    conn = urllib2.urlopen(signed_url, None)\n",
      "    try:\n",
      "        response = json.loads(conn.read())\n",
      "    finally:\n",
      "        conn.close()\n",
      "\n",
      "    return response\n",
      "\n",
      "def search(term, location):\n",
      "    \"\"\"Query the Search API by a search term and location.\n",
      "\n",
      "    Args:\n",
      "        term (str): The search term passed to the API.\n",
      "        location (str): The search location passed to the API.\n",
      "\n",
      "    Returns:\n",
      "        dict: The JSON response from the request.\n",
      "    \"\"\"\n",
      "    \n",
      "    url_params = {\n",
      "        'term': term.replace(' ', '+'),\n",
      "        'location': location.replace(' ', '+'),\n",
      "        'limit': SEARCH_LIMIT,\n",
      "        'sort':1,\n",
      "        'category_filter':'dimsum'\n",
      "    }\n",
      "    return request(API_HOST, SEARCH_PATH, url_params=url_params)\n",
      "\n",
      "def get_business(business_id):\n",
      "    \"\"\"Query the Business API by a business ID.\n",
      "\n",
      "    Args:\n",
      "        business_id (str): The ID of the business to query.\n",
      "\n",
      "    Returns:\n",
      "        dict: The JSON response from the request.\n",
      "    \"\"\"\n",
      "    business_path = BUSINESS_PATH + business_id\n",
      "\n",
      "    return request(API_HOST, business_path)"
     ],
     "language": "python",
     "metadata": {},
     "outputs": [],
     "prompt_number": 2
    },
    {
     "cell_type": "code",
     "collapsed": false,
     "input": [
      "\n",
      "test = search('chinese food', '02138')"
     ],
     "language": "python",
     "metadata": {},
     "outputs": [
      {
       "output_type": "stream",
       "stream": "stdout",
       "text": [
        "Querying http://api.yelp.com/v2/search/? ...\n"
       ]
      }
     ],
     "prompt_number": 36
    },
    {
     "cell_type": "code",
     "collapsed": false,
     "input": [
      "for i in test['businesses']:\n",
      "    print i['id']"
     ],
     "language": "python",
     "metadata": {},
     "outputs": [
      {
       "output_type": "stream",
       "stream": "stdout",
       "text": [
        "shangri-la-belmont\n",
        "dim-sum-chef-boston\n",
        "lucky-dragon-arlington-2\n"
       ]
      }
     ],
     "prompt_number": 38
    },
    {
     "cell_type": "code",
     "collapsed": false,
     "input": [
      "get_business('shangri-la-belmont')['reviews']"
     ],
     "language": "python",
     "metadata": {},
     "outputs": [
      {
       "output_type": "stream",
       "stream": "stdout",
       "text": [
        "Querying http://api.yelp.com/v2/business/shangri-la-belmont? ...\n"
       ]
      },
      {
       "metadata": {},
       "output_type": "pyout",
       "prompt_number": 40,
       "text": [
        "[{u'excerpt': u'You were our once-a-week and every Christmas Day tradition.\\n\\nWhen we go back to Boston for two nights, we visit you each night.\\n\\nWe miss you. We miss you so...',\n",
        "  u'id': u'G9xrVxMVmurU_fTHhwewfw',\n",
        "  u'rating': 5,\n",
        "  u'rating_image_large_url': u'http://s3-media3.fl.yelpcdn.com/assets/2/www/img/22affc4e6c38/ico/stars/v1/stars_large_5.png',\n",
        "  u'rating_image_small_url': u'http://s3-media1.fl.yelpcdn.com/assets/2/www/img/c7623205d5cd/ico/stars/v1/stars_small_5.png',\n",
        "  u'rating_image_url': u'http://s3-media1.fl.yelpcdn.com/assets/2/www/img/f1def11e4e79/ico/stars/v1/stars_5.png',\n",
        "  u'time_created': 1409769524,\n",
        "  u'user': {u'id': u'O5ocU1PTV3vInyKbdbIyWg',\n",
        "   u'image_url': u'http://s3-media2.fl.yelpcdn.com/photo/WHqu4cT8ap-J8nM7sZ9GiQ/ms.jpg',\n",
        "   u'name': u'GJ N.'}}]"
       ]
      }
     ],
     "prompt_number": 40
    },
    {
     "cell_type": "markdown",
     "metadata": {},
     "source": [
      "##We switched to predict the box office of movies\n",
      "We can only get the first customer review from yelp API. It would be very hard to make predictions with such little information. So, we switched to predict the box office of movies"
     ]
    },
    {
     "cell_type": "markdown",
     "metadata": {},
     "source": [
      "###Test Rotten Tomatoes API\n",
      "In this part, we tried to load data from the Rotten Tomatoes API."
     ]
    },
    {
     "cell_type": "code",
     "collapsed": false,
     "input": [
      "import argparse\n",
      "import json\n",
      "import pprint\n",
      "import sys\n",
      "import urllib\n",
      "import urllib2\n",
      "import time\n",
      "import datetime\n",
      "import pandas as pd"
     ],
     "language": "python",
     "metadata": {},
     "outputs": [],
     "prompt_number": 1
    },
    {
     "cell_type": "code",
     "collapsed": false,
     "input": [
      "api_key = 'm7jmrcna938zje4rqefde4n7'\n",
      "\n",
      "url = 'http://api.rottentomatoes.com/api/public/v1.0/lists/movies.json?apikey=m7jmrcna938zje4rqefde4n7'\n",
      "data = urllib2.urlopen(url).read()"
     ],
     "language": "python",
     "metadata": {},
     "outputs": [],
     "prompt_number": 4
    },
    {
     "cell_type": "code",
     "collapsed": false,
     "input": [
      "dataDict = json.loads(data)"
     ],
     "language": "python",
     "metadata": {},
     "outputs": [],
     "prompt_number": 5
    },
    {
     "cell_type": "code",
     "collapsed": false,
     "input": [
      "dataDict"
     ],
     "language": "python",
     "metadata": {},
     "outputs": [
      {
       "metadata": {},
       "output_type": "pyout",
       "prompt_number": 6,
       "text": [
        "{u'links': {u'box_office': u'http://api.rottentomatoes.com/api/public/v1.0/lists/movies/box_office.json',\n",
        "  u'in_theaters': u'http://api.rottentomatoes.com/api/public/v1.0/lists/movies/in_theaters.json',\n",
        "  u'opening': u'http://api.rottentomatoes.com/api/public/v1.0/lists/movies/opening.json',\n",
        "  u'upcoming': u'http://api.rottentomatoes.com/api/public/v1.0/lists/movies/upcoming.json'}}"
       ]
      }
     ],
     "prompt_number": 6
    },
    {
     "cell_type": "code",
     "collapsed": false,
     "input": [
      "url = 'http://api.rottentomatoes.com/api/public/v1.0/movies/771108600.json?apikey=m7jmrcna938zje4rqefde4n7'\n",
      "data1 = json.loads(urllib2.urlopen(url).read())"
     ],
     "language": "python",
     "metadata": {},
     "outputs": [],
     "prompt_number": 7
    },
    {
     "cell_type": "code",
     "collapsed": false,
     "input": [
      "data1"
     ],
     "language": "python",
     "metadata": {},
     "outputs": [
      {
       "metadata": {},
       "output_type": "pyout",
       "prompt_number": 8,
       "text": [
        "{u'abridged_cast': [{u'characters': [u'Anka'],\n",
        "   u'id': u'770694608',\n",
        "   u'name': u'Dagmar Veskrnova'},\n",
        "  {u'characters': [u'Slama'], u'id': u'770778108', u'name': u'Ilja Prachar'},\n",
        "  {u'characters': [u'Manager'], u'id': u'770804971', u'name': u'Vit Olmer'},\n",
        "  {u'characters': [u'Rendl'], u'id': u'770695196', u'name': u'Josef Abrham'},\n",
        "  {u'characters': [u'Murasko'],\n",
        "   u'id': u'770778110',\n",
        "   u'name': u'Karel Augusta'}],\n",
        " u'genres': [u'Drama'],\n",
        " u'id': 771108600,\n",
        " u'links': {u'alternate': u'http://www.rottentomatoes.com/m/holka_na_zabiti/',\n",
        "  u'cast': u'http://api.rottentomatoes.com/api/public/v1.0/movies/771108600/cast.json',\n",
        "  u'reviews': u'http://api.rottentomatoes.com/api/public/v1.0/movies/771108600/reviews.json',\n",
        "  u'self': u'http://api.rottentomatoes.com/api/public/v1.0/movies/771108600.json',\n",
        "  u'similar': u'http://api.rottentomatoes.com/api/public/v1.0/movies/771108600/similar.json'},\n",
        " u'mpaa_rating': u'Unrated',\n",
        " u'posters': {u'detailed': u'http://d3biamo577v4eu.cloudfront.net/static/images/redesign/poster_default_thumb.gif',\n",
        "  u'original': u'http://d3biamo577v4eu.cloudfront.net/static/images/redesign/poster_default_thumb.gif',\n",
        "  u'profile': u'http://d3biamo577v4eu.cloudfront.net/static/images/redesign/poster_default_thumb.gif',\n",
        "  u'thumbnail': u'http://d3biamo577v4eu.cloudfront.net/static/images/redesign/poster_default_thumb.gif'},\n",
        " u'ratings': {u'audience_score': 0, u'critics_score': -1},\n",
        " u'release_dates': {},\n",
        " u'runtime': 97,\n",
        " u'synopsis': u'',\n",
        " u'title': u'Holka Na Zabiti',\n",
        " u'year': 1976}"
       ]
      }
     ],
     "prompt_number": 8
    },
    {
     "cell_type": "markdown",
     "metadata": {},
     "source": [
      "###Rotten Tomatoes API does not support search movies by year.\n",
      "We tried to query all possible movie IDs. However, it is not practical as most possible Hash codes of the movies are not valid movie IDs. The number of API calls needed to try all possible movie IDs exceeds far the API call limits."
     ]
    },
    {
     "cell_type": "code",
     "collapsed": false,
     "input": [
      "#Create the Movie table with rotten tomato data\n",
      "api_key = '.json?apikey=m7jmrcna938zje4rqefde4n7'\n",
      "moviesearch = 'http://api.rottentomatoes.com/api/public/v1.0/movies/'\n",
      "\n",
      "MovieList = list()\n",
      "\n",
      "for i in xrange(770600000, 771400000):\n",
      "    try:\n",
      "        url = api_key +str(i)+ moviesearch\n",
      "        data = urllib2.urlopen(url).read()\n",
      "        MovieList.append(json.loads(data))\n",
      "    except:\n",
      "        #print i"
     ],
     "language": "python",
     "metadata": {},
     "outputs": [
      {
       "ename": "IndentationError",
       "evalue": "expected an indented block (<ipython-input-10-c03940c84f75>, line 13)",
       "output_type": "pyerr",
       "traceback": [
        "\u001b[0;36m  File \u001b[0;32m\"<ipython-input-10-c03940c84f75>\"\u001b[0;36m, line \u001b[0;32m13\u001b[0m\n\u001b[0;31m    #print i\u001b[0m\n\u001b[0m            ^\u001b[0m\n\u001b[0;31mIndentationError\u001b[0m\u001b[0;31m:\u001b[0m expected an indented block\n"
       ]
      }
     ],
     "prompt_number": 10
    },
    {
     "cell_type": "code",
     "collapsed": false,
     "input": [
      "api_key = '.json?apikey=m7jmrcna938zje4rqefde4n7'\n",
      "moviesearch = 'http://api.rottentomatoes.com/api/public/v1.0/movies/'\n",
      "\n",
      "MovieList = list()\n",
      "i = 770700052\n",
      "url = moviesearch + str(i)+ api_key\n",
      "data = urllib2.urlopen(url).read()\n",
      "MovieList.append(json.loads(data))"
     ],
     "language": "python",
     "metadata": {},
     "outputs": []
    },
    {
     "cell_type": "code",
     "collapsed": false,
     "input": [
      "import time"
     ],
     "language": "python",
     "metadata": {},
     "outputs": []
    },
    {
     "cell_type": "code",
     "collapsed": false,
     "input": [
      "#Create the Movie table with rotten tomato data\n",
      "#Test all possible movie ID in a range\n",
      "api_key = '.json?apikey=m7jmrcna938zje4rqefde4n7'\n",
      "moviesearch = 'http://api.rottentomatoes.com/api/public/v1.0/movies/'\n",
      "\n",
      "MovieList = list()\n",
      "for i in xrange(770700000, 770700100):\n",
      "    time.sleep(0.5)\n",
      "    try:\n",
      "        url = moviesearch + str(i)+ api_key\n",
      "        data = urllib2.urlopen(url).read()\n",
      "        MovieList.append(json.loads(data))\n",
      "    except:\n",
      "        print i"
     ],
     "language": "python",
     "metadata": {},
     "outputs": [
      {
       "output_type": "stream",
       "stream": "stdout",
       "text": [
        "770700002\n",
        "770700006"
       ]
      },
      {
       "output_type": "stream",
       "stream": "stdout",
       "text": [
        "\n",
        "770700007"
       ]
      },
      {
       "output_type": "stream",
       "stream": "stdout",
       "text": [
        "\n",
        "770700008"
       ]
      },
      {
       "output_type": "stream",
       "stream": "stdout",
       "text": [
        "\n",
        "770700011"
       ]
      },
      {
       "output_type": "stream",
       "stream": "stdout",
       "text": [
        "\n",
        "770700012"
       ]
      },
      {
       "output_type": "stream",
       "stream": "stdout",
       "text": [
        "\n",
        "770700013"
       ]
      },
      {
       "output_type": "stream",
       "stream": "stdout",
       "text": [
        "\n",
        "770700014"
       ]
      },
      {
       "output_type": "stream",
       "stream": "stdout",
       "text": [
        "\n",
        "770700015"
       ]
      },
      {
       "output_type": "stream",
       "stream": "stdout",
       "text": [
        "\n",
        "770700016"
       ]
      },
      {
       "output_type": "stream",
       "stream": "stdout",
       "text": [
        "\n",
        "770700017"
       ]
      },
      {
       "output_type": "stream",
       "stream": "stdout",
       "text": [
        "\n",
        "770700018"
       ]
      },
      {
       "output_type": "stream",
       "stream": "stdout",
       "text": [
        "\n",
        "770700023"
       ]
      },
      {
       "output_type": "stream",
       "stream": "stdout",
       "text": [
        "\n",
        "770700025"
       ]
      },
      {
       "output_type": "stream",
       "stream": "stdout",
       "text": [
        "\n",
        "770700026"
       ]
      },
      {
       "output_type": "stream",
       "stream": "stdout",
       "text": [
        "\n",
        "770700029"
       ]
      },
      {
       "output_type": "stream",
       "stream": "stdout",
       "text": [
        "\n",
        "770700030"
       ]
      },
      {
       "output_type": "stream",
       "stream": "stdout",
       "text": [
        "\n",
        "770700032"
       ]
      },
      {
       "output_type": "stream",
       "stream": "stdout",
       "text": [
        "\n",
        "770700033"
       ]
      },
      {
       "output_type": "stream",
       "stream": "stdout",
       "text": [
        "\n",
        "770700035"
       ]
      },
      {
       "output_type": "stream",
       "stream": "stdout",
       "text": [
        "\n",
        "770700037"
       ]
      },
      {
       "output_type": "stream",
       "stream": "stdout",
       "text": [
        "\n",
        "770700038"
       ]
      },
      {
       "output_type": "stream",
       "stream": "stdout",
       "text": [
        "\n",
        "770700039"
       ]
      },
      {
       "output_type": "stream",
       "stream": "stdout",
       "text": [
        "\n",
        "770700040"
       ]
      },
      {
       "output_type": "stream",
       "stream": "stdout",
       "text": [
        "\n",
        "770700045"
       ]
      },
      {
       "output_type": "stream",
       "stream": "stdout",
       "text": [
        "\n",
        "770700046"
       ]
      },
      {
       "output_type": "stream",
       "stream": "stdout",
       "text": [
        "\n",
        "770700047"
       ]
      },
      {
       "output_type": "stream",
       "stream": "stdout",
       "text": [
        "\n",
        "770700049"
       ]
      },
      {
       "output_type": "stream",
       "stream": "stdout",
       "text": [
        "\n",
        "770700052"
       ]
      },
      {
       "output_type": "stream",
       "stream": "stdout",
       "text": [
        "\n",
        "770700054"
       ]
      },
      {
       "output_type": "stream",
       "stream": "stdout",
       "text": [
        "\n",
        "770700057"
       ]
      },
      {
       "output_type": "stream",
       "stream": "stdout",
       "text": [
        "\n",
        "770700058"
       ]
      },
      {
       "output_type": "stream",
       "stream": "stdout",
       "text": [
        "\n",
        "770700059"
       ]
      },
      {
       "output_type": "stream",
       "stream": "stdout",
       "text": [
        "\n",
        "770700064"
       ]
      },
      {
       "output_type": "stream",
       "stream": "stdout",
       "text": [
        "\n",
        "770700065"
       ]
      },
      {
       "output_type": "stream",
       "stream": "stdout",
       "text": [
        "\n",
        "770700068"
       ]
      },
      {
       "output_type": "stream",
       "stream": "stdout",
       "text": [
        "\n",
        "770700069"
       ]
      },
      {
       "output_type": "stream",
       "stream": "stdout",
       "text": [
        "\n",
        "770700071"
       ]
      },
      {
       "output_type": "stream",
       "stream": "stdout",
       "text": [
        "\n",
        "770700072"
       ]
      },
      {
       "output_type": "stream",
       "stream": "stdout",
       "text": [
        "\n",
        "770700073"
       ]
      },
      {
       "output_type": "stream",
       "stream": "stdout",
       "text": [
        "\n",
        "770700075"
       ]
      },
      {
       "output_type": "stream",
       "stream": "stdout",
       "text": [
        "\n",
        "770700076"
       ]
      },
      {
       "output_type": "stream",
       "stream": "stdout",
       "text": [
        "\n",
        "770700078"
       ]
      },
      {
       "output_type": "stream",
       "stream": "stdout",
       "text": [
        "\n",
        "770700081"
       ]
      },
      {
       "output_type": "stream",
       "stream": "stdout",
       "text": [
        "\n",
        "770700084"
       ]
      },
      {
       "output_type": "stream",
       "stream": "stdout",
       "text": [
        "\n",
        "770700085"
       ]
      },
      {
       "output_type": "stream",
       "stream": "stdout",
       "text": [
        "\n",
        "770700086"
       ]
      },
      {
       "output_type": "stream",
       "stream": "stdout",
       "text": [
        "\n",
        "770700088"
       ]
      },
      {
       "output_type": "stream",
       "stream": "stdout",
       "text": [
        "\n",
        "770700089"
       ]
      },
      {
       "output_type": "stream",
       "stream": "stdout",
       "text": [
        "\n",
        "770700092"
       ]
      },
      {
       "output_type": "stream",
       "stream": "stdout",
       "text": [
        "\n",
        "770700093"
       ]
      },
      {
       "output_type": "stream",
       "stream": "stdout",
       "text": [
        "\n",
        "770700094"
       ]
      },
      {
       "output_type": "stream",
       "stream": "stdout",
       "text": [
        "\n",
        "770700095"
       ]
      },
      {
       "output_type": "stream",
       "stream": "stdout",
       "text": [
        "\n"
       ]
      }
     ],
     "prompt_number": 68
    },
    {
     "cell_type": "markdown",
     "metadata": {},
     "source": [
      "###We decided to get movie names from TMDb.\n",
      "To get movies IDs of Rotten Tomatoes, we first queried movies by year in TMDb API. Then, we searched the movie names in Rotten Tomatoes to get movie IDs and the information related to each movie."
     ]
    },
    {
     "cell_type": "markdown",
     "metadata": {},
     "source": [
      "###Test TMDb API"
     ]
    },
    {
     "cell_type": "code",
     "collapsed": false,
     "input": [
      "#Test of getting movie names from TMDb\n",
      "API_key = 'd2189e753db5381d70ac0d51e45b19cc'\n",
      "url='http://api.themoviedb.org/3/discover/movie?language=en&page=1&sort_by=revenue.desc&primary_release_date.gte=1990-1-2&primary_release_date.lte=1990-2-1&api_key=d2189e753db5381d70ac0d51e45b19cc'\n",
      "data = urllib2.urlopen(url).read()"
     ],
     "language": "python",
     "metadata": {},
     "outputs": [],
     "prompt_number": 16
    },
    {
     "cell_type": "code",
     "collapsed": false,
     "input": [
      "data = json.loads(data)"
     ],
     "language": "python",
     "metadata": {},
     "outputs": [],
     "prompt_number": 17
    },
    {
     "cell_type": "code",
     "collapsed": false,
     "input": [
      "results = data['results']"
     ],
     "language": "python",
     "metadata": {},
     "outputs": [],
     "prompt_number": 18
    },
    {
     "cell_type": "code",
     "collapsed": false,
     "input": [
      "results"
     ],
     "language": "python",
     "metadata": {},
     "outputs": [
      {
       "metadata": {},
       "output_type": "pyout",
       "prompt_number": 19,
       "text": [
        "[{u'adult': False,\n",
        "  u'backdrop_path': u'/yUgmWnxcPYoonOQfrax5CfIYvDU.jpg',\n",
        "  u'id': 9362,\n",
        "  u'original_title': u'Tremors',\n",
        "  u'popularity': 0.442482617515942,\n",
        "  u'poster_path': u'/uaTHEpgS3tMPK5XY3f17RIrM07v.jpg',\n",
        "  u'release_date': u'1990-01-19',\n",
        "  u'title': u'Tremors',\n",
        "  u'vote_average': 6.4,\n",
        "  u'vote_count': 161},\n",
        " {u'adult': False,\n",
        "  u'backdrop_path': u'/dYmixsaPYrhM6Qxj9eQh87TFJdQ.jpg',\n",
        "  u'id': 22585,\n",
        "  u'original_title': u'Ski Patrol',\n",
        "  u'popularity': 1.09260673955982e-05,\n",
        "  u'poster_path': u'/xKrAqPLhhwCGG7ocjWuG2rpkBQa.jpg',\n",
        "  u'release_date': u'1990-01-12',\n",
        "  u'title': u'Ski Patrol',\n",
        "  u'vote_average': 7.8,\n",
        "  u'vote_count': 2},\n",
        " {u'adult': False,\n",
        "  u'backdrop_path': None,\n",
        "  u'id': 60778,\n",
        "  u'original_title': u'Downtown',\n",
        "  u'popularity': 0.0101879281281952,\n",
        "  u'poster_path': u'/68UiblfLyzb53eNQG03EYzJ9OCB.jpg',\n",
        "  u'release_date': u'1990-01-12',\n",
        "  u'title': u'Downtown',\n",
        "  u'vote_average': 0.0,\n",
        "  u'vote_count': 0},\n",
        " {u'adult': False,\n",
        "  u'backdrop_path': u'/2wPqy1Ay4WhKyPFNy9xQ1cetvgM.jpg',\n",
        "  u'id': 15736,\n",
        "  u'original_title': u'Der Todesking',\n",
        "  u'popularity': 0.000417493631814745,\n",
        "  u'poster_path': u'/bWdaljFL6xbpwj2YWtIRAhyAOy6.jpg',\n",
        "  u'release_date': u'1990-01-25',\n",
        "  u'title': u'Der Todesking',\n",
        "  u'vote_average': 0.0,\n",
        "  u'vote_count': 0},\n",
        " {u'adult': False,\n",
        "  u'backdrop_path': u'/2TD25Yv0lxpmi86IrHwBLfB20HS.jpg',\n",
        "  u'id': 30582,\n",
        "  u'original_title': u'GWAR: Live from Antarctica',\n",
        "  u'popularity': 7.60756220352085e-21,\n",
        "  u'poster_path': u'/a9PewZFw6zP9tiHfmvVvwsLE5YM.jpg',\n",
        "  u'release_date': u'1990-01-20',\n",
        "  u'title': u'GWAR: Live from Antarctica',\n",
        "  u'vote_average': 0.0,\n",
        "  u'vote_count': 0},\n",
        " {u'adult': False,\n",
        "  u'backdrop_path': u'/b4lMjWWhX5cbHDPpuNCvMPCvmBb.jpg',\n",
        "  u'id': 48747,\n",
        "  u'original_title': u'Jekyll & Hyde',\n",
        "  u'popularity': 0.000136071120357046,\n",
        "  u'poster_path': u'/jt6UM3tTKwFjcLKxXtkJtcsAwCP.jpg',\n",
        "  u'release_date': u'1990-01-06',\n",
        "  u'title': u'Jekyll & Hyde',\n",
        "  u'vote_average': 6.0,\n",
        "  u'vote_count': 1},\n",
        " {u'adult': False,\n",
        "  u'backdrop_path': None,\n",
        "  u'id': 51127,\n",
        "  u'original_title': u'Drug Wars: The Camarena Story',\n",
        "  u'popularity': 0.0615594096591446,\n",
        "  u'poster_path': u'/k9BnI6YvCHSyVg4SlD7qF3fO8mN.jpg',\n",
        "  u'release_date': u'1990-01-07',\n",
        "  u'title': u'Drug Wars: The Camarena Story',\n",
        "  u'vote_average': 6.5,\n",
        "  u'vote_count': 1},\n",
        " {u'adult': False,\n",
        "  u'backdrop_path': None,\n",
        "  u'id': 41816,\n",
        "  u'original_title': u'Everybody Wins',\n",
        "  u'popularity': 0.000257372001243071,\n",
        "  u'poster_path': u'/uBeOeJYjIGNVOxqjnT9TE4EdrdS.jpg',\n",
        "  u'release_date': u'1990-01-19',\n",
        "  u'title': u'Everybody Wins',\n",
        "  u'vote_average': 0.0,\n",
        "  u'vote_count': 0},\n",
        " {u'adult': False,\n",
        "  u'backdrop_path': None,\n",
        "  u'id': 41943,\n",
        "  u'original_title': u'The Plot Against Harry',\n",
        "  u'popularity': 1.11890941839411e-17,\n",
        "  u'poster_path': u'/zmFeDXfkNU3Ly1nqiXFJwwmbDsX.jpg',\n",
        "  u'release_date': u'1990-01-12',\n",
        "  u'title': u'The Plot Against Harry',\n",
        "  u'vote_average': 0.0,\n",
        "  u'vote_count': 0},\n",
        " {u'adult': False,\n",
        "  u'backdrop_path': None,\n",
        "  u'id': 67730,\n",
        "  u'original_title': u'Living Doll',\n",
        "  u'popularity': 1.04616923503903e-06,\n",
        "  u'poster_path': u'/95Sf0olQNQdQRmOi7tdcnmr5qPL.jpg',\n",
        "  u'release_date': u'1990-02-01',\n",
        "  u'title': u'Living Doll',\n",
        "  u'vote_average': 0.0,\n",
        "  u'vote_count': 0},\n",
        " {u'adult': False,\n",
        "  u'backdrop_path': u'/fJ0kQacETZEZ4dCIjmUFuOkuqGL.jpg',\n",
        "  u'id': 94470,\n",
        "  u'original_title': u'Tom et Lola',\n",
        "  u'popularity': 0.0239886600667415,\n",
        "  u'poster_path': u'/yn93KRwhQHJjwnTI84gIMEzj1cv.jpg',\n",
        "  u'release_date': u'1990-01-17',\n",
        "  u'title': u'Tom and Lola',\n",
        "  u'vote_average': 0.0,\n",
        "  u'vote_count': 0},\n",
        " {u'adult': False,\n",
        "  u'backdrop_path': None,\n",
        "  u'id': 108877,\n",
        "  u'original_title': u'Darkroom',\n",
        "  u'popularity': 7.87563111921776e-22,\n",
        "  u'poster_path': u'/sQ875B8ykRx0PingNtlFx5RbmFU.jpg',\n",
        "  u'release_date': u'1990-02-01',\n",
        "  u'title': u'Darkroom',\n",
        "  u'vote_average': 0.0,\n",
        "  u'vote_count': 0},\n",
        " {u'adult': False,\n",
        "  u'backdrop_path': None,\n",
        "  u'id': 160819,\n",
        "  u'original_title': u'El \\xfaltimo tranv\\xeda',\n",
        "  u'popularity': 5.35933877410259e-17,\n",
        "  u'poster_path': u'/kfdYHXpvFOQA7R2RALGgLKUZOyf.jpg',\n",
        "  u'release_date': u'1990-01-20',\n",
        "  u'title': u'El \\xfaltimo tranv\\xeda',\n",
        "  u'vote_average': 8.0,\n",
        "  u'vote_count': 1},\n",
        " {u'adult': False,\n",
        "  u'backdrop_path': None,\n",
        "  u'id': 158557,\n",
        "  u'original_title': u'Das Rattennest',\n",
        "  u'popularity': 1.6103407355225e-05,\n",
        "  u'poster_path': u'/alXlcktkU5r6Ql30qJxxcjoLoWz.jpg',\n",
        "  u'release_date': u'1990-01-23',\n",
        "  u'title': u\"A Father's Revenge\",\n",
        "  u'vote_average': 0.0,\n",
        "  u'vote_count': 0},\n",
        " {u'adult': False,\n",
        "  u'backdrop_path': u'/hSj3WlITP0vGm8DgPX4OAfgNjGC.jpg',\n",
        "  u'id': 239067,\n",
        "  u'original_title': u'Vita coi figli',\n",
        "  u'popularity': 0.158016178825722,\n",
        "  u'poster_path': u'/z9hpl478IWMdf35ZnayCqkDX69L.jpg',\n",
        "  u'release_date': u'1990-02-01',\n",
        "  u'title': u'Vita coi figli',\n",
        "  u'vote_average': 0.0,\n",
        "  u'vote_count': 0},\n",
        " {u'adult': False,\n",
        "  u'backdrop_path': None,\n",
        "  u'id': 119849,\n",
        "  u'original_title': u'Ninja Empire',\n",
        "  u'popularity': 4.8489583354886e-15,\n",
        "  u'poster_path': u'/mQwy72xJN3Ug41T7IEKBphIEltx.jpg',\n",
        "  u'release_date': u'1990-01-02',\n",
        "  u'title': u'Ninja Empire',\n",
        "  u'vote_average': 0.0,\n",
        "  u'vote_count': 0},\n",
        " {u'adult': False,\n",
        "  u'backdrop_path': u'/hOUVThyVe4BWvejAQj5YS6Xk708.jpg',\n",
        "  u'id': 166908,\n",
        "  u'original_title': u'Die Piefke-Saga - Teil 1: Der Skandal',\n",
        "  u'popularity': 2.77510197515742e-28,\n",
        "  u'poster_path': u'/uvv7iW4kNGHvtz6Pt1Q4M4Bygf6.jpg',\n",
        "  u'release_date': u'1990-01-31',\n",
        "  u'title': u'Die Piefke-Saga - Teil 1: Der Skandal',\n",
        "  u'vote_average': 9.0,\n",
        "  u'vote_count': 1},\n",
        " {u'adult': False,\n",
        "  u'backdrop_path': None,\n",
        "  u'id': 248133,\n",
        "  u'original_title': u'Ievas parad\\u012bzes d\\u0101rzs',\n",
        "  u'popularity': 5.01942714836541e-31,\n",
        "  u'poster_path': u'/xlYZIte9UGgrP5loG1ToAtFyx4w.jpg',\n",
        "  u'release_date': u'1990-01-04',\n",
        "  u'title': u'Ievas parad\\u012bzes d\\u0101rzs',\n",
        "  u'vote_average': 0.0,\n",
        "  u'vote_count': 0},\n",
        " {u'adult': False,\n",
        "  u'backdrop_path': None,\n",
        "  u'id': 278943,\n",
        "  u'original_title': u'The Great American Sex Scandal',\n",
        "  u'popularity': 1.29824413758604e-29,\n",
        "  u'poster_path': None,\n",
        "  u'release_date': u'1990-01-14',\n",
        "  u'title': u'The Great American Sex Scandal',\n",
        "  u'vote_average': 0.0,\n",
        "  u'vote_count': 0},\n",
        " {u'adult': False,\n",
        "  u'backdrop_path': None,\n",
        "  u'id': 284090,\n",
        "  u'original_title': u'Huang jin yu',\n",
        "  u'popularity': 3.0624500774588e-30,\n",
        "  u'poster_path': None,\n",
        "  u'release_date': u'1990-01-02',\n",
        "  u'title': u'Golden Shower',\n",
        "  u'vote_average': 0.0,\n",
        "  u'vote_count': 0}]"
       ]
      }
     ],
     "prompt_number": 19
    },
    {
     "cell_type": "code",
     "collapsed": false,
     "input": [
      "names = [i['title'] for i in results]"
     ],
     "language": "python",
     "metadata": {},
     "outputs": [],
     "prompt_number": 19
    },
    {
     "cell_type": "code",
     "collapsed": false,
     "input": [
      "url = \"http://api.rottentomatoes.com/api/public/v1.0/movies.json?apikey=m7jmrcna938zje4rqefde4n7&page_limit=2&q=Gravity\"\n",
      "data = urllib2.urlopen(url).read()\n",
      "json.loads(data)['movies'][1]['id']"
     ],
     "language": "python",
     "metadata": {},
     "outputs": [
      {
       "metadata": {},
       "output_type": "pyout",
       "prompt_number": 20,
       "text": [
        "u'770721075'"
       ]
      }
     ],
     "prompt_number": 20
    },
    {
     "cell_type": "code",
     "collapsed": false,
     "input": [
      "api_key = 'apikey=m7jmrcna938zje4rqefde4n7&page_limit=2&q='\n",
      "moviesearch = 'http://api.rottentomatoes.com/api/public/v1.0/movies.json?'\n",
      "MovieList = list()\n",
      "for i in names:\n",
      "    time.sleep(0.5)\n",
      "    name = i.replace(' ', '+')\n",
      "    name = name.replace('&', 'and')\n",
      "    url = moviesearch + api_key + name\n",
      "    data = urllib2.urlopen(url).read()\n",
      "    MovieList.append(json.loads(data)['movies'][0]['id'])"
     ],
     "language": "python",
     "metadata": {},
     "outputs": [],
     "prompt_number": 196
    },
    {
     "cell_type": "code",
     "collapsed": false,
     "input": [
      "url = \"http://api.rottentomatoes.com/api/public/v1.0/movies/770804147.json?apikey=m7jmrcna938zje4rqefde4n7\"\n",
      "data = urllib2.urlopen(url).read()\n",
      "json.loads(data)\n",
      "\n"
     ],
     "language": "python",
     "metadata": {},
     "outputs": [
      {
       "metadata": {},
       "output_type": "pyout",
       "prompt_number": 94,
       "text": [
        "{u'abridged_cast': [{u'characters': [u'Eli'],\n",
        "   u'id': u'162661439',\n",
        "   u'name': u'Denzel Washington'},\n",
        "  {u'characters': [u'Carnegie'], u'id': u'162652649', u'name': u'Gary Oldman'},\n",
        "  {u'characters': [u'Solara'], u'id': u'364629418', u'name': u'Mila Kunis'},\n",
        "  {u'characters': [u'Redridge'],\n",
        "   u'id': u'432539848',\n",
        "   u'name': u'Ray Stevenson'},\n",
        "  {u'characters': [u'Claudia'],\n",
        "   u'id': u'162657735',\n",
        "   u'name': u'Jennifer Beals'}],\n",
        " u'abridged_directors': [{u'name': u'Albert Hughes'},\n",
        "  {u'name': u'Allen Hughes'}],\n",
        " u'alternate_ids': {u'imdb': u'1037705'},\n",
        " u'critics_consensus': u'',\n",
        " u'genres': [u'Action & Adventure'],\n",
        " u'id': 770804147,\n",
        " u'links': {u'alternate': u'http://www.rottentomatoes.com/m/the_book_of_eli/',\n",
        "  u'cast': u'http://api.rottentomatoes.com/api/public/v1.0/movies/770804147/cast.json',\n",
        "  u'reviews': u'http://api.rottentomatoes.com/api/public/v1.0/movies/770804147/reviews.json',\n",
        "  u'self': u'http://api.rottentomatoes.com/api/public/v1.0/movies/770804147.json',\n",
        "  u'similar': u'http://api.rottentomatoes.com/api/public/v1.0/movies/770804147/similar.json'},\n",
        " u'mpaa_rating': u'R',\n",
        " u'posters': {u'detailed': u'http://content9.flixster.com/movie/11/16/67/11166719_tmb.jpg',\n",
        "  u'original': u'http://content9.flixster.com/movie/11/16/67/11166719_tmb.jpg',\n",
        "  u'profile': u'http://content9.flixster.com/movie/11/16/67/11166719_tmb.jpg',\n",
        "  u'thumbnail': u'http://content9.flixster.com/movie/11/16/67/11166719_tmb.jpg'},\n",
        " u'ratings': {u'audience_rating': u'Upright',\n",
        "  u'audience_score': 64,\n",
        "  u'critics_rating': u'Rotten',\n",
        "  u'critics_score': 48},\n",
        " u'release_dates': {u'dvd': u'2010-06-15', u'theater': u'2010-01-15'},\n",
        " u'runtime': 118,\n",
        " u'studio': u'Warner Bros. Pictures',\n",
        " u'synopsis': u'In a post-apocalyptic America where the once-picturesque countryside has become a desolate and violent wasteland, one man (Denzel Washington) fights to protect that sacred tome that could hold the key to the survival of the human race in this futuristic thriller from filmmaking duo Albert and Allen Hughes (From Hell and Dead Presidents). Gary Oldman, Mila Kunis, and Ray Stevenson co-star in the Warner Bros. production. ~ Jason Buchanan, Rovi',\n",
        " u'title': u'The Book of Eli',\n",
        " u'year': 2010}"
       ]
      }
     ],
     "prompt_number": 94
    },
    {
     "cell_type": "code",
     "collapsed": false,
     "input": [
      "api_key = 'm7jmrcna938zje4rqefde4n7'\n",
      "moviesearch = 'http://api.rottentomatoes.com/api/public/v1.0/movies.json&page_limit=1?apikey='\n",
      "query = '&page_limit=2&q='\n",
      "movieinfo = 'http://api.rottentomatoes.com/api/public/v1.0/movies/'\n",
      "movieinfo_key = '.json?apikey=' + api_key\n",
      "idx = 770816444\n",
      "url = movieinfo + str(idx) + movieinfo_key\n",
      "info = json.loads(urllib2.urlopen(url).read())\n",
      "info"
     ],
     "language": "python",
     "metadata": {},
     "outputs": []
    },
    {
     "cell_type": "markdown",
     "metadata": {},
     "source": [
      "#The following is the final version of data retrieval"
     ]
    },
    {
     "cell_type": "code",
     "collapsed": false,
     "input": [
      "import argparse\n",
      "import json\n",
      "import pprint\n",
      "import sys\n",
      "import urllib\n",
      "import urllib2\n",
      "import time\n",
      "import datetime\n",
      "import pandas as pd"
     ],
     "language": "python",
     "metadata": {},
     "outputs": [],
     "prompt_number": 2
    },
    {
     "cell_type": "code",
     "collapsed": false,
     "input": [
      "#Get movie names from TMDb\n",
      "API_key = 'd2189e753db5381d70ac0d51e45b19cc'\n",
      "def getUrl(startyear, startmonth, endyear, endmonth, page):\n",
      "    domain = 'http://api.themoviedb.org/3/discover/movie?language=en&page='+str(page)+'&sort_by=revenue.desc&primary_release_date.gte='\n",
      "    url = domain +str(startyear) + '-'+str(startmonth)+'-02&primary_release_date.lte='+str(endyear) + '-'+str(endmonth)+'-01&api_key='+API_key\n",
      "    return url\n",
      "\n",
      "names = []\n",
      "years = []\n",
      "for year in xrange(1990, 2014):\n",
      "    print year\n",
      "    for month in xrange(1, 13):\n",
      "        for page in xrange(1,4):\n",
      "            time.sleep(0.35)\n",
      "            if (month == 12):\n",
      "                url = getUrl(year, month, year+1, 1, page)\n",
      "            else:\n",
      "                url = getUrl(year, month, year, month+1, page)\n",
      "            data = json.loads(urllib2.urlopen(url).read())\n",
      "            results = data['results']\n",
      "            for i in results:\n",
      "                names.append(i['title'])\n",
      "                years.append((i['release_date']).split('-')[0])\n",
      "\n"
     ],
     "language": "python",
     "metadata": {},
     "outputs": [
      {
       "output_type": "stream",
       "stream": "stdout",
       "text": [
        "1990\n",
        "1991"
       ]
      },
      {
       "output_type": "stream",
       "stream": "stdout",
       "text": [
        "\n",
        "1992"
       ]
      },
      {
       "output_type": "stream",
       "stream": "stdout",
       "text": [
        "\n",
        "1993"
       ]
      },
      {
       "output_type": "stream",
       "stream": "stdout",
       "text": [
        "\n",
        "1994"
       ]
      },
      {
       "output_type": "stream",
       "stream": "stdout",
       "text": [
        "\n",
        "1995"
       ]
      },
      {
       "output_type": "stream",
       "stream": "stdout",
       "text": [
        "\n",
        "1996"
       ]
      },
      {
       "output_type": "stream",
       "stream": "stdout",
       "text": [
        "\n",
        "1997"
       ]
      },
      {
       "output_type": "stream",
       "stream": "stdout",
       "text": [
        "\n",
        "1998"
       ]
      },
      {
       "output_type": "stream",
       "stream": "stdout",
       "text": [
        "\n",
        "1999"
       ]
      },
      {
       "output_type": "stream",
       "stream": "stdout",
       "text": [
        "\n",
        "2000"
       ]
      },
      {
       "output_type": "stream",
       "stream": "stdout",
       "text": [
        "\n",
        "2001"
       ]
      },
      {
       "output_type": "stream",
       "stream": "stdout",
       "text": [
        "\n",
        "2002"
       ]
      },
      {
       "output_type": "stream",
       "stream": "stdout",
       "text": [
        "\n",
        "2003"
       ]
      },
      {
       "output_type": "stream",
       "stream": "stdout",
       "text": [
        "\n",
        "2004"
       ]
      },
      {
       "output_type": "stream",
       "stream": "stdout",
       "text": [
        "\n",
        "2005"
       ]
      },
      {
       "output_type": "stream",
       "stream": "stdout",
       "text": [
        "\n",
        "2006"
       ]
      },
      {
       "output_type": "stream",
       "stream": "stdout",
       "text": [
        "\n",
        "2007"
       ]
      },
      {
       "output_type": "stream",
       "stream": "stdout",
       "text": [
        "\n",
        "2008"
       ]
      },
      {
       "output_type": "stream",
       "stream": "stdout",
       "text": [
        "\n",
        "2009"
       ]
      },
      {
       "output_type": "stream",
       "stream": "stdout",
       "text": [
        "\n",
        "2010"
       ]
      },
      {
       "output_type": "stream",
       "stream": "stdout",
       "text": [
        "\n",
        "2011"
       ]
      },
      {
       "output_type": "stream",
       "stream": "stdout",
       "text": [
        "\n",
        "2012"
       ]
      },
      {
       "output_type": "stream",
       "stream": "stdout",
       "text": [
        "\n",
        "2013"
       ]
      },
      {
       "output_type": "stream",
       "stream": "stdout",
       "text": [
        "\n"
       ]
      }
     ],
     "prompt_number": 2
    },
    {
     "cell_type": "code",
     "collapsed": false,
     "input": [
      "#Store the information to a csv file for future use\n",
      "Movies = pd.DataFrame({'Name':names, 'Year':years})\n",
      "Movies = Movies.drop_duplicates()\n",
      "Movies.to_csv('Movies.csv', encoding='utf-8', index=False)"
     ],
     "language": "python",
     "metadata": {},
     "outputs": [],
     "prompt_number": 3
    },
    {
     "cell_type": "code",
     "collapsed": false,
     "input": [
      "#Scrape box office from boxofficemojo.com\n",
      "df = pd.DataFrame(columns=('Name', 'Year', 'BoxOffice'))\n",
      "\n",
      "for i in range(5): #range(movieData.shape[0]): #range(len(movieData[\"Name\"])):\n",
      "    if i%25 ==0:\n",
      "        print i\n",
      "    \n",
      "    name = movieData[\"Name\"][i]\n",
      "    year = movieData[\"Name\"][i]\n",
      "    \n",
      "    name = name.replace(\" \", \"+\")\n",
      "    name = name.replace(\"&\", \"and\")\n",
      "    url = \"http://boxofficemojo.com/search/?q=\" + name\n",
      "    try:\n",
      "        f = urllib.urlopen(url)\n",
      "    except:\n",
      "        pass\n",
      "    data = f.read()\n",
      "    ind0 = data.find(\"Movie Matches:\")\n",
      "    data = data[ind0:]\n",
      "    ind1 = data.find(\"/movies/?id=\")\n",
      "    data = data[ind1:]\n",
      "    ind2 = data.find('\">')\n",
      "    if data[12:ind2] != \"\":\n",
      "        url1 = \"http://boxofficemojo.com/movies/?id=\" + data[12:ind2] + \"&adjust_yr=2014&p=.htm\"\n",
      "        try:\n",
      "            f1 = urllib.urlopen(url1)\n",
      "        except:\n",
      "            pass\n",
      "        data = f1.read()\n",
      "        ind4 = data.find(\"Domestic Total Adj. Gross: \")\n",
      "        ind5 = data.find(\"</b>\", ind4)\n",
      "        boxOffice= data[ind4+31:ind5]\n",
      "        boxOffice = boxOffice.replace(\",\",\"\")\n",
      "        ind6 = data.find(\">Release Date:\")\n",
      "        ind7 = data.find(\"</a></nobr></b>\", ind6)\n",
      "        year = data[ind7-4:ind7]\n",
      "        try:\n",
      "            df.loc[i] = [movieData[\"Name\"][i], movieData[\"Year\"][i], int(boxOffice)]\n",
      "        except:\n",
      "            pass"
     ],
     "language": "python",
     "metadata": {},
     "outputs": [
      {
       "output_type": "stream",
       "stream": "stdout",
       "text": [
        "0\n"
       ]
      }
     ],
     "prompt_number": 9
    },
    {
     "cell_type": "code",
     "collapsed": false,
     "input": [
      "df"
     ],
     "language": "python",
     "metadata": {},
     "outputs": [
      {
       "html": [
        "<div style=\"max-height:1000px;max-width:1500px;overflow:auto;\">\n",
        "<table border=\"1\" class=\"dataframe\">\n",
        "  <thead>\n",
        "    <tr style=\"text-align: right;\">\n",
        "      <th></th>\n",
        "      <th>Name</th>\n",
        "      <th>Year</th>\n",
        "      <th>BoxOffice</th>\n",
        "    </tr>\n",
        "  </thead>\n",
        "  <tbody>\n",
        "    <tr>\n",
        "      <th>0</th>\n",
        "      <td>    Tremors</td>\n",
        "      <td> 1990</td>\n",
        "      <td> 31994500</td>\n",
        "    </tr>\n",
        "    <tr>\n",
        "      <th>1</th>\n",
        "      <td> Ski Patrol</td>\n",
        "      <td> 1990</td>\n",
        "      <td> 16382000</td>\n",
        "    </tr>\n",
        "    <tr>\n",
        "      <th>2</th>\n",
        "      <td>   Downtown</td>\n",
        "      <td> 1990</td>\n",
        "      <td>     5000</td>\n",
        "    </tr>\n",
        "  </tbody>\n",
        "</table>\n",
        "</div>"
       ],
       "metadata": {},
       "output_type": "pyout",
       "prompt_number": 10,
       "text": [
        "         Name  Year BoxOffice\n",
        "0     Tremors  1990  31994500\n",
        "1  Ski Patrol  1990  16382000\n",
        "2    Downtown  1990      5000"
       ]
      }
     ],
     "prompt_number": 10
    },
    {
     "cell_type": "code",
     "collapsed": false,
     "input": [
      "df.to_csv(\"MovieBoxOffice.csv\", encoding = 'utf-8', index = False)\n",
      "Movies = pd.read_csv('MovieBoxOffice.csv', encoding='utf-8')"
     ],
     "language": "python",
     "metadata": {},
     "outputs": [],
     "prompt_number": 4
    },
    {
     "cell_type": "code",
     "collapsed": false,
     "input": [
      "#Create the Movie table with rotten tomato data\n",
      "api_key = 'm7jmrcna938zje4rqefde4n7'\n",
      "moviesearch = 'http://api.rottentomatoes.com/api/public/v1.0/movies.json&page_limit=1?apikey='\n",
      "movieinfo = 'http://api.rottentomatoes.com/api/public/v1.0/movies/'\n",
      "movieinfo_key = '.json?apikey=' + api_key\n",
      "query = '&page_limit=2&q='\n",
      "movie_id =[]\n",
      "name = []\n",
      "cast = []\n",
      "release = []\n",
      "director = []\n",
      "genre = []\n",
      "critic_rating = []\n",
      "audience_rating = []\n",
      "review = []\n",
      "weblink = []\n",
      "\n",
      "\n",
      "for i in xrange(0, len(Movies['Name'])):\n",
      "    time.sleep(0.5)\n",
      "    newname = Movies['Name'][i].replace(' ', '+')\n",
      "    newname = newname.replace('&', 'and')\n",
      "    url = moviesearch + api_key + query + newname\n",
      "    data = json.loads(urllib2.urlopen(url).read())\n",
      "    to_add = -1\n",
      "    if (data['total'] >= 1):\n",
      "        if (data['movies'][0]['release_dates'] and ('theater' in data['movies'][0]['release_dates']) and\n",
      "            abs(int(data['movies'][0]['release_dates']['theater'].split('-')[0]) - int(Movies['Year'][i])) < 2):\n",
      "            movie_id.append(data['movies'][0]['id'])\n",
      "            to_add = 0\n",
      "        elif (data['total'] > 1):\n",
      "            if(data['movies'][1]['release_dates'] and ('theater' in data['movies'][1]['release_dates']) and\n",
      "               abs(int(data['movies'][1]['release_dates']['theater'].split('-')[0]) - int(Movies['Year'][i])) < 2):\n",
      "                movie_id.append(data['movies'][1]['id'])\n",
      "                to_add = 1\n",
      "        if (to_add != -1):\n",
      "            idx = movie_id[-1]\n",
      "            url = movieinfo + str(idx) + movieinfo_key\n",
      "            info = json.loads(urllib2.urlopen(url).read())\n",
      "            name.append(info['title'])\n",
      "            cast.append(info['abridged_cast'])\n",
      "            release.append(info['release_dates']['theater'])\n",
      "            director.append(info['abridged_directors'])\n",
      "            genre.append(info['genres'])\n",
      "            critic_rating.append(info['ratings']['critics_score'])\n",
      "            audience_rating.append(info['ratings']['audience_score'])\n",
      "            review.append(info['links']['reviews'])\n",
      "            weblink.append(info['links']['alternate'])\n",
      "            \n",
      "            "
     ],
     "language": "python",
     "metadata": {},
     "outputs": []
    },
    {
     "cell_type": "code",
     "collapsed": false,
     "input": [
      "MovieTable = pd.DataFrame({'ID':movie_id, 'Movie':name, 'Cast':cast, 'Release':release, 'Director':director, 'Genre':genre,\n",
      "             'Critic_rating':critic_rating, 'Audience_rating':audience_rating, 'Review':review, 'weblink':weblink})"
     ],
     "language": "python",
     "metadata": {},
     "outputs": []
    },
    {
     "cell_type": "markdown",
     "metadata": {},
     "source": [
      "#New Data Retrieval"
     ]
    },
    {
     "cell_type": "code",
     "collapsed": false,
     "input": [
      "import argparse\n",
      "import json\n",
      "import pprint\n",
      "import sys\n",
      "import urllib\n",
      "import urllib2\n",
      "import time\n",
      "import datetime\n",
      "import pandas as pd"
     ],
     "language": "python",
     "metadata": {},
     "outputs": [],
     "prompt_number": 1
    },
    {
     "cell_type": "code",
     "collapsed": false,
     "input": [
      "#Get movie names from TMDb\n",
      "API_key = 'd2189e753db5381d70ac0d51e45b19cc'\n",
      "def getUrl(startyear, startmonth, endyear, endmonth, page):\n",
      "    domain = 'http://api.themoviedb.org/3/discover/movie?language=en&page='+str(page)+'&sort_by=revenue.desc&primary_release_date.gte='\n",
      "    url = domain +str(startyear) + '-'+str(startmonth)+'-02&primary_release_date.lte='+str(endyear) + '-'+str(endmonth)+'-01&api_key='+API_key\n",
      "    return url\n",
      "\n",
      "names = []\n",
      "years = []\n",
      "for year in xrange(1990, 2014):\n",
      "    print year\n",
      "    for month in xrange(1, 13):\n",
      "        for page in xrange(1,4):\n",
      "            time.sleep(0.35)\n",
      "            if (month == 12):\n",
      "                url = getUrl(year, month, year+1, 1, page)\n",
      "            else:\n",
      "                url = getUrl(year, month, year, month+1, page)\n",
      "            data = json.loads(urllib2.urlopen(url).read())\n",
      "            results = data['results']\n",
      "            for i in results:\n",
      "                names.append(i['title'])\n",
      "                years.append((i['release_date']).split('-')[0])\n",
      "\n",
      "\n"
     ],
     "language": "python",
     "metadata": {},
     "outputs": []
    },
    {
     "cell_type": "code",
     "collapsed": false,
     "input": [
      "#Store the information to a csv file for future use\n",
      "Movies = pd.DataFrame({'Name':names, 'Year':years})\n",
      "Movies = Movies.drop_duplicates()\n",
      "Movies.to_csv('Movies.csv', encoding='utf-8', index=False)"
     ],
     "language": "python",
     "metadata": {},
     "outputs": []
    },
    {
     "cell_type": "code",
     "collapsed": false,
     "input": [
      "#Create the Movie table with rotten tomato data\n",
      "Movies = pd.read_csv('Movies.csv', encoding='utf-8')\n",
      "\n",
      "api_key = 'm7jmrcna938zje4rqefde4n7'\n",
      "moviesearch = 'http://api.rottentomatoes.com/api/public/v1.0/movies.json&page_limit=1?apikey='\n",
      "movieinfo = 'http://api.rottentomatoes.com/api/public/v1.0/movies/'\n",
      "movieinfo_key = '.json?apikey=' + api_key\n",
      "query = '&page_limit=2&q='\n",
      "movie_id =[]\n",
      "imdb_id = []\n",
      "name = []\n",
      "cast = []\n",
      "release = []\n",
      "director = []\n",
      "genre = []\n",
      "critic_rating = []\n",
      "audience_rating = []\n",
      "review = []\n",
      "weblink = []\n",
      "\n",
      "for i in xrange(len(Movies['Name'])):\n",
      "    time.sleep(0.5)\n",
      "    if (i%500 == 0):\n",
      "        print i\n",
      "    newname = Movies['Name'][i].replace(' ', '+')\n",
      "    newname = newname.replace('&', 'and')\n",
      "    url = moviesearch + api_key + query + newname\n",
      "    try:\n",
      "        data = json.loads(urllib2.urlopen(url).read())\n",
      "    except:\n",
      "        pass\n",
      "    to_add = -1\n",
      "    if (data['total'] >= 1):\n",
      "        temp_id = 0\n",
      "        if (data['movies'][0]['release_dates'] and ('theater' in data['movies'][0]['release_dates']) and\n",
      "            abs(int(data['movies'][0]['release_dates']['theater'].split('-')[0]) - int(Movies['Year'][i])) < 2):\n",
      "            temp_id = data['movies'][0]['id']\n",
      "            to_add = 0\n",
      "        elif (data['total'] > 1):\n",
      "            if(data['movies'][1]['release_dates'] and ('theater' in data['movies'][1]['release_dates']) and\n",
      "               abs(int(data['movies'][1]['release_dates']['theater'].split('-')[0]) - int(Movies['Year'][i])) < 2):\n",
      "               temp_id = data['movies'][1]['id']\n",
      "               to_add = 1\n",
      "        if (to_add != -1):\n",
      "            idx = temp_id\n",
      "            url = movieinfo + str(idx) + movieinfo_key\n",
      "            info = json.loads(urllib2.urlopen(url).read())\n",
      "            try:\n",
      "                temp_imdb_id = info['alternate_ids']['imdb']\n",
      "                temp_name = info['title']\n",
      "                temp_cast = info['abridged_cast']\n",
      "                temp_release = info['release_dates']['theater']\n",
      "                temp_director = info['abridged_directors']\n",
      "                temp_genre = info['genres']\n",
      "                temp_critic = info['ratings']['critics_score']\n",
      "                temp_andience = info['ratings']['audience_score']\n",
      "                temp_review = info['links']['reviews']\n",
      "                temp_weblink = info['links']['alternate']\n",
      "                movie_id.append(temp_id)\n",
      "                imdb_id.append(info['alternate_ids']['imdb'])\n",
      "                name.append(info['title'])\n",
      "                cast.append(info['abridged_cast'])\n",
      "                release.append(info['release_dates']['theater'])\n",
      "                director.append(info['abridged_directors'])\n",
      "                genre.append(info['genres'])\n",
      "                critic_rating.append(info['ratings']['critics_score'])\n",
      "                audience_rating.append(info['ratings']['audience_score'])\n",
      "                review.append(info['links']['reviews'])\n",
      "                weblink.append(info['links']['alternate'])\n",
      "            except:\n",
      "                pass\n",
      "            "
     ],
     "language": "python",
     "metadata": {},
     "outputs": [
      {
       "output_type": "stream",
       "stream": "stdout",
       "text": [
        "0\n",
        "10"
       ]
      },
      {
       "output_type": "stream",
       "stream": "stdout",
       "text": [
        "\n",
        "20"
       ]
      },
      {
       "output_type": "stream",
       "stream": "stdout",
       "text": [
        "\n",
        "30"
       ]
      },
      {
       "output_type": "stream",
       "stream": "stdout",
       "text": [
        "\n"
       ]
      },
      {
       "ename": "KeyboardInterrupt",
       "evalue": "",
       "output_type": "pyerr",
       "traceback": [
        "\u001b[0;31m---------------------------------------------------------------------------\u001b[0m\n\u001b[0;31mKeyboardInterrupt\u001b[0m                         Traceback (most recent call last)",
        "\u001b[0;32m<ipython-input-2-b66cb6757581>\u001b[0m in \u001b[0;36m<module>\u001b[0;34m()\u001b[0m\n\u001b[1;32m     20\u001b[0m \u001b[0;34m\u001b[0m\u001b[0m\n\u001b[1;32m     21\u001b[0m \u001b[0;32mfor\u001b[0m \u001b[0mi\u001b[0m \u001b[0;32min\u001b[0m \u001b[0mxrange\u001b[0m\u001b[0;34m(\u001b[0m\u001b[0mlen\u001b[0m\u001b[0;34m(\u001b[0m\u001b[0mMovies\u001b[0m\u001b[0;34m[\u001b[0m\u001b[0;34m'Name'\u001b[0m\u001b[0;34m]\u001b[0m\u001b[0;34m)\u001b[0m\u001b[0;34m)\u001b[0m\u001b[0;34m:\u001b[0m\u001b[0;34m\u001b[0m\u001b[0m\n\u001b[0;32m---> 22\u001b[0;31m     \u001b[0mtime\u001b[0m\u001b[0;34m.\u001b[0m\u001b[0msleep\u001b[0m\u001b[0;34m(\u001b[0m\u001b[0;36m0.5\u001b[0m\u001b[0;34m)\u001b[0m\u001b[0;34m\u001b[0m\u001b[0m\n\u001b[0m\u001b[1;32m     23\u001b[0m     \u001b[0;32mif\u001b[0m \u001b[0;34m(\u001b[0m\u001b[0mi\u001b[0m\u001b[0;34m%\u001b[0m\u001b[0;36m10\u001b[0m \u001b[0;34m==\u001b[0m \u001b[0;36m0\u001b[0m\u001b[0;34m)\u001b[0m\u001b[0;34m:\u001b[0m\u001b[0;34m\u001b[0m\u001b[0m\n\u001b[1;32m     24\u001b[0m         \u001b[0;32mprint\u001b[0m \u001b[0mi\u001b[0m\u001b[0;34m\u001b[0m\u001b[0m\n",
        "\u001b[0;31mKeyboardInterrupt\u001b[0m: "
       ]
      }
     ],
     "prompt_number": 2
    },
    {
     "cell_type": "code",
     "collapsed": false,
     "input": [
      "MovieTable = pd.DataFrame({'ID':movie_id, 'imdb':imdb_id, 'Movie':name, 'Cast':cast, 'Release':release, 'Director':director, 'Genre':genre,\n",
      "             'Critic_rating':critic_rating, 'Audience_rating':audience_rating, 'Review':review, 'weblink':weblink})"
     ],
     "language": "python",
     "metadata": {},
     "outputs": []
    },
    {
     "cell_type": "code",
     "collapsed": false,
     "input": [
      "MovieTable.to_csv(\"MovieTable.csv\", encoding = 'utf-8', index = False)\n",
      "MovieTable.to_pickle('MovieTable.pkl')"
     ],
     "language": "python",
     "metadata": {},
     "outputs": []
    },
    {
     "cell_type": "code",
     "collapsed": false,
     "input": [
      "#Scrape box office from boxofficemojo.com\n",
      "df = pd.DataFrame(columns=('Name', 'Year', 'BoxOffice'))\n",
      "\n",
      "for i in range(5): #range(movieData.shape[0]): #range(len(movieData[\"Name\"])):\n",
      "    if i%25 ==0:\n",
      "        print i\n",
      "    \n",
      "    name = movieData[\"Name\"][i]\n",
      "    year = movieData[\"Name\"][i]\n",
      "    \n",
      "    name = name.replace(\" \", \"+\")\n",
      "    name = name.replace(\"&\", \"and\")\n",
      "    url = \"http://boxofficemojo.com/search/?q=\" + name\n",
      "    try:\n",
      "        f = urllib.urlopen(url)\n",
      "    except:\n",
      "        pass\n",
      "    data = f.read()\n",
      "    ind0 = data.find(\"Movie Matches:\")\n",
      "    data = data[ind0:]\n",
      "    ind1 = data.find(\"/movies/?id=\")\n",
      "    data = data[ind1:]\n",
      "    ind2 = data.find('\">')\n",
      "    if data[12:ind2] != \"\":\n",
      "        url1 = \"http://boxofficemojo.com/movies/?id=\" + data[12:ind2] + \"&adjust_yr=2014&p=.htm\"\n",
      "        try:\n",
      "            f1 = urllib.urlopen(url1)\n",
      "        except:\n",
      "            pass\n",
      "        data = f1.read()\n",
      "        ind4 = data.find(\"Domestic Total Adj. Gross: \")\n",
      "        ind5 = data.find(\"</b>\", ind4)\n",
      "        boxOffice= data[ind4+31:ind5]\n",
      "        boxOffice = boxOffice.replace(\",\",\"\")\n",
      "        ind6 = data.find(\">Release Date:\")\n",
      "        ind7 = data.find(\"</a></nobr></b>\", ind6)\n",
      "        year = data[ind7-4:ind7]\n",
      "        try:\n",
      "            df.loc[i] = [movieData[\"Name\"][i], movieData[\"Year\"][i], int(boxOffice)]\n",
      "        except:\n",
      "            pass"
     ],
     "language": "python",
     "metadata": {},
     "outputs": []
    },
    {
     "cell_type": "code",
     "collapsed": false,
     "input": [
      "df.to_csv(\"MovieBoxOffice.csv\", encoding = 'utf-8', index = False)"
     ],
     "language": "python",
     "metadata": {},
     "outputs": []
    },
    {
     "cell_type": "code",
     "collapsed": false,
     "input": [
      "\n",
      "            \n",
      "            "
     ],
     "language": "python",
     "metadata": {},
     "outputs": []
    },
    {
     "cell_type": "code",
     "collapsed": false,
     "input": [],
     "language": "python",
     "metadata": {},
     "outputs": []
    }
   ],
   "metadata": {}
  }
 ]
}