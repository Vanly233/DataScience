{
 "metadata": {
  "name": "",
  "signature": "sha256:55c2095f7118b0297ca37c0115a94d49edb404acbb86281cb56980200d139dc5"
 },
 "nbformat": 3,
 "nbformat_minor": 0,
 "worksheets": [
  {
   "cells": [
    {
     "cell_type": "code",
     "collapsed": false,
     "input": [],
     "language": "python",
     "metadata": {},
     "outputs": [],
     "prompt_number": 1
    },
    {
     "cell_type": "code",
     "collapsed": false,
     "input": [
      "import argparse\n",
      "import json\n",
      "import pprint\n",
      "import sys\n",
      "import urllib\n",
      "import urllib2\n",
      "import time\n",
      "import datetime\n",
      "import pandas as pd"
     ],
     "language": "python",
     "metadata": {},
     "outputs": [],
     "prompt_number": 3
    },
    {
     "cell_type": "code",
     "collapsed": false,
     "input": [
      "MovieTable = pd.read_pickle('MovieTable.pkl')"
     ],
     "language": "python",
     "metadata": {},
     "outputs": [],
     "prompt_number": 4
    },
    {
     "cell_type": "code",
     "collapsed": false,
     "input": [],
     "language": "python",
     "metadata": {},
     "outputs": [],
     "prompt_number": 4
    },
    {
     "cell_type": "code",
     "collapsed": false,
     "input": [
      "MovieTable.shape[0]\n",
      "final_list = []"
     ],
     "language": "python",
     "metadata": {},
     "outputs": [],
     "prompt_number": 5
    },
    {
     "cell_type": "code",
     "collapsed": false,
     "input": [
      "count = 0\n",
      "gross_list = []\n",
      "for i in xrange(0,MovieTable.shape[0]/100):\n",
      "    gross_data = -1\n",
      "    time.sleep(0.1)\n",
      "    if i%100 == 0:\n",
      "        print \"Finished:\", i, \"----------------------\"\n",
      "    imdb_id = str(MovieTable[\"imdb\"][i])\n",
      "    year = int(MovieTable[\"Release\"][i][0:4])\n",
      "    # http://www.imdb.com/title/tt0110357/business\n",
      "    url = \"http://www.imdb.com/title/tt\" + imdb_id + \"/business\"\n",
      "    try:\n",
      "        f = urllib.urlopen(url)\n",
      "    except:\n",
      "        print \"Error!\", imdb_id\n",
      "        pass\n",
      "    data = f.read()\n",
      "    ind1 = data.find(\"Opening Weekend\")\n",
      "    if ind1 != -1:\n",
      "        count = count + 1\n",
      "        data = data[ind1:]\n",
      "        ind2 = data.find(\"Gross\")\n",
      "        # >2013<\n",
      "        year1 = year + 1\n",
      "        str_year1 = \">\" + str(year1) + \"<\"\n",
      "        str_year = \">\" + str(year) + \"<\"\n",
      "        ind_year1 = data.find(str_year1, ind2)\n",
      "        ind_year = data.find(str_year, ind2)\n",
      "        if ind_year1 == -1:\n",
      "            data2 = data[ind2:ind_year+5]\n",
      "        elif ind_year == -1:\n",
      "            data2 = data[ind2:ind_year1+5]\n",
      "        elif ind_year1 < ind_year:\n",
      "            data2 = data[ind2:ind_year1+5]\n",
      "        elif ind_year < ind_year1:\n",
      "            data2 = data[ind2:ind_year+5]\n",
      "        else:\n",
      "            print \"no way\", imdb_id\n",
      "        #print data2\n",
      "        ind4 = data2.rfind(\"(USA)\")\n",
      "        ind3 = data2.rfind(\"$\")\n",
      "        if ind4 == -1 or ind3 == -1:\n",
      "            pass #gross_data = -1\n",
      "        else:\n",
      "            data3 = data2[ind3+1:ind4-1]\n",
      "            try:\n",
      "                gross_data = int(data3.replace(\",\", \"\"))\n",
      "            except:\n",
      "                print str(MovieTable[\"Movie\"][i])\n",
      "    else:\n",
      "        print \"no office data\", imdb_id\n",
      "        pass\n",
      "    gross_list.append(gross_data)\n",
      "print count/MovieTable.shape[0]"
     ],
     "language": "python",
     "metadata": {},
     "outputs": [
      {
       "output_type": "stream",
       "stream": "stdout",
       "text": [
        "Finished: 0 ----------------------\n",
        "no office data"
       ]
      },
      {
       "output_type": "stream",
       "stream": "stdout",
       "text": [
        " 0100631\n",
        "no office data"
       ]
      },
      {
       "output_type": "stream",
       "stream": "stdout",
       "text": [
        " 0099460\n",
        "no office data"
       ]
      },
      {
       "output_type": "stream",
       "stream": "stdout",
       "text": [
        " 0098486\n",
        "no office data"
       ]
      },
      {
       "output_type": "stream",
       "stream": "stdout",
       "text": [
        " 0099875\n",
        "no office data"
       ]
      },
      {
       "output_type": "stream",
       "stream": "stdout",
       "text": [
        " 0099520\n",
        "no office data"
       ]
      },
      {
       "output_type": "stream",
       "stream": "stdout",
       "text": [
        " 0064820\n",
        "no office data"
       ]
      },
      {
       "output_type": "stream",
       "stream": "stdout",
       "text": [
        " 0099134\n",
        "no office data"
       ]
      },
      {
       "output_type": "stream",
       "stream": "stdout",
       "text": [
        " 0100266\n",
        "no office data"
       ]
      },
      {
       "output_type": "stream",
       "stream": "stdout",
       "text": [
        " 0099259\n",
        "no office data"
       ]
      },
      {
       "output_type": "stream",
       "stream": "stdout",
       "text": [
        " 0100351\n",
        "no office data"
       ]
      },
      {
       "output_type": "stream",
       "stream": "stdout",
       "text": [
        " 0098532\n",
        "no office data"
       ]
      },
      {
       "output_type": "stream",
       "stream": "stdout",
       "text": [
        " 0097884\n",
        "no office data"
       ]
      },
      {
       "output_type": "stream",
       "stream": "stdout",
       "text": [
        " 0099739\n",
        "no office data"
       ]
      },
      {
       "output_type": "stream",
       "stream": "stdout",
       "text": [
        " 0100029\n",
        "no office data"
       ]
      },
      {
       "output_type": "stream",
       "stream": "stdout",
       "text": [
        " 0100691\n",
        "no office data"
       ]
      },
      {
       "output_type": "stream",
       "stream": "stdout",
       "text": [
        " 0100263\n",
        "no office data"
       ]
      },
      {
       "output_type": "stream",
       "stream": "stdout",
       "text": [
        " 0099750\n",
        "no office data"
       ]
      },
      {
       "output_type": "stream",
       "stream": "stdout",
       "text": [
        " 0099743\n",
        "no office data"
       ]
      },
      {
       "output_type": "stream",
       "stream": "stdout",
       "text": [
        " 0099039\n",
        "no office data"
       ]
      },
      {
       "output_type": "stream",
       "stream": "stdout",
       "text": [
        " 0100772\n",
        "no office data"
       ]
      },
      {
       "output_type": "stream",
       "stream": "stdout",
       "text": [
        " 0097910\n",
        "no office data"
       ]
      },
      {
       "output_type": "stream",
       "stream": "stdout",
       "text": [
        " 0099387\n",
        "no office data"
       ]
      },
      {
       "output_type": "stream",
       "stream": "stdout",
       "text": [
        " 0100053\n",
        "no office data"
       ]
      },
      {
       "output_type": "stream",
       "stream": "stdout",
       "text": [
        " 0100537\n",
        "no office data"
       ]
      },
      {
       "output_type": "stream",
       "stream": "stdout",
       "text": [
        " 0099581\n",
        "no office data"
       ]
      },
      {
       "output_type": "stream",
       "stream": "stdout",
       "text": [
        " 0100924\n",
        "no office data"
       ]
      },
      {
       "output_type": "stream",
       "stream": "stdout",
       "text": [
        " 0099200\n",
        "no office data"
       ]
      },
      {
       "output_type": "stream",
       "stream": "stdout",
       "text": [
        " 0100134\n",
        "no office data"
       ]
      },
      {
       "output_type": "stream",
       "stream": "stdout",
       "text": [
        " 0100209\n",
        "no office data"
       ]
      },
      {
       "output_type": "stream",
       "stream": "stdout",
       "text": [
        " 0098971\n",
        "no office data"
       ]
      },
      {
       "output_type": "stream",
       "stream": "stdout",
       "text": [
        " 0100637\n",
        "no office data"
       ]
      },
      {
       "output_type": "stream",
       "stream": "stdout",
       "text": [
        " 0099892\n",
        "no office data"
       ]
      },
      {
       "output_type": "stream",
       "stream": "stdout",
       "text": [
        " 0099800\n",
        "no office data"
       ]
      },
      {
       "output_type": "stream",
       "stream": "stdout",
       "text": [
        " 0100332\n",
        "no office data"
       ]
      },
      {
       "output_type": "stream",
       "stream": "stdout",
       "text": [
        " 0096945\n",
        "no office data"
       ]
      },
      {
       "output_type": "stream",
       "stream": "stdout",
       "text": [
        " 0101025\n",
        "no office data"
       ]
      },
      {
       "output_type": "stream",
       "stream": "stdout",
       "text": [
        " 0099310\n",
        "no office data"
       ]
      },
      {
       "output_type": "stream",
       "stream": "stdout",
       "text": [
        " 0100301\n",
        "no office data"
       ]
      },
      {
       "output_type": "stream",
       "stream": "stdout",
       "text": [
        " 0100065\n",
        "no office data"
       ]
      },
      {
       "output_type": "stream",
       "stream": "stdout",
       "text": [
        " 0099606\n",
        "no office data"
       ]
      },
      {
       "output_type": "stream",
       "stream": "stdout",
       "text": [
        " 0100660\n",
        "no office data"
       ]
      },
      {
       "output_type": "stream",
       "stream": "stdout",
       "text": [
        " 0100288\n",
        "no office data"
       ]
      },
      {
       "output_type": "stream",
       "stream": "stdout",
       "text": [
        " 0097302\n",
        "no office data"
       ]
      },
      {
       "output_type": "stream",
       "stream": "stdout",
       "text": [
        " 0099842\n",
        "no office data"
       ]
      },
      {
       "output_type": "stream",
       "stream": "stdout",
       "text": [
        " 0100272\n",
        "no office data"
       ]
      },
      {
       "output_type": "stream",
       "stream": "stdout",
       "text": [
        " 0100274\n",
        "no office data"
       ]
      },
      {
       "output_type": "stream",
       "stream": "stdout",
       "text": [
        " 0100871\n",
        "no office data"
       ]
      },
      {
       "output_type": "stream",
       "stream": "stdout",
       "text": [
        " 0105680\n",
        "no office data"
       ]
      },
      {
       "output_type": "stream",
       "stream": "stdout",
       "text": [
        " 0099026\n",
        "no office data"
       ]
      },
      {
       "output_type": "stream",
       "stream": "stdout",
       "text": [
        " 0101369\n",
        "no office data"
       ]
      },
      {
       "output_type": "stream",
       "stream": "stdout",
       "text": [
        " 0099164\n",
        "no office data"
       ]
      },
      {
       "output_type": "stream",
       "stream": "stdout",
       "text": [
        " 0100811\n",
        "no office data"
       ]
      },
      {
       "output_type": "stream",
       "stream": "stdout",
       "text": [
        " 0099262\n",
        "no office data"
       ]
      },
      {
       "output_type": "stream",
       "stream": "stdout",
       "text": [
        " 0099991\n",
        "no office data"
       ]
      },
      {
       "output_type": "stream",
       "stream": "stdout",
       "text": [
        " 0099721\n",
        "no office data"
       ]
      },
      {
       "output_type": "stream",
       "stream": "stdout",
       "text": [
        " 0099578\n",
        "no office data"
       ]
      },
      {
       "output_type": "stream",
       "stream": "stdout",
       "text": [
        " 0100666\n",
        "no office data"
       ]
      },
      {
       "output_type": "stream",
       "stream": "stdout",
       "text": [
        " 0099329\n",
        "no office data"
       ]
      },
      {
       "output_type": "stream",
       "stream": "stdout",
       "text": [
        " 0099819\n",
        "no office data"
       ]
      },
      {
       "output_type": "stream",
       "stream": "stdout",
       "text": [
        " 0101005\n",
        "no office data"
       ]
      },
      {
       "output_type": "stream",
       "stream": "stdout",
       "text": [
        " 0100879\n",
        "no office data"
       ]
      },
      {
       "output_type": "stream",
       "stream": "stdout",
       "text": [
        " 0099596\n",
        "no office data"
       ]
      },
      {
       "output_type": "stream",
       "stream": "stdout",
       "text": [
        " 0088269\n",
        "no office data"
       ]
      },
      {
       "output_type": "stream",
       "stream": "stdout",
       "text": [
        " 0100800\n",
        "no office data"
       ]
      },
      {
       "output_type": "stream",
       "stream": "stdout",
       "text": [
        " 0096875\n",
        "0\n"
       ]
      }
     ],
     "prompt_number": 11
    },
    {
     "cell_type": "code",
     "collapsed": false,
     "input": [
      "final_list = final_list + gross_list"
     ],
     "language": "python",
     "metadata": {},
     "outputs": [],
     "prompt_number": 7
    },
    {
     "cell_type": "code",
     "collapsed": false,
     "input": [
      "gross_list"
     ],
     "language": "python",
     "metadata": {},
     "outputs": [
      {
       "metadata": {},
       "output_type": "pyout",
       "prompt_number": 8,
       "text": [
        "[-1,\n",
        " -1,\n",
        " -1,\n",
        " -1,\n",
        " -1,\n",
        " -1,\n",
        " -1,\n",
        " 7745,\n",
        " -1,\n",
        " -1,\n",
        " 1115025,\n",
        " -1,\n",
        " -1,\n",
        " -1,\n",
        " -1,\n",
        " -1,\n",
        " -1,\n",
        " -1,\n",
        " -1,\n",
        " -1,\n",
        " -1,\n",
        " -1,\n",
        " -1,\n",
        " -1,\n",
        " -1,\n",
        " -1,\n",
        " -1,\n",
        " -1,\n",
        " -1,\n",
        " -1,\n",
        " -1,\n",
        " -1,\n",
        " -1,\n",
        " -1,\n",
        " -1,\n",
        " -1,\n",
        " -1,\n",
        " -1,\n",
        " -1,\n",
        " -1,\n",
        " -1,\n",
        " -1,\n",
        " -1,\n",
        " -1,\n",
        " -1,\n",
        " -1,\n",
        " -1,\n",
        " -1,\n",
        " -1,\n",
        " -1,\n",
        " -1,\n",
        " -1,\n",
        " -1,\n",
        " -1,\n",
        " -1,\n",
        " -1,\n",
        " -1,\n",
        " -1,\n",
        " -1,\n",
        " -1,\n",
        " -1,\n",
        " -1,\n",
        " -1,\n",
        " -1,\n",
        " -1,\n",
        " -1,\n",
        " -1,\n",
        " -1,\n",
        " -1,\n",
        " -1,\n",
        " -1,\n",
        " -1,\n",
        " -1,\n",
        " -1,\n",
        " -1,\n",
        " -1,\n",
        " -1,\n",
        " -1,\n",
        " -1,\n",
        " -1,\n",
        " 8038759,\n",
        " 23703060,\n",
        " -1,\n",
        " -1,\n",
        " -1,\n",
        " -1,\n",
        " -1,\n",
        " -1,\n",
        " 85395,\n",
        " -1,\n",
        " -1,\n",
        " -1,\n",
        " -1,\n",
        " -1,\n",
        " -1,\n",
        " -1,\n",
        " 47714,\n",
        " -1,\n",
        " -1,\n",
        " -1,\n",
        " -1,\n",
        " -1,\n",
        " -1,\n",
        " 45285202,\n",
        " 41482207,\n",
        " -1,\n",
        " -1,\n",
        " -1,\n",
        " -1,\n",
        " -1,\n",
        " -1,\n",
        " -1,\n",
        " -1,\n",
        " -1,\n",
        " 115288665,\n",
        " -1,\n",
        " -1,\n",
        " -1,\n",
        " -1,\n",
        " -1,\n",
        " -1,\n",
        " -1,\n",
        " -1,\n",
        " -1,\n",
        " -1,\n",
        " -1,\n",
        " -1,\n",
        " -1,\n",
        " -1,\n",
        " -1,\n",
        " -1,\n",
        " 28800000,\n",
        " -1,\n",
        " 32942739,\n",
        " -1,\n",
        " -1,\n",
        " -1,\n",
        " 6154944,\n",
        " -1,\n",
        " -1,\n",
        " -1,\n",
        " -1,\n",
        " -1,\n",
        " -1,\n",
        " -1,\n",
        " -1,\n",
        " -1,\n",
        " -1,\n",
        " -1,\n",
        " 31053601,\n",
        " -1,\n",
        " -1,\n",
        " -1,\n",
        " -1,\n",
        " -1,\n",
        " -1,\n",
        " -1,\n",
        " -1,\n",
        " -1,\n",
        " -1,\n",
        " -1,\n",
        " -1,\n",
        " -1,\n",
        " -1,\n",
        " -1,\n",
        " 1242995,\n",
        " -1,\n",
        " -1,\n",
        " -1,\n",
        " -1,\n",
        " -1,\n",
        " -1,\n",
        " -1,\n",
        " -1,\n",
        " -1,\n",
        " -1,\n",
        " -1,\n",
        " -1,\n",
        " -1,\n",
        " 43120554,\n",
        " 16283667,\n",
        " -1,\n",
        " -1,\n",
        " -1,\n",
        " -1,\n",
        " -1,\n",
        " -1,\n",
        " -1,\n",
        " -1,\n",
        " -1,\n",
        " -1,\n",
        " -1,\n",
        " -1,\n",
        " -1,\n",
        " -1,\n",
        " -1,\n",
        " -1,\n",
        " -1,\n",
        " -1,\n",
        " -1,\n",
        " -1,\n",
        " -1,\n",
        " -1,\n",
        " -1,\n",
        " 281493907,\n",
        " 40123474,\n",
        " 28317513,\n",
        " -1,\n",
        " -1,\n",
        " 26118851,\n",
        " 2075084,\n",
        " -1,\n",
        " 26880000,\n",
        " -1,\n",
        " -1,\n",
        " -1,\n",
        " -1,\n",
        " -1,\n",
        " -1,\n",
        " -1,\n",
        " -1,\n",
        " -1,\n",
        " -1,\n",
        " -1,\n",
        " -1,\n",
        " -1,\n",
        " -1,\n",
        " -1,\n",
        " 38000000,\n",
        " 27500000,\n",
        " 23240000,\n",
        " -1,\n",
        " -1,\n",
        " -1,\n",
        " 15691192,\n",
        " 9243140,\n",
        " -1,\n",
        " -1,\n",
        " -1,\n",
        " -1,\n",
        " -1,\n",
        " -1,\n",
        " -1,\n",
        " -1,\n",
        " -1,\n",
        " -1,\n",
        " -1,\n",
        " -1,\n",
        " -1,\n",
        " -1,\n",
        " -1,\n",
        " -1,\n",
        " -1,\n",
        " -1,\n",
        " -1,\n",
        " -1,\n",
        " -1,\n",
        " -1,\n",
        " -1,\n",
        " 130643286,\n",
        " -1,\n",
        " -1,\n",
        " -1,\n",
        " -1,\n",
        " -1,\n",
        " -1,\n",
        " -1,\n",
        " -1,\n",
        " -1,\n",
        " -1,\n",
        " -1,\n",
        " -1,\n",
        " -1,\n",
        " -1,\n",
        " -1,\n",
        " -1,\n",
        " -1,\n",
        " -1,\n",
        " -1,\n",
        " -1,\n",
        " -1,\n",
        " -1,\n",
        " 21636405,\n",
        " 277462,\n",
        " -1,\n",
        " -1,\n",
        " -1,\n",
        " -1,\n",
        " 2368,\n",
        " 225671,\n",
        " -1,\n",
        " -1,\n",
        " -1,\n",
        " -1,\n",
        " -1,\n",
        " 39319761,\n",
        " -1,\n",
        " -1,\n",
        " -1,\n",
        " -1,\n",
        " -1,\n",
        " -1,\n",
        " -1,\n",
        " -1,\n",
        " -1,\n",
        " -1,\n",
        " -1,\n",
        " -1,\n",
        " -1,\n",
        " -1,\n",
        " -1,\n",
        " -1,\n",
        " -1,\n",
        " -1,\n",
        " -1,\n",
        " -1,\n",
        " -1,\n",
        " -1,\n",
        " 3630565,\n",
        " -1,\n",
        " -1,\n",
        " -1,\n",
        " -1,\n",
        " -1,\n",
        " -1,\n",
        " -1,\n",
        " -1,\n",
        " -1,\n",
        " -1,\n",
        " -1,\n",
        " -1,\n",
        " -1,\n",
        " -1,\n",
        " -1,\n",
        " -1,\n",
        " -1,\n",
        " -1,\n",
        " -1,\n",
        " -1,\n",
        " -1,\n",
        " -1,\n",
        " 198116802,\n",
        " -1,\n",
        " -1,\n",
        " 23179000,\n",
        " 882664,\n",
        " -1,\n",
        " 1248362,\n",
        " -1,\n",
        " -1,\n",
        " -1,\n",
        " -1,\n",
        " -1,\n",
        " -1,\n",
        " -1,\n",
        " -1,\n",
        " -1,\n",
        " -1,\n",
        " -1,\n",
        " -1,\n",
        " -1,\n",
        " -1,\n",
        " -1,\n",
        " -1,\n",
        " -1,\n",
        " 20246790,\n",
        " -1,\n",
        " 4603929,\n",
        " -1,\n",
        " -1,\n",
        " -1,\n",
        " -1,\n",
        " -1,\n",
        " -1,\n",
        " 2592,\n",
        " -1,\n",
        " -1,\n",
        " -1,\n",
        " 38120905,\n",
        " -1,\n",
        " -1,\n",
        " -1,\n",
        " 393120,\n",
        " -1,\n",
        " -1,\n",
        " -1,\n",
        " -1,\n",
        " -1,\n",
        " -1,\n",
        " -1,\n",
        " -1,\n",
        " 24500000,\n",
        " -1,\n",
        " -1,\n",
        " 9188150,\n",
        " -1,\n",
        " -1,\n",
        " -1,\n",
        " -1,\n",
        " -1,\n",
        " -1,\n",
        " -1,\n",
        " -1,\n",
        " -1,\n",
        " -1,\n",
        " 34868327,\n",
        " -1,\n",
        " -1,\n",
        " -1,\n",
        " -1,\n",
        " -1,\n",
        " 191125,\n",
        " -1,\n",
        " -1,\n",
        " -1,\n",
        " -1,\n",
        " -1,\n",
        " -1,\n",
        " -1,\n",
        " -1,\n",
        " -1,\n",
        " -1,\n",
        " -1,\n",
        " -1,\n",
        " -1,\n",
        " -1,\n",
        " -1,\n",
        " -1,\n",
        " -1,\n",
        " -1,\n",
        " -1,\n",
        " -1,\n",
        " -1,\n",
        " -1,\n",
        " 1193062,\n",
        " -1,\n",
        " 1640678,\n",
        " -1,\n",
        " -1,\n",
        " -1,\n",
        " -1,\n",
        " -1,\n",
        " -1,\n",
        " -1,\n",
        " -1,\n",
        " 14262234,\n",
        " -1,\n",
        " -1,\n",
        " -1,\n",
        " -1,\n",
        " -1,\n",
        " -1,\n",
        " -1,\n",
        " -1,\n",
        " -1,\n",
        " -1,\n",
        " -1,\n",
        " -1,\n",
        " -1,\n",
        " -1,\n",
        " -1,\n",
        " -1,\n",
        " -1,\n",
        " -1,\n",
        " -1,\n",
        " -1,\n",
        " -1,\n",
        " -1,\n",
        " -1,\n",
        " -1,\n",
        " -1,\n",
        " -1,\n",
        " -1,\n",
        " -1,\n",
        " -1,\n",
        " -1,\n",
        " -1,\n",
        " 65000000,\n",
        " -1,\n",
        " -1,\n",
        " -1,\n",
        " -1,\n",
        " -1,\n",
        " -1,\n",
        " -1,\n",
        " -1,\n",
        " -1,\n",
        " -1,\n",
        " -1,\n",
        " -1,\n",
        " -1,\n",
        " -1,\n",
        " -1,\n",
        " -1,\n",
        " 35154,\n",
        " -1,\n",
        " -1,\n",
        " -1,\n",
        " -1,\n",
        " -1,\n",
        " -1,\n",
        " -1,\n",
        " -1,\n",
        " -1,\n",
        " -1,\n",
        " -1,\n",
        " -1,\n",
        " -1,\n",
        " -1,\n",
        " 136185,\n",
        " -1,\n",
        " -1,\n",
        " -1,\n",
        " -1,\n",
        " -1,\n",
        " -1,\n",
        " -1,\n",
        " -1,\n",
        " -1,\n",
        " -1,\n",
        " -1,\n",
        " -1,\n",
        " -1,\n",
        " -1,\n",
        " -1,\n",
        " -1,\n",
        " 27207265,\n",
        " -1,\n",
        " -1,\n",
        " -1,\n",
        " -1,\n",
        " 25966555,\n",
        " -1,\n",
        " -1,\n",
        " -1,\n",
        " -1,\n",
        " -1,\n",
        " -1,\n",
        " -1,\n",
        " -1,\n",
        " -1,\n",
        " -1,\n",
        " -1,\n",
        " -1,\n",
        " -1,\n",
        " -1,\n",
        " 1192505,\n",
        " -1,\n",
        " -1,\n",
        " -1,\n",
        " -1,\n",
        " -1,\n",
        " -1,\n",
        " -1,\n",
        " -1,\n",
        " 160395,\n",
        " -1,\n",
        " -1,\n",
        " -1,\n",
        " -1,\n",
        " -1,\n",
        " -1,\n",
        " -1,\n",
        " -1,\n",
        " -1,\n",
        " -1,\n",
        " -1,\n",
        " -1,\n",
        " 80000000,\n",
        " 139470392,\n",
        " 139470392,\n",
        " -1,\n",
        " -1,\n",
        " -1,\n",
        " -1,\n",
        " -1,\n",
        " -1,\n",
        " -1,\n",
        " -1,\n",
        " -1,\n",
        " -1,\n",
        " -1,\n",
        " -1,\n",
        " 975,\n",
        " -1,\n",
        " -1,\n",
        " -1,\n",
        " -1,\n",
        " -1,\n",
        " 1591,\n",
        " -1,\n",
        " -1,\n",
        " -1,\n",
        " -1,\n",
        " 162744850,\n",
        " 37500000,\n",
        " -1,\n",
        " -1,\n",
        " 2687008,\n",
        " -1,\n",
        " -1,\n",
        " -1,\n",
        " -1,\n",
        " -1,\n",
        " 26357000,\n",
        " -1,\n",
        " -1,\n",
        " -1,\n",
        " -1,\n",
        " -1,\n",
        " -1,\n",
        " -1,\n",
        " -1,\n",
        " -1,\n",
        " -1,\n",
        " -1,\n",
        " -1,\n",
        " 569874,\n",
        " -1,\n",
        " -1,\n",
        " -1,\n",
        " -1,\n",
        " -1,\n",
        " -1,\n",
        " -1,\n",
        " -1,\n",
        " -1,\n",
        " -1,\n",
        " -1,\n",
        " -1,\n",
        " -1,\n",
        " -1,\n",
        " -1,\n",
        " -1,\n",
        " -1,\n",
        " -1,\n",
        " -1,\n",
        " 74681912,\n",
        " -1,\n",
        " -1,\n",
        " -1,\n",
        " 17092453,\n",
        " -1,\n",
        " -1,\n",
        " -1,\n",
        " -1,\n",
        " -1,\n",
        " -1,\n",
        " -1,\n",
        " -1,\n",
        " -1,\n",
        " -1,\n",
        " -1,\n",
        " -1,\n",
        " 48017402,\n",
        " -1,\n",
        " -1,\n",
        " -1,\n",
        " -1,\n",
        " -1,\n",
        " -1,\n",
        " -1,\n",
        " -1,\n",
        " -1,\n",
        " -1,\n",
        " -1,\n",
        " -1,\n",
        " -1,\n",
        " -1,\n",
        " -1,\n",
        " -1,\n",
        " -1,\n",
        " -1,\n",
        " -1,\n",
        " -1,\n",
        " -1,\n",
        " -1,\n",
        " -1,\n",
        " -1,\n",
        " -1,\n",
        " -1,\n",
        " -1,\n",
        " -1,\n",
        " -1,\n",
        " 1599655,\n",
        " -1,\n",
        " -1,\n",
        " -1,\n",
        " -1,\n",
        " -1,\n",
        " -1,\n",
        " 50727056,\n",
        " -1,\n",
        " -1,\n",
        " -1,\n",
        " -1,\n",
        " -1,\n",
        " -1,\n",
        " -1,\n",
        " -1,\n",
        " -1,\n",
        " -1,\n",
        " -1,\n",
        " -1,\n",
        " -1,\n",
        " -1,\n",
        " -1,\n",
        " -1,\n",
        " -1,\n",
        " -1,\n",
        " 121936132,\n",
        " 172667450,\n",
        " 48140491,\n",
        " -1,\n",
        " -1,\n",
        " -1,\n",
        " 1995334,\n",
        " -1,\n",
        " -1,\n",
        " -1,\n",
        " -1,\n",
        " -1,\n",
        " 2548,\n",
        " -1,\n",
        " -1,\n",
        " -1,\n",
        " -1,\n",
        " -1,\n",
        " -1,\n",
        " -1,\n",
        " -1,\n",
        " -1,\n",
        " -1,\n",
        " -1,\n",
        " -1,\n",
        " -1,\n",
        " 6044652,\n",
        " -1,\n",
        " -1,\n",
        " -1,\n",
        " -1,\n",
        " -1,\n",
        " -1,\n",
        " -1,\n",
        " -1,\n",
        " -1,\n",
        " -1,\n",
        " -1,\n",
        " -1,\n",
        " -1,\n",
        " -1,\n",
        " -1,\n",
        " -1,\n",
        " 4983565,\n",
        " -1,\n",
        " -1,\n",
        " -1,\n",
        " -1,\n",
        " -1,\n",
        " -1,\n",
        " -1,\n",
        " -1,\n",
        " -1,\n",
        " -1,\n",
        " -1,\n",
        " -1,\n",
        " -1,\n",
        " -1,\n",
        " 70835374,\n",
        " -1,\n",
        " -1,\n",
        " -1,\n",
        " -1,\n",
        " -1,\n",
        " -1,\n",
        " -1,\n",
        " -1,\n",
        " -1,\n",
        " -1,\n",
        " -1,\n",
        " -1,\n",
        " -1,\n",
        " -1,\n",
        " -1,\n",
        " -1,\n",
        " 11092,\n",
        " -1,\n",
        " -1,\n",
        " -1,\n",
        " -1,\n",
        " -1,\n",
        " -1,\n",
        " -1,\n",
        " -1,\n",
        " -1,\n",
        " -1,\n",
        " -1,\n",
        " -1,\n",
        " -1,\n",
        " -1,\n",
        " -1,\n",
        " -1,\n",
        " -1,\n",
        " -1,\n",
        " -1,\n",
        " -1,\n",
        " -1,\n",
        " 106614100,\n",
        " -1,\n",
        " -1,\n",
        " -1,\n",
        " -1,\n",
        " -1,\n",
        " -1,\n",
        " -1,\n",
        " -1,\n",
        " -1,\n",
        " -1,\n",
        " -1,\n",
        " -1,\n",
        " -1,\n",
        " -1,\n",
        " -1,\n",
        " -1,\n",
        " -1,\n",
        " -1,\n",
        " -1,\n",
        " -1,\n",
        " -1,\n",
        " -1,\n",
        " -1,\n",
        " -1,\n",
        " -1,\n",
        " -1,\n",
        " -1,\n",
        " -1,\n",
        " -1,\n",
        " -1,\n",
        " 36300000,\n",
        " 35112679,\n",
        " -1,\n",
        " -1,\n",
        " -1,\n",
        " 1152375,\n",
        " -1,\n",
        " -1,\n",
        " -1,\n",
        " -1,\n",
        " -1,\n",
        " -1,\n",
        " -1,\n",
        " -1,\n",
        " -1,\n",
        " -1,\n",
        " -1,\n",
        " -1,\n",
        " -1,\n",
        " -1,\n",
        " -1,\n",
        " 350523625,\n",
        " -1,\n",
        " 126533006,\n",
        " 49946994,\n",
        " -1,\n",
        " -1,\n",
        " -1,\n",
        " -1,\n",
        " -1,\n",
        " -1,\n",
        " -1,\n",
        " -1,\n",
        " -1,\n",
        " -1,\n",
        " -1,\n",
        " -1,\n",
        " -1,\n",
        " -1,\n",
        " -1,\n",
        " -1,\n",
        " -1,\n",
        " 77698625,\n",
        " -1,\n",
        " 39514713,\n",
        " -1,\n",
        " -1,\n",
        " -1,\n",
        " -1,\n",
        " -1,\n",
        " 63095271,\n",
        " -1,\n",
        " -1,\n",
        " -1,\n",
        " -1,\n",
        " -1,\n",
        " -1,\n",
        " -1,\n",
        " -1,\n",
        " -1,\n",
        " 64964,\n",
        " -1,\n",
        " -1,\n",
        " -1,\n",
        " 1029721,\n",
        " -1,\n",
        " -1,\n",
        " -1,\n",
        " 183875760,\n",
        " -1,\n",
        " -1,\n",
        " -1,\n",
        " -1,\n",
        " -1,\n",
        " -1,\n",
        " -1,\n",
        " -1,\n",
        " -1,\n",
        " 460911,\n",
        " -1,\n",
        " -1,\n",
        " -1,\n",
        " -1,\n",
        " -1,\n",
        " -1,\n",
        " -1,\n",
        " -1,\n",
        " -1,\n",
        " -1,\n",
        " -1,\n",
        " -1,\n",
        " -1,\n",
        " -1,\n",
        " -1,\n",
        " -1,\n",
        " 21228893,\n",
        " -1,\n",
        " -1,\n",
        " -1,\n",
        " -1,\n",
        " -1,\n",
        " -1,\n",
        " -1,\n",
        " -1,\n",
        " -1,\n",
        " -1,\n",
        " -1,\n",
        " -1,\n",
        " -1,\n",
        " -1,\n",
        " -1,\n",
        " -1,\n",
        " -1,\n",
        " -1,\n",
        " -1,\n",
        " -1,\n",
        " -1,\n",
        " 118631,\n",
        " -1,\n",
        " -1,\n",
        " -1,\n",
        " -1,\n",
        " 54207,\n",
        " -1,\n",
        " -1,\n",
        " -1,\n",
        " -1,\n",
        " -1,\n",
        " 58055768,\n",
        " 49871207,\n",
        " -1,\n",
        " -1,\n",
        " -1,\n",
        " -1,\n",
        " -1,\n",
        " -1,\n",
        " -1,\n",
        " -1,\n",
        " -1,\n",
        " -1,\n",
        " -1,\n",
        " -1,\n",
        " -1,\n",
        " -1,\n",
        " -1,\n",
        " -1,\n",
        " -1,\n",
        " -1,\n",
        " -1,\n",
        " 96045248,\n",
        " -1,\n",
        " 48919043,\n",
        " -1,\n",
        " -1,\n",
        " -1,\n",
        " -1,\n",
        " -1,\n",
        " -1,\n",
        " -1,\n",
        " 10340263,\n",
        " -1,\n",
        " -1,\n",
        " ...]"
       ]
      }
     ],
     "prompt_number": 8
    },
    {
     "cell_type": "code",
     "collapsed": false,
     "input": [
      "MovieTable[\"BoxOffice\"] = gross_list"
     ],
     "language": "python",
     "metadata": {},
     "outputs": []
    },
    {
     "cell_type": "code",
     "collapsed": false,
     "input": [
      "print float(count)/float(MovieTable.shape[0])"
     ],
     "language": "python",
     "metadata": {},
     "outputs": [
      {
       "output_type": "stream",
       "stream": "stdout",
       "text": [
        "0.0522007514761\n"
       ]
      }
     ],
     "prompt_number": 10
    },
    {
     "cell_type": "code",
     "collapsed": false,
     "input": [
      "data2"
     ],
     "language": "python",
     "metadata": {},
     "outputs": [
      {
       "metadata": {},
       "output_type": "pyout",
       "prompt_number": 119,
       "text": [
        "'Gross</h5>\\n$29,381,956 (USA)<br/>$44,926,706 (worldwide)<br/>$15,544,750 (Non-USA)<br/>\\n<br/>\\n\\n<h5>Filming Dates</h5>\\n<a href=\"/date/01-23/\">23 January</a> <a href=\"/year/1990/\">1990'"
       ]
      }
     ],
     "prompt_number": 119
    },
    {
     "cell_type": "code",
     "collapsed": false,
     "input": [
      "MovieTable[\"imdb\"]"
     ],
     "language": "python",
     "metadata": {},
     "outputs": [
      {
       "metadata": {},
       "output_type": "pyout",
       "prompt_number": 114,
       "text": [
        "7452"
       ]
      }
     ],
     "prompt_number": 114
    },
    {
     "cell_type": "code",
     "collapsed": false,
     "input": [
      "imdb_id"
     ],
     "language": "python",
     "metadata": {},
     "outputs": [
      {
       "metadata": {},
       "output_type": "pyout",
       "prompt_number": 21,
       "text": [
        "'0100814'"
       ]
      }
     ],
     "prompt_number": 21
    },
    {
     "cell_type": "code",
     "collapsed": false,
     "input": [
      "f"
     ],
     "language": "python",
     "metadata": {},
     "outputs": [
      {
       "metadata": {},
       "output_type": "pyout",
       "prompt_number": 22,
       "text": [
        "<addinfourl at 274790408L whose fp = <socket._fileobject object at 0x0000000010577C00>>"
       ]
      }
     ],
     "prompt_number": 22
    },
    {
     "cell_type": "code",
     "collapsed": false,
     "input": [
      "data = f.read()"
     ],
     "language": "python",
     "metadata": {},
     "outputs": [
      {
       "ename": "error",
       "evalue": "[Errno 10054] An existing connection was forcibly closed by the remote host",
       "output_type": "pyerr",
       "traceback": [
        "\u001b[1;31m---------------------------------------------------------------------------\u001b[0m\n\u001b[1;31merror\u001b[0m                                     Traceback (most recent call last)",
        "\u001b[1;32m<ipython-input-23-a1e4f39d99cc>\u001b[0m in \u001b[0;36m<module>\u001b[1;34m()\u001b[0m\n\u001b[1;32m----> 1\u001b[1;33m \u001b[0mdata\u001b[0m \u001b[1;33m=\u001b[0m \u001b[0mf\u001b[0m\u001b[1;33m.\u001b[0m\u001b[0mread\u001b[0m\u001b[1;33m(\u001b[0m\u001b[1;33m)\u001b[0m\u001b[1;33m\u001b[0m\u001b[0m\n\u001b[0m",
        "\u001b[1;32mC:\\Anaconda\\lib\\socket.pyc\u001b[0m in \u001b[0;36mread\u001b[1;34m(self, size)\u001b[0m\n\u001b[0;32m    349\u001b[0m             \u001b[1;32mwhile\u001b[0m \u001b[0mTrue\u001b[0m\u001b[1;33m:\u001b[0m\u001b[1;33m\u001b[0m\u001b[0m\n\u001b[0;32m    350\u001b[0m                 \u001b[1;32mtry\u001b[0m\u001b[1;33m:\u001b[0m\u001b[1;33m\u001b[0m\u001b[0m\n\u001b[1;32m--> 351\u001b[1;33m                     \u001b[0mdata\u001b[0m \u001b[1;33m=\u001b[0m \u001b[0mself\u001b[0m\u001b[1;33m.\u001b[0m\u001b[0m_sock\u001b[0m\u001b[1;33m.\u001b[0m\u001b[0mrecv\u001b[0m\u001b[1;33m(\u001b[0m\u001b[0mrbufsize\u001b[0m\u001b[1;33m)\u001b[0m\u001b[1;33m\u001b[0m\u001b[0m\n\u001b[0m\u001b[0;32m    352\u001b[0m                 \u001b[1;32mexcept\u001b[0m \u001b[0merror\u001b[0m\u001b[1;33m,\u001b[0m \u001b[0me\u001b[0m\u001b[1;33m:\u001b[0m\u001b[1;33m\u001b[0m\u001b[0m\n\u001b[0;32m    353\u001b[0m                     \u001b[1;32mif\u001b[0m \u001b[0me\u001b[0m\u001b[1;33m.\u001b[0m\u001b[0margs\u001b[0m\u001b[1;33m[\u001b[0m\u001b[1;36m0\u001b[0m\u001b[1;33m]\u001b[0m \u001b[1;33m==\u001b[0m \u001b[0mEINTR\u001b[0m\u001b[1;33m:\u001b[0m\u001b[1;33m\u001b[0m\u001b[0m\n",
        "\u001b[1;31merror\u001b[0m: [Errno 10054] An existing connection was forcibly closed by the remote host"
       ]
      }
     ],
     "prompt_number": 23
    },
    {
     "cell_type": "code",
     "collapsed": false,
     "input": [
      "f = urllib.urlopen(url)"
     ],
     "language": "python",
     "metadata": {},
     "outputs": [],
     "prompt_number": 24
    },
    {
     "cell_type": "code",
     "collapsed": false,
     "input": [
      "data = f.read()"
     ],
     "language": "python",
     "metadata": {},
     "outputs": [],
     "prompt_number": 26
    },
    {
     "cell_type": "code",
     "collapsed": false,
     "input": [
      "data.find(\"Opening Weekend\")"
     ],
     "language": "python",
     "metadata": {},
     "outputs": [
      {
       "metadata": {},
       "output_type": "pyout",
       "prompt_number": 27,
       "text": [
        "-1"
       ]
      }
     ],
     "prompt_number": 27
    },
    {
     "cell_type": "code",
     "collapsed": false,
     "input": [],
     "language": "python",
     "metadata": {},
     "outputs": []
    },
    {
     "cell_type": "code",
     "collapsed": false,
     "input": [],
     "language": "python",
     "metadata": {},
     "outputs": []
    },
    {
     "cell_type": "code",
     "collapsed": false,
     "input": [],
     "language": "python",
     "metadata": {},
     "outputs": []
    },
    {
     "cell_type": "code",
     "collapsed": false,
     "input": [],
     "language": "python",
     "metadata": {},
     "outputs": []
    },
    {
     "cell_type": "code",
     "collapsed": false,
     "input": [
      "count = 0\n",
      "gross_list = []\n",
      "for i in xrange(0,MovieTable.shape[0]):\n",
      "    gross_data = -1\n",
      "    time.sleep(0.05)\n",
      "    if i%100 == 0:\n",
      "        print \"Finished:\", i, \"----------------------\"\n",
      "    imdb_id = str(MovieTable[\"imdb\"][i])\n",
      "    year = int(MovieTable[\"Release\"][i][0:4])\n",
      "    # http://www.imdb.com/title/tt0110357/business\n",
      "    url = \"http://www.imdb.com/title/tt\" + imdb_id + \"/business\"\n",
      "    try:\n",
      "        f = urllib.urlopen(url)\n",
      "    except:\n",
      "        print \"Error!\", imdb_id\n",
      "        pass\n",
      "    data = f.read()\n",
      "    ind2 = data.find(\"Gross\")\n",
      "    if ind2 != -1:\n",
      "        count = count + 1\n",
      "        #data = data[ind1:]\n",
      "        ind2 = data.find(\"Gross\")\n",
      "        # >2013<\n",
      "        year1 = year + 1\n",
      "        str_year1 = \">\" + str(year1) + \"<\"\n",
      "        str_year = \">\" + str(year) + \"<\"\n",
      "        ind_year1 = data.find(str_year1, ind2)\n",
      "        ind_year = data.find(str_year, ind2)\n",
      "        if ind_year1 == -1:\n",
      "            data2 = data[ind2:ind_year+5]\n",
      "        elif ind_year == -1:\n",
      "            data2 = data[ind2:ind_year1+5]\n",
      "        elif ind_year1 < ind_year:\n",
      "            data2 = data[ind2:ind_year1+5]\n",
      "        elif ind_year < ind_year1:\n",
      "            data2 = data[ind2:ind_year+5]\n",
      "        else:\n",
      "            print \"no way\", imdb_id\n",
      "        #print data2\n",
      "        ind4 = data2.rfind(\"(USA)\")\n",
      "        ind3 = data2.rfind(\"$\")\n",
      "        if ind4 == -1 or ind3 == -1:\n",
      "            pass #gross_data = -1\n",
      "        else:\n",
      "            data3 = data2[ind3+1:ind4-1]\n",
      "            try:\n",
      "                gross_data = int(data3.replace(\",\", \"\"))\n",
      "            except:\n",
      "                print str(MovieTable[\"Movie\"][i])\n",
      "    else:\n",
      "        print \"no office data\", imdb_id\n",
      "        pass\n",
      "    gross_list.append(gross_data)\n",
      "print float(count)/float(MovieTable.shape[0])"
     ],
     "language": "python",
     "metadata": {},
     "outputs": [
      {
       "output_type": "stream",
       "stream": "stdout",
       "text": [
        "Finished: 0 ----------------------\n",
        "no office data"
       ]
      },
      {
       "output_type": "stream",
       "stream": "stdout",
       "text": [
        " 0098486\n",
        "no office data"
       ]
      },
      {
       "output_type": "stream",
       "stream": "stdout",
       "text": [
        " 0099875\n",
        "no office data"
       ]
      },
      {
       "output_type": "stream",
       "stream": "stdout",
       "text": [
        " 0099134\n",
        "no office data"
       ]
      },
      {
       "output_type": "stream",
       "stream": "stdout",
       "text": [
        " 0100266\n",
        "no office data"
       ]
      },
      {
       "output_type": "stream",
       "stream": "stdout",
       "text": [
        " 0099259\n",
        "no office data"
       ]
      },
      {
       "output_type": "stream",
       "stream": "stdout",
       "text": [
        " 0100351\n",
        "no office data"
       ]
      },
      {
       "output_type": "stream",
       "stream": "stdout",
       "text": [
        " 0100772\n",
        "no office data"
       ]
      },
      {
       "output_type": "stream",
       "stream": "stdout",
       "text": [
        " 0097910\n",
        "no office data"
       ]
      },
      {
       "output_type": "stream",
       "stream": "stdout",
       "text": [
        " 0099387\n",
        "no office data"
       ]
      },
      {
       "output_type": "stream",
       "stream": "stdout",
       "text": [
        " 0100537\n",
        "no office data"
       ]
      },
      {
       "output_type": "stream",
       "stream": "stdout",
       "text": [
        " 0098375\n",
        "no office data"
       ]
      },
      {
       "output_type": "stream",
       "stream": "stdout",
       "text": [
        " 0100209\n",
        "no office data"
       ]
      },
      {
       "output_type": "stream",
       "stream": "stdout",
       "text": [
        " 0098971\n",
        "no office data"
       ]
      },
      {
       "output_type": "stream",
       "stream": "stdout",
       "text": [
        " 0100637\n",
        "no office data"
       ]
      },
      {
       "output_type": "stream",
       "stream": "stdout",
       "text": [
        " 0100660\n",
        "no office data"
       ]
      },
      {
       "output_type": "stream",
       "stream": "stdout",
       "text": [
        " 0100288\n",
        "no office data"
       ]
      },
      {
       "output_type": "stream",
       "stream": "stdout",
       "text": [
        " 0097302\n",
        "no office data"
       ]
      },
      {
       "output_type": "stream",
       "stream": "stdout",
       "text": [
        " 0099842\n",
        "no office data"
       ]
      },
      {
       "output_type": "stream",
       "stream": "stdout",
       "text": [
        " 0100272\n",
        "no office data"
       ]
      },
      {
       "output_type": "stream",
       "stream": "stdout",
       "text": [
        " 0100274\n",
        "no office data"
       ]
      },
      {
       "output_type": "stream",
       "stream": "stdout",
       "text": [
        " 0100871\n",
        "no office data"
       ]
      },
      {
       "output_type": "stream",
       "stream": "stdout",
       "text": [
        " 0099026\n",
        "no office data"
       ]
      },
      {
       "output_type": "stream",
       "stream": "stdout",
       "text": [
        " 0101369\n",
        "no office data"
       ]
      },
      {
       "output_type": "stream",
       "stream": "stdout",
       "text": [
        " 0100811\n",
        "no office data"
       ]
      },
      {
       "output_type": "stream",
       "stream": "stdout",
       "text": [
        " 0099262\n",
        "no office data"
       ]
      },
      {
       "output_type": "stream",
       "stream": "stdout",
       "text": [
        " 0099721\n",
        "no office data"
       ]
      },
      {
       "output_type": "stream",
       "stream": "stdout",
       "text": [
        " 0101005\n",
        "no office data"
       ]
      },
      {
       "output_type": "stream",
       "stream": "stdout",
       "text": [
        " 0099596\n",
        "no office data"
       ]
      },
      {
       "output_type": "stream",
       "stream": "stdout",
       "text": [
        " 0088269\n",
        "no office data"
       ]
      },
      {
       "output_type": "stream",
       "stream": "stdout",
       "text": [
        " 0096875\n",
        "no office data"
       ]
      },
      {
       "output_type": "stream",
       "stream": "stdout",
       "text": [
        " 0242509\n",
        "no office data"
       ]
      },
      {
       "output_type": "stream",
       "stream": "stdout",
       "text": [
        " 0099271\n",
        "no office data"
       ]
      },
      {
       "output_type": "stream",
       "stream": "stdout",
       "text": [
        " 0102895\n",
        "no office data"
       ]
      },
      {
       "output_type": "stream",
       "stream": "stdout",
       "text": [
        " 0102895\n",
        "no office data"
       ]
      },
      {
       "output_type": "stream",
       "stream": "stdout",
       "text": [
        " 0098395\n",
        "no office data"
       ]
      },
      {
       "output_type": "stream",
       "stream": "stdout",
       "text": [
        " 0097668\n",
        "no office data"
       ]
      },
      {
       "output_type": "stream",
       "stream": "stdout",
       "text": [
        " 0099187\n",
        "no office data"
       ]
      },
      {
       "output_type": "stream",
       "stream": "stdout",
       "text": [
        " 0363630\n",
        "no office data"
       ]
      },
      {
       "output_type": "stream",
       "stream": "stdout",
       "text": [
        " 0099252\n",
        "no office data"
       ]
      },
      {
       "output_type": "stream",
       "stream": "stdout",
       "text": [
        " 0519915\n",
        "Finished:"
       ]
      },
      {
       "output_type": "stream",
       "stream": "stdout",
       "text": [
        " 100 ----------------------\n",
        "no office data"
       ]
      },
      {
       "output_type": "stream",
       "stream": "stdout",
       "text": [
        " 0097667\n",
        "no office data"
       ]
      },
      {
       "output_type": "stream",
       "stream": "stdout",
       "text": [
        " 0102170\n",
        "no office data"
       ]
      },
      {
       "output_type": "stream",
       "stream": "stdout",
       "text": [
        " 0099227\n",
        "no office data"
       ]
      },
      {
       "output_type": "stream",
       "stream": "stdout",
       "text": [
        " 0099429\n",
        "no office data"
       ]
      },
      {
       "output_type": "stream",
       "stream": "stdout",
       "text": [
        " 0242952\n",
        "no office data"
       ]
      },
      {
       "output_type": "stream",
       "stream": "stdout",
       "text": [
        " 0099652\n",
        "no office data"
       ]
      },
      {
       "output_type": "stream",
       "stream": "stdout",
       "text": [
        " 0149573\n",
        "no office data"
       ]
      },
      {
       "output_type": "stream",
       "stream": "stdout",
       "text": [
        " 0100414\n",
        "no office data"
       ]
      },
      {
       "output_type": "stream",
       "stream": "stdout",
       "text": [
        " 0099557\n",
        "no office data"
       ]
      },
      {
       "output_type": "stream",
       "stream": "stdout",
       "text": [
        " 0099493\n",
        "no office data"
       ]
      },
      {
       "output_type": "stream",
       "stream": "stdout",
       "text": [
        " 0100291\n",
        "no office data"
       ]
      },
      {
       "output_type": "stream",
       "stream": "stdout",
       "text": [
        " 0099502\n",
        "no office data"
       ]
      },
      {
       "output_type": "stream",
       "stream": "stdout",
       "text": [
        " 0099625\n",
        "no office data"
       ]
      },
      {
       "output_type": "stream",
       "stream": "stdout",
       "text": [
        " 0099401\n",
        "no office data"
       ]
      },
      {
       "output_type": "stream",
       "stream": "stdout",
       "text": [
        " 0099856\n",
        "no office data"
       ]
      },
      {
       "output_type": "stream",
       "stream": "stdout",
       "text": [
        " 0099701\n",
        "no office data"
       ]
      },
      {
       "output_type": "stream",
       "stream": "stdout",
       "text": [
        " 0100469\n",
        "no office data"
       ]
      },
      {
       "output_type": "stream",
       "stream": "stdout",
       "text": [
        " 0099637\n",
        "no office data"
       ]
      },
      {
       "output_type": "stream",
       "stream": "stdout",
       "text": [
        " 0101742\n",
        "no office data"
       ]
      },
      {
       "output_type": "stream",
       "stream": "stdout",
       "text": [
        " 0097573\n",
        "no office data"
       ]
      },
      {
       "output_type": "stream",
       "stream": "stdout",
       "text": [
        " 0098321\n",
        "no office data"
       ]
      },
      {
       "output_type": "stream",
       "stream": "stdout",
       "text": [
        " 0102148\n",
        "no office data"
       ]
      },
      {
       "output_type": "stream",
       "stream": "stdout",
       "text": [
        " 0099149\n",
        "Pacific Heights"
       ]
      },
      {
       "output_type": "stream",
       "stream": "stdout",
       "text": [
        "\n",
        "Death Warrant"
       ]
      },
      {
       "output_type": "stream",
       "stream": "stdout",
       "text": [
        "\n",
        "no office data"
       ]
      },
      {
       "output_type": "stream",
       "stream": "stdout",
       "text": [
        " 0102330\n",
        "no office data"
       ]
      },
      {
       "output_type": "stream",
       "stream": "stdout",
       "text": [
        " 0100202\n",
        "no office data"
       ]
      },
      {
       "output_type": "stream",
       "stream": "stdout",
       "text": [
        " 0100976\n",
        "no office data"
       ]
      },
      {
       "output_type": "stream",
       "stream": "stdout",
       "text": [
        " 0100269\n",
        "no office data"
       ]
      },
      {
       "output_type": "stream",
       "stream": "stdout",
       "text": [
        " 0099764\n",
        "no office data"
       ]
      },
      {
       "output_type": "stream",
       "stream": "stdout",
       "text": [
        " 0099153\n",
        "no office data"
       ]
      },
      {
       "output_type": "stream",
       "stream": "stdout",
       "text": [
        " 0100075\n",
        "no office data"
       ]
      },
      {
       "output_type": "stream",
       "stream": "stdout",
       "text": [
        " 0100624\n",
        "no office data"
       ]
      },
      {
       "output_type": "stream",
       "stream": "stdout",
       "text": [
        " 0100169\n",
        "no office data"
       ]
      },
      {
       "output_type": "stream",
       "stream": "stdout",
       "text": [
        " 0100711\n",
        "no office data"
       ]
      },
      {
       "output_type": "stream",
       "stream": "stdout",
       "text": [
        " 0100826\n",
        "no office data"
       ]
      },
      {
       "output_type": "stream",
       "stream": "stdout",
       "text": [
        " 0099390\n",
        "Dances With Wolves"
       ]
      },
      {
       "output_type": "stream",
       "stream": "stdout",
       "text": [
        "\n",
        "no office data"
       ]
      },
      {
       "output_type": "stream",
       "stream": "stdout",
       "text": [
        " 0103100\n",
        "no office data"
       ]
      },
      {
       "output_type": "stream",
       "stream": "stdout",
       "text": [
        " 0105643\n",
        "no office data"
       ]
      },
      {
       "output_type": "stream",
       "stream": "stdout",
       "text": [
        " 0099874\n",
        "no office data"
       ]
      },
      {
       "output_type": "stream",
       "stream": "stdout",
       "text": [
        " 0103203\n",
        "no office data"
       ]
      },
      {
       "output_type": "stream",
       "stream": "stdout",
       "text": [
        " 0099564\n",
        "no office data"
       ]
      },
      {
       "output_type": "stream",
       "stream": "stdout",
       "text": [
        " 0995730\n",
        "no office data"
       ]
      },
      {
       "output_type": "stream",
       "stream": "stdout",
       "text": [
        " 0099254\n",
        "no office data"
       ]
      },
      {
       "output_type": "stream",
       "stream": "stdout",
       "text": [
        " 0458241\n",
        "no office data"
       ]
      },
      {
       "output_type": "stream",
       "stream": "stdout",
       "text": [
        " 0100156\n",
        "Finished:"
       ]
      },
      {
       "output_type": "stream",
       "stream": "stdout",
       "text": [
        " 200 ----------------------\n",
        "no office data"
       ]
      },
      {
       "output_type": "stream",
       "stream": "stdout",
       "text": [
        " 0060581\n",
        "Child's Play 2"
       ]
      },
      {
       "output_type": "stream",
       "stream": "stdout",
       "text": [
        "\n",
        "no office data"
       ]
      },
      {
       "output_type": "stream",
       "stream": "stdout",
       "text": [
        " 0101518\n",
        "no office data"
       ]
      },
      {
       "output_type": "stream",
       "stream": "stdout",
       "text": [
        " 0102205\n",
        "no office data"
       ]
      },
      {
       "output_type": "stream",
       "stream": "stdout",
       "text": [
        " 0099405\n",
        "no office data"
       ]
      },
      {
       "output_type": "stream",
       "stream": "stdout",
       "text": [
        " 0099405\n",
        "no office data"
       ]
      },
      {
       "output_type": "stream",
       "stream": "stdout",
       "text": [
        " 0099314\n",
        "no office data"
       ]
      },
      {
       "output_type": "stream",
       "stream": "stdout",
       "text": [
        " 0282672\n",
        "no office data"
       ]
      },
      {
       "output_type": "stream",
       "stream": "stdout",
       "text": [
        " 0100587\n",
        "no office data"
       ]
      },
      {
       "output_type": "stream",
       "stream": "stdout",
       "text": [
        " 0100036\n",
        "no office data"
       ]
      },
      {
       "output_type": "stream",
       "stream": "stdout",
       "text": [
        " 0121262\n",
        "no office data"
       ]
      },
      {
       "output_type": "stream",
       "stream": "stdout",
       "text": [
        " 0100954\n",
        "no office data"
       ]
      },
      {
       "output_type": "stream",
       "stream": "stdout",
       "text": [
        " 0104448\n",
        "no office data"
       ]
      },
      {
       "output_type": "stream",
       "stream": "stdout",
       "text": [
        " 0095450\n",
        "no office data"
       ]
      },
      {
       "output_type": "stream",
       "stream": "stdout",
       "text": [
        " 0095450\n",
        "no office data"
       ]
      },
      {
       "output_type": "stream",
       "stream": "stdout",
       "text": [
        " 0096932\n",
        "no office data"
       ]
      },
      {
       "output_type": "stream",
       "stream": "stdout",
       "text": [
        " 0102661\n",
        "no office data"
       ]
      },
      {
       "output_type": "stream",
       "stream": "stdout",
       "text": [
        " 0102814\n",
        "no office data"
       ]
      },
      {
       "output_type": "stream",
       "stream": "stdout",
       "text": [
        " 0103080\n",
        "no office data"
       ]
      },
      {
       "output_type": "stream",
       "stream": "stdout",
       "text": [
        " 0101426\n",
        "no office data"
       ]
      },
      {
       "output_type": "stream",
       "stream": "stdout",
       "text": [
        " 0099925\n",
        "no office data"
       ]
      },
      {
       "output_type": "stream",
       "stream": "stdout",
       "text": [
        " 0101409\n",
        "no office data"
       ]
      },
      {
       "output_type": "stream",
       "stream": "stdout",
       "text": [
        " 0100528\n",
        "no office data"
       ]
      },
      {
       "output_type": "stream",
       "stream": "stdout",
       "text": [
        " 0102629\n",
        "no office data"
       ]
      },
      {
       "output_type": "stream",
       "stream": "stdout",
       "text": [
        " 0103328\n",
        "no office data"
       ]
      },
      {
       "output_type": "stream",
       "stream": "stdout",
       "text": [
        " 0099607\n",
        "no office data"
       ]
      },
      {
       "output_type": "stream",
       "stream": "stdout",
       "text": [
        " 0102842\n",
        "no office data"
       ]
      },
      {
       "output_type": "stream",
       "stream": "stdout",
       "text": [
        " 0101897\n",
        "no office data"
       ]
      },
      {
       "output_type": "stream",
       "stream": "stdout",
       "text": [
        " 0102962\n",
        "no office data"
       ]
      },
      {
       "output_type": "stream",
       "stream": "stdout",
       "text": [
        " 0336798\n",
        "no office data"
       ]
      },
      {
       "output_type": "stream",
       "stream": "stdout",
       "text": [
        " 0102933\n",
        "no office data"
       ]
      },
      {
       "output_type": "stream",
       "stream": "stdout",
       "text": [
        " 0101328\n",
        "no office data"
       ]
      },
      {
       "output_type": "stream",
       "stream": "stdout",
       "text": [
        " 0101328\n",
        "no office data"
       ]
      },
      {
       "output_type": "stream",
       "stream": "stdout",
       "text": [
        " 0101749\n",
        "no office data"
       ]
      },
      {
       "output_type": "stream",
       "stream": "stdout",
       "text": [
        " 0102167\n",
        "no office data"
       ]
      },
      {
       "output_type": "stream",
       "stream": "stdout",
       "text": [
        " 0101476\n",
        "no office data"
       ]
      },
      {
       "output_type": "stream",
       "stream": "stdout",
       "text": [
        " 0099851\n",
        "no office data"
       ]
      },
      {
       "output_type": "stream",
       "stream": "stdout",
       "text": [
        " 0103077\n",
        "Finished:"
       ]
      },
      {
       "output_type": "stream",
       "stream": "stdout",
       "text": [
        " 300 ----------------------\n",
        "no office data"
       ]
      },
      {
       "output_type": "stream",
       "stream": "stdout",
       "text": [
        " 0102882\n",
        "no office data"
       ]
      },
      {
       "output_type": "stream",
       "stream": "stdout",
       "text": [
        " 0102638\n",
        "no office data"
       ]
      },
      {
       "output_type": "stream",
       "stream": "stdout",
       "text": [
        " 0103286\n",
        "no office data"
       ]
      },
      {
       "output_type": "stream",
       "stream": "stdout",
       "text": [
        " 0103286\n",
        "no office data"
       ]
      },
      {
       "output_type": "stream",
       "stream": "stdout",
       "text": [
        " 0327403\n",
        "no office data"
       ]
      },
      {
       "output_type": "stream",
       "stream": "stdout",
       "text": [
        " 0102879\n",
        "no office data"
       ]
      },
      {
       "output_type": "stream",
       "stream": "stdout",
       "text": [
        " 0100167\n",
        "no office data"
       ]
      },
      {
       "output_type": "stream",
       "stream": "stdout",
       "text": [
        " 0101490\n",
        "no office data"
       ]
      },
      {
       "output_type": "stream",
       "stream": "stdout",
       "text": [
        " 0100476\n",
        "no office data"
       ]
      },
      {
       "output_type": "stream",
       "stream": "stdout",
       "text": [
        " 0103017\n",
        "no office data"
       ]
      },
      {
       "output_type": "stream",
       "stream": "stdout",
       "text": [
        " 0101735\n",
        "no office data"
       ]
      },
      {
       "output_type": "stream",
       "stream": "stdout",
       "text": [
        " 0102117\n",
        "no office data"
       ]
      },
      {
       "output_type": "stream",
       "stream": "stdout",
       "text": [
        " 0101758\n",
        "no office data"
       ]
      },
      {
       "output_type": "stream",
       "stream": "stdout",
       "text": [
        " 0101483\n",
        "no office data"
       ]
      },
      {
       "output_type": "stream",
       "stream": "stdout",
       "text": [
        " 0102960\n",
        "no office data"
       ]
      },
      {
       "output_type": "stream",
       "stream": "stdout",
       "text": [
        " 0102597\n",
        "no office data"
       ]
      },
      {
       "output_type": "stream",
       "stream": "stdout",
       "text": [
        " 0101636\n",
        "no office data"
       ]
      },
      {
       "output_type": "stream",
       "stream": "stdout",
       "text": [
        " 0102585\n",
        "no office data"
       ]
      },
      {
       "output_type": "stream",
       "stream": "stdout",
       "text": [
        " 0102659\n",
        "no office data"
       ]
      },
      {
       "output_type": "stream",
       "stream": "stdout",
       "text": [
        " 0103153\n",
        "no office data"
       ]
      },
      {
       "output_type": "stream",
       "stream": "stdout",
       "text": [
        " 0103153\n",
        "no office data"
       ]
      },
      {
       "output_type": "stream",
       "stream": "stdout",
       "text": [
        " 0102770\n",
        "no office data"
       ]
      },
      {
       "output_type": "stream",
       "stream": "stdout",
       "text": [
        " 0103274\n",
        "no office data"
       ]
      },
      {
       "output_type": "stream",
       "stream": "stdout",
       "text": [
        " 0102535\n",
        "no office data"
       ]
      },
      {
       "output_type": "stream",
       "stream": "stdout",
       "text": [
        " 0102652\n",
        "no office data"
       ]
      },
      {
       "output_type": "stream",
       "stream": "stdout",
       "text": [
        " 0100541\n",
        "no office data"
       ]
      },
      {
       "output_type": "stream",
       "stream": "stdout",
       "text": [
        " 0121352\n",
        "no office data"
       ]
      },
      {
       "output_type": "stream",
       "stream": "stdout",
       "text": [
        " 0121352\n",
        "no office data"
       ]
      },
      {
       "output_type": "stream",
       "stream": "stdout",
       "text": [
        " 0380500\n",
        "no office data"
       ]
      },
      {
       "output_type": "stream",
       "stream": "stdout",
       "text": [
        " 0139859\n",
        "no office data"
       ]
      },
      {
       "output_type": "stream",
       "stream": "stdout",
       "text": [
        " 0101744\n",
        "no office data"
       ]
      },
      {
       "output_type": "stream",
       "stream": "stdout",
       "text": [
        " 0102562\n",
        "no office data"
       ]
      },
      {
       "output_type": "stream",
       "stream": "stdout",
       "text": [
        " 0101671\n",
        "no office data"
       ]
      },
      {
       "output_type": "stream",
       "stream": "stdout",
       "text": [
        " 0103014\n",
        "no office data"
       ]
      },
      {
       "output_type": "stream",
       "stream": "stdout",
       "text": [
        " 0101691\n",
        "no office data"
       ]
      },
      {
       "output_type": "stream",
       "stream": "stdout",
       "text": [
        " 0101691\n",
        "Hot Shots!"
       ]
      },
      {
       "output_type": "stream",
       "stream": "stdout",
       "text": [
        "\n",
        "no office data"
       ]
      },
      {
       "output_type": "stream",
       "stream": "stdout",
       "text": [
        " 0102587\n",
        "no office data"
       ]
      },
      {
       "output_type": "stream",
       "stream": "stdout",
       "text": [
        " 0102125\n",
        "no office data"
       ]
      },
      {
       "output_type": "stream",
       "stream": "stdout",
       "text": [
        " 0101593\n",
        "no office data"
       ]
      },
      {
       "output_type": "stream",
       "stream": "stdout",
       "text": [
        " 0101486\n",
        "no office data"
       ]
      },
      {
       "output_type": "stream",
       "stream": "stdout",
       "text": [
        " 0148639\n",
        "Double Impact"
       ]
      },
      {
       "output_type": "stream",
       "stream": "stdout",
       "text": [
        "\n",
        "no office data"
       ]
      },
      {
       "output_type": "stream",
       "stream": "stdout",
       "text": [
        " 0103312\n",
        "no office data"
       ]
      },
      {
       "output_type": "stream",
       "stream": "stdout",
       "text": [
        " 0102285\n",
        "no office data"
       ]
      },
      {
       "output_type": "stream",
       "stream": "stdout",
       "text": [
        " 0100222\n",
        "no office data"
       ]
      },
      {
       "output_type": "stream",
       "stream": "stdout",
       "text": [
        " 0102114\n",
        "no office data"
       ]
      },
      {
       "output_type": "stream",
       "stream": "stdout",
       "text": [
        " 0101482\n",
        "no office data"
       ]
      },
      {
       "output_type": "stream",
       "stream": "stdout",
       "text": [
        " 0103057\n",
        "no office data"
       ]
      },
      {
       "output_type": "stream",
       "stream": "stdout",
       "text": [
        " 0102813\n",
        "no office data"
       ]
      },
      {
       "output_type": "stream",
       "stream": "stdout",
       "text": [
        " 0102377\n",
        "no office data"
       ]
      },
      {
       "output_type": "stream",
       "stream": "stdout",
       "text": [
        " 0104567\n",
        "no office data"
       ]
      },
      {
       "output_type": "stream",
       "stream": "stdout",
       "text": [
        " 0102844\n",
        "Finished:"
       ]
      },
      {
       "output_type": "stream",
       "stream": "stdout",
       "text": [
        " 400 ----------------------\n",
        "no office data"
       ]
      },
      {
       "output_type": "stream",
       "stream": "stdout",
       "text": [
        " 0102301\n",
        "no office data"
       ]
      },
      {
       "output_type": "stream",
       "stream": "stdout",
       "text": [
        " 0101307\n",
        "no office data"
       ]
      },
      {
       "output_type": "stream",
       "stream": "stdout",
       "text": [
        " 0104922\n",
        "no office data"
       ]
      },
      {
       "output_type": "stream",
       "stream": "stdout",
       "text": [
        " 0102122\n",
        "no office data"
       ]
      },
      {
       "output_type": "stream",
       "stream": "stdout",
       "text": [
        " 0102273\n",
        "no office data"
       ]
      },
      {
       "output_type": "stream",
       "stream": "stdout",
       "text": [
        " 0417151\n",
        "no office data"
       ]
      },
      {
       "output_type": "stream",
       "stream": "stdout",
       "text": [
        " 0101489\n",
        "no office data"
       ]
      },
      {
       "output_type": "stream",
       "stream": "stdout",
       "text": [
        " 0101538\n",
        "no office data"
       ]
      },
      {
       "output_type": "stream",
       "stream": "stdout",
       "text": [
        " 0176523\n",
        "no office data"
       ]
      },
      {
       "output_type": "stream",
       "stream": "stdout",
       "text": [
        " 0102658\n",
        "no office data"
       ]
      },
      {
       "output_type": "stream",
       "stream": "stdout",
       "text": [
        " 0101877\n",
        "no office data"
       ]
      },
      {
       "output_type": "stream",
       "stream": "stdout",
       "text": [
        " 0101877\n",
        "no office data"
       ]
      },
      {
       "output_type": "stream",
       "stream": "stdout",
       "text": [
        " 0101877\n",
        "no office data"
       ]
      },
      {
       "output_type": "stream",
       "stream": "stdout",
       "text": [
        " 0103191\n",
        "no office data"
       ]
      },
      {
       "output_type": "stream",
       "stream": "stdout",
       "text": [
        " 0101675\n",
        "no office data"
       ]
      },
      {
       "output_type": "stream",
       "stream": "stdout",
       "text": [
        " 0102485\n",
        "no office data"
       ]
      },
      {
       "output_type": "stream",
       "stream": "stdout",
       "text": [
        " 0102128\n",
        "no office data"
       ]
      },
      {
       "output_type": "stream",
       "stream": "stdout",
       "text": [
        " 0101911\n",
        "no office data"
       ]
      },
      {
       "output_type": "stream",
       "stream": "stdout",
       "text": [
        " 0101739\n",
        "no office data"
       ]
      },
      {
       "output_type": "stream",
       "stream": "stdout",
       "text": [
        " 0099374\n",
        "no office data"
       ]
      },
      {
       "output_type": "stream",
       "stream": "stdout",
       "text": [
        " 0099274\n",
        "no office data"
       ]
      },
      {
       "output_type": "stream",
       "stream": "stdout",
       "text": [
        " 0105791\n",
        "no office data"
       ]
      },
      {
       "output_type": "stream",
       "stream": "stdout",
       "text": [
        " 0103704\n",
        "no office data"
       ]
      },
      {
       "output_type": "stream",
       "stream": "stdout",
       "text": [
        " 0102624\n",
        "no office data"
       ]
      },
      {
       "output_type": "stream",
       "stream": "stdout",
       "text": [
        " 0181051\n",
        "no office data"
       ]
      },
      {
       "output_type": "stream",
       "stream": "stdout",
       "text": [
        " 0102591\n",
        "no office data"
       ]
      },
      {
       "output_type": "stream",
       "stream": "stdout",
       "text": [
        " 0101197\n",
        "no office data"
       ]
      },
      {
       "output_type": "stream",
       "stream": "stdout",
       "text": [
        " 0432858\n",
        "no office data"
       ]
      },
      {
       "output_type": "stream",
       "stream": "stdout",
       "text": [
        " 0099935\n",
        "no office data"
       ]
      },
      {
       "output_type": "stream",
       "stream": "stdout",
       "text": [
        " 0101725\n",
        "no office data"
       ]
      },
      {
       "output_type": "stream",
       "stream": "stdout",
       "text": [
        " 0102695\n",
        "no office data"
       ]
      },
      {
       "output_type": "stream",
       "stream": "stdout",
       "text": [
        " 0101933\n",
        "no office data"
       ]
      },
      {
       "output_type": "stream",
       "stream": "stdout",
       "text": [
        " 0101394\n",
        "no office data"
       ]
      },
      {
       "output_type": "stream",
       "stream": "stdout",
       "text": [
        " 0102230\n",
        "no office data"
       ]
      },
      {
       "output_type": "stream",
       "stream": "stdout",
       "text": [
        " 0102136\n",
        "JFK"
       ]
      },
      {
       "output_type": "stream",
       "stream": "stdout",
       "text": [
        "\n",
        "Star Trek VI - The Undiscovered Country"
       ]
      },
      {
       "output_type": "stream",
       "stream": "stdout",
       "text": [
        "\n",
        "Fried Green Tomatoes"
       ]
      },
      {
       "output_type": "stream",
       "stream": "stdout",
       "text": [
        "\n",
        "no office data"
       ]
      },
      {
       "output_type": "stream",
       "stream": "stdout",
       "text": [
        " 0104999\n",
        "no office data"
       ]
      },
      {
       "output_type": "stream",
       "stream": "stdout",
       "text": [
        " 0121297\n",
        "no office data"
       ]
      },
      {
       "output_type": "stream",
       "stream": "stdout",
       "text": [
        " 0104218\n",
        "no office data"
       ]
      },
      {
       "output_type": "stream",
       "stream": "stdout",
       "text": [
        " 0582395\n",
        "The Hand That Rocks the Cradle"
       ]
      },
      {
       "output_type": "stream",
       "stream": "stdout",
       "text": [
        "\n",
        "no office data"
       ]
      },
      {
       "output_type": "stream",
       "stream": "stdout",
       "text": [
        " 0105644\n",
        "no office data"
       ]
      },
      {
       "output_type": "stream",
       "stream": "stdout",
       "text": [
        " 0105322\n",
        "Finished:"
       ]
      },
      {
       "output_type": "stream",
       "stream": "stdout",
       "text": [
        " 500 ----------------------\n",
        "no office data"
       ]
      },
      {
       "output_type": "stream",
       "stream": "stdout",
       "text": [
        " 0106279\n",
        "no office data"
       ]
      },
      {
       "output_type": "stream",
       "stream": "stdout",
       "text": [
        " 0099814\n",
        "no office data"
       ]
      },
      {
       "output_type": "stream",
       "stream": "stdout",
       "text": [
        " 0099814\n",
        "Memoirs of an Invisible Man"
       ]
      },
      {
       "output_type": "stream",
       "stream": "stdout",
       "text": [
        "\n",
        "no office data"
       ]
      },
      {
       "output_type": "stream",
       "stream": "stdout",
       "text": [
        " 0103800\n",
        "no office data"
       ]
      },
      {
       "output_type": "stream",
       "stream": "stdout",
       "text": [
        " 0105833\n",
        "no office data"
       ]
      },
      {
       "output_type": "stream",
       "stream": "stdout",
       "text": [
        " 0103295\n",
        "no office data"
       ]
      },
      {
       "output_type": "stream",
       "stream": "stdout",
       "text": [
        " 0104984\n",
        "no office data"
       ]
      },
      {
       "output_type": "stream",
       "stream": "stdout",
       "text": [
        " 0266875\n",
        "no office data"
       ]
      },
      {
       "output_type": "stream",
       "stream": "stdout",
       "text": [
        " 0195105\n",
        "no office data"
       ]
      },
      {
       "output_type": "stream",
       "stream": "stdout",
       "text": [
        " 0102337\n",
        "no office data"
       ]
      },
      {
       "output_type": "stream",
       "stream": "stdout",
       "text": [
        " 0101672\n",
        "no office data"
       ]
      },
      {
       "output_type": "stream",
       "stream": "stdout",
       "text": [
        " 0408029\n",
        "no office data"
       ]
      },
      {
       "output_type": "stream",
       "stream": "stdout",
       "text": [
        " 0105531\n",
        "no office data"
       ]
      },
      {
       "output_type": "stream",
       "stream": "stdout",
       "text": [
        " 0103897\n",
        "no office data"
       ]
      },
      {
       "output_type": "stream",
       "stream": "stdout",
       "text": [
        " 0105169\n",
        "no office data"
       ]
      },
      {
       "output_type": "stream",
       "stream": "stdout",
       "text": [
        " 0104267\n",
        "Basic Instinct"
       ]
      },
      {
       "output_type": "stream",
       "stream": "stdout",
       "text": [
        "\n",
        "no office data"
       ]
      },
      {
       "output_type": "stream",
       "stream": "stdout",
       "text": [
        " 0104837\n",
        "no office data"
       ]
      },
      {
       "output_type": "stream",
       "stream": "stdout",
       "text": [
        " 0104083\n",
        "no office data"
       ]
      },
      {
       "output_type": "stream",
       "stream": "stdout",
       "text": [
        " 0104130\n",
        "no office data"
       ]
      },
      {
       "output_type": "stream",
       "stream": "stdout",
       "text": [
        " 0104667\n",
        "no office data"
       ]
      },
      {
       "output_type": "stream",
       "stream": "stdout",
       "text": [
        " 0101493\n",
        "no office data"
       ]
      },
      {
       "output_type": "stream",
       "stream": "stdout",
       "text": [
        " 0102733\n",
        "no office data"
       ]
      },
      {
       "output_type": "stream",
       "stream": "stdout",
       "text": [
        " 0104118\n",
        "no office data"
       ]
      },
      {
       "output_type": "stream",
       "stream": "stdout",
       "text": [
        " 0101697\n",
        "no office data"
       ]
      },
      {
       "output_type": "stream",
       "stream": "stdout",
       "text": [
        " 0102453\n",
        "no office data"
       ]
      },
      {
       "output_type": "stream",
       "stream": "stdout",
       "text": [
        " 0101256\n",
        "no office data"
       ]
      },
      {
       "output_type": "stream",
       "stream": "stdout",
       "text": [
        " 0236283\n",
        "no office data"
       ]
      },
      {
       "output_type": "stream",
       "stream": "stdout",
       "text": [
        " 0236283\n",
        "no office data"
       ]
      },
      {
       "output_type": "stream",
       "stream": "stdout",
       "text": [
        " 0104700\n",
        "no office data"
       ]
      },
      {
       "output_type": "stream",
       "stream": "stdout",
       "text": [
        " 0102317\n",
        "no office data"
       ]
      },
      {
       "output_type": "stream",
       "stream": "stdout",
       "text": [
        " 0104886\n",
        "no office data"
       ]
      },
      {
       "output_type": "stream",
       "stream": "stdout",
       "text": [
        " 0105242\n",
        "no office data"
       ]
      },
      {
       "output_type": "stream",
       "stream": "stdout",
       "text": [
        " 0105242\n",
        "no office data"
       ]
      },
      {
       "output_type": "stream",
       "stream": "stdout",
       "text": [
        " 0104362\n",
        "no office data"
       ]
      },
      {
       "output_type": "stream",
       "stream": "stdout",
       "text": [
        " 0105604\n",
        "no office data"
       ]
      },
      {
       "output_type": "stream",
       "stream": "stdout",
       "text": [
        " 0105212\n",
        "no office data"
       ]
      },
      {
       "output_type": "stream",
       "stream": "stdout",
       "text": [
        " 0103626\n",
        "no office data"
       ]
      },
      {
       "output_type": "stream",
       "stream": "stdout",
       "text": [
        " 0104874\n",
        "no office data"
       ]
      },
      {
       "output_type": "stream",
       "stream": "stdout",
       "text": [
        " 0103825\n",
        "no office data"
       ]
      },
      {
       "output_type": "stream",
       "stream": "stdout",
       "text": [
        " 0101842\n",
        "no office data"
       ]
      },
      {
       "output_type": "stream",
       "stream": "stdout",
       "text": [
        " 0108528\n",
        "no office data"
       ]
      },
      {
       "output_type": "stream",
       "stream": "stdout",
       "text": [
        " 0104523\n",
        "no office data"
       ]
      },
      {
       "output_type": "stream",
       "stream": "stdout",
       "text": [
        " 0104018\n",
        "no office data"
       ]
      },
      {
       "output_type": "stream",
       "stream": "stdout",
       "text": [
        " 0105719\n",
        "Finished:"
       ]
      },
      {
       "output_type": "stream",
       "stream": "stdout",
       "text": [
        " 600 ----------------------\n",
        "no office data"
       ]
      },
      {
       "output_type": "stream",
       "stream": "stdout",
       "text": [
        " 0103830\n",
        "no office data"
       ]
      },
      {
       "output_type": "stream",
       "stream": "stdout",
       "text": [
        " 0105176\n",
        "no office data"
       ]
      },
      {
       "output_type": "stream",
       "stream": "stdout",
       "text": [
        " 0105176\n",
        "no office data"
       ]
      },
      {
       "output_type": "stream",
       "stream": "stdout",
       "text": [
        " 0105080\n",
        "no office data"
       ]
      },
      {
       "output_type": "stream",
       "stream": "stdout",
       "text": [
        " 0105470\n",
        "no office data"
       ]
      },
      {
       "output_type": "stream",
       "stream": "stdout",
       "text": [
        " 0104601\n",
        "no office data"
       ]
      },
      {
       "output_type": "stream",
       "stream": "stdout",
       "text": [
        " 0104605\n",
        "no office data"
       ]
      },
      {
       "output_type": "stream",
       "stream": "stdout",
       "text": [
        " 0105213\n",
        "no office data"
       ]
      },
      {
       "output_type": "stream",
       "stream": "stdout",
       "text": [
        " 0230367\n",
        "no office data"
       ]
      },
      {
       "output_type": "stream",
       "stream": "stdout",
       "text": [
        " 0104423\n",
        "no office data"
       ]
      },
      {
       "output_type": "stream",
       "stream": "stdout",
       "text": [
        " 0291883\n",
        "no office data"
       ]
      },
      {
       "output_type": "stream",
       "stream": "stdout",
       "text": [
        " 0103678\n",
        "no office data"
       ]
      },
      {
       "output_type": "stream",
       "stream": "stdout",
       "text": [
        " 0105251\n",
        "no office data"
       ]
      },
      {
       "output_type": "stream",
       "stream": "stdout",
       "text": [
        " 0104007\n",
        "no office data"
       ]
      },
      {
       "output_type": "stream",
       "stream": "stdout",
       "text": [
        " 0104550\n",
        "no office data"
       ]
      },
      {
       "output_type": "stream",
       "stream": "stdout",
       "text": [
        " 0108349\n",
        "no office data"
       ]
      },
      {
       "output_type": "stream",
       "stream": "stdout",
       "text": [
        " 0103852\n",
        "no office data"
       ]
      },
      {
       "output_type": "stream",
       "stream": "stdout",
       "text": [
        " 0103852\n",
        "no office data"
       ]
      },
      {
       "output_type": "stream",
       "stream": "stdout",
       "text": [
        " 0172188\n",
        "Bitter Moon"
       ]
      },
      {
       "output_type": "stream",
       "stream": "stdout",
       "text": [
        "\n",
        "no office data"
       ]
      },
      {
       "output_type": "stream",
       "stream": "stdout",
       "text": [
        " 0237682\n",
        "no office data"
       ]
      },
      {
       "output_type": "stream",
       "stream": "stdout",
       "text": [
        " 0103621\n",
        "no office data"
       ]
      },
      {
       "output_type": "stream",
       "stream": "stdout",
       "text": [
        " 0413847\n",
        "no office data"
       ]
      },
      {
       "output_type": "stream",
       "stream": "stdout",
       "text": [
        " 0105173\n",
        "no office data"
       ]
      },
      {
       "output_type": "stream",
       "stream": "stdout",
       "text": [
        " 0104459\n",
        "no office data"
       ]
      },
      {
       "output_type": "stream",
       "stream": "stdout",
       "text": [
        " 0104459\n",
        "no office data"
       ]
      },
      {
       "output_type": "stream",
       "stream": "stdout",
       "text": [
        " 0105538\n",
        "no office data"
       ]
      },
      {
       "output_type": "stream",
       "stream": "stdout",
       "text": [
        " 0103973\n",
        "no office data"
       ]
      },
      {
       "output_type": "stream",
       "stream": "stdout",
       "text": [
        " 0103858\n",
        "no office data"
       ]
      },
      {
       "output_type": "stream",
       "stream": "stdout",
       "text": [
        " 0100152\n",
        "no office data"
       ]
      },
      {
       "output_type": "stream",
       "stream": "stdout",
       "text": [
        " 0103836\n",
        "no office data"
       ]
      },
      {
       "output_type": "stream",
       "stream": "stdout",
       "text": [
        " 0108489\n",
        "no office data"
       ]
      },
      {
       "output_type": "stream",
       "stream": "stdout",
       "text": [
        " 0104743\n",
        "no office data"
       ]
      },
      {
       "output_type": "stream",
       "stream": "stdout",
       "text": [
        " 0103969\n",
        "no office data"
       ]
      },
      {
       "output_type": "stream",
       "stream": "stdout",
       "text": [
        " 0101608\n",
        "no office data"
       ]
      },
      {
       "output_type": "stream",
       "stream": "stdout",
       "text": [
        " 0105667\n",
        "no office data"
       ]
      },
      {
       "output_type": "stream",
       "stream": "stdout",
       "text": [
        " 0104506\n",
        "no office data"
       ]
      },
      {
       "output_type": "stream",
       "stream": "stdout",
       "text": [
        " 0104788\n",
        "no office data"
       ]
      },
      {
       "output_type": "stream",
       "stream": "stdout",
       "text": [
        " 0107330\n",
        "Finished:"
       ]
      },
      {
       "output_type": "stream",
       "stream": "stdout",
       "text": [
        " 700 ----------------------\n",
        "no office data"
       ]
      },
      {
       "output_type": "stream",
       "stream": "stdout",
       "text": [
        " 0107084\n",
        "no office data"
       ]
      },
      {
       "output_type": "stream",
       "stream": "stdout",
       "text": [
        " 0104216\n",
        "no office data"
       ]
      },
      {
       "output_type": "stream",
       "stream": "stdout",
       "text": [
        " 0103927\n",
        "no office data"
       ]
      },
      {
       "output_type": "stream",
       "stream": "stdout",
       "text": [
        " 0200659\n",
        "no office data"
       ]
      },
      {
       "output_type": "stream",
       "stream": "stdout",
       "text": [
        " 0104051\n",
        "no office data"
       ]
      },
      {
       "output_type": "stream",
       "stream": "stdout",
       "text": [
        " 0101732\n",
        "Jennifer 8"
       ]
      },
      {
       "output_type": "stream",
       "stream": "stdout",
       "text": [
        "\n",
        "no office data"
       ]
      },
      {
       "output_type": "stream",
       "stream": "stdout",
       "text": [
        " 0104087\n",
        "no office data"
       ]
      },
      {
       "output_type": "stream",
       "stream": "stdout",
       "text": [
        " 0103943\n",
        "no office data"
       ]
      },
      {
       "output_type": "stream",
       "stream": "stdout",
       "text": [
        " 0105260\n",
        "no office data"
       ]
      },
      {
       "output_type": "stream",
       "stream": "stdout",
       "text": [
        " 0103954\n",
        "no office data"
       ]
      },
      {
       "output_type": "stream",
       "stream": "stdout",
       "text": [
        " 0104541\n",
        "no office data"
       ]
      },
      {
       "output_type": "stream",
       "stream": "stdout",
       "text": [
        " 0105530\n",
        "no office data"
       ]
      },
      {
       "output_type": "stream",
       "stream": "stdout",
       "text": [
        " 0104275\n",
        "no office data"
       ]
      },
      {
       "output_type": "stream",
       "stream": "stdout",
       "text": [
        " 0105462\n",
        "no office data"
       ]
      },
      {
       "output_type": "stream",
       "stream": "stdout",
       "text": [
        " 0105321\n",
        "no office data"
       ]
      },
      {
       "output_type": "stream",
       "stream": "stdout",
       "text": [
        " 0173102\n",
        "no office data"
       ]
      },
      {
       "output_type": "stream",
       "stream": "stdout",
       "text": [
        " 0103673\n",
        "no office data"
       ]
      },
      {
       "output_type": "stream",
       "stream": "stdout",
       "text": [
        " 0106203\n",
        "no office data"
       ]
      },
      {
       "output_type": "stream",
       "stream": "stdout",
       "text": [
        " 0106225\n",
        "no office data"
       ]
      },
      {
       "output_type": "stream",
       "stream": "stdout",
       "text": [
        " 0121103\n",
        "no office data"
       ]
      },
      {
       "output_type": "stream",
       "stream": "stdout",
       "text": [
        " 0104683\n",
        "no office data"
       ]
      },
      {
       "output_type": "stream",
       "stream": "stdout",
       "text": [
        " 0137568\n",
        "no office data"
       ]
      },
      {
       "output_type": "stream",
       "stream": "stdout",
       "text": [
        " 0108194\n",
        "no office data"
       ]
      },
      {
       "output_type": "stream",
       "stream": "stdout",
       "text": [
        " 0106267\n",
        "no office data"
       ]
      },
      {
       "output_type": "stream",
       "stream": "stdout",
       "text": [
        " 0106596\n",
        "Les Visiteurs (The Visitors )"
       ]
      },
      {
       "output_type": "stream",
       "stream": "stdout",
       "text": [
        "\n",
        "no office data"
       ]
      },
      {
       "output_type": "stream",
       "stream": "stdout",
       "text": [
        " 0105645\n",
        "no office data"
       ]
      },
      {
       "output_type": "stream",
       "stream": "stdout",
       "text": [
        " 0106426\n",
        "no office data"
       ]
      },
      {
       "output_type": "stream",
       "stream": "stdout",
       "text": [
        " 0108348\n",
        "Nowhere to Run"
       ]
      },
      {
       "output_type": "stream",
       "stream": "stdout",
       "text": [
        "\n",
        "no office data"
       ]
      },
      {
       "output_type": "stream",
       "stream": "stdout",
       "text": [
        " 0108293\n",
        "no office data"
       ]
      },
      {
       "output_type": "stream",
       "stream": "stdout",
       "text": [
        " 0104516\n",
        "no office data"
       ]
      },
      {
       "output_type": "stream",
       "stream": "stdout",
       "text": [
        " 0108290\n",
        "no office data"
       ]
      },
      {
       "output_type": "stream",
       "stream": "stdout",
       "text": [
        " 0108074\n",
        "no office data"
       ]
      },
      {
       "output_type": "stream",
       "stream": "stdout",
       "text": [
        " 0107859\n",
        "no office data"
       ]
      },
      {
       "output_type": "stream",
       "stream": "stdout",
       "text": [
        " 0107044\n",
        "no office data"
       ]
      },
      {
       "output_type": "stream",
       "stream": "stdout",
       "text": [
        " 0108223\n",
        "no office data"
       ]
      },
      {
       "output_type": "stream",
       "stream": "stdout",
       "text": [
        " 0105619\n",
        "no office data"
       ]
      },
      {
       "output_type": "stream",
       "stream": "stdout",
       "text": [
        " 0105912\n",
        "no office data"
       ]
      },
      {
       "output_type": "stream",
       "stream": "stdout",
       "text": [
        " 0106336\n",
        "no office data"
       ]
      },
      {
       "output_type": "stream",
       "stream": "stdout",
       "text": [
        " 0107754\n",
        "no office data"
       ]
      },
      {
       "output_type": "stream",
       "stream": "stdout",
       "text": [
        " 0104602\n",
        "no office data"
       ]
      },
      {
       "output_type": "stream",
       "stream": "stdout",
       "text": [
        " 0108593\n",
        "no office data"
       ]
      },
      {
       "output_type": "stream",
       "stream": "stdout",
       "text": [
        " 0106356\n",
        "no office data"
       ]
      },
      {
       "output_type": "stream",
       "stream": "stdout",
       "text": [
        " 0108342\n",
        "no office data"
       ]
      },
      {
       "output_type": "stream",
       "stream": "stdout",
       "text": [
        " 0108168\n",
        "Finished:"
       ]
      },
      {
       "output_type": "stream",
       "stream": "stdout",
       "text": [
        " 800 ----------------------\n",
        "no office data"
       ]
      },
      {
       "output_type": "stream",
       "stream": "stdout",
       "text": [
        " 0108377\n",
        "no office data"
       ]
      },
      {
       "output_type": "stream",
       "stream": "stdout",
       "text": [
        " 0849468\n",
        "no office data"
       ]
      },
      {
       "output_type": "stream",
       "stream": "stdout",
       "text": [
        " 0107273\n",
        "no office data"
       ]
      },
      {
       "output_type": "stream",
       "stream": "stdout",
       "text": [
        " 0107962\n",
        "no office data"
       ]
      },
      {
       "output_type": "stream",
       "stream": "stdout",
       "text": [
        " 0108556\n",
        "no office data"
       ]
      },
      {
       "output_type": "stream",
       "stream": "stdout",
       "text": [
        " 0188720\n",
        "no office data"
       ]
      },
      {
       "output_type": "stream",
       "stream": "stdout",
       "text": [
        " 0107392\n",
        "no office data"
       ]
      },
      {
       "output_type": "stream",
       "stream": "stdout",
       "text": [
        " 0106578\n",
        "no office data"
       ]
      },
      {
       "output_type": "stream",
       "stream": "stdout",
       "text": [
        " 0106578\n",
        "no office data"
       ]
      },
      {
       "output_type": "stream",
       "stream": "stdout",
       "text": [
        " 0106222\n",
        "no office data"
       ]
      },
      {
       "output_type": "stream",
       "stream": "stdout",
       "text": [
        " 0106876\n",
        "no office data"
       ]
      },
      {
       "output_type": "stream",
       "stream": "stdout",
       "text": [
        " 0107064\n",
        "no office data"
       ]
      },
      {
       "output_type": "stream",
       "stream": "stdout",
       "text": [
        " 0105507\n",
        "no office data"
       ]
      },
      {
       "output_type": "stream",
       "stream": "stdout",
       "text": [
        " 0107333\n",
        "no office data"
       ]
      },
      {
       "output_type": "stream",
       "stream": "stdout",
       "text": [
        " 0105395\n",
        "no office data"
       ]
      },
      {
       "output_type": "stream",
       "stream": "stdout",
       "text": [
        " 0290179\n",
        "no office data"
       ]
      },
      {
       "output_type": "stream",
       "stream": "stdout",
       "text": [
        " 0104941\n",
        "no office data"
       ]
      },
      {
       "output_type": "stream",
       "stream": "stdout",
       "text": [
        " 0106156\n",
        "no office data"
       ]
      },
      {
       "output_type": "stream",
       "stream": "stdout",
       "text": [
        " 0107555\n",
        "no office data"
       ]
      },
      {
       "output_type": "stream",
       "stream": "stdout",
       "text": [
        " 0106470\n",
        "no office data"
       ]
      },
      {
       "output_type": "stream",
       "stream": "stdout",
       "text": [
        " 0110153\n",
        "no office data"
       ]
      },
      {
       "output_type": "stream",
       "stream": "stdout",
       "text": [
        " 0560128\n",
        "no office data"
       ]
      },
      {
       "output_type": "stream",
       "stream": "stdout",
       "text": [
        " 0684158\n",
        "no office data"
       ]
      },
      {
       "output_type": "stream",
       "stream": "stdout",
       "text": [
        " 0256240\n",
        "no office data"
       ]
      },
      {
       "output_type": "stream",
       "stream": "stdout",
       "text": [
        " 0106395\n",
        "no office data"
       ]
      },
      {
       "output_type": "stream",
       "stream": "stdout",
       "text": [
        " 0108144\n",
        "no office data"
       ]
      },
      {
       "output_type": "stream",
       "stream": "stdout",
       "text": [
        " 0106504\n",
        "no office data"
       ]
      },
      {
       "output_type": "stream",
       "stream": "stdout",
       "text": [
        " 0107415\n",
        "no office data"
       ]
      },
      {
       "output_type": "stream",
       "stream": "stdout",
       "text": [
        " 0064448\n",
        "no office data"
       ]
      },
      {
       "output_type": "stream",
       "stream": "stdout",
       "text": [
        " 0108388\n",
        "no office data"
       ]
      },
      {
       "output_type": "stream",
       "stream": "stdout",
       "text": [
        " 0105471\n",
        "no office data"
       ]
      },
      {
       "output_type": "stream",
       "stream": "stdout",
       "text": [
        " 0105589\n",
        "no office data"
       ]
      },
      {
       "output_type": "stream",
       "stream": "stdout",
       "text": [
        " 0106937\n",
        "no office data"
       ]
      },
      {
       "output_type": "stream",
       "stream": "stdout",
       "text": [
        " 0107773\n",
        "no office data"
       ]
      },
      {
       "output_type": "stream",
       "stream": "stdout",
       "text": [
        " 0106378\n",
        "no office data"
       ]
      },
      {
       "output_type": "stream",
       "stream": "stdout",
       "text": [
        " 0482389\n",
        "no office data"
       ]
      },
      {
       "output_type": "stream",
       "stream": "stdout",
       "text": [
        " 0106543\n",
        "Finished:"
       ]
      },
      {
       "output_type": "stream",
       "stream": "stdout",
       "text": [
        " 900 ----------------------\n",
        "no office data"
       ]
      },
      {
       "output_type": "stream",
       "stream": "stdout",
       "text": [
        " 0420871\n",
        "no office data"
       ]
      },
      {
       "output_type": "stream",
       "stream": "stdout",
       "text": [
        " 0185133\n",
        "no office data"
       ]
      },
      {
       "output_type": "stream",
       "stream": "stdout",
       "text": [
        " 0106188\n",
        "no office data"
       ]
      },
      {
       "output_type": "stream",
       "stream": "stdout",
       "text": [
        " 0106529\n",
        "no office data"
       ]
      },
      {
       "output_type": "stream",
       "stream": "stdout",
       "text": [
        " 0106529\n",
        "Hard Target"
       ]
      },
      {
       "output_type": "stream",
       "stream": "stdout",
       "text": [
        "\n",
        "no office data"
       ]
      },
      {
       "output_type": "stream",
       "stream": "stdout",
       "text": [
        " 0105572\n",
        "no office data"
       ]
      },
      {
       "output_type": "stream",
       "stream": "stdout",
       "text": [
        " 0106573\n",
        "no office data"
       ]
      },
      {
       "output_type": "stream",
       "stream": "stdout",
       "text": [
        " 0126108\n",
        "no office data"
       ]
      },
      {
       "output_type": "stream",
       "stream": "stdout",
       "text": [
        " 0108471\n",
        "no office data"
       ]
      },
      {
       "output_type": "stream",
       "stream": "stdout",
       "text": [
        " 0108435\n",
        "no office data"
       ]
      },
      {
       "output_type": "stream",
       "stream": "stdout",
       "text": [
        " 0107763\n",
        "no office data"
       ]
      },
      {
       "output_type": "stream",
       "stream": "stdout",
       "text": [
        " 0106449\n",
        "no office data"
       ]
      },
      {
       "output_type": "stream",
       "stream": "stdout",
       "text": [
        " 0106846\n",
        "no office data"
       ]
      },
      {
       "output_type": "stream",
       "stream": "stdout",
       "text": [
        " 0105603\n",
        "no office data"
       ]
      },
      {
       "output_type": "stream",
       "stream": "stdout",
       "text": [
        " 0107370\n",
        "no office data"
       ]
      },
      {
       "output_type": "stream",
       "stream": "stdout",
       "text": [
        " 0057067\n",
        "no office data"
       ]
      },
      {
       "output_type": "stream",
       "stream": "stdout",
       "text": [
        " 0108606\n",
        "no office data"
       ]
      },
      {
       "output_type": "stream",
       "stream": "stdout",
       "text": [
        " 0107356\n",
        "no office data"
       ]
      },
      {
       "output_type": "stream",
       "stream": "stdout",
       "text": [
        " 0106273\n",
        "no office data"
       ]
      },
      {
       "output_type": "stream",
       "stream": "stdout",
       "text": [
        " 0107464\n",
        "no office data"
       ]
      },
      {
       "output_type": "stream",
       "stream": "stdout",
       "text": [
        " 0107222\n",
        "no office data"
       ]
      },
      {
       "output_type": "stream",
       "stream": "stdout",
       "text": [
        " 0107037\n",
        "no office data"
       ]
      },
      {
       "output_type": "stream",
       "stream": "stdout",
       "text": [
        " 0068488\n",
        "no office data"
       ]
      },
      {
       "output_type": "stream",
       "stream": "stdout",
       "text": [
        " 0110307\n",
        "no office data"
       ]
      },
      {
       "output_type": "stream",
       "stream": "stdout",
       "text": [
        " 0107664\n",
        "no office data"
       ]
      },
      {
       "output_type": "stream",
       "stream": "stdout",
       "text": [
        " 0107879\n",
        "no office data"
       ]
      },
      {
       "output_type": "stream",
       "stream": "stdout",
       "text": [
        " 0106808\n",
        "no office data"
       ]
      },
      {
       "output_type": "stream",
       "stream": "stdout",
       "text": [
        " 0108633\n",
        "no office data"
       ]
      },
      {
       "output_type": "stream",
       "stream": "stdout",
       "text": [
        " 0103867\n",
        "no office data"
       ]
      },
      {
       "output_type": "stream",
       "stream": "stdout",
       "text": [
        " 0107607\n",
        "no office data"
       ]
      },
      {
       "output_type": "stream",
       "stream": "stdout",
       "text": [
        " 0106475\n",
        "Finished:"
       ]
      },
      {
       "output_type": "stream",
       "stream": "stdout",
       "text": [
        " 1000 ----------------------\n",
        "no office data"
       ]
      },
      {
       "output_type": "stream",
       "stream": "stdout",
       "text": [
        " 0107479\n",
        "no office data"
       ]
      },
      {
       "output_type": "stream",
       "stream": "stdout",
       "text": [
        " 0316293\n",
        "no office data"
       ]
      },
      {
       "output_type": "stream",
       "stream": "stdout",
       "text": [
        " 0108608\n",
        "no office data"
       ]
      },
      {
       "output_type": "stream",
       "stream": "stdout",
       "text": [
        " 0107427\n",
        "no office data"
       ]
      },
      {
       "output_type": "stream",
       "stream": "stdout",
       "text": [
        " 1352450\n",
        "no office data"
       ]
      },
      {
       "output_type": "stream",
       "stream": "stdout",
       "text": [
        " 0106666\n",
        "no office data"
       ]
      },
      {
       "output_type": "stream",
       "stream": "stdout",
       "text": [
        " 0108598\n",
        "no office data"
       ]
      },
      {
       "output_type": "stream",
       "stream": "stdout",
       "text": [
        " 0106665\n",
        "no office data"
       ]
      },
      {
       "output_type": "stream",
       "stream": "stdout",
       "text": [
        " 0109609\n",
        "no office data"
       ]
      },
      {
       "output_type": "stream",
       "stream": "stdout",
       "text": [
        " 0110132\n",
        "no office data"
       ]
      },
      {
       "output_type": "stream",
       "stream": "stdout",
       "text": [
        " 0110595\n",
        "no office data"
       ]
      },
      {
       "output_type": "stream",
       "stream": "stdout",
       "text": [
        " 0111622\n",
        "no office data"
       ]
      },
      {
       "output_type": "stream",
       "stream": "stdout",
       "text": [
        " 0111558\n",
        "no office data"
       ]
      },
      {
       "output_type": "stream",
       "stream": "stdout",
       "text": [
        " 0110832\n",
        "no office data"
       ]
      },
      {
       "output_type": "stream",
       "stream": "stdout",
       "text": [
        " 0106915\n",
        "no office data"
       ]
      },
      {
       "output_type": "stream",
       "stream": "stdout",
       "text": [
        " 0111749\n",
        "no office data"
       ]
      },
      {
       "output_type": "stream",
       "stream": "stdout",
       "text": [
        " 0110852\n",
        "no office data"
       ]
      },
      {
       "output_type": "stream",
       "stream": "stdout",
       "text": [
        " 0111737\n",
        "no office data"
       ]
      },
      {
       "output_type": "stream",
       "stream": "stdout",
       "text": [
        " 0107384\n",
        "no office data"
       ]
      },
      {
       "output_type": "stream",
       "stream": "stdout",
       "text": [
        " 0111341\n",
        "no office data"
       ]
      },
      {
       "output_type": "stream",
       "stream": "stdout",
       "text": [
        " 0114465\n",
        "no office data"
       ]
      },
      {
       "output_type": "stream",
       "stream": "stdout",
       "text": [
        " 0110094\n",
        "no office data"
       ]
      },
      {
       "output_type": "stream",
       "stream": "stdout",
       "text": [
        " 0107779\n",
        "no office data"
       ]
      },
      {
       "output_type": "stream",
       "stream": "stdout",
       "text": [
        " 0109335\n",
        "no office data"
       ]
      },
      {
       "output_type": "stream",
       "stream": "stdout",
       "text": [
        " 0109302\n",
        "no office data"
       ]
      },
      {
       "output_type": "stream",
       "stream": "stdout",
       "text": [
        " 0110931\n",
        "no office data"
       ]
      },
      {
       "output_type": "stream",
       "stream": "stdout",
       "text": [
        " 0111067\n",
        "no office data"
       ]
      },
      {
       "output_type": "stream",
       "stream": "stdout",
       "text": [
        " 0109531\n",
        "no office data"
       ]
      },
      {
       "output_type": "stream",
       "stream": "stdout",
       "text": [
        " 0952274\n",
        "no office data"
       ]
      },
      {
       "output_type": "stream",
       "stream": "stdout",
       "text": [
        " 0110002\n",
        "no office data"
       ]
      },
      {
       "output_type": "stream",
       "stream": "stdout",
       "text": [
        " 0108181\n",
        "no office data"
       ]
      },
      {
       "output_type": "stream",
       "stream": "stdout",
       "text": [
        " 0106302\n",
        "no office data"
       ]
      },
      {
       "output_type": "stream",
       "stream": "stdout",
       "text": [
        " 0109049\n",
        "no office data"
       ]
      },
      {
       "output_type": "stream",
       "stream": "stdout",
       "text": [
        " 0145529\n",
        "no office data"
       ]
      },
      {
       "output_type": "stream",
       "stream": "stdout",
       "text": [
        " 0110923\n",
        "no office data"
       ]
      },
      {
       "output_type": "stream",
       "stream": "stdout",
       "text": [
        " 0110776\n",
        "no office data"
       ]
      },
      {
       "output_type": "stream",
       "stream": "stdout",
       "text": [
        " 0111035\n",
        "no office data"
       ]
      },
      {
       "output_type": "stream",
       "stream": "stdout",
       "text": [
        " 0109112\n",
        "no office data"
       ]
      },
      {
       "output_type": "stream",
       "stream": "stdout",
       "text": [
        " 0110543\n",
        "no office data"
       ]
      },
      {
       "output_type": "stream",
       "stream": "stdout",
       "text": [
        " 0187227\n",
        "no office data"
       ]
      },
      {
       "output_type": "stream",
       "stream": "stdout",
       "text": [
        " 0110913\n",
        "no office data"
       ]
      },
      {
       "output_type": "stream",
       "stream": "stdout",
       "text": [
        " 0109627\n",
        "no office data"
       ]
      },
      {
       "output_type": "stream",
       "stream": "stdout",
       "text": [
        " 0110432\n",
        "no office data"
       ]
      },
      {
       "output_type": "stream",
       "stream": "stdout",
       "text": [
        " 0110936\n",
        "no office data"
       ]
      },
      {
       "output_type": "stream",
       "stream": "stdout",
       "text": [
        " 0189166\n",
        "no office data"
       ]
      },
      {
       "output_type": "stream",
       "stream": "stdout",
       "text": [
        " 0111097\n",
        "no office data"
       ]
      },
      {
       "output_type": "stream",
       "stream": "stdout",
       "text": [
        " 0109350\n",
        "no office data"
       ]
      },
      {
       "output_type": "stream",
       "stream": "stdout",
       "text": [
        " 0111138\n",
        "no office data"
       ]
      },
      {
       "output_type": "stream",
       "stream": "stdout",
       "text": [
        " 0109275\n",
        "no office data"
       ]
      },
      {
       "output_type": "stream",
       "stream": "stdout",
       "text": [
        " 0110015\n",
        "no office data"
       ]
      },
      {
       "output_type": "stream",
       "stream": "stdout",
       "text": [
        " 0073537\n",
        "Finished:"
       ]
      },
      {
       "output_type": "stream",
       "stream": "stdout",
       "text": [
        " 1100 ----------------------\n",
        "no office data"
       ]
      },
      {
       "output_type": "stream",
       "stream": "stdout",
       "text": [
        " 0109490\n",
        "no office data"
       ]
      },
      {
       "output_type": "stream",
       "stream": "stdout",
       "text": [
        " 0109209\n",
        "no office data"
       ]
      },
      {
       "output_type": "stream",
       "stream": "stdout",
       "text": [
        " 0156670\n",
        "no office data"
       ]
      },
      {
       "output_type": "stream",
       "stream": "stdout",
       "text": [
        " 0109557\n",
        "no office data"
       ]
      },
      {
       "output_type": "stream",
       "stream": "stdout",
       "text": [
        " 0184460\n",
        "no office data"
       ]
      },
      {
       "output_type": "stream",
       "stream": "stdout",
       "text": [
        " 0110629\n",
        "no office data"
       ]
      },
      {
       "output_type": "stream",
       "stream": "stdout",
       "text": [
        " 0204676\n",
        "no office data"
       ]
      },
      {
       "output_type": "stream",
       "stream": "stdout",
       "text": [
        " 0109307\n",
        "no office data"
       ]
      },
      {
       "output_type": "stream",
       "stream": "stdout",
       "text": [
        " 0109010\n",
        "no office data"
       ]
      },
      {
       "output_type": "stream",
       "stream": "stdout",
       "text": [
        " 0111444\n",
        "no office data"
       ]
      },
      {
       "output_type": "stream",
       "stream": "stdout",
       "text": [
        " 0111157\n",
        "no office data"
       ]
      },
      {
       "output_type": "stream",
       "stream": "stdout",
       "text": [
        " 0110419\n",
        "no office data"
       ]
      },
      {
       "output_type": "stream",
       "stream": "stdout",
       "text": [
        " 0109892\n",
        "no office data"
       ]
      },
      {
       "output_type": "stream",
       "stream": "stdout",
       "text": [
        " 0109469\n",
        "no office data"
       ]
      },
      {
       "output_type": "stream",
       "stream": "stdout",
       "text": [
        " 0109110\n",
        "no office data"
       ]
      },
      {
       "output_type": "stream",
       "stream": "stdout",
       "text": [
        " 0110117\n",
        "no office data"
       ]
      },
      {
       "output_type": "stream",
       "stream": "stdout",
       "text": [
        " 0109449\n",
        "no office data"
       ]
      },
      {
       "output_type": "stream",
       "stream": "stdout",
       "text": [
        " 0109566\n",
        "no office data"
       ]
      },
      {
       "output_type": "stream",
       "stream": "stdout",
       "text": [
        " 0107952\n",
        "no office data"
       ]
      },
      {
       "output_type": "stream",
       "stream": "stdout",
       "text": [
        " 0106839\n",
        "no office data"
       ]
      },
      {
       "output_type": "stream",
       "stream": "stdout",
       "text": [
        " 0111386\n",
        "Burnt by the Sun"
       ]
      },
      {
       "output_type": "stream",
       "stream": "stdout",
       "text": [
        "\n",
        "no office data"
       ]
      },
      {
       "output_type": "stream",
       "stream": "stdout",
       "text": [
        " 0111760\n",
        "The Shadow"
       ]
      },
      {
       "output_type": "stream",
       "stream": "stdout",
       "text": [
        "\n",
        "no office data"
       ]
      },
      {
       "output_type": "stream",
       "stream": "stdout",
       "text": [
        " 0111192\n",
        "no office data"
       ]
      },
      {
       "output_type": "stream",
       "stream": "stdout",
       "text": [
        " 0040457\n",
        "no office data"
       ]
      },
      {
       "output_type": "stream",
       "stream": "stdout",
       "text": [
        " 0113752\n",
        "no office data"
       ]
      },
      {
       "output_type": "stream",
       "stream": "stdout",
       "text": [
        " 0108072\n",
        "no office data"
       ]
      },
      {
       "output_type": "stream",
       "stream": "stdout",
       "text": [
        " 0110025\n",
        "no office data"
       ]
      },
      {
       "output_type": "stream",
       "stream": "stdout",
       "text": [
        " 0110793\n",
        "no office data"
       ]
      },
      {
       "output_type": "stream",
       "stream": "stdout",
       "text": [
        " 0110311\n",
        "no office data"
       ]
      },
      {
       "output_type": "stream",
       "stream": "stdout",
       "text": [
        " 0111158\n",
        "no office data"
       ]
      },
      {
       "output_type": "stream",
       "stream": "stdout",
       "text": [
        " 0109386\n",
        "no office data"
       ]
      },
      {
       "output_type": "stream",
       "stream": "stdout",
       "text": [
        " 0111021\n",
        "no office data"
       ]
      },
      {
       "output_type": "stream",
       "stream": "stdout",
       "text": [
        " 0109958\n",
        "no office data"
       ]
      },
      {
       "output_type": "stream",
       "stream": "stdout",
       "text": [
        " 0109540\n",
        "no office data"
       ]
      },
      {
       "output_type": "stream",
       "stream": "stdout",
       "text": [
        " 0110593\n",
        "no office data"
       ]
      },
      {
       "output_type": "stream",
       "stream": "stdout",
       "text": [
        " 0111835\n",
        "no office data"
       ]
      },
      {
       "output_type": "stream",
       "stream": "stdout",
       "text": [
        " 0107428\n",
        "no office data"
       ]
      },
      {
       "output_type": "stream",
       "stream": "stdout",
       "text": [
        " 0277725\n",
        "no office data"
       ]
      },
      {
       "output_type": "stream",
       "stream": "stdout",
       "text": [
        " 0291902\n",
        "no office data"
       ]
      },
      {
       "output_type": "stream",
       "stream": "stdout",
       "text": [
        " 0109730\n",
        "no office data"
       ]
      },
      {
       "output_type": "stream",
       "stream": "stdout",
       "text": [
        " 0111191\n",
        "no office data"
       ]
      },
      {
       "output_type": "stream",
       "stream": "stdout",
       "text": [
        " 0110426\n",
        "no office data"
       ]
      },
      {
       "output_type": "stream",
       "stream": "stdout",
       "text": [
        " 0109542\n",
        "no office data"
       ]
      },
      {
       "output_type": "stream",
       "stream": "stdout",
       "text": [
        " 0108778\n",
        "no office data"
       ]
      },
      {
       "output_type": "stream",
       "stream": "stdout",
       "text": [
        " 0110496\n",
        "no office data"
       ]
      },
      {
       "output_type": "stream",
       "stream": "stdout",
       "text": [
        " 0111033\n",
        "Finished:"
       ]
      },
      {
       "output_type": "stream",
       "stream": "stdout",
       "text": [
        " 1200 ----------------------\n",
        "no office data"
       ]
      },
      {
       "output_type": "stream",
       "stream": "stdout",
       "text": [
        " 0190435\n",
        "no office data"
       ]
      },
      {
       "output_type": "stream",
       "stream": "stdout",
       "text": [
        " 0109515\n",
        "no office data"
       ]
      },
      {
       "output_type": "stream",
       "stream": "stdout",
       "text": [
        " 0109569\n",
        "no office data"
       ]
      },
      {
       "output_type": "stream",
       "stream": "stdout",
       "text": [
        " 0110916\n",
        "no office data"
       ]
      },
      {
       "output_type": "stream",
       "stream": "stdout",
       "text": [
        " 0111000\n",
        "no office data"
       ]
      },
      {
       "output_type": "stream",
       "stream": "stdout",
       "text": [
        " 0109336\n",
        "no office data"
       ]
      },
      {
       "output_type": "stream",
       "stream": "stdout",
       "text": [
        " 0111081\n",
        "no office data"
       ]
      },
      {
       "output_type": "stream",
       "stream": "stdout",
       "text": [
        " 0109553\n",
        "no office data"
       ]
      },
      {
       "output_type": "stream",
       "stream": "stdout",
       "text": [
        " 0109338\n",
        "no office data"
       ]
      },
      {
       "output_type": "stream",
       "stream": "stdout",
       "text": [
        " 0109778\n",
        "no office data"
       ]
      },
      {
       "output_type": "stream",
       "stream": "stdout",
       "text": [
        " 0109180\n",
        "no office data"
       ]
      },
      {
       "output_type": "stream",
       "stream": "stdout",
       "text": [
        " 0111308\n",
        "no office data"
       ]
      },
      {
       "output_type": "stream",
       "stream": "stdout",
       "text": [
        " 0109962\n",
        "no office data"
       ]
      },
      {
       "output_type": "stream",
       "stream": "stdout",
       "text": [
        " 0109822\n",
        "no office data"
       ]
      },
      {
       "output_type": "stream",
       "stream": "stdout",
       "text": [
        " 0111555\n",
        "no office data"
       ]
      },
      {
       "output_type": "stream",
       "stream": "stdout",
       "text": [
        " 0110121\n",
        "no office data"
       ]
      },
      {
       "output_type": "stream",
       "stream": "stdout",
       "text": [
        " 0109665\n",
        "no office data"
       ]
      },
      {
       "output_type": "stream",
       "stream": "stdout",
       "text": [
        " 0110052\n",
        "no office data"
       ]
      },
      {
       "output_type": "stream",
       "stream": "stdout",
       "text": [
        " 0110068\n",
        "no office data"
       ]
      },
      {
       "output_type": "stream",
       "stream": "stdout",
       "text": [
        " 0110016\n",
        "no office data"
       ]
      },
      {
       "output_type": "stream",
       "stream": "stdout",
       "text": [
        " 0111298\n",
        "no office data"
       ]
      },
      {
       "output_type": "stream",
       "stream": "stdout",
       "text": [
        " 0109858\n",
        "Street Fighter"
       ]
      },
      {
       "output_type": "stream",
       "stream": "stdout",
       "text": [
        "\n",
        "In the Mouth of Madness"
       ]
      },
      {
       "output_type": "stream",
       "stream": "stdout",
       "text": [
        "\n",
        "no office data"
       ]
      },
      {
       "output_type": "stream",
       "stream": "stdout",
       "text": [
        " 0112763\n",
        "no office data"
       ]
      },
      {
       "output_type": "stream",
       "stream": "stdout",
       "text": [
        " 0113674\n",
        "no office data"
       ]
      },
      {
       "output_type": "stream",
       "stream": "stdout",
       "text": [
        " 0167508\n",
        "no office data"
       ]
      },
      {
       "output_type": "stream",
       "stream": "stdout",
       "text": [
        " 0109630\n",
        "no office data"
       ]
      },
      {
       "output_type": "stream",
       "stream": "stdout",
       "text": [
        " 0191118\n",
        "no office data"
       ]
      },
      {
       "output_type": "stream",
       "stream": "stdout",
       "text": [
        " 0113982\n",
        "no office data"
       ]
      },
      {
       "output_type": "stream",
       "stream": "stdout",
       "text": [
        " 0113982\n",
        "no office data"
       ]
      },
      {
       "output_type": "stream",
       "stream": "stdout",
       "text": [
        " 0111730\n",
        "no office data"
       ]
      },
      {
       "output_type": "stream",
       "stream": "stdout",
       "text": [
        " 0113833\n",
        "no office data"
       ]
      },
      {
       "output_type": "stream",
       "stream": "stdout",
       "text": [
        " 0114099\n",
        "no office data"
       ]
      },
      {
       "output_type": "stream",
       "stream": "stdout",
       "text": [
        " 0112709\n",
        "no office data"
       ]
      },
      {
       "output_type": "stream",
       "stream": "stdout",
       "text": [
        " 0112709\n",
        "no office data"
       ]
      },
      {
       "output_type": "stream",
       "stream": "stdout",
       "text": [
        " 0113056\n",
        "no office data"
       ]
      },
      {
       "output_type": "stream",
       "stream": "stdout",
       "text": [
        " 0114193\n",
        "no office data"
       ]
      },
      {
       "output_type": "stream",
       "stream": "stdout",
       "text": [
        " 0110880\n",
        "Finished:"
       ]
      },
      {
       "output_type": "stream",
       "stream": "stdout",
       "text": [
        " 1300 ----------------------\n",
        "no office data"
       ]
      },
      {
       "output_type": "stream",
       "stream": "stdout",
       "text": [
        " 0112791\n",
        "no office data"
       ]
      },
      {
       "output_type": "stream",
       "stream": "stdout",
       "text": [
        " 0113881\n",
        "no office data"
       ]
      },
      {
       "output_type": "stream",
       "stream": "stdout",
       "text": [
        " 0111264\n",
        "no office data"
       ]
      },
      {
       "output_type": "stream",
       "stream": "stdout",
       "text": [
        " 0115031\n",
        "no office data"
       ]
      },
      {
       "output_type": "stream",
       "stream": "stdout",
       "text": [
        " 0110668\n",
        "The Quick and the Dead"
       ]
      },
      {
       "output_type": "stream",
       "stream": "stdout",
       "text": [
        "\n",
        "no office data"
       ]
      },
      {
       "output_type": "stream",
       "stream": "stdout",
       "text": [
        " 0112634\n",
        "no office data"
       ]
      },
      {
       "output_type": "stream",
       "stream": "stdout",
       "text": [
        " 0112998\n",
        "no office data"
       ]
      },
      {
       "output_type": "stream",
       "stream": "stdout",
       "text": [
        " 0109532\n",
        "no office data"
       ]
      },
      {
       "output_type": "stream",
       "stream": "stdout",
       "text": [
        " 0109871\n",
        "no office data"
       ]
      },
      {
       "output_type": "stream",
       "stream": "stdout",
       "text": [
        " 0114395\n",
        "no office data"
       ]
      },
      {
       "output_type": "stream",
       "stream": "stdout",
       "text": [
        " 0470121\n",
        "no office data"
       ]
      },
      {
       "output_type": "stream",
       "stream": "stdout",
       "text": [
        " 0112826\n",
        "no office data"
       ]
      },
      {
       "output_type": "stream",
       "stream": "stdout",
       "text": [
        " 0113061\n",
        "no office data"
       ]
      },
      {
       "output_type": "stream",
       "stream": "stdout",
       "text": [
        " 0114774\n",
        "no office data"
       ]
      },
      {
       "output_type": "stream",
       "stream": "stdout",
       "text": [
        " 0114127\n",
        "no office data"
       ]
      },
      {
       "output_type": "stream",
       "stream": "stdout",
       "text": [
        " 0113213\n",
        "no office data"
       ]
      },
      {
       "output_type": "stream",
       "stream": "stdout",
       "text": [
        " 0111421\n",
        "no office data"
       ]
      },
      {
       "output_type": "stream",
       "stream": "stdout",
       "text": [
        " 0114537\n",
        "no office data"
       ]
      },
      {
       "output_type": "stream",
       "stream": "stdout",
       "text": [
        " 0108886\n",
        "no office data"
       ]
      },
      {
       "output_type": "stream",
       "stream": "stdout",
       "text": [
        " 0114059\n",
        "no office data"
       ]
      },
      {
       "output_type": "stream",
       "stream": "stdout",
       "text": [
        " 0110867\n",
        "no office data"
       ]
      },
      {
       "output_type": "stream",
       "stream": "stdout",
       "text": [
        " 0382114\n",
        "no office data"
       ]
      },
      {
       "output_type": "stream",
       "stream": "stdout",
       "text": [
        " 0114417\n",
        "no office data"
       ]
      },
      {
       "output_type": "stream",
       "stream": "stdout",
       "text": [
        " 0105601\n",
        "Don Juan DeMarco"
       ]
      },
      {
       "output_type": "stream",
       "stream": "stdout",
       "text": [
        "\n",
        "no office data"
       ]
      },
      {
       "output_type": "stream",
       "stream": "stdout",
       "text": [
        " 0113074\n",
        "no office data"
       ]
      },
      {
       "output_type": "stream",
       "stream": "stdout",
       "text": [
        " 0112939\n",
        "no office data"
       ]
      },
      {
       "output_type": "stream",
       "stream": "stdout",
       "text": [
        " 0112257\n",
        "no office data"
       ]
      },
      {
       "output_type": "stream",
       "stream": "stdout",
       "text": [
        " 0121989\n",
        "no office data"
       ]
      },
      {
       "output_type": "stream",
       "stream": "stdout",
       "text": [
        " 0114712\n",
        "no office data"
       ]
      },
      {
       "output_type": "stream",
       "stream": "stdout",
       "text": [
        " 0114116\n",
        "no office data"
       ]
      },
      {
       "output_type": "stream",
       "stream": "stdout",
       "text": [
        " 0109835\n",
        "no office data"
       ]
      },
      {
       "output_type": "stream",
       "stream": "stdout",
       "text": [
        " 0469846\n",
        "no office data"
       ]
      },
      {
       "output_type": "stream",
       "stream": "stdout",
       "text": [
        " 0112985\n",
        "no office data"
       ]
      },
      {
       "output_type": "stream",
       "stream": "stdout",
       "text": [
        " 0114376\n",
        "no office data"
       ]
      },
      {
       "output_type": "stream",
       "stream": "stdout",
       "text": [
        " 0113178\n",
        "no office data"
       ]
      },
      {
       "output_type": "stream",
       "stream": "stdout",
       "text": [
        " 0108316\n",
        "no office data"
       ]
      },
      {
       "output_type": "stream",
       "stream": "stdout",
       "text": [
        " 0109381\n",
        "no office data"
       ]
      },
      {
       "output_type": "stream",
       "stream": "stdout",
       "text": [
        " 0109381\n",
        "no office data"
       ]
      },
      {
       "output_type": "stream",
       "stream": "stdout",
       "text": [
        " 0112360\n",
        "no office data"
       ]
      },
      {
       "output_type": "stream",
       "stream": "stdout",
       "text": [
        " 0161644\n",
        "no office data"
       ]
      },
      {
       "output_type": "stream",
       "stream": "stdout",
       "text": [
        " 0114418\n",
        "no office data"
       ]
      },
      {
       "output_type": "stream",
       "stream": "stdout",
       "text": [
        " 0114759\n",
        "no office data"
       ]
      },
      {
       "output_type": "stream",
       "stream": "stdout",
       "text": [
        " 0113680\n",
        "no office data"
       ]
      },
      {
       "output_type": "stream",
       "stream": "stdout",
       "text": [
        " 0108999\n",
        "no office data"
       ]
      },
      {
       "output_type": "stream",
       "stream": "stdout",
       "text": [
        " 0140399\n",
        "no office data"
       ]
      },
      {
       "output_type": "stream",
       "stream": "stdout",
       "text": [
        " 0112615\n",
        "Finished:"
       ]
      },
      {
       "output_type": "stream",
       "stream": "stdout",
       "text": [
        " 1400 ----------------------\n",
        "no office data"
       ]
      },
      {
       "output_type": "stream",
       "stream": "stdout",
       "text": [
        " 0112040\n",
        "no office data"
       ]
      },
      {
       "output_type": "stream",
       "stream": "stdout",
       "text": [
        " 0114991\n",
        "no office data"
       ]
      },
      {
       "output_type": "stream",
       "stream": "stdout",
       "text": [
        " 0113695\n",
        "no office data"
       ]
      },
      {
       "output_type": "stream",
       "stream": "stdout",
       "text": [
        " 0102165\n",
        "Johnny Mnemonic"
       ]
      },
      {
       "output_type": "stream",
       "stream": "stdout",
       "text": [
        "\n",
        "no office data"
       ]
      },
      {
       "output_type": "stream",
       "stream": "stdout",
       "text": [
        " 0112464\n",
        "no office data"
       ]
      },
      {
       "output_type": "stream",
       "stream": "stdout",
       "text": [
        " 0114469\n",
        "no office data"
       ]
      },
      {
       "output_type": "stream",
       "stream": "stdout",
       "text": [
        " 0114427\n",
        "no office data"
       ]
      },
      {
       "output_type": "stream",
       "stream": "stdout",
       "text": [
        " 0101616\n",
        "no office data"
       ]
      },
      {
       "output_type": "stream",
       "stream": "stdout",
       "text": [
        " 0113186\n",
        "no office data"
       ]
      },
      {
       "output_type": "stream",
       "stream": "stdout",
       "text": [
        " 0112416\n",
        "no office data"
       ]
      },
      {
       "output_type": "stream",
       "stream": "stdout",
       "text": [
        " 0114235\n",
        "no office data"
       ]
      },
      {
       "output_type": "stream",
       "stream": "stdout",
       "text": [
        " 0114643\n",
        "no office data"
       ]
      },
      {
       "output_type": "stream",
       "stream": "stdout",
       "text": [
        " 0114684\n",
        "no office data"
       ]
      },
      {
       "output_type": "stream",
       "stream": "stdout",
       "text": [
        " 0113318\n",
        "First Knight"
       ]
      },
      {
       "output_type": "stream",
       "stream": "stdout",
       "text": [
        "\n",
        "Kids"
       ]
      },
      {
       "output_type": "stream",
       "stream": "stdout",
       "text": [
        "\n",
        "no office data"
       ]
      },
      {
       "output_type": "stream",
       "stream": "stdout",
       "text": [
        " 0172519\n",
        "no office data"
       ]
      },
      {
       "output_type": "stream",
       "stream": "stdout",
       "text": [
        " 0114500\n",
        "no office data"
       ]
      },
      {
       "output_type": "stream",
       "stream": "stdout",
       "text": [
        " 0115016\n",
        "no office data"
       ]
      },
      {
       "output_type": "stream",
       "stream": "stdout",
       "text": [
        " 0115016\n",
        "no office data"
       ]
      },
      {
       "output_type": "stream",
       "stream": "stdout",
       "text": [
        " 0112719\n",
        "no office data"
       ]
      },
      {
       "output_type": "stream",
       "stream": "stdout",
       "text": [
        " 0135666\n",
        "no office data"
       ]
      },
      {
       "output_type": "stream",
       "stream": "stdout",
       "text": [
        " 0109282\n",
        "no office data"
       ]
      },
      {
       "output_type": "stream",
       "stream": "stdout",
       "text": [
        " 0114397\n",
        "no office data"
       ]
      },
      {
       "output_type": "stream",
       "stream": "stdout",
       "text": [
        " 0112452\n",
        "no office data"
       ]
      },
      {
       "output_type": "stream",
       "stream": "stdout",
       "text": [
        " 0109386\n",
        "no office data"
       ]
      },
      {
       "output_type": "stream",
       "stream": "stdout",
       "text": [
        " 0110256\n",
        "no office data"
       ]
      },
      {
       "output_type": "stream",
       "stream": "stdout",
       "text": [
        " 0109607\n",
        "no office data"
       ]
      },
      {
       "output_type": "stream",
       "stream": "stdout",
       "text": [
        " 0113636\n",
        "no office data"
       ]
      },
      {
       "output_type": "stream",
       "stream": "stdout",
       "text": [
        " 0112519\n",
        "no office data"
       ]
      },
      {
       "output_type": "stream",
       "stream": "stdout",
       "text": [
        " 0112446\n",
        "no office data"
       ]
      },
      {
       "output_type": "stream",
       "stream": "stdout",
       "text": [
        " 0109760\n",
        "no office data"
       ]
      },
      {
       "output_type": "stream",
       "stream": "stdout",
       "text": [
        " 0113309\n",
        "no office data"
       ]
      },
      {
       "output_type": "stream",
       "stream": "stdout",
       "text": [
        " 0112084\n",
        "no office data"
       ]
      },
      {
       "output_type": "stream",
       "stream": "stdout",
       "text": [
        " 0114745\n",
        "no office data"
       ]
      },
      {
       "output_type": "stream",
       "stream": "stdout",
       "text": [
        " 0112583\n",
        "no office data"
       ]
      },
      {
       "output_type": "stream",
       "stream": "stdout",
       "text": [
        " 0113264\n",
        "no office data"
       ]
      },
      {
       "output_type": "stream",
       "stream": "stdout",
       "text": [
        " 0332284\n",
        "no office data"
       ]
      },
      {
       "output_type": "stream",
       "stream": "stdout",
       "text": [
        " 0113576\n",
        "no office data"
       ]
      },
      {
       "output_type": "stream",
       "stream": "stdout",
       "text": [
        " 0110313\n",
        "no office data"
       ]
      },
      {
       "output_type": "stream",
       "stream": "stdout",
       "text": [
        " 0110313\n",
        "no office data"
       ]
      },
      {
       "output_type": "stream",
       "stream": "stdout",
       "text": [
        " 0114683\n",
        "no office data"
       ]
      },
      {
       "output_type": "stream",
       "stream": "stdout",
       "text": [
        " 0113948\n",
        "Finished:"
       ]
      },
      {
       "output_type": "stream",
       "stream": "stdout",
       "text": [
        " 1500 ----------------------\n",
        "no office data"
       ]
      },
      {
       "output_type": "stream",
       "stream": "stdout",
       "text": [
        " 0112796\n",
        "no office data"
       ]
      },
      {
       "output_type": "stream",
       "stream": "stdout",
       "text": [
        " 0114494\n",
        "no office data"
       ]
      },
      {
       "output_type": "stream",
       "stream": "stdout",
       "text": [
        " 0109266\n",
        "no office data"
       ]
      },
      {
       "output_type": "stream",
       "stream": "stdout",
       "text": [
        " 0110051\n",
        "no office data"
       ]
      },
      {
       "output_type": "stream",
       "stream": "stdout",
       "text": [
        " 0160266\n",
        "no office data"
       ]
      },
      {
       "output_type": "stream",
       "stream": "stdout",
       "text": [
        " 0113678\n",
        "no office data"
       ]
      },
      {
       "output_type": "stream",
       "stream": "stdout",
       "text": [
        " 0113490\n",
        "no office data"
       ]
      },
      {
       "output_type": "stream",
       "stream": "stdout",
       "text": [
        " 0112703\n",
        "no office data"
       ]
      },
      {
       "output_type": "stream",
       "stream": "stdout",
       "text": [
        " 0113224\n",
        "no office data"
       ]
      },
      {
       "output_type": "stream",
       "stream": "stdout",
       "text": [
        " 0112867\n",
        "no office data"
       ]
      },
      {
       "output_type": "stream",
       "stream": "stdout",
       "text": [
        " 0112438\n",
        "no office data"
       ]
      },
      {
       "output_type": "stream",
       "stream": "stdout",
       "text": [
        " 0113394\n",
        "no office data"
       ]
      },
      {
       "output_type": "stream",
       "stream": "stdout",
       "text": [
        " 0154004\n",
        "no office data"
       ]
      },
      {
       "output_type": "stream",
       "stream": "stdout",
       "text": [
        " 0113173\n",
        "no office data"
       ]
      },
      {
       "output_type": "stream",
       "stream": "stdout",
       "text": [
        " 0112405\n",
        "no office data"
       ]
      },
      {
       "output_type": "stream",
       "stream": "stdout",
       "text": [
        " 0112533\n",
        "no office data"
       ]
      },
      {
       "output_type": "stream",
       "stream": "stdout",
       "text": [
        " 0113580\n",
        "no office data"
       ]
      },
      {
       "output_type": "stream",
       "stream": "stdout",
       "text": [
        " 0110400\n",
        "no office data"
       ]
      },
      {
       "output_type": "stream",
       "stream": "stdout",
       "text": [
        " 0111939\n",
        "no office data"
       ]
      },
      {
       "output_type": "stream",
       "stream": "stdout",
       "text": [
        " 0117777\n",
        "no office data"
       ]
      },
      {
       "output_type": "stream",
       "stream": "stdout",
       "text": [
        " 0112547\n",
        "no office data"
       ]
      },
      {
       "output_type": "stream",
       "stream": "stdout",
       "text": [
        " 0113843\n",
        "no office data"
       ]
      },
      {
       "output_type": "stream",
       "stream": "stdout",
       "text": [
        " 0114939\n",
        "no office data"
       ]
      },
      {
       "output_type": "stream",
       "stream": "stdout",
       "text": [
        " 0124052\n",
        "no office data"
       ]
      },
      {
       "output_type": "stream",
       "stream": "stdout",
       "text": [
        " 0106961\n",
        "no office data"
       ]
      },
      {
       "output_type": "stream",
       "stream": "stdout",
       "text": [
        " 0113260\n",
        "no office data"
       ]
      },
      {
       "output_type": "stream",
       "stream": "stdout",
       "text": [
        " 0112102\n",
        "no office data"
       ]
      },
      {
       "output_type": "stream",
       "stream": "stdout",
       "text": [
        " 0113486\n",
        "no office data"
       ]
      },
      {
       "output_type": "stream",
       "stream": "stdout",
       "text": [
        " 0113827\n",
        "no office data"
       ]
      },
      {
       "output_type": "stream",
       "stream": "stdout",
       "text": [
        " 0113359\n",
        "no office data"
       ]
      },
      {
       "output_type": "stream",
       "stream": "stdout",
       "text": [
        " 0113767\n",
        "Two Much"
       ]
      },
      {
       "output_type": "stream",
       "stream": "stdout",
       "text": [
        "\n",
        "no office data"
       ]
      },
      {
       "output_type": "stream",
       "stream": "stdout",
       "text": [
        " 0112691\n",
        "no office data"
       ]
      },
      {
       "output_type": "stream",
       "stream": "stdout",
       "text": [
        " 0117418\n",
        "no office data"
       ]
      },
      {
       "output_type": "stream",
       "stream": "stdout",
       "text": [
        " 0112765\n",
        "no office data"
       ]
      },
      {
       "output_type": "stream",
       "stream": "stdout",
       "text": [
        " 0118218\n",
        "no office data"
       ]
      },
      {
       "output_type": "stream",
       "stream": "stdout",
       "text": [
        " 0120248\n",
        "no office data"
       ]
      },
      {
       "output_type": "stream",
       "stream": "stdout",
       "text": [
        " 0117450\n",
        "no office data"
       ]
      },
      {
       "output_type": "stream",
       "stream": "stdout",
       "text": [
        " 0112605\n",
        "no office data"
       ]
      },
      {
       "output_type": "stream",
       "stream": "stdout",
       "text": [
        " 0587273\n",
        "no office data"
       ]
      },
      {
       "output_type": "stream",
       "stream": "stdout",
       "text": [
        " 0112692\n",
        "no office data"
       ]
      },
      {
       "output_type": "stream",
       "stream": "stdout",
       "text": [
        " 0117957\n",
        "no office data"
       ]
      },
      {
       "output_type": "stream",
       "stream": "stdout",
       "text": [
        " 0117426\n",
        "no office data"
       ]
      },
      {
       "output_type": "stream",
       "stream": "stdout",
       "text": [
        " 0117306\n",
        "no office data"
       ]
      },
      {
       "output_type": "stream",
       "stream": "stdout",
       "text": [
        " 0117658\n",
        "no office data"
       ]
      },
      {
       "output_type": "stream",
       "stream": "stdout",
       "text": [
        " 0113730\n",
        "no office data"
       ]
      },
      {
       "output_type": "stream",
       "stream": "stdout",
       "text": [
        " 0116765\n",
        "Finished:"
       ]
      },
      {
       "output_type": "stream",
       "stream": "stdout",
       "text": [
        " 1600 ----------------------\n",
        "no office data"
       ]
      },
      {
       "output_type": "stream",
       "stream": "stdout",
       "text": [
        " 0112710\n",
        "no office data"
       ]
      },
      {
       "output_type": "stream",
       "stream": "stdout",
       "text": [
        " 0112285\n",
        "no office data"
       ]
      },
      {
       "output_type": "stream",
       "stream": "stdout",
       "text": [
        " 0112652\n",
        "no office data"
       ]
      },
      {
       "output_type": "stream",
       "stream": "stdout",
       "text": [
        " 0614615\n",
        "no office data"
       ]
      },
      {
       "output_type": "stream",
       "stream": "stdout",
       "text": [
        " 0115801\n",
        "no office data"
       ]
      },
      {
       "output_type": "stream",
       "stream": "stdout",
       "text": [
        " 1062115\n",
        "no office data"
       ]
      },
      {
       "output_type": "stream",
       "stream": "stdout",
       "text": [
        " 0116434\n",
        "no office data"
       ]
      },
      {
       "output_type": "stream",
       "stream": "stdout",
       "text": [
        " 0117583\n",
        "Mary Reilly"
       ]
      },
      {
       "output_type": "stream",
       "stream": "stdout",
       "text": [
        "\n",
        "no office data"
       ]
      },
      {
       "output_type": "stream",
       "stream": "stdout",
       "text": [
        " 0114131\n",
        "no office data"
       ]
      },
      {
       "output_type": "stream",
       "stream": "stdout",
       "text": [
        " 0117397\n",
        "no office data"
       ]
      },
      {
       "output_type": "stream",
       "stream": "stdout",
       "text": [
        " 0112526\n",
        "no office data"
       ]
      },
      {
       "output_type": "stream",
       "stream": "stdout",
       "text": [
        " 0152620\n",
        "no office data"
       ]
      },
      {
       "output_type": "stream",
       "stream": "stdout",
       "text": [
        " 0152620\n",
        "Down Periscope"
       ]
      },
      {
       "output_type": "stream",
       "stream": "stdout",
       "text": [
        "\n",
        "Down Periscope"
       ]
      },
      {
       "output_type": "stream",
       "stream": "stdout",
       "text": [
        "\n",
        "no office data"
       ]
      },
      {
       "output_type": "stream",
       "stream": "stdout",
       "text": [
        " 0127311\n",
        "no office data"
       ]
      },
      {
       "output_type": "stream",
       "stream": "stdout",
       "text": [
        " 0112612\n",
        "no office data"
       ]
      },
      {
       "output_type": "stream",
       "stream": "stdout",
       "text": [
        " 0260932\n",
        "no office data"
       ]
      },
      {
       "output_type": "stream",
       "stream": "stdout",
       "text": [
        " 0116622\n",
        "no office data"
       ]
      },
      {
       "output_type": "stream",
       "stream": "stdout",
       "text": [
        " 0114736\n",
        "no office data"
       ]
      },
      {
       "output_type": "stream",
       "stream": "stdout",
       "text": [
        " 0114529\n",
        "no office data"
       ]
      },
      {
       "output_type": "stream",
       "stream": "stdout",
       "text": [
        " 0115097\n",
        "no office data"
       ]
      },
      {
       "output_type": "stream",
       "stream": "stdout",
       "text": [
        " 0116265\n",
        "no office data"
       ]
      },
      {
       "output_type": "stream",
       "stream": "stdout",
       "text": [
        " 0114973\n",
        "no office data"
       ]
      },
      {
       "output_type": "stream",
       "stream": "stdout",
       "text": [
        " 0114973\n",
        "no office data"
       ]
      },
      {
       "output_type": "stream",
       "stream": "stdout",
       "text": [
        " 0116008\n",
        "no office data"
       ]
      },
      {
       "output_type": "stream",
       "stream": "stdout",
       "text": [
        " 0110374\n",
        "no office data"
       ]
      },
      {
       "output_type": "stream",
       "stream": "stdout",
       "text": [
        " 0116294\n",
        "no office data"
       ]
      },
      {
       "output_type": "stream",
       "stream": "stdout",
       "text": [
        " 0116178\n",
        "no office data"
       ]
      },
      {
       "output_type": "stream",
       "stream": "stdout",
       "text": [
        " 0115341\n",
        "no office data"
       ]
      },
      {
       "output_type": "stream",
       "stream": "stdout",
       "text": [
        " 0118039\n",
        "no office data"
       ]
      },
      {
       "output_type": "stream",
       "stream": "stdout",
       "text": [
        " 0117832\n",
        "no office data"
       ]
      },
      {
       "output_type": "stream",
       "stream": "stdout",
       "text": [
        " 0117809\n",
        "no office data"
       ]
      },
      {
       "output_type": "stream",
       "stream": "stdout",
       "text": [
        " 0116141\n",
        "no office data"
       ]
      },
      {
       "output_type": "stream",
       "stream": "stdout",
       "text": [
        " 0113272\n",
        "no office data"
       ]
      },
      {
       "output_type": "stream",
       "stream": "stdout",
       "text": [
        " 0116979\n",
        "no office data"
       ]
      },
      {
       "output_type": "stream",
       "stream": "stdout",
       "text": [
        " 0117185\n",
        "no office data"
       ]
      },
      {
       "output_type": "stream",
       "stream": "stdout",
       "text": [
        " 0118214\n",
        "no office data"
       ]
      },
      {
       "output_type": "stream",
       "stream": "stdout",
       "text": [
        " 0117780\n",
        "no office data"
       ]
      },
      {
       "output_type": "stream",
       "stream": "stdout",
       "text": [
        " 0111337\n",
        "no office data"
       ]
      },
      {
       "output_type": "stream",
       "stream": "stdout",
       "text": [
        " 0111337\n",
        "no office data"
       ]
      },
      {
       "output_type": "stream",
       "stream": "stdout",
       "text": [
        " 0200529\n",
        "no office data"
       ]
      },
      {
       "output_type": "stream",
       "stream": "stdout",
       "text": [
        " 0117995\n",
        "no office data"
       ]
      },
      {
       "output_type": "stream",
       "stream": "stdout",
       "text": [
        " 0117968\n",
        "no office data"
       ]
      },
      {
       "output_type": "stream",
       "stream": "stdout",
       "text": [
        " 0113926\n",
        "no office data"
       ]
      },
      {
       "output_type": "stream",
       "stream": "stdout",
       "text": [
        " 0117180\n",
        "Finished:"
       ]
      },
      {
       "output_type": "stream",
       "stream": "stdout",
       "text": [
        " 1700 ----------------------\n",
        "no office data"
       ]
      },
      {
       "output_type": "stream",
       "stream": "stdout",
       "text": [
        " 0117741\n",
        "no office data"
       ]
      },
      {
       "output_type": "stream",
       "stream": "stdout",
       "text": [
        " 0118177\n",
        "no office data"
       ]
      },
      {
       "output_type": "stream",
       "stream": "stdout",
       "text": [
        " 0116169\n",
        "no office data"
       ]
      },
      {
       "output_type": "stream",
       "stream": "stdout",
       "text": [
        " 0117653\n",
        "no office data"
       ]
      },
      {
       "output_type": "stream",
       "stream": "stdout",
       "text": [
        " 0116075\n",
        "no office data"
       ]
      },
      {
       "output_type": "stream",
       "stream": "stdout",
       "text": [
        " 0246729\n",
        "no office data"
       ]
      },
      {
       "output_type": "stream",
       "stream": "stdout",
       "text": [
        " 0117301\n",
        "no office data"
       ]
      },
      {
       "output_type": "stream",
       "stream": "stdout",
       "text": [
        " 0115500\n",
        "no office data"
       ]
      },
      {
       "output_type": "stream",
       "stream": "stdout",
       "text": [
        " 0115500\n",
        "no office data"
       ]
      },
      {
       "output_type": "stream",
       "stream": "stdout",
       "text": [
        " 0116884\n",
        "no office data"
       ]
      },
      {
       "output_type": "stream",
       "stream": "stdout",
       "text": [
        " 0117003\n",
        "no office data"
       ]
      },
      {
       "output_type": "stream",
       "stream": "stdout",
       "text": [
        " 0115849\n",
        "no office data"
       ]
      },
      {
       "output_type": "stream",
       "stream": "stdout",
       "text": [
        " 0116436\n",
        "no office data"
       ]
      },
      {
       "output_type": "stream",
       "stream": "stdout",
       "text": [
        " 0116455\n",
        "no office data"
       ]
      },
      {
       "output_type": "stream",
       "stream": "stdout",
       "text": [
        " 0117619\n",
        "no office data"
       ]
      },
      {
       "output_type": "stream",
       "stream": "stdout",
       "text": [
        " 0117457\n",
        "no office data"
       ]
      },
      {
       "output_type": "stream",
       "stream": "stdout",
       "text": [
        " 0113999\n",
        "no office data"
       ]
      },
      {
       "output_type": "stream",
       "stream": "stdout",
       "text": [
        " 0114845\n",
        "no office data"
       ]
      },
      {
       "output_type": "stream",
       "stream": "stdout",
       "text": [
        " 0115452\n",
        "no office data"
       ]
      },
      {
       "output_type": "stream",
       "stream": "stdout",
       "text": [
        " 0116767\n",
        "no office data"
       ]
      },
      {
       "output_type": "stream",
       "stream": "stdout",
       "text": [
        " 0117706\n",
        "no office data"
       ]
      },
      {
       "output_type": "stream",
       "stream": "stdout",
       "text": [
        " 0115976\n",
        "no office data"
       ]
      },
      {
       "output_type": "stream",
       "stream": "stdout",
       "text": [
        " 0117015\n",
        "no office data"
       ]
      },
      {
       "output_type": "stream",
       "stream": "stdout",
       "text": [
        " 0114321\n",
        "no office data"
       ]
      },
      {
       "output_type": "stream",
       "stream": "stdout",
       "text": [
        " 0944210\n",
        "no office data"
       ]
      },
      {
       "output_type": "stream",
       "stream": "stdout",
       "text": [
        " 0115491\n",
        "no office data"
       ]
      },
      {
       "output_type": "stream",
       "stream": "stdout",
       "text": [
        " 0116441\n",
        "no office data"
       ]
      },
      {
       "output_type": "stream",
       "stream": "stdout",
       "text": [
        " 0113241\n",
        "no office data"
       ]
      },
      {
       "output_type": "stream",
       "stream": "stdout",
       "text": [
        " 0117742\n",
        "no office data"
       ]
      },
      {
       "output_type": "stream",
       "stream": "stdout",
       "text": [
        " 0116791\n",
        "no office data"
       ]
      },
      {
       "output_type": "stream",
       "stream": "stdout",
       "text": [
        " 0110125\n",
        "no office data"
       ]
      },
      {
       "output_type": "stream",
       "stream": "stdout",
       "text": [
        " 0115608\n",
        "no office data"
       ]
      },
      {
       "output_type": "stream",
       "stream": "stdout",
       "text": [
        " 0119775\n",
        "no office data"
       ]
      },
      {
       "output_type": "stream",
       "stream": "stdout",
       "text": [
        " 0115994\n",
        "no office data"
       ]
      },
      {
       "output_type": "stream",
       "stream": "stdout",
       "text": [
        " 0116019\n",
        "no office data"
       ]
      },
      {
       "output_type": "stream",
       "stream": "stdout",
       "text": [
        " 0116245\n",
        "no office data"
       ]
      },
      {
       "output_type": "stream",
       "stream": "stdout",
       "text": [
        " 0116300\n",
        "no office data"
       ]
      },
      {
       "output_type": "stream",
       "stream": "stdout",
       "text": [
        " 0118063\n",
        "no office data"
       ]
      },
      {
       "output_type": "stream",
       "stream": "stdout",
       "text": [
        " 0114651\n",
        "no office data"
       ]
      },
      {
       "output_type": "stream",
       "stream": "stdout",
       "text": [
        " 0115665\n",
        "Finished:"
       ]
      },
      {
       "output_type": "stream",
       "stream": "stdout",
       "text": [
        " 1800 ----------------------\n",
        "no office data"
       ]
      },
      {
       "output_type": "stream",
       "stream": "stdout",
       "text": [
        " 0116228\n",
        "no office data"
       ]
      },
      {
       "output_type": "stream",
       "stream": "stdout",
       "text": [
        " 0116890\n",
        "no office data"
       ]
      },
      {
       "output_type": "stream",
       "stream": "stdout",
       "text": [
        " 0116340\n",
        "no office data"
       ]
      },
      {
       "output_type": "stream",
       "stream": "stdout",
       "text": [
        " 0111960\n",
        "no office data"
       ]
      },
      {
       "output_type": "stream",
       "stream": "stdout",
       "text": [
        " 0112320\n",
        "no office data"
       ]
      },
      {
       "output_type": "stream",
       "stream": "stdout",
       "text": [
        " 0117604\n",
        "no office data"
       ]
      },
      {
       "output_type": "stream",
       "stream": "stdout",
       "text": [
        " 0115715\n",
        "no office data"
       ]
      },
      {
       "output_type": "stream",
       "stream": "stdout",
       "text": [
        " 0113758\n",
        "no office data"
       ]
      },
      {
       "output_type": "stream",
       "stream": "stdout",
       "text": [
        " 0116828\n",
        "no office data"
       ]
      },
      {
       "output_type": "stream",
       "stream": "stdout",
       "text": [
        " 0117966\n",
        "no office data"
       ]
      },
      {
       "output_type": "stream",
       "stream": "stdout",
       "text": [
        " 0117549\n",
        "no office data"
       ]
      },
      {
       "output_type": "stream",
       "stream": "stdout",
       "text": [
        " 0117226\n",
        "no office data"
       ]
      },
      {
       "output_type": "stream",
       "stream": "stdout",
       "text": [
        " 0115834\n",
        "no office data"
       ]
      },
      {
       "output_type": "stream",
       "stream": "stdout",
       "text": [
        " 0116271\n",
        "no office data"
       ]
      },
      {
       "output_type": "stream",
       "stream": "stdout",
       "text": [
        " 0881182\n",
        "no office data"
       ]
      },
      {
       "output_type": "stream",
       "stream": "stdout",
       "text": [
        " 0120054\n",
        "no office data"
       ]
      },
      {
       "output_type": "stream",
       "stream": "stdout",
       "text": [
        " 0117905\n",
        "no office data"
       ]
      },
      {
       "output_type": "stream",
       "stream": "stdout",
       "text": [
        " 0114115\n",
        "no office data"
       ]
      },
      {
       "output_type": "stream",
       "stream": "stdout",
       "text": [
        " 0846057\n",
        "no office data"
       ]
      },
      {
       "output_type": "stream",
       "stream": "stdout",
       "text": [
        " 0127500\n",
        "no office data"
       ]
      },
      {
       "output_type": "stream",
       "stream": "stdout",
       "text": [
        " 0117061\n",
        "no office data"
       ]
      },
      {
       "output_type": "stream",
       "stream": "stdout",
       "text": [
        " 0118702\n",
        "Beyond Silence (Jenseits der Stille)"
       ]
      },
      {
       "output_type": "stream",
       "stream": "stdout",
       "text": [
        "\n",
        "no office data"
       ]
      },
      {
       "output_type": "stream",
       "stream": "stdout",
       "text": [
        " 0192962\n",
        "no office data"
       ]
      },
      {
       "output_type": "stream",
       "stream": "stdout",
       "text": [
        " 0116401\n",
        "no office data"
       ]
      },
      {
       "output_type": "stream",
       "stream": "stdout",
       "text": [
        " 0142316\n",
        "no office data"
       ]
      },
      {
       "output_type": "stream",
       "stream": "stdout",
       "text": [
        " 0114502\n",
        "no office data"
       ]
      },
      {
       "output_type": "stream",
       "stream": "stdout",
       "text": [
        " 0112937\n",
        "no office data"
       ]
      },
      {
       "output_type": "stream",
       "stream": "stdout",
       "text": [
        " 0119501\n",
        "no office data"
       ]
      },
      {
       "output_type": "stream",
       "stream": "stdout",
       "text": [
        " 0118976\n",
        "no office data"
       ]
      },
      {
       "output_type": "stream",
       "stream": "stdout",
       "text": [
        " 0117187\n",
        "no office data"
       ]
      },
      {
       "output_type": "stream",
       "stream": "stdout",
       "text": [
        " 0117567\n",
        "no office data"
       ]
      },
      {
       "output_type": "stream",
       "stream": "stdout",
       "text": [
        " 0119660\n",
        "no office data"
       ]
      },
      {
       "output_type": "stream",
       "stream": "stdout",
       "text": [
        " 0118727\n",
        "no office data"
       ]
      },
      {
       "output_type": "stream",
       "stream": "stdout",
       "text": [
        " 0115536\n",
        "no office data"
       ]
      },
      {
       "output_type": "stream",
       "stream": "stdout",
       "text": [
        " 0117481\n",
        "no office data"
       ]
      },
      {
       "output_type": "stream",
       "stream": "stdout",
       "text": [
        " 0119649\n",
        "Finished:"
       ]
      },
      {
       "output_type": "stream",
       "stream": "stdout",
       "text": [
        " 1900 ----------------------\n",
        "no office data"
       ]
      },
      {
       "output_type": "stream",
       "stream": "stdout",
       "text": [
        " 0119046\n",
        "no office data"
       ]
      },
      {
       "output_type": "stream",
       "stream": "stdout",
       "text": [
        " 0115462\n",
        "no office data"
       ]
      },
      {
       "output_type": "stream",
       "stream": "stdout",
       "text": [
        " 0119579\n",
        "no office data"
       ]
      },
      {
       "output_type": "stream",
       "stream": "stdout",
       "text": [
        " 0115985\n",
        "no office data"
       ]
      },
      {
       "output_type": "stream",
       "stream": "stdout",
       "text": [
        " 0115741\n",
        "no office data"
       ]
      },
      {
       "output_type": "stream",
       "stream": "stdout",
       "text": [
        " 0118261\n",
        "no office data"
       ]
      },
      {
       "output_type": "stream",
       "stream": "stdout",
       "text": [
        " 0576985\n",
        "no office data"
       ]
      },
      {
       "output_type": "stream",
       "stream": "stdout",
       "text": [
        " 0117273\n",
        "no office data"
       ]
      },
      {
       "output_type": "stream",
       "stream": "stdout",
       "text": [
        " 0940894\n",
        "no office data"
       ]
      },
      {
       "output_type": "stream",
       "stream": "stdout",
       "text": [
        " 0118660\n",
        "no office data"
       ]
      },
      {
       "output_type": "stream",
       "stream": "stdout",
       "text": [
        " 0119161\n",
        "no office data"
       ]
      },
      {
       "output_type": "stream",
       "stream": "stdout",
       "text": [
        " 0120534\n",
        "no office data"
       ]
      },
      {
       "output_type": "stream",
       "stream": "stdout",
       "text": [
        " 0119823\n",
        "no office data"
       ]
      },
      {
       "output_type": "stream",
       "stream": "stdout",
       "text": [
        " 0116861\n",
        "no office data"
       ]
      },
      {
       "output_type": "stream",
       "stream": "stdout",
       "text": [
        " 0119607\n",
        "no office data"
       ]
      },
      {
       "output_type": "stream",
       "stream": "stdout",
       "text": [
        " 0219919\n",
        "no office data"
       ]
      },
      {
       "output_type": "stream",
       "stream": "stdout",
       "text": [
        " 0118912\n",
        "no office data"
       ]
      },
      {
       "output_type": "stream",
       "stream": "stdout",
       "text": [
        " 0161574\n",
        "no office data"
       ]
      },
      {
       "output_type": "stream",
       "stream": "stdout",
       "text": [
        " 0118719\n",
        "no office data"
       ]
      },
      {
       "output_type": "stream",
       "stream": "stdout",
       "text": [
        " 0114687\n",
        "no office data"
       ]
      },
      {
       "output_type": "stream",
       "stream": "stdout",
       "text": [
        " 0304072\n",
        "no office data"
       ]
      },
      {
       "output_type": "stream",
       "stream": "stdout",
       "text": [
        " 0120392\n",
        "no office data"
       ]
      },
      {
       "output_type": "stream",
       "stream": "stdout",
       "text": [
        " 0139861\n",
        "no office data"
       ]
      },
      {
       "output_type": "stream",
       "stream": "stdout",
       "text": [
        " 0119525\n",
        "no office data"
       ]
      },
      {
       "output_type": "stream",
       "stream": "stdout",
       "text": [
        " 0115965\n",
        "no office data"
       ]
      },
      {
       "output_type": "stream",
       "stream": "stdout",
       "text": [
        " 0119582\n",
        "no office data"
       ]
      },
      {
       "output_type": "stream",
       "stream": "stdout",
       "text": [
        " 0112904\n",
        "no office data"
       ]
      },
      {
       "output_type": "stream",
       "stream": "stdout",
       "text": [
        " 0166082\n",
        "no office data"
       ]
      },
      {
       "output_type": "stream",
       "stream": "stdout",
       "text": [
        " 0119369\n",
        "no office data"
       ]
      },
      {
       "output_type": "stream",
       "stream": "stdout",
       "text": [
        " 0119369\n",
        "no office data"
       ]
      },
      {
       "output_type": "stream",
       "stream": "stdout",
       "text": [
        " 0120146\n",
        "no office data"
       ]
      },
      {
       "output_type": "stream",
       "stream": "stdout",
       "text": [
        " 0119710\n",
        "no office data"
       ]
      },
      {
       "output_type": "stream",
       "stream": "stdout",
       "text": [
        " 0116762\n",
        "no office data"
       ]
      },
      {
       "output_type": "stream",
       "stream": "stdout",
       "text": [
        " 0179526\n",
        "no office data"
       ]
      },
      {
       "output_type": "stream",
       "stream": "stdout",
       "text": [
        " 0120499\n",
        "no office data"
       ]
      },
      {
       "output_type": "stream",
       "stream": "stdout",
       "text": [
        " 0119316\n",
        "no office data"
       ]
      },
      {
       "output_type": "stream",
       "stream": "stdout",
       "text": [
        " 0120551\n",
        "no office data"
       ]
      },
      {
       "output_type": "stream",
       "stream": "stdout",
       "text": [
        " 0119836\n",
        "no office data"
       ]
      },
      {
       "output_type": "stream",
       "stream": "stdout",
       "text": [
        " 0120204\n",
        "no office data"
       ]
      },
      {
       "output_type": "stream",
       "stream": "stdout",
       "text": [
        " 0120204\n",
        "no office data"
       ]
      },
      {
       "output_type": "stream",
       "stream": "stdout",
       "text": [
        " 0119025\n",
        "no office data"
       ]
      },
      {
       "output_type": "stream",
       "stream": "stdout",
       "text": [
        " 0119855\n",
        "no office data"
       ]
      },
      {
       "output_type": "stream",
       "stream": "stdout",
       "text": [
        " 0116941\n",
        "no office data"
       ]
      },
      {
       "output_type": "stream",
       "stream": "stdout",
       "text": [
        " 0044445\n",
        "no office data"
       ]
      },
      {
       "output_type": "stream",
       "stream": "stdout",
       "text": [
        " 0115696\n",
        "no office data"
       ]
      },
      {
       "output_type": "stream",
       "stream": "stdout",
       "text": [
        " 0120249\n",
        "no office data"
       ]
      },
      {
       "output_type": "stream",
       "stream": "stdout",
       "text": [
        " 0703110\n",
        "no office data"
       ]
      },
      {
       "output_type": "stream",
       "stream": "stdout",
       "text": [
        " 0115647\n",
        "no office data"
       ]
      },
      {
       "output_type": "stream",
       "stream": "stdout",
       "text": [
        " 0119243\n",
        "no office data"
       ]
      },
      {
       "output_type": "stream",
       "stream": "stdout",
       "text": [
        " 0158489\n",
        "no office data"
       ]
      },
      {
       "output_type": "stream",
       "stream": "stdout",
       "text": [
        " 0118414\n",
        "Finished:"
       ]
      },
      {
       "output_type": "stream",
       "stream": "stdout",
       "text": [
        " 2000 ----------------------\n",
        "no office data"
       ]
      },
      {
       "output_type": "stream",
       "stream": "stdout",
       "text": [
        " 0118745\n",
        "no office data"
       ]
      },
      {
       "output_type": "stream",
       "stream": "stdout",
       "text": [
        " 0119358\n",
        "no office data"
       ]
      },
      {
       "output_type": "stream",
       "stream": "stdout",
       "text": [
        " 0119555\n",
        "no office data"
       ]
      },
      {
       "output_type": "stream",
       "stream": "stdout",
       "text": [
        " 0120158\n",
        "no office data"
       ]
      },
      {
       "output_type": "stream",
       "stream": "stdout",
       "text": [
        " 0281993\n",
        "no office data"
       ]
      },
      {
       "output_type": "stream",
       "stream": "stdout",
       "text": [
        " 0286309\n",
        "no office data"
       ]
      },
      {
       "output_type": "stream",
       "stream": "stdout",
       "text": [
        " 0739046\n",
        "no office data"
       ]
      },
      {
       "output_type": "stream",
       "stream": "stdout",
       "text": [
        " 0119796\n",
        "no office data"
       ]
      },
      {
       "output_type": "stream",
       "stream": "stdout",
       "text": [
        " 0364571\n",
        "no office data"
       ]
      },
      {
       "output_type": "stream",
       "stream": "stdout",
       "text": [
        " 0115524\n",
        "no office data"
       ]
      },
      {
       "output_type": "stream",
       "stream": "stdout",
       "text": [
        " 0115487\n",
        "no office data"
       ]
      },
      {
       "output_type": "stream",
       "stream": "stdout",
       "text": [
        " 0118734\n",
        "no office data"
       ]
      },
      {
       "output_type": "stream",
       "stream": "stdout",
       "text": [
        " 0117496\n",
        "no office data"
       ]
      },
      {
       "output_type": "stream",
       "stream": "stdout",
       "text": [
        " 0749223\n",
        "no office data"
       ]
      },
      {
       "output_type": "stream",
       "stream": "stdout",
       "text": [
        " 0116646\n",
        "no office data"
       ]
      },
      {
       "output_type": "stream",
       "stream": "stdout",
       "text": [
        " 0119935\n",
        "no office data"
       ]
      },
      {
       "output_type": "stream",
       "stream": "stdout",
       "text": [
        " 0164704\n",
        "no office data"
       ]
      },
      {
       "output_type": "stream",
       "stream": "stdout",
       "text": [
        " 0119589\n",
        "no office data"
       ]
      },
      {
       "output_type": "stream",
       "stream": "stdout",
       "text": [
        " 0115756\n",
        "no office data"
       ]
      },
      {
       "output_type": "stream",
       "stream": "stdout",
       "text": [
        " 0134664\n",
        "no office data"
       ]
      },
      {
       "output_type": "stream",
       "stream": "stdout",
       "text": [
        " 0133059\n",
        "no office data"
       ]
      },
      {
       "output_type": "stream",
       "stream": "stdout",
       "text": [
        " 0123371\n",
        "no office data"
       ]
      },
      {
       "output_type": "stream",
       "stream": "stdout",
       "text": [
        " 0118025\n",
        "no office data"
       ]
      },
      {
       "output_type": "stream",
       "stream": "stdout",
       "text": [
        " 0119947\n",
        "no office data"
       ]
      },
      {
       "output_type": "stream",
       "stream": "stdout",
       "text": [
        " 0120456\n",
        "no office data"
       ]
      },
      {
       "output_type": "stream",
       "stream": "stdout",
       "text": [
        " 0120536\n",
        "no office data"
       ]
      },
      {
       "output_type": "stream",
       "stream": "stdout",
       "text": [
        " 0117676\n",
        "no office data"
       ]
      },
      {
       "output_type": "stream",
       "stream": "stdout",
       "text": [
        " 0118350\n",
        "no office data"
       ]
      },
      {
       "output_type": "stream",
       "stream": "stdout",
       "text": [
        " 0119189\n",
        "no office data"
       ]
      },
      {
       "output_type": "stream",
       "stream": "stdout",
       "text": [
        " 0118528\n",
        "no office data"
       ]
      },
      {
       "output_type": "stream",
       "stream": "stdout",
       "text": [
        " 0123241\n",
        "no office data"
       ]
      },
      {
       "output_type": "stream",
       "stream": "stdout",
       "text": [
        " 0119926\n",
        "no office data"
       ]
      },
      {
       "output_type": "stream",
       "stream": "stdout",
       "text": [
        " 0122474\n",
        "no office data"
       ]
      },
      {
       "output_type": "stream",
       "stream": "stdout",
       "text": [
        " 0236304\n",
        "no office data"
       ]
      },
      {
       "output_type": "stream",
       "stream": "stdout",
       "text": [
        " 0128371\n",
        "no office data"
       ]
      },
      {
       "output_type": "stream",
       "stream": "stdout",
       "text": [
        " 0284607\n",
        "no office data"
       ]
      },
      {
       "output_type": "stream",
       "stream": "stdout",
       "text": [
        " 0326313\n",
        "Finished:"
       ]
      },
      {
       "output_type": "stream",
       "stream": "stdout",
       "text": [
        " 2100 ----------------------\n",
        "no office data"
       ]
      },
      {
       "output_type": "stream",
       "stream": "stdout",
       "text": [
        " 0385534\n",
        "no office data"
       ]
      },
      {
       "output_type": "stream",
       "stream": "stdout",
       "text": [
        " 0385534\n",
        "no office data"
       ]
      },
      {
       "output_type": "stream",
       "stream": "stdout",
       "text": [
        " 0116387\n",
        "no office data"
       ]
      },
      {
       "output_type": "stream",
       "stream": "stdout",
       "text": [
        " 0119561\n",
        "no office data"
       ]
      },
      {
       "output_type": "stream",
       "stream": "stdout",
       "text": [
        " 0116547\n",
        "no office data"
       ]
      },
      {
       "output_type": "stream",
       "stream": "stdout",
       "text": [
        " 0116547\n",
        "no office data"
       ]
      },
      {
       "output_type": "stream",
       "stream": "stdout",
       "text": [
        " 0118800\n",
        "no office data"
       ]
      },
      {
       "output_type": "stream",
       "stream": "stdout",
       "text": [
        " 0118800\n",
        "no office data"
       ]
      },
      {
       "output_type": "stream",
       "stream": "stdout",
       "text": [
        " 0125828\n",
        "no office data"
       ]
      },
      {
       "output_type": "stream",
       "stream": "stdout",
       "text": [
        " 0125319\n",
        "no office data"
       ]
      },
      {
       "output_type": "stream",
       "stream": "stdout",
       "text": [
        " 0117280\n",
        "no office data"
       ]
      },
      {
       "output_type": "stream",
       "stream": "stdout",
       "text": [
        " 0119012\n",
        "no office data"
       ]
      },
      {
       "output_type": "stream",
       "stream": "stdout",
       "text": [
        " 0126245\n",
        "no office data"
       ]
      },
      {
       "output_type": "stream",
       "stream": "stdout",
       "text": [
        " 0131620\n",
        "no office data"
       ]
      },
      {
       "output_type": "stream",
       "stream": "stdout",
       "text": [
        " 0117395\n",
        "no office data"
       ]
      },
      {
       "output_type": "stream",
       "stream": "stdout",
       "text": [
        " 0117395\n",
        "no office data"
       ]
      },
      {
       "output_type": "stream",
       "stream": "stdout",
       "text": [
        " 0119320\n",
        "no office data"
       ]
      },
      {
       "output_type": "stream",
       "stream": "stdout",
       "text": [
        " 0145456\n",
        "no office data"
       ]
      },
      {
       "output_type": "stream",
       "stream": "stdout",
       "text": [
        " 0126249\n",
        "no office data"
       ]
      },
      {
       "output_type": "stream",
       "stream": "stdout",
       "text": [
        " 0133372\n",
        "no office data"
       ]
      },
      {
       "output_type": "stream",
       "stream": "stdout",
       "text": [
        " 0119682\n",
        "no office data"
       ]
      },
      {
       "output_type": "stream",
       "stream": "stdout",
       "text": [
        " 0119608\n",
        "no office data"
       ]
      },
      {
       "output_type": "stream",
       "stream": "stdout",
       "text": [
        " 0119389\n",
        "no office data"
       ]
      },
      {
       "output_type": "stream",
       "stream": "stdout",
       "text": [
        " 0118949\n",
        "no office data"
       ]
      },
      {
       "output_type": "stream",
       "stream": "stdout",
       "text": [
        " 0130964\n",
        "no office data"
       ]
      },
      {
       "output_type": "stream",
       "stream": "stdout",
       "text": [
        " 0149601\n",
        "no office data"
       ]
      },
      {
       "output_type": "stream",
       "stream": "stdout",
       "text": [
        " 0145046\n",
        "no office data"
       ]
      },
      {
       "output_type": "stream",
       "stream": "stdout",
       "text": [
        " 0119268\n",
        "no office data"
       ]
      },
      {
       "output_type": "stream",
       "stream": "stdout",
       "text": [
        " 0133226\n",
        "no office data"
       ]
      },
      {
       "output_type": "stream",
       "stream": "stdout",
       "text": [
        " 0119228\n",
        "no office data"
       ]
      },
      {
       "output_type": "stream",
       "stream": "stdout",
       "text": [
        " 0120602\n",
        "no office data"
       ]
      },
      {
       "output_type": "stream",
       "stream": "stdout",
       "text": [
        " 0131352\n",
        "no office data"
       ]
      },
      {
       "output_type": "stream",
       "stream": "stdout",
       "text": [
        " 0131409\n",
        "no office data"
       ]
      },
      {
       "output_type": "stream",
       "stream": "stdout",
       "text": [
        " 0129694\n",
        "no office data"
       ]
      },
      {
       "output_type": "stream",
       "stream": "stdout",
       "text": [
        " 0120174\n",
        "no office data"
       ]
      },
      {
       "output_type": "stream",
       "stream": "stdout",
       "text": [
        " 0120174\n",
        "no office data"
       ]
      },
      {
       "output_type": "stream",
       "stream": "stdout",
       "text": [
        " 0148428\n",
        "no office data"
       ]
      },
      {
       "output_type": "stream",
       "stream": "stdout",
       "text": [
        " 0163982\n",
        "no office data"
       ]
      },
      {
       "output_type": "stream",
       "stream": "stdout",
       "text": [
        " 0168594\n",
        "no office data"
       ]
      },
      {
       "output_type": "stream",
       "stream": "stdout",
       "text": [
        " 0127624\n",
        "no office data"
       ]
      },
      {
       "output_type": "stream",
       "stream": "stdout",
       "text": [
        " 0167758\n",
        "no office data"
       ]
      },
      {
       "output_type": "stream",
       "stream": "stdout",
       "text": [
        " 0367753\n",
        "Finished:"
       ]
      },
      {
       "output_type": "stream",
       "stream": "stdout",
       "text": [
        " 2200 ----------------------\n",
        "no office data"
       ]
      },
      {
       "output_type": "stream",
       "stream": "stdout",
       "text": [
        " 0181850\n",
        "no office data"
       ]
      },
      {
       "output_type": "stream",
       "stream": "stdout",
       "text": [
        " 0132165\n",
        "no office data"
       ]
      },
      {
       "output_type": "stream",
       "stream": "stdout",
       "text": [
        " 0327019\n",
        "no office data"
       ]
      },
      {
       "output_type": "stream",
       "stream": "stdout",
       "text": [
        " 0139193\n",
        "no office data"
       ]
      },
      {
       "output_type": "stream",
       "stream": "stdout",
       "text": [
        " 0139193\n",
        "no office data"
       ]
      },
      {
       "output_type": "stream",
       "stream": "stdout",
       "text": [
        " 0139193\n",
        "no office data"
       ]
      },
      {
       "output_type": "stream",
       "stream": "stdout",
       "text": [
        " 0162128\n",
        "no office data"
       ]
      },
      {
       "output_type": "stream",
       "stream": "stdout",
       "text": [
        " 0177227\n",
        "no office data"
       ]
      },
      {
       "output_type": "stream",
       "stream": "stdout",
       "text": [
        " 0166232\n",
        "no office data"
       ]
      },
      {
       "output_type": "stream",
       "stream": "stdout",
       "text": [
        " 0161514\n",
        "no office data"
       ]
      },
      {
       "output_type": "stream",
       "stream": "stdout",
       "text": [
        " 0161514\n",
        "no office data"
       ]
      },
      {
       "output_type": "stream",
       "stream": "stdout",
       "text": [
        " 0139669\n",
        "no office data"
       ]
      },
      {
       "output_type": "stream",
       "stream": "stdout",
       "text": [
        " 0139669\n",
        "no office data"
       ]
      },
      {
       "output_type": "stream",
       "stream": "stdout",
       "text": [
        " 0120051\n",
        "no office data"
       ]
      },
      {
       "output_type": "stream",
       "stream": "stdout",
       "text": [
        " 0129634\n",
        "no office data"
       ]
      },
      {
       "output_type": "stream",
       "stream": "stdout",
       "text": [
        " 0349635\n",
        "no office data"
       ]
      },
      {
       "output_type": "stream",
       "stream": "stdout",
       "text": [
        " 0137146\n",
        "no office data"
       ]
      },
      {
       "output_type": "stream",
       "stream": "stdout",
       "text": [
        " 0148631\n",
        "no office data"
       ]
      },
      {
       "output_type": "stream",
       "stream": "stdout",
       "text": [
        " 0167049\n",
        "no office data"
       ]
      },
      {
       "output_type": "stream",
       "stream": "stdout",
       "text": [
        " 0120640\n",
        "no office data"
       ]
      },
      {
       "output_type": "stream",
       "stream": "stdout",
       "text": [
        " 0125936\n",
        "no office data"
       ]
      },
      {
       "output_type": "stream",
       "stream": "stdout",
       "text": [
        " 0116497\n",
        "no office data"
       ]
      },
      {
       "output_type": "stream",
       "stream": "stdout",
       "text": [
        " 0254378\n",
        "no office data"
       ]
      },
      {
       "output_type": "stream",
       "stream": "stdout",
       "text": [
        " 0140508\n",
        "no office data"
       ]
      },
      {
       "output_type": "stream",
       "stream": "stdout",
       "text": [
        " 0144550\n",
        "no office data"
       ]
      },
      {
       "output_type": "stream",
       "stream": "stdout",
       "text": [
        " 0118748\n",
        "no office data"
       ]
      },
      {
       "output_type": "stream",
       "stream": "stdout",
       "text": [
        " 0118748\n",
        "no office data"
       ]
      },
      {
       "output_type": "stream",
       "stream": "stdout",
       "text": [
        " 0167059\n",
        "no office data"
       ]
      },
      {
       "output_type": "stream",
       "stream": "stdout",
       "text": [
        " 0141988\n",
        "no office data"
       ]
      },
      {
       "output_type": "stream",
       "stream": "stdout",
       "text": [
        " 0129908\n",
        "no office data"
       ]
      },
      {
       "output_type": "stream",
       "stream": "stdout",
       "text": [
        " 0183705\n",
        "no office data"
       ]
      },
      {
       "output_type": "stream",
       "stream": "stdout",
       "text": [
        " 0173080\n",
        "no office data"
       ]
      },
      {
       "output_type": "stream",
       "stream": "stdout",
       "text": [
        " 0119365\n",
        "no office data"
       ]
      },
      {
       "output_type": "stream",
       "stream": "stdout",
       "text": [
        " 0118865\n",
        "no office data"
       ]
      },
      {
       "output_type": "stream",
       "stream": "stdout",
       "text": [
        " 0157996\n",
        "no office data"
       ]
      },
      {
       "output_type": "stream",
       "stream": "stdout",
       "text": [
        " 0119213\n",
        "no office data"
       ]
      },
      {
       "output_type": "stream",
       "stream": "stdout",
       "text": [
        " 0140653\n",
        "no office data"
       ]
      },
      {
       "output_type": "stream",
       "stream": "stdout",
       "text": [
        " 0152265\n",
        "no office data"
       ]
      },
      {
       "output_type": "stream",
       "stream": "stdout",
       "text": [
        " 0138104\n",
        "no office data"
       ]
      },
      {
       "output_type": "stream",
       "stream": "stdout",
       "text": [
        " 0146425\n",
        "no office data"
       ]
      },
      {
       "output_type": "stream",
       "stream": "stdout",
       "text": [
        " 0120131\n",
        "no office data"
       ]
      },
      {
       "output_type": "stream",
       "stream": "stdout",
       "text": [
        " 0120756\n",
        "no office data"
       ]
      },
      {
       "output_type": "stream",
       "stream": "stdout",
       "text": [
        " 0122573\n",
        "no office data"
       ]
      },
      {
       "output_type": "stream",
       "stream": "stdout",
       "text": [
        " 0119734\n",
        "no office data"
       ]
      },
      {
       "output_type": "stream",
       "stream": "stdout",
       "text": [
        " 0120401\n",
        "no office data"
       ]
      },
      {
       "output_type": "stream",
       "stream": "stdout",
       "text": [
        " 0241644\n",
        "no office data"
       ]
      },
      {
       "output_type": "stream",
       "stream": "stdout",
       "text": [
        " 0155810\n",
        "no office data"
       ]
      },
      {
       "output_type": "stream",
       "stream": "stdout",
       "text": [
        " 0147582\n",
        "no office data"
       ]
      },
      {
       "output_type": "stream",
       "stream": "stdout",
       "text": [
        " 0140613\n",
        "no office data"
       ]
      },
      {
       "output_type": "stream",
       "stream": "stdout",
       "text": [
        " 0119989\n",
        "no office data"
       ]
      },
      {
       "output_type": "stream",
       "stream": "stdout",
       "text": [
        " 0122710\n",
        "Finished:"
       ]
      },
      {
       "output_type": "stream",
       "stream": "stdout",
       "text": [
        " 2300 ----------------------\n",
        "no office data"
       ]
      },
      {
       "output_type": "stream",
       "stream": "stdout",
       "text": [
        " 0119869\n",
        "no office data"
       ]
      },
      {
       "output_type": "stream",
       "stream": "stdout",
       "text": [
        " 0119869\n",
        "no office data"
       ]
      },
      {
       "output_type": "stream",
       "stream": "stdout",
       "text": [
        " 0148573\n",
        "no office data"
       ]
      },
      {
       "output_type": "stream",
       "stream": "stdout",
       "text": [
        " 0151683\n",
        "no office data"
       ]
      },
      {
       "output_type": "stream",
       "stream": "stdout",
       "text": [
        " 0188503\n",
        "no office data"
       ]
      },
      {
       "output_type": "stream",
       "stream": "stdout",
       "text": [
        " 0153219\n",
        "no office data"
       ]
      },
      {
       "output_type": "stream",
       "stream": "stdout",
       "text": [
        " 0123808\n",
        "no office data"
       ]
      },
      {
       "output_type": "stream",
       "stream": "stdout",
       "text": [
        " 0155877\n",
        "no office data"
       ]
      },
      {
       "output_type": "stream",
       "stream": "stdout",
       "text": [
        " 0155877\n",
        "no office data"
       ]
      },
      {
       "output_type": "stream",
       "stream": "stdout",
       "text": [
        " 0154467\n",
        "no office data"
       ]
      },
      {
       "output_type": "stream",
       "stream": "stdout",
       "text": [
        " 0165546\n",
        "no office data"
       ]
      },
      {
       "output_type": "stream",
       "stream": "stdout",
       "text": [
        " 0119781\n",
        "no office data"
       ]
      },
      {
       "output_type": "stream",
       "stream": "stdout",
       "text": [
        " 0153882\n",
        "no office data"
       ]
      },
      {
       "output_type": "stream",
       "stream": "stdout",
       "text": [
        " 0158051\n",
        "no office data"
       ]
      },
      {
       "output_type": "stream",
       "stream": "stdout",
       "text": [
        " 0156554\n",
        "no office data"
       ]
      },
      {
       "output_type": "stream",
       "stream": "stdout",
       "text": [
        " 0128690\n",
        "no office data"
       ]
      },
      {
       "output_type": "stream",
       "stream": "stdout",
       "text": [
        " 0128690\n",
        "no office data"
       ]
      },
      {
       "output_type": "stream",
       "stream": "stdout",
       "text": [
        " 0233973\n",
        "no office data"
       ]
      },
      {
       "output_type": "stream",
       "stream": "stdout",
       "text": [
        " 0139029\n",
        "no office data"
       ]
      },
      {
       "output_type": "stream",
       "stream": "stdout",
       "text": [
        " 0120712\n",
        "no office data"
       ]
      },
      {
       "output_type": "stream",
       "stream": "stdout",
       "text": [
        " 0157216\n",
        "no office data"
       ]
      },
      {
       "output_type": "stream",
       "stream": "stdout",
       "text": [
        " 0156849\n",
        "no office data"
       ]
      },
      {
       "output_type": "stream",
       "stream": "stdout",
       "text": [
        " 0196459\n",
        "no office data"
       ]
      },
      {
       "output_type": "stream",
       "stream": "stdout",
       "text": [
        " 0142915\n",
        "no office data"
       ]
      },
      {
       "output_type": "stream",
       "stream": "stdout",
       "text": [
        " 0175047\n",
        "no office data"
       ]
      },
      {
       "output_type": "stream",
       "stream": "stdout",
       "text": [
        " 0277605\n",
        "no office data"
       ]
      },
      {
       "output_type": "stream",
       "stream": "stdout",
       "text": [
        " 0479566\n",
        "no office data"
       ]
      },
      {
       "output_type": "stream",
       "stream": "stdout",
       "text": [
        " 0162709\n",
        "no office data"
       ]
      },
      {
       "output_type": "stream",
       "stream": "stdout",
       "text": [
        " 0155919\n",
        "no office data"
       ]
      },
      {
       "output_type": "stream",
       "stream": "stdout",
       "text": [
        " 0122603\n",
        "no office data"
       ]
      },
      {
       "output_type": "stream",
       "stream": "stdout",
       "text": [
        " 0180607\n",
        "no office data"
       ]
      },
      {
       "output_type": "stream",
       "stream": "stdout",
       "text": [
        " 0693032\n",
        "no office data"
       ]
      },
      {
       "output_type": "stream",
       "stream": "stdout",
       "text": [
        " 0131484\n",
        "no office data"
       ]
      },
      {
       "output_type": "stream",
       "stream": "stdout",
       "text": [
        " 0157721\n",
        "no office data"
       ]
      },
      {
       "output_type": "stream",
       "stream": "stdout",
       "text": [
        " 0130192\n",
        "no office data"
       ]
      },
      {
       "output_type": "stream",
       "stream": "stdout",
       "text": [
        " 0142181\n",
        "no office data"
       ]
      },
      {
       "output_type": "stream",
       "stream": "stdout",
       "text": [
        " 0169929\n",
        "no office data"
       ]
      },
      {
       "output_type": "stream",
       "stream": "stdout",
       "text": [
        " 0158831\n",
        "no office data"
       ]
      },
      {
       "output_type": "stream",
       "stream": "stdout",
       "text": [
        " 0156075\n",
        "no office data"
       ]
      },
      {
       "output_type": "stream",
       "stream": "stdout",
       "text": [
        " 0119774\n",
        "no office data"
       ]
      },
      {
       "output_type": "stream",
       "stream": "stdout",
       "text": [
        " 0119103\n",
        "no office data"
       ]
      },
      {
       "output_type": "stream",
       "stream": "stdout",
       "text": [
        " 0121804\n",
        "no office data"
       ]
      },
      {
       "output_type": "stream",
       "stream": "stdout",
       "text": [
        " 0130530\n",
        "no office data"
       ]
      },
      {
       "output_type": "stream",
       "stream": "stdout",
       "text": [
        " 0212303\n",
        "no office data"
       ]
      },
      {
       "output_type": "stream",
       "stream": "stdout",
       "text": [
        " 0126765\n",
        "no office data"
       ]
      },
      {
       "output_type": "stream",
       "stream": "stdout",
       "text": [
        " 0210659\n",
        "no office data"
       ]
      },
      {
       "output_type": "stream",
       "stream": "stdout",
       "text": [
        " 0129868\n",
        "no office data"
       ]
      },
      {
       "output_type": "stream",
       "stream": "stdout",
       "text": [
        " 0127702\n",
        "no office data"
       ]
      },
      {
       "output_type": "stream",
       "stream": "stdout",
       "text": [
        " 0118686\n",
        "Finished:"
       ]
      },
      {
       "output_type": "stream",
       "stream": "stdout",
       "text": [
        " 2400 ----------------------\n",
        "no office data"
       ]
      },
      {
       "output_type": "stream",
       "stream": "stdout",
       "text": [
        " 0080851\n",
        "no office data"
       ]
      },
      {
       "output_type": "stream",
       "stream": "stdout",
       "text": [
        " 0119533\n",
        "no office data"
       ]
      },
      {
       "output_type": "stream",
       "stream": "stdout",
       "text": [
        " 0116147\n",
        "no office data"
       ]
      },
      {
       "output_type": "stream",
       "stream": "stdout",
       "text": [
        " 0166808\n",
        "no office data"
       ]
      },
      {
       "output_type": "stream",
       "stream": "stdout",
       "text": [
        " 0118939\n",
        "no office data"
       ]
      },
      {
       "output_type": "stream",
       "stream": "stdout",
       "text": [
        " 0120767\n",
        "no office data"
       ]
      },
      {
       "output_type": "stream",
       "stream": "stdout",
       "text": [
        " 0165828\n",
        "no office data"
       ]
      },
      {
       "output_type": "stream",
       "stream": "stdout",
       "text": [
        " 0166890\n",
        "no office data"
       ]
      },
      {
       "output_type": "stream",
       "stream": "stdout",
       "text": [
        " 0149698\n",
        "no office data"
       ]
      },
      {
       "output_type": "stream",
       "stream": "stdout",
       "text": [
        " 0120619\n",
        "no office data"
       ]
      },
      {
       "output_type": "stream",
       "stream": "stdout",
       "text": [
        " 0119298\n",
        "no office data"
       ]
      },
      {
       "output_type": "stream",
       "stream": "stdout",
       "text": [
        " 0166219\n",
        "no office data"
       ]
      },
      {
       "output_type": "stream",
       "stream": "stdout",
       "text": [
        " 0169516\n",
        "no office data"
       ]
      },
      {
       "output_type": "stream",
       "stream": "stdout",
       "text": [
        " 0169516\n",
        "no office data"
       ]
      },
      {
       "output_type": "stream",
       "stream": "stdout",
       "text": [
        " 0205968\n",
        "no office data"
       ]
      },
      {
       "output_type": "stream",
       "stream": "stdout",
       "text": [
        " 0163749\n",
        "no office data"
       ]
      },
      {
       "output_type": "stream",
       "stream": "stdout",
       "text": [
        " 0125879\n",
        "no office data"
       ]
      },
      {
       "output_type": "stream",
       "stream": "stdout",
       "text": [
        " 0138541\n",
        "no office data"
       ]
      },
      {
       "output_type": "stream",
       "stream": "stdout",
       "text": [
        " 0144106\n",
        "no office data"
       ]
      },
      {
       "output_type": "stream",
       "stream": "stdout",
       "text": [
        " 0180747\n",
        "no office data"
       ]
      },
      {
       "output_type": "stream",
       "stream": "stdout",
       "text": [
        " 0155821\n",
        "no office data"
       ]
      },
      {
       "output_type": "stream",
       "stream": "stdout",
       "text": [
        " 0123952\n",
        "no office data"
       ]
      },
      {
       "output_type": "stream",
       "stream": "stdout",
       "text": [
        " 0140638\n",
        "no office data"
       ]
      },
      {
       "output_type": "stream",
       "stream": "stdout",
       "text": [
        " 0119692\n",
        "no office data"
       ]
      },
      {
       "output_type": "stream",
       "stream": "stdout",
       "text": [
        " 0119692\n",
        "no office data"
       ]
      },
      {
       "output_type": "stream",
       "stream": "stdout",
       "text": [
        " 0119434\n",
        "no office data"
       ]
      },
      {
       "output_type": "stream",
       "stream": "stdout",
       "text": [
        " 0140883\n",
        "no office data"
       ]
      },
      {
       "output_type": "stream",
       "stream": "stdout",
       "text": [
        " 0160459\n",
        "no office data"
       ]
      },
      {
       "output_type": "stream",
       "stream": "stdout",
       "text": [
        " 0190268\n",
        "no office data"
       ]
      },
      {
       "output_type": "stream",
       "stream": "stdout",
       "text": [
        " 0173714\n",
        "no office data"
       ]
      },
      {
       "output_type": "stream",
       "stream": "stdout",
       "text": [
        " 0120125\n",
        "no office data"
       ]
      },
      {
       "output_type": "stream",
       "stream": "stdout",
       "text": [
        " 0156587\n",
        "no office data"
       ]
      },
      {
       "output_type": "stream",
       "stream": "stdout",
       "text": [
        " 0164013\n",
        "no office data"
       ]
      },
      {
       "output_type": "stream",
       "stream": "stdout",
       "text": [
        " 0286683\n",
        "no office data"
       ]
      },
      {
       "output_type": "stream",
       "stream": "stdout",
       "text": [
        " 0701069\n",
        "no office data"
       ]
      },
      {
       "output_type": "stream",
       "stream": "stdout",
       "text": [
        " 0158828\n",
        "no office data"
       ]
      },
      {
       "output_type": "stream",
       "stream": "stdout",
       "text": [
        " 0127361\n",
        "no office data"
       ]
      },
      {
       "output_type": "stream",
       "stream": "stdout",
       "text": [
        " 0203515\n",
        "no office data"
       ]
      },
      {
       "output_type": "stream",
       "stream": "stdout",
       "text": [
        " 0119582\n",
        "no office data"
       ]
      },
      {
       "output_type": "stream",
       "stream": "stdout",
       "text": [
        " 0175680\n",
        "no office data"
       ]
      },
      {
       "output_type": "stream",
       "stream": "stdout",
       "text": [
        " 0129686\n",
        "no office data"
       ]
      },
      {
       "output_type": "stream",
       "stream": "stdout",
       "text": [
        " 0172345\n",
        "Finished:"
       ]
      },
      {
       "output_type": "stream",
       "stream": "stdout",
       "text": [
        " 2500 ----------------------\n",
        "no office data"
       ]
      },
      {
       "output_type": "stream",
       "stream": "stdout",
       "text": [
        " 0170544\n",
        "no office data"
       ]
      },
      {
       "output_type": "stream",
       "stream": "stdout",
       "text": [
        " 0384452\n",
        "no office data"
       ]
      },
      {
       "output_type": "stream",
       "stream": "stdout",
       "text": [
        " 0139082\n",
        "no office data"
       ]
      },
      {
       "output_type": "stream",
       "stream": "stdout",
       "text": [
        " 0169364\n",
        "no office data"
       ]
      },
      {
       "output_type": "stream",
       "stream": "stdout",
       "text": [
        " 0155110\n",
        "no office data"
       ]
      },
      {
       "output_type": "stream",
       "stream": "stdout",
       "text": [
        " 0168156\n",
        "no office data"
       ]
      },
      {
       "output_type": "stream",
       "stream": "stdout",
       "text": [
        " 0168156\n",
        "no office data"
       ]
      },
      {
       "output_type": "stream",
       "stream": "stdout",
       "text": [
        " 0164023\n",
        "no office data"
       ]
      },
      {
       "output_type": "stream",
       "stream": "stdout",
       "text": [
        " 0149380\n",
        "no office data"
       ]
      },
      {
       "output_type": "stream",
       "stream": "stdout",
       "text": [
        " 0181655\n",
        "no office data"
       ]
      },
      {
       "output_type": "stream",
       "stream": "stdout",
       "text": [
        " 0146247\n",
        "no office data"
       ]
      },
      {
       "output_type": "stream",
       "stream": "stdout",
       "text": [
        " 0164473\n",
        "no office data"
       ]
      },
      {
       "output_type": "stream",
       "stream": "stdout",
       "text": [
        " 0164473\n",
        "no office data"
       ]
      },
      {
       "output_type": "stream",
       "stream": "stdout",
       "text": [
        " 0206303\n",
        "no office data"
       ]
      },
      {
       "output_type": "stream",
       "stream": "stdout",
       "text": [
        " 0194947\n",
        "no office data"
       ]
      },
      {
       "output_type": "stream",
       "stream": "stdout",
       "text": [
        " 0137904\n",
        "no office data"
       ]
      },
      {
       "output_type": "stream",
       "stream": "stdout",
       "text": [
        " 0119521\n",
        "no office data"
       ]
      },
      {
       "output_type": "stream",
       "stream": "stdout",
       "text": [
        " 0166960\n",
        "no office data"
       ]
      },
      {
       "output_type": "stream",
       "stream": "stdout",
       "text": [
        " 0659258\n",
        "no office data"
       ]
      },
      {
       "output_type": "stream",
       "stream": "stdout",
       "text": [
        " 0520874\n",
        "no office data"
       ]
      },
      {
       "output_type": "stream",
       "stream": "stdout",
       "text": [
        " 0206179\n",
        "no office data"
       ]
      },
      {
       "output_type": "stream",
       "stream": "stdout",
       "text": [
        " 0144039\n",
        "no office data"
       ]
      },
      {
       "output_type": "stream",
       "stream": "stdout",
       "text": [
        " 0209297\n",
        "no office data"
       ]
      },
      {
       "output_type": "stream",
       "stream": "stdout",
       "text": [
        " 0176250\n",
        "no office data"
       ]
      },
      {
       "output_type": "stream",
       "stream": "stdout",
       "text": [
        " 0182306\n",
        "no office data"
       ]
      },
      {
       "output_type": "stream",
       "stream": "stdout",
       "text": [
        " 0196114\n",
        "no office data"
       ]
      },
      {
       "output_type": "stream",
       "stream": "stdout",
       "text": [
        " 0225448\n",
        "no office data"
       ]
      },
      {
       "output_type": "stream",
       "stream": "stdout",
       "text": [
        " 0292232\n",
        "no office data"
       ]
      },
      {
       "output_type": "stream",
       "stream": "stdout",
       "text": [
        " 0194119\n",
        "no office data"
       ]
      },
      {
       "output_type": "stream",
       "stream": "stdout",
       "text": [
        " 0129922\n",
        "no office data"
       ]
      },
      {
       "output_type": "stream",
       "stream": "stdout",
       "text": [
        " 0175394\n",
        "no office data"
       ]
      },
      {
       "output_type": "stream",
       "stream": "stdout",
       "text": [
        " 0130172\n",
        "no office data"
       ]
      },
      {
       "output_type": "stream",
       "stream": "stdout",
       "text": [
        " 0231237\n",
        "no office data"
       ]
      },
      {
       "output_type": "stream",
       "stream": "stdout",
       "text": [
        " 0158131\n",
        "no office data"
       ]
      },
      {
       "output_type": "stream",
       "stream": "stdout",
       "text": [
        " 0184157\n",
        "no office data"
       ]
      },
      {
       "output_type": "stream",
       "stream": "stdout",
       "text": [
        " 0246880\n",
        "no office data"
       ]
      },
      {
       "output_type": "stream",
       "stream": "stdout",
       "text": [
        " 0246880\n",
        "no office data"
       ]
      },
      {
       "output_type": "stream",
       "stream": "stdout",
       "text": [
        " 0174882\n",
        "no office data"
       ]
      },
      {
       "output_type": "stream",
       "stream": "stdout",
       "text": [
        " 0171340\n",
        "no office data"
       ]
      },
      {
       "output_type": "stream",
       "stream": "stdout",
       "text": [
        " 0125778\n",
        "no office data"
       ]
      },
      {
       "output_type": "stream",
       "stream": "stdout",
       "text": [
        " 0454406\n",
        "no office data"
       ]
      },
      {
       "output_type": "stream",
       "stream": "stdout",
       "text": [
        " 0170801\n",
        "no office data"
       ]
      },
      {
       "output_type": "stream",
       "stream": "stdout",
       "text": [
        " 0308645\n",
        "no office data"
       ]
      },
      {
       "output_type": "stream",
       "stream": "stdout",
       "text": [
        " 0164683\n",
        "no office data"
       ]
      },
      {
       "output_type": "stream",
       "stream": "stdout",
       "text": [
        " 0181835\n",
        "no office data"
       ]
      },
      {
       "output_type": "stream",
       "stream": "stdout",
       "text": [
        " 0143096\n",
        "no office data"
       ]
      },
      {
       "output_type": "stream",
       "stream": "stdout",
       "text": [
        " 0184039\n",
        "Finished:"
       ]
      },
      {
       "output_type": "stream",
       "stream": "stdout",
       "text": [
        " 2600 ----------------------\n",
        "no office data"
       ]
      },
      {
       "output_type": "stream",
       "stream": "stdout",
       "text": [
        " 0169528\n",
        "no office data"
       ]
      },
      {
       "output_type": "stream",
       "stream": "stdout",
       "text": [
        " 0158692\n",
        "no office data"
       ]
      },
      {
       "output_type": "stream",
       "stream": "stdout",
       "text": [
        " 0181322\n",
        "no office data"
       ]
      },
      {
       "output_type": "stream",
       "stream": "stdout",
       "text": [
        " 0154750\n",
        "no office data"
       ]
      },
      {
       "output_type": "stream",
       "stream": "stdout",
       "text": [
        " 0246645\n",
        "no office data"
       ]
      },
      {
       "output_type": "stream",
       "stream": "stdout",
       "text": [
        " 0255914\n",
        "no office data"
       ]
      },
      {
       "output_type": "stream",
       "stream": "stdout",
       "text": [
        " 0177534\n",
        "no office data"
       ]
      },
      {
       "output_type": "stream",
       "stream": "stdout",
       "text": [
        " 0177534\n",
        "no office data"
       ]
      },
      {
       "output_type": "stream",
       "stream": "stdout",
       "text": [
        " 0179384\n",
        "no office data"
       ]
      },
      {
       "output_type": "stream",
       "stream": "stdout",
       "text": [
        " 0197230\n",
        "no office data"
       ]
      },
      {
       "output_type": "stream",
       "stream": "stdout",
       "text": [
        " 0208181\n",
        "no office data"
       ]
      },
      {
       "output_type": "stream",
       "stream": "stdout",
       "text": [
        " 0216986\n",
        "no office data"
       ]
      },
      {
       "output_type": "stream",
       "stream": "stdout",
       "text": [
        " 0120859\n",
        "no office data"
       ]
      },
      {
       "output_type": "stream",
       "stream": "stdout",
       "text": [
        " 0197548\n",
        "no office data"
       ]
      },
      {
       "output_type": "stream",
       "stream": "stdout",
       "text": [
        " 0175962\n",
        "no office data"
       ]
      },
      {
       "output_type": "stream",
       "stream": "stdout",
       "text": [
        " 0131502\n",
        "no office data"
       ]
      },
      {
       "output_type": "stream",
       "stream": "stdout",
       "text": [
        " 0464786\n",
        "no office data"
       ]
      },
      {
       "output_type": "stream",
       "stream": "stdout",
       "text": [
        " 0284811\n",
        "no office data"
       ]
      },
      {
       "output_type": "stream",
       "stream": "stdout",
       "text": [
        " 0196635\n",
        "no office data"
       ]
      },
      {
       "output_type": "stream",
       "stream": "stdout",
       "text": [
        " 0196751\n",
        "no office data"
       ]
      },
      {
       "output_type": "stream",
       "stream": "stdout",
       "text": [
        " 0195509\n",
        "no office data"
       ]
      },
      {
       "output_type": "stream",
       "stream": "stdout",
       "text": [
        " 0115675\n",
        "no office data"
       ]
      },
      {
       "output_type": "stream",
       "stream": "stdout",
       "text": [
        " 0156106\n",
        "no office data"
       ]
      },
      {
       "output_type": "stream",
       "stream": "stdout",
       "text": [
        " 0165461\n",
        "no office data"
       ]
      },
      {
       "output_type": "stream",
       "stream": "stdout",
       "text": [
        " 0200087\n",
        "no office data"
       ]
      },
      {
       "output_type": "stream",
       "stream": "stdout",
       "text": [
        " 0171410\n",
        "no office data"
       ]
      },
      {
       "output_type": "stream",
       "stream": "stdout",
       "text": [
        " 0171410\n",
        "no office data"
       ]
      },
      {
       "output_type": "stream",
       "stream": "stdout",
       "text": [
        " 0200267\n",
        "no office data"
       ]
      },
      {
       "output_type": "stream",
       "stream": "stdout",
       "text": [
        " 0376531\n",
        "no office data"
       ]
      },
      {
       "output_type": "stream",
       "stream": "stdout",
       "text": [
        " 0376531\n",
        "no office data"
       ]
      },
      {
       "output_type": "stream",
       "stream": "stdout",
       "text": [
        " 0416482\n",
        "no office data"
       ]
      },
      {
       "output_type": "stream",
       "stream": "stdout",
       "text": [
        " 0196512\n",
        "no office data"
       ]
      },
      {
       "output_type": "stream",
       "stream": "stdout",
       "text": [
        " 0196512\n",
        "no office data"
       ]
      },
      {
       "output_type": "stream",
       "stream": "stdout",
       "text": [
        " 0207341\n",
        "no office data"
       ]
      },
      {
       "output_type": "stream",
       "stream": "stdout",
       "text": [
        " 0123215\n",
        "no office data"
       ]
      },
      {
       "output_type": "stream",
       "stream": "stdout",
       "text": [
        " 0189593\n",
        "no office data"
       ]
      },
      {
       "output_type": "stream",
       "stream": "stdout",
       "text": [
        " 0169347\n",
        "no office data"
       ]
      },
      {
       "output_type": "stream",
       "stream": "stdout",
       "text": [
        " 0178130\n",
        "no office data"
       ]
      },
      {
       "output_type": "stream",
       "stream": "stdout",
       "text": [
        " 0151022\n",
        "no office data"
       ]
      },
      {
       "output_type": "stream",
       "stream": "stdout",
       "text": [
        " 0146315\n",
        "no office data"
       ]
      },
      {
       "output_type": "stream",
       "stream": "stdout",
       "text": [
        " 0146315\n",
        "no office data"
       ]
      },
      {
       "output_type": "stream",
       "stream": "stdout",
       "text": [
        " 0214178\n",
        "no office data"
       ]
      },
      {
       "output_type": "stream",
       "stream": "stdout",
       "text": [
        " 0179940\n",
        "no office data"
       ]
      },
      {
       "output_type": "stream",
       "stream": "stdout",
       "text": [
        " 0130036\n",
        "no office data"
       ]
      },
      {
       "output_type": "stream",
       "stream": "stdout",
       "text": [
        " 0184424\n",
        "Finished:"
       ]
      },
      {
       "output_type": "stream",
       "stream": "stdout",
       "text": [
        " 2700 ----------------------\n",
        "no office data"
       ]
      },
      {
       "output_type": "stream",
       "stream": "stdout",
       "text": [
        " 1101035\n",
        "no office data"
       ]
      },
      {
       "output_type": "stream",
       "stream": "stdout",
       "text": [
        " 0206216\n",
        "no office data"
       ]
      },
      {
       "output_type": "stream",
       "stream": "stdout",
       "text": [
        " 0132563\n",
        "no office data"
       ]
      },
      {
       "output_type": "stream",
       "stream": "stdout",
       "text": [
        " 0276370\n",
        "no office data"
       ]
      },
      {
       "output_type": "stream",
       "stream": "stdout",
       "text": [
        " 0202409\n",
        "no office data"
       ]
      },
      {
       "output_type": "stream",
       "stream": "stdout",
       "text": [
        " 0192618\n",
        "no office data"
       ]
      },
      {
       "output_type": "stream",
       "stream": "stdout",
       "text": [
        " 0175877\n",
        "no office data"
       ]
      },
      {
       "output_type": "stream",
       "stream": "stdout",
       "text": [
        " 0244307\n",
        "no office data"
       ]
      },
      {
       "output_type": "stream",
       "stream": "stdout",
       "text": [
        " 0200422\n",
        "no office data"
       ]
      },
      {
       "output_type": "stream",
       "stream": "stdout",
       "text": [
        " 0206636\n",
        "no office data"
       ]
      },
      {
       "output_type": "stream",
       "stream": "stdout",
       "text": [
        " 0165662\n",
        "no office data"
       ]
      },
      {
       "output_type": "stream",
       "stream": "stdout",
       "text": [
        " 0240732\n",
        "no office data"
       ]
      },
      {
       "output_type": "stream",
       "stream": "stdout",
       "text": [
        " 0167752\n",
        "no office data"
       ]
      },
      {
       "output_type": "stream",
       "stream": "stdout",
       "text": [
        " 0206220\n",
        "no office data"
       ]
      },
      {
       "output_type": "stream",
       "stream": "stdout",
       "text": [
        " 0179804\n",
        "no office data"
       ]
      },
      {
       "output_type": "stream",
       "stream": "stdout",
       "text": [
        " 0162897\n",
        "no office data"
       ]
      },
      {
       "output_type": "stream",
       "stream": "stdout",
       "text": [
        " 0171746\n",
        "no office data"
       ]
      },
      {
       "output_type": "stream",
       "stream": "stdout",
       "text": [
        " 0205011\n",
        "no office data"
       ]
      },
      {
       "output_type": "stream",
       "stream": "stdout",
       "text": [
        " 0208783\n",
        "no office data"
       ]
      },
      {
       "output_type": "stream",
       "stream": "stdout",
       "text": [
        " 0197523\n",
        "no office data"
       ]
      },
      {
       "output_type": "stream",
       "stream": "stdout",
       "text": [
        " 0115520\n",
        "no office data"
       ]
      },
      {
       "output_type": "stream",
       "stream": "stdout",
       "text": [
        " 0226663\n",
        "no office data"
       ]
      },
      {
       "output_type": "stream",
       "stream": "stdout",
       "text": [
        " 0120878\n",
        "no office data"
       ]
      },
      {
       "output_type": "stream",
       "stream": "stdout",
       "text": [
        " 0563546\n",
        "no office data"
       ]
      },
      {
       "output_type": "stream",
       "stream": "stdout",
       "text": [
        " 0183076\n",
        "no office data"
       ]
      },
      {
       "output_type": "stream",
       "stream": "stdout",
       "text": [
        " 0163913\n",
        "no office data"
       ]
      },
      {
       "output_type": "stream",
       "stream": "stdout",
       "text": [
        " 0208694\n",
        "no office data"
       ]
      },
      {
       "output_type": "stream",
       "stream": "stdout",
       "text": [
        " 0163180\n",
        "no office data"
       ]
      },
      {
       "output_type": "stream",
       "stream": "stdout",
       "text": [
        " 0301083\n",
        "no office data"
       ]
      },
      {
       "output_type": "stream",
       "stream": "stdout",
       "text": [
        " 0410809\n",
        "no office data"
       ]
      },
      {
       "output_type": "stream",
       "stream": "stdout",
       "text": [
        " 0347534\n",
        "no office data"
       ]
      },
      {
       "output_type": "stream",
       "stream": "stdout",
       "text": [
        " 0187805\n",
        "no office data"
       ]
      },
      {
       "output_type": "stream",
       "stream": "stdout",
       "text": [
        " 0174557\n",
        "no office data"
       ]
      },
      {
       "output_type": "stream",
       "stream": "stdout",
       "text": [
        " 0188693\n",
        "no office data"
       ]
      },
      {
       "output_type": "stream",
       "stream": "stdout",
       "text": [
        " 0166379\n",
        "no office data"
       ]
      },
      {
       "output_type": "stream",
       "stream": "stdout",
       "text": [
        " 0161010\n",
        "no office data"
       ]
      },
      {
       "output_type": "stream",
       "stream": "stdout",
       "text": [
        " 0161010\n",
        "no office data"
       ]
      },
      {
       "output_type": "stream",
       "stream": "stdout",
       "text": [
        " 0212936\n",
        "no office data"
       ]
      },
      {
       "output_type": "stream",
       "stream": "stdout",
       "text": [
        " 0159797\n",
        "no office data"
       ]
      },
      {
       "output_type": "stream",
       "stream": "stdout",
       "text": [
        " 0158717\n",
        "no office data"
       ]
      },
      {
       "output_type": "stream",
       "stream": "stdout",
       "text": [
        " 0151239\n",
        "no office data"
       ]
      },
      {
       "output_type": "stream",
       "stream": "stdout",
       "text": [
        " 0207944\n",
        "no office data"
       ]
      },
      {
       "output_type": "stream",
       "stream": "stdout",
       "text": [
        " 0146786\n",
        "no office data"
       ]
      },
      {
       "output_type": "stream",
       "stream": "stdout",
       "text": [
        " 0190884\n",
        "no office data"
       ]
      },
      {
       "output_type": "stream",
       "stream": "stdout",
       "text": [
        " 0220982\n",
        "no office data"
       ]
      },
      {
       "output_type": "stream",
       "stream": "stdout",
       "text": [
        " 0305343\n",
        "Finished:"
       ]
      },
      {
       "output_type": "stream",
       "stream": "stdout",
       "text": [
        " 2800 ----------------------\n",
        "no office data"
       ]
      },
      {
       "output_type": "stream",
       "stream": "stdout",
       "text": [
        " 0165874\n",
        "no office data"
       ]
      },
      {
       "output_type": "stream",
       "stream": "stdout",
       "text": [
        " 0199777\n",
        "no office data"
       ]
      },
      {
       "output_type": "stream",
       "stream": "stdout",
       "text": [
        " 0141111\n",
        "no office data"
       ]
      },
      {
       "output_type": "stream",
       "stream": "stdout",
       "text": [
        " 0204686\n",
        "no office data"
       ]
      },
      {
       "output_type": "stream",
       "stream": "stdout",
       "text": [
        " 0157171\n",
        "no office data"
       ]
      },
      {
       "output_type": "stream",
       "stream": "stdout",
       "text": [
        " 0157171\n",
        "no office data"
       ]
      },
      {
       "output_type": "stream",
       "stream": "stdout",
       "text": [
        " 0118903\n",
        "no office data"
       ]
      },
      {
       "output_type": "stream",
       "stream": "stdout",
       "text": [
        " 0139606\n",
        "no office data"
       ]
      },
      {
       "output_type": "stream",
       "stream": "stdout",
       "text": [
        " 0171698\n",
        "no office data"
       ]
      },
      {
       "output_type": "stream",
       "stream": "stdout",
       "text": [
        " 0133327\n",
        "no office data"
       ]
      },
      {
       "output_type": "stream",
       "stream": "stdout",
       "text": [
        " 0173387\n",
        "no office data"
       ]
      },
      {
       "output_type": "stream",
       "stream": "stdout",
       "text": [
        " 0214539\n",
        "no office data"
       ]
      },
      {
       "output_type": "stream",
       "stream": "stdout",
       "text": [
        " 0159780\n",
        "no office data"
       ]
      },
      {
       "output_type": "stream",
       "stream": "stdout",
       "text": [
        " 0218819\n",
        "no office data"
       ]
      },
      {
       "output_type": "stream",
       "stream": "stdout",
       "text": [
        " 0205725\n",
        "no office data"
       ]
      },
      {
       "output_type": "stream",
       "stream": "stdout",
       "text": [
        " 0197273\n",
        "no office data"
       ]
      },
      {
       "output_type": "stream",
       "stream": "stdout",
       "text": [
        " 0120801\n",
        "no office data"
       ]
      },
      {
       "output_type": "stream",
       "stream": "stdout",
       "text": [
        " 0192573\n",
        "no office data"
       ]
      },
      {
       "output_type": "stream",
       "stream": "stdout",
       "text": [
        " 0124743\n",
        "no office data"
       ]
      },
      {
       "output_type": "stream",
       "stream": "stdout",
       "text": [
        " 0193971\n",
        "no office data"
       ]
      },
      {
       "output_type": "stream",
       "stream": "stdout",
       "text": [
        " 0179841\n",
        "no office data"
       ]
      },
      {
       "output_type": "stream",
       "stream": "stdout",
       "text": [
        " 0710534\n",
        "no office data"
       ]
      },
      {
       "output_type": "stream",
       "stream": "stdout",
       "text": [
        " 0214490\n",
        "no office data"
       ]
      },
      {
       "output_type": "stream",
       "stream": "stdout",
       "text": [
        " 0841154\n",
        "no office data"
       ]
      },
      {
       "output_type": "stream",
       "stream": "stdout",
       "text": [
        " 0259981\n",
        "no office data"
       ]
      },
      {
       "output_type": "stream",
       "stream": "stdout",
       "text": [
        " 0194773\n",
        "no office data"
       ]
      },
      {
       "output_type": "stream",
       "stream": "stdout",
       "text": [
        " 0269629\n",
        "no office data"
       ]
      },
      {
       "output_type": "stream",
       "stream": "stdout",
       "text": [
        " 0306910\n",
        "no office data"
       ]
      },
      {
       "output_type": "stream",
       "stream": "stdout",
       "text": [
        " 0131596\n",
        "no office data"
       ]
      },
      {
       "output_type": "stream",
       "stream": "stdout",
       "text": [
        " 0859496\n",
        "no office data"
       ]
      },
      {
       "output_type": "stream",
       "stream": "stdout",
       "text": [
        " 0193837\n",
        "no office data"
       ]
      },
      {
       "output_type": "stream",
       "stream": "stdout",
       "text": [
        " 0293346\n",
        "no office data"
       ]
      },
      {
       "output_type": "stream",
       "stream": "stdout",
       "text": [
        " 0190281\n",
        "no office data"
       ]
      },
      {
       "output_type": "stream",
       "stream": "stdout",
       "text": [
        " 0212889\n",
        "no office data"
       ]
      },
      {
       "output_type": "stream",
       "stream": "stdout",
       "text": [
        " 0229664\n",
        "no office data"
       ]
      },
      {
       "output_type": "stream",
       "stream": "stdout",
       "text": [
        " 0202236\n",
        "Finished:"
       ]
      },
      {
       "output_type": "stream",
       "stream": "stdout",
       "text": [
        " 2900 ----------------------\n",
        "no office data"
       ]
      },
      {
       "output_type": "stream",
       "stream": "stdout",
       "text": [
        " 0230055\n",
        "no office data"
       ]
      },
      {
       "output_type": "stream",
       "stream": "stdout",
       "text": [
        " 0199650\n",
        "no office data"
       ]
      },
      {
       "output_type": "stream",
       "stream": "stdout",
       "text": [
        " 0199700\n",
        "no office data"
       ]
      },
      {
       "output_type": "stream",
       "stream": "stdout",
       "text": [
        " 0197753\n",
        "no office data"
       ]
      },
      {
       "output_type": "stream",
       "stream": "stdout",
       "text": [
        " 0197753\n",
        "no office data"
       ]
      },
      {
       "output_type": "stream",
       "stream": "stdout",
       "text": [
        " 0211941\n",
        "no office data"
       ]
      },
      {
       "output_type": "stream",
       "stream": "stdout",
       "text": [
        " 0205843\n",
        "no office data"
       ]
      },
      {
       "output_type": "stream",
       "stream": "stdout",
       "text": [
        " 0212533\n",
        "no office data"
       ]
      },
      {
       "output_type": "stream",
       "stream": "stdout",
       "text": [
        " 0163815\n",
        "no office data"
       ]
      },
      {
       "output_type": "stream",
       "stream": "stdout",
       "text": [
        " 0163815\n",
        "no office data"
       ]
      },
      {
       "output_type": "stream",
       "stream": "stdout",
       "text": [
        " 0206750\n",
        "no office data"
       ]
      },
      {
       "output_type": "stream",
       "stream": "stdout",
       "text": [
        " 0210044\n",
        "no office data"
       ]
      },
      {
       "output_type": "stream",
       "stream": "stdout",
       "text": [
        " 0212830\n",
        "no office data"
       ]
      },
      {
       "output_type": "stream",
       "stream": "stdout",
       "text": [
        " 0222724\n",
        "no office data"
       ]
      },
      {
       "output_type": "stream",
       "stream": "stdout",
       "text": [
        " 0118944\n",
        "no office data"
       ]
      },
      {
       "output_type": "stream",
       "stream": "stdout",
       "text": [
        " 0217007\n",
        "no office data"
       ]
      },
      {
       "output_type": "stream",
       "stream": "stdout",
       "text": [
        " 0330500\n",
        "no office data"
       ]
      },
      {
       "output_type": "stream",
       "stream": "stdout",
       "text": [
        " 0217136\n",
        "no office data"
       ]
      },
      {
       "output_type": "stream",
       "stream": "stdout",
       "text": [
        " 0213565\n",
        "no office data"
       ]
      },
      {
       "output_type": "stream",
       "stream": "stdout",
       "text": [
        " 0238064\n",
        "no office data"
       ]
      },
      {
       "output_type": "stream",
       "stream": "stdout",
       "text": [
        " 0602641\n",
        "no office data"
       ]
      },
      {
       "output_type": "stream",
       "stream": "stdout",
       "text": [
        " 0206951\n",
        "no office data"
       ]
      },
      {
       "output_type": "stream",
       "stream": "stdout",
       "text": [
        " 0222027\n",
        "no office data"
       ]
      },
      {
       "output_type": "stream",
       "stream": "stdout",
       "text": [
        " 0218121\n",
        "no office data"
       ]
      },
      {
       "output_type": "stream",
       "stream": "stdout",
       "text": [
        " 0239102\n",
        "no office data"
       ]
      },
      {
       "output_type": "stream",
       "stream": "stdout",
       "text": [
        " 0197750\n",
        "no office data"
       ]
      },
      {
       "output_type": "stream",
       "stream": "stdout",
       "text": [
        " 0202595\n",
        "no office data"
       ]
      },
      {
       "output_type": "stream",
       "stream": "stdout",
       "text": [
        " 0211309\n",
        "no office data"
       ]
      },
      {
       "output_type": "stream",
       "stream": "stdout",
       "text": [
        " 0201484\n",
        "no office data"
       ]
      },
      {
       "output_type": "stream",
       "stream": "stdout",
       "text": [
        " 0234854\n",
        "no office data"
       ]
      },
      {
       "output_type": "stream",
       "stream": "stdout",
       "text": [
        " 0222171\n",
        "no office data"
       ]
      },
      {
       "output_type": "stream",
       "stream": "stdout",
       "text": [
        " 0201951\n",
        "no office data"
       ]
      },
      {
       "output_type": "stream",
       "stream": "stdout",
       "text": [
        " 0192295\n",
        "no office data"
       ]
      },
      {
       "output_type": "stream",
       "stream": "stdout",
       "text": [
        " 0161542\n",
        "no office data"
       ]
      },
      {
       "output_type": "stream",
       "stream": "stdout",
       "text": [
        " 0144608\n",
        "no office data"
       ]
      },
      {
       "output_type": "stream",
       "stream": "stdout",
       "text": [
        " 0469721\n",
        "no office data"
       ]
      },
      {
       "output_type": "stream",
       "stream": "stdout",
       "text": [
        " 0469721\n",
        "no office data"
       ]
      },
      {
       "output_type": "stream",
       "stream": "stdout",
       "text": [
        " 0181199\n",
        "no office data"
       ]
      },
      {
       "output_type": "stream",
       "stream": "stdout",
       "text": [
        " 0239450\n",
        "no office data"
       ]
      },
      {
       "output_type": "stream",
       "stream": "stdout",
       "text": [
        " 0285475\n",
        "no office data"
       ]
      },
      {
       "output_type": "stream",
       "stream": "stdout",
       "text": [
        " 0192644\n",
        "no office data"
       ]
      },
      {
       "output_type": "stream",
       "stream": "stdout",
       "text": [
        " 0356706\n",
        "no office data"
       ]
      },
      {
       "output_type": "stream",
       "stream": "stdout",
       "text": [
        " 0240802\n",
        "no office data"
       ]
      },
      {
       "output_type": "stream",
       "stream": "stdout",
       "text": [
        " 0210149\n",
        "no office data"
       ]
      },
      {
       "output_type": "stream",
       "stream": "stdout",
       "text": [
        " 0241079\n",
        "no office data"
       ]
      },
      {
       "output_type": "stream",
       "stream": "stdout",
       "text": [
        " 0217119\n",
        "no office data"
       ]
      },
      {
       "output_type": "stream",
       "stream": "stdout",
       "text": [
        " 0244512\n",
        "no office data"
       ]
      },
      {
       "output_type": "stream",
       "stream": "stdout",
       "text": [
        " 0214698\n",
        "Finished:"
       ]
      },
      {
       "output_type": "stream",
       "stream": "stdout",
       "text": [
        " 3000 ----------------------\n",
        "no office data"
       ]
      },
      {
       "output_type": "stream",
       "stream": "stdout",
       "text": [
        " 0242572\n",
        "no office data"
       ]
      },
      {
       "output_type": "stream",
       "stream": "stdout",
       "text": [
        " 0250483\n",
        "no office data"
       ]
      },
      {
       "output_type": "stream",
       "stream": "stdout",
       "text": [
        " 0223323\n",
        "no office data"
       ]
      },
      {
       "output_type": "stream",
       "stream": "stdout",
       "text": [
        " 0146879\n",
        "no office data"
       ]
      },
      {
       "output_type": "stream",
       "stream": "stdout",
       "text": [
        " 0187750\n",
        "no office data"
       ]
      },
      {
       "output_type": "stream",
       "stream": "stdout",
       "text": [
        " 0297231\n",
        "no office data"
       ]
      },
      {
       "output_type": "stream",
       "stream": "stdout",
       "text": [
        " 0209013\n",
        "no office data"
       ]
      },
      {
       "output_type": "stream",
       "stream": "stdout",
       "text": [
        " 0191654\n",
        "no office data"
       ]
      },
      {
       "output_type": "stream",
       "stream": "stdout",
       "text": [
        " 0238883\n",
        "no office data"
       ]
      },
      {
       "output_type": "stream",
       "stream": "stdout",
       "text": [
        " 0231441\n",
        "no office data"
       ]
      },
      {
       "output_type": "stream",
       "stream": "stdout",
       "text": [
        " 0258490\n",
        "no office data"
       ]
      },
      {
       "output_type": "stream",
       "stream": "stdout",
       "text": [
        " 0224816\n",
        "no office data"
       ]
      },
      {
       "output_type": "stream",
       "stream": "stdout",
       "text": [
        " 0217681\n",
        "no office data"
       ]
      },
      {
       "output_type": "stream",
       "stream": "stdout",
       "text": [
        " 0748799\n",
        "no office data"
       ]
      },
      {
       "output_type": "stream",
       "stream": "stdout",
       "text": [
        " 0255325\n",
        "no office data"
       ]
      },
      {
       "output_type": "stream",
       "stream": "stdout",
       "text": [
        " 0225573\n",
        "no office data"
       ]
      },
      {
       "output_type": "stream",
       "stream": "stdout",
       "text": [
        " 0142650\n",
        "no office data"
       ]
      },
      {
       "output_type": "stream",
       "stream": "stdout",
       "text": [
        " 0229397\n",
        "no office data"
       ]
      },
      {
       "output_type": "stream",
       "stream": "stdout",
       "text": [
        " 0216841\n",
        "no office data"
       ]
      },
      {
       "output_type": "stream",
       "stream": "stdout",
       "text": [
        " 0168785\n",
        "no office data"
       ]
      },
      {
       "output_type": "stream",
       "stream": "stdout",
       "text": [
        " 0144605\n",
        "no office data"
       ]
      },
      {
       "output_type": "stream",
       "stream": "stdout",
       "text": [
        " 0210756\n",
        "no office data"
       ]
      },
      {
       "output_type": "stream",
       "stream": "stdout",
       "text": [
        " 0309059\n",
        "no office data"
       ]
      },
      {
       "output_type": "stream",
       "stream": "stdout",
       "text": [
        " 0535320\n",
        "no office data"
       ]
      },
      {
       "output_type": "stream",
       "stream": "stdout",
       "text": [
        " 0219643\n",
        "no office data"
       ]
      },
      {
       "output_type": "stream",
       "stream": "stdout",
       "text": [
        " 0226225\n",
        "no office data"
       ]
      },
      {
       "output_type": "stream",
       "stream": "stdout",
       "text": [
        " 0293445\n",
        "no office data"
       ]
      },
      {
       "output_type": "stream",
       "stream": "stdout",
       "text": [
        " 0208629\n",
        "no office data"
       ]
      },
      {
       "output_type": "stream",
       "stream": "stdout",
       "text": [
        " 0194104\n",
        "no office data"
       ]
      },
      {
       "output_type": "stream",
       "stream": "stdout",
       "text": [
        " 0215785\n",
        "no office data"
       ]
      },
      {
       "output_type": "stream",
       "stream": "stdout",
       "text": [
        " 0207377\n",
        "no office data"
       ]
      },
      {
       "output_type": "stream",
       "stream": "stdout",
       "text": [
        " 0242747\n",
        "no office data"
       ]
      },
      {
       "output_type": "stream",
       "stream": "stdout",
       "text": [
        " 0206588\n",
        "no office data"
       ]
      },
      {
       "output_type": "stream",
       "stream": "stdout",
       "text": [
        " 0253700\n",
        "no office data"
       ]
      },
      {
       "output_type": "stream",
       "stream": "stdout",
       "text": [
        " 0120454\n",
        "no office data"
       ]
      },
      {
       "output_type": "stream",
       "stream": "stdout",
       "text": [
        " 0193007\n",
        "no office data"
       ]
      },
      {
       "output_type": "stream",
       "stream": "stdout",
       "text": [
        " 0242644\n",
        "no office data"
       ]
      },
      {
       "output_type": "stream",
       "stream": "stdout",
       "text": [
        " 0222776\n",
        "no office data"
       ]
      },
      {
       "output_type": "stream",
       "stream": "stdout",
       "text": [
        " 0239894\n",
        "no office data"
       ]
      },
      {
       "output_type": "stream",
       "stream": "stdout",
       "text": [
        " 0256459\n",
        "no office data"
       ]
      },
      {
       "output_type": "stream",
       "stream": "stdout",
       "text": [
        " 0268103\n",
        "no office data"
       ]
      },
      {
       "output_type": "stream",
       "stream": "stdout",
       "text": [
        " 0218616\n",
        "no office data"
       ]
      },
      {
       "output_type": "stream",
       "stream": "stdout",
       "text": [
        " 0260776\n",
        "no office data"
       ]
      },
      {
       "output_type": "stream",
       "stream": "stdout",
       "text": [
        " 0259388\n",
        "Finished:"
       ]
      },
      {
       "output_type": "stream",
       "stream": "stdout",
       "text": [
        " 3100 ----------------------\n",
        "no office data"
       ]
      },
      {
       "output_type": "stream",
       "stream": "stdout",
       "text": [
        " 0132920\n",
        "no office data"
       ]
      },
      {
       "output_type": "stream",
       "stream": "stdout",
       "text": [
        " 0250440\n",
        "no office data"
       ]
      },
      {
       "output_type": "stream",
       "stream": "stdout",
       "text": [
        " 0291043\n",
        "no office data"
       ]
      },
      {
       "output_type": "stream",
       "stream": "stdout",
       "text": [
        " 0250990\n",
        "no office data"
       ]
      },
      {
       "output_type": "stream",
       "stream": "stdout",
       "text": [
        " 0764148\n",
        "no office data"
       ]
      },
      {
       "output_type": "stream",
       "stream": "stdout",
       "text": [
        " 0173568\n",
        "no office data"
       ]
      },
      {
       "output_type": "stream",
       "stream": "stdout",
       "text": [
        " 0181945\n",
        "no office data"
       ]
      },
      {
       "output_type": "stream",
       "stream": "stdout",
       "text": [
        " 0161292\n",
        "no office data"
       ]
      },
      {
       "output_type": "stream",
       "stream": "stdout",
       "text": [
        " 0261174\n",
        "no office data"
       ]
      },
      {
       "output_type": "stream",
       "stream": "stdout",
       "text": [
        " 0245814\n",
        "no office data"
       ]
      },
      {
       "output_type": "stream",
       "stream": "stdout",
       "text": [
        " 0217086\n",
        "no office data"
       ]
      },
      {
       "output_type": "stream",
       "stream": "stdout",
       "text": [
        " 0132910\n",
        "no office data"
       ]
      },
      {
       "output_type": "stream",
       "stream": "stdout",
       "text": [
        " 0253709\n",
        "no office data"
       ]
      },
      {
       "output_type": "stream",
       "stream": "stdout",
       "text": [
        " 0217769\n",
        "no office data"
       ]
      },
      {
       "output_type": "stream",
       "stream": "stdout",
       "text": [
        " 0218542\n",
        "no office data"
       ]
      },
      {
       "output_type": "stream",
       "stream": "stdout",
       "text": [
        " 0262001\n",
        "no office data"
       ]
      },
      {
       "output_type": "stream",
       "stream": "stdout",
       "text": [
        " 0183056\n",
        "no office data"
       ]
      },
      {
       "output_type": "stream",
       "stream": "stdout",
       "text": [
        " 0257266\n",
        "no office data"
       ]
      },
      {
       "output_type": "stream",
       "stream": "stdout",
       "text": [
        " 0237934\n",
        "no office data"
       ]
      },
      {
       "output_type": "stream",
       "stream": "stdout",
       "text": [
        " 0275230\n",
        "no office data"
       ]
      },
      {
       "output_type": "stream",
       "stream": "stdout",
       "text": [
        " 0372249\n",
        "no office data"
       ]
      },
      {
       "output_type": "stream",
       "stream": "stdout",
       "text": [
        " 0194422\n",
        "no office data"
       ]
      },
      {
       "output_type": "stream",
       "stream": "stdout",
       "text": [
        " 0214757\n",
        "no office data"
       ]
      },
      {
       "output_type": "stream",
       "stream": "stdout",
       "text": [
        " 0283037\n",
        "no office data"
       ]
      },
      {
       "output_type": "stream",
       "stream": "stdout",
       "text": [
        " 0272822\n",
        "no office data"
       ]
      },
      {
       "output_type": "stream",
       "stream": "stdout",
       "text": [
        " 0279809\n",
        "no office data"
       ]
      },
      {
       "output_type": "stream",
       "stream": "stdout",
       "text": [
        " 0226919\n",
        "no office data"
       ]
      },
      {
       "output_type": "stream",
       "stream": "stdout",
       "text": [
        " 0320187\n",
        "no office data"
       ]
      },
      {
       "output_type": "stream",
       "stream": "stdout",
       "text": [
        " 0389042\n",
        "no office data"
       ]
      },
      {
       "output_type": "stream",
       "stream": "stdout",
       "text": [
        " 0260162\n",
        "no office data"
       ]
      },
      {
       "output_type": "stream",
       "stream": "stdout",
       "text": [
        " 0249326\n",
        "no office data"
       ]
      },
      {
       "output_type": "stream",
       "stream": "stdout",
       "text": [
        " 0267657\n",
        "no office data"
       ]
      },
      {
       "output_type": "stream",
       "stream": "stdout",
       "text": [
        " 0300997\n",
        "Finished:"
       ]
      },
      {
       "output_type": "stream",
       "stream": "stdout",
       "text": [
        " 3200 ----------------------\n",
        "no office data"
       ]
      },
      {
       "output_type": "stream",
       "stream": "stdout",
       "text": [
        " 0191869\n",
        "no office data"
       ]
      },
      {
       "output_type": "stream",
       "stream": "stdout",
       "text": [
        " 0251094\n",
        "no office data"
       ]
      },
      {
       "output_type": "stream",
       "stream": "stdout",
       "text": [
        " 0268586\n",
        "no office data"
       ]
      },
      {
       "output_type": "stream",
       "stream": "stdout",
       "text": [
        " 0242150\n",
        "no office data"
       ]
      },
      {
       "output_type": "stream",
       "stream": "stdout",
       "text": [
        " 0259127\n",
        "no office data"
       ]
      },
      {
       "output_type": "stream",
       "stream": "stdout",
       "text": [
        " 0311361\n",
        "no office data"
       ]
      },
      {
       "output_type": "stream",
       "stream": "stdout",
       "text": [
        " 0279353\n",
        "no office data"
       ]
      },
      {
       "output_type": "stream",
       "stream": "stdout",
       "text": [
        " 0218127\n",
        "no office data"
       ]
      },
      {
       "output_type": "stream",
       "stream": "stdout",
       "text": [
        " 0218127\n",
        "no office data"
       ]
      },
      {
       "output_type": "stream",
       "stream": "stdout",
       "text": [
        " 0277044\n",
        "no office data"
       ]
      },
      {
       "output_type": "stream",
       "stream": "stdout",
       "text": [
        " 0274622\n",
        "no office data"
       ]
      },
      {
       "output_type": "stream",
       "stream": "stdout",
       "text": [
        " 0201020\n",
        "no office data"
       ]
      },
      {
       "output_type": "stream",
       "stream": "stdout",
       "text": [
        " 0246037\n",
        "no office data"
       ]
      },
      {
       "output_type": "stream",
       "stream": "stdout",
       "text": [
        " 0301687\n",
        "no office data"
       ]
      },
      {
       "output_type": "stream",
       "stream": "stdout",
       "text": [
        " 0287583\n",
        "no office data"
       ]
      },
      {
       "output_type": "stream",
       "stream": "stdout",
       "text": [
        " 0243222\n",
        "no office data"
       ]
      },
      {
       "output_type": "stream",
       "stream": "stdout",
       "text": [
        " 0213053\n",
        "no office data"
       ]
      },
      {
       "output_type": "stream",
       "stream": "stdout",
       "text": [
        " 0268032\n",
        "no office data"
       ]
      },
      {
       "output_type": "stream",
       "stream": "stdout",
       "text": [
        " 0253071\n",
        "no office data"
       ]
      },
      {
       "output_type": "stream",
       "stream": "stdout",
       "text": [
        " 0266102\n",
        "no office data"
       ]
      },
      {
       "output_type": "stream",
       "stream": "stdout",
       "text": [
        " 0266102\n",
        "no office data"
       ]
      },
      {
       "output_type": "stream",
       "stream": "stdout",
       "text": [
        " 0183620\n",
        "no office data"
       ]
      },
      {
       "output_type": "stream",
       "stream": "stdout",
       "text": [
        " 0251415\n",
        "no office data"
       ]
      },
      {
       "output_type": "stream",
       "stream": "stdout",
       "text": [
        " 0250347\n",
        "no office data"
       ]
      },
      {
       "output_type": "stream",
       "stream": "stdout",
       "text": [
        " 0250347\n",
        "no office data"
       ]
      },
      {
       "output_type": "stream",
       "stream": "stdout",
       "text": [
        " 0357905\n",
        "no office data"
       ]
      },
      {
       "output_type": "stream",
       "stream": "stdout",
       "text": [
        " 0263746\n",
        "no office data"
       ]
      },
      {
       "output_type": "stream",
       "stream": "stdout",
       "text": [
        " 0255851\n",
        "no office data"
       ]
      },
      {
       "output_type": "stream",
       "stream": "stdout",
       "text": [
        " 0290233\n",
        "no office data"
       ]
      },
      {
       "output_type": "stream",
       "stream": "stdout",
       "text": [
        " 0250862\n",
        "no office data"
       ]
      },
      {
       "output_type": "stream",
       "stream": "stdout",
       "text": [
        " 0156976\n",
        "no office data"
       ]
      },
      {
       "output_type": "stream",
       "stream": "stdout",
       "text": [
        " 0281249\n",
        "no office data"
       ]
      },
      {
       "output_type": "stream",
       "stream": "stdout",
       "text": [
        " 0269450\n",
        "no office data"
       ]
      },
      {
       "output_type": "stream",
       "stream": "stdout",
       "text": [
        " 0268303\n",
        "no office data"
       ]
      },
      {
       "output_type": "stream",
       "stream": "stdout",
       "text": [
        " 0365965\n",
        "no office data"
       ]
      },
      {
       "output_type": "stream",
       "stream": "stdout",
       "text": [
        " 0200191\n",
        "no office data"
       ]
      },
      {
       "output_type": "stream",
       "stream": "stdout",
       "text": [
        " 0266078\n",
        "no office data"
       ]
      },
      {
       "output_type": "stream",
       "stream": "stdout",
       "text": [
        " 0274636\n",
        "no office data"
       ]
      },
      {
       "output_type": "stream",
       "stream": "stdout",
       "text": [
        " 0198779\n",
        "no office data"
       ]
      },
      {
       "output_type": "stream",
       "stream": "stdout",
       "text": [
        " 0272360\n",
        "no office data"
       ]
      },
      {
       "output_type": "stream",
       "stream": "stdout",
       "text": [
        " 0259786\n",
        "no office data"
       ]
      },
      {
       "output_type": "stream",
       "stream": "stdout",
       "text": [
        " 0295206\n",
        "no office data"
       ]
      },
      {
       "output_type": "stream",
       "stream": "stdout",
       "text": [
        " 0246228\n",
        "no office data"
       ]
      },
      {
       "output_type": "stream",
       "stream": "stdout",
       "text": [
        " 0294949\n",
        "no office data"
       ]
      },
      {
       "output_type": "stream",
       "stream": "stdout",
       "text": [
        " 0297905\n",
        "no office data"
       ]
      },
      {
       "output_type": "stream",
       "stream": "stdout",
       "text": [
        " 0274993\n",
        "no office data"
       ]
      },
      {
       "output_type": "stream",
       "stream": "stdout",
       "text": [
        " 0259727\n",
        "no office data"
       ]
      },
      {
       "output_type": "stream",
       "stream": "stdout",
       "text": [
        " 0277981\n",
        "no office data"
       ]
      },
      {
       "output_type": "stream",
       "stream": "stdout",
       "text": [
        " 0277255\n",
        "no office data"
       ]
      },
      {
       "output_type": "stream",
       "stream": "stdout",
       "text": [
        " 0243907\n",
        "no office data"
       ]
      },
      {
       "output_type": "stream",
       "stream": "stdout",
       "text": [
        " 0294805\n",
        "no office data"
       ]
      },
      {
       "output_type": "stream",
       "stream": "stdout",
       "text": [
        " 0285467\n",
        "Finished:"
       ]
      },
      {
       "output_type": "stream",
       "stream": "stdout",
       "text": [
        " 3300 ----------------------\n",
        "no office data"
       ]
      },
      {
       "output_type": "stream",
       "stream": "stdout",
       "text": [
        " 0289181\n",
        "no office data"
       ]
      },
      {
       "output_type": "stream",
       "stream": "stdout",
       "text": [
        " 0315652\n",
        "no office data"
       ]
      },
      {
       "output_type": "stream",
       "stream": "stdout",
       "text": [
        " 0289046\n",
        "no office data"
       ]
      },
      {
       "output_type": "stream",
       "stream": "stdout",
       "text": [
        " 0245034\n",
        "no office data"
       ]
      },
      {
       "output_type": "stream",
       "stream": "stdout",
       "text": [
        " 0284253\n",
        "no office data"
       ]
      },
      {
       "output_type": "stream",
       "stream": "stdout",
       "text": [
        " 0279204\n",
        "no office data"
       ]
      },
      {
       "output_type": "stream",
       "stream": "stdout",
       "text": [
        " 0280764\n",
        "no office data"
       ]
      },
      {
       "output_type": "stream",
       "stream": "stdout",
       "text": [
        " 0188128\n",
        "no office data"
       ]
      },
      {
       "output_type": "stream",
       "stream": "stdout",
       "text": [
        " 0285154\n",
        "no office data"
       ]
      },
      {
       "output_type": "stream",
       "stream": "stdout",
       "text": [
        " 0271022\n",
        "no office data"
       ]
      },
      {
       "output_type": "stream",
       "stream": "stdout",
       "text": [
        " 0250613\n",
        "no office data"
       ]
      },
      {
       "output_type": "stream",
       "stream": "stdout",
       "text": [
        " 0220034\n",
        "no office data"
       ]
      },
      {
       "output_type": "stream",
       "stream": "stdout",
       "text": [
        " 0275569\n",
        "no office data"
       ]
      },
      {
       "output_type": "stream",
       "stream": "stdout",
       "text": [
        " 0286151\n",
        "no office data"
       ]
      },
      {
       "output_type": "stream",
       "stream": "stdout",
       "text": [
        " 0173498\n",
        "no office data"
       ]
      },
      {
       "output_type": "stream",
       "stream": "stdout",
       "text": [
        " 0284123\n",
        "no office data"
       ]
      },
      {
       "output_type": "stream",
       "stream": "stdout",
       "text": [
        " 0284334\n",
        "no office data"
       ]
      },
      {
       "output_type": "stream",
       "stream": "stdout",
       "text": [
        " 0244684\n",
        "no office data"
       ]
      },
      {
       "output_type": "stream",
       "stream": "stdout",
       "text": [
        " 0244684\n",
        "no office data"
       ]
      },
      {
       "output_type": "stream",
       "stream": "stdout",
       "text": [
        " 0266425\n",
        "no office data"
       ]
      },
      {
       "output_type": "stream",
       "stream": "stdout",
       "text": [
        " 0258223\n",
        "no office data"
       ]
      },
      {
       "output_type": "stream",
       "stream": "stdout",
       "text": [
        " 0247645\n",
        "no office data"
       ]
      },
      {
       "output_type": "stream",
       "stream": "stdout",
       "text": [
        " 0249643\n",
        "no office data"
       ]
      },
      {
       "output_type": "stream",
       "stream": "stdout",
       "text": [
        " 0283652\n",
        "no office data"
       ]
      },
      {
       "output_type": "stream",
       "stream": "stdout",
       "text": [
        " 0267659\n",
        "no office data"
       ]
      },
      {
       "output_type": "stream",
       "stream": "stdout",
       "text": [
        " 0218727\n",
        "no office data"
       ]
      },
      {
       "output_type": "stream",
       "stream": "stdout",
       "text": [
        " 0272606\n",
        "no office data"
       ]
      },
      {
       "output_type": "stream",
       "stream": "stdout",
       "text": [
        " 0206762\n",
        "no office data"
       ]
      },
      {
       "output_type": "stream",
       "stream": "stdout",
       "text": [
        " 0278490\n",
        "no office data"
       ]
      },
      {
       "output_type": "stream",
       "stream": "stdout",
       "text": [
        " 0295634\n",
        "no office data"
       ]
      },
      {
       "output_type": "stream",
       "stream": "stdout",
       "text": [
        " 0218032\n",
        "no office data"
       ]
      },
      {
       "output_type": "stream",
       "stream": "stdout",
       "text": [
        " 0264606\n",
        "no office data"
       ]
      },
      {
       "output_type": "stream",
       "stream": "stdout",
       "text": [
        " 0307162\n",
        "no office data"
       ]
      },
      {
       "output_type": "stream",
       "stream": "stdout",
       "text": [
        " 0290326\n",
        "no office data"
       ]
      },
      {
       "output_type": "stream",
       "stream": "stdout",
       "text": [
        " 0284431\n",
        "no office data"
       ]
      },
      {
       "output_type": "stream",
       "stream": "stdout",
       "text": [
        " 0290884\n",
        "no office data"
       ]
      },
      {
       "output_type": "stream",
       "stream": "stdout",
       "text": [
        " 0245317\n",
        "no office data"
       ]
      },
      {
       "output_type": "stream",
       "stream": "stdout",
       "text": [
        " 0277092\n",
        "no office data"
       ]
      },
      {
       "output_type": "stream",
       "stream": "stdout",
       "text": [
        " 0274584\n",
        "no office data"
       ]
      },
      {
       "output_type": "stream",
       "stream": "stdout",
       "text": [
        " 0268548\n",
        "no office data"
       ]
      },
      {
       "output_type": "stream",
       "stream": "stdout",
       "text": [
        " 0250636\n",
        "no office data"
       ]
      },
      {
       "output_type": "stream",
       "stream": "stdout",
       "text": [
        " 0354981\n",
        "Finished:"
       ]
      },
      {
       "output_type": "stream",
       "stream": "stdout",
       "text": [
        " 3400 ----------------------\n",
        "no office data"
       ]
      },
      {
       "output_type": "stream",
       "stream": "stdout",
       "text": [
        " 0240628\n",
        "no office data"
       ]
      },
      {
       "output_type": "stream",
       "stream": "stdout",
       "text": [
        " 0214871\n",
        "no office data"
       ]
      },
      {
       "output_type": "stream",
       "stream": "stdout",
       "text": [
        " 0257408\n",
        "no office data"
       ]
      },
      {
       "output_type": "stream",
       "stream": "stdout",
       "text": [
        " 0240325\n",
        "no office data"
       ]
      },
      {
       "output_type": "stream",
       "stream": "stdout",
       "text": [
        " 0317763\n",
        "no office data"
       ]
      },
      {
       "output_type": "stream",
       "stream": "stdout",
       "text": [
        " 0295461\n",
        "no office data"
       ]
      },
      {
       "output_type": "stream",
       "stream": "stdout",
       "text": [
        " 0283684\n",
        "no office data"
       ]
      },
      {
       "output_type": "stream",
       "stream": "stdout",
       "text": [
        " 0283974\n",
        "no office data"
       ]
      },
      {
       "output_type": "stream",
       "stream": "stdout",
       "text": [
        " 0293854\n",
        "no office data"
       ]
      },
      {
       "output_type": "stream",
       "stream": "stdout",
       "text": [
        " 0220623\n",
        "no office data"
       ]
      },
      {
       "output_type": "stream",
       "stream": "stdout",
       "text": [
        " 0295002\n",
        "no office data"
       ]
      },
      {
       "output_type": "stream",
       "stream": "stdout",
       "text": [
        " 0263215\n",
        "no office data"
       ]
      },
      {
       "output_type": "stream",
       "stream": "stdout",
       "text": [
        " 0296273\n",
        "no office data"
       ]
      },
      {
       "output_type": "stream",
       "stream": "stdout",
       "text": [
        " 0254626\n",
        "no office data"
       ]
      },
      {
       "output_type": "stream",
       "stream": "stdout",
       "text": [
        " 0308800\n",
        "no office data"
       ]
      },
      {
       "output_type": "stream",
       "stream": "stdout",
       "text": [
        " 0255313\n",
        "no office data"
       ]
      },
      {
       "output_type": "stream",
       "stream": "stdout",
       "text": [
        " 0297099\n",
        "no office data"
       ]
      },
      {
       "output_type": "stream",
       "stream": "stdout",
       "text": [
        " 0262699\n",
        "no office data"
       ]
      },
      {
       "output_type": "stream",
       "stream": "stdout",
       "text": [
        " 0282178\n",
        "no office data"
       ]
      },
      {
       "output_type": "stream",
       "stream": "stdout",
       "text": [
        " 0298606\n",
        "no office data"
       ]
      },
      {
       "output_type": "stream",
       "stream": "stdout",
       "text": [
        " 0305312\n",
        "no office data"
       ]
      },
      {
       "output_type": "stream",
       "stream": "stdout",
       "text": [
        " 0289626\n",
        "no office data"
       ]
      },
      {
       "output_type": "stream",
       "stream": "stdout",
       "text": [
        " 0289626\n",
        "no office data"
       ]
      },
      {
       "output_type": "stream",
       "stream": "stdout",
       "text": [
        " 0308252\n",
        "no office data"
       ]
      },
      {
       "output_type": "stream",
       "stream": "stdout",
       "text": [
        " 0268358\n",
        "no office data"
       ]
      },
      {
       "output_type": "stream",
       "stream": "stdout",
       "text": [
        " 0221837\n",
        "no office data"
       ]
      },
      {
       "output_type": "stream",
       "stream": "stdout",
       "text": [
        " 0289658\n",
        "Finished:"
       ]
      },
      {
       "output_type": "stream",
       "stream": "stdout",
       "text": [
        " 3500 ----------------------\n",
        "no office data"
       ]
      },
      {
       "output_type": "stream",
       "stream": "stdout",
       "text": [
        " 0297169\n",
        "no office data"
       ]
      },
      {
       "output_type": "stream",
       "stream": "stdout",
       "text": [
        " 0300657\n",
        "no office data"
       ]
      },
      {
       "output_type": "stream",
       "stream": "stdout",
       "text": [
        " 0253201\n",
        "no office data"
       ]
      },
      {
       "output_type": "stream",
       "stream": "stdout",
       "text": [
        " 0268321\n",
        "no office data"
       ]
      },
      {
       "output_type": "stream",
       "stream": "stdout",
       "text": [
        " 0301179\n",
        "no office data"
       ]
      },
      {
       "output_type": "stream",
       "stream": "stdout",
       "text": [
        " 0233657\n",
        "no office data"
       ]
      },
      {
       "output_type": "stream",
       "stream": "stdout",
       "text": [
        " 0292634\n",
        "no office data"
       ]
      },
      {
       "output_type": "stream",
       "stream": "stdout",
       "text": [
        " 0278035\n",
        "no office data"
       ]
      },
      {
       "output_type": "stream",
       "stream": "stdout",
       "text": [
        " 0243931\n",
        "no office data"
       ]
      },
      {
       "output_type": "stream",
       "stream": "stdout",
       "text": [
        " 0257850\n",
        "no office data"
       ]
      },
      {
       "output_type": "stream",
       "stream": "stdout",
       "text": [
        " 0287140\n",
        "no office data"
       ]
      },
      {
       "output_type": "stream",
       "stream": "stdout",
       "text": [
        " 0293088\n",
        "no office data"
       ]
      },
      {
       "output_type": "stream",
       "stream": "stdout",
       "text": [
        " 0271210\n",
        "no office data"
       ]
      },
      {
       "output_type": "stream",
       "stream": "stdout",
       "text": [
        " 0364986\n",
        "no office data"
       ]
      },
      {
       "output_type": "stream",
       "stream": "stdout",
       "text": [
        " 0304584\n",
        "no office data"
       ]
      },
      {
       "output_type": "stream",
       "stream": "stdout",
       "text": [
        " 0310224\n",
        "no office data"
       ]
      },
      {
       "output_type": "stream",
       "stream": "stdout",
       "text": [
        " 0346135\n",
        "no office data"
       ]
      },
      {
       "output_type": "stream",
       "stream": "stdout",
       "text": [
        " 0312941\n",
        "no office data"
       ]
      },
      {
       "output_type": "stream",
       "stream": "stdout",
       "text": [
        " 0337875\n",
        "no office data"
       ]
      },
      {
       "output_type": "stream",
       "stream": "stdout",
       "text": [
        " 0309390\n",
        "no office data"
       ]
      },
      {
       "output_type": "stream",
       "stream": "stdout",
       "text": [
        " 0308071\n",
        "no office data"
       ]
      },
      {
       "output_type": "stream",
       "stream": "stdout",
       "text": [
        " 0298454\n",
        "no office data"
       ]
      },
      {
       "output_type": "stream",
       "stream": "stdout",
       "text": [
        " 0276918\n",
        "no office data"
       ]
      },
      {
       "output_type": "stream",
       "stream": "stdout",
       "text": [
        " 0280453\n",
        "no office data"
       ]
      },
      {
       "output_type": "stream",
       "stream": "stdout",
       "text": [
        " 0210294\n",
        "no office data"
       ]
      },
      {
       "output_type": "stream",
       "stream": "stdout",
       "text": [
        " 0287594\n",
        "no office data"
       ]
      },
      {
       "output_type": "stream",
       "stream": "stdout",
       "text": [
        " 0298394\n",
        "no office data"
       ]
      },
      {
       "output_type": "stream",
       "stream": "stdout",
       "text": [
        " 0219876\n",
        "D-Tox (Eye See You)"
       ]
      },
      {
       "output_type": "stream",
       "stream": "stdout",
       "text": [
        "\n",
        "no office data"
       ]
      },
      {
       "output_type": "stream",
       "stream": "stdout",
       "text": [
        " 0330342\n",
        "no office data"
       ]
      },
      {
       "output_type": "stream",
       "stream": "stdout",
       "text": [
        " 0301165\n",
        "no office data"
       ]
      },
      {
       "output_type": "stream",
       "stream": "stdout",
       "text": [
        " 0164810\n",
        "no office data"
       ]
      },
      {
       "output_type": "stream",
       "stream": "stdout",
       "text": [
        " 0293562\n",
        "no office data"
       ]
      },
      {
       "output_type": "stream",
       "stream": "stdout",
       "text": [
        " 0333847\n",
        "no office data"
       ]
      },
      {
       "output_type": "stream",
       "stream": "stdout",
       "text": [
        " 0333847\n",
        "no office data"
       ]
      },
      {
       "output_type": "stream",
       "stream": "stdout",
       "text": [
        " 0333847\n",
        "no office data"
       ]
      },
      {
       "output_type": "stream",
       "stream": "stdout",
       "text": [
        " 0309114\n",
        "no office data"
       ]
      },
      {
       "output_type": "stream",
       "stream": "stdout",
       "text": [
        " 0156376\n",
        "no office data"
       ]
      },
      {
       "output_type": "stream",
       "stream": "stdout",
       "text": [
        " 0291180\n",
        "no office data"
       ]
      },
      {
       "output_type": "stream",
       "stream": "stdout",
       "text": [
        " 0289055\n",
        "no office data"
       ]
      },
      {
       "output_type": "stream",
       "stream": "stdout",
       "text": [
        " 0289055\n",
        "no office data"
       ]
      },
      {
       "output_type": "stream",
       "stream": "stdout",
       "text": [
        " 0288593\n",
        "no office data"
       ]
      },
      {
       "output_type": "stream",
       "stream": "stdout",
       "text": [
        " 0283987\n",
        "Finished:"
       ]
      },
      {
       "output_type": "stream",
       "stream": "stdout",
       "text": [
        " 3600 ----------------------\n",
        "no office data"
       ]
      },
      {
       "output_type": "stream",
       "stream": "stdout",
       "text": [
        " 0250282\n",
        "no office data"
       ]
      },
      {
       "output_type": "stream",
       "stream": "stdout",
       "text": [
        " 0308496\n",
        "no office data"
       ]
      },
      {
       "output_type": "stream",
       "stream": "stdout",
       "text": [
        " 0339751\n",
        "no office data"
       ]
      },
      {
       "output_type": "stream",
       "stream": "stdout",
       "text": [
        " 0274981\n",
        "no office data"
       ]
      },
      {
       "output_type": "stream",
       "stream": "stdout",
       "text": [
        " 0304151\n",
        "no office data"
       ]
      },
      {
       "output_type": "stream",
       "stream": "stdout",
       "text": [
        " 0312862\n",
        "no office data"
       ]
      },
      {
       "output_type": "stream",
       "stream": "stdout",
       "text": [
        " 0325761\n",
        "no office data"
       ]
      },
      {
       "output_type": "stream",
       "stream": "stdout",
       "text": [
        " 0311373\n",
        "no office data"
       ]
      },
      {
       "output_type": "stream",
       "stream": "stdout",
       "text": [
        " 0990372\n",
        "no office data"
       ]
      },
      {
       "output_type": "stream",
       "stream": "stdout",
       "text": [
        " 0303110\n",
        "no office data"
       ]
      },
      {
       "output_type": "stream",
       "stream": "stdout",
       "text": [
        " 0329112\n",
        "no office data"
       ]
      },
      {
       "output_type": "stream",
       "stream": "stdout",
       "text": [
        " 0332636\n",
        "no office data"
       ]
      },
      {
       "output_type": "stream",
       "stream": "stdout",
       "text": [
        " 0319803\n",
        "no office data"
       ]
      },
      {
       "output_type": "stream",
       "stream": "stdout",
       "text": [
        " 0289652\n",
        "no office data"
       ]
      },
      {
       "output_type": "stream",
       "stream": "stdout",
       "text": [
        " 0309452\n",
        "no office data"
       ]
      },
      {
       "output_type": "stream",
       "stream": "stdout",
       "text": [
        " 0365402\n",
        "no office data"
       ]
      },
      {
       "output_type": "stream",
       "stream": "stdout",
       "text": [
        " 0324975\n",
        "no office data"
       ]
      },
      {
       "output_type": "stream",
       "stream": "stdout",
       "text": [
        " 0315735\n",
        "no office data"
       ]
      },
      {
       "output_type": "stream",
       "stream": "stdout",
       "text": [
        " 0307401\n",
        "no office data"
       ]
      },
      {
       "output_type": "stream",
       "stream": "stdout",
       "text": [
        " 0303162\n",
        "no office data"
       ]
      },
      {
       "output_type": "stream",
       "stream": "stdout",
       "text": [
        " 0313411\n",
        "no office data"
       ]
      },
      {
       "output_type": "stream",
       "stream": "stdout",
       "text": [
        " 0329083\n",
        "no office data"
       ]
      },
      {
       "output_type": "stream",
       "stream": "stdout",
       "text": [
        " 0358529\n",
        "no office data"
       ]
      },
      {
       "output_type": "stream",
       "stream": "stdout",
       "text": [
        " 0326441\n",
        "no office data"
       ]
      },
      {
       "output_type": "stream",
       "stream": "stdout",
       "text": [
        " 0486746\n",
        "no office data"
       ]
      },
      {
       "output_type": "stream",
       "stream": "stdout",
       "text": [
        " 0320413\n",
        "no office data"
       ]
      },
      {
       "output_type": "stream",
       "stream": "stdout",
       "text": [
        " 0288415\n",
        "no office data"
       ]
      },
      {
       "output_type": "stream",
       "stream": "stdout",
       "text": [
        " 0286989\n",
        "no office data"
       ]
      },
      {
       "output_type": "stream",
       "stream": "stdout",
       "text": [
        " 0310907\n",
        "no office data"
       ]
      },
      {
       "output_type": "stream",
       "stream": "stdout",
       "text": [
        " 0330795\n",
        "no office data"
       ]
      },
      {
       "output_type": "stream",
       "stream": "stdout",
       "text": [
        " 0255278\n",
        "no office data"
       ]
      },
      {
       "output_type": "stream",
       "stream": "stdout",
       "text": [
        " 0282123\n",
        "no office data"
       ]
      },
      {
       "output_type": "stream",
       "stream": "stdout",
       "text": [
        " 0313680\n",
        "no office data"
       ]
      },
      {
       "output_type": "stream",
       "stream": "stdout",
       "text": [
        " 0264333\n",
        "no office data"
       ]
      },
      {
       "output_type": "stream",
       "stream": "stdout",
       "text": [
        " 0327169\n",
        "Finished:"
       ]
      },
      {
       "output_type": "stream",
       "stream": "stdout",
       "text": [
        " 3700 ----------------------\n",
        "no office data"
       ]
      },
      {
       "output_type": "stream",
       "stream": "stdout",
       "text": [
        " 0310298\n",
        "no office data"
       ]
      },
      {
       "output_type": "stream",
       "stream": "stdout",
       "text": [
        " 0330829\n",
        "no office data"
       ]
      },
      {
       "output_type": "stream",
       "stream": "stdout",
       "text": [
        " 0354694\n",
        "no office data"
       ]
      },
      {
       "output_type": "stream",
       "stream": "stdout",
       "text": [
        " 0314480\n",
        "no office data"
       ]
      },
      {
       "output_type": "stream",
       "stream": "stdout",
       "text": [
        " 0851216\n",
        "no office data"
       ]
      },
      {
       "output_type": "stream",
       "stream": "stdout",
       "text": [
        " 0304417\n",
        "no office data"
       ]
      },
      {
       "output_type": "stream",
       "stream": "stdout",
       "text": [
        " 0356014\n",
        "no office data"
       ]
      },
      {
       "output_type": "stream",
       "stream": "stdout",
       "text": [
        " 0326746\n",
        "no office data"
       ]
      },
      {
       "output_type": "stream",
       "stream": "stdout",
       "text": [
        " 0326983\n",
        "no office data"
       ]
      },
      {
       "output_type": "stream",
       "stream": "stdout",
       "text": [
        " 0344942\n",
        "no office data"
       ]
      },
      {
       "output_type": "stream",
       "stream": "stdout",
       "text": [
        " 0326600\n",
        "no office data"
       ]
      },
      {
       "output_type": "stream",
       "stream": "stdout",
       "text": [
        " 0382692\n",
        "no office data"
       ]
      },
      {
       "output_type": "stream",
       "stream": "stdout",
       "text": [
        " 0382692\n",
        "no office data"
       ]
      },
      {
       "output_type": "stream",
       "stream": "stdout",
       "text": [
        " 0284631\n",
        "no office data"
       ]
      },
      {
       "output_type": "stream",
       "stream": "stdout",
       "text": [
        " 0312296\n",
        "no office data"
       ]
      },
      {
       "output_type": "stream",
       "stream": "stdout",
       "text": [
        " 0270393\n",
        "no office data"
       ]
      },
      {
       "output_type": "stream",
       "stream": "stdout",
       "text": [
        " 0346934\n",
        "no office data"
       ]
      },
      {
       "output_type": "stream",
       "stream": "stdout",
       "text": [
        " 0221559\n",
        "no office data"
       ]
      },
      {
       "output_type": "stream",
       "stream": "stdout",
       "text": [
        " 0328094\n",
        "no office data"
       ]
      },
      {
       "output_type": "stream",
       "stream": "stdout",
       "text": [
        " 0332626\n",
        "no office data"
       ]
      },
      {
       "output_type": "stream",
       "stream": "stdout",
       "text": [
        " 0252266\n",
        "no office data"
       ]
      },
      {
       "output_type": "stream",
       "stream": "stdout",
       "text": [
        " 0374262\n",
        "no office data"
       ]
      },
      {
       "output_type": "stream",
       "stream": "stdout",
       "text": [
        " 0284978\n",
        "no office data"
       ]
      },
      {
       "output_type": "stream",
       "stream": "stdout",
       "text": [
        " 0319986\n",
        "no office data"
       ]
      },
      {
       "output_type": "stream",
       "stream": "stdout",
       "text": [
        " 0418291\n",
        "no office data"
       ]
      },
      {
       "output_type": "stream",
       "stream": "stdout",
       "text": [
        " 0344238\n",
        "no office data"
       ]
      },
      {
       "output_type": "stream",
       "stream": "stdout",
       "text": [
        " 0283878\n",
        "Finished:"
       ]
      },
      {
       "output_type": "stream",
       "stream": "stdout",
       "text": [
        " 3800 ----------------------\n",
        "no office data"
       ]
      },
      {
       "output_type": "stream",
       "stream": "stdout",
       "text": [
        " 0324532\n",
        "no office data"
       ]
      },
      {
       "output_type": "stream",
       "stream": "stdout",
       "text": [
        " 0371907\n",
        "no office data"
       ]
      },
      {
       "output_type": "stream",
       "stream": "stdout",
       "text": [
        " 0363485\n",
        "no office data"
       ]
      },
      {
       "output_type": "stream",
       "stream": "stdout",
       "text": [
        " 0328116\n",
        "no office data"
       ]
      },
      {
       "output_type": "stream",
       "stream": "stdout",
       "text": [
        " 0332563\n",
        "no office data"
       ]
      },
      {
       "output_type": "stream",
       "stream": "stdout",
       "text": [
        " 0329737\n",
        "no office data"
       ]
      },
      {
       "output_type": "stream",
       "stream": "stdout",
       "text": [
        " 0319836\n",
        "no office data"
       ]
      },
      {
       "output_type": "stream",
       "stream": "stdout",
       "text": [
        " 0360033\n",
        "no office data"
       ]
      },
      {
       "output_type": "stream",
       "stream": "stdout",
       "text": [
        " 0338963\n",
        "no office data"
       ]
      },
      {
       "output_type": "stream",
       "stream": "stdout",
       "text": [
        " 0338434\n",
        "no office data"
       ]
      },
      {
       "output_type": "stream",
       "stream": "stdout",
       "text": [
        " 0316768\n",
        "no office data"
       ]
      },
      {
       "output_type": "stream",
       "stream": "stdout",
       "text": [
        " 0322389\n",
        "no office data"
       ]
      },
      {
       "output_type": "stream",
       "stream": "stdout",
       "text": [
        " 0315775\n",
        "no office data"
       ]
      },
      {
       "output_type": "stream",
       "stream": "stdout",
       "text": [
        " 0381842\n",
        "no office data"
       ]
      },
      {
       "output_type": "stream",
       "stream": "stdout",
       "text": [
        " 0312450\n",
        "no office data"
       ]
      },
      {
       "output_type": "stream",
       "stream": "stdout",
       "text": [
        " 0343094\n",
        "no office data"
       ]
      },
      {
       "output_type": "stream",
       "stream": "stdout",
       "text": [
        " 0364310\n",
        "no office data"
       ]
      },
      {
       "output_type": "stream",
       "stream": "stdout",
       "text": [
        " 0350755\n",
        "no office data"
       ]
      },
      {
       "output_type": "stream",
       "stream": "stdout",
       "text": [
        " 0339419\n",
        "no office data"
       ]
      },
      {
       "output_type": "stream",
       "stream": "stdout",
       "text": [
        " 0311863\n",
        "no office data"
       ]
      },
      {
       "output_type": "stream",
       "stream": "stdout",
       "text": [
        " 0398259\n",
        "no office data"
       ]
      },
      {
       "output_type": "stream",
       "stream": "stdout",
       "text": [
        " 0297986\n",
        "no office data"
       ]
      },
      {
       "output_type": "stream",
       "stream": "stdout",
       "text": [
        " 0327890\n",
        "no office data"
       ]
      },
      {
       "output_type": "stream",
       "stream": "stdout",
       "text": [
        " 0345967\n",
        "no office data"
       ]
      },
      {
       "output_type": "stream",
       "stream": "stdout",
       "text": [
        " 0295876\n",
        "no office data"
       ]
      },
      {
       "output_type": "stream",
       "stream": "stdout",
       "text": [
        " 0326814\n",
        "no office data"
       ]
      },
      {
       "output_type": "stream",
       "stream": "stdout",
       "text": [
        " 0323443\n",
        "no office data"
       ]
      },
      {
       "output_type": "stream",
       "stream": "stdout",
       "text": [
        " 0366720\n",
        "no office data"
       ]
      },
      {
       "output_type": "stream",
       "stream": "stdout",
       "text": [
        " 0293437\n",
        "no office data"
       ]
      },
      {
       "output_type": "stream",
       "stream": "stdout",
       "text": [
        " 0293437\n",
        "no office data"
       ]
      },
      {
       "output_type": "stream",
       "stream": "stdout",
       "text": [
        " 0315465\n",
        "no office data"
       ]
      },
      {
       "output_type": "stream",
       "stream": "stdout",
       "text": [
        " 0355029\n",
        "no office data"
       ]
      },
      {
       "output_type": "stream",
       "stream": "stdout",
       "text": [
        " 0281707\n",
        "no office data"
       ]
      },
      {
       "output_type": "stream",
       "stream": "stdout",
       "text": [
        " 0282413\n",
        "no office data"
       ]
      },
      {
       "output_type": "stream",
       "stream": "stdout",
       "text": [
        " 0353141\n",
        "no office data"
       ]
      },
      {
       "output_type": "stream",
       "stream": "stdout",
       "text": [
        " 0323100\n",
        "no office data"
       ]
      },
      {
       "output_type": "stream",
       "stream": "stdout",
       "text": [
        " 0330203\n",
        "no office data"
       ]
      },
      {
       "output_type": "stream",
       "stream": "stdout",
       "text": [
        " 0329632\n",
        "no office data"
       ]
      },
      {
       "output_type": "stream",
       "stream": "stdout",
       "text": [
        " 0340380\n",
        "no office data"
       ]
      },
      {
       "output_type": "stream",
       "stream": "stdout",
       "text": [
        " 0312617\n",
        "no office data"
       ]
      },
      {
       "output_type": "stream",
       "stream": "stdout",
       "text": [
        " 0344843\n",
        "no office data"
       ]
      },
      {
       "output_type": "stream",
       "stream": "stdout",
       "text": [
        " 0283453\n",
        "Finished:"
       ]
      },
      {
       "output_type": "stream",
       "stream": "stdout",
       "text": [
        " 3900 ----------------------\n",
        "no office data"
       ]
      },
      {
       "output_type": "stream",
       "stream": "stdout",
       "text": [
        " 0325958\n",
        "no office data"
       ]
      },
      {
       "output_type": "stream",
       "stream": "stdout",
       "text": [
        " 0338177\n",
        "no office data"
       ]
      },
      {
       "output_type": "stream",
       "stream": "stdout",
       "text": [
        " 0473474\n",
        "no office data"
       ]
      },
      {
       "output_type": "stream",
       "stream": "stdout",
       "text": [
        " 0358203\n",
        "no office data"
       ]
      },
      {
       "output_type": "stream",
       "stream": "stdout",
       "text": [
        " 0304601\n",
        "no office data"
       ]
      },
      {
       "output_type": "stream",
       "stream": "stdout",
       "text": [
        " 0357392\n",
        "no office data"
       ]
      },
      {
       "output_type": "stream",
       "stream": "stdout",
       "text": [
        " 0135991\n",
        "no office data"
       ]
      },
      {
       "output_type": "stream",
       "stream": "stdout",
       "text": [
        " 0135991\n",
        "no office data"
       ]
      },
      {
       "output_type": "stream",
       "stream": "stdout",
       "text": [
        " 0353328\n",
        "no office data"
       ]
      },
      {
       "output_type": "stream",
       "stream": "stdout",
       "text": [
        " 0301454\n",
        "no office data"
       ]
      },
      {
       "output_type": "stream",
       "stream": "stdout",
       "text": [
        " 0282667\n",
        "no office data"
       ]
      },
      {
       "output_type": "stream",
       "stream": "stdout",
       "text": [
        " 0346293\n",
        "no office data"
       ]
      },
      {
       "output_type": "stream",
       "stream": "stdout",
       "text": [
        " 0359203\n",
        "no office data"
       ]
      },
      {
       "output_type": "stream",
       "stream": "stdout",
       "text": [
        " 0338467\n",
        "no office data"
       ]
      },
      {
       "output_type": "stream",
       "stream": "stdout",
       "text": [
        " 0361474\n",
        "no office data"
       ]
      },
      {
       "output_type": "stream",
       "stream": "stdout",
       "text": [
        " 0404283\n",
        "no office data"
       ]
      },
      {
       "output_type": "stream",
       "stream": "stdout",
       "text": [
        " 0404283\n",
        "no office data"
       ]
      },
      {
       "output_type": "stream",
       "stream": "stdout",
       "text": [
        " 0386273\n",
        "no office data"
       ]
      },
      {
       "output_type": "stream",
       "stream": "stdout",
       "text": [
        " 0388732\n",
        "no office data"
       ]
      },
      {
       "output_type": "stream",
       "stream": "stdout",
       "text": [
        " 0344011\n",
        "no office data"
       ]
      },
      {
       "output_type": "stream",
       "stream": "stdout",
       "text": [
        " 0355364\n",
        "no office data"
       ]
      },
      {
       "output_type": "stream",
       "stream": "stdout",
       "text": [
        " 0379975\n",
        "no office data"
       ]
      },
      {
       "output_type": "stream",
       "stream": "stdout",
       "text": [
        " 0379975\n",
        "no office data"
       ]
      },
      {
       "output_type": "stream",
       "stream": "stdout",
       "text": [
        " 0310805\n",
        "no office data"
       ]
      },
      {
       "output_type": "stream",
       "stream": "stdout",
       "text": [
        " 0330634\n",
        "no office data"
       ]
      },
      {
       "output_type": "stream",
       "stream": "stdout",
       "text": [
        " 1047518\n",
        "no office data"
       ]
      },
      {
       "output_type": "stream",
       "stream": "stdout",
       "text": [
        " 0384819\n",
        "no office data"
       ]
      },
      {
       "output_type": "stream",
       "stream": "stdout",
       "text": [
        " 0330181\n",
        "no office data"
       ]
      },
      {
       "output_type": "stream",
       "stream": "stdout",
       "text": [
        " 0368667\n",
        "no office data"
       ]
      },
      {
       "output_type": "stream",
       "stream": "stdout",
       "text": [
        " 0274193\n",
        "no office data"
       ]
      },
      {
       "output_type": "stream",
       "stream": "stdout",
       "text": [
        " 0355427\n",
        "no office data"
       ]
      },
      {
       "output_type": "stream",
       "stream": "stdout",
       "text": [
        " 0362039\n",
        "no office data"
       ]
      },
      {
       "output_type": "stream",
       "stream": "stdout",
       "text": [
        " 0346223\n",
        "no office data"
       ]
      },
      {
       "output_type": "stream",
       "stream": "stdout",
       "text": [
        " 0369360\n",
        "no office data"
       ]
      },
      {
       "output_type": "stream",
       "stream": "stdout",
       "text": [
        " 0343524\n",
        "no office data"
       ]
      },
      {
       "output_type": "stream",
       "stream": "stdout",
       "text": [
        " 0400898\n",
        "no office data"
       ]
      },
      {
       "output_type": "stream",
       "stream": "stdout",
       "text": [
        " 0356922\n",
        "no office data"
       ]
      },
      {
       "output_type": "stream",
       "stream": "stdout",
       "text": [
        " 0366227\n",
        "no office data"
       ]
      },
      {
       "output_type": "stream",
       "stream": "stdout",
       "text": [
        " 0327698\n",
        "no office data"
       ]
      },
      {
       "output_type": "stream",
       "stream": "stdout",
       "text": [
        " 0320241\n",
        "no office data"
       ]
      },
      {
       "output_type": "stream",
       "stream": "stdout",
       "text": [
        " 0204352\n",
        "no office data"
       ]
      },
      {
       "output_type": "stream",
       "stream": "stdout",
       "text": [
        " 0367195\n",
        "no office data"
       ]
      },
      {
       "output_type": "stream",
       "stream": "stdout",
       "text": [
        " 0372166\n",
        "no office data"
       ]
      },
      {
       "output_type": "stream",
       "stream": "stdout",
       "text": [
        " 0302018\n",
        "no office data"
       ]
      },
      {
       "output_type": "stream",
       "stream": "stdout",
       "text": [
        " 0374275\n",
        "no office data"
       ]
      },
      {
       "output_type": "stream",
       "stream": "stdout",
       "text": [
        " 0365376\n",
        "Finished:"
       ]
      },
      {
       "output_type": "stream",
       "stream": "stdout",
       "text": [
        " 4000 ----------------------\n",
        "no office data"
       ]
      },
      {
       "output_type": "stream",
       "stream": "stdout",
       "text": [
        " 0336325\n",
        "no office data"
       ]
      },
      {
       "output_type": "stream",
       "stream": "stdout",
       "text": [
        " 0378475\n",
        "no office data"
       ]
      },
      {
       "output_type": "stream",
       "stream": "stdout",
       "text": [
        " 0323246\n",
        "no office data"
       ]
      },
      {
       "output_type": "stream",
       "stream": "stdout",
       "text": [
        " 0384055\n",
        "no office data"
       ]
      },
      {
       "output_type": "stream",
       "stream": "stdout",
       "text": [
        " 0347720\n",
        "no office data"
       ]
      },
      {
       "output_type": "stream",
       "stream": "stdout",
       "text": [
        " 0369360\n",
        "no office data"
       ]
      },
      {
       "output_type": "stream",
       "stream": "stdout",
       "text": [
        " 0299988\n",
        "no office data"
       ]
      },
      {
       "output_type": "stream",
       "stream": "stdout",
       "text": [
        " 0327227\n",
        "no office data"
       ]
      },
      {
       "output_type": "stream",
       "stream": "stdout",
       "text": [
        " 0342771\n",
        "no office data"
       ]
      },
      {
       "output_type": "stream",
       "stream": "stdout",
       "text": [
        " 0257497\n",
        "no office data"
       ]
      },
      {
       "output_type": "stream",
       "stream": "stdout",
       "text": [
        " 0257497\n",
        "no office data"
       ]
      },
      {
       "output_type": "stream",
       "stream": "stdout",
       "text": [
        " 0306011\n",
        "no office data"
       ]
      },
      {
       "output_type": "stream",
       "stream": "stdout",
       "text": [
        " 0376568\n",
        "no office data"
       ]
      },
      {
       "output_type": "stream",
       "stream": "stdout",
       "text": [
        " 0389128\n",
        "no office data"
       ]
      },
      {
       "output_type": "stream",
       "stream": "stdout",
       "text": [
        " 0375702\n",
        "no office data"
       ]
      },
      {
       "output_type": "stream",
       "stream": "stdout",
       "text": [
        " 0367174\n",
        "no office data"
       ]
      },
      {
       "output_type": "stream",
       "stream": "stdout",
       "text": [
        " 0378879\n",
        "no office data"
       ]
      },
      {
       "output_type": "stream",
       "stream": "stdout",
       "text": [
        " 0415710\n",
        "no office data"
       ]
      },
      {
       "output_type": "stream",
       "stream": "stdout",
       "text": [
        " 0386041\n",
        "no office data"
       ]
      },
      {
       "output_type": "stream",
       "stream": "stdout",
       "text": [
        " 0368920\n",
        "no office data"
       ]
      },
      {
       "output_type": "stream",
       "stream": "stdout",
       "text": [
        " 0367960\n",
        "no office data"
       ]
      },
      {
       "output_type": "stream",
       "stream": "stdout",
       "text": [
        " 0385243\n",
        "no office data"
       ]
      },
      {
       "output_type": "stream",
       "stream": "stdout",
       "text": [
        " 0339827\n",
        "no office data"
       ]
      },
      {
       "output_type": "stream",
       "stream": "stdout",
       "text": [
        " 0820979\n",
        "no office data"
       ]
      },
      {
       "output_type": "stream",
       "stream": "stdout",
       "text": [
        " 0336910\n",
        "no office data"
       ]
      },
      {
       "output_type": "stream",
       "stream": "stdout",
       "text": [
        " 0379419\n",
        "Finished:"
       ]
      },
      {
       "output_type": "stream",
       "stream": "stdout",
       "text": [
        " 4100 ----------------------\n",
        "no office data"
       ]
      },
      {
       "output_type": "stream",
       "stream": "stdout",
       "text": [
        " 0322023\n",
        "no office data"
       ]
      },
      {
       "output_type": "stream",
       "stream": "stdout",
       "text": [
        " 0382677\n",
        "no office data"
       ]
      },
      {
       "output_type": "stream",
       "stream": "stdout",
       "text": [
        " 0346578\n",
        "no office data"
       ]
      },
      {
       "output_type": "stream",
       "stream": "stdout",
       "text": [
        " 0368647\n",
        "no office data"
       ]
      },
      {
       "output_type": "stream",
       "stream": "stdout",
       "text": [
        " 0375731\n",
        "no office data"
       ]
      },
      {
       "output_type": "stream",
       "stream": "stdout",
       "text": [
        " 0368045\n",
        "no office data"
       ]
      },
      {
       "output_type": "stream",
       "stream": "stdout",
       "text": [
        " 0388884\n",
        "no office data"
       ]
      },
      {
       "output_type": "stream",
       "stream": "stdout",
       "text": [
        " 0462069\n",
        "no office data"
       ]
      },
      {
       "output_type": "stream",
       "stream": "stdout",
       "text": [
        " 0383448\n",
        "no office data"
       ]
      },
      {
       "output_type": "stream",
       "stream": "stdout",
       "text": [
        " 0312358\n",
        "no office data"
       ]
      },
      {
       "output_type": "stream",
       "stream": "stdout",
       "text": [
        " 0339832\n",
        "no office data"
       ]
      },
      {
       "output_type": "stream",
       "stream": "stdout",
       "text": [
        " 0329502\n",
        "no office data"
       ]
      },
      {
       "output_type": "stream",
       "stream": "stdout",
       "text": [
        " 0382321\n",
        "no office data"
       ]
      },
      {
       "output_type": "stream",
       "stream": "stdout",
       "text": [
        " 0397612\n",
        "no office data"
       ]
      },
      {
       "output_type": "stream",
       "stream": "stdout",
       "text": [
        " 0395524\n",
        "no office data"
       ]
      },
      {
       "output_type": "stream",
       "stream": "stdout",
       "text": [
        " 0383995\n",
        "no office data"
       ]
      },
      {
       "output_type": "stream",
       "stream": "stdout",
       "text": [
        " 0398563\n",
        "no office data"
       ]
      },
      {
       "output_type": "stream",
       "stream": "stdout",
       "text": [
        " 0385940\n",
        "no office data"
       ]
      },
      {
       "output_type": "stream",
       "stream": "stdout",
       "text": [
        " 0400771\n",
        "no office data"
       ]
      },
      {
       "output_type": "stream",
       "stream": "stdout",
       "text": [
        " 0379053\n",
        "no office data"
       ]
      },
      {
       "output_type": "stream",
       "stream": "stdout",
       "text": [
        " 0425488\n",
        "no office data"
       ]
      },
      {
       "output_type": "stream",
       "stream": "stdout",
       "text": [
        " 0425488\n",
        "no office data"
       ]
      },
      {
       "output_type": "stream",
       "stream": "stdout",
       "text": [
        " 0457660\n",
        "no office data"
       ]
      },
      {
       "output_type": "stream",
       "stream": "stdout",
       "text": [
        " 0389796\n",
        "no office data"
       ]
      },
      {
       "output_type": "stream",
       "stream": "stdout",
       "text": [
        " 0424757\n",
        "no office data"
       ]
      },
      {
       "output_type": "stream",
       "stream": "stdout",
       "text": [
        " 0367584\n",
        "no office data"
       ]
      },
      {
       "output_type": "stream",
       "stream": "stdout",
       "text": [
        " 0287733\n",
        "no office data"
       ]
      },
      {
       "output_type": "stream",
       "stream": "stdout",
       "text": [
        " 0432906\n",
        "no office data"
       ]
      },
      {
       "output_type": "stream",
       "stream": "stdout",
       "text": [
        " 0378306\n",
        "no office data"
       ]
      },
      {
       "output_type": "stream",
       "stream": "stdout",
       "text": [
        " 0352259\n",
        "no office data"
       ]
      },
      {
       "output_type": "stream",
       "stream": "stdout",
       "text": [
        " 0435689\n",
        "no office data"
       ]
      },
      {
       "output_type": "stream",
       "stream": "stdout",
       "text": [
        " 0416881\n",
        "no office data"
       ]
      },
      {
       "output_type": "stream",
       "stream": "stdout",
       "text": [
        " 0404165\n",
        "no office data"
       ]
      },
      {
       "output_type": "stream",
       "stream": "stdout",
       "text": [
        " 0395565\n",
        "no office data"
       ]
      },
      {
       "output_type": "stream",
       "stream": "stdout",
       "text": [
        " 0344766\n",
        "no office data"
       ]
      },
      {
       "output_type": "stream",
       "stream": "stdout",
       "text": [
        " 0330588\n",
        "no office data"
       ]
      },
      {
       "output_type": "stream",
       "stream": "stdout",
       "text": [
        " 0330588\n",
        "no office data"
       ]
      },
      {
       "output_type": "stream",
       "stream": "stdout",
       "text": [
        " 0397477\n",
        "no office data"
       ]
      },
      {
       "output_type": "stream",
       "stream": "stdout",
       "text": [
        " 0396582\n",
        "no office data"
       ]
      },
      {
       "output_type": "stream",
       "stream": "stdout",
       "text": [
        " 0431701\n",
        "no office data"
       ]
      },
      {
       "output_type": "stream",
       "stream": "stdout",
       "text": [
        " 0369664\n",
        "no office data"
       ]
      },
      {
       "output_type": "stream",
       "stream": "stdout",
       "text": [
        " 0462361\n",
        "Finished:"
       ]
      },
      {
       "output_type": "stream",
       "stream": "stdout",
       "text": [
        " 4200 ----------------------\n",
        "no office data"
       ]
      },
      {
       "output_type": "stream",
       "stream": "stdout",
       "text": [
        " 0285156\n",
        "no office data"
       ]
      },
      {
       "output_type": "stream",
       "stream": "stdout",
       "text": [
        " 0368564\n",
        "no office data"
       ]
      },
      {
       "output_type": "stream",
       "stream": "stdout",
       "text": [
        " 0379730\n",
        "no office data"
       ]
      },
      {
       "output_type": "stream",
       "stream": "stdout",
       "text": [
        " 0367164\n",
        "no office data"
       ]
      },
      {
       "output_type": "stream",
       "stream": "stdout",
       "text": [
        " 0378284\n",
        "no office data"
       ]
      },
      {
       "output_type": "stream",
       "stream": "stdout",
       "text": [
        " 0429126\n",
        "no office data"
       ]
      },
      {
       "output_type": "stream",
       "stream": "stdout",
       "text": [
        " 0395443\n",
        "no office data"
       ]
      },
      {
       "output_type": "stream",
       "stream": "stdout",
       "text": [
        " 0397062\n",
        "no office data"
       ]
      },
      {
       "output_type": "stream",
       "stream": "stdout",
       "text": [
        " 0377102\n",
        "no office data"
       ]
      },
      {
       "output_type": "stream",
       "stream": "stdout",
       "text": [
        " 0377102\n",
        "no office data"
       ]
      },
      {
       "output_type": "stream",
       "stream": "stdout",
       "text": [
        " 0430822\n",
        "no office data"
       ]
      },
      {
       "output_type": "stream",
       "stream": "stdout",
       "text": [
        " 0374294\n",
        "no office data"
       ]
      },
      {
       "output_type": "stream",
       "stream": "stdout",
       "text": [
        " 0366555\n",
        "no office data"
       ]
      },
      {
       "output_type": "stream",
       "stream": "stdout",
       "text": [
        " 0388367\n",
        "no office data"
       ]
      },
      {
       "output_type": "stream",
       "stream": "stdout",
       "text": [
        " 0368721\n",
        "no office data"
       ]
      },
      {
       "output_type": "stream",
       "stream": "stdout",
       "text": [
        " 0308281\n",
        "no office data"
       ]
      },
      {
       "output_type": "stream",
       "stream": "stdout",
       "text": [
        " 0397443\n",
        "no office data"
       ]
      },
      {
       "output_type": "stream",
       "stream": "stdout",
       "text": [
        " 1152685\n",
        "no office data"
       ]
      },
      {
       "output_type": "stream",
       "stream": "stdout",
       "text": [
        " 0405821\n",
        "no office data"
       ]
      },
      {
       "output_type": "stream",
       "stream": "stdout",
       "text": [
        " 0360032\n",
        "no office data"
       ]
      },
      {
       "output_type": "stream",
       "stream": "stdout",
       "text": [
        " 0361805\n",
        "no office data"
       ]
      },
      {
       "output_type": "stream",
       "stream": "stdout",
       "text": [
        " 0405832\n",
        "no office data"
       ]
      },
      {
       "output_type": "stream",
       "stream": "stdout",
       "text": [
        " 0408309\n",
        "no office data"
       ]
      },
      {
       "output_type": "stream",
       "stream": "stdout",
       "text": [
        " 0371846\n",
        "no office data"
       ]
      },
      {
       "output_type": "stream",
       "stream": "stdout",
       "text": [
        " 0157191\n",
        "no office data"
       ]
      },
      {
       "output_type": "stream",
       "stream": "stdout",
       "text": [
        " 0356485\n",
        "no office data"
       ]
      },
      {
       "output_type": "stream",
       "stream": "stdout",
       "text": [
        " 0385638\n",
        "no office data"
       ]
      },
      {
       "output_type": "stream",
       "stream": "stdout",
       "text": [
        " 0436706\n",
        "no office data"
       ]
      },
      {
       "output_type": "stream",
       "stream": "stdout",
       "text": [
        " 0380281\n",
        "no office data"
       ]
      },
      {
       "output_type": "stream",
       "stream": "stdout",
       "text": [
        " 0431770\n",
        "no office data"
       ]
      },
      {
       "output_type": "stream",
       "stream": "stdout",
       "text": [
        " 0437934\n",
        "no office data"
       ]
      },
      {
       "output_type": "stream",
       "stream": "stdout",
       "text": [
        " 0437934\n",
        "The Heart Is Deceitful Above All Things"
       ]
      },
      {
       "output_type": "stream",
       "stream": "stdout",
       "text": [
        "\n",
        "no office data"
       ]
      },
      {
       "output_type": "stream",
       "stream": "stdout",
       "text": [
        " 0270882\n",
        "no office data"
       ]
      },
      {
       "output_type": "stream",
       "stream": "stdout",
       "text": [
        " 0344777\n",
        "no office data"
       ]
      },
      {
       "output_type": "stream",
       "stream": "stdout",
       "text": [
        " 0389721\n",
        "no office data"
       ]
      },
      {
       "output_type": "stream",
       "stream": "stdout",
       "text": [
        " 0415348\n",
        "no office data"
       ]
      },
      {
       "output_type": "stream",
       "stream": "stdout",
       "text": [
        " 0337660\n",
        "no office data"
       ]
      },
      {
       "output_type": "stream",
       "stream": "stdout",
       "text": [
        " 0386802\n",
        "no office data"
       ]
      },
      {
       "output_type": "stream",
       "stream": "stdout",
       "text": [
        " 0309510\n",
        "no office data"
       ]
      },
      {
       "output_type": "stream",
       "stream": "stdout",
       "text": [
        " 0448923\n",
        "no office data"
       ]
      },
      {
       "output_type": "stream",
       "stream": "stdout",
       "text": [
        " 0411545\n",
        "Finished:"
       ]
      },
      {
       "output_type": "stream",
       "stream": "stdout",
       "text": [
        " 4300 ----------------------\n",
        "no office data"
       ]
      },
      {
       "output_type": "stream",
       "stream": "stdout",
       "text": [
        " 0457277\n",
        "no office data"
       ]
      },
      {
       "output_type": "stream",
       "stream": "stdout",
       "text": [
        " 0340883\n",
        "no office data"
       ]
      },
      {
       "output_type": "stream",
       "stream": "stdout",
       "text": [
        " 0220371\n",
        "no office data"
       ]
      },
      {
       "output_type": "stream",
       "stream": "stdout",
       "text": [
        " 0409072\n",
        "no office data"
       ]
      },
      {
       "output_type": "stream",
       "stream": "stdout",
       "text": [
        " 0409072\n",
        "no office data"
       ]
      },
      {
       "output_type": "stream",
       "stream": "stdout",
       "text": [
        " 0391311\n",
        "no office data"
       ]
      },
      {
       "output_type": "stream",
       "stream": "stdout",
       "text": [
        " 0391311\n",
        "no office data"
       ]
      },
      {
       "output_type": "stream",
       "stream": "stdout",
       "text": [
        " 0399445\n",
        "no office data"
       ]
      },
      {
       "output_type": "stream",
       "stream": "stdout",
       "text": [
        " 0402758\n",
        "no office data"
       ]
      },
      {
       "output_type": "stream",
       "stream": "stdout",
       "text": [
        " 0419954\n",
        "no office data"
       ]
      },
      {
       "output_type": "stream",
       "stream": "stdout",
       "text": [
        " 0413247\n",
        "no office data"
       ]
      },
      {
       "output_type": "stream",
       "stream": "stdout",
       "text": [
        " 0410520\n",
        "no office data"
       ]
      },
      {
       "output_type": "stream",
       "stream": "stdout",
       "text": [
        " 0425218\n",
        "no office data"
       ]
      },
      {
       "output_type": "stream",
       "stream": "stdout",
       "text": [
        " 0443329\n",
        "no office data"
       ]
      },
      {
       "output_type": "stream",
       "stream": "stdout",
       "text": [
        " 0406713\n",
        "no office data"
       ]
      },
      {
       "output_type": "stream",
       "stream": "stdout",
       "text": [
        " 0408470\n",
        "no office data"
       ]
      },
      {
       "output_type": "stream",
       "stream": "stdout",
       "text": [
        " 0403004\n",
        "no office data"
       ]
      },
      {
       "output_type": "stream",
       "stream": "stdout",
       "text": [
        " 0382097\n",
        "no office data"
       ]
      },
      {
       "output_type": "stream",
       "stream": "stdout",
       "text": [
        " 0331509\n",
        "no office data"
       ]
      },
      {
       "output_type": "stream",
       "stream": "stdout",
       "text": [
        " 0468895\n",
        "no office data"
       ]
      },
      {
       "output_type": "stream",
       "stream": "stdout",
       "text": [
        " 0381980\n",
        "no office data"
       ]
      },
      {
       "output_type": "stream",
       "stream": "stdout",
       "text": [
        " 0422852\n",
        "no office data"
       ]
      },
      {
       "output_type": "stream",
       "stream": "stdout",
       "text": [
        " 0408261\n",
        "no office data"
       ]
      },
      {
       "output_type": "stream",
       "stream": "stdout",
       "text": [
        " 0407945\n",
        "no office data"
       ]
      },
      {
       "output_type": "stream",
       "stream": "stdout",
       "text": [
        " 0360798\n",
        "no office data"
       ]
      },
      {
       "output_type": "stream",
       "stream": "stdout",
       "text": [
        " 0377057\n",
        "no office data"
       ]
      },
      {
       "output_type": "stream",
       "stream": "stdout",
       "text": [
        " 0196811\n",
        "no office data"
       ]
      },
      {
       "output_type": "stream",
       "stream": "stdout",
       "text": [
        " 0421051\n",
        "no office data"
       ]
      },
      {
       "output_type": "stream",
       "stream": "stdout",
       "text": [
        " 0398373\n",
        "Finished:"
       ]
      },
      {
       "output_type": "stream",
       "stream": "stdout",
       "text": [
        " 4400 ----------------------\n",
        "no office data"
       ]
      },
      {
       "output_type": "stream",
       "stream": "stdout",
       "text": [
        " 0369359\n",
        "no office data"
       ]
      },
      {
       "output_type": "stream",
       "stream": "stdout",
       "text": [
        " 0424934\n",
        "no office data"
       ]
      },
      {
       "output_type": "stream",
       "stream": "stdout",
       "text": [
        " 0404029\n",
        "no office data"
       ]
      },
      {
       "output_type": "stream",
       "stream": "stdout",
       "text": [
        " 0337744\n",
        "no office data"
       ]
      },
      {
       "output_type": "stream",
       "stream": "stdout",
       "text": [
        " 0385889\n",
        "no office data"
       ]
      },
      {
       "output_type": "stream",
       "stream": "stdout",
       "text": [
        " 0379632\n",
        "no office data"
       ]
      },
      {
       "output_type": "stream",
       "stream": "stdout",
       "text": [
        " 0411265\n",
        "no office data"
       ]
      },
      {
       "output_type": "stream",
       "stream": "stdout",
       "text": [
        " 0416716\n",
        "no office data"
       ]
      },
      {
       "output_type": "stream",
       "stream": "stdout",
       "text": [
        " 0216731\n",
        "no office data"
       ]
      },
      {
       "output_type": "stream",
       "stream": "stdout",
       "text": [
        " 0381150\n",
        "no office data"
       ]
      },
      {
       "output_type": "stream",
       "stream": "stdout",
       "text": [
        " 0354690\n",
        "no office data"
       ]
      },
      {
       "output_type": "stream",
       "stream": "stdout",
       "text": [
        " 0387460\n",
        "no office data"
       ]
      },
      {
       "output_type": "stream",
       "stream": "stdout",
       "text": [
        " 0466506\n",
        "no office data"
       ]
      },
      {
       "output_type": "stream",
       "stream": "stdout",
       "text": [
        " 0382028\n",
        "no office data"
       ]
      },
      {
       "output_type": "stream",
       "stream": "stdout",
       "text": [
        " 0331370\n",
        "no office data"
       ]
      },
      {
       "output_type": "stream",
       "stream": "stdout",
       "text": [
        " 0375100\n",
        "no office data"
       ]
      },
      {
       "output_type": "stream",
       "stream": "stdout",
       "text": [
        " 0436979\n",
        "no office data"
       ]
      },
      {
       "output_type": "stream",
       "stream": "stdout",
       "text": [
        " 0402093\n",
        "no office data"
       ]
      },
      {
       "output_type": "stream",
       "stream": "stdout",
       "text": [
        " 0420075\n",
        "no office data"
       ]
      },
      {
       "output_type": "stream",
       "stream": "stdout",
       "text": [
        " 0495165\n",
        "no office data"
       ]
      },
      {
       "output_type": "stream",
       "stream": "stdout",
       "text": [
        " 0485755\n",
        "no office data"
       ]
      },
      {
       "output_type": "stream",
       "stream": "stdout",
       "text": [
        " 0381442\n",
        "no office data"
       ]
      },
      {
       "output_type": "stream",
       "stream": "stdout",
       "text": [
        " 0430397\n",
        "no office data"
       ]
      },
      {
       "output_type": "stream",
       "stream": "stdout",
       "text": [
        " 0321626\n",
        "no office data"
       ]
      },
      {
       "output_type": "stream",
       "stream": "stdout",
       "text": [
        " 0791264\n",
        "no office data"
       ]
      },
      {
       "output_type": "stream",
       "stream": "stdout",
       "text": [
        " 0439219\n",
        "no office data"
       ]
      },
      {
       "output_type": "stream",
       "stream": "stdout",
       "text": [
        " 0381292\n",
        "no office data"
       ]
      },
      {
       "output_type": "stream",
       "stream": "stdout",
       "text": [
        " 0421603\n",
        "no office data"
       ]
      },
      {
       "output_type": "stream",
       "stream": "stdout",
       "text": [
        " 0434762\n",
        "no office data"
       ]
      },
      {
       "output_type": "stream",
       "stream": "stdout",
       "text": [
        " 0328034\n",
        "no office data"
       ]
      },
      {
       "output_type": "stream",
       "stream": "stdout",
       "text": [
        " 0439750\n",
        "no office data"
       ]
      },
      {
       "output_type": "stream",
       "stream": "stdout",
       "text": [
        " 0416206\n",
        "no office data"
       ]
      },
      {
       "output_type": "stream",
       "stream": "stdout",
       "text": [
        " 0440445\n",
        "no office data"
       ]
      },
      {
       "output_type": "stream",
       "stream": "stdout",
       "text": [
        " 0390250\n",
        "no office data"
       ]
      },
      {
       "output_type": "stream",
       "stream": "stdout",
       "text": [
        " 0925235\n",
        "no office data"
       ]
      },
      {
       "output_type": "stream",
       "stream": "stdout",
       "text": [
        " 0349155\n",
        "no office data"
       ]
      },
      {
       "output_type": "stream",
       "stream": "stdout",
       "text": [
        " 0415481\n",
        "no office data"
       ]
      },
      {
       "output_type": "stream",
       "stream": "stdout",
       "text": [
        " 0447853\n",
        "no office data"
       ]
      },
      {
       "output_type": "stream",
       "stream": "stdout",
       "text": [
        " 0451060\n",
        "no office data"
       ]
      },
      {
       "output_type": "stream",
       "stream": "stdout",
       "text": [
        " 0407536\n",
        "no office data"
       ]
      },
      {
       "output_type": "stream",
       "stream": "stdout",
       "text": [
        " 0410639\n",
        "no office data"
       ]
      },
      {
       "output_type": "stream",
       "stream": "stdout",
       "text": [
        " 0419641\n",
        "Finished:"
       ]
      },
      {
       "output_type": "stream",
       "stream": "stdout",
       "text": [
        " 4500 ----------------------\n",
        "no office data"
       ]
      },
      {
       "output_type": "stream",
       "stream": "stdout",
       "text": [
        " 0396184\n",
        "no office data"
       ]
      },
      {
       "output_type": "stream",
       "stream": "stdout",
       "text": [
        " 0364457\n",
        "no office data"
       ]
      },
      {
       "output_type": "stream",
       "stream": "stdout",
       "text": [
        " 0458485\n",
        "no office data"
       ]
      },
      {
       "output_type": "stream",
       "stream": "stdout",
       "text": [
        " 0440972\n",
        "no office data"
       ]
      },
      {
       "output_type": "stream",
       "stream": "stdout",
       "text": [
        " 0366860\n",
        "no office data"
       ]
      },
      {
       "output_type": "stream",
       "stream": "stdout",
       "text": [
        " 0388973\n",
        "no office data"
       ]
      },
      {
       "output_type": "stream",
       "stream": "stdout",
       "text": [
        " 0962781\n",
        "no office data"
       ]
      },
      {
       "output_type": "stream",
       "stream": "stdout",
       "text": [
        " 0406661\n",
        "no office data"
       ]
      },
      {
       "output_type": "stream",
       "stream": "stdout",
       "text": [
        " 0435721\n",
        "no office data"
       ]
      },
      {
       "output_type": "stream",
       "stream": "stdout",
       "text": [
        " 0420260\n",
        "no office data"
       ]
      },
      {
       "output_type": "stream",
       "stream": "stdout",
       "text": [
        " 0442903\n",
        "no office data"
       ]
      },
      {
       "output_type": "stream",
       "stream": "stdout",
       "text": [
        " 0398378\n",
        "no office data"
       ]
      },
      {
       "output_type": "stream",
       "stream": "stdout",
       "text": [
        " 0469146\n",
        "no office data"
       ]
      },
      {
       "output_type": "stream",
       "stream": "stdout",
       "text": [
        " 0469146\n",
        "no office data"
       ]
      },
      {
       "output_type": "stream",
       "stream": "stdout",
       "text": [
        " 0118141\n",
        "no office data"
       ]
      },
      {
       "output_type": "stream",
       "stream": "stdout",
       "text": [
        " 0430766\n",
        "no office data"
       ]
      },
      {
       "output_type": "stream",
       "stream": "stdout",
       "text": [
        " 0448621\n",
        "no office data"
       ]
      },
      {
       "output_type": "stream",
       "stream": "stdout",
       "text": [
        " 0473007\n",
        "no office data"
       ]
      },
      {
       "output_type": "stream",
       "stream": "stdout",
       "text": [
        " 0376874\n",
        "no office data"
       ]
      },
      {
       "output_type": "stream",
       "stream": "stdout",
       "text": [
        " 0455663\n",
        "no office data"
       ]
      },
      {
       "output_type": "stream",
       "stream": "stdout",
       "text": [
        " 0441511\n",
        "no office data"
       ]
      },
      {
       "output_type": "stream",
       "stream": "stdout",
       "text": [
        " 0446774\n",
        "no office data"
       ]
      },
      {
       "output_type": "stream",
       "stream": "stdout",
       "text": [
        " 0436457\n",
        "no office data"
       ]
      },
      {
       "output_type": "stream",
       "stream": "stdout",
       "text": [
        " 0436941\n",
        "no office data"
       ]
      },
      {
       "output_type": "stream",
       "stream": "stdout",
       "text": [
        " 0450455\n",
        "no office data"
       ]
      },
      {
       "output_type": "stream",
       "stream": "stdout",
       "text": [
        " 0448678\n",
        "no office data"
       ]
      },
      {
       "output_type": "stream",
       "stream": "stdout",
       "text": [
        " 0880445\n",
        "no office data"
       ]
      },
      {
       "output_type": "stream",
       "stream": "stdout",
       "text": [
        " 0423515\n",
        "no office data"
       ]
      },
      {
       "output_type": "stream",
       "stream": "stdout",
       "text": [
        " 0433771\n",
        "no office data"
       ]
      },
      {
       "output_type": "stream",
       "stream": "stdout",
       "text": [
        " 0340331\n",
        "no office data"
       ]
      },
      {
       "output_type": "stream",
       "stream": "stdout",
       "text": [
        " 0460898\n",
        "no office data"
       ]
      },
      {
       "output_type": "stream",
       "stream": "stdout",
       "text": [
        " 0438531\n",
        "no office data"
       ]
      },
      {
       "output_type": "stream",
       "stream": "stdout",
       "text": [
        " 0410445\n",
        "no office data"
       ]
      },
      {
       "output_type": "stream",
       "stream": "stdout",
       "text": [
        " 0407936\n",
        "no office data"
       ]
      },
      {
       "output_type": "stream",
       "stream": "stdout",
       "text": [
        " 0426331\n",
        "no office data"
       ]
      },
      {
       "output_type": "stream",
       "stream": "stdout",
       "text": [
        " 0455951\n",
        "no office data"
       ]
      },
      {
       "output_type": "stream",
       "stream": "stdout",
       "text": [
        " 0493393\n",
        "no office data"
       ]
      },
      {
       "output_type": "stream",
       "stream": "stdout",
       "text": [
        " 0444518\n",
        "no office data"
       ]
      },
      {
       "output_type": "stream",
       "stream": "stdout",
       "text": [
        " 0417096\n",
        "no office data"
       ]
      },
      {
       "output_type": "stream",
       "stream": "stdout",
       "text": [
        " 0457007\n",
        "no office data"
       ]
      },
      {
       "output_type": "stream",
       "stream": "stdout",
       "text": [
        " 0415407\n",
        "no office data"
       ]
      },
      {
       "output_type": "stream",
       "stream": "stdout",
       "text": [
        " 0438060\n",
        "no office data"
       ]
      },
      {
       "output_type": "stream",
       "stream": "stdout",
       "text": [
        " 0435719\n",
        "no office data"
       ]
      },
      {
       "output_type": "stream",
       "stream": "stdout",
       "text": [
        " 0775425\n",
        "no office data"
       ]
      },
      {
       "output_type": "stream",
       "stream": "stdout",
       "text": [
        " 0402249\n",
        "no office data"
       ]
      },
      {
       "output_type": "stream",
       "stream": "stdout",
       "text": [
        " 0387549\n",
        "no office data"
       ]
      },
      {
       "output_type": "stream",
       "stream": "stdout",
       "text": [
        " 0423877\n",
        "no office data"
       ]
      },
      {
       "output_type": "stream",
       "stream": "stdout",
       "text": [
        " 0406265\n",
        "no office data"
       ]
      },
      {
       "output_type": "stream",
       "stream": "stdout",
       "text": [
        " 0423514\n",
        "no office data"
       ]
      },
      {
       "output_type": "stream",
       "stream": "stdout",
       "text": [
        " 0426396\n",
        "no office data"
       ]
      },
      {
       "output_type": "stream",
       "stream": "stdout",
       "text": [
        " 0426577\n",
        "Finished:"
       ]
      },
      {
       "output_type": "stream",
       "stream": "stdout",
       "text": [
        " 4600 ----------------------\n",
        "no office data"
       ]
      },
      {
       "output_type": "stream",
       "stream": "stdout",
       "text": [
        " 0452639\n",
        "no office data"
       ]
      },
      {
       "output_type": "stream",
       "stream": "stdout",
       "text": [
        " 0416333\n",
        "no office data"
       ]
      },
      {
       "output_type": "stream",
       "stream": "stdout",
       "text": [
        " 0419372\n",
        "no office data"
       ]
      },
      {
       "output_type": "stream",
       "stream": "stdout",
       "text": [
        " 0391493\n",
        "no office data"
       ]
      },
      {
       "output_type": "stream",
       "stream": "stdout",
       "text": [
        " 0468975\n",
        "no office data"
       ]
      },
      {
       "output_type": "stream",
       "stream": "stdout",
       "text": [
        " 0468975\n",
        "no office data"
       ]
      },
      {
       "output_type": "stream",
       "stream": "stdout",
       "text": [
        " 0445570\n",
        "no office data"
       ]
      },
      {
       "output_type": "stream",
       "stream": "stdout",
       "text": [
        " 0421625\n",
        "no office data"
       ]
      },
      {
       "output_type": "stream",
       "stream": "stdout",
       "text": [
        " 1133936\n",
        "no office data"
       ]
      },
      {
       "output_type": "stream",
       "stream": "stdout",
       "text": [
        " 0452582\n",
        "no office data"
       ]
      },
      {
       "output_type": "stream",
       "stream": "stdout",
       "text": [
        " 0473475\n",
        "no office data"
       ]
      },
      {
       "output_type": "stream",
       "stream": "stdout",
       "text": [
        " 0454953\n",
        "no office data"
       ]
      },
      {
       "output_type": "stream",
       "stream": "stdout",
       "text": [
        " 0453188\n",
        "no office data"
       ]
      },
      {
       "output_type": "stream",
       "stream": "stdout",
       "text": [
        " 0371902\n",
        "no office data"
       ]
      },
      {
       "output_type": "stream",
       "stream": "stdout",
       "text": [
        " 0416333\n",
        "no office data"
       ]
      },
      {
       "output_type": "stream",
       "stream": "stdout",
       "text": [
        " 0457379\n",
        "no office data"
       ]
      },
      {
       "output_type": "stream",
       "stream": "stdout",
       "text": [
        " 0433411\n",
        "no office data"
       ]
      },
      {
       "output_type": "stream",
       "stream": "stdout",
       "text": [
        " 0469203\n",
        "no office data"
       ]
      },
      {
       "output_type": "stream",
       "stream": "stdout",
       "text": [
        " 0469203\n",
        "no office data"
       ]
      },
      {
       "output_type": "stream",
       "stream": "stdout",
       "text": [
        " 0407297\n",
        "no office data"
       ]
      },
      {
       "output_type": "stream",
       "stream": "stdout",
       "text": [
        " 0454846\n",
        "no office data"
       ]
      },
      {
       "output_type": "stream",
       "stream": "stdout",
       "text": [
        " 0480029\n",
        "no office data"
       ]
      },
      {
       "output_type": "stream",
       "stream": "stdout",
       "text": [
        " 0458228\n",
        "no office data"
       ]
      },
      {
       "output_type": "stream",
       "stream": "stdout",
       "text": [
        " 0422778\n",
        "no office data"
       ]
      },
      {
       "output_type": "stream",
       "stream": "stdout",
       "text": [
        " 0455507\n",
        "no office data"
       ]
      },
      {
       "output_type": "stream",
       "stream": "stdout",
       "text": [
        " 0466669\n",
        "no office data"
       ]
      },
      {
       "output_type": "stream",
       "stream": "stdout",
       "text": [
        " 0456836\n",
        "no office data"
       ]
      },
      {
       "output_type": "stream",
       "stream": "stdout",
       "text": [
        " 0488032\n",
        "no office data"
       ]
      },
      {
       "output_type": "stream",
       "stream": "stdout",
       "text": [
        " 0421108\n",
        "no office data"
       ]
      },
      {
       "output_type": "stream",
       "stream": "stdout",
       "text": [
        " 0466793\n",
        "no office data"
       ]
      },
      {
       "output_type": "stream",
       "stream": "stdout",
       "text": [
        " 0463949\n",
        "no office data"
       ]
      },
      {
       "output_type": "stream",
       "stream": "stdout",
       "text": [
        " 0412541\n",
        "no office data"
       ]
      },
      {
       "output_type": "stream",
       "stream": "stdout",
       "text": [
        " 0471367\n",
        "no office data"
       ]
      },
      {
       "output_type": "stream",
       "stream": "stdout",
       "text": [
        " 0377057\n",
        "no office data"
       ]
      },
      {
       "output_type": "stream",
       "stream": "stdout",
       "text": [
        " 0453396\n",
        "no office data"
       ]
      },
      {
       "output_type": "stream",
       "stream": "stdout",
       "text": [
        " 0496310\n",
        "no office data"
       ]
      },
      {
       "output_type": "stream",
       "stream": "stdout",
       "text": [
        " 0453465\n",
        "no office data"
       ]
      },
      {
       "output_type": "stream",
       "stream": "stdout",
       "text": [
        " 0461788\n",
        "no office data"
       ]
      },
      {
       "output_type": "stream",
       "stream": "stdout",
       "text": [
        " 0464762\n",
        "no office data"
       ]
      },
      {
       "output_type": "stream",
       "stream": "stdout",
       "text": [
        " 0456658\n",
        "no office data"
       ]
      },
      {
       "output_type": "stream",
       "stream": "stdout",
       "text": [
        " 0464651\n",
        "no office data"
       ]
      },
      {
       "output_type": "stream",
       "stream": "stdout",
       "text": [
        " 0400270\n",
        "no office data"
       ]
      },
      {
       "output_type": "stream",
       "stream": "stdout",
       "text": [
        " 0485323\n",
        "no office data"
       ]
      },
      {
       "output_type": "stream",
       "stream": "stdout",
       "text": [
        " 0398638\n",
        "no office data"
       ]
      },
      {
       "output_type": "stream",
       "stream": "stdout",
       "text": [
        " 0479506\n",
        "no office data"
       ]
      },
      {
       "output_type": "stream",
       "stream": "stdout",
       "text": [
        " 0432354\n",
        "Finished:"
       ]
      },
      {
       "output_type": "stream",
       "stream": "stdout",
       "text": [
        " 4700 ----------------------\n",
        "no office data"
       ]
      },
      {
       "output_type": "stream",
       "stream": "stdout",
       "text": [
        " 0449588\n",
        "no office data"
       ]
      },
      {
       "output_type": "stream",
       "stream": "stdout",
       "text": [
        " 0339743\n",
        "no office data"
       ]
      },
      {
       "output_type": "stream",
       "stream": "stdout",
       "text": [
        " 0469986\n",
        "no office data"
       ]
      },
      {
       "output_type": "stream",
       "stream": "stdout",
       "text": [
        " 0419816\n",
        "no office data"
       ]
      },
      {
       "output_type": "stream",
       "stream": "stdout",
       "text": [
        " 0452611\n",
        "no office data"
       ]
      },
      {
       "output_type": "stream",
       "stream": "stdout",
       "text": [
        " 0443530\n",
        "no office data"
       ]
      },
      {
       "output_type": "stream",
       "stream": "stdout",
       "text": [
        " 0475783\n",
        "no office data"
       ]
      },
      {
       "output_type": "stream",
       "stream": "stdout",
       "text": [
        " 0443526\n",
        "no office data"
       ]
      },
      {
       "output_type": "stream",
       "stream": "stdout",
       "text": [
        " 0419295\n",
        "no office data"
       ]
      },
      {
       "output_type": "stream",
       "stream": "stdout",
       "text": [
        " 0417395\n",
        "no office data"
       ]
      },
      {
       "output_type": "stream",
       "stream": "stdout",
       "text": [
        " 0435100\n",
        "no office data"
       ]
      },
      {
       "output_type": "stream",
       "stream": "stdout",
       "text": [
        " 0379708\n",
        "no office data"
       ]
      },
      {
       "output_type": "stream",
       "stream": "stdout",
       "text": [
        " 0448090\n",
        "no office data"
       ]
      },
      {
       "output_type": "stream",
       "stream": "stdout",
       "text": [
        " 0448090\n",
        "no office data"
       ]
      },
      {
       "output_type": "stream",
       "stream": "stdout",
       "text": [
        " 0451769\n",
        "no office data"
       ]
      },
      {
       "output_type": "stream",
       "stream": "stdout",
       "text": [
        " 0450269\n",
        "no office data"
       ]
      },
      {
       "output_type": "stream",
       "stream": "stdout",
       "text": [
        " 0448143\n",
        "no office data"
       ]
      },
      {
       "output_type": "stream",
       "stream": "stdout",
       "text": [
        " 0478811\n",
        "no office data"
       ]
      },
      {
       "output_type": "stream",
       "stream": "stdout",
       "text": [
        " 0472278\n",
        "no office data"
       ]
      },
      {
       "output_type": "stream",
       "stream": "stdout",
       "text": [
        " 0373762\n",
        "no office data"
       ]
      },
      {
       "output_type": "stream",
       "stream": "stdout",
       "text": [
        " 0222608\n",
        "no office data"
       ]
      },
      {
       "output_type": "stream",
       "stream": "stdout",
       "text": [
        " 0453365\n",
        "no office data"
       ]
      },
      {
       "output_type": "stream",
       "stream": "stdout",
       "text": [
        " 0429482\n",
        "no office data"
       ]
      },
      {
       "output_type": "stream",
       "stream": "stdout",
       "text": [
        " 0418004\n",
        "no office data"
       ]
      },
      {
       "output_type": "stream",
       "stream": "stdout",
       "text": [
        " 0460887\n",
        "no office data"
       ]
      },
      {
       "output_type": "stream",
       "stream": "stdout",
       "text": [
        " 0448965\n",
        "no office data"
       ]
      },
      {
       "output_type": "stream",
       "stream": "stdout",
       "text": [
        " 0459929\n",
        "no office data"
       ]
      },
      {
       "output_type": "stream",
       "stream": "stdout",
       "text": [
        " 0472254\n",
        "no office data"
       ]
      },
      {
       "output_type": "stream",
       "stream": "stdout",
       "text": [
        " 0489134\n",
        "no office data"
       ]
      },
      {
       "output_type": "stream",
       "stream": "stdout",
       "text": [
        " 0457437\n",
        "no office data"
       ]
      },
      {
       "output_type": "stream",
       "stream": "stdout",
       "text": [
        " 0431045\n",
        "no office data"
       ]
      },
      {
       "output_type": "stream",
       "stream": "stdout",
       "text": [
        " 0475271\n",
        "no office data"
       ]
      },
      {
       "output_type": "stream",
       "stream": "stdout",
       "text": [
        " 0097224\n",
        "Finished:"
       ]
      },
      {
       "output_type": "stream",
       "stream": "stdout",
       "text": [
        " 4800 ----------------------\n",
        "no office data"
       ]
      },
      {
       "output_type": "stream",
       "stream": "stdout",
       "text": [
        " 0344766\n",
        "no office data"
       ]
      },
      {
       "output_type": "stream",
       "stream": "stdout",
       "text": [
        " 0425465\n",
        "no office data"
       ]
      },
      {
       "output_type": "stream",
       "stream": "stdout",
       "text": [
        " 0435665\n",
        "no office data"
       ]
      },
      {
       "output_type": "stream",
       "stream": "stdout",
       "text": [
        " 0451829\n",
        "no office data"
       ]
      },
      {
       "output_type": "stream",
       "stream": "stdout",
       "text": [
        " 0829250\n",
        "no office data"
       ]
      },
      {
       "output_type": "stream",
       "stream": "stdout",
       "text": [
        " 0456117\n",
        "no office data"
       ]
      },
      {
       "output_type": "stream",
       "stream": "stdout",
       "text": [
        " 0472602\n",
        "no office data"
       ]
      },
      {
       "output_type": "stream",
       "stream": "stdout",
       "text": [
        " 0435358\n",
        "no office data"
       ]
      },
      {
       "output_type": "stream",
       "stream": "stdout",
       "text": [
        " 0488174\n",
        "no office data"
       ]
      },
      {
       "output_type": "stream",
       "stream": "stdout",
       "text": [
        " 0487907\n",
        "no office data"
       ]
      },
      {
       "output_type": "stream",
       "stream": "stdout",
       "text": [
        " 0493175\n",
        "no office data"
       ]
      },
      {
       "output_type": "stream",
       "stream": "stdout",
       "text": [
        " 0465537\n",
        "no office data"
       ]
      },
      {
       "output_type": "stream",
       "stream": "stdout",
       "text": [
        " 0488338\n",
        "no office data"
       ]
      },
      {
       "output_type": "stream",
       "stream": "stdout",
       "text": [
        " 0488870\n",
        "no office data"
       ]
      },
      {
       "output_type": "stream",
       "stream": "stdout",
       "text": [
        " 0478331\n",
        "no office data"
       ]
      },
      {
       "output_type": "stream",
       "stream": "stdout",
       "text": [
        " 0476735\n",
        "no office data"
       ]
      },
      {
       "output_type": "stream",
       "stream": "stdout",
       "text": [
        " 0499274\n",
        "no office data"
       ]
      },
      {
       "output_type": "stream",
       "stream": "stdout",
       "text": [
        " 0443512\n",
        "no office data"
       ]
      },
      {
       "output_type": "stream",
       "stream": "stdout",
       "text": [
        " 0477065\n",
        "no office data"
       ]
      },
      {
       "output_type": "stream",
       "stream": "stdout",
       "text": [
        " 0795376\n",
        "no office data"
       ]
      },
      {
       "output_type": "stream",
       "stream": "stdout",
       "text": [
        " 0765475\n",
        "no office data"
       ]
      },
      {
       "output_type": "stream",
       "stream": "stdout",
       "text": [
        " 0991232\n",
        "no office data"
       ]
      },
      {
       "output_type": "stream",
       "stream": "stdout",
       "text": [
        " 0339526\n",
        "no office data"
       ]
      },
      {
       "output_type": "stream",
       "stream": "stdout",
       "text": [
        " 0416688\n",
        "no office data"
       ]
      },
      {
       "output_type": "stream",
       "stream": "stdout",
       "text": [
        " 0800334\n",
        "no office data"
       ]
      },
      {
       "output_type": "stream",
       "stream": "stdout",
       "text": [
        " 0491223\n",
        "no office data"
       ]
      },
      {
       "output_type": "stream",
       "stream": "stdout",
       "text": [
        " 0845424\n",
        "no office data"
       ]
      },
      {
       "output_type": "stream",
       "stream": "stdout",
       "text": [
        " 0493322\n",
        "no office data"
       ]
      },
      {
       "output_type": "stream",
       "stream": "stdout",
       "text": [
        " 0757353\n",
        "no office data"
       ]
      },
      {
       "output_type": "stream",
       "stream": "stdout",
       "text": [
        " 0816605\n",
        "no office data"
       ]
      },
      {
       "output_type": "stream",
       "stream": "stdout",
       "text": [
        " 0498360\n",
        "Finished:"
       ]
      },
      {
       "output_type": "stream",
       "stream": "stdout",
       "text": [
        " 4900 ----------------------\n",
        "no office data"
       ]
      },
      {
       "output_type": "stream",
       "stream": "stdout",
       "text": [
        " 0451284\n",
        "no office data"
       ]
      },
      {
       "output_type": "stream",
       "stream": "stdout",
       "text": [
        " 0800157\n",
        "no office data"
       ]
      },
      {
       "output_type": "stream",
       "stream": "stdout",
       "text": [
        " 0492443\n",
        "no office data"
       ]
      },
      {
       "output_type": "stream",
       "stream": "stdout",
       "text": [
        " 0498319\n",
        "no office data"
       ]
      },
      {
       "output_type": "stream",
       "stream": "stdout",
       "text": [
        " 0493247\n",
        "no office data"
       ]
      },
      {
       "output_type": "stream",
       "stream": "stdout",
       "text": [
        " 0493247\n",
        "no office data"
       ]
      },
      {
       "output_type": "stream",
       "stream": "stdout",
       "text": [
        " 0430674\n",
        "no office data"
       ]
      },
      {
       "output_type": "stream",
       "stream": "stdout",
       "text": [
        " 0810900\n",
        "no office data"
       ]
      },
      {
       "output_type": "stream",
       "stream": "stdout",
       "text": [
        " 0976132\n",
        "no office data"
       ]
      },
      {
       "output_type": "stream",
       "stream": "stdout",
       "text": [
        " 0492469\n",
        "no office data"
       ]
      },
      {
       "output_type": "stream",
       "stream": "stdout",
       "text": [
        " 0492469\n",
        "no office data"
       ]
      },
      {
       "output_type": "stream",
       "stream": "stdout",
       "text": [
        " 0496693\n",
        "no office data"
       ]
      },
      {
       "output_type": "stream",
       "stream": "stdout",
       "text": [
        " 0472230\n",
        "no office data"
       ]
      },
      {
       "output_type": "stream",
       "stream": "stdout",
       "text": [
        " 0757931\n",
        "no office data"
       ]
      },
      {
       "output_type": "stream",
       "stream": "stdout",
       "text": [
        " 0498480\n",
        "no office data"
       ]
      },
      {
       "output_type": "stream",
       "stream": "stdout",
       "text": [
        " 0458349\n",
        "no office data"
       ]
      },
      {
       "output_type": "stream",
       "stream": "stdout",
       "text": [
        " 0903226\n",
        "no office data"
       ]
      },
      {
       "output_type": "stream",
       "stream": "stdout",
       "text": [
        " 0472099\n",
        "no office data"
       ]
      },
      {
       "output_type": "stream",
       "stream": "stdout",
       "text": [
        " 0325011\n",
        "no office data"
       ]
      },
      {
       "output_type": "stream",
       "stream": "stdout",
       "text": [
        " 0499518\n",
        "no office data"
       ]
      },
      {
       "output_type": "stream",
       "stream": "stdout",
       "text": [
        " 0478832\n",
        "no office data"
       ]
      },
      {
       "output_type": "stream",
       "stream": "stdout",
       "text": [
        " 0448076\n",
        "no office data"
       ]
      },
      {
       "output_type": "stream",
       "stream": "stdout",
       "text": [
        " 0460557\n",
        "no office data"
       ]
      },
      {
       "output_type": "stream",
       "stream": "stdout",
       "text": [
        " 0768137\n",
        "no office data"
       ]
      },
      {
       "output_type": "stream",
       "stream": "stdout",
       "text": [
        " 0491356\n",
        "no office data"
       ]
      },
      {
       "output_type": "stream",
       "stream": "stdout",
       "text": [
        " 0499157\n",
        "no office data"
       ]
      },
      {
       "output_type": "stream",
       "stream": "stdout",
       "text": [
        " 0499157\n",
        "no office data"
       ]
      },
      {
       "output_type": "stream",
       "stream": "stdout",
       "text": [
        " 0849483\n",
        "no office data"
       ]
      },
      {
       "output_type": "stream",
       "stream": "stdout",
       "text": [
        " 0288896\n",
        "no office data"
       ]
      },
      {
       "output_type": "stream",
       "stream": "stdout",
       "text": [
        " 0470154\n",
        "no office data"
       ]
      },
      {
       "output_type": "stream",
       "stream": "stdout",
       "text": [
        " 0478073\n",
        "no office data"
       ]
      },
      {
       "output_type": "stream",
       "stream": "stdout",
       "text": [
        " 0452675\n",
        "no office data"
       ]
      },
      {
       "output_type": "stream",
       "stream": "stdout",
       "text": [
        " 0775425\n",
        "no office data"
       ]
      },
      {
       "output_type": "stream",
       "stream": "stdout",
       "text": [
        " 0479914\n",
        "no office data"
       ]
      },
      {
       "output_type": "stream",
       "stream": "stdout",
       "text": [
        " 0478366\n",
        "no office data"
       ]
      },
      {
       "output_type": "stream",
       "stream": "stdout",
       "text": [
        " 0425295\n",
        "no office data"
       ]
      },
      {
       "output_type": "stream",
       "stream": "stdout",
       "text": [
        " 0462392\n",
        "no office data"
       ]
      },
      {
       "output_type": "stream",
       "stream": "stdout",
       "text": [
        " 0478732\n",
        "no office data"
       ]
      },
      {
       "output_type": "stream",
       "stream": "stdout",
       "text": [
        " 0478732\n",
        "no office data"
       ]
      },
      {
       "output_type": "stream",
       "stream": "stdout",
       "text": [
        " 0452703\n",
        "no office data"
       ]
      },
      {
       "output_type": "stream",
       "stream": "stdout",
       "text": [
        " 0778159\n",
        "no office data"
       ]
      },
      {
       "output_type": "stream",
       "stream": "stdout",
       "text": [
        " 0391488\n",
        "no office data"
       ]
      },
      {
       "output_type": "stream",
       "stream": "stdout",
       "text": [
        " 0472118\n",
        "no office data"
       ]
      },
      {
       "output_type": "stream",
       "stream": "stdout",
       "text": [
        " 0481390\n",
        "no office data"
       ]
      },
      {
       "output_type": "stream",
       "stream": "stdout",
       "text": [
        " 0800095\n",
        "Finished:"
       ]
      },
      {
       "output_type": "stream",
       "stream": "stdout",
       "text": [
        " 5000 ----------------------\n",
        "no office data"
       ]
      },
      {
       "output_type": "stream",
       "stream": "stdout",
       "text": [
        " 0486628\n",
        "no office data"
       ]
      },
      {
       "output_type": "stream",
       "stream": "stdout",
       "text": [
        " 0694918\n",
        "no office data"
       ]
      },
      {
       "output_type": "stream",
       "stream": "stdout",
       "text": [
        " 0470692\n",
        "no office data"
       ]
      },
      {
       "output_type": "stream",
       "stream": "stdout",
       "text": [
        " 0470692\n",
        "no office data"
       ]
      },
      {
       "output_type": "stream",
       "stream": "stdout",
       "text": [
        " 0765263\n",
        "no office data"
       ]
      },
      {
       "output_type": "stream",
       "stream": "stdout",
       "text": [
        " 0398839\n",
        "no office data"
       ]
      },
      {
       "output_type": "stream",
       "stream": "stdout",
       "text": [
        " 0473514\n",
        "no office data"
       ]
      },
      {
       "output_type": "stream",
       "stream": "stdout",
       "text": [
        " 0805625\n",
        "no office data"
       ]
      },
      {
       "output_type": "stream",
       "stream": "stdout",
       "text": [
        " 0805625\n",
        "no office data"
       ]
      },
      {
       "output_type": "stream",
       "stream": "stdout",
       "text": [
        " 0462250\n",
        "no office data"
       ]
      },
      {
       "output_type": "stream",
       "stream": "stdout",
       "text": [
        " 0821470\n",
        "no office data"
       ]
      },
      {
       "output_type": "stream",
       "stream": "stdout",
       "text": [
        " 0437489\n",
        "no office data"
       ]
      },
      {
       "output_type": "stream",
       "stream": "stdout",
       "text": [
        " 0777932\n",
        "no office data"
       ]
      },
      {
       "output_type": "stream",
       "stream": "stdout",
       "text": [
        " 0839949\n",
        "no office data"
       ]
      },
      {
       "output_type": "stream",
       "stream": "stdout",
       "text": [
        " 0486739\n",
        "no office data"
       ]
      },
      {
       "output_type": "stream",
       "stream": "stdout",
       "text": [
        " 0758742\n",
        "no office data"
       ]
      },
      {
       "output_type": "stream",
       "stream": "stdout",
       "text": [
        " 0821442\n",
        "no office data"
       ]
      },
      {
       "output_type": "stream",
       "stream": "stdout",
       "text": [
        " 0470023\n",
        "no office data"
       ]
      },
      {
       "output_type": "stream",
       "stream": "stdout",
       "text": [
        " 0478090\n",
        "no office data"
       ]
      },
      {
       "output_type": "stream",
       "stream": "stdout",
       "text": [
        " 0498846\n",
        "no office data"
       ]
      },
      {
       "output_type": "stream",
       "stream": "stdout",
       "text": [
        " 0483022\n",
        "no office data"
       ]
      },
      {
       "output_type": "stream",
       "stream": "stdout",
       "text": [
        " 0497419\n",
        "no office data"
       ]
      },
      {
       "output_type": "stream",
       "stream": "stdout",
       "text": [
        " 0814187\n",
        "no office data"
       ]
      },
      {
       "output_type": "stream",
       "stream": "stdout",
       "text": [
        " 0783492\n",
        "no office data"
       ]
      },
      {
       "output_type": "stream",
       "stream": "stdout",
       "text": [
        " 0818669\n",
        "no office data"
       ]
      },
      {
       "output_type": "stream",
       "stream": "stdout",
       "text": [
        " 0485634\n",
        "no office data"
       ]
      },
      {
       "output_type": "stream",
       "stream": "stdout",
       "text": [
        " 0425548\n",
        "no office data"
       ]
      },
      {
       "output_type": "stream",
       "stream": "stdout",
       "text": [
        " 0818511\n",
        "no office data"
       ]
      },
      {
       "output_type": "stream",
       "stream": "stdout",
       "text": [
        " 0424992\n",
        "no office data"
       ]
      },
      {
       "output_type": "stream",
       "stream": "stdout",
       "text": [
        " 0428446\n",
        "no office data"
       ]
      },
      {
       "output_type": "stream",
       "stream": "stdout",
       "text": [
        " 0816597\n",
        "no office data"
       ]
      },
      {
       "output_type": "stream",
       "stream": "stdout",
       "text": [
        " 0443629\n",
        "no office data"
       ]
      },
      {
       "output_type": "stream",
       "stream": "stdout",
       "text": [
        " 0425094\n",
        "no office data"
       ]
      },
      {
       "output_type": "stream",
       "stream": "stdout",
       "text": [
        " 0780561\n",
        "no office data"
       ]
      },
      {
       "output_type": "stream",
       "stream": "stdout",
       "text": [
        " 0470864\n",
        "no office data"
       ]
      },
      {
       "output_type": "stream",
       "stream": "stdout",
       "text": [
        " 0403279\n",
        "no office data"
       ]
      },
      {
       "output_type": "stream",
       "stream": "stdout",
       "text": [
        " 0488887\n",
        "no office data"
       ]
      },
      {
       "output_type": "stream",
       "stream": "stdout",
       "text": [
        " 0488887\n",
        "no office data"
       ]
      },
      {
       "output_type": "stream",
       "stream": "stdout",
       "text": [
        " 0467911\n",
        "no office data"
       ]
      },
      {
       "output_type": "stream",
       "stream": "stdout",
       "text": [
        " 0938294\n",
        "no office data"
       ]
      },
      {
       "output_type": "stream",
       "stream": "stdout",
       "text": [
        " 0486617\n",
        "no office data"
       ]
      },
      {
       "output_type": "stream",
       "stream": "stdout",
       "text": [
        " 0796950\n",
        "Finished:"
       ]
      },
      {
       "output_type": "stream",
       "stream": "stdout",
       "text": [
        " 5100 ----------------------\n",
        "no office data"
       ]
      },
      {
       "output_type": "stream",
       "stream": "stdout",
       "text": [
        " 0856052\n",
        "no office data"
       ]
      },
      {
       "output_type": "stream",
       "stream": "stdout",
       "text": [
        " 1018698\n",
        "no office data"
       ]
      },
      {
       "output_type": "stream",
       "stream": "stdout",
       "text": [
        " 0839762\n",
        "no office data"
       ]
      },
      {
       "output_type": "stream",
       "stream": "stdout",
       "text": [
        " 0465207\n",
        "no office data"
       ]
      },
      {
       "output_type": "stream",
       "stream": "stdout",
       "text": [
        " 0462329\n",
        "no office data"
       ]
      },
      {
       "output_type": "stream",
       "stream": "stdout",
       "text": [
        " 0889188\n",
        "no office data"
       ]
      },
      {
       "output_type": "stream",
       "stream": "stdout",
       "text": [
        " 0843287\n",
        "no office data"
       ]
      },
      {
       "output_type": "stream",
       "stream": "stdout",
       "text": [
        " 0386757\n",
        "no office data"
       ]
      },
      {
       "output_type": "stream",
       "stream": "stdout",
       "text": [
        " 0485241\n",
        "no office data"
       ]
      },
      {
       "output_type": "stream",
       "stream": "stdout",
       "text": [
        " 0781084\n",
        "no office data"
       ]
      },
      {
       "output_type": "stream",
       "stream": "stdout",
       "text": [
        " 0479219\n",
        "no office data"
       ]
      },
      {
       "output_type": "stream",
       "stream": "stdout",
       "text": [
        " 0810410\n",
        "no office data"
       ]
      },
      {
       "output_type": "stream",
       "stream": "stdout",
       "text": [
        " 0470290\n",
        "no office data"
       ]
      },
      {
       "output_type": "stream",
       "stream": "stdout",
       "text": [
        " 0848592\n",
        "no office data"
       ]
      },
      {
       "output_type": "stream",
       "stream": "stdout",
       "text": [
        " 0495237\n",
        "no office data"
       ]
      },
      {
       "output_type": "stream",
       "stream": "stdout",
       "text": [
        " 0464828\n",
        "no office data"
       ]
      },
      {
       "output_type": "stream",
       "stream": "stdout",
       "text": [
        " 0464051\n",
        "no office data"
       ]
      },
      {
       "output_type": "stream",
       "stream": "stdout",
       "text": [
        " 0377043\n",
        "no office data"
       ]
      },
      {
       "output_type": "stream",
       "stream": "stdout",
       "text": [
        " 0377043\n",
        "no office data"
       ]
      },
      {
       "output_type": "stream",
       "stream": "stdout",
       "text": [
        " 0760177\n",
        "no office data"
       ]
      },
      {
       "output_type": "stream",
       "stream": "stdout",
       "text": [
        " 0760177\n",
        "no office data"
       ]
      },
      {
       "output_type": "stream",
       "stream": "stdout",
       "text": [
        " 0437696\n",
        "no office data"
       ]
      },
      {
       "output_type": "stream",
       "stream": "stdout",
       "text": [
        " 0477337\n",
        "no office data"
       ]
      },
      {
       "output_type": "stream",
       "stream": "stdout",
       "text": [
        " 0472615\n",
        "Finished:"
       ]
      },
      {
       "output_type": "stream",
       "stream": "stdout",
       "text": [
        " 5200 ----------------------\n",
        "no office data"
       ]
      },
      {
       "output_type": "stream",
       "stream": "stdout",
       "text": [
        " 0452011\n",
        "no office data"
       ]
      },
      {
       "output_type": "stream",
       "stream": "stdout",
       "text": [
        " 0806679\n",
        "no office data"
       ]
      },
      {
       "output_type": "stream",
       "stream": "stdout",
       "text": [
        " 0785032\n",
        "no office data"
       ]
      },
      {
       "output_type": "stream",
       "stream": "stdout",
       "text": [
        " 0914360\n",
        "no office data"
       ]
      },
      {
       "output_type": "stream",
       "stream": "stdout",
       "text": [
        " 0481273\n",
        "no office data"
       ]
      },
      {
       "output_type": "stream",
       "stream": "stdout",
       "text": [
        " 0865538\n",
        "no office data"
       ]
      },
      {
       "output_type": "stream",
       "stream": "stdout",
       "text": [
        " 0790662\n",
        "no office data"
       ]
      },
      {
       "output_type": "stream",
       "stream": "stdout",
       "text": [
        " 0933158\n",
        "no office data"
       ]
      },
      {
       "output_type": "stream",
       "stream": "stdout",
       "text": [
        " 0902999\n",
        "no office data"
       ]
      },
      {
       "output_type": "stream",
       "stream": "stdout",
       "text": [
        " 1114660\n",
        "no office data"
       ]
      },
      {
       "output_type": "stream",
       "stream": "stdout",
       "text": [
        " 0863005\n",
        "no office data"
       ]
      },
      {
       "output_type": "stream",
       "stream": "stdout",
       "text": [
        " 0893354\n",
        "no office data"
       ]
      },
      {
       "output_type": "stream",
       "stream": "stdout",
       "text": [
        " 0885507\n",
        "no office data"
       ]
      },
      {
       "output_type": "stream",
       "stream": "stdout",
       "text": [
        " 0439182\n",
        "no office data"
       ]
      },
      {
       "output_type": "stream",
       "stream": "stdout",
       "text": [
        " 0439182\n",
        "no office data"
       ]
      },
      {
       "output_type": "stream",
       "stream": "stdout",
       "text": [
        " 0447619\n",
        "no office data"
       ]
      },
      {
       "output_type": "stream",
       "stream": "stdout",
       "text": [
        " 0447619\n",
        "no office data"
       ]
      },
      {
       "output_type": "stream",
       "stream": "stdout",
       "text": [
        " 0425150\n",
        "no office data"
       ]
      },
      {
       "output_type": "stream",
       "stream": "stdout",
       "text": [
        " 0907128\n",
        "no office data"
       ]
      },
      {
       "output_type": "stream",
       "stream": "stdout",
       "text": [
        " 0827700\n",
        "no office data"
       ]
      },
      {
       "output_type": "stream",
       "stream": "stdout",
       "text": [
        " 0827700\n",
        "no office data"
       ]
      },
      {
       "output_type": "stream",
       "stream": "stdout",
       "text": [
        " 0926211\n",
        "no office data"
       ]
      },
      {
       "output_type": "stream",
       "stream": "stdout",
       "text": [
        " 0497137\n",
        "no office data"
       ]
      },
      {
       "output_type": "stream",
       "stream": "stdout",
       "text": [
        " 0853267\n",
        "no office data"
       ]
      },
      {
       "output_type": "stream",
       "stream": "stdout",
       "text": [
        " 0377061\n",
        "no office data"
       ]
      },
      {
       "output_type": "stream",
       "stream": "stdout",
       "text": [
        " 0826541\n",
        "no office data"
       ]
      },
      {
       "output_type": "stream",
       "stream": "stdout",
       "text": [
        " 0846119\n",
        "no office data"
       ]
      },
      {
       "output_type": "stream",
       "stream": "stdout",
       "text": [
        " 1018902\n",
        "no office data"
       ]
      },
      {
       "output_type": "stream",
       "stream": "stdout",
       "text": [
        " 0831299\n",
        "no office data"
       ]
      },
      {
       "output_type": "stream",
       "stream": "stdout",
       "text": [
        " 0475417\n",
        "no office data"
       ]
      },
      {
       "output_type": "stream",
       "stream": "stdout",
       "text": [
        " 0481580\n",
        "no office data"
       ]
      },
      {
       "output_type": "stream",
       "stream": "stdout",
       "text": [
        " 0465616\n",
        "no office data"
       ]
      },
      {
       "output_type": "stream",
       "stream": "stdout",
       "text": [
        " 0834902\n",
        "no office data"
       ]
      },
      {
       "output_type": "stream",
       "stream": "stdout",
       "text": [
        " 0923985\n",
        "no office data"
       ]
      },
      {
       "output_type": "stream",
       "stream": "stdout",
       "text": [
        " 0775438\n",
        "no office data"
       ]
      },
      {
       "output_type": "stream",
       "stream": "stdout",
       "text": [
        " 0854667\n",
        "no office data"
       ]
      },
      {
       "output_type": "stream",
       "stream": "stdout",
       "text": [
        " 0902955\n",
        "no office data"
       ]
      },
      {
       "output_type": "stream",
       "stream": "stdout",
       "text": [
        " 0902955\n",
        "no office data"
       ]
      },
      {
       "output_type": "stream",
       "stream": "stdout",
       "text": [
        " 0811128\n",
        "Finished:"
       ]
      },
      {
       "output_type": "stream",
       "stream": "stdout",
       "text": [
        " 5300 ----------------------\n",
        "no office data"
       ]
      },
      {
       "output_type": "stream",
       "stream": "stdout",
       "text": [
        " 0479879\n",
        "no office data"
       ]
      },
      {
       "output_type": "stream",
       "stream": "stdout",
       "text": [
        " 0844025\n",
        "no office data"
       ]
      },
      {
       "output_type": "stream",
       "stream": "stdout",
       "text": [
        " 0493425\n",
        "no office data"
       ]
      },
      {
       "output_type": "stream",
       "stream": "stdout",
       "text": [
        " 0893331\n",
        "no office data"
       ]
      },
      {
       "output_type": "stream",
       "stream": "stdout",
       "text": [
        " 0830531\n",
        "no office data"
       ]
      },
      {
       "output_type": "stream",
       "stream": "stdout",
       "text": [
        " 0499570\n",
        "no office data"
       ]
      },
      {
       "output_type": "stream",
       "stream": "stdout",
       "text": [
        " 0860467\n",
        "no office data"
       ]
      },
      {
       "output_type": "stream",
       "stream": "stdout",
       "text": [
        " 0834539\n",
        "no office data"
       ]
      },
      {
       "output_type": "stream",
       "stream": "stdout",
       "text": [
        " 0301265\n",
        "no office data"
       ]
      },
      {
       "output_type": "stream",
       "stream": "stdout",
       "text": [
        " 0961117\n",
        "no office data"
       ]
      },
      {
       "output_type": "stream",
       "stream": "stdout",
       "text": [
        " 0478705\n",
        "no office data"
       ]
      },
      {
       "output_type": "stream",
       "stream": "stdout",
       "text": [
        " 0904049\n",
        "no office data"
       ]
      },
      {
       "output_type": "stream",
       "stream": "stdout",
       "text": [
        " 0496385\n",
        "no office data"
       ]
      },
      {
       "output_type": "stream",
       "stream": "stdout",
       "text": [
        " 0808174\n",
        "no office data"
       ]
      },
      {
       "output_type": "stream",
       "stream": "stdout",
       "text": [
        " 0871864\n",
        "no office data"
       ]
      },
      {
       "output_type": "stream",
       "stream": "stdout",
       "text": [
        " 0982893\n",
        "no office data"
       ]
      },
      {
       "output_type": "stream",
       "stream": "stdout",
       "text": [
        " 0483741\n",
        "no office data"
       ]
      },
      {
       "output_type": "stream",
       "stream": "stdout",
       "text": [
        " 0481583\n",
        "no office data"
       ]
      },
      {
       "output_type": "stream",
       "stream": "stdout",
       "text": [
        " 0481583\n",
        "no office data"
       ]
      },
      {
       "output_type": "stream",
       "stream": "stdout",
       "text": [
        " 0482961\n",
        "no office data"
       ]
      },
      {
       "output_type": "stream",
       "stream": "stdout",
       "text": [
        " 1006823\n",
        "no office data"
       ]
      },
      {
       "output_type": "stream",
       "stream": "stdout",
       "text": [
        " 0989622\n",
        "no office data"
       ]
      },
      {
       "output_type": "stream",
       "stream": "stdout",
       "text": [
        " 0469429\n",
        "no office data"
       ]
      },
      {
       "output_type": "stream",
       "stream": "stdout",
       "text": [
        " 0890879\n",
        "no office data"
       ]
      },
      {
       "output_type": "stream",
       "stream": "stdout",
       "text": [
        " 1000070\n",
        "no office data"
       ]
      },
      {
       "output_type": "stream",
       "stream": "stdout",
       "text": [
        " 0991243\n",
        "no office data"
       ]
      },
      {
       "output_type": "stream",
       "stream": "stdout",
       "text": [
        " 0943326\n",
        "no office data"
       ]
      },
      {
       "output_type": "stream",
       "stream": "stdout",
       "text": [
        " 0874293\n",
        "no office data"
       ]
      },
      {
       "output_type": "stream",
       "stream": "stdout",
       "text": [
        " 1046183\n",
        "no office data"
       ]
      },
      {
       "output_type": "stream",
       "stream": "stdout",
       "text": [
        " 0925259\n",
        "no office data"
       ]
      },
      {
       "output_type": "stream",
       "stream": "stdout",
       "text": [
        " 0920453\n",
        "no office data"
       ]
      },
      {
       "output_type": "stream",
       "stream": "stdout",
       "text": [
        " 0417453\n",
        "no office data"
       ]
      },
      {
       "output_type": "stream",
       "stream": "stdout",
       "text": [
        " 0484090\n",
        "no office data"
       ]
      },
      {
       "output_type": "stream",
       "stream": "stdout",
       "text": [
        " 0869099\n",
        "no office data"
       ]
      },
      {
       "output_type": "stream",
       "stream": "stdout",
       "text": [
        " 0873623\n",
        "no office data"
       ]
      },
      {
       "output_type": "stream",
       "stream": "stdout",
       "text": [
        " 0834951\n",
        "no office data"
       ]
      },
      {
       "output_type": "stream",
       "stream": "stdout",
       "text": [
        " 0834951\n",
        "no office data"
       ]
      },
      {
       "output_type": "stream",
       "stream": "stdout",
       "text": [
        " 0881317\n",
        "no office data"
       ]
      },
      {
       "output_type": "stream",
       "stream": "stdout",
       "text": [
        " 0881317\n",
        "no office data"
       ]
      },
      {
       "output_type": "stream",
       "stream": "stdout",
       "text": [
        " 0797014\n",
        "Finished:"
       ]
      },
      {
       "output_type": "stream",
       "stream": "stdout",
       "text": [
        " 5400 ----------------------\n",
        "no office data"
       ]
      },
      {
       "output_type": "stream",
       "stream": "stdout",
       "text": [
        " 0826817\n",
        "no office data"
       ]
      },
      {
       "output_type": "stream",
       "stream": "stdout",
       "text": [
        " 0805559\n",
        "no office data"
       ]
      },
      {
       "output_type": "stream",
       "stream": "stdout",
       "text": [
        " 0817307\n",
        "no office data"
       ]
      },
      {
       "output_type": "stream",
       "stream": "stdout",
       "text": [
        " 0970543\n",
        "no office data"
       ]
      },
      {
       "output_type": "stream",
       "stream": "stdout",
       "text": [
        " 0970543\n",
        "no office data"
       ]
      },
      {
       "output_type": "stream",
       "stream": "stdout",
       "text": [
        " 0860469\n",
        "no office data"
       ]
      },
      {
       "output_type": "stream",
       "stream": "stdout",
       "text": [
        " 1016205\n",
        "no office data"
       ]
      },
      {
       "output_type": "stream",
       "stream": "stdout",
       "text": [
        " 0475228\n",
        "no office data"
       ]
      },
      {
       "output_type": "stream",
       "stream": "stdout",
       "text": [
        " 0834900\n",
        "no office data"
       ]
      },
      {
       "output_type": "stream",
       "stream": "stdout",
       "text": [
        " 0482901\n",
        "no office data"
       ]
      },
      {
       "output_type": "stream",
       "stream": "stdout",
       "text": [
        " 0905345\n",
        "no office data"
       ]
      },
      {
       "output_type": "stream",
       "stream": "stdout",
       "text": [
        " 1039647\n",
        "no office data"
       ]
      },
      {
       "output_type": "stream",
       "stream": "stdout",
       "text": [
        " 0845535\n",
        "no office data"
       ]
      },
      {
       "output_type": "stream",
       "stream": "stdout",
       "text": [
        " 0945357\n",
        "no office data"
       ]
      },
      {
       "output_type": "stream",
       "stream": "stdout",
       "text": [
        " 0454559\n",
        "no office data"
       ]
      },
      {
       "output_type": "stream",
       "stream": "stdout",
       "text": [
        " 0822858\n",
        "no office data"
       ]
      },
      {
       "output_type": "stream",
       "stream": "stdout",
       "text": [
        " 0425132\n",
        "no office data"
       ]
      },
      {
       "output_type": "stream",
       "stream": "stdout",
       "text": [
        " 0884335\n",
        "no office data"
       ]
      },
      {
       "output_type": "stream",
       "stream": "stdout",
       "text": [
        " 0996435\n",
        "no office data"
       ]
      },
      {
       "output_type": "stream",
       "stream": "stdout",
       "text": [
        " 1050101\n",
        "no office data"
       ]
      },
      {
       "output_type": "stream",
       "stream": "stdout",
       "text": [
        " 0816530\n",
        "no office data"
       ]
      },
      {
       "output_type": "stream",
       "stream": "stdout",
       "text": [
        " 0443354\n",
        "no office data"
       ]
      },
      {
       "output_type": "stream",
       "stream": "stdout",
       "text": [
        " 0411644\n",
        "no office data"
       ]
      },
      {
       "output_type": "stream",
       "stream": "stdout",
       "text": [
        " 0969333\n",
        "no office data"
       ]
      },
      {
       "output_type": "stream",
       "stream": "stdout",
       "text": [
        " 1016033\n",
        "no office data"
       ]
      },
      {
       "output_type": "stream",
       "stream": "stdout",
       "text": [
        " 0889665\n",
        "no office data"
       ]
      },
      {
       "output_type": "stream",
       "stream": "stdout",
       "text": [
        " 0477138\n",
        "no office data"
       ]
      },
      {
       "output_type": "stream",
       "stream": "stdout",
       "text": [
        " 0813789\n",
        "no office data"
       ]
      },
      {
       "output_type": "stream",
       "stream": "stdout",
       "text": [
        " 1042896\n",
        "no office data"
       ]
      },
      {
       "output_type": "stream",
       "stream": "stdout",
       "text": [
        " 1115281\n",
        "no office data"
       ]
      },
      {
       "output_type": "stream",
       "stream": "stdout",
       "text": [
        " 1034388\n",
        "no office data"
       ]
      },
      {
       "output_type": "stream",
       "stream": "stdout",
       "text": [
        " 0914813\n",
        "no office data"
       ]
      },
      {
       "output_type": "stream",
       "stream": "stdout",
       "text": [
        " 0859622\n",
        "no office data"
       ]
      },
      {
       "output_type": "stream",
       "stream": "stdout",
       "text": [
        " 1073515\n",
        "no office data"
       ]
      },
      {
       "output_type": "stream",
       "stream": "stdout",
       "text": [
        " 0370242\n",
        "no office data"
       ]
      },
      {
       "output_type": "stream",
       "stream": "stdout",
       "text": [
        " 0970495\n",
        "no office data"
       ]
      },
      {
       "output_type": "stream",
       "stream": "stdout",
       "text": [
        " 0977638\n",
        "no office data"
       ]
      },
      {
       "output_type": "stream",
       "stream": "stdout",
       "text": [
        " 1095191\n",
        "Finished:"
       ]
      },
      {
       "output_type": "stream",
       "stream": "stdout",
       "text": [
        " 5500 ----------------------\n",
        "no office data"
       ]
      },
      {
       "output_type": "stream",
       "stream": "stdout",
       "text": [
        " 0810900\n",
        "no office data"
       ]
      },
      {
       "output_type": "stream",
       "stream": "stdout",
       "text": [
        " 0838192\n",
        "no office data"
       ]
      },
      {
       "output_type": "stream",
       "stream": "stdout",
       "text": [
        " 0807054\n",
        "no office data"
       ]
      },
      {
       "output_type": "stream",
       "stream": "stdout",
       "text": [
        " 0910865\n",
        "no office data"
       ]
      },
      {
       "output_type": "stream",
       "stream": "stdout",
       "text": [
        " 1093382\n",
        "no office data"
       ]
      },
      {
       "output_type": "stream",
       "stream": "stdout",
       "text": [
        " 0460912\n",
        "no office data"
       ]
      },
      {
       "output_type": "stream",
       "stream": "stdout",
       "text": [
        " 0918557\n",
        "no office data"
       ]
      },
      {
       "output_type": "stream",
       "stream": "stdout",
       "text": [
        " 1018820\n",
        "no office data"
       ]
      },
      {
       "output_type": "stream",
       "stream": "stdout",
       "text": [
        " 1094275\n",
        "no office data"
       ]
      },
      {
       "output_type": "stream",
       "stream": "stdout",
       "text": [
        " 0858424\n",
        "no office data"
       ]
      },
      {
       "output_type": "stream",
       "stream": "stdout",
       "text": [
        " 0847754\n",
        "no office data"
       ]
      },
      {
       "output_type": "stream",
       "stream": "stdout",
       "text": [
        " 1087860\n",
        "no office data"
       ]
      },
      {
       "output_type": "stream",
       "stream": "stdout",
       "text": [
        " 1156311\n",
        "no office data"
       ]
      },
      {
       "output_type": "stream",
       "stream": "stdout",
       "text": [
        " 0780650\n",
        "no office data"
       ]
      },
      {
       "output_type": "stream",
       "stream": "stdout",
       "text": [
        " 0455537\n",
        "no office data"
       ]
      },
      {
       "output_type": "stream",
       "stream": "stdout",
       "text": [
        " 1071785\n",
        "no office data"
       ]
      },
      {
       "output_type": "stream",
       "stream": "stdout",
       "text": [
        " 0840040\n",
        "no office data"
       ]
      },
      {
       "output_type": "stream",
       "stream": "stdout",
       "text": [
        " 0961043\n",
        "no office data"
       ]
      },
      {
       "output_type": "stream",
       "stream": "stdout",
       "text": [
        " 0830558\n",
        "no office data"
       ]
      },
      {
       "output_type": "stream",
       "stream": "stdout",
       "text": [
        " 0765462\n",
        "no office data"
       ]
      },
      {
       "output_type": "stream",
       "stream": "stdout",
       "text": [
        " 0762148\n",
        "no office data"
       ]
      },
      {
       "output_type": "stream",
       "stream": "stdout",
       "text": [
        " 0936468\n",
        "no office data"
       ]
      },
      {
       "output_type": "stream",
       "stream": "stdout",
       "text": [
        " 1236486\n",
        "no office data"
       ]
      },
      {
       "output_type": "stream",
       "stream": "stdout",
       "text": [
        " 1067078\n",
        "no office data"
       ]
      },
      {
       "output_type": "stream",
       "stream": "stdout",
       "text": [
        " 0965382\n",
        "no office data"
       ]
      },
      {
       "output_type": "stream",
       "stream": "stdout",
       "text": [
        " 0484881\n",
        "no office data"
       ]
      },
      {
       "output_type": "stream",
       "stream": "stdout",
       "text": [
        " 0493439\n",
        "no office data"
       ]
      },
      {
       "output_type": "stream",
       "stream": "stdout",
       "text": [
        " 1003009\n",
        "no office data"
       ]
      },
      {
       "output_type": "stream",
       "stream": "stdout",
       "text": [
        " 0933877\n",
        "Finished:"
       ]
      },
      {
       "output_type": "stream",
       "stream": "stdout",
       "text": [
        " 5600 ----------------------\n",
        "no office data"
       ]
      },
      {
       "output_type": "stream",
       "stream": "stdout",
       "text": [
        " 1031294\n",
        "no office data"
       ]
      },
      {
       "output_type": "stream",
       "stream": "stdout",
       "text": [
        " 1076252\n",
        "no office data"
       ]
      },
      {
       "output_type": "stream",
       "stream": "stdout",
       "text": [
        " 0462230\n",
        "no office data"
       ]
      },
      {
       "output_type": "stream",
       "stream": "stdout",
       "text": [
        " 0953981\n",
        "no office data"
       ]
      },
      {
       "output_type": "stream",
       "stream": "stdout",
       "text": [
        " 1194664\n",
        "no office data"
       ]
      },
      {
       "output_type": "stream",
       "stream": "stdout",
       "text": [
        " 0762145\n",
        "no office data"
       ]
      },
      {
       "output_type": "stream",
       "stream": "stdout",
       "text": [
        " 0914809\n",
        "no office data"
       ]
      },
      {
       "output_type": "stream",
       "stream": "stdout",
       "text": [
        " 0961738\n",
        "no office data"
       ]
      },
      {
       "output_type": "stream",
       "stream": "stdout",
       "text": [
        " 0864751\n",
        "no office data"
       ]
      },
      {
       "output_type": "stream",
       "stream": "stdout",
       "text": [
        " 1149400\n",
        "no office data"
       ]
      },
      {
       "output_type": "stream",
       "stream": "stdout",
       "text": [
        " 0851430\n",
        "no office data"
       ]
      },
      {
       "output_type": "stream",
       "stream": "stdout",
       "text": [
        " 0926110\n",
        "no office data"
       ]
      },
      {
       "output_type": "stream",
       "stream": "stdout",
       "text": [
        " 1094291\n",
        "no office data"
       ]
      },
      {
       "output_type": "stream",
       "stream": "stdout",
       "text": [
        " 0870222\n",
        "no office data"
       ]
      },
      {
       "output_type": "stream",
       "stream": "stdout",
       "text": [
        " 1098226\n",
        "no office data"
       ]
      },
      {
       "output_type": "stream",
       "stream": "stdout",
       "text": [
        " 0871026\n",
        "no office data"
       ]
      },
      {
       "output_type": "stream",
       "stream": "stdout",
       "text": [
        " 1057512\n",
        "no office data"
       ]
      },
      {
       "output_type": "stream",
       "stream": "stdout",
       "text": [
        " 1057512\n",
        "no office data"
       ]
      },
      {
       "output_type": "stream",
       "stream": "stdout",
       "text": [
        " 1063034\n",
        "no office data"
       ]
      },
      {
       "output_type": "stream",
       "stream": "stdout",
       "text": [
        " 1152403\n",
        "no office data"
       ]
      },
      {
       "output_type": "stream",
       "stream": "stdout",
       "text": [
        " 1153100\n",
        "no office data"
       ]
      },
      {
       "output_type": "stream",
       "stream": "stdout",
       "text": [
        " 1175505\n",
        "no office data"
       ]
      },
      {
       "output_type": "stream",
       "stream": "stdout",
       "text": [
        " 0910993\n",
        "no office data"
       ]
      },
      {
       "output_type": "stream",
       "stream": "stdout",
       "text": [
        " 0479937\n",
        "no office data"
       ]
      },
      {
       "output_type": "stream",
       "stream": "stdout",
       "text": [
        " 1137368\n",
        "no office data"
       ]
      },
      {
       "output_type": "stream",
       "stream": "stdout",
       "text": [
        " 0845492\n",
        "no office data"
       ]
      },
      {
       "output_type": "stream",
       "stream": "stdout",
       "text": [
        " 1331111\n",
        "no office data"
       ]
      },
      {
       "output_type": "stream",
       "stream": "stdout",
       "text": [
        " 1331111\n",
        "no office data"
       ]
      },
      {
       "output_type": "stream",
       "stream": "stdout",
       "text": [
        " 1114712\n",
        "no office data"
       ]
      },
      {
       "output_type": "stream",
       "stream": "stdout",
       "text": [
        " 0866436\n",
        "no office data"
       ]
      },
      {
       "output_type": "stream",
       "stream": "stdout",
       "text": [
        " 1185427\n",
        "no office data"
       ]
      },
      {
       "output_type": "stream",
       "stream": "stdout",
       "text": [
        " 1024724\n",
        "no office data"
       ]
      },
      {
       "output_type": "stream",
       "stream": "stdout",
       "text": [
        " 1156136\n",
        "no office data"
       ]
      },
      {
       "output_type": "stream",
       "stream": "stdout",
       "text": [
        " 0428620\n",
        "no office data"
       ]
      },
      {
       "output_type": "stream",
       "stream": "stdout",
       "text": [
        " 1148786\n",
        "no office data"
       ]
      },
      {
       "output_type": "stream",
       "stream": "stdout",
       "text": [
        " 1104700\n",
        "Bienvenue Chez les Ch'tis (Welcome to the Land of Shtis) (Welcome to the Sticks)"
       ]
      },
      {
       "output_type": "stream",
       "stream": "stdout",
       "text": [
        "\n",
        "Finished:"
       ]
      },
      {
       "output_type": "stream",
       "stream": "stdout",
       "text": [
        " 5700 ----------------------\n",
        "no office data"
       ]
      },
      {
       "output_type": "stream",
       "stream": "stdout",
       "text": [
        " 0848538\n",
        "no office data"
       ]
      },
      {
       "output_type": "stream",
       "stream": "stdout",
       "text": [
        " 0902272\n",
        "no office data"
       ]
      },
      {
       "output_type": "stream",
       "stream": "stdout",
       "text": [
        " 0497990\n",
        "no office data"
       ]
      },
      {
       "output_type": "stream",
       "stream": "stdout",
       "text": [
        " 0915460\n",
        "no office data"
       ]
      },
      {
       "output_type": "stream",
       "stream": "stdout",
       "text": [
        " 1013651\n",
        "no office data"
       ]
      },
      {
       "output_type": "stream",
       "stream": "stdout",
       "text": [
        " 0482613\n",
        "no office data"
       ]
      },
      {
       "output_type": "stream",
       "stream": "stdout",
       "text": [
        " 0808435\n",
        "no office data"
       ]
      },
      {
       "output_type": "stream",
       "stream": "stdout",
       "text": [
        " 1187004\n",
        "no office data"
       ]
      },
      {
       "output_type": "stream",
       "stream": "stdout",
       "text": [
        " 0945580\n",
        "no office data"
       ]
      },
      {
       "output_type": "stream",
       "stream": "stdout",
       "text": [
        " 0453560\n",
        "no office data"
       ]
      },
      {
       "output_type": "stream",
       "stream": "stdout",
       "text": [
        " 1190539\n",
        "no office data"
       ]
      },
      {
       "output_type": "stream",
       "stream": "stdout",
       "text": [
        " 1079448\n",
        "no office data"
       ]
      },
      {
       "output_type": "stream",
       "stream": "stdout",
       "text": [
        " 1086213\n",
        "no office data"
       ]
      },
      {
       "output_type": "stream",
       "stream": "stdout",
       "text": [
        " 1086794\n",
        "no office data"
       ]
      },
      {
       "output_type": "stream",
       "stream": "stdout",
       "text": [
        " 1160008\n",
        "no office data"
       ]
      },
      {
       "output_type": "stream",
       "stream": "stdout",
       "text": [
        " 1131740\n",
        "no office data"
       ]
      },
      {
       "output_type": "stream",
       "stream": "stdout",
       "text": [
        " 0984213\n",
        "no office data"
       ]
      },
      {
       "output_type": "stream",
       "stream": "stdout",
       "text": [
        " 0876233\n",
        "no office data"
       ]
      },
      {
       "output_type": "stream",
       "stream": "stdout",
       "text": [
        " 1176096\n",
        "no office data"
       ]
      },
      {
       "output_type": "stream",
       "stream": "stdout",
       "text": [
        " 1104685\n",
        "no office data"
       ]
      },
      {
       "output_type": "stream",
       "stream": "stdout",
       "text": [
        " 0942903\n",
        "no office data"
       ]
      },
      {
       "output_type": "stream",
       "stream": "stdout",
       "text": [
        " 1105745\n",
        "no office data"
       ]
      },
      {
       "output_type": "stream",
       "stream": "stdout",
       "text": [
        " 1212448\n",
        "no office data"
       ]
      },
      {
       "output_type": "stream",
       "stream": "stdout",
       "text": [
        " 1183733\n",
        "no office data"
       ]
      },
      {
       "output_type": "stream",
       "stream": "stdout",
       "text": [
        " 1079959\n",
        "no office data"
       ]
      },
      {
       "output_type": "stream",
       "stream": "stdout",
       "text": [
        " 1087828\n",
        "no office data"
       ]
      },
      {
       "output_type": "stream",
       "stream": "stdout",
       "text": [
        " 1152797\n",
        "no office data"
       ]
      },
      {
       "output_type": "stream",
       "stream": "stdout",
       "text": [
        " 1204366\n",
        "no office data"
       ]
      },
      {
       "output_type": "stream",
       "stream": "stdout",
       "text": [
        " 1192612\n",
        "no office data"
       ]
      },
      {
       "output_type": "stream",
       "stream": "stdout",
       "text": [
        " 1183666\n",
        "no office data"
       ]
      },
      {
       "output_type": "stream",
       "stream": "stdout",
       "text": [
        " 1183666\n",
        "no office data"
       ]
      },
      {
       "output_type": "stream",
       "stream": "stdout",
       "text": [
        " 1093374\n",
        "no office data"
       ]
      },
      {
       "output_type": "stream",
       "stream": "stdout",
       "text": [
        " 0882755\n",
        "no office data"
       ]
      },
      {
       "output_type": "stream",
       "stream": "stdout",
       "text": [
        " 1039949\n",
        "no office data"
       ]
      },
      {
       "output_type": "stream",
       "stream": "stdout",
       "text": [
        " 0780534\n",
        "no office data"
       ]
      },
      {
       "output_type": "stream",
       "stream": "stdout",
       "text": [
        " 1002966\n",
        "no office data"
       ]
      },
      {
       "output_type": "stream",
       "stream": "stdout",
       "text": [
        " 0953369\n",
        "no office data"
       ]
      },
      {
       "output_type": "stream",
       "stream": "stdout",
       "text": [
        " 1139806\n",
        "no office data"
       ]
      },
      {
       "output_type": "stream",
       "stream": "stdout",
       "text": [
        " 0960890\n",
        "no office data"
       ]
      },
      {
       "output_type": "stream",
       "stream": "stdout",
       "text": [
        " 0907681\n",
        "no office data"
       ]
      },
      {
       "output_type": "stream",
       "stream": "stdout",
       "text": [
        " 0906319\n",
        "no office data"
       ]
      },
      {
       "output_type": "stream",
       "stream": "stdout",
       "text": [
        " 0475323\n",
        "no office data"
       ]
      },
      {
       "output_type": "stream",
       "stream": "stdout",
       "text": [
        " 0475323\n",
        "Finished:"
       ]
      },
      {
       "output_type": "stream",
       "stream": "stdout",
       "text": [
        " 5800 ----------------------\n",
        "no office data"
       ]
      },
      {
       "output_type": "stream",
       "stream": "stdout",
       "text": [
        " 1139664\n",
        "no office data"
       ]
      },
      {
       "output_type": "stream",
       "stream": "stdout",
       "text": [
        " 1214973\n",
        "no office data"
       ]
      },
      {
       "output_type": "stream",
       "stream": "stdout",
       "text": [
        " 1043860\n",
        "no office data"
       ]
      },
      {
       "output_type": "stream",
       "stream": "stdout",
       "text": [
        " 0922455\n",
        "no office data"
       ]
      },
      {
       "output_type": "stream",
       "stream": "stdout",
       "text": [
        " 1173745\n",
        "no office data"
       ]
      },
      {
       "output_type": "stream",
       "stream": "stdout",
       "text": [
        " 0974536\n",
        "no office data"
       ]
      },
      {
       "output_type": "stream",
       "stream": "stdout",
       "text": [
        " 1247703\n",
        "no office data"
       ]
      },
      {
       "output_type": "stream",
       "stream": "stdout",
       "text": [
        " 1230447\n",
        "no office data"
       ]
      },
      {
       "output_type": "stream",
       "stream": "stdout",
       "text": [
        " 1194121\n",
        "no office data"
       ]
      },
      {
       "output_type": "stream",
       "stream": "stdout",
       "text": [
        " 1236451\n",
        "no office data"
       ]
      },
      {
       "output_type": "stream",
       "stream": "stdout",
       "text": [
        " 0925245\n",
        "no office data"
       ]
      },
      {
       "output_type": "stream",
       "stream": "stdout",
       "text": [
        " 0790590\n",
        "no office data"
       ]
      },
      {
       "output_type": "stream",
       "stream": "stdout",
       "text": [
        " 0374569\n",
        "no office data"
       ]
      },
      {
       "output_type": "stream",
       "stream": "stdout",
       "text": [
        " 1046922\n",
        "no office data"
       ]
      },
      {
       "output_type": "stream",
       "stream": "stdout",
       "text": [
        " 0985118\n",
        "no office data"
       ]
      },
      {
       "output_type": "stream",
       "stream": "stdout",
       "text": [
        " 0456627\n",
        "no office data"
       ]
      },
      {
       "output_type": "stream",
       "stream": "stdout",
       "text": [
        " 0985101\n",
        "no office data"
       ]
      },
      {
       "output_type": "stream",
       "stream": "stdout",
       "text": [
        " 1018887\n",
        "no office data"
       ]
      },
      {
       "output_type": "stream",
       "stream": "stdout",
       "text": [
        " 1018723\n",
        "no office data"
       ]
      },
      {
       "output_type": "stream",
       "stream": "stdout",
       "text": [
        " 1132288\n",
        "no office data"
       ]
      },
      {
       "output_type": "stream",
       "stream": "stdout",
       "text": [
        " 1124397\n",
        "no office data"
       ]
      },
      {
       "output_type": "stream",
       "stream": "stdout",
       "text": [
        " 1055366\n",
        "no office data"
       ]
      },
      {
       "output_type": "stream",
       "stream": "stdout",
       "text": [
        " 1241195\n",
        "no office data"
       ]
      },
      {
       "output_type": "stream",
       "stream": "stdout",
       "text": [
        " 0816556\n",
        "no office data"
       ]
      },
      {
       "output_type": "stream",
       "stream": "stdout",
       "text": [
        " 1157668\n",
        "no office data"
       ]
      },
      {
       "output_type": "stream",
       "stream": "stdout",
       "text": [
        " 1077089\n",
        "no office data"
       ]
      },
      {
       "output_type": "stream",
       "stream": "stdout",
       "text": [
        " 0822811\n",
        "no office data"
       ]
      },
      {
       "output_type": "stream",
       "stream": "stdout",
       "text": [
        " 0822811\n",
        "no office data"
       ]
      },
      {
       "output_type": "stream",
       "stream": "stdout",
       "text": [
        " 1132606\n",
        "no office data"
       ]
      },
      {
       "output_type": "stream",
       "stream": "stdout",
       "text": [
        " 1193475\n",
        "no office data"
       ]
      },
      {
       "output_type": "stream",
       "stream": "stdout",
       "text": [
        " 1259198\n",
        "no office data"
       ]
      },
      {
       "output_type": "stream",
       "stream": "stdout",
       "text": [
        " 1248970\n",
        "no office data"
       ]
      },
      {
       "output_type": "stream",
       "stream": "stdout",
       "text": [
        " 1043753\n",
        "no office data"
       ]
      },
      {
       "output_type": "stream",
       "stream": "stdout",
       "text": [
        " 0806191\n",
        "no office data"
       ]
      },
      {
       "output_type": "stream",
       "stream": "stdout",
       "text": [
        " 1267500\n",
        "Finished:"
       ]
      },
      {
       "output_type": "stream",
       "stream": "stdout",
       "text": [
        " 5900 ----------------------\n",
        "Mutant Chronicles"
       ]
      },
      {
       "output_type": "stream",
       "stream": "stdout",
       "text": [
        "\n",
        "no office data"
       ]
      },
      {
       "output_type": "stream",
       "stream": "stdout",
       "text": [
        " 1029241\n",
        "no office data"
       ]
      },
      {
       "output_type": "stream",
       "stream": "stdout",
       "text": [
        " 0357668\n",
        "no office data"
       ]
      },
      {
       "output_type": "stream",
       "stream": "stdout",
       "text": [
        " 1160313\n",
        "no office data"
       ]
      },
      {
       "output_type": "stream",
       "stream": "stdout",
       "text": [
        " 1310363\n",
        "no office data"
       ]
      },
      {
       "output_type": "stream",
       "stream": "stdout",
       "text": [
        " 1104123\n",
        "no office data"
       ]
      },
      {
       "output_type": "stream",
       "stream": "stdout",
       "text": [
        " 0950739\n",
        "no office data"
       ]
      },
      {
       "output_type": "stream",
       "stream": "stdout",
       "text": [
        " 0907674\n",
        "no office data"
       ]
      },
      {
       "output_type": "stream",
       "stream": "stdout",
       "text": [
        " 1230545\n",
        "no office data"
       ]
      },
      {
       "output_type": "stream",
       "stream": "stdout",
       "text": [
        " 1007032\n",
        "no office data"
       ]
      },
      {
       "output_type": "stream",
       "stream": "stdout",
       "text": [
        " 1301698\n",
        "no office data"
       ]
      },
      {
       "output_type": "stream",
       "stream": "stdout",
       "text": [
        " 1301698\n",
        "no office data"
       ]
      },
      {
       "output_type": "stream",
       "stream": "stdout",
       "text": [
        " 1156506\n",
        "no office data"
       ]
      },
      {
       "output_type": "stream",
       "stream": "stdout",
       "text": [
        " 1135937\n",
        "no office data"
       ]
      },
      {
       "output_type": "stream",
       "stream": "stdout",
       "text": [
        " 1301264\n",
        "no office data"
       ]
      },
      {
       "output_type": "stream",
       "stream": "stdout",
       "text": [
        " 0896534\n",
        "no office data"
       ]
      },
      {
       "output_type": "stream",
       "stream": "stdout",
       "text": [
        " 1119178\n",
        "no office data"
       ]
      },
      {
       "output_type": "stream",
       "stream": "stdout",
       "text": [
        " 1213574\n",
        "no office data"
       ]
      },
      {
       "output_type": "stream",
       "stream": "stdout",
       "text": [
        " 1217243\n",
        "no office data"
       ]
      },
      {
       "output_type": "stream",
       "stream": "stdout",
       "text": [
        " 1103963\n",
        "no office data"
       ]
      },
      {
       "output_type": "stream",
       "stream": "stdout",
       "text": [
        " 1430638\n",
        "no office data"
       ]
      },
      {
       "output_type": "stream",
       "stream": "stdout",
       "text": [
        " 0887971\n",
        "no office data"
       ]
      },
      {
       "output_type": "stream",
       "stream": "stdout",
       "text": [
        " 1091992\n",
        "no office data"
       ]
      },
      {
       "output_type": "stream",
       "stream": "stdout",
       "text": [
        " 1204979\n",
        "no office data"
       ]
      },
      {
       "output_type": "stream",
       "stream": "stdout",
       "text": [
        " 1302553\n",
        "no office data"
       ]
      },
      {
       "output_type": "stream",
       "stream": "stdout",
       "text": [
        " 1280567\n",
        "no office data"
       ]
      },
      {
       "output_type": "stream",
       "stream": "stdout",
       "text": [
        " 1107859\n",
        "no office data"
       ]
      },
      {
       "output_type": "stream",
       "stream": "stdout",
       "text": [
        " 1206285\n",
        "no office data"
       ]
      },
      {
       "output_type": "stream",
       "stream": "stdout",
       "text": [
        " 1318056\n",
        "no office data"
       ]
      },
      {
       "output_type": "stream",
       "stream": "stdout",
       "text": [
        " 1260052\n",
        "no office data"
       ]
      },
      {
       "output_type": "stream",
       "stream": "stdout",
       "text": [
        " 1260052\n",
        "no office data"
       ]
      },
      {
       "output_type": "stream",
       "stream": "stdout",
       "text": [
        " 1260052\n",
        "no office data"
       ]
      },
      {
       "output_type": "stream",
       "stream": "stdout",
       "text": [
        " 1329470\n",
        "no office data"
       ]
      },
      {
       "output_type": "stream",
       "stream": "stdout",
       "text": [
        " 1319727\n",
        "no office data"
       ]
      },
      {
       "output_type": "stream",
       "stream": "stdout",
       "text": [
        " 0414181\n",
        "no office data"
       ]
      },
      {
       "output_type": "stream",
       "stream": "stdout",
       "text": [
        " 0926063\n",
        "Finished:"
       ]
      },
      {
       "output_type": "stream",
       "stream": "stdout",
       "text": [
        " 6000 ----------------------\n",
        "no office data"
       ]
      },
      {
       "output_type": "stream",
       "stream": "stdout",
       "text": [
        " 1196708\n",
        "no office data"
       ]
      },
      {
       "output_type": "stream",
       "stream": "stdout",
       "text": [
        " 1186366\n",
        "no office data"
       ]
      },
      {
       "output_type": "stream",
       "stream": "stdout",
       "text": [
        " 1227189\n",
        "no office data"
       ]
      },
      {
       "output_type": "stream",
       "stream": "stdout",
       "text": [
        " 0454539\n",
        "no office data"
       ]
      },
      {
       "output_type": "stream",
       "stream": "stdout",
       "text": [
        " 0977637\n",
        "no office data"
       ]
      },
      {
       "output_type": "stream",
       "stream": "stdout",
       "text": [
        " 1287845\n",
        "no office data"
       ]
      },
      {
       "output_type": "stream",
       "stream": "stdout",
       "text": [
        " 1037011\n",
        "no office data"
       ]
      },
      {
       "output_type": "stream",
       "stream": "stdout",
       "text": [
        " 1288638\n",
        "no office data"
       ]
      },
      {
       "output_type": "stream",
       "stream": "stdout",
       "text": [
        " 1132608\n",
        "no office data"
       ]
      },
      {
       "output_type": "stream",
       "stream": "stdout",
       "text": [
        " 0833960\n",
        "no office data"
       ]
      },
      {
       "output_type": "stream",
       "stream": "stdout",
       "text": [
        " 1236438\n",
        "no office data"
       ]
      },
      {
       "output_type": "stream",
       "stream": "stdout",
       "text": [
        " 1087851\n",
        "no office data"
       ]
      },
      {
       "output_type": "stream",
       "stream": "stdout",
       "text": [
        " 1284576\n",
        "no office data"
       ]
      },
      {
       "output_type": "stream",
       "stream": "stdout",
       "text": [
        " 1176699\n",
        "no office data"
       ]
      },
      {
       "output_type": "stream",
       "stream": "stdout",
       "text": [
        " 1236247\n",
        "no office data"
       ]
      },
      {
       "output_type": "stream",
       "stream": "stdout",
       "text": [
        " 0972558\n",
        "no office data"
       ]
      },
      {
       "output_type": "stream",
       "stream": "stdout",
       "text": [
        " 1188993\n",
        "no office data"
       ]
      },
      {
       "output_type": "stream",
       "stream": "stdout",
       "text": [
        " 0902967\n",
        "no office data"
       ]
      },
      {
       "output_type": "stream",
       "stream": "stdout",
       "text": [
        " 1198408\n",
        "no office data"
       ]
      },
      {
       "output_type": "stream",
       "stream": "stdout",
       "text": [
        " 1161408\n",
        "no office data"
       ]
      },
      {
       "output_type": "stream",
       "stream": "stdout",
       "text": [
        " 1360832\n",
        "no office data"
       ]
      },
      {
       "output_type": "stream",
       "stream": "stdout",
       "text": [
        " 1384774\n",
        "no office data"
       ]
      },
      {
       "output_type": "stream",
       "stream": "stdout",
       "text": [
        " 1326972\n",
        "no office data"
       ]
      },
      {
       "output_type": "stream",
       "stream": "stdout",
       "text": [
        " 1340838\n",
        "no office data"
       ]
      },
      {
       "output_type": "stream",
       "stream": "stdout",
       "text": [
        " 1218038\n",
        "no office data"
       ]
      },
      {
       "output_type": "stream",
       "stream": "stdout",
       "text": [
        " 1331335\n",
        "no office data"
       ]
      },
      {
       "output_type": "stream",
       "stream": "stdout",
       "text": [
        " 0494864\n",
        "no office data"
       ]
      },
      {
       "output_type": "stream",
       "stream": "stdout",
       "text": [
        " 1080012\n",
        "no office data"
       ]
      },
      {
       "output_type": "stream",
       "stream": "stdout",
       "text": [
        " 1340588\n",
        "no office data"
       ]
      },
      {
       "output_type": "stream",
       "stream": "stdout",
       "text": [
        " 1129410\n",
        "no office data"
       ]
      },
      {
       "output_type": "stream",
       "stream": "stdout",
       "text": [
        " 1352717\n",
        "no office data"
       ]
      },
      {
       "output_type": "stream",
       "stream": "stdout",
       "text": [
        " 1346983\n",
        "no office data"
       ]
      },
      {
       "output_type": "stream",
       "stream": "stdout",
       "text": [
        " 1322324\n",
        "no office data"
       ]
      },
      {
       "output_type": "stream",
       "stream": "stdout",
       "text": [
        " 1213899\n",
        "no office data"
       ]
      },
      {
       "output_type": "stream",
       "stream": "stdout",
       "text": [
        " 1512153\n",
        "no office data"
       ]
      },
      {
       "output_type": "stream",
       "stream": "stdout",
       "text": [
        " 1147686\n",
        "Finished:"
       ]
      },
      {
       "output_type": "stream",
       "stream": "stdout",
       "text": [
        " 6100 ----------------------\n",
        "no office data"
       ]
      },
      {
       "output_type": "stream",
       "stream": "stdout",
       "text": [
        " 1380152\n",
        "no office data"
       ]
      },
      {
       "output_type": "stream",
       "stream": "stdout",
       "text": [
        " 1347515\n",
        "no office data"
       ]
      },
      {
       "output_type": "stream",
       "stream": "stdout",
       "text": [
        " 1158936\n",
        "no office data"
       ]
      },
      {
       "output_type": "stream",
       "stream": "stdout",
       "text": [
        " 1049956\n",
        "no office data"
       ]
      },
      {
       "output_type": "stream",
       "stream": "stdout",
       "text": [
        " 0910905\n",
        "no office data"
       ]
      },
      {
       "output_type": "stream",
       "stream": "stdout",
       "text": [
        " 1333994\n",
        "no office data"
       ]
      },
      {
       "output_type": "stream",
       "stream": "stdout",
       "text": [
        " 1288644\n",
        "no office data"
       ]
      },
      {
       "output_type": "stream",
       "stream": "stdout",
       "text": [
        " 1204341\n",
        "no office data"
       ]
      },
      {
       "output_type": "stream",
       "stream": "stdout",
       "text": [
        " 1290419\n",
        "no office data"
       ]
      },
      {
       "output_type": "stream",
       "stream": "stdout",
       "text": [
        " 1332676\n",
        "no office data"
       ]
      },
      {
       "output_type": "stream",
       "stream": "stdout",
       "text": [
        " 1305840\n",
        "no office data"
       ]
      },
      {
       "output_type": "stream",
       "stream": "stdout",
       "text": [
        " 1320347\n",
        "no office data"
       ]
      },
      {
       "output_type": "stream",
       "stream": "stdout",
       "text": [
        " 1370212\n",
        "no office data"
       ]
      },
      {
       "output_type": "stream",
       "stream": "stdout",
       "text": [
        " 1156519\n",
        "no office data"
       ]
      },
      {
       "output_type": "stream",
       "stream": "stdout",
       "text": [
        " 0783530\n",
        "no office data"
       ]
      },
      {
       "output_type": "stream",
       "stream": "stdout",
       "text": [
        " 0896923\n",
        "no office data"
       ]
      },
      {
       "output_type": "stream",
       "stream": "stdout",
       "text": [
        " 1395147\n",
        "no office data"
       ]
      },
      {
       "output_type": "stream",
       "stream": "stdout",
       "text": [
        " 1270617\n",
        "no office data"
       ]
      },
      {
       "output_type": "stream",
       "stream": "stdout",
       "text": [
        " 1355546\n",
        "no office data"
       ]
      },
      {
       "output_type": "stream",
       "stream": "stdout",
       "text": [
        " 1222818\n",
        "no office data"
       ]
      },
      {
       "output_type": "stream",
       "stream": "stdout",
       "text": [
        " 1104126\n",
        "no office data"
       ]
      },
      {
       "output_type": "stream",
       "stream": "stdout",
       "text": [
        " 1051241\n",
        "no office data"
       ]
      },
      {
       "output_type": "stream",
       "stream": "stdout",
       "text": [
        " 1010278\n",
        "no office data"
       ]
      },
      {
       "output_type": "stream",
       "stream": "stdout",
       "text": [
        " 1053859\n",
        "no office data"
       ]
      },
      {
       "output_type": "stream",
       "stream": "stdout",
       "text": [
        " 1370429\n",
        "no office data"
       ]
      },
      {
       "output_type": "stream",
       "stream": "stdout",
       "text": [
        " 1400365\n",
        "no office data"
       ]
      },
      {
       "output_type": "stream",
       "stream": "stdout",
       "text": [
        " 1418781\n",
        "no office data"
       ]
      },
      {
       "output_type": "stream",
       "stream": "stdout",
       "text": [
        " 1279955\n",
        "no office data"
       ]
      },
      {
       "output_type": "stream",
       "stream": "stdout",
       "text": [
        " 1414827\n",
        "no office data"
       ]
      },
      {
       "output_type": "stream",
       "stream": "stdout",
       "text": [
        " 1425244\n",
        "no office data"
       ]
      },
      {
       "output_type": "stream",
       "stream": "stdout",
       "text": [
        " 1052027\n",
        "no office data"
       ]
      },
      {
       "output_type": "stream",
       "stream": "stdout",
       "text": [
        " 1264906\n",
        "no office data"
       ]
      },
      {
       "output_type": "stream",
       "stream": "stdout",
       "text": [
        " 1239444\n",
        "no office data"
       ]
      },
      {
       "output_type": "stream",
       "stream": "stdout",
       "text": [
        " 1568866\n",
        "no office data"
       ]
      },
      {
       "output_type": "stream",
       "stream": "stdout",
       "text": [
        " 1442008\n",
        "Finished:"
       ]
      },
      {
       "output_type": "stream",
       "stream": "stdout",
       "text": [
        " 6200 ----------------------\n",
        "no office data"
       ]
      },
      {
       "output_type": "stream",
       "stream": "stdout",
       "text": [
        " 0962764\n",
        "no office data"
       ]
      },
      {
       "output_type": "stream",
       "stream": "stdout",
       "text": [
        " 1043852\n",
        "no office data"
       ]
      },
      {
       "output_type": "stream",
       "stream": "stdout",
       "text": [
        " 1506990\n",
        "no office data"
       ]
      },
      {
       "output_type": "stream",
       "stream": "stdout",
       "text": [
        " 1037090\n",
        "no office data"
       ]
      },
      {
       "output_type": "stream",
       "stream": "stdout",
       "text": [
        " 1247658\n",
        "no office data"
       ]
      },
      {
       "output_type": "stream",
       "stream": "stdout",
       "text": [
        " 1417032\n",
        "no office data"
       ]
      },
      {
       "output_type": "stream",
       "stream": "stdout",
       "text": [
        " 1299653\n",
        "no office data"
       ]
      },
      {
       "output_type": "stream",
       "stream": "stdout",
       "text": [
        " 0453501\n",
        "no office data"
       ]
      },
      {
       "output_type": "stream",
       "stream": "stdout",
       "text": [
        " 0810821\n",
        "no office data"
       ]
      },
      {
       "output_type": "stream",
       "stream": "stdout",
       "text": [
        " 1430622\n",
        "no office data"
       ]
      },
      {
       "output_type": "stream",
       "stream": "stdout",
       "text": [
        " 1262877\n",
        "no office data"
       ]
      },
      {
       "output_type": "stream",
       "stream": "stdout",
       "text": [
        " 1425938\n",
        "no office data"
       ]
      },
      {
       "output_type": "stream",
       "stream": "stdout",
       "text": [
        " 1335977\n",
        "no office data"
       ]
      },
      {
       "output_type": "stream",
       "stream": "stdout",
       "text": [
        " 1258123\n",
        "no office data"
       ]
      },
      {
       "output_type": "stream",
       "stream": "stdout",
       "text": [
        " 1177094\n",
        "no office data"
       ]
      },
      {
       "output_type": "stream",
       "stream": "stdout",
       "text": [
        " 1422191\n",
        "no office data"
       ]
      },
      {
       "output_type": "stream",
       "stream": "stdout",
       "text": [
        " 1298648\n",
        "no office data"
       ]
      },
      {
       "output_type": "stream",
       "stream": "stdout",
       "text": [
        " 1483803\n",
        "no office data"
       ]
      },
      {
       "output_type": "stream",
       "stream": "stdout",
       "text": [
        " 1389762\n",
        "no office data"
       ]
      },
      {
       "output_type": "stream",
       "stream": "stdout",
       "text": [
        " 1305796\n",
        "no office data"
       ]
      },
      {
       "output_type": "stream",
       "stream": "stdout",
       "text": [
        " 1489263\n",
        "no office data"
       ]
      },
      {
       "output_type": "stream",
       "stream": "stdout",
       "text": [
        " 1369845\n",
        "no office data"
       ]
      },
      {
       "output_type": "stream",
       "stream": "stdout",
       "text": [
        " 1369845\n",
        "no office data"
       ]
      },
      {
       "output_type": "stream",
       "stream": "stdout",
       "text": [
        " 1322315\n",
        "no office data"
       ]
      },
      {
       "output_type": "stream",
       "stream": "stdout",
       "text": [
        " 1267493\n",
        "no office data"
       ]
      },
      {
       "output_type": "stream",
       "stream": "stdout",
       "text": [
        " 0948547\n",
        "no office data"
       ]
      },
      {
       "output_type": "stream",
       "stream": "stdout",
       "text": [
        " 1488177\n",
        "no office data"
       ]
      },
      {
       "output_type": "stream",
       "stream": "stdout",
       "text": [
        " 1042916\n",
        "no office data"
       ]
      },
      {
       "output_type": "stream",
       "stream": "stdout",
       "text": [
        " 1387252\n",
        "no office data"
       ]
      },
      {
       "output_type": "stream",
       "stream": "stdout",
       "text": [
        " 1362500\n",
        "no office data"
       ]
      },
      {
       "output_type": "stream",
       "stream": "stdout",
       "text": [
        " 1362500\n",
        "no office data"
       ]
      },
      {
       "output_type": "stream",
       "stream": "stdout",
       "text": [
        " 1365441\n",
        "no office data"
       ]
      },
      {
       "output_type": "stream",
       "stream": "stdout",
       "text": [
        " 1323977\n",
        "no office data"
       ]
      },
      {
       "output_type": "stream",
       "stream": "stdout",
       "text": [
        " 0486619\n",
        "Finished:"
       ]
      },
      {
       "output_type": "stream",
       "stream": "stdout",
       "text": [
        " 6300 ----------------------\n",
        "no office data"
       ]
      },
      {
       "output_type": "stream",
       "stream": "stdout",
       "text": [
        " 1276110\n",
        "no office data"
       ]
      },
      {
       "output_type": "stream",
       "stream": "stdout",
       "text": [
        " 1019454\n",
        "no office data"
       ]
      },
      {
       "output_type": "stream",
       "stream": "stdout",
       "text": [
        " 1019454\n",
        "no office data"
       ]
      },
      {
       "output_type": "stream",
       "stream": "stdout",
       "text": [
        " 1104814\n",
        "no office data"
       ]
      },
      {
       "output_type": "stream",
       "stream": "stdout",
       "text": [
        " 1331022\n",
        "no office data"
       ]
      },
      {
       "output_type": "stream",
       "stream": "stdout",
       "text": [
        " 1417299\n",
        "no office data"
       ]
      },
      {
       "output_type": "stream",
       "stream": "stdout",
       "text": [
        " 1286765\n",
        "no office data"
       ]
      },
      {
       "output_type": "stream",
       "stream": "stdout",
       "text": [
        " 1075749\n",
        "no office data"
       ]
      },
      {
       "output_type": "stream",
       "stream": "stdout",
       "text": [
        " 0486615\n",
        "no office data"
       ]
      },
      {
       "output_type": "stream",
       "stream": "stdout",
       "text": [
        " 1383252\n",
        "no office data"
       ]
      },
      {
       "output_type": "stream",
       "stream": "stdout",
       "text": [
        " 1210071\n",
        "no office data"
       ]
      },
      {
       "output_type": "stream",
       "stream": "stdout",
       "text": [
        " 1227170\n",
        "no office data"
       ]
      },
      {
       "output_type": "stream",
       "stream": "stdout",
       "text": [
        " 1201557\n",
        "no office data"
       ]
      },
      {
       "output_type": "stream",
       "stream": "stdout",
       "text": [
        " 1459467\n",
        "no office data"
       ]
      },
      {
       "output_type": "stream",
       "stream": "stdout",
       "text": [
        " 1157601\n",
        "no office data"
       ]
      },
      {
       "output_type": "stream",
       "stream": "stdout",
       "text": [
        " 0477050\n",
        "no office data"
       ]
      },
      {
       "output_type": "stream",
       "stream": "stdout",
       "text": [
        " 1241316\n",
        "no office data"
       ]
      },
      {
       "output_type": "stream",
       "stream": "stdout",
       "text": [
        " 1297945\n",
        "no office data"
       ]
      },
      {
       "output_type": "stream",
       "stream": "stdout",
       "text": [
        " 1522329\n",
        "no office data"
       ]
      },
      {
       "output_type": "stream",
       "stream": "stdout",
       "text": [
        " 1213825\n",
        "no office data"
       ]
      },
      {
       "output_type": "stream",
       "stream": "stdout",
       "text": [
        " 1391469\n",
        "no office data"
       ]
      },
      {
       "output_type": "stream",
       "stream": "stdout",
       "text": [
        " 1470576\n",
        "no office data"
       ]
      },
      {
       "output_type": "stream",
       "stream": "stdout",
       "text": [
        " 1170350\n",
        "no office data"
       ]
      },
      {
       "output_type": "stream",
       "stream": "stdout",
       "text": [
        " 1511525\n",
        "no office data"
       ]
      },
      {
       "output_type": "stream",
       "stream": "stdout",
       "text": [
        " 1511525\n",
        "no office data"
       ]
      },
      {
       "output_type": "stream",
       "stream": "stdout",
       "text": [
        " 1562328\n",
        "no office data"
       ]
      },
      {
       "output_type": "stream",
       "stream": "stdout",
       "text": [
        " 1569364\n",
        "no office data"
       ]
      },
      {
       "output_type": "stream",
       "stream": "stdout",
       "text": [
        " 1680306\n",
        "no office data"
       ]
      },
      {
       "output_type": "stream",
       "stream": "stdout",
       "text": [
        " 1451797\n",
        "no office data"
       ]
      },
      {
       "output_type": "stream",
       "stream": "stdout",
       "text": [
        " 1172998\n",
        "no office data"
       ]
      },
      {
       "output_type": "stream",
       "stream": "stdout",
       "text": [
        " 0936471\n",
        "no office data"
       ]
      },
      {
       "output_type": "stream",
       "stream": "stdout",
       "text": [
        " 0951335\n",
        "no office data"
       ]
      },
      {
       "output_type": "stream",
       "stream": "stdout",
       "text": [
        " 1251735\n",
        "no office data"
       ]
      },
      {
       "output_type": "stream",
       "stream": "stdout",
       "text": [
        " 1421376\n",
        "no office data"
       ]
      },
      {
       "output_type": "stream",
       "stream": "stdout",
       "text": [
        " 1569465\n",
        "Finished:"
       ]
      },
      {
       "output_type": "stream",
       "stream": "stdout",
       "text": [
        " 6400 ----------------------\n",
        "no office data"
       ]
      },
      {
       "output_type": "stream",
       "stream": "stdout",
       "text": [
        " 1301990\n",
        "no office data"
       ]
      },
      {
       "output_type": "stream",
       "stream": "stdout",
       "text": [
        " 1421036\n",
        "no office data"
       ]
      },
      {
       "output_type": "stream",
       "stream": "stdout",
       "text": [
        " 1300159\n",
        "no office data"
       ]
      },
      {
       "output_type": "stream",
       "stream": "stdout",
       "text": [
        " 1333117\n",
        "no office data"
       ]
      },
      {
       "output_type": "stream",
       "stream": "stdout",
       "text": [
        " 1568926\n",
        "no office data"
       ]
      },
      {
       "output_type": "stream",
       "stream": "stdout",
       "text": [
        " 1572168\n",
        "no office data"
       ]
      },
      {
       "output_type": "stream",
       "stream": "stdout",
       "text": [
        " 2042633\n",
        "no office data"
       ]
      },
      {
       "output_type": "stream",
       "stream": "stdout",
       "text": [
        " 1319718\n",
        "no office data"
       ]
      },
      {
       "output_type": "stream",
       "stream": "stdout",
       "text": [
        " 1578116\n",
        "no office data"
       ]
      },
      {
       "output_type": "stream",
       "stream": "stdout",
       "text": [
        " 1480660\n",
        "no office data"
       ]
      },
      {
       "output_type": "stream",
       "stream": "stdout",
       "text": [
        " 1535491\n",
        "no office data"
       ]
      },
      {
       "output_type": "stream",
       "stream": "stdout",
       "text": [
        " 1570982\n",
        "no office data"
       ]
      },
      {
       "output_type": "stream",
       "stream": "stdout",
       "text": [
        " 1604555\n",
        "no office data"
       ]
      },
      {
       "output_type": "stream",
       "stream": "stdout",
       "text": [
        " 1406175\n",
        "no office data"
       ]
      },
      {
       "output_type": "stream",
       "stream": "stdout",
       "text": [
        " 1519640\n",
        "no office data"
       ]
      },
      {
       "output_type": "stream",
       "stream": "stdout",
       "text": [
        " 1381505\n",
        "no office data"
       ]
      },
      {
       "output_type": "stream",
       "stream": "stdout",
       "text": [
        " 1437367\n",
        "no office data"
       ]
      },
      {
       "output_type": "stream",
       "stream": "stdout",
       "text": [
        " 1285240\n",
        "no office data"
       ]
      },
      {
       "output_type": "stream",
       "stream": "stdout",
       "text": [
        " 1465493\n",
        "no office data"
       ]
      },
      {
       "output_type": "stream",
       "stream": "stdout",
       "text": [
        " 1572190\n",
        "no office data"
       ]
      },
      {
       "output_type": "stream",
       "stream": "stdout",
       "text": [
        " 1590252\n",
        "no office data"
       ]
      },
      {
       "output_type": "stream",
       "stream": "stdout",
       "text": [
        " 1368439\n",
        "no office data"
       ]
      },
      {
       "output_type": "stream",
       "stream": "stdout",
       "text": [
        " 1186795\n",
        "no office data"
       ]
      },
      {
       "output_type": "stream",
       "stream": "stdout",
       "text": [
        " 1415228\n",
        "no office data"
       ]
      },
      {
       "output_type": "stream",
       "stream": "stdout",
       "text": [
        " 1349478\n",
        "no office data"
       ]
      },
      {
       "output_type": "stream",
       "stream": "stdout",
       "text": [
        " 1414835\n",
        "no office data"
       ]
      },
      {
       "output_type": "stream",
       "stream": "stdout",
       "text": [
        " 1270291\n",
        "no office data"
       ]
      },
      {
       "output_type": "stream",
       "stream": "stdout",
       "text": [
        " 1283887\n",
        "no office data"
       ]
      },
      {
       "output_type": "stream",
       "stream": "stdout",
       "text": [
        " 1283887\n",
        "no office data"
       ]
      },
      {
       "output_type": "stream",
       "stream": "stdout",
       "text": [
        " 1603362\n",
        "no office data"
       ]
      },
      {
       "output_type": "stream",
       "stream": "stdout",
       "text": [
        " 1411782\n",
        "no office data"
       ]
      },
      {
       "output_type": "stream",
       "stream": "stdout",
       "text": [
        " 1602476\n",
        "no office data"
       ]
      },
      {
       "output_type": "stream",
       "stream": "stdout",
       "text": [
        " 0187412\n",
        "Finished:"
       ]
      },
      {
       "output_type": "stream",
       "stream": "stdout",
       "text": [
        " 6500 ----------------------\n",
        "no office data"
       ]
      },
      {
       "output_type": "stream",
       "stream": "stdout",
       "text": [
        " 1662514\n",
        "no office data"
       ]
      },
      {
       "output_type": "stream",
       "stream": "stdout",
       "text": [
        " 1682949\n",
        "no office data"
       ]
      },
      {
       "output_type": "stream",
       "stream": "stdout",
       "text": [
        " 1517160\n",
        "no office data"
       ]
      },
      {
       "output_type": "stream",
       "stream": "stdout",
       "text": [
        " 1552436\n",
        "no office data"
       ]
      },
      {
       "output_type": "stream",
       "stream": "stdout",
       "text": [
        " 1452626\n",
        "no office data"
       ]
      },
      {
       "output_type": "stream",
       "stream": "stdout",
       "text": [
        " 1450140\n",
        "no office data"
       ]
      },
      {
       "output_type": "stream",
       "stream": "stdout",
       "text": [
        " 1814819\n",
        "no office data"
       ]
      },
      {
       "output_type": "stream",
       "stream": "stdout",
       "text": [
        " 1451762\n",
        "no office data"
       ]
      },
      {
       "output_type": "stream",
       "stream": "stdout",
       "text": [
        " 1646876\n",
        "no office data"
       ]
      },
      {
       "output_type": "stream",
       "stream": "stdout",
       "text": [
        " 1611823\n",
        "no office data"
       ]
      },
      {
       "output_type": "stream",
       "stream": "stdout",
       "text": [
        " 1212453\n",
        "no office data"
       ]
      },
      {
       "output_type": "stream",
       "stream": "stdout",
       "text": [
        " 1612608\n",
        "no office data"
       ]
      },
      {
       "output_type": "stream",
       "stream": "stdout",
       "text": [
        " 1425933\n",
        "no office data"
       ]
      },
      {
       "output_type": "stream",
       "stream": "stdout",
       "text": [
        " 1136688\n",
        "no office data"
       ]
      },
      {
       "output_type": "stream",
       "stream": "stdout",
       "text": [
        " 1586740\n",
        "no office data"
       ]
      },
      {
       "output_type": "stream",
       "stream": "stdout",
       "text": [
        " 1437354\n",
        "no office data"
       ]
      },
      {
       "output_type": "stream",
       "stream": "stdout",
       "text": [
        " 1606600\n",
        "no office data"
       ]
      },
      {
       "output_type": "stream",
       "stream": "stdout",
       "text": [
        " 1380995\n",
        "no office data"
       ]
      },
      {
       "output_type": "stream",
       "stream": "stdout",
       "text": [
        " 0496698\n",
        "no office data"
       ]
      },
      {
       "output_type": "stream",
       "stream": "stdout",
       "text": [
        " 1675197\n",
        "no office data"
       ]
      },
      {
       "output_type": "stream",
       "stream": "stdout",
       "text": [
        " 1606267\n",
        "no office data"
       ]
      },
      {
       "output_type": "stream",
       "stream": "stdout",
       "text": [
        " 1376699\n",
        "no office data"
       ]
      },
      {
       "output_type": "stream",
       "stream": "stdout",
       "text": [
        " 1719497\n",
        "Finished:"
       ]
      },
      {
       "output_type": "stream",
       "stream": "stdout",
       "text": [
        " 6600 ----------------------\n",
        "no office data"
       ]
      },
      {
       "output_type": "stream",
       "stream": "stdout",
       "text": [
        " 0970926\n",
        "no office data"
       ]
      },
      {
       "output_type": "stream",
       "stream": "stdout",
       "text": [
        " 1636459\n",
        "no office data"
       ]
      },
      {
       "output_type": "stream",
       "stream": "stdout",
       "text": [
        " 1636459\n",
        "no office data"
       ]
      },
      {
       "output_type": "stream",
       "stream": "stdout",
       "text": [
        " 1261393\n",
        "no office data"
       ]
      },
      {
       "output_type": "stream",
       "stream": "stdout",
       "text": [
        " 1451423\n",
        "no office data"
       ]
      },
      {
       "output_type": "stream",
       "stream": "stdout",
       "text": [
        " 1540803\n",
        "no office data"
       ]
      },
      {
       "output_type": "stream",
       "stream": "stdout",
       "text": [
        " 1773083\n",
        "no office data"
       ]
      },
      {
       "output_type": "stream",
       "stream": "stdout",
       "text": [
        " 1454505\n",
        "no office data"
       ]
      },
      {
       "output_type": "stream",
       "stream": "stdout",
       "text": [
        " 1627942\n",
        "no office data"
       ]
      },
      {
       "output_type": "stream",
       "stream": "stdout",
       "text": [
        " 1782440\n",
        "no office data"
       ]
      },
      {
       "output_type": "stream",
       "stream": "stdout",
       "text": [
        " 1810618\n",
        "no office data"
       ]
      },
      {
       "output_type": "stream",
       "stream": "stdout",
       "text": [
        " 2091404\n",
        "no office data"
       ]
      },
      {
       "output_type": "stream",
       "stream": "stdout",
       "text": [
        " 1620604\n",
        "Finished:"
       ]
      },
      {
       "output_type": "stream",
       "stream": "stdout",
       "text": [
        " 6700 ----------------------\n",
        "no office data"
       ]
      },
      {
       "output_type": "stream",
       "stream": "stdout",
       "text": [
        " 1289397\n",
        "no office data"
       ]
      },
      {
       "output_type": "stream",
       "stream": "stdout",
       "text": [
        " 1621994\n",
        "no office data"
       ]
      },
      {
       "output_type": "stream",
       "stream": "stdout",
       "text": [
        " 1669850\n",
        "no office data"
       ]
      },
      {
       "output_type": "stream",
       "stream": "stdout",
       "text": [
        " 1621433\n",
        "no office data"
       ]
      },
      {
       "output_type": "stream",
       "stream": "stdout",
       "text": [
        " 1700258\n",
        "no office data"
       ]
      },
      {
       "output_type": "stream",
       "stream": "stdout",
       "text": [
        " 1847645\n",
        "no office data"
       ]
      },
      {
       "output_type": "stream",
       "stream": "stdout",
       "text": [
        " 1754920\n",
        "no office data"
       ]
      },
      {
       "output_type": "stream",
       "stream": "stdout",
       "text": [
        " 1645769\n",
        "no office data"
       ]
      },
      {
       "output_type": "stream",
       "stream": "stdout",
       "text": [
        " 1682246\n",
        "no office data"
       ]
      },
      {
       "output_type": "stream",
       "stream": "stdout",
       "text": [
        " 1658501\n",
        "no office data"
       ]
      },
      {
       "output_type": "stream",
       "stream": "stdout",
       "text": [
        " 1242423\n",
        "no office data"
       ]
      },
      {
       "output_type": "stream",
       "stream": "stdout",
       "text": [
        " 1776143\n",
        "no office data"
       ]
      },
      {
       "output_type": "stream",
       "stream": "stdout",
       "text": [
        " 1343738\n",
        "no office data"
       ]
      },
      {
       "output_type": "stream",
       "stream": "stdout",
       "text": [
        " 1831829\n",
        "no office data"
       ]
      },
      {
       "output_type": "stream",
       "stream": "stdout",
       "text": [
        " 1111313\n",
        "no office data"
       ]
      },
      {
       "output_type": "stream",
       "stream": "stdout",
       "text": [
        " 1699225\n",
        "no office data"
       ]
      },
      {
       "output_type": "stream",
       "stream": "stdout",
       "text": [
        " 1173687\n",
        "no office data"
       ]
      },
      {
       "output_type": "stream",
       "stream": "stdout",
       "text": [
        " 1413489\n",
        "no office data"
       ]
      },
      {
       "output_type": "stream",
       "stream": "stdout",
       "text": [
        " 0258787\n",
        "no office data"
       ]
      },
      {
       "output_type": "stream",
       "stream": "stdout",
       "text": [
        " 1597091\n",
        "no office data"
       ]
      },
      {
       "output_type": "stream",
       "stream": "stdout",
       "text": [
        " 1087461\n",
        "no office data"
       ]
      },
      {
       "output_type": "stream",
       "stream": "stdout",
       "text": [
        " 1785389\n",
        "no office data"
       ]
      },
      {
       "output_type": "stream",
       "stream": "stdout",
       "text": [
        " 1858476\n",
        "no office data"
       ]
      },
      {
       "output_type": "stream",
       "stream": "stdout",
       "text": [
        " 1567233\n",
        "Finished:"
       ]
      },
      {
       "output_type": "stream",
       "stream": "stdout",
       "text": [
        " 6800 ----------------------\n",
        "no office data"
       ]
      },
      {
       "output_type": "stream",
       "stream": "stdout",
       "text": [
        " 1946280\n",
        "no office data"
       ]
      },
      {
       "output_type": "stream",
       "stream": "stdout",
       "text": [
        " 1545022\n",
        "no office data"
       ]
      },
      {
       "output_type": "stream",
       "stream": "stdout",
       "text": [
        " 1403047\n",
        "no office data"
       ]
      },
      {
       "output_type": "stream",
       "stream": "stdout",
       "text": [
        " 1922555\n",
        "no office data"
       ]
      },
      {
       "output_type": "stream",
       "stream": "stdout",
       "text": [
        " 1425618\n",
        "no office data"
       ]
      },
      {
       "output_type": "stream",
       "stream": "stdout",
       "text": [
        " 1051213\n",
        "no office data"
       ]
      },
      {
       "output_type": "stream",
       "stream": "stdout",
       "text": [
        " 2070649\n",
        "Finished:"
       ]
      },
      {
       "output_type": "stream",
       "stream": "stdout",
       "text": [
        " 6900 ----------------------\n",
        "no office data"
       ]
      },
      {
       "output_type": "stream",
       "stream": "stdout",
       "text": [
        " 0807028\n",
        "no office data"
       ]
      },
      {
       "output_type": "stream",
       "stream": "stdout",
       "text": [
        " 0926036\n",
        "no office data"
       ]
      },
      {
       "output_type": "stream",
       "stream": "stdout",
       "text": [
        " 1083462\n",
        "no office data"
       ]
      },
      {
       "output_type": "stream",
       "stream": "stdout",
       "text": [
        " 2066832\n",
        "no office data"
       ]
      },
      {
       "output_type": "stream",
       "stream": "stdout",
       "text": [
        " 1247683\n",
        "no office data"
       ]
      },
      {
       "output_type": "stream",
       "stream": "stdout",
       "text": [
        " 1542488\n",
        "no office data"
       ]
      },
      {
       "output_type": "stream",
       "stream": "stdout",
       "text": [
        " 1758576\n",
        "no office data"
       ]
      },
      {
       "output_type": "stream",
       "stream": "stdout",
       "text": [
        " 1321861\n",
        "no office data"
       ]
      },
      {
       "output_type": "stream",
       "stream": "stdout",
       "text": [
        " 1507564\n",
        "no office data"
       ]
      },
      {
       "output_type": "stream",
       "stream": "stdout",
       "text": [
        " 1783331\n",
        "no office data"
       ]
      },
      {
       "output_type": "stream",
       "stream": "stdout",
       "text": [
        " 2011076\n",
        "no office data"
       ]
      },
      {
       "output_type": "stream",
       "stream": "stdout",
       "text": [
        " 1454505\n",
        "no office data"
       ]
      },
      {
       "output_type": "stream",
       "stream": "stdout",
       "text": [
        " 2168820\n",
        "no office data"
       ]
      },
      {
       "output_type": "stream",
       "stream": "stdout",
       "text": [
        " 1890472\n",
        "no office data"
       ]
      },
      {
       "output_type": "stream",
       "stream": "stdout",
       "text": [
        " 1441855\n",
        "no office data"
       ]
      },
      {
       "output_type": "stream",
       "stream": "stdout",
       "text": [
        " 2112287\n",
        "no office data"
       ]
      },
      {
       "output_type": "stream",
       "stream": "stdout",
       "text": [
        " 2082221\n",
        "no office data"
       ]
      },
      {
       "output_type": "stream",
       "stream": "stdout",
       "text": [
        " 0859635\n",
        "no office data"
       ]
      },
      {
       "output_type": "stream",
       "stream": "stdout",
       "text": [
        " 1821480\n",
        "Finished:"
       ]
      },
      {
       "output_type": "stream",
       "stream": "stdout",
       "text": [
        " 7000 ----------------------\n",
        "no office data"
       ]
      },
      {
       "output_type": "stream",
       "stream": "stdout",
       "text": [
        " 1109574\n",
        "no office data"
       ]
      },
      {
       "output_type": "stream",
       "stream": "stdout",
       "text": [
        " 2256843\n",
        "no office data"
       ]
      },
      {
       "output_type": "stream",
       "stream": "stdout",
       "text": [
        " 1701990\n",
        "no office data"
       ]
      },
      {
       "output_type": "stream",
       "stream": "stdout",
       "text": [
        " 1922736\n",
        "no office data"
       ]
      },
      {
       "output_type": "stream",
       "stream": "stdout",
       "text": [
        " 2120160\n",
        "no office data"
       ]
      },
      {
       "output_type": "stream",
       "stream": "stdout",
       "text": [
        " 2241069\n",
        "no office data"
       ]
      },
      {
       "output_type": "stream",
       "stream": "stdout",
       "text": [
        " 1631707\n",
        "no office data"
       ]
      },
      {
       "output_type": "stream",
       "stream": "stdout",
       "text": [
        " 2062661\n",
        "no office data"
       ]
      },
      {
       "output_type": "stream",
       "stream": "stdout",
       "text": [
        " 2171983\n",
        "no office data"
       ]
      },
      {
       "output_type": "stream",
       "stream": "stdout",
       "text": [
        " 2180335\n",
        "no office data"
       ]
      },
      {
       "output_type": "stream",
       "stream": "stdout",
       "text": [
        " 1853556\n",
        "no office data"
       ]
      },
      {
       "output_type": "stream",
       "stream": "stdout",
       "text": [
        " 1863323\n",
        "no office data"
       ]
      },
      {
       "output_type": "stream",
       "stream": "stdout",
       "text": [
        " 1701215\n",
        "no office data"
       ]
      },
      {
       "output_type": "stream",
       "stream": "stdout",
       "text": [
        " 2244697\n",
        "no office data"
       ]
      },
      {
       "output_type": "stream",
       "stream": "stdout",
       "text": [
        " 1615480\n",
        "no office data"
       ]
      },
      {
       "output_type": "stream",
       "stream": "stdout",
       "text": [
        " 1615480\n",
        "no office data"
       ]
      },
      {
       "output_type": "stream",
       "stream": "stdout",
       "text": [
        " 1562264\n",
        "no office data"
       ]
      },
      {
       "output_type": "stream",
       "stream": "stdout",
       "text": [
        " 1815874\n",
        "no office data"
       ]
      },
      {
       "output_type": "stream",
       "stream": "stdout",
       "text": [
        " 1500761\n",
        "no office data"
       ]
      },
      {
       "output_type": "stream",
       "stream": "stdout",
       "text": [
        " 1942884\n",
        "no office data"
       ]
      },
      {
       "output_type": "stream",
       "stream": "stdout",
       "text": [
        " 2258337\n",
        "no office data"
       ]
      },
      {
       "output_type": "stream",
       "stream": "stdout",
       "text": [
        " 2094155\n",
        "no office data"
       ]
      },
      {
       "output_type": "stream",
       "stream": "stdout",
       "text": [
        " 2401225\n",
        "no office data"
       ]
      },
      {
       "output_type": "stream",
       "stream": "stdout",
       "text": [
        " 1876360\n",
        "no office data"
       ]
      },
      {
       "output_type": "stream",
       "stream": "stdout",
       "text": [
        " 1699221\n",
        "no office data"
       ]
      },
      {
       "output_type": "stream",
       "stream": "stdout",
       "text": [
        " 1591071\n",
        "Finished:"
       ]
      },
      {
       "output_type": "stream",
       "stream": "stdout",
       "text": [
        " 7100 ----------------------\n",
        "no office data"
       ]
      },
      {
       "output_type": "stream",
       "stream": "stdout",
       "text": [
        " 2196254\n",
        "no office data"
       ]
      },
      {
       "output_type": "stream",
       "stream": "stdout",
       "text": [
        " 1667130\n",
        "no office data"
       ]
      },
      {
       "output_type": "stream",
       "stream": "stdout",
       "text": [
        " 2082415\n",
        "no office data"
       ]
      },
      {
       "output_type": "stream",
       "stream": "stdout",
       "text": [
        " 2266938\n",
        "no office data"
       ]
      },
      {
       "output_type": "stream",
       "stream": "stdout",
       "text": [
        " 2321141\n",
        "no office data"
       ]
      },
      {
       "output_type": "stream",
       "stream": "stdout",
       "text": [
        " 1744662\n",
        "no office data"
       ]
      },
      {
       "output_type": "stream",
       "stream": "stdout",
       "text": [
        " 2056694\n",
        "no office data"
       ]
      },
      {
       "output_type": "stream",
       "stream": "stdout",
       "text": [
        " 2126362\n",
        "no office data"
       ]
      },
      {
       "output_type": "stream",
       "stream": "stdout",
       "text": [
        " 1885300\n",
        "no office data"
       ]
      },
      {
       "output_type": "stream",
       "stream": "stdout",
       "text": [
        " 2076862\n",
        "no office data"
       ]
      },
      {
       "output_type": "stream",
       "stream": "stdout",
       "text": [
        " 2445690\n",
        "no office data"
       ]
      },
      {
       "output_type": "stream",
       "stream": "stdout",
       "text": [
        " 2255934\n",
        "no office data"
       ]
      },
      {
       "output_type": "stream",
       "stream": "stdout",
       "text": [
        " 1598435\n",
        "no office data"
       ]
      },
      {
       "output_type": "stream",
       "stream": "stdout",
       "text": [
        " 2341664\n",
        "no office data"
       ]
      },
      {
       "output_type": "stream",
       "stream": "stdout",
       "text": [
        " 2222550\n",
        "no office data"
       ]
      },
      {
       "output_type": "stream",
       "stream": "stdout",
       "text": [
        " 1559036\n",
        "no office data"
       ]
      },
      {
       "output_type": "stream",
       "stream": "stdout",
       "text": [
        " 1957867\n",
        "no office data"
       ]
      },
      {
       "output_type": "stream",
       "stream": "stdout",
       "text": [
        " 2111478\n",
        "no office data"
       ]
      },
      {
       "output_type": "stream",
       "stream": "stdout",
       "text": [
        " 2111478\n",
        "Finished:"
       ]
      },
      {
       "output_type": "stream",
       "stream": "stdout",
       "text": [
        " 7200 ----------------------\n",
        "no office data"
       ]
      },
      {
       "output_type": "stream",
       "stream": "stdout",
       "text": [
        " 2296895\n",
        "no office data"
       ]
      },
      {
       "output_type": "stream",
       "stream": "stdout",
       "text": [
        " 1931602\n",
        "no office data"
       ]
      },
      {
       "output_type": "stream",
       "stream": "stdout",
       "text": [
        " 2091318\n",
        "no office data"
       ]
      },
      {
       "output_type": "stream",
       "stream": "stdout",
       "text": [
        " 2119383\n",
        "no office data"
       ]
      },
      {
       "output_type": "stream",
       "stream": "stdout",
       "text": [
        " 2119383\n",
        "no office data"
       ]
      },
      {
       "output_type": "stream",
       "stream": "stdout",
       "text": [
        " 2081311\n",
        "no office data"
       ]
      },
      {
       "output_type": "stream",
       "stream": "stdout",
       "text": [
        " 2296935\n",
        "no office data"
       ]
      },
      {
       "output_type": "stream",
       "stream": "stdout",
       "text": [
        " 2313398\n",
        "no office data"
       ]
      },
      {
       "output_type": "stream",
       "stream": "stdout",
       "text": [
        " 2081194\n",
        "no office data"
       ]
      },
      {
       "output_type": "stream",
       "stream": "stdout",
       "text": [
        " 2723050\n",
        "no office data"
       ]
      },
      {
       "output_type": "stream",
       "stream": "stdout",
       "text": [
        " 2429640\n",
        "no office data"
       ]
      },
      {
       "output_type": "stream",
       "stream": "stdout",
       "text": [
        " 1909287\n",
        "no office data"
       ]
      },
      {
       "output_type": "stream",
       "stream": "stdout",
       "text": [
        " 2312602\n",
        "no office data"
       ]
      },
      {
       "output_type": "stream",
       "stream": "stdout",
       "text": [
        " 1329177\n",
        "no office data"
       ]
      },
      {
       "output_type": "stream",
       "stream": "stdout",
       "text": [
        " 1329177\n",
        "no office data"
       ]
      },
      {
       "output_type": "stream",
       "stream": "stdout",
       "text": [
        " 1928338\n",
        "no office data"
       ]
      },
      {
       "output_type": "stream",
       "stream": "stdout",
       "text": [
        " 2795414\n",
        "no office data"
       ]
      },
      {
       "output_type": "stream",
       "stream": "stdout",
       "text": [
        " 1995346\n",
        "no office data"
       ]
      },
      {
       "output_type": "stream",
       "stream": "stdout",
       "text": [
        " 1838475\n",
        "no office data"
       ]
      },
      {
       "output_type": "stream",
       "stream": "stdout",
       "text": [
        " 2330654\n",
        "no office data"
       ]
      },
      {
       "output_type": "stream",
       "stream": "stdout",
       "text": [
        " 2083231\n",
        "no office data"
       ]
      },
      {
       "output_type": "stream",
       "stream": "stdout",
       "text": [
        " 2126403\n",
        "no office data"
       ]
      },
      {
       "output_type": "stream",
       "stream": "stdout",
       "text": [
        " 1986040\n",
        "no office data"
       ]
      },
      {
       "output_type": "stream",
       "stream": "stdout",
       "text": [
        " 1711016\n",
        "no office data"
       ]
      },
      {
       "output_type": "stream",
       "stream": "stdout",
       "text": [
        " 1426363\n",
        "no office data"
       ]
      },
      {
       "output_type": "stream",
       "stream": "stdout",
       "text": [
        " 2369333\n",
        "no office data"
       ]
      },
      {
       "output_type": "stream",
       "stream": "stdout",
       "text": [
        " 2401866\n",
        "Finished:"
       ]
      },
      {
       "output_type": "stream",
       "stream": "stdout",
       "text": [
        " 7300 ----------------------\n",
        "no office data"
       ]
      },
      {
       "output_type": "stream",
       "stream": "stdout",
       "text": [
        " 2401007\n",
        "no office data"
       ]
      },
      {
       "output_type": "stream",
       "stream": "stdout",
       "text": [
        " 2507280\n",
        "no office data"
       ]
      },
      {
       "output_type": "stream",
       "stream": "stdout",
       "text": [
        " 2370244\n",
        "no office data"
       ]
      },
      {
       "output_type": "stream",
       "stream": "stdout",
       "text": [
        " 2956300\n",
        "no office data"
       ]
      },
      {
       "output_type": "stream",
       "stream": "stdout",
       "text": [
        " 2378191\n",
        "no office data"
       ]
      },
      {
       "output_type": "stream",
       "stream": "stdout",
       "text": [
        " 2741122\n",
        "no office data"
       ]
      },
      {
       "output_type": "stream",
       "stream": "stdout",
       "text": [
        " 2741122\n",
        "no office data"
       ]
      },
      {
       "output_type": "stream",
       "stream": "stdout",
       "text": [
        " 2372776\n",
        "no office data"
       ]
      },
      {
       "output_type": "stream",
       "stream": "stdout",
       "text": [
        " 2372776\n",
        "no office data"
       ]
      },
      {
       "output_type": "stream",
       "stream": "stdout",
       "text": [
        " 2882590\n",
        "no office data"
       ]
      },
      {
       "output_type": "stream",
       "stream": "stdout",
       "text": [
        " 2357926\n",
        "no office data"
       ]
      },
      {
       "output_type": "stream",
       "stream": "stdout",
       "text": [
        " 1059836\n",
        "no office data"
       ]
      },
      {
       "output_type": "stream",
       "stream": "stdout",
       "text": [
        " 2402163\n",
        "no office data"
       ]
      },
      {
       "output_type": "stream",
       "stream": "stdout",
       "text": [
        " 2338341\n",
        "no office data"
       ]
      },
      {
       "output_type": "stream",
       "stream": "stdout",
       "text": [
        " 2004432\n",
        "no office data"
       ]
      },
      {
       "output_type": "stream",
       "stream": "stdout",
       "text": [
        " 1854582\n",
        "no office data"
       ]
      },
      {
       "output_type": "stream",
       "stream": "stdout",
       "text": [
        " 2012011\n",
        "no office data"
       ]
      },
      {
       "output_type": "stream",
       "stream": "stdout",
       "text": [
        " 2395970\n",
        "no office data"
       ]
      },
      {
       "output_type": "stream",
       "stream": "stdout",
       "text": [
        " 2140429\n",
        "no office data"
       ]
      },
      {
       "output_type": "stream",
       "stream": "stdout",
       "text": [
        " 1299384\n",
        "no office data"
       ]
      },
      {
       "output_type": "stream",
       "stream": "stdout",
       "text": [
        " 2171867\n",
        "no office data"
       ]
      },
      {
       "output_type": "stream",
       "stream": "stdout",
       "text": [
        " 2403976\n",
        "no office data"
       ]
      },
      {
       "output_type": "stream",
       "stream": "stdout",
       "text": [
        " 2039393\n",
        "no office data"
       ]
      },
      {
       "output_type": "stream",
       "stream": "stdout",
       "text": [
        " 2369396\n",
        "no office data"
       ]
      },
      {
       "output_type": "stream",
       "stream": "stdout",
       "text": [
        " 0400403\n",
        "Finished:"
       ]
      },
      {
       "output_type": "stream",
       "stream": "stdout",
       "text": [
        " 7400 ----------------------\n",
        "no office data"
       ]
      },
      {
       "output_type": "stream",
       "stream": "stdout",
       "text": [
        " 3215356\n",
        "no office data"
       ]
      },
      {
       "output_type": "stream",
       "stream": "stdout",
       "text": [
        " 1185838\n",
        "no office data"
       ]
      },
      {
       "output_type": "stream",
       "stream": "stdout",
       "text": [
        " 2369205\n",
        "no office data"
       ]
      },
      {
       "output_type": "stream",
       "stream": "stdout",
       "text": [
        " 2981768\n",
        "no office data"
       ]
      },
      {
       "output_type": "stream",
       "stream": "stdout",
       "text": [
        " 2551378\n",
        "no office data"
       ]
      },
      {
       "output_type": "stream",
       "stream": "stdout",
       "text": [
        " 1816608\n",
        "no office data"
       ]
      },
      {
       "output_type": "stream",
       "stream": "stdout",
       "text": [
        " 2514894\n",
        "no office data"
       ]
      },
      {
       "output_type": "stream",
       "stream": "stdout",
       "text": [
        " 3210984\n",
        "no office data"
       ]
      },
      {
       "output_type": "stream",
       "stream": "stdout",
       "text": [
        " 2464786\n",
        "no office data"
       ]
      },
      {
       "output_type": "stream",
       "stream": "stdout",
       "text": [
        " 2166616\n",
        "no office data"
       ]
      },
      {
       "output_type": "stream",
       "stream": "stdout",
       "text": [
        " 2499076\n",
        "no office data"
       ]
      },
      {
       "output_type": "stream",
       "stream": "stdout",
       "text": [
        " 3346766\n",
        "no office data"
       ]
      },
      {
       "output_type": "stream",
       "stream": "stdout",
       "text": [
        " 3346766\n",
        "no office data"
       ]
      },
      {
       "output_type": "stream",
       "stream": "stdout",
       "text": [
        " 1951176\n",
        "no office data"
       ]
      },
      {
       "output_type": "stream",
       "stream": "stdout",
       "text": [
        " 1541149\n",
        "no office data"
       ]
      },
      {
       "output_type": "stream",
       "stream": "stdout",
       "text": [
        " 0795459\n",
        "no office data"
       ]
      },
      {
       "output_type": "stream",
       "stream": "stdout",
       "text": [
        " 0795459\n",
        "no office data"
       ]
      },
      {
       "output_type": "stream",
       "stream": "stdout",
       "text": [
        " 1477185\n",
        "no office data"
       ]
      },
      {
       "output_type": "stream",
       "stream": "stdout",
       "text": [
        " 1674776\n",
        "0.624261943103\n"
       ]
      }
     ],
     "prompt_number": 17
    },
    {
     "cell_type": "code",
     "collapsed": false,
     "input": [
      "print \"done\""
     ],
     "language": "python",
     "metadata": {},
     "outputs": [
      {
       "output_type": "stream",
       "stream": "stdout",
       "text": [
        "done\n"
       ]
      }
     ],
     "prompt_number": 18
    },
    {
     "cell_type": "code",
     "collapsed": false,
     "input": [
      "gross_list[6000:7000]"
     ],
     "language": "python",
     "metadata": {},
     "outputs": [
      {
       "metadata": {},
       "output_type": "pyout",
       "prompt_number": 20,
       "text": [
        "[179982968,\n",
        " -1,\n",
        " 127509326,\n",
        " 114053579,\n",
        " 67294270,\n",
        " 31841299,\n",
        " 49554002,\n",
        " 1235028,\n",
        " -1,\n",
        " 17007,\n",
        " -1,\n",
        " 267045,\n",
        " -1,\n",
        " 140244,\n",
        " 77588,\n",
        " -1,\n",
        " -1,\n",
        " -1,\n",
        " -1,\n",
        " -1,\n",
        " -1,\n",
        " -1,\n",
        " -1,\n",
        " -1,\n",
        " 29784,\n",
        " -1,\n",
        " -1,\n",
        " -1,\n",
        " 148095302,\n",
        " 79366978,\n",
        " 97690976,\n",
        " 109993847,\n",
        " 83077833,\n",
        " 69951824,\n",
        " 31316973,\n",
        " 2411071,\n",
        " 22911480,\n",
        " 17303424,\n",
        " 28644813,\n",
        " 50818750,\n",
        " -1,\n",
        " 19781879,\n",
        " -1,\n",
        " 14879423,\n",
        " 7948159,\n",
        " -1,\n",
        " 246574,\n",
        " 26692,\n",
        " 30955,\n",
        " 21878,\n",
        " 143153751,\n",
        " -1,\n",
        " -1,\n",
        " -1,\n",
        " -1,\n",
        " -1,\n",
        " -1,\n",
        " -1,\n",
        " -1,\n",
        " 382258,\n",
        " -1,\n",
        " 146336178,\n",
        " 45802315,\n",
        " 73023275,\n",
        " 51545952,\n",
        " 58715510,\n",
        " 36842118,\n",
        " 27154426,\n",
        " 16734283,\n",
        " 2035566,\n",
        " 920816,\n",
        " -1,\n",
        " 2384044,\n",
        " 41709,\n",
        " 249590,\n",
        " 234422,\n",
        " 206728,\n",
        " -1,\n",
        " -1,\n",
        " -1,\n",
        " -1,\n",
        " 13217,\n",
        " -1,\n",
        " -1,\n",
        " -1,\n",
        " 6764,\n",
        " 1199,\n",
        " -1,\n",
        " -1,\n",
        " -1,\n",
        " -1,\n",
        " -1,\n",
        " 93945548,\n",
        " 75280058,\n",
        " 44277350,\n",
        " 10091671,\n",
        " 64997188,\n",
        " 90485233,\n",
        " 31806100,\n",
        " 25450527,\n",
        " 17231291,\n",
        " 8742261,\n",
        " 753515,\n",
        " -1,\n",
        " 454149,\n",
        " -1,\n",
        " 685484,\n",
        " 500154,\n",
        " 352810,\n",
        " 168945,\n",
        " 115605,\n",
        " 10068,\n",
        " 10068,\n",
        " -1,\n",
        " -1,\n",
        " -1,\n",
        " -1,\n",
        " 115504,\n",
        " -1,\n",
        " -1,\n",
        " -1,\n",
        " -1,\n",
        " -1,\n",
        " 198351526,\n",
        " 107509799,\n",
        " 79948113,\n",
        " 64167069,\n",
        " 67128202,\n",
        " 42057340,\n",
        " 71109289,\n",
        " 55325526,\n",
        " 40559930,\n",
        " 7913976,\n",
        " 10991381,\n",
        " 12232937,\n",
        " 2534351,\n",
        " -1,\n",
        " -1,\n",
        " -1,\n",
        " -1,\n",
        " -1,\n",
        " 15423,\n",
        " -1,\n",
        " -1,\n",
        " 124870275,\n",
        " -1,\n",
        " -1,\n",
        " 155064265,\n",
        " 179883157,\n",
        " 79566871,\n",
        " 37017955,\n",
        " 52236131,\n",
        " 31670931,\n",
        " 13630226,\n",
        " 23930794,\n",
        " -1,\n",
        " 16025394,\n",
        " -1,\n",
        " 2684051,\n",
        " -1,\n",
        " 300000,\n",
        " -1,\n",
        " 23190,\n",
        " 11410,\n",
        " 132390,\n",
        " -1,\n",
        " -1,\n",
        " -1,\n",
        " -1,\n",
        " -1,\n",
        " 257704099,\n",
        " 133375846,\n",
        " 163900057,\n",
        " 125320003,\n",
        " 177233619,\n",
        " -1,\n",
        " -1,\n",
        " -1,\n",
        " -1,\n",
        " -1,\n",
        " -1,\n",
        " -1,\n",
        " -1,\n",
        " -1,\n",
        " -1,\n",
        " -1,\n",
        " -1,\n",
        " 402111870,\n",
        " 277322503,\n",
        " 96344690,\n",
        " 196519585,\n",
        " 65247655,\n",
        " 49392095,\n",
        " 43337279,\n",
        " 49185998,\n",
        " 922906,\n",
        " 302703,\n",
        " 302703,\n",
        " 416591,\n",
        " 101543,\n",
        " -1,\n",
        " 285848,\n",
        " -1,\n",
        " -1,\n",
        " -1,\n",
        " -1,\n",
        " 16088610,\n",
        " -1,\n",
        " 301959197,\n",
        " 88915214,\n",
        " 51855045,\n",
        " 51855045,\n",
        " 41573740,\n",
        " 32391374,\n",
        " 2425386,\n",
        " 78182,\n",
        " 7706394,\n",
        " 5009677,\n",
        " 2277396,\n",
        " 1269361,\n",
        " 32728,\n",
        " -1,\n",
        " -1,\n",
        " -1,\n",
        " -1,\n",
        " -1,\n",
        " 869730,\n",
        " 869730,\n",
        " -1,\n",
        " -1,\n",
        " -1,\n",
        " -1,\n",
        " 15973,\n",
        " -1,\n",
        " -1,\n",
        " -1,\n",
        " -1,\n",
        " 120540719,\n",
        " 150010209,\n",
        " 115502313,\n",
        " 66436248,\n",
        " 63414846,\n",
        " 6390014,\n",
        " 19664021,\n",
        " 13248477,\n",
        " 20916309,\n",
        " 1286143,\n",
        " 6373693,\n",
        " 5205343,\n",
        " 2475970,\n",
        " 1607276,\n",
        " 219719,\n",
        " 9609,\n",
        " 4542,\n",
        " 110029,\n",
        " -1,\n",
        " -1,\n",
        " -1,\n",
        " -1,\n",
        " -1,\n",
        " -1,\n",
        " -1,\n",
        " -1,\n",
        " -1,\n",
        " -1,\n",
        " -1,\n",
        " -1,\n",
        " -1,\n",
        " -1,\n",
        " 293004164,\n",
        " 124870275,\n",
        " 107918810,\n",
        " 109176215,\n",
        " 83813460,\n",
        " 38542418,\n",
        " 6942564,\n",
        " 38105077,\n",
        " 30101577,\n",
        " 20488579,\n",
        " 33860010,\n",
        " 33313582,\n",
        " 18439082,\n",
        " 332816,\n",
        " 4806750,\n",
        " 16195523,\n",
        " 24805,\n",
        " 10275638,\n",
        " 10814185,\n",
        " 3074838,\n",
        " 4360548,\n",
        " -1,\n",
        " 1425993,\n",
        " 68009,\n",
        " -1,\n",
        " 274385,\n",
        " 210625,\n",
        " -1,\n",
        " 80172,\n",
        " 50076,\n",
        " -1,\n",
        " -1,\n",
        " -1,\n",
        " -1,\n",
        " 90820,\n",
        " -1,\n",
        " -1,\n",
        " -1,\n",
        " -1,\n",
        " -1,\n",
        " 1602045,\n",
        " 166112167,\n",
        " 73343413,\n",
        " 75590286,\n",
        " 77222184,\n",
        " 27445118,\n",
        " 19548064,\n",
        " 617840,\n",
        " 13698390,\n",
        " -1,\n",
        " 14241034,\n",
        " 1260917,\n",
        " 710487,\n",
        " -1,\n",
        " 184952,\n",
        " -1,\n",
        " 278821,\n",
        " 400654,\n",
        " 140987,\n",
        " -1,\n",
        " -1,\n",
        " -1,\n",
        " 112313,\n",
        " -1,\n",
        " -1,\n",
        " 595,\n",
        " 32363,\n",
        " 7306,\n",
        " -1,\n",
        " -1,\n",
        " 296623634,\n",
        " 255959475,\n",
        " 137850096,\n",
        " 42086887,\n",
        " 49474048,\n",
        " 32416109,\n",
        " 47395661,\n",
        " 25360255,\n",
        " 8104518,\n",
        " -1,\n",
        " 10244070,\n",
        " 5186974,\n",
        " 4444637,\n",
        " 1108684,\n",
        " -1,\n",
        " 25931,\n",
        " -1,\n",
        " 944979,\n",
        " -1,\n",
        " -1,\n",
        " -1,\n",
        " -1,\n",
        " -1,\n",
        " -1,\n",
        " -1,\n",
        " 280343,\n",
        " 5004648,\n",
        " -1,\n",
        " 209028679,\n",
        " 219613391,\n",
        " 760507625,\n",
        " 112703470,\n",
        " 37479778,\n",
        " 104400899,\n",
        " 43818839,\n",
        " 29580087,\n",
        " 6532908,\n",
        " 7689607,\n",
        " 19664021,\n",
        " 39462438,\n",
        " 15988876,\n",
        " -1,\n",
        " -1,\n",
        " -1,\n",
        " -1,\n",
        " -1,\n",
        " 46451,\n",
        " -1,\n",
        " -1,\n",
        " -1,\n",
        " 94822707,\n",
        " 43290977,\n",
        " 40168080,\n",
        " 32669555,\n",
        " 12561,\n",
        " -1,\n",
        " 19406406,\n",
        " 11854694,\n",
        " 3290582,\n",
        " 215576,\n",
        " 187716,\n",
        " 64438,\n",
        " -1,\n",
        " 11108,\n",
        " -1,\n",
        " 11175,\n",
        " -1,\n",
        " -1,\n",
        " -1,\n",
        " -1,\n",
        " -1,\n",
        " 128012934,\n",
        " 88761720,\n",
        " 110476776,\n",
        " 39103378,\n",
        " 15541549,\n",
        " 23979741,\n",
        " 44867349,\n",
        " -1,\n",
        " -1,\n",
        " -1,\n",
        " -1,\n",
        " 246177,\n",
        " -1,\n",
        " 82172,\n",
        " 4018695,\n",
        " 80014842,\n",
        " -1,\n",
        " -1,\n",
        " -1,\n",
        " 48132,\n",
        " -1,\n",
        " -1,\n",
        " -1,\n",
        " 217581231,\n",
        " 35024475,\n",
        " 28995450,\n",
        " 50213619,\n",
        " 31584722,\n",
        " 504030,\n",
        " 13794835,\n",
        " -1,\n",
        " 4216789,\n",
        " 3571735,\n",
        " -1,\n",
        " 1508642,\n",
        " 67061228,\n",
        " 112036,\n",
        " 10822,\n",
        " 37543,\n",
        " 37543,\n",
        " -1,\n",
        " -1,\n",
        " 62950384,\n",
        " -1,\n",
        " -1,\n",
        " -1,\n",
        " 163214888,\n",
        " 98711404,\n",
        " 63059655,\n",
        " 48043505,\n",
        " 37481242,\n",
        " 60072596,\n",
        " 17596256,\n",
        " 312433331,\n",
        " 23580735,\n",
        " 122288,\n",
        " 1089445,\n",
        " 117190,\n",
        " -1,\n",
        " 90275,\n",
        " 23859,\n",
        " -1,\n",
        " -1,\n",
        " 3898,\n",
        " -1,\n",
        " -1,\n",
        " -1,\n",
        " -1,\n",
        " -1,\n",
        " -1,\n",
        " -1,\n",
        " 6994,\n",
        " -1,\n",
        " 238371987,\n",
        " 312433331,\n",
        " 90759676,\n",
        " 105269730,\n",
        " 95328937,\n",
        " 27758465,\n",
        " 3954651,\n",
        " 21520719,\n",
        " -1,\n",
        " 8460995,\n",
        " -1,\n",
        " 301527,\n",
        " 4074023,\n",
        " 883887,\n",
        " 382946,\n",
        " 355044,\n",
        " 98017,\n",
        " 20728,\n",
        " 25866,\n",
        " -1,\n",
        " -1,\n",
        " -1,\n",
        " 28808,\n",
        " -1,\n",
        " -1,\n",
        " 5457,\n",
        " 414806932,\n",
        " 176591618,\n",
        " 131564731,\n",
        " 300531751,\n",
        " 76418654,\n",
        " 77222099,\n",
        " 47000485,\n",
        " 60923325,\n",
        " 6531503,\n",
        " 10539414,\n",
        " 1330894,\n",
        " 92401,\n",
        " 22554,\n",
        " 35456,\n",
        " 31649,\n",
        " 48430,\n",
        " 5980,\n",
        " -1,\n",
        " -1,\n",
        " -1,\n",
        " -1,\n",
        " -1,\n",
        " 292576195,\n",
        " 251513985,\n",
        " 118311368,\n",
        " 63150991,\n",
        " 52000688,\n",
        " 72980108,\n",
        " -1,\n",
        " 20803237,\n",
        " 531806,\n",
        " 453079,\n",
        " 178174,\n",
        " 56705,\n",
        " 7351,\n",
        " -1,\n",
        " -1,\n",
        " 425899,\n",
        " -1,\n",
        " -1,\n",
        " -1,\n",
        " -1,\n",
        " -1,\n",
        " -1,\n",
        " 80574010,\n",
        " 119219978,\n",
        " 36658108,\n",
        " 35606376,\n",
        " 31494270,\n",
        " 57744720,\n",
        " 26589953,\n",
        " 754836,\n",
        " -1,\n",
        " -1,\n",
        " 2014922,\n",
        " -1,\n",
        " -1,\n",
        " 19219,\n",
        " -1,\n",
        " 138795342,\n",
        " 60128566,\n",
        " 96917897,\n",
        " 92173235,\n",
        " 55673333,\n",
        " 52474616,\n",
        " 54009150,\n",
        " 58401464,\n",
        " 2500000,\n",
        " 31177548,\n",
        " 17804299,\n",
        " 25077977,\n",
        " 25677801,\n",
        " 12134420,\n",
        " 2701859,\n",
        " 1028658,\n",
        " 802524,\n",
        " 11538204,\n",
        " 2434652,\n",
        " 98986,\n",
        " 6857096,\n",
        " 5790894,\n",
        " -1,\n",
        " 5234785,\n",
        " 466702,\n",
        " 3234373,\n",
        " 977600,\n",
        " 617334,\n",
        " 535249,\n",
        " 538808,\n",
        " -1,\n",
        " 330533,\n",
        " 166770,\n",
        " 117623,\n",
        " 100675,\n",
        " 77247,\n",
        " 4115,\n",
        " 62000,\n",
        " 48398,\n",
        " 61759,\n",
        " 18469,\n",
        " 11848,\n",
        " 10908,\n",
        " 10474,\n",
        " -1,\n",
        " -1,\n",
        " -1,\n",
        " 84752907,\n",
        " 53358964,\n",
        " 90356857,\n",
        " 59699513,\n",
        " 40990055,\n",
        " 32741596,\n",
        " 7691700,\n",
        " 1796024,\n",
        " 6350058,\n",
        " 4439063,\n",
        " 1183354,\n",
        " 4833,\n",
        " 4311834,\n",
        " 2711210,\n",
        " 2592808,\n",
        " 1752214,\n",
        " -1,\n",
        " -1,\n",
        " -1,\n",
        " 152857,\n",
        " 28200,\n",
        " 21268,\n",
        " -1,\n",
        " -1,\n",
        " -1,\n",
        " 34502,\n",
        " 116478,\n",
        " 2560,\n",
        " 13698390,\n",
        " 110507,\n",
        " -1,\n",
        " -1,\n",
        " 294915214,\n",
        " 200821936,\n",
        " 100539043,\n",
        " 32357532,\n",
        " 39440655,\n",
        " 81562942,\n",
        " 148415853,\n",
        " 30993544,\n",
        " 21129348,\n",
        " 37721949,\n",
        " 18335230,\n",
        " 23240020,\n",
        " 3205244,\n",
        " 1586652,\n",
        " -1,\n",
        " 427628,\n",
        " 340917,\n",
        " -1,\n",
        " 187540,\n",
        " 20960,\n",
        " -1,\n",
        " -1,\n",
        " 104383624,\n",
        " 172062763,\n",
        " 106952327,\n",
        " 148383780,\n",
        " 67631157,\n",
        " 171031347,\n",
        " 42776259,\n",
        " 100169068,\n",
        " 30212620,\n",
        " 20218921,\n",
        " 14637490,\n",
        " 9706328,\n",
        " 5664251,\n",
        " -1,\n",
        " 7497871,\n",
        " 2221809,\n",
        " -1,\n",
        " 371352,\n",
        " -1,\n",
        " 277943,\n",
        " 28772,\n",
        " -1,\n",
        " -1,\n",
        " 98780042,\n",
        " 99967670,\n",
        " 70662220,\n",
        " 24794249,\n",
        " 48430355,\n",
        " 29121498,\n",
        " 27854896,\n",
        " 33037754,\n",
        " 46412041,\n",
        " -1,\n",
        " 3016244,\n",
        " 2959,\n",
        " 2959,\n",
        " -1,\n",
        " -1,\n",
        " -1,\n",
        " -1,\n",
        " 1337384,\n",
        " 103028109,\n",
        " 55011805,\n",
        " 23070045,\n",
        " 73000942,\n",
        " 37911876,\n",
        " 45045037,\n",
        " -1,\n",
        " 10706786,\n",
        " 19490041,\n",
        " 37300107,\n",
        " 6857503,\n",
        " -1,\n",
        " 2428241,\n",
        " 330048,\n",
        " -1,\n",
        " -1,\n",
        " -1,\n",
        " 123477607,\n",
        " 83441911,\n",
        " 108012170,\n",
        " 79249455,\n",
        " 62495645,\n",
        " 54712227,\n",
        " 37371385,\n",
        " 36392502,\n",
        " 37652565,\n",
        " 57981889,\n",
        " 52691009,\n",
        " 21345454,\n",
        " 13766014,\n",
        " 11242660,\n",
        " 10179275,\n",
        " 6923891,\n",
        " 399611,\n",
        " 322157,\n",
        " 258077,\n",
        " 4821,\n",
        " 404,\n",
        " 1187711,\n",
        " 7098492,\n",
        " -1,\n",
        " -1,\n",
        " -1,\n",
        " -1,\n",
        " 2647,\n",
        " 209837675,\n",
        " 143619809,\n",
        " 169106725,\n",
        " 58700247,\n",
        " 38176892,\n",
        " 40259119,\n",
        " 53311948,\n",
        " 33015696,\n",
        " 43853424,\n",
        " 21596445,\n",
        " 163591,\n",
        " 15415270,\n",
        " 10134754,\n",
        " 10106233,\n",
        " 21509305,\n",
        " 3333823,\n",
        " -1,\n",
        " 638476,\n",
        " 116037,\n",
        " -1,\n",
        " -1,\n",
        " -1,\n",
        " -1,\n",
        " -1,\n",
        " -1,\n",
        " -1,\n",
        " 4106,\n",
        " -1,\n",
        " 128012934,\n",
        " -1,\n",
        " -1,\n",
        " -1,\n",
        " 241071802,\n",
        " 165249063,\n",
        " 181030624,\n",
        " 146408305,\n",
        " 254464305,\n",
        " 29136626,\n",
        " 56816662,\n",
        " 13303319,\n",
        " 1024175,\n",
        " 3029870,\n",
        " 958319,\n",
        " 703002,\n",
        " -1,\n",
        " 15002,\n",
        " 58764,\n",
        " 31135,\n",
        " 37295394,\n",
        " 298781,\n",
        " 1738692,\n",
        " -1,\n",
        " 352390543,\n",
        " 191450875,\n",
        " 127004179,\n",
        " 116601172,\n",
        " 100292856,\n",
        " 68218041,\n",
        " 35565975,\n",
        " 1531757,\n",
        " 23186769,\n",
        " 15000994,\n",
        " 153369,\n",
        " 497252,\n",
        " 1759252,\n",
        " 1759252,\n",
        " 1429260,\n",
        " 1067028,\n",
        " 4023123,\n",
        " 267473,\n",
        " 653578,\n",
        " 119697,\n",
        " 247091,\n",
        " 311454,\n",
        " 58840,\n",
        " 40294,\n",
        " 1486,\n",
        " 1378,\n",
        " -1,\n",
        " 542,\n",
        " -1,\n",
        " -1,\n",
        " -1,\n",
        " 381011219,\n",
        " 176654505,\n",
        " 100240551,\n",
        " 55802754,\n",
        " 84351197,\n",
        " 142614158,\n",
        " 80360866,\n",
        " 345125,\n",
        " 26687172,\n",
        " 177802,\n",
        " 5359774,\n",
        " 1316074,\n",
        " 1348205,\n",
        " 1357042,\n",
        " 5176,\n",
        " 282448,\n",
        " 247215,\n",
        " 127437,\n",
        " 117538559,\n",
        " 410077,\n",
        " 176740650,\n",
        " 42575718,\n",
        " 169708112,\n",
        " 37081475,\n",
        " 36665854,\n",
        " 251200,\n",
        " 21270904,\n",
        " 37053924,\n",
        " 24814830,\n",
        " 11860839,\n",
        " -1,\n",
        " 167242,\n",
        " 1098,\n",
        " 27012,\n",
        " -1,\n",
        " -1,\n",
        " -1,\n",
        " 8269105,\n",
        " 75605492,\n",
        " 28064226,\n",
        " 35060689,\n",
        " 72279690,\n",
        " 25093607,\n",
        " 35014192,\n",
        " -1,\n",
        " 14008193,\n",
        " 17686929,\n",
        " 399429,\n",
        " 7250054,\n",
        " 142242,\n",
        " 18872522,\n",
        " 9025107,\n",
        " 64327,\n",
        " 3185193,\n",
        " 4244155,\n",
        " 4168144,\n",
        " 538690,\n",
        " 1038733,\n",
        " 539896,\n",
        " 364875,\n",
        " 163141,\n",
        " 122029,\n",
        " 96889,\n",
        " 22099,\n",
        " 17011,\n",
        " 17011,\n",
        " 75658097,\n",
        " 11819,\n",
        " 3342,\n",
        " -1,\n",
        " -1,\n",
        " -1,\n",
        " 18005,\n",
        " -1,\n",
        " 69136,\n",
        " 149234747,\n",
        " 85463309,\n",
        " 104007828,\n",
        " 37553932,\n",
        " 20374484,\n",
        " 40962534,\n",
        " 16928670,\n",
        " 13100042,\n",
        " 5355847,\n",
        " 5354039,\n",
        " 1201,\n",
        " 3388210,\n",
        " 302652,\n",
        " 45282,\n",
        " 7204138,\n",
        " -1,\n",
        " 256,\n",
        " -1,\n",
        " -1,\n",
        " 27503,\n",
        " 83504017,\n",
        " 73820094,\n",
        " 63992328,\n",
        " 88625922,\n",
        " 37304950,\n",
        " 35033759,\n",
        " 10759,\n",
        " 1729969,\n",
        " 46412041,\n",
        " 985912,\n",
        " 46440491,\n",
        " -1,\n",
        " 58877969,\n",
        " 155136755,\n",
        " -1,\n",
        " -1,\n",
        " 209397903,\n",
        " 77564037,\n",
        " 133103929,\n",
        " 186764258,\n",
        " 79884879,\n",
        " 51774002,\n",
        " 75621915,\n",
        " 30004924,\n",
        " 102515793,\n",
        " 311434,\n",
        " 51580236,\n",
        " 18942396,\n",
        " 30538669,\n",
        " 3520458,\n",
        " 303877,\n",
        " 54712227,\n",
        " -1,\n",
        " -1,\n",
        " 62321039,\n",
        " 66528000,\n",
        " 1981605,\n",
        " 26414527,\n",
        " 18600911,\n",
        " 756452,\n",
        " -1,\n",
        " 138634,\n",
        " 47718,\n",
        " 30920167,\n",
        " 3968,\n",
        " -1,\n",
        " 103812241,\n",
        " 126373434,\n",
        " 64572496,\n",
        " 20502,\n",
        " 19966230,\n",
        " 19966230,\n",
        " -1,\n",
        " -1,\n",
        " 125014030,\n",
        " -1,\n",
        " -1,\n",
        " 408010692,\n",
        " 83670083,\n",
        " 73078100,\n",
        " 64933670,\n",
        " 54731865,\n",
        " 138447667,\n",
        " -1,\n",
        " 18438149,\n",
        " -1,\n",
        " 12555230]"
       ]
      }
     ],
     "prompt_number": 20
    },
    {
     "cell_type": "code",
     "collapsed": false,
     "input": [
      "MovieTable[\"BoxOffice\"] = gross_list"
     ],
     "language": "python",
     "metadata": {},
     "outputs": [],
     "prompt_number": 21
    },
    {
     "cell_type": "code",
     "collapsed": false,
     "input": [
      "MovieTable.tail()"
     ],
     "language": "python",
     "metadata": {},
     "outputs": [
      {
       "html": [
        "<div style=\"max-height:1000px;max-width:1500px;overflow:auto;\">\n",
        "<table border=\"1\" class=\"dataframe\">\n",
        "  <thead>\n",
        "    <tr style=\"text-align: right;\">\n",
        "      <th></th>\n",
        "      <th>Audience_rating</th>\n",
        "      <th>Cast</th>\n",
        "      <th>Critic_rating</th>\n",
        "      <th>Director</th>\n",
        "      <th>Genre</th>\n",
        "      <th>ID</th>\n",
        "      <th>Movie</th>\n",
        "      <th>Release</th>\n",
        "      <th>Review</th>\n",
        "      <th>imdb</th>\n",
        "      <th>weblink</th>\n",
        "      <th>BoxOffice</th>\n",
        "    </tr>\n",
        "  </thead>\n",
        "  <tbody>\n",
        "    <tr>\n",
        "      <th>7447</th>\n",
        "      <td> 47</td>\n",
        "      <td> [{u'name': u'Jessica Chastain', u'characters':...</td>\n",
        "      <td> 80</td>\n",
        "      <td>                         [{u'name': u'Al Pacino'}]</td>\n",
        "      <td> [Documentary, Drama, Musical &amp; Performing Arts...</td>\n",
        "      <td> 771167324</td>\n",
        "      <td>  Wilde Salome</td>\n",
        "      <td> 2013-10-25</td>\n",
        "      <td> http://api.rottentomatoes.com/api/public/v1.0/...</td>\n",
        "      <td> 0795459</td>\n",
        "      <td>     http://www.rottentomatoes.com/m/wilde_salome/</td>\n",
        "      <td>      -1</td>\n",
        "    </tr>\n",
        "    <tr>\n",
        "      <th>7448</th>\n",
        "      <td> 47</td>\n",
        "      <td> [{u'name': u'Jessica Chastain', u'characters':...</td>\n",
        "      <td> 80</td>\n",
        "      <td>                         [{u'name': u'Al Pacino'}]</td>\n",
        "      <td> [Documentary, Drama, Musical &amp; Performing Arts...</td>\n",
        "      <td> 771167324</td>\n",
        "      <td>  Wilde Salome</td>\n",
        "      <td> 2013-10-25</td>\n",
        "      <td> http://api.rottentomatoes.com/api/public/v1.0/...</td>\n",
        "      <td> 0795459</td>\n",
        "      <td>     http://www.rottentomatoes.com/m/wilde_salome/</td>\n",
        "      <td>      -1</td>\n",
        "    </tr>\n",
        "    <tr>\n",
        "      <th>7449</th>\n",
        "      <td> 86</td>\n",
        "      <td> [{u'name': u'Philip Steadman', u'id': u'771455...</td>\n",
        "      <td> 89</td>\n",
        "      <td> [{u'name': u'Teller'}, {u'name': u'Raymond Jos...</td>\n",
        "      <td>            [Documentary, Drama, Special Interest]</td>\n",
        "      <td> 771363015</td>\n",
        "      <td> Tim's Vermeer</td>\n",
        "      <td> 2014-01-31</td>\n",
        "      <td> http://api.rottentomatoes.com/api/public/v1.0/...</td>\n",
        "      <td> 3089388</td>\n",
        "      <td> http://www.rottentomatoes.com/m/tims_vermeer_2...</td>\n",
        "      <td> 1655654</td>\n",
        "    </tr>\n",
        "    <tr>\n",
        "      <th>7450</th>\n",
        "      <td>  0</td>\n",
        "      <td> [{u'name': u'Brendan Sexton III', u'characters...</td>\n",
        "      <td> -1</td>\n",
        "      <td>            [{u'name': u'Edward \"Teddy\" Schenck'}]</td>\n",
        "      <td>                       [Mystery &amp; Suspense, Drama]</td>\n",
        "      <td> 771364879</td>\n",
        "      <td>            7E</td>\n",
        "      <td> 2013-12-09</td>\n",
        "      <td> http://api.rottentomatoes.com/api/public/v1.0/...</td>\n",
        "      <td> 1477185</td>\n",
        "      <td>               http://www.rottentomatoes.com/m/7e/</td>\n",
        "      <td>      -1</td>\n",
        "    </tr>\n",
        "    <tr>\n",
        "      <th>7451</th>\n",
        "      <td> 37</td>\n",
        "      <td> [{u'name': u'David Denman', u'characters': [u'...</td>\n",
        "      <td> -1</td>\n",
        "      <td>                        [{u'name': u'Brian Jett'}]</td>\n",
        "      <td>                                          [Comedy]</td>\n",
        "      <td> 771304592</td>\n",
        "      <td>        Let Go</td>\n",
        "      <td> 2012-08-21</td>\n",
        "      <td> http://api.rottentomatoes.com/api/public/v1.0/...</td>\n",
        "      <td> 1674776</td>\n",
        "      <td>      http://www.rottentomatoes.com/m/let_go_2012/</td>\n",
        "      <td>      -1</td>\n",
        "    </tr>\n",
        "  </tbody>\n",
        "</table>\n",
        "</div>"
       ],
       "metadata": {},
       "output_type": "pyout",
       "prompt_number": 23,
       "text": [
        "      Audience_rating                                               Cast  \\\n",
        "7447               47  [{u'name': u'Jessica Chastain', u'characters':...   \n",
        "7448               47  [{u'name': u'Jessica Chastain', u'characters':...   \n",
        "7449               86  [{u'name': u'Philip Steadman', u'id': u'771455...   \n",
        "7450                0  [{u'name': u'Brendan Sexton III', u'characters...   \n",
        "7451               37  [{u'name': u'David Denman', u'characters': [u'...   \n",
        "\n",
        "      Critic_rating                                           Director  \\\n",
        "7447             80                          [{u'name': u'Al Pacino'}]   \n",
        "7448             80                          [{u'name': u'Al Pacino'}]   \n",
        "7449             89  [{u'name': u'Teller'}, {u'name': u'Raymond Jos...   \n",
        "7450             -1             [{u'name': u'Edward \"Teddy\" Schenck'}]   \n",
        "7451             -1                         [{u'name': u'Brian Jett'}]   \n",
        "\n",
        "                                                  Genre         ID  \\\n",
        "7447  [Documentary, Drama, Musical & Performing Arts...  771167324   \n",
        "7448  [Documentary, Drama, Musical & Performing Arts...  771167324   \n",
        "7449             [Documentary, Drama, Special Interest]  771363015   \n",
        "7450                        [Mystery & Suspense, Drama]  771364879   \n",
        "7451                                           [Comedy]  771304592   \n",
        "\n",
        "              Movie     Release  \\\n",
        "7447   Wilde Salome  2013-10-25   \n",
        "7448   Wilde Salome  2013-10-25   \n",
        "7449  Tim's Vermeer  2014-01-31   \n",
        "7450             7E  2013-12-09   \n",
        "7451         Let Go  2012-08-21   \n",
        "\n",
        "                                                 Review     imdb  \\\n",
        "7447  http://api.rottentomatoes.com/api/public/v1.0/...  0795459   \n",
        "7448  http://api.rottentomatoes.com/api/public/v1.0/...  0795459   \n",
        "7449  http://api.rottentomatoes.com/api/public/v1.0/...  3089388   \n",
        "7450  http://api.rottentomatoes.com/api/public/v1.0/...  1477185   \n",
        "7451  http://api.rottentomatoes.com/api/public/v1.0/...  1674776   \n",
        "\n",
        "                                                weblink  BoxOffice  \n",
        "7447      http://www.rottentomatoes.com/m/wilde_salome/         -1  \n",
        "7448      http://www.rottentomatoes.com/m/wilde_salome/         -1  \n",
        "7449  http://www.rottentomatoes.com/m/tims_vermeer_2...    1655654  \n",
        "7450                http://www.rottentomatoes.com/m/7e/         -1  \n",
        "7451       http://www.rottentomatoes.com/m/let_go_2012/         -1  "
       ]
      }
     ],
     "prompt_number": 23
    },
    {
     "cell_type": "code",
     "collapsed": false,
     "input": [
      "index_list = []\n",
      "for i in xrange(len(gross_list)):\n",
      "    if gross_list[i] != -1:\n",
      "        index_list.append(i)"
     ],
     "language": "python",
     "metadata": {},
     "outputs": [],
     "prompt_number": 25
    },
    {
     "cell_type": "code",
     "collapsed": false,
     "input": [
      "newMovieTable = MovieTable.iloc[index_list]"
     ],
     "language": "python",
     "metadata": {},
     "outputs": [],
     "prompt_number": 60
    },
    {
     "cell_type": "code",
     "collapsed": false,
     "input": [
      "newMovieTable.head()"
     ],
     "language": "python",
     "metadata": {},
     "outputs": [
      {
       "html": [
        "<div style=\"max-height:1000px;max-width:1500px;overflow:auto;\">\n",
        "<table border=\"1\" class=\"dataframe\">\n",
        "  <thead>\n",
        "    <tr style=\"text-align: right;\">\n",
        "      <th></th>\n",
        "      <th>Audience_rating</th>\n",
        "      <th>Cast</th>\n",
        "      <th>Critic_rating</th>\n",
        "      <th>Director</th>\n",
        "      <th>Genre</th>\n",
        "      <th>ID</th>\n",
        "      <th>Movie</th>\n",
        "      <th>Release</th>\n",
        "      <th>Review</th>\n",
        "      <th>imdb</th>\n",
        "      <th>weblink</th>\n",
        "      <th>BoxOffice</th>\n",
        "    </tr>\n",
        "  </thead>\n",
        "  <tbody>\n",
        "    <tr>\n",
        "      <th>7 </th>\n",
        "      <td> 100</td>\n",
        "      <td> [{u'name': u'Kathleen Lasky', u'id': u'7707843...</td>\n",
        "      <td>  -1</td>\n",
        "      <td> [{u'name': u'Steven Hilliard'}]</td>\n",
        "      <td>        [Mystery &amp; Suspense, Horror]</td>\n",
        "      <td> 770738871</td>\n",
        "      <td>                              Love And Murder</td>\n",
        "      <td> 1991-06-01</td>\n",
        "      <td> http://api.rottentomatoes.com/api/public/v1.0/...</td>\n",
        "      <td> 0104763</td>\n",
        "      <td>  http://www.rottentomatoes.com/m/love_and_murder/</td>\n",
        "      <td>    7745</td>\n",
        "    </tr>\n",
        "    <tr>\n",
        "      <th>10</th>\n",
        "      <td>  33</td>\n",
        "      <td> [{u'name': u'Kate Hodge', u'characters': [u'Mi...</td>\n",
        "      <td>  19</td>\n",
        "      <td>       [{u'name': u'Jeff Burr'}]</td>\n",
        "      <td>                            [Horror]</td>\n",
        "      <td>  56788266</td>\n",
        "      <td> Leatherface: The Texas Chainsaw Massacre III</td>\n",
        "      <td> 1990-01-12</td>\n",
        "      <td> http://api.rottentomatoes.com/api/public/v1.0/...</td>\n",
        "      <td> 0099994</td>\n",
        "      <td> http://www.rottentomatoes.com/m/leatherface_th...</td>\n",
        "      <td> 1115025</td>\n",
        "    </tr>\n",
        "    <tr>\n",
        "      <th>14</th>\n",
        "      <td>  77</td>\n",
        "      <td> [{u'name': u'Michel Piccoli', u'characters': [...</td>\n",
        "      <td> 100</td>\n",
        "      <td>     [{u'name': u'Louis Malle'}]</td>\n",
        "      <td> [Art House &amp; International, Comedy]</td>\n",
        "      <td> 335718171</td>\n",
        "      <td>                     May Fools (Milou En Mai)</td>\n",
        "      <td> 1989-01-01</td>\n",
        "      <td> http://api.rottentomatoes.com/api/public/v1.0/...</td>\n",
        "      <td> 0097884</td>\n",
        "      <td>        http://www.rottentomatoes.com/m/may_fools/</td>\n",
        "      <td> 1576702</td>\n",
        "    </tr>\n",
        "    <tr>\n",
        "      <th>22</th>\n",
        "      <td>  47</td>\n",
        "      <td> [{u'name': u'Olivier Gruner', u'characters': [...</td>\n",
        "      <td>  -1</td>\n",
        "      <td>     [{u'name': u'Eric Karson'}]</td>\n",
        "      <td>         [Drama, Action &amp; Adventure]</td>\n",
        "      <td> 770687021</td>\n",
        "      <td>                                   Angel Town</td>\n",
        "      <td> 1989-06-01</td>\n",
        "      <td> http://api.rottentomatoes.com/api/public/v1.0/...</td>\n",
        "      <td> 0099039</td>\n",
        "      <td>       http://www.rottentomatoes.com/m/angel_town/</td>\n",
        "      <td>  855810</td>\n",
        "    </tr>\n",
        "    <tr>\n",
        "      <th>41</th>\n",
        "      <td>  52</td>\n",
        "      <td> [{u'name': u'Rutger Hauer', u'characters': [u'...</td>\n",
        "      <td>  58</td>\n",
        "      <td>   [{u'name': u'Phillip Noyce'}]</td>\n",
        "      <td>                [Action &amp; Adventure]</td>\n",
        "      <td>     14463</td>\n",
        "      <td>                                   Blind Fury</td>\n",
        "      <td> 1990-03-16</td>\n",
        "      <td> http://api.rottentomatoes.com/api/public/v1.0/...</td>\n",
        "      <td> 0096945</td>\n",
        "      <td>       http://www.rottentomatoes.com/m/blind_fury/</td>\n",
        "      <td> 2692037</td>\n",
        "    </tr>\n",
        "  </tbody>\n",
        "</table>\n",
        "</div>"
       ],
       "metadata": {},
       "output_type": "pyout",
       "prompt_number": 61,
       "text": [
        "    Audience_rating                                               Cast  \\\n",
        "7               100  [{u'name': u'Kathleen Lasky', u'id': u'7707843...   \n",
        "10               33  [{u'name': u'Kate Hodge', u'characters': [u'Mi...   \n",
        "14               77  [{u'name': u'Michel Piccoli', u'characters': [...   \n",
        "22               47  [{u'name': u'Olivier Gruner', u'characters': [...   \n",
        "41               52  [{u'name': u'Rutger Hauer', u'characters': [u'...   \n",
        "\n",
        "    Critic_rating                         Director  \\\n",
        "7              -1  [{u'name': u'Steven Hilliard'}]   \n",
        "10             19        [{u'name': u'Jeff Burr'}]   \n",
        "14            100      [{u'name': u'Louis Malle'}]   \n",
        "22             -1      [{u'name': u'Eric Karson'}]   \n",
        "41             58    [{u'name': u'Phillip Noyce'}]   \n",
        "\n",
        "                                  Genre         ID  \\\n",
        "7          [Mystery & Suspense, Horror]  770738871   \n",
        "10                             [Horror]   56788266   \n",
        "14  [Art House & International, Comedy]  335718171   \n",
        "22          [Drama, Action & Adventure]  770687021   \n",
        "41                 [Action & Adventure]      14463   \n",
        "\n",
        "                                           Movie     Release  \\\n",
        "7                                Love And Murder  1991-06-01   \n",
        "10  Leatherface: The Texas Chainsaw Massacre III  1990-01-12   \n",
        "14                      May Fools (Milou En Mai)  1989-01-01   \n",
        "22                                    Angel Town  1989-06-01   \n",
        "41                                    Blind Fury  1990-03-16   \n",
        "\n",
        "                                               Review     imdb  \\\n",
        "7   http://api.rottentomatoes.com/api/public/v1.0/...  0104763   \n",
        "10  http://api.rottentomatoes.com/api/public/v1.0/...  0099994   \n",
        "14  http://api.rottentomatoes.com/api/public/v1.0/...  0097884   \n",
        "22  http://api.rottentomatoes.com/api/public/v1.0/...  0099039   \n",
        "41  http://api.rottentomatoes.com/api/public/v1.0/...  0096945   \n",
        "\n",
        "                                              weblink  BoxOffice  \n",
        "7    http://www.rottentomatoes.com/m/love_and_murder/       7745  \n",
        "10  http://www.rottentomatoes.com/m/leatherface_th...    1115025  \n",
        "14         http://www.rottentomatoes.com/m/may_fools/    1576702  \n",
        "22        http://www.rottentomatoes.com/m/angel_town/     855810  \n",
        "41        http://www.rottentomatoes.com/m/blind_fury/    2692037  "
       ]
      }
     ],
     "prompt_number": 61
    },
    {
     "cell_type": "code",
     "collapsed": false,
     "input": [
      "newMovieTable.to_pickle('MovieTableBoxOffice.pkl')"
     ],
     "language": "python",
     "metadata": {},
     "outputs": [],
     "prompt_number": 62
    },
    {
     "cell_type": "code",
     "collapsed": false,
     "input": [
      "newMovieTable.to_csv('MovieTableBoxOffice.csv')"
     ],
     "language": "python",
     "metadata": {},
     "outputs": [],
     "prompt_number": 63
    },
    {
     "cell_type": "code",
     "collapsed": false,
     "input": [],
     "language": "python",
     "metadata": {},
     "outputs": [],
     "prompt_number": 63
    },
    {
     "cell_type": "code",
     "collapsed": false,
     "input": [],
     "language": "python",
     "metadata": {},
     "outputs": []
    }
   ],
   "metadata": {}
  }
 ]
}